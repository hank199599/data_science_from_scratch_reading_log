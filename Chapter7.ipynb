{
  "nbformat": 4,
  "nbformat_minor": 0,
  "metadata": {
    "colab": {
      "name": "Chapter7.ipynb",
      "provenance": [],
      "toc_visible": true,
      "authorship_tag": "ABX9TyNya3w1/5NJ9JQhI4/KcokB",
      "include_colab_link": true
    },
    "kernelspec": {
      "name": "python3",
      "display_name": "Python 3"
    }
  },
  "cells": [
    {
      "cell_type": "markdown",
      "metadata": {
        "id": "view-in-github",
        "colab_type": "text"
      },
      "source": [
        "<a href=\"https://colab.research.google.com/github/hank199599/data_science_from_scratch_reading_log/blob/main/Chapter7.ipynb\" target=\"_parent\"><img src=\"https://colab.research.google.com/assets/colab-badge.svg\" alt=\"Open In Colab\"/></a>"
      ]
    },
    {
      "cell_type": "markdown",
      "metadata": {
        "id": "lStafPDYl3vO"
      },
      "source": [
        "# 統計假設檢定\n",
        "\n",
        "* ## 零假設(H₀,null hypothesis)：表達我們預設的立場\n",
        "* ## 替代假設(H₁,alternative hypothesis)：與預設立場對比的立場\n",
        "\n"
      ]
    },
    {
      "cell_type": "markdown",
      "metadata": {
        "id": "SreADgiunSBS"
      },
      "source": [
        "### 範例：擲硬幣測試\n",
        "假設我們想知道一枚硬幣是否是公正的，假設正面朝上的機率是p：\n",
        "* 零假設(H₀)：認為硬幣是公正的，即p=0.5 \n",
        "* 替代假設(H₁)：認為硬幣是不公正的，即p≠0.5 \n",
        "  \n",
        "**檢定方法**：  \n",
        "丟擲硬幣N次，然後計算正面朝上的次數。\n",
        "而每一次丟擲硬幣都代表一次伯努利測試，則X是一個二項式隨機變數Binomial(n,p)。  \n",
        "因此可以用常態分佈來當作近似結果。  "
      ]
    },
    {
      "cell_type": "code",
      "metadata": {
        "id": "mWyI25qhGPfT"
      },
      "source": [
        "from typing import Tuple\n",
        "import math\n",
        "\n",
        "def normal_approximation_to_binomial(n:int,p:float) -> Tuple[float,float]:\n",
        "  #送回Binominal(n,p)對應的平均值mu和標準差sigma\n",
        "  mu = n*p\n",
        "  sigma = math.sqrt(p*(1-p)*n)\n",
        "  return mu,sigma"
      ],
      "execution_count": 8,
      "outputs": []
    },
    {
      "cell_type": "markdown",
      "metadata": {
        "id": "bzNhCpPBssqV"
      },
      "source": [
        "只要隨機變數確實依循常態分佈，我們就可以用normal_cdf算出其值落在特定區間內(或之外)的機率"
      ]
    },
    {
      "cell_type": "code",
      "metadata": {
        "id": "t7iELfG0zo4D"
      },
      "source": [
        "import math\n",
        "SQRT_TWO_PI = math.sqrt(2* math.pi)\n",
        "\n",
        "# 機率密度函數 (PDF,probability density function)\n",
        "def normal_pdf(x:float,mu:float=0,sigma:float=1) ->float:\n",
        "  return (math.exp(-(x-mu)**2/2/sigma**2)/(SQRT_TWO_PI*sigma))\n",
        "\n",
        "# 累積分佈函數 (CDF,cumulative density function)\n",
        "def normal_cdf(x:float,mu:float=0,sigma:float=1)->float:\n",
        "  return (1+math.erf((x-mu)/math.sqrt(2)/sigma))/2"
      ],
      "execution_count": 9,
      "outputs": []
    },
    {
      "cell_type": "code",
      "metadata": {
        "id": "sqzYpaP8qgp9"
      },
      "source": [
        "# normal_cdf 代表的是變數落在某個門檻值以下的機率\n",
        "normal_probability_below = normal_cdf\n",
        "\n",
        "#若不在門檻值以下，就表示在門檻值以上 \n",
        "def normal_probability_above(lo:float,\n",
        "               mu:float = 0,\n",
        "               sigma:float = 1) ->float:\n",
        "  return 1 - normal_cdf(lo,mu,sigma) # N(mu,sigma)大於lo的機率\n",
        "\n",
        "#若低於 hi 且不低於 lo ，就表示落在區間之內\n",
        "def normal_probability_between(lo:float,\n",
        "               hi:float,\n",
        "               mu:float = 0,\n",
        "               sigma:float = 1) ->float:\n",
        "  return normal_cdf(hi,mu,sigma) - normal_cdf(lo,mu,sigma) # N(mu,sigma)介於 hi 與 lo的機率\n",
        "\n",
        "#若不在區間之內，就表示落在區間之外 \n",
        "def normal_probability_above(lo:float,\n",
        "               mu:float = 0,\n",
        "               sigma:float = 1) ->float:\n",
        "  return 1 - normal_probability_between(lo,hi,mu,sigma) # N(mu,sigma)不介於 hi 與 lo 之間的機率"
      ],
      "execution_count": 10,
      "outputs": []
    },
    {
      "cell_type": "markdown",
      "metadata": {
        "id": "0IGUvPcUtrcZ"
      },
      "source": [
        "或是自機率反推常態分佈中相對應**「非尾區間」(nontail region)**"
      ]
    },
    {
      "cell_type": "code",
      "metadata": {
        "id": "VYaJo2j8z6O0"
      },
      "source": [
        "def inverse_normal_cdf(p:float,\n",
        "            mu:float = 0,\n",
        "            sigma:float=1,\n",
        "            tolerance:float=0.00001) -> float:\n",
        "  # 如果不是標準常態分佈，就先轉換成標準常態分佈\n",
        "  if mu != 0 or sigma != 1:\n",
        "    return mu + sigma*inverse_normal_cdf(p,tolerance = tolerance)\n",
        "  \n",
        "  low_z = -10.0 # normal_cdf(-10)是(趨近於) 0\n",
        "  hi_z =  10.0 # normal_cdf(10)是(趨近於) 1\n",
        "  while hi_z - low_z > tolerance:  \n",
        "    mid_z = (low_z + hi_z) / 2   # 計算出中間值\n",
        "    mid_p = normal_cdf(mid_z)     # 以及累積分佈函數在該處所應對的值\n",
        "    if mid_p < p :\n",
        "      low_z = mid_z        #中間的值太低，就往上繼續搜尋\n",
        "    else:\n",
        "      hi_z = mid_z        #中間的值太高，就往下繼續搜尋\n",
        "  \n",
        "  return mid_z"
      ],
      "execution_count": 11,
      "outputs": []
    },
    {
      "cell_type": "code",
      "metadata": {
        "id": "lmjAGSqmt_bL"
      },
      "source": [
        "\n",
        "#送回一個 z 值，使的 P(Z <= z)等於某機率值\n",
        "def normal_upper_bound(probability:float,\n",
        "            mu:float = 0,\n",
        "            sigma:float = 1) -> float:\n",
        "  \n",
        "  return inverse_normal_cdf(probability,mu,sigma) \n",
        "\n",
        "#送回一個 z 值，使的 P(Z >= z)等於某機率值\n",
        "def normal_lower_bound(probability:float,\n",
        "            mu:float = 0,\n",
        "            sigma:float = 1) -> float:\n",
        "  \n",
        "  return inverse_normal_cdf( 1 - probability,mu,sigma)\n",
        "\n",
        "def normal_two_sided_bounds(probability:float,\n",
        "               mu:float = 0,\n",
        "               sigma:float = 1) -> Tuple[float,float]:\n",
        "  #送回一組(以平均值為中心的)對稱邊界，其中所涵蓋的區域正好等於指定的機率值\n",
        "  tail_probability = ( 1 - probability) /2\n",
        "\n",
        "  #高於上邊界的機率，應恰好等於tail_probabiity\n",
        "  upper_bound = normal_lower_bound(tail_probability,mu,sigma)\n",
        "\n",
        "  #低於上邊界的機率，也應恰好等於tail_probabiity\n",
        "  lower_bound = normal_upper_bound(tail_probability,mu,sigma)\n",
        "\n",
        "  return upper_bound,lower_bound"
      ],
      "execution_count": 29,
      "outputs": []
    },
    {
      "cell_type": "markdown",
      "metadata": {
        "id": "__4cRTOf0CHj"
      },
      "source": [
        "進行測試，假設我們選擇丟擲硬幣n=1000次，如果「硬幣是公正的」這個假設是正確的，  \n",
        "X的分布應該就會趨近於平均值500、標準差15.8的常態分佈。"
      ]
    },
    {
      "cell_type": "code",
      "metadata": {
        "colab": {
          "base_uri": "https://localhost:8080/"
        },
        "id": "u3QV2zgV0aLx",
        "outputId": "74e7b16c-1434-4248-cc0b-c7209871778e"
      },
      "source": [
        "mu_0,sigma_0 = normal_approximation_to_binomial(1000,0.5)\n",
        "\n",
        "print(\"平均值:\",mu_0)\n",
        "print(\"標準差:\",sigma_0)"
      ],
      "execution_count": 27,
      "outputs": [
        {
          "output_type": "stream",
          "text": [
            "平均值: 500.0\n",
            "標準差: 15.811388300841896\n"
          ],
          "name": "stdout"
        }
      ]
    },
    {
      "cell_type": "markdown",
      "metadata": {
        "id": "REFYDMxQ0osX"
      },
      "source": [
        "## 顯著性與檢定力\n",
        "\n",
        "|---|實際為真|實際為假|  \n",
        "|---|---|---|\n",
        "|預測為真| 真陽性|偽陽性(type I error)\n",
        "|預測為假| 偽陰性(type II error)|真陰性\n"
      ]
    },
    {
      "cell_type": "markdown",
      "metadata": {
        "id": "UkOjNIsF1Md7"
      },
      "source": [
        "### 顯著性 (significant)\n",
        "允許多大的機率犯下**第一類型錯誤(type I error)**  \n",
        "即 H₀假設為真，但我們卻否決掉它 (假陽性)\n",
        "  \n",
        "通常將允許的機率值設為1%或5%"
      ]
    },
    {
      "cell_type": "code",
      "metadata": {
        "id": "aVdnH0NYYYWM",
        "outputId": "81a9b4bc-a197-462d-8c2d-14e2953f5749",
        "colab": {
          "base_uri": "https://localhost:8080/"
        }
      },
      "source": [
        "#(469,531)\n",
        "mu_0=500\n",
        "sigma_0=15.811388300841896\n",
        "\n",
        "lower_bound,upper_bound = normal_two_sided_bounds(0.95,mu_0,sigma_0)\n",
        "print(\"下界:\",lower_bound)\n",
        "print(\"上界:\",upper_bound)"
      ],
      "execution_count": 31,
      "outputs": [
        {
          "output_type": "stream",
          "text": [
            "下界: 530.9897335951244\n",
            "上界: 469.01026640487555\n"
          ],
          "name": "stdout"
        }
      ]
    },
    {
      "cell_type": "markdown",
      "metadata": {
        "id": "G0BVbr3uYuwb"
      },
      "source": [
        "如果p真的是0.5(即H₀假設為真)，將觀測到的X就應該只有5%的機率會落在此區間之外。  \n",
        "即每做20次檢定，大概就有19次能給出正確的答案。"
      ]
    },
    {
      "cell_type": "markdown",
      "metadata": {
        "id": "P8M1BsWq10FD"
      },
      "source": [
        "### 檢定力 (power)\n",
        "允許多大的機率犯下**第二類型錯誤(type II error)**  \n",
        "即 H₀假設為假，但我們卻沒有否決掉它 (假陰性)\n",
        "  \n",
        "通常將允許的機率值設為1%或5%"
      ]
    },
    {
      "cell_type": "markdown",
      "metadata": {
        "id": "YIFFp2-wZrZe"
      },
      "source": [
        "假設p實際上是0.55，則硬幣的確是較容易擲出正面。"
      ]
    },
    {
      "cell_type": "code",
      "metadata": {
        "id": "8haAc5FGZ3nn",
        "outputId": "e6671149-67bf-4afa-c242-87cfb33aff09",
        "colab": {
          "base_uri": "https://localhost:8080/",
          "height": 233
        }
      },
      "source": [
        "#根據 p = 0.5的零假設，所得到的95%邊界\n",
        "lo,hi = normal_two_sided_bounds(0.95,mu_0,sigma_0)\n",
        "\n",
        "#因為實際上 p = 0.55，可根據此情況算出真實的mu與sigma\n",
        "mu_1,sigma_1 = normal_approaimation_to_binominal(1000,0.55)\n",
        "\n",
        "#第二類型錯誤代表我們應該否決，卻為否決零假設(使其成為偽陰性)\n",
        "type_2_probability = normal_probability_between(li,hi,mu_1,sigma_1)\n",
        "power = 1 - type_2_probability  #0.8887,這就是「不」犯下第二類錯誤的機率"
      ],
      "execution_count": 2,
      "outputs": [
        {
          "output_type": "error",
          "ename": "NameError",
          "evalue": "ignored",
          "traceback": [
            "\u001b[0;31m---------------------------------------------------------------------------\u001b[0m",
            "\u001b[0;31mNameError\u001b[0m                                 Traceback (most recent call last)",
            "\u001b[0;32m<ipython-input-2-434264fb6074>\u001b[0m in \u001b[0;36m<module>\u001b[0;34m()\u001b[0m\n\u001b[1;32m      1\u001b[0m \u001b[0;31m#根據 p = 0.5的零假設，所得到的95%邊界\u001b[0m\u001b[0;34m\u001b[0m\u001b[0;34m\u001b[0m\u001b[0;34m\u001b[0m\u001b[0m\n\u001b[0;32m----> 2\u001b[0;31m \u001b[0mlo\u001b[0m\u001b[0;34m,\u001b[0m\u001b[0mhi\u001b[0m \u001b[0;34m=\u001b[0m \u001b[0mnormal_two_sided_bounds\u001b[0m\u001b[0;34m(\u001b[0m\u001b[0;36m0.95\u001b[0m\u001b[0;34m,\u001b[0m\u001b[0mmu_0\u001b[0m\u001b[0;34m,\u001b[0m\u001b[0msigma_0\u001b[0m\u001b[0;34m)\u001b[0m\u001b[0;34m\u001b[0m\u001b[0;34m\u001b[0m\u001b[0m\n\u001b[0m\u001b[1;32m      3\u001b[0m \u001b[0;34m\u001b[0m\u001b[0m\n\u001b[1;32m      4\u001b[0m \u001b[0;31m#因為實際上 p = 0.55，可根據此情況算出真實的mu與sigma\u001b[0m\u001b[0;34m\u001b[0m\u001b[0;34m\u001b[0m\u001b[0;34m\u001b[0m\u001b[0m\n\u001b[1;32m      5\u001b[0m \u001b[0mmu_1\u001b[0m\u001b[0;34m,\u001b[0m\u001b[0msigma_1\u001b[0m \u001b[0;34m=\u001b[0m \u001b[0mnormal_approaimation_to_binominal\u001b[0m\u001b[0;34m(\u001b[0m\u001b[0;36m1000\u001b[0m\u001b[0;34m,\u001b[0m\u001b[0;36m0.55\u001b[0m\u001b[0;34m)\u001b[0m\u001b[0;34m\u001b[0m\u001b[0;34m\u001b[0m\u001b[0m\n",
            "\u001b[0;31mNameError\u001b[0m: name 'normal_two_sided_bounds' is not defined"
          ]
        }
      ]
    },
    {
      "cell_type": "markdown",
      "metadata": {
        "id": "xz7Lb1c8m0uI"
      },
      "source": [
        "# p值 (p-values)\n",
        "根據檢定方法實際上所得到的結果，反向計算出性的機率值。  \n",
        "即假設H₀為真，那麼針對我們實際觀測到的數字而言，要出現這種程度以上的值機率為多少?\n",
        "\n"
      ]
    },
    {
      "cell_type": "markdown",
      "metadata": {
        "id": "XB6FXzwmo0Cc"
      },
      "source": [
        "## 雙邊檢定方法(two_sided test)"
      ]
    },
    {
      "cell_type": "code",
      "metadata": {
        "id": "ZV2Ggm-eo8Mx"
      },
      "source": [
        "def two_sided_p_value(x:float,mu:float=0,sigma:float=1) ->float:\n",
        "  #假設我們的值依循N(mu.sigma)的分布，理論上要出現X這種程度的值機率究竟多大?\n",
        "  if x >= mu:\n",
        "    #如果x大於平均值，我們計算大於x那邊的上尾部\n",
        "    return 2*normal_probability_above(x,mu,sigma)\n",
        "\n",
        "  else:\n",
        "    #如果x小於平均值，我們計算大於x那邊的下尾部\n",
        "    return 2*normal_probability_below(x,mu,sigma)"
      ],
      "execution_count": 1,
      "outputs": []
    },
    {
      "cell_type": "markdown",
      "metadata": {
        "id": "XBaKzIBzqDw0"
      },
      "source": [
        "假設看到檢定的結果出現530次，我們就可以計算出相應的p值。"
      ]
    },
    {
      "cell_type": "code",
      "metadata": {
        "id": "h0SUafXVp-j8"
      },
      "source": [
        "two_sided_p_value(529.5,mu_0,sigma_0)"
      ],
      "execution_count": null,
      "outputs": []
    },
    {
      "cell_type": "markdown",
      "metadata": {
        "id": "0Nh8kf-tm6CY"
      },
      "source": [
        "# 信賴區間"
      ]
    },
    {
      "cell_type": "markdown",
      "metadata": {
        "id": "xEjmfTbXm8WV"
      },
      "source": [
        "# p-Hacking"
      ]
    },
    {
      "cell_type": "markdown",
      "metadata": {
        "id": "vYn-Zd2qnAa8"
      },
      "source": [
        "# 貝氏推論"
      ]
    }
  ]
}