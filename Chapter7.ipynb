{
  "nbformat": 4,
  "nbformat_minor": 0,
  "metadata": {
    "colab": {
      "name": "Chapter7.ipynb",
      "provenance": [],
      "toc_visible": true,
      "authorship_tag": "ABX9TyMzIaKxPFBMnTSma/VTJmU8",
      "include_colab_link": true
    },
    "kernelspec": {
      "name": "python3",
      "display_name": "Python 3"
    }
  },
  "cells": [
    {
      "cell_type": "markdown",
      "metadata": {
        "id": "view-in-github",
        "colab_type": "text"
      },
      "source": [
        "<a href=\"https://colab.research.google.com/github/hank199599/data_science_from_scratch_reading_log/blob/main/Chapter7.ipynb\" target=\"_parent\"><img src=\"https://colab.research.google.com/assets/colab-badge.svg\" alt=\"Open In Colab\"/></a>"
      ]
    },
    {
      "cell_type": "markdown",
      "metadata": {
        "id": "lStafPDYl3vO"
      },
      "source": [
        "# 統計假設檢定\n",
        "\n",
        "* ## 零假設(H₀,null hypothesis)：表達我們預設的立場\n",
        "* ## 替代假設(H₁,alternative hypothesis)：與預設立場對比的立場\n",
        "\n"
      ]
    },
    {
      "cell_type": "markdown",
      "metadata": {
        "id": "SreADgiunSBS"
      },
      "source": [
        "### 範例：擲硬幣測試\n",
        "假設我們想知道一枚硬幣是否是公正的，假設正面朝上的機率是p：\n",
        "* 零假設(H₀)：認為硬幣是公正的，即p=0.5 \n",
        "* 替代假設(H₁)：認為硬幣是不公正的，即p≠0.5 \n",
        "  \n",
        "**檢定方法**：  \n",
        "丟擲硬幣N次，然後計算正面朝上的次數。\n",
        "而每一次丟擲硬幣都代表一次伯努利測試，則X是一個二項式隨機變數Binomial(n,p)。  \n",
        "因此可以用常態分佈來當作近似結果。  "
      ]
    },
    {
      "cell_type": "code",
      "metadata": {
        "id": "mWyI25qhGPfT"
      },
      "source": [
        "from typing import Tuple\n",
        "import math\n",
        "\n",
        "def normal_approximation_to_binomial(n:int,p:float) -> Tuple[float,float]:\n",
        "  #送回Binominal(n,p)對應的平均值mu和標準差sigma\n",
        "  mu = n*p\n",
        "  sigma = math.sqrt(p*(1-p)*n)\n",
        "  return mu,sigma"
      ],
      "execution_count": 6,
      "outputs": []
    },
    {
      "cell_type": "markdown",
      "metadata": {
        "id": "bzNhCpPBssqV"
      },
      "source": [
        "只要隨機變數確實依循常態分佈，我們就可以用normal_cdf算出其值落在特定區間內(或之外)的機率"
      ]
    },
    {
      "cell_type": "code",
      "metadata": {
        "id": "t7iELfG0zo4D"
      },
      "source": [
        "import math\n",
        "SQRT_TWO_PI = math.sqrt(2* math.pi)\n",
        "\n",
        "# 機率密度函數 (PDF,probability density function)\n",
        "def normal_pdf(x:float,mu:float=0,sigma:float=1) ->float:\n",
        "  return (math.exp(-(x-mu)**2/2/sigma**2)/(SQRT_TWO_PI*sigma))\n",
        "\n",
        "# 累積分佈函數 (CDF,cumulative density function)\n",
        "def normal_cdf(x:float,mu:float=0,sigma:float=1)->float:\n",
        "  return (1+math.erf((x-mu)/math.sqrt(2)/sigma))/2"
      ],
      "execution_count": 7,
      "outputs": []
    },
    {
      "cell_type": "code",
      "metadata": {
        "id": "sqzYpaP8qgp9"
      },
      "source": [
        "# normal_cdf 代表的是變數落在某個門檻值以下的機率\n",
        "normal_probability_below = normal_cdf\n",
        "\n",
        "#若不在門檻值以下，就表示在門檻值以上 \n",
        "def normal_probability_above(lo:float,\n",
        "               mu:float = 0,\n",
        "               sigma:float = 1) ->float:\n",
        "  return 1 - normal_cdf(lo,mu,sigma) # N(mu,sigma)大於lo的機率\n",
        "\n",
        "#若低於 hi 且不低於 lo ，就表示落在區間之內\n",
        "def normal_probability_between(lo:float,\n",
        "               hi:float,\n",
        "               mu:float = 0,\n",
        "               sigma:float = 1) ->float:\n",
        "  return normal_cdf(hi,mu,sigma) - normal_cdf(lo,mu,sigma) # N(mu,sigma)介於 hi 與 lo的機率\n",
        "\n",
        "#若不在區間之內，就表示落在區間之外 \n",
        "def normal_probability_outside(lo:float,\n",
        "               mu:float = 0,\n",
        "               sigma:float = 1) ->float:\n",
        "  return 1 - normal_probability_between(lo,hi,mu,sigma) # N(mu,sigma)不介於 hi 與 lo 之間的機率"
      ],
      "execution_count": 8,
      "outputs": []
    },
    {
      "cell_type": "markdown",
      "metadata": {
        "id": "0IGUvPcUtrcZ"
      },
      "source": [
        "或是自機率反推常態分佈中相對應**「非尾區間」(nontail region)**"
      ]
    },
    {
      "cell_type": "code",
      "metadata": {
        "id": "VYaJo2j8z6O0"
      },
      "source": [
        "def inverse_normal_cdf(p:float,\n",
        "            mu:float = 0,\n",
        "            sigma:float=1,\n",
        "            tolerance:float=0.00001) -> float:\n",
        "  # 如果不是標準常態分佈，就先轉換成標準常態分佈\n",
        "  if mu != 0 or sigma != 1:\n",
        "    return mu + sigma*inverse_normal_cdf(p,tolerance = tolerance)\n",
        "  \n",
        "  low_z = -10.0 # normal_cdf(-10)是(趨近於) 0\n",
        "  hi_z =  10.0 # normal_cdf(10)是(趨近於) 1\n",
        "  while hi_z - low_z > tolerance:  \n",
        "    mid_z = (low_z + hi_z) / 2   # 計算出中間值\n",
        "    mid_p = normal_cdf(mid_z)     # 以及累積分佈函數在該處所應對的值\n",
        "    if mid_p < p :\n",
        "      low_z = mid_z        #中間的值太低，就往上繼續搜尋\n",
        "    else:\n",
        "      hi_z = mid_z        #中間的值太高，就往下繼續搜尋\n",
        "  \n",
        "  return mid_z"
      ],
      "execution_count": 9,
      "outputs": []
    },
    {
      "cell_type": "code",
      "metadata": {
        "id": "lmjAGSqmt_bL"
      },
      "source": [
        "\n",
        "#送回一個 z 值，使的 P(Z <= z)等於某機率值\n",
        "def normal_upper_bound(probability:float,\n",
        "            mu:float = 0,\n",
        "            sigma:float = 1) -> float:\n",
        "  \n",
        "  return inverse_normal_cdf(probability,mu,sigma) \n",
        "\n",
        "#送回一個 z 值，使的 P(Z >= z)等於某機率值\n",
        "def normal_lower_bound(probability:float,\n",
        "            mu:float = 0,\n",
        "            sigma:float = 1) -> float:\n",
        "  \n",
        "  return inverse_normal_cdf( 1 - probability,mu,sigma)\n",
        "\n",
        "def normal_two_sided_bounds(probability:float,\n",
        "               mu:float = 0,\n",
        "               sigma:float = 1) -> Tuple[float,float]:\n",
        "  #送回一組(以平均值為中心的)對稱邊界，其中所涵蓋的區域正好等於指定的機率值\n",
        "  tail_probability = ( 1 - probability) /2\n",
        "\n",
        "  #高於上邊界的機率，應恰好等於tail_probabiity\n",
        "  upper_bound = normal_lower_bound(tail_probability,mu,sigma)\n",
        "\n",
        "  #低於上邊界的機率，也應恰好等於tail_probabiity\n",
        "  lower_bound = normal_upper_bound(tail_probability,mu,sigma)\n",
        "\n",
        "  return lower_bound,upper_bound"
      ],
      "execution_count": 10,
      "outputs": []
    },
    {
      "cell_type": "markdown",
      "metadata": {
        "id": "__4cRTOf0CHj"
      },
      "source": [
        "進行測試，假設我們選擇丟擲硬幣n=1000次，如果「硬幣是公正的」這個假設是正確的，  \n",
        "X的分布應該就會趨近於平均值500、標準差15.8的常態分佈。"
      ]
    },
    {
      "cell_type": "code",
      "metadata": {
        "colab": {
          "base_uri": "https://localhost:8080/"
        },
        "id": "u3QV2zgV0aLx",
        "outputId": "aff04e12-b45f-4be6-ae2a-cc60e42d48a9"
      },
      "source": [
        "mu_0,sigma_0 = normal_approximation_to_binomial(1000,0.5)\n",
        "\n",
        "print(\"平均值:\",mu_0)\n",
        "print(\"標準差:\",sigma_0)"
      ],
      "execution_count": 11,
      "outputs": [
        {
          "output_type": "stream",
          "text": [
            "平均值: 500.0\n",
            "標準差: 15.811388300841896\n"
          ],
          "name": "stdout"
        }
      ]
    },
    {
      "cell_type": "markdown",
      "metadata": {
        "id": "REFYDMxQ0osX"
      },
      "source": [
        "## 顯著性與檢定力\n",
        "\n",
        "|---|實際為真|實際為假|  \n",
        "|---|---|---|\n",
        "|預測為真| 真陽性|偽陽性(type I error)\n",
        "|預測為假| 偽陰性(type II error)|真陰性\n"
      ]
    },
    {
      "cell_type": "markdown",
      "metadata": {
        "id": "UkOjNIsF1Md7"
      },
      "source": [
        "### 顯著性 (significant)\n",
        "允許多大的機率犯下**第一類型錯誤(type I error)**  \n",
        "即 H₀假設為真，但我們卻否決掉它 (假陽性)\n",
        "  \n",
        "通常將允許的機率值設為1%或5%"
      ]
    },
    {
      "cell_type": "code",
      "metadata": {
        "id": "aVdnH0NYYYWM",
        "colab": {
          "base_uri": "https://localhost:8080/"
        },
        "outputId": "4008a35a-9d6f-414e-f263-49fc7c674be5"
      },
      "source": [
        "#(469,531)\n",
        "mu_0=500\n",
        "sigma_0=15.811388300841896\n",
        "\n",
        "lower_bound,upper_bound = normal_two_sided_bounds(0.95,mu_0,sigma_0)\n",
        "print(\"下界:\",lower_bound)\n",
        "print(\"上界:\",upper_bound)"
      ],
      "execution_count": 12,
      "outputs": [
        {
          "output_type": "stream",
          "text": [
            "下界: 469.01026640487555\n",
            "上界: 530.9897335951244\n"
          ],
          "name": "stdout"
        }
      ]
    },
    {
      "cell_type": "markdown",
      "metadata": {
        "id": "G0BVbr3uYuwb"
      },
      "source": [
        "如果p真的是0.5(即H₀假設為真)，將觀測到的X就應該只有5%的機率會落在此區間之外。  \n",
        "即每做20次檢定，大概就有19次能給出正確的答案。"
      ]
    },
    {
      "cell_type": "markdown",
      "metadata": {
        "id": "P8M1BsWq10FD"
      },
      "source": [
        "### 檢定力 (power)\n",
        "允許多大的機率犯下**第二類型錯誤(type II error)**  \n",
        "即 H₀假設為假，但我們卻沒有否決掉它 (假陰性)\n",
        "  \n",
        "通常將允許的機率值設為1%或5%"
      ]
    },
    {
      "cell_type": "markdown",
      "metadata": {
        "id": "YIFFp2-wZrZe"
      },
      "source": [
        "假設p實際上是0.55，則硬幣的確是較容易擲出正面。"
      ]
    },
    {
      "cell_type": "code",
      "metadata": {
        "id": "8haAc5FGZ3nn",
        "colab": {
          "base_uri": "https://localhost:8080/"
        },
        "outputId": "33cba735-2f7a-4343-b98a-06b08674f9df"
      },
      "source": [
        "#根據 p = 0.5 的零假設，所得到的95%邊界\n",
        "lo,hi = normal_two_sided_bounds(0.95,mu_0,sigma_0)\n",
        "\n",
        "#因為實際上 p = 0.55，可根據此情況算出真實的mu與sigma\n",
        "mu_1,sigma_1 = normal_approximation_to_binomial(1000,0.55)\n",
        "\n",
        "#第二類型錯誤代表我們應該否決，卻為否決零假設(使其成為偽陰性)\n",
        "type_2_probability = normal_probability_between(lo,hi,mu_1,sigma_1)\n",
        "power = 1 - type_2_probability  #0.8887,這就是「不」犯下第二類錯誤的機率\n",
        "\n",
        "print(\"「不」犯下第二類錯誤的機率:\",power)"
      ],
      "execution_count": 13,
      "outputs": [
        {
          "output_type": "stream",
          "text": [
            "「不」犯下第二類錯誤的機率: 0.8865480012953671\n"
          ],
          "name": "stdout"
        }
      ]
    },
    {
      "cell_type": "markdown",
      "metadata": {
        "id": "PaAuddSfFESm"
      },
      "source": [
        "### 單邊檢定方法(one-sided test)"
      ]
    },
    {
      "cell_type": "markdown",
      "metadata": {
        "id": "CjDgj40uBw1m"
      },
      "source": [
        "攔點值為526 (<531，因為 5% 的可能性全都在X比500大很多的上尾部那邊"
      ]
    },
    {
      "cell_type": "code",
      "metadata": {
        "colab": {
          "base_uri": "https://localhost:8080/"
        },
        "id": "yAYpqciLDm8Y",
        "outputId": "b70cd3d3-c564-433a-c245-9e067ae1ef1c"
      },
      "source": [
        "hi = normal_upper_bound(0.95,mu_0,sigma_0)\n",
        "print(\"攔點值:\",hi)"
      ],
      "execution_count": 14,
      "outputs": [
        {
          "output_type": "stream",
          "text": [
            "攔點值: 526.0073585242053\n"
          ],
          "name": "stdout"
        }
      ]
    },
    {
      "cell_type": "markdown",
      "metadata": {
        "id": "Dl0XvqmmDveV"
      },
      "source": [
        ""
      ]
    },
    {
      "cell_type": "code",
      "metadata": {
        "colab": {
          "base_uri": "https://localhost:8080/"
        },
        "id": "LUua4g0xDvla",
        "outputId": "1e308000-70ad-4b16-a534-127b6879cf85"
      },
      "source": [
        "type_2_probability = normal_probability_below(hi,mu_1,sigma_1)\n",
        "power = 1 - type_2_probability\n",
        "print(\"犯下第二類型錯誤的機率:\",power)"
      ],
      "execution_count": 15,
      "outputs": [
        {
          "output_type": "stream",
          "text": [
            "犯下第二類型錯誤的機率: 0.9363794803307173\n"
          ],
          "name": "stdout"
        }
      ]
    },
    {
      "cell_type": "markdown",
      "metadata": {
        "id": "xz7Lb1c8m0uI"
      },
      "source": [
        "# p值 (p-values)\n",
        "根據檢定方法實際上所得到的結果，反向計算出性的機率值。  \n",
        "即假設H₀為真，那麼針對我們實際觀測到的數字而言，要出現這種程度以上的值機率為多少?\n",
        "\n"
      ]
    },
    {
      "cell_type": "markdown",
      "metadata": {
        "id": "XB6FXzwmo0Cc"
      },
      "source": [
        "## 雙邊檢定方法(two_sided test)"
      ]
    },
    {
      "cell_type": "code",
      "metadata": {
        "id": "ZV2Ggm-eo8Mx"
      },
      "source": [
        "def two_sided_p_value( x:float , mu:float = 0 , sigma:float = 1 ) ->float:\n",
        "  \"\"\"\n",
        "  假設我們的值依循N(mu.sigma)的分布，\n",
        "  理論上要出現X這種程度的值機率究竟多大?\n",
        "  \"\"\"\n",
        "  if x >= mu:\n",
        "    #如果x大於平均值，我們計算大於x那邊的上尾部\n",
        "    return 2*normal_probability_above(x,mu,sigma)\n",
        "\n",
        "  else:\n",
        "    #如果x小於平均值，我們計算大於x那邊的下尾部\n",
        "    return 2*normal_probability_below(x,mu,sigma)"
      ],
      "execution_count": 16,
      "outputs": []
    },
    {
      "cell_type": "markdown",
      "metadata": {
        "id": "XBaKzIBzqDw0"
      },
      "source": [
        "假設看到檢定的結果出現530次，我們就可以計算出相應的p值。\n",
        "---------\n",
        "**連續性校正(countinuity correction)**  \n",
        "計算至少看到530次正面的機率時使用"
      ]
    },
    {
      "cell_type": "code",
      "metadata": {
        "colab": {
          "base_uri": "https://localhost:8080/"
        },
        "id": "h0SUafXVp-j8",
        "outputId": "ee12992d-1439-4090-8561-666d879e43ef"
      },
      "source": [
        "two_sided_p_value(529.5,mu_0,sigma_0)"
      ],
      "execution_count": 17,
      "outputs": [
        {
          "output_type": "execute_result",
          "data": {
            "text/plain": [
              "0.06207721579598857"
            ]
          },
          "metadata": {
            "tags": []
          },
          "execution_count": 17
        }
      ]
    },
    {
      "cell_type": "code",
      "metadata": {
        "colab": {
          "base_uri": "https://localhost:8080/"
        },
        "id": "0Z-SAzUcGTIh",
        "outputId": "290efcd5-9b2f-40e4-fa49-63e12be2f0a7"
      },
      "source": [
        "import random\n",
        "\n",
        "extreme_value_count = 0\n",
        "for _ in range(1000):\n",
        "  num_heads = sum(1 if random.random() < 0.5 else 0\n",
        "           for _ in range(1000))\n",
        "  if num_heads >= 530 or num_heads <=470:\n",
        "    extreme_value_count += 1\n",
        "\n",
        "#p值為0.062 => 每1000次試驗，大約會有~62次出現極端情況\n",
        "extreme_value_count "
      ],
      "execution_count": 18,
      "outputs": [
        {
          "output_type": "execute_result",
          "data": {
            "text/plain": [
              "67"
            ]
          },
          "metadata": {
            "tags": []
          },
          "execution_count": 18
        }
      ]
    },
    {
      "cell_type": "code",
      "metadata": {
        "colab": {
          "base_uri": "https://localhost:8080/"
        },
        "id": "eX8xyTrXb7yH",
        "outputId": "c4275177-f9a7-4b36-89f1-c4b1709d45c0"
      },
      "source": [
        "two_sided_p_value(531.5,mu_0,sigma_0)"
      ],
      "execution_count": 19,
      "outputs": [
        {
          "output_type": "execute_result",
          "data": {
            "text/plain": [
              "0.046345287837786575"
            ]
          },
          "metadata": {
            "tags": []
          },
          "execution_count": 19
        }
      ]
    },
    {
      "cell_type": "markdown",
      "metadata": {
        "id": "DkOFxGuYdrKE"
      },
      "source": [
        "由於這個p值比我們所設定的顯著性(5%)還大，因此這表示我們必須否決掉零假設。"
      ]
    },
    {
      "cell_type": "code",
      "metadata": {
        "id": "xClHLwC1d6pa"
      },
      "source": [
        "upper_p_value = normal_probability_above\n",
        "lower_p_value = normal_probability_below"
      ],
      "execution_count": 20,
      "outputs": []
    },
    {
      "cell_type": "code",
      "metadata": {
        "colab": {
          "base_uri": "https://localhost:8080/"
        },
        "id": "U3l9u4tXeThx",
        "outputId": "a99ee14a-138b-4c4b-ca78-e1534e686cb5"
      },
      "source": [
        "upper_p_value(524.5 , mu_0 , sigma_0)"
      ],
      "execution_count": 21,
      "outputs": [
        {
          "output_type": "execute_result",
          "data": {
            "text/plain": [
              "0.06062885772582083"
            ]
          },
          "metadata": {
            "tags": []
          },
          "execution_count": 21
        }
      ]
    },
    {
      "cell_type": "markdown",
      "metadata": {
        "id": "5dw0nkkHfniR"
      },
      "source": [
        "如果我們看到527次正面的結果，相應的計算是："
      ]
    },
    {
      "cell_type": "code",
      "metadata": {
        "colab": {
          "base_uri": "https://localhost:8080/"
        },
        "id": "Pg46lrOeebfd",
        "outputId": "40f360cc-4853-4b1d-98a9-2ce9cab99778"
      },
      "source": [
        "lower_p_value(526.5 , mu_0 , sigma_0)"
      ],
      "execution_count": 22,
      "outputs": [
        {
          "output_type": "execute_result",
          "data": {
            "text/plain": [
              "0.9531316049114076"
            ]
          },
          "metadata": {
            "tags": []
          },
          "execution_count": 22
        }
      ]
    },
    {
      "cell_type": "markdown",
      "metadata": {
        "id": "0Nh8kf-tm6CY"
      },
      "source": [
        " # 信賴區間 (confidence interval)\n",
        "\n",
        " 如果我們已經知道真正的p值，架設有很多柏努利的平均值。平均值會趨於常態分布，其平均值為p，標準差則是：\n",
        "\n",
        "\n",
        "```\n",
        "math.sqrt( p*(1-p)/1000)\n",
        "```\n",
        "\n"
      ]
    },
    {
      "cell_type": "markdown",
      "metadata": {
        "id": "A4hw8NRGiDsg"
      },
      "source": [
        "但我們並不知道真正的p值，所以我們採用前面的參數來計算。"
      ]
    },
    {
      "cell_type": "code",
      "metadata": {
        "colab": {
          "base_uri": "https://localhost:8080/"
        },
        "id": "6GPzth17iZNV",
        "outputId": "4b4870e1-4a56-46a0-e007-45cfd4317696"
      },
      "source": [
        "p_hat = 525/1000\n",
        "mu = p_hat\n",
        "sigma = math.sqrt(p_hat * (1-p_hat) /1000)\n",
        "sigma"
      ],
      "execution_count": 23,
      "outputs": [
        {
          "output_type": "execute_result",
          "data": {
            "text/plain": [
              "0.015791611697353755"
            ]
          },
          "metadata": {
            "tags": []
          },
          "execution_count": 23
        }
      ]
    },
    {
      "cell_type": "markdown",
      "metadata": {
        "id": "ZBIUo11tpWGn"
      },
      "source": [
        "透過常態分佈的近似方式，可以得出結論：  \n",
        "我們有「95%的信心」相信參數p的值會落在以下的區間內。"
      ]
    },
    {
      "cell_type": "code",
      "metadata": {
        "id": "GNQVMZHCpllV",
        "colab": {
          "base_uri": "https://localhost:8080/"
        },
        "outputId": "10cdd246-1698-4131-ac72-2478580f49c5"
      },
      "source": [
        "normal_two_sided_bounds(0.95,mu,sigma)"
      ],
      "execution_count": 24,
      "outputs": [
        {
          "output_type": "execute_result",
          "data": {
            "text/plain": [
              "(0.4940490278129096, 0.5559509721870904)"
            ]
          },
          "metadata": {
            "tags": []
          },
          "execution_count": 24
        }
      ]
    },
    {
      "cell_type": "markdown",
      "metadata": {
        "id": "gg3MN3byse85"
      },
      "source": [
        "假設我們得到的是540次正面的結果，可以計算出："
      ]
    },
    {
      "cell_type": "code",
      "metadata": {
        "colab": {
          "base_uri": "https://localhost:8080/"
        },
        "id": "b0222xybsrjR",
        "outputId": "17294f5a-53b2-4212-e0d5-6a57f89626e0"
      },
      "source": [
        "p_hat = 540 / 1000\n",
        "mu = p_hat\n",
        "sigma = math.sqrt(p_hat * (1-p_hat) / 1000)\n",
        "value = normal_two_sided_bounds(0.95,mu,sigma)\n",
        "\n",
        "print(\"Sigma:\",sigma)\n",
        "print(\"normal_two_sided_bounds:\",value)"
      ],
      "execution_count": 25,
      "outputs": [
        {
          "output_type": "stream",
          "text": [
            "Sigma: 0.015760710643876435\n",
            "normal_two_sided_bounds: (0.5091095927295919, 0.5708904072704082)\n"
          ],
          "name": "stdout"
        }
      ]
    },
    {
      "cell_type": "markdown",
      "metadata": {
        "id": "4vcg2jVot2mA"
      },
      "source": [
        "在上面的假設中，「公正的硬幣」這個可能性就不再位於我們的信賴區間內。  \n",
        "亦即「公正的硬幣」這個假設無法通過檢定。\n",
        "\n"
      ]
    },
    {
      "cell_type": "markdown",
      "metadata": {
        "id": "xEjmfTbXm8WV"
      },
      "source": [
        "# p-Hacking\n",
        "如果我們定義某個程序有5%的機率會誤判而否決掉零假設。  \n",
        "根據這個定義，這個程序應該就只有5%的機會出現而誤判而否決掉零假設。"
      ]
    },
    {
      "cell_type": "code",
      "metadata": {
        "colab": {
          "base_uri": "https://localhost:8080/"
        },
        "id": "ZMN23e4CuxTQ",
        "outputId": "1124e8ea-2b70-4802-d61f-34d06319505a"
      },
      "source": [
        "from typing import List\n",
        "\n",
        "def run_experiment() -> List[bool]:\n",
        "  \"\"\"丟擲一個公正的硬幣1000次，True表示正面，False表示反面。\"\"\"\n",
        "  return [random.random() < 0.5 for _ in range(1000)]\n",
        "\n",
        "def reject_fairness(experiment:List[bool]) -> bool:\n",
        "  \"\"\"顯著性設定5%的程度\"\"\"\n",
        "  num_heads = len([flip for flip in experiment if flip])\n",
        "  return num_heads < 469 or num_heads > 531\n",
        "\n",
        "random.seed(0)\n",
        "experiments = [run_experiment() for _ in range(1000)]\n",
        "num_rejections = len([experiment for experiment in experiments if reject_fairness(experiment)])\n",
        "\n",
        "print(num_rejections)\n"
      ],
      "execution_count": 26,
      "outputs": [
        {
          "output_type": "stream",
          "text": [
            "46\n"
          ],
          "name": "stdout"
        }
      ]
    },
    {
      "cell_type": "markdown",
      "metadata": {
        "id": "vDkKzZHZuxFx"
      },
      "source": [
        "他某種程度上是依據「根據某個 p值 架構進行推論」所得到的結果。  \n",
        "可以參見[這個網站](https://www.nature.com/news/scientific-method-statistical-errors-1.14700)\n"
      ]
    },
    {
      "cell_type": "markdown",
      "metadata": {
        "id": "DmJ0dcpj7NR_"
      },
      "source": [
        "## 範例：執行A/B測試\n",
        "有個廣告商開發了一種能量飲料，廣告部門副總希望你能提供協助。  \n",
        "向網站訪客隨機展示這兩個網站的其中一個，然後追蹤各有多少人點擊相應的廣告。\n",
        "* 廣告A：「口味絕佳!」\n",
        "* 廣告B：「營養均衡!」\n",
        "  \n",
        "如果1000個看到廣告A的人有990個會點擊該廣告；同樣看到廣告B的人只有10個會點擊該廣告。你就有足夠的信心認定廣告A是比較好的廣告。若差異不是那麼明顯,則你需要用到統計推論。\n",
        "  \n",
        "我們可以把每次有人看到廣告的反應視為一次伯努利試驗。  \n",
        "假設有Nᴀ個人看到A廣告，其中有nᴀ個人點擊了該廣告。我們知道nᴀ/Nᴀ會趨近於一個平均值pᴀ，標準差為σᴀ = √pᴀ(1-pᴀ)/Nᴀ 的常態隨機變數。\n",
        "  \n",
        "同樣地，nʙ/Nʙ會趨近於一個平均值pʙ，標準差為σʙ = √pʙ(1-pʙ)/Nʙ 的常態隨機變數。"
      ]
    },
    {
      "cell_type": "code",
      "metadata": {
        "id": "YsC_zlTE-5Ih"
      },
      "source": [
        "def estimated_parameter(N:int,n:int)->Tuple[float,float]:\n",
        "  p = n/N\n",
        "  sigma = math.sqrt(p*(1-p)/N)\n",
        "  return p,sigma"
      ],
      "execution_count": 27,
      "outputs": []
    },
    {
      "cell_type": "markdown",
      "metadata": {
        "id": "oj2nDUJD_SYa"
      },
      "source": [
        "假設這兩個常態分佈是獨立的，  \n",
        "那麼這兩個隨機變數的差值也應該會呈現平均值為pʙ-pᴀ，標準差為√pᴀ²-pʙ²的常態分佈  \n",
        "這也就表示我們可以針對pᴀ與pʙ是相同的這個零假設進行檢定"
      ]
    },
    {
      "cell_type": "code",
      "metadata": {
        "id": "v8Qah75y9xVX"
      },
      "source": [
        "def a_b_test_statistic(N_A:int,n_A:int,N_B:int,n_B:int)->float:\n",
        "  p_A,sigma_A = estimated_parameter(N_A,n_A)\n",
        "  p_B,sigma_B = estimated_parameter(N_B,n_B)\n",
        "  return (p_B-p_A) /math.sqrt(sigma_A**2 + sigma_B**2)"
      ],
      "execution_count": 28,
      "outputs": []
    },
    {
      "cell_type": "markdown",
      "metadata": {
        "id": "m4_4EAfU_8Zv"
      },
      "source": [
        "### 1.舉例來說  \n",
        "若「口味絕佳」(廣告A)被觀看1000次，其中有200次被點擊。\n",
        "而「營養均衡!」(廣告B)被觀看1000次，其中有180次被點擊。"
      ]
    },
    {
      "cell_type": "code",
      "metadata": {
        "colab": {
          "base_uri": "https://localhost:8080/"
        },
        "id": "2TdEBwJBANwU",
        "outputId": "16d2fef5-4099-4e34-9a04-c260e7d68ee5"
      },
      "source": [
        "z = a_b_test_statistic(1000,200,1000,180)\n",
        "z"
      ],
      "execution_count": 29,
      "outputs": [
        {
          "output_type": "execute_result",
          "data": {
            "text/plain": [
              "-1.1403464899034472"
            ]
          },
          "metadata": {
            "tags": []
          },
          "execution_count": 29
        }
      ]
    },
    {
      "cell_type": "markdown",
      "metadata": {
        "id": "b95oGliNAZ1F"
      },
      "source": [
        "若pᴀ與pʙ實際上是相同的，能看出結果出現如此大差異的機率是："
      ]
    },
    {
      "cell_type": "code",
      "metadata": {
        "colab": {
          "base_uri": "https://localhost:8080/"
        },
        "id": "V1JOEm3yAmk8",
        "outputId": "c9edaa8d-b560-4e98-a70b-3a2d3a632541"
      },
      "source": [
        "two_sided_p_value(z)"
      ],
      "execution_count": 30,
      "outputs": [
        {
          "output_type": "execute_result",
          "data": {
            "text/plain": [
              "0.254141976542236"
            ]
          },
          "metadata": {
            "tags": []
          },
          "execution_count": 30
        }
      ]
    },
    {
      "cell_type": "markdown",
      "metadata": {
        "id": "onJAhVTgA7_h"
      },
      "source": [
        "### 2.舉例來說  \n",
        "若「口味絕佳」(廣告A)被觀看1000次，其中有200次被點擊。\n",
        "而「營養均衡!」(廣告B)被觀看1000次，其中有150次被點擊。"
      ]
    },
    {
      "cell_type": "code",
      "metadata": {
        "colab": {
          "base_uri": "https://localhost:8080/"
        },
        "id": "7_Pb0XmgBB_J",
        "outputId": "3832dc85-cfd0-4ca2-924c-fc67d1e34feb"
      },
      "source": [
        "z = a_b_test_statistic(1000,200,1000,150)\n",
        "z"
      ],
      "execution_count": 31,
      "outputs": [
        {
          "output_type": "execute_result",
          "data": {
            "text/plain": [
              "-2.948839123097944"
            ]
          },
          "metadata": {
            "tags": []
          },
          "execution_count": 31
        }
      ]
    },
    {
      "cell_type": "code",
      "metadata": {
        "colab": {
          "base_uri": "https://localhost:8080/"
        },
        "id": "TWQSDHDWBB_L",
        "outputId": "64aeab3c-b2c4-4c58-d1aa-7d7d59bf288b"
      },
      "source": [
        "two_sided_p_value(z)"
      ],
      "execution_count": 32,
      "outputs": [
        {
          "output_type": "execute_result",
          "data": {
            "text/plain": [
              "0.003189699706216853"
            ]
          },
          "metadata": {
            "tags": []
          },
          "execution_count": 32
        }
      ]
    },
    {
      "cell_type": "markdown",
      "metadata": {
        "id": "pX_fNDoLA5xV"
      },
      "source": [
        "結論是：  \n",
        "如果兩個廣告效果相同，要看到效果出現如此大地差異之機率只有0.3%。  \n",
        "因此我們能做出推論認定「**這兩個廣告的效果確實明顯有所不同**」"
      ]
    },
    {
      "cell_type": "markdown",
      "metadata": {
        "id": "vYn-Zd2qnAa8"
      },
      "source": [
        "# 貝氏推論\n",
        "將未知參數本身視為隨機變數，針對參數本身進行機率性判斷。"
      ]
    },
    {
      "cell_type": "markdown",
      "metadata": {
        "id": "iuaLj4sqFQkH"
      },
      "source": [
        "## 舉例來說：若未知參數是個機率值(如同我們丟擲硬幣的例子)\n",
        "我們通常會使用Beta分佈做先驗分佈，他會把所有機率值限定在0到1之間。"
      ]
    },
    {
      "cell_type": "code",
      "metadata": {
        "id": "-uG0EQLlFwa1"
      },
      "source": [
        "def B(alpha:float, beta:float) ->float:\n",
        "  \"\"\"已歸一化的整數，總機率為1\"\"\"\n",
        "  return math.gamma(alpha)* math.gamma(beta) / math.gamma(alpha+beta)\n",
        "\n",
        "def beta_pdf(x:float,alpha:float,beta:float) ->float:\n",
        "  if x <= 0 or x >= 1:\n",
        "    return 0\n",
        "  return x **(alpha -1) * (1-x) ** (beta -1) / B(alpha,beta)"
      ],
      "execution_count": 33,
      "outputs": []
    },
    {
      "cell_type": "markdown",
      "metadata": {
        "id": "p_Yv9WURGsk9"
      },
      "source": [
        "一般來說，這個分佈的權重中心會落在：\n",
        "\n",
        "```\n",
        "alpha / (alpha + beta)\n",
        "```\n",
        "alpha和beta的值越大，分佈會顯得越緊密。\n",
        "\n",
        "* alpha = beta = 1 →成為均勻分佈(中心為0.5) (所有參數發生的機率是相等的)\n",
        "* alpha >> beta   →權重值會偏向1\n",
        "* alpha << beta   →權重值會偏向0\n"
      ]
    },
    {
      "cell_type": "markdown",
      "metadata": {
        "id": "l-xuvOPHhSXZ"
      },
      "source": [
        "## Beta分佈"
      ]
    },
    {
      "cell_type": "markdown",
      "metadata": {
        "id": "vxqLBQvBOuLu"
      },
      "source": [
        "### 圖7-1 Beta分佈的範例"
      ]
    },
    {
      "cell_type": "code",
      "metadata": {
        "colab": {
          "base_uri": "https://localhost:8080/",
          "height": 258
        },
        "id": "R8LmzY4lPIIO",
        "outputId": "d8ff744d-7945-4686-f8b4-9dc4d565490e"
      },
      "source": [
        "import matplotlib.pyplot as plt\n",
        "\n",
        "xs = [ num/100 for num in range(100)]\n",
        "\n",
        "ys_1 = [beta_pdf(num,1,1) for num in xs]\n",
        "ys_2 = [beta_pdf(num,10,10) for num in xs]\n",
        "ys_3 = [beta_pdf(num,4,16) for num in xs]\n",
        "ys_4 = [beta_pdf(num,16,4) for num in xs]\n",
        "\n",
        "\n",
        "plt.plot(xs,ys_1,'g-', label=\"B(1,1)\")\n",
        "plt.plot(xs,ys_2,'r-.', label=\"B(10,10)\")\n",
        "plt.plot(xs,ys_3,'b:', label=\"B(4,16)\")\n",
        "plt.plot(xs,ys_4,'y-', label=\"B(16,4)\")\n",
        "plt.axis([0,1,0,5])\n",
        "\n",
        "plt.legend(loc=9)\n",
        "plt.xticks([])\n",
        "\n",
        "plt.show()"
      ],
      "execution_count": 34,
      "outputs": [
        {
          "output_type": "display_data",
          "data": {
            "image/png": "[encoded data removed]",
            "text/plain": [
              "<Figure size 432x288 with 1 Axes>"
            ]
          },
          "metadata": {
            "tags": [],
            "needs_background": "light"
          }
        }
      ]
    },
    {
      "cell_type": "markdown",
      "metadata": {
        "id": "h1vxmpsqgevw"
      },
      "source": [
        "假設我們可以針對p假設一個先驗分佈。  \n",
        "如果我們對於硬幣是否公正沒有甚麼特別的看法，可以選擇把alpha跟beta的值都設定為1。  \n",
        "如果我們有強烈地理由相信硬幣有55%的機會擲出正面，  \n",
        "可以選擇alpha值為55，beta值為45。"
      ]
    },
    {
      "cell_type": "markdown",
      "metadata": {
        "id": "simfQcaPhVr2"
      },
      "source": [
        "## 後驗分佈\n",
        "後驗分佈亦是Beta分佈。  \n",
        "正面的次數是二項式分佈所給出的，而Beta分佈正好是二項式分佈的共軛(conjugate)[先驗分佈](http://johndcook.com/blog/conjugate_prior_diagram)"
      ]
    },
    {
      "cell_type": "markdown",
      "metadata": {
        "id": "J-lwC2_9hX12"
      },
      "source": [
        "### 圖7-2 從不同的先驗分佈，所得出的後驗分佈"
      ]
    },
    {
      "cell_type": "markdown",
      "metadata": {
        "id": "HPAtR4sciVSY"
      },
      "source": [
        "後驗分佈亦是Beta分佈，但兩個參數分別會是 alpha+h 和 beta+h\n",
        "* 先驗分佈 Beta(20,20) → 後驗分佈 Beta(23,27)\n",
        "* 先驗分佈 Beta(30,10) → 後驗分佈 Beta(33,17)"
      ]
    },
    {
      "cell_type": "code",
      "metadata": {
        "colab": {
          "base_uri": "https://localhost:8080/",
          "height": 258
        },
        "id": "HSdsCzAVd4rR",
        "outputId": "6848e92b-f310-4efe-9248-fbc5c4dec605"
      },
      "source": [
        "import matplotlib.pyplot as plt\n",
        "\n",
        "xs = [ num/100 for num in range(100)]\n",
        "ys_1 = [beta_pdf(num,4,8) for num in xs]\n",
        "ys_2 = [beta_pdf(num,23,27) for num in xs]\n",
        "ys_3 = [beta_pdf(num,33,17) for num in xs]\n",
        "\n",
        "plt.plot(xs,ys_1,'g-', label=\"B(4,8)\")\n",
        "plt.plot(xs,ys_2,'r-.', label=\"B(23,27)\")\n",
        "plt.plot(xs,ys_3,'b:', label=\"B(33,17)\")\n",
        "plt.axis([0,1,0,6])\n",
        "\n",
        "plt.legend(loc=2)\n",
        "plt.xticks([])\n",
        "\n",
        "plt.show()"
      ],
      "execution_count": 36,
      "outputs": [
        {
          "output_type": "display_data",
          "data": {
            "image/png": "[encoded data removed]",
            "text/plain": [
              "<Figure size 432x288 with 1 Axes>"
            ]
          },
          "metadata": {
            "tags": [],
            "needs_background": "light"
          }
        }
      ]
    }
  ]
}