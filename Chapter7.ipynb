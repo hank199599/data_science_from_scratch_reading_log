{
  "nbformat": 4,
  "nbformat_minor": 0,
  "metadata": {
    "colab": {
      "name": "Chapter7.ipynb",
      "provenance": [],
      "toc_visible": true,
      "authorship_tag": "ABX9TyPXSUOm1r3bhI5cqrltmbP/",
      "include_colab_link": true
    },
    "kernelspec": {
      "name": "python3",
      "display_name": "Python 3"
    }
  },
  "cells": [
    {
      "cell_type": "markdown",
      "metadata": {
        "id": "view-in-github",
        "colab_type": "text"
      },
      "source": [
        "<a href=\"https://colab.research.google.com/github/hank199599/data_science_from_scratch_reading_log/blob/main/Chapter7.ipynb\" target=\"_parent\"><img src=\"https://colab.research.google.com/assets/colab-badge.svg\" alt=\"Open In Colab\"/></a>"
      ]
    },
    {
      "cell_type": "markdown",
      "metadata": {
        "id": "lStafPDYl3vO"
      },
      "source": [
        "# 統計假設檢定\n",
        "\n",
        "* ## 零假設(H₀,null hypothesis)：表達我們預設的立場\n",
        "* ## 替代假設(H₁,alternative hypothesis)：與預設立場對比的立場\n",
        "\n"
      ]
    },
    {
      "cell_type": "markdown",
      "metadata": {
        "id": "SreADgiunSBS"
      },
      "source": [
        "### 範例：擲硬幣測試\n",
        "假設我們想知道一枚硬幣是否是公正的，假設正面朝上的機率是p：\n",
        "* 零假設(H₀)：認為硬幣是公正的，即p=0.5 \n",
        "* 替代假設(H₁)：認為硬幣是不公正的，即p≠0.5 \n",
        "  \n",
        "**檢定方法**：  \n",
        "丟擲硬幣N次，然後計算正面朝上的次數。\n",
        "而每一次丟擲硬幣都代表一次伯努利測試，則X是一個二項式隨機變數Binomial(n,p)。  \n",
        "因此可以用常態分佈來當作近似結果。  "
      ]
    },
    {
      "cell_type": "code",
      "metadata": {
        "id": "mWyI25qhGPfT"
      },
      "source": [
        "from typing import Tuple\n",
        "import math\n",
        "\n",
        "def normal_approximation_to_binomial(n:int,p:float) -> Tuple[float,float]:\n",
        "  #送回Binominal(n,p)對應的平均值mu和標準差sigma\n",
        "  mu = n*p\n",
        "  sigma = math.sqrt(p*(1-p)*n)\n",
        "  return mu,sigma"
      ],
      "execution_count": null,
      "outputs": []
    },
    {
      "cell_type": "markdown",
      "metadata": {
        "id": "bzNhCpPBssqV"
      },
      "source": [
        "只要隨機變數確實依循常態分佈，我們就可以用normal_cdf算出其值落在特定區間內(或之外)的機率"
      ]
    },
    {
      "cell_type": "code",
      "metadata": {
        "id": "sqzYpaP8qgp9"
      },
      "source": [
        "from scratch.probability import normal_pdf\n",
        "\n",
        "# normal_cdf 代表的是變數落在某個門檻值以下的機率\n",
        "normal_probability_below = normal_cdf\n",
        "\n",
        "#若不在門檻值以下，就表示在門檻值以上 \n",
        "def normal_probability_above(lo:float,\n",
        "               mu:float = 0,\n",
        "               sigma:float = 1) ->float:\n",
        "  return 1 - normal_cdf(lo,mu,sigma) # N(mu,sigma)大於lo的機率\n",
        "\n",
        "#若低於 hi 且不低於 lo ，就表示落在區間之內\n",
        "def normal_probability_between(lo:float,\n",
        "               hi:float,\n",
        "               mu:float = 0,\n",
        "               sigma:float = 1) ->float:\n",
        "  return normal_cdf(hi,mu,sigma) - normal_cdf(lo,mu,sigma) # N(mu,sigma)介於 hi 與 lo的機率\n",
        "\n",
        "#若不在區間之內，就表示落在區間之外 \n",
        "def normal_probability_above(lo:float,\n",
        "               mu:float = 0,\n",
        "               sigma:float = 1) ->float:\n",
        "  return 1 - normal_probability_between(lo,hi,mu,sigma) # N(mu,sigma)不介於 hi 與 lo 之間的機率"
      ],
      "execution_count": null,
      "outputs": []
    },
    {
      "cell_type": "markdown",
      "metadata": {
        "id": "0IGUvPcUtrcZ"
      },
      "source": [
        "或是自機率反推常態分佈中相對應**「非尾區間」(nontail region)**"
      ]
    },
    {
      "cell_type": "code",
      "metadata": {
        "id": "lmjAGSqmt_bL"
      },
      "source": [
        "from scratch.probability import inverse_normal_cdf\n",
        "\n",
        "#送回一個 z 值，使的 P(Z <= z)等於某機率值\n",
        "def normal_upper_bound(probability:float,\n",
        "            mu:float = 0,\n",
        "            sigma:float = 1) -> float:\n",
        "  \n",
        "  return inverse_normal_cdf(probability,mu.sigma) \n",
        "\n",
        "#送回一個 z 值，使的 P(Z >= z)等於某機率值\n",
        "def normal_lower_bound(probability:float,\n",
        "            mu:float = 0,\n",
        "            sigma:float = 1) -> float:\n",
        "  \n",
        "  return inverse_normal_cdf( 1 - probability,mu.sigma)\n",
        "\n",
        "def normal_two_sided_bounds(probability:float,\n",
        "               mu:float = 0,\n",
        "               sigma:float = 1) -> Tuple[float,float]:\n",
        "  #送回一組(以平均值為中心的)對稱邊界，其中所涵蓋的區域正好等於指定的機率值\n",
        "  tail_probalbility = ( 1 - probability) /2\n",
        "\n",
        "  #高於上邊界的機率，應恰好等於tail_probabiity\n",
        "  upper_bound = normal_lower_bound(tail_probability,mu,sigma)\n",
        "\n",
        "  #低於上邊界的機率，也應恰好等於tail_probabiity\n",
        "  lower_bound = normal_upper_bound(tail_probability,mu,sigma)\n",
        "\n",
        "  return upper_bound,lower_bound"
      ],
      "execution_count": null,
      "outputs": []
    },
    {
      "cell_type": "markdown",
      "metadata": {
        "id": "xz7Lb1c8m0uI"
      },
      "source": [
        "# p值"
      ]
    },
    {
      "cell_type": "markdown",
      "metadata": {
        "id": "0Nh8kf-tm6CY"
      },
      "source": [
        "# 信賴區間"
      ]
    },
    {
      "cell_type": "markdown",
      "metadata": {
        "id": "xEjmfTbXm8WV"
      },
      "source": [
        "# p-Hacking"
      ]
    },
    {
      "cell_type": "markdown",
      "metadata": {
        "id": "vYn-Zd2qnAa8"
      },
      "source": [
        "# 貝氏推論"
      ]
    }
  ]
}