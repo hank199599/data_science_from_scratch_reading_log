{
  "nbformat": 4,
  "nbformat_minor": 0,
  "metadata": {
    "colab": {
      "name": "Chapter4.ipynb",
      "provenance": [],
      "authorship_tag": "ABX9TyOxikowT9zltzU9WGI0OvN1",
      "include_colab_link": true
    },
    "kernelspec": {
      "name": "python3",
      "display_name": "Python 3"
    }
  },
  "cells": [
    {
      "cell_type": "markdown",
      "metadata": {
        "id": "view-in-github",
        "colab_type": "text"
      },
      "source": [
        "<a href=\"https://colab.research.google.com/github/hank199599/data_science_from_scratch_reading_log/blob/main/Chapter4.ipynb\" target=\"_parent\"><img src=\"https://colab.research.google.com/assets/colab-badge.svg\" alt=\"Open In Colab\"/></a>"
      ]
    },
    {
      "cell_type": "markdown",
      "metadata": {
        "id": "gZnKwV-H86-g"
      },
      "source": [
        "# 線性代數\n",
        "數學的一個分支，處理**向量空間**的問題"
      ]
    },
    {
      "cell_type": "markdown",
      "metadata": {
        "id": "tBHJF8ib9UnZ"
      },
      "source": [
        "# 向量\n",
        "它可以被視為有限維度裡的點，  \n",
        "可以彼此**相加**或**乘上純量**形成一個新向量\n"
      ]
    },
    {
      "cell_type": "markdown",
      "metadata": {
        "id": "nxM3yWaQ9xRt"
      },
      "source": [
        "## 型別別名(type alias)\n",
        "向量在Python上的實作，即一個**浮點數列表**"
      ]
    },
    {
      "cell_type": "code",
      "metadata": {
        "id": "mWyI25qhGPfT"
      },
      "source": [
        "from typing import List\n",
        "\n",
        "Vector = List[float]\n",
        "\n",
        "height_weight_age=[70,170,40] #[英寸、磅、歲]\n",
        "\n",
        "grades=[95,80,75,62] #[第1次考試成績、第2次考試成績、第3次考試成積、第4次考試成積]"
      ],
      "execution_count": 2,
      "outputs": []
    },
    {
      "cell_type": "markdown",
      "metadata": {
        "id": "KNCHbxH7_3ST"
      },
      "source": [
        "# 建立運算工具\n",
        "Python不提供相應的向量運算工具，因此我們需要自己定義這些工具  \n",
        "透過zip將兩個向量壓合起來，再利用**解析式列表**進行運算"
      ]
    },
    {
      "cell_type": "markdown",
      "metadata": {
        "id": "TJ3rkmE2AFMR"
      },
      "source": [
        "## 加法運算\n",
        "每個元素逐一加起來  \n",
        "  \n",
        "舉例來說：\n",
        "```\n",
        "[1,2]+[2,1] = [1+2,2+1] = [3,3]\n",
        "```\n",
        "\n"
      ]
    },
    {
      "cell_type": "code",
      "metadata": {
        "id": "U-5GZ78eAa18"
      },
      "source": [
        "def add( v:Vector, w:Vector) -> Vector:\n",
        "  assert len(v) == len(w) ,'兩個向量必須有相同的維度\"\n",
        "\n",
        "  return [ v_i+w_i for v_i,w_i in zip(v,w)]"
      ],
      "execution_count": null,
      "outputs": []
    },
    {
      "cell_type": "code",
      "metadata": {
        "id": "yRAD8Pb1BDIc",
        "outputId": "551299ba-7aac-4717-db06-521345f3333f",
        "colab": {
          "base_uri": "https://localhost:8080/"
        }
      },
      "source": [
        "add([1,2,3],[4,5,6])"
      ],
      "execution_count": null,
      "outputs": [
        {
          "output_type": "execute_result",
          "data": {
            "text/plain": [
              "[5, 7, 9]"
            ]
          },
          "metadata": {
            "tags": []
          },
          "execution_count": 12
        }
      ]
    },
    {
      "cell_type": "markdown",
      "metadata": {
        "id": "xzLqFLsMG4Kp"
      },
      "source": [
        "### 同時加多個向量"
      ]
    },
    {
      "cell_type": "code",
      "metadata": {
        "id": "LHgNf4-WG9bk"
      },
      "source": [
        "def vector_sum(vectors:List[Vector]) -> Vector:\n",
        "  #先檢查vertors這個向量列表是否為空\n",
        "  assert vectors,\"列表中沒有向量!\"\n",
        "\n",
        "  #檢查vertors 向量列表內的所有向量都具有相同的維度\n",
        "  num_elements=len(vectors[0])\n",
        "  assert all(len(v)==num_elements for v in vectors),\"向量維度不一致\"\n",
        "\n",
        "  #所有vectors[i]相加起來，是結果的第i個元素值\n",
        "  return [sum(vector[i] for vector in vectors) for i in range(num_elements)]\n"
      ],
      "execution_count": null,
      "outputs": []
    },
    {
      "cell_type": "code",
      "metadata": {
        "id": "3Mi0rPXTMrBB",
        "outputId": "0d4b7a61-46f5-45ec-ca46-08c4bc55bd14",
        "colab": {
          "base_uri": "https://localhost:8080/"
        }
      },
      "source": [
        "vector_sum([[1,2],[3,4],[5,6],[7,8]])"
      ],
      "execution_count": null,
      "outputs": [
        {
          "output_type": "execute_result",
          "data": {
            "text/plain": [
              "[16, 20]"
            ]
          },
          "metadata": {
            "tags": []
          },
          "execution_count": 5
        }
      ]
    },
    {
      "cell_type": "markdown",
      "metadata": {
        "id": "00YdV2EPCDGI"
      },
      "source": [
        "## 減法運算\n",
        "每個元素逐一相減起來  \n",
        "  \n",
        "舉例來說：\n",
        "```\n",
        "[1,2]-[2,1] = [1-2,2-1] = [-1,1]\n",
        "```\n",
        "\n"
      ]
    },
    {
      "cell_type": "code",
      "metadata": {
        "id": "ixT27qKFCDGN"
      },
      "source": [
        "def subtrate( v:Vector, w:Vector) -> Vector:\n",
        "  assert len(v) == len(w) #兩個向量必須有相同的維度\n",
        "\n",
        "  return [ v_i-w_i for v_i,w_i in zip(v,w)]"
      ],
      "execution_count": null,
      "outputs": []
    },
    {
      "cell_type": "code",
      "metadata": {
        "id": "AhFAV6P0CDGU",
        "outputId": "18e534f6-3a68-4f8b-e5e0-aa5f50b934ad",
        "colab": {
          "base_uri": "https://localhost:8080/"
        }
      },
      "source": [
        "subtrate([5,7,9],[4,5,6])"
      ],
      "execution_count": null,
      "outputs": [
        {
          "output_type": "execute_result",
          "data": {
            "text/plain": [
              "[1, 2, 3]"
            ]
          },
          "metadata": {
            "tags": []
          },
          "execution_count": 16
        }
      ]
    },
    {
      "cell_type": "markdown",
      "metadata": {
        "id": "m4GYBch-YNJs"
      },
      "source": [
        "## 乘上純量\n",
        "讓向量的每一個元素都乘以同一個值"
      ]
    },
    {
      "cell_type": "code",
      "metadata": {
        "id": "gQU-iwdNYady"
      },
      "source": [
        "def scalar_multiply(c:float,v:Vector) -> Vector:\n",
        "  return [c*v_i for v_i in v]"
      ],
      "execution_count": null,
      "outputs": []
    },
    {
      "cell_type": "code",
      "metadata": {
        "id": "5Fa2l5c_YuiB",
        "outputId": "324fbfda-5f6c-4e5d-e2f0-6f8bdcb9908c",
        "colab": {
          "base_uri": "https://localhost:8080/"
        }
      },
      "source": [
        "scalar_multiply(2,[1,2,3])"
      ],
      "execution_count": null,
      "outputs": [
        {
          "output_type": "execute_result",
          "data": {
            "text/plain": [
              "[2, 4, 6]"
            ]
          },
          "metadata": {
            "tags": []
          },
          "execution_count": 8
        }
      ]
    },
    {
      "cell_type": "markdown",
      "metadata": {
        "id": "ztpIoidYbGwB"
      },
      "source": [
        "# 計算每個元素的平均值"
      ]
    },
    {
      "cell_type": "code",
      "metadata": {
        "id": "wIaIEcU3bOwR"
      },
      "source": [
        "def vector_mean(vectors:List[Vector])->Vector:\n",
        "  n=len(vectors)\n",
        "  return scalar_multiply(1/n,vector_sum(vectors))\n"
      ],
      "execution_count": null,
      "outputs": []
    },
    {
      "cell_type": "code",
      "metadata": {
        "id": "cti6FOS_bmG3",
        "outputId": "8072f810-9e6c-4728-e84b-9d274af38299",
        "colab": {
          "base_uri": "https://localhost:8080/"
        }
      },
      "source": [
        "vector_mean([[1,2],[3,4],[5,6]])"
      ],
      "execution_count": null,
      "outputs": [
        {
          "output_type": "execute_result",
          "data": {
            "text/plain": [
              "[3.0, 4.0]"
            ]
          },
          "metadata": {
            "tags": []
          },
          "execution_count": 15
        }
      ]
    },
    {
      "cell_type": "markdown",
      "metadata": {
        "id": "UjJgtGNBhtwj"
      },
      "source": [
        "# 點積(dotproduct)\n",
        "相應元素相乘之後加總的結果"
      ]
    },
    {
      "cell_type": "code",
      "metadata": {
        "id": "rwrkJalNihX1"
      },
      "source": [
        "def dot(v:Vector,w:Vector)->float:\n",
        "  #計算v_1*w_1+... +v_n*w_n\n",
        "  assert len(v)==len(w),\"兩個向量必須有相同的維度\"\n",
        "\n",
        "  return sum(v_i*w_i for v_i,w_i in zip(v,w))"
      ],
      "execution_count": 6,
      "outputs": []
    },
    {
      "cell_type": "code",
      "metadata": {
        "id": "cij_lS64jBS8",
        "outputId": "b48436ea-7e7b-4708-859b-5bb610834088",
        "colab": {
          "base_uri": "https://localhost:8080/"
        }
      },
      "source": [
        "dot([1,2,3],[4,5,6])"
      ],
      "execution_count": null,
      "outputs": [
        {
          "output_type": "execute_result",
          "data": {
            "text/plain": [
              "32"
            ]
          },
          "metadata": {
            "tags": []
          },
          "execution_count": 17
        }
      ]
    },
    {
      "cell_type": "markdown",
      "metadata": {
        "id": "Rox61ibyjHpi"
      },
      "source": [
        "如果w長度為1，擇點積所測量得就是向量v在w方向上的分量。  \n",
        "  \n",
        "例如：w=[1,0] → dot(v,w) 就等於向量v的第一個元素值，即向量v投影在向量w上的向量長度"
      ]
    },
    {
      "cell_type": "markdown",
      "metadata": {
        "id": "jib5Ge4PjsLm"
      },
      "source": [
        "# 平方和\n",
        "送回v_1 * v_1 + ...... + v_n * v_n"
      ]
    },
    {
      "cell_type": "code",
      "metadata": {
        "id": "4Xd1P_wvMAmL"
      },
      "source": [
        "def sum_of_aquares(v:Vector) -> float:\n",
        "  return dot(v,v)"
      ],
      "execution_count": 4,
      "outputs": []
    },
    {
      "cell_type": "code",
      "metadata": {
        "id": "_Ntnl7OtNUI0",
        "outputId": "318537b1-ae9b-4783-b8d7-696411811da7",
        "colab": {
          "base_uri": "https://localhost:8080/"
        }
      },
      "source": [
        "sum_of_aquares([1,2,3])"
      ],
      "execution_count": 8,
      "outputs": [
        {
          "output_type": "execute_result",
          "data": {
            "text/plain": [
              "14"
            ]
          },
          "metadata": {
            "tags": []
          },
          "execution_count": 8
        }
      ]
    },
    {
      "cell_type": "markdown",
      "metadata": {
        "id": "Z2KJ8IOijw9h"
      },
      "source": [
        "# 向量的長度(magnitude)\n",
        "送回 v 的長度(或大小)  "
      ]
    },
    {
      "cell_type": "code",
      "metadata": {
        "id": "drurOdRLN71k"
      },
      "source": [
        "import math\n",
        "\n",
        "def magnitude(v:Vector)->float:\n",
        "  return math.aqrt(sum_of_aquares(v)) #math.sqrt 是計算平方根的一個函式\n"
      ],
      "execution_count": null,
      "outputs": []
    },
    {
      "cell_type": "markdown",
      "metadata": {
        "id": "R0dppEImj4Xb"
      },
      "source": [
        "# 兩個向量間的距離\n",
        "\n",
        "**粗體文字**"
      ]
    },
    {
      "cell_type": "code",
      "metadata": {
        "id": "SipnZ1H1SC5R"
      },
      "source": [
        "def squared_distance(v:Vector,w:Vector) -> float:\n",
        "  return sum_of_aquares(subtrate(v,w))\n",
        "\n",
        "def distance(v:Vector,w:Vector) -> float:\n",
        "  return math.sqrt(squared_distance(v,w))"
      ],
      "execution_count": 9,
      "outputs": []
    },
    {
      "cell_type": "markdown",
      "metadata": {
        "id": "XOz3VVehTxNU"
      },
      "source": [
        "## 等價寫法"
      ]
    },
    {
      "cell_type": "code",
      "metadata": {
        "id": "-9QLCalZT0b2"
      },
      "source": [
        "def distance(v:Vector,w:Vector) -> float:\n",
        "  return magnitude(subtract(v,w))"
      ],
      "execution_count": 10,
      "outputs": []
    },
    {
      "cell_type": "markdown",
      "metadata": {
        "id": "cm7O3tQJVe8C"
      },
      "source": [
        "# 矩陣\n",
        "一種二維的數字型態，常用**列表的列表(list of list)**來表示\n",
        "\n",
        "A[i][j]→第i橫行(row) 第j縱列(column)"
      ]
    },
    {
      "cell_type": "code",
      "metadata": {
        "id": "qzZvqLXcWDrr"
      },
      "source": [
        "Matrix=List[List[float]] #另一種型別別名"
      ],
      "execution_count": 11,
      "outputs": []
    },
    {
      "cell_type": "code",
      "metadata": {
        "id": "T7zMnP_OWNNL",
        "outputId": "0e713b05-7128-4e82-d131-fc71f389e405",
        "colab": {
          "base_uri": "https://localhost:8080/"
        }
      },
      "source": [
        "A=[[1,2,3],\n",
        " [4,5,6]]\n",
        "\n",
        "A #兩個橫行，三個縱列"
      ],
      "execution_count": 12,
      "outputs": [
        {
          "output_type": "execute_result",
          "data": {
            "text/plain": [
              "[[1, 2, 3], [4, 5, 6]]"
            ]
          },
          "metadata": {
            "tags": []
          },
          "execution_count": 12
        }
      ]
    },
    {
      "cell_type": "code",
      "metadata": {
        "id": "ijmeAf8IWW4M",
        "outputId": "19478c69-0e36-4119-9558-5848734e5139",
        "colab": {
          "base_uri": "https://localhost:8080/"
        }
      },
      "source": [
        "B=[[1,2],\n",
        "  [3,4],\n",
        "  [5,6]]\n",
        "\n",
        "B #三個橫行，兩個縱列"
      ],
      "execution_count": 13,
      "outputs": [
        {
          "output_type": "execute_result",
          "data": {
            "text/plain": [
              "[[1, 2], [3, 4], [5, 6]]"
            ]
          },
          "metadata": {
            "tags": []
          },
          "execution_count": 13
        }
      ]
    }
  ]
}