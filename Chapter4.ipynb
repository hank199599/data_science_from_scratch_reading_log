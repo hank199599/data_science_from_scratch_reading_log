{
  "nbformat": 4,
  "nbformat_minor": 0,
  "metadata": {
    "colab": {
      "name": "Chapter4.ipynb",
      "provenance": [],
      "authorship_tag": "ABX9TyOlO0TUr2ubdelJok6SGLTG",
      "include_colab_link": true
    },
    "kernelspec": {
      "name": "python3",
      "display_name": "Python 3"
    }
  },
  "cells": [
    {
      "cell_type": "markdown",
      "metadata": {
        "id": "view-in-github",
        "colab_type": "text"
      },
      "source": [
        "<a href=\"https://colab.research.google.com/github/hank199599/data_science_from_scratch_reading_log/blob/main/Chapter4.ipynb\" target=\"_parent\"><img src=\"https://colab.research.google.com/assets/colab-badge.svg\" alt=\"Open In Colab\"/></a>"
      ]
    },
    {
      "cell_type": "markdown",
      "metadata": {
        "id": "gZnKwV-H86-g"
      },
      "source": [
        "# 線性代數\n",
        "數學的一個分支，處理**向量空間**的問題"
      ]
    },
    {
      "cell_type": "markdown",
      "metadata": {
        "id": "tBHJF8ib9UnZ"
      },
      "source": [
        "# 向量\n",
        "它可以被視為有限維度裡的點，  \n",
        "可以彼此**相加**或**乘上純量**形成一個新向量\n"
      ]
    },
    {
      "cell_type": "markdown",
      "metadata": {
        "id": "nxM3yWaQ9xRt"
      },
      "source": [
        "## 型別別名(type alias)\n",
        "向量在Python上的實作，即一個**浮點數列表**"
      ]
    },
    {
      "cell_type": "code",
      "metadata": {
        "id": "mWyI25qhGPfT"
      },
      "source": [
        "from typing import List\n",
        "\n",
        "Vector = List[float]\n",
        "\n",
        "height_weight_age=[70,170,40] #[英寸、磅、歲]\n",
        "\n",
        "grades=[95,80,75,62] #[第1次考試成績、第2次考試成績、第3次考試成積、第4次考試成積]"
      ],
      "execution_count": 7,
      "outputs": []
    },
    {
      "cell_type": "markdown",
      "metadata": {
        "id": "KNCHbxH7_3ST"
      },
      "source": [
        "# 建立運算工具\n",
        "Python不提供相應的向量運算工具，因此我們需要自己定義這些工具  \n",
        "透過zip將兩個向量壓合起來，再利用**解析式列表**進行運算"
      ]
    },
    {
      "cell_type": "markdown",
      "metadata": {
        "id": "TJ3rkmE2AFMR"
      },
      "source": [
        "## 加法運算\n",
        "每個元素逐一加起來  \n",
        "  \n",
        "舉例來說：\n",
        "```\n",
        "[1,2]+[2,1] = [1+2,2+1] = [3,3]\n",
        "```\n",
        "\n"
      ]
    },
    {
      "cell_type": "code",
      "metadata": {
        "id": "U-5GZ78eAa18"
      },
      "source": [
        "def add( v:Vector, w:Vector) -> Vector:\n",
        "  assert len(v) == len(w) ,'兩個向量必須有相同的維度\"\n",
        "\n",
        "  return [ v_i+w_i for v_i,w_i in zip(v,w)]"
      ],
      "execution_count": 9,
      "outputs": []
    },
    {
      "cell_type": "code",
      "metadata": {
        "id": "yRAD8Pb1BDIc",
        "outputId": "551299ba-7aac-4717-db06-521345f3333f",
        "colab": {
          "base_uri": "https://localhost:8080/"
        }
      },
      "source": [
        "add([1,2,3],[4,5,6])"
      ],
      "execution_count": 12,
      "outputs": [
        {
          "output_type": "execute_result",
          "data": {
            "text/plain": [
              "[5, 7, 9]"
            ]
          },
          "metadata": {
            "tags": []
          },
          "execution_count": 12
        }
      ]
    },
    {
      "cell_type": "markdown",
      "metadata": {
        "id": "xzLqFLsMG4Kp"
      },
      "source": [
        "### 同時加多個向量"
      ]
    },
    {
      "cell_type": "code",
      "metadata": {
        "id": "LHgNf4-WG9bk"
      },
      "source": [
        "def vector_sum(vectors:List[Vector]) -> Vector:\n",
        "  #先檢查vertors這個向量列表是否為空\n",
        "  assert vectors,\"列表中沒有向量!\"\n",
        "\n",
        "  #檢查vertors 向量列表內的所有向量都具有相同的維度\n",
        "  num_elements=len(vectors[0])\n",
        "  assert all(len(v)==num_elements for v in vectors),\"向量維度不一致\"\n",
        "\n",
        "  #所有vectors[i]相加起來，是結果的第i個元素值\n",
        "  return [sum(vector[i] for vector in vectors) for i in range(num_elements)]\n"
      ],
      "execution_count": 30,
      "outputs": []
    },
    {
      "cell_type": "code",
      "metadata": {
        "id": "3Mi0rPXTMrBB"
      },
      "source": [
        "assert vector_sum([[1,2],[3,4],[5,6],[7,8]]) == [16,20]"
      ],
      "execution_count": 31,
      "outputs": []
    },
    {
      "cell_type": "markdown",
      "metadata": {
        "id": "00YdV2EPCDGI"
      },
      "source": [
        "## 減法運算\n",
        "每個元素逐一相減起來  \n",
        "  \n",
        "舉例來說：\n",
        "```\n",
        "[1,2]-[2,1] = [1-2,2-1] = [-1,1]\n",
        "```\n",
        "\n"
      ]
    },
    {
      "cell_type": "code",
      "metadata": {
        "id": "ixT27qKFCDGN"
      },
      "source": [
        "def subtrate( v:Vector, w:Vector) -> Vector:\n",
        "  assert len(v) == len(w) #兩個向量必須有相同的維度\n",
        "\n",
        "  return [ v_i-w_i for v_i,w_i in zip(v,w)]"
      ],
      "execution_count": 15,
      "outputs": []
    },
    {
      "cell_type": "code",
      "metadata": {
        "id": "AhFAV6P0CDGU",
        "outputId": "18e534f6-3a68-4f8b-e5e0-aa5f50b934ad",
        "colab": {
          "base_uri": "https://localhost:8080/"
        }
      },
      "source": [
        "subtrate([5,7,9],[4,5,6])"
      ],
      "execution_count": 16,
      "outputs": [
        {
          "output_type": "execute_result",
          "data": {
            "text/plain": [
              "[1, 2, 3]"
            ]
          },
          "metadata": {
            "tags": []
          },
          "execution_count": 16
        }
      ]
    }
  ]
}