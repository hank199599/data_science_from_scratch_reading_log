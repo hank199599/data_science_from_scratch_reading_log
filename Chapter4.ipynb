{
  "nbformat": 4,
  "nbformat_minor": 0,
  "metadata": {
    "colab": {
      "name": "Chapter4.ipynb",
      "provenance": [],
      "authorship_tag": "ABX9TyNXUtTIgebSjTdrpJ0rsgJU",
      "include_colab_link": true
    },
    "kernelspec": {
      "name": "python3",
      "display_name": "Python 3"
    }
  },
  "cells": [
    {
      "cell_type": "markdown",
      "metadata": {
        "id": "view-in-github",
        "colab_type": "text"
      },
      "source": [
        "<a href=\"https://colab.research.google.com/github/hank199599/data_science_from_scratch_reading_log/blob/main/Chapter4.ipynb\" target=\"_parent\"><img src=\"https://colab.research.google.com/assets/colab-badge.svg\" alt=\"Open In Colab\"/></a>"
      ]
    },
    {
      "cell_type": "markdown",
      "metadata": {
        "id": "gZnKwV-H86-g"
      },
      "source": [
        "# 線性代數\n",
        "數學的一個分支，處理**向量空間**的問題"
      ]
    },
    {
      "cell_type": "markdown",
      "metadata": {
        "id": "tBHJF8ib9UnZ"
      },
      "source": [
        "# 向量\n",
        "它可以被視為有限維度裡的點，  \n",
        "可以彼此**相加**或**乘上純量**形成一個新向量\n"
      ]
    },
    {
      "cell_type": "markdown",
      "metadata": {
        "id": "nxM3yWaQ9xRt"
      },
      "source": [
        "## 型別別名(type alias)\n",
        "向量在Python上的實作，即一個**浮點數列表**"
      ]
    },
    {
      "cell_type": "code",
      "metadata": {
        "id": "mWyI25qhGPfT"
      },
      "source": [
        "from typing import List\n",
        "\n",
        "Vector = List[float]\n",
        "\n",
        "height_weight_age=[70,170,40] #[英寸、磅、歲]\n",
        "\n",
        "grades=[95,80,75,62] #[第1次考試成績、第2次考試成績、第3次考試成積、第4次考試成積]"
      ],
      "execution_count": null,
      "outputs": []
    },
    {
      "cell_type": "markdown",
      "metadata": {
        "id": "KNCHbxH7_3ST"
      },
      "source": [
        "## 建立運算工具\n",
        "Python不提供相應的向量運算工具，因此我們需要自己定義這些工具  \n",
        "透過zip將兩個向量壓合起來，再利用**解析式列表**進行運算"
      ]
    },
    {
      "cell_type": "markdown",
      "metadata": {
        "id": "TJ3rkmE2AFMR"
      },
      "source": [
        "## 加法運算\n",
        "每個元素逐一加起來  \n",
        "  \n",
        "舉例來說：\n",
        "```\n",
        "[1,2]+[2,1] = [1+2,2+1] = [3,3]\n",
        "```\n",
        "\n"
      ]
    },
    {
      "cell_type": "code",
      "metadata": {
        "id": "U-5GZ78eAa18"
      },
      "source": [
        "def add( v:Vector, w:Vector) -> Vector:\n",
        "  assert len(v) == len(w) ,\"兩個向量必須有相同的維度\"\n",
        "\n",
        "  return [ v_i+w_i for v_i,w_i in zip(v,w)]"
      ],
      "execution_count": null,
      "outputs": []
    },
    {
      "cell_type": "code",
      "metadata": {
        "id": "yRAD8Pb1BDIc",
        "colab": {
          "base_uri": "https://localhost:8080/"
        },
        "outputId": "b90e9487-4f4f-4f88-a38b-0eef566719b8"
      },
      "source": [
        "add([1,2,3],[4,5,6])"
      ],
      "execution_count": null,
      "outputs": [
        {
          "output_type": "execute_result",
          "data": {
            "text/plain": [
              "[5, 7, 9]"
            ]
          },
          "metadata": {
            "tags": []
          },
          "execution_count": 6
        }
      ]
    },
    {
      "cell_type": "markdown",
      "metadata": {
        "id": "xzLqFLsMG4Kp"
      },
      "source": [
        "### 同時加多個向量"
      ]
    },
    {
      "cell_type": "code",
      "metadata": {
        "id": "LHgNf4-WG9bk"
      },
      "source": [
        "def vector_sum(vectors:List[Vector]) -> Vector:\n",
        "  #先檢查vertors這個向量列表是否為空\n",
        "  assert vectors,\"列表中沒有向量!\"\n",
        "\n",
        "  #檢查vertors 向量列表內的所有向量都具有相同的維度\n",
        "  num_elements=len(vectors[0])\n",
        "  assert all(len(v)==num_elements for v in vectors),\"向量維度不一致\"\n",
        "\n",
        "  #所有vectors[i]相加起來，是結果的第i個元素值\n",
        "  return [sum(vector[i] for vector in vectors) for i in range(num_elements)]\n"
      ],
      "execution_count": null,
      "outputs": []
    },
    {
      "cell_type": "code",
      "metadata": {
        "id": "3Mi0rPXTMrBB"
      },
      "source": [
        "vector_sum([[1,2],[3,4],[5,6],[7,8]])"
      ],
      "execution_count": null,
      "outputs": []
    },
    {
      "cell_type": "markdown",
      "metadata": {
        "id": "00YdV2EPCDGI"
      },
      "source": [
        "## 減法運算\n",
        "每個元素逐一相減起來  \n",
        "  \n",
        "舉例來說：\n",
        "```\n",
        "[1,2]-[2,1] = [1-2,2-1] = [-1,1]\n",
        "```\n",
        "\n"
      ]
    },
    {
      "cell_type": "code",
      "metadata": {
        "id": "ixT27qKFCDGN"
      },
      "source": [
        "def subtrate( v:Vector, w:Vector) -> Vector:\n",
        "  assert len(v) == len(w) #兩個向量必須有相同的維度\n",
        "\n",
        "  return [ v_i-w_i for v_i,w_i in zip(v,w)]"
      ],
      "execution_count": null,
      "outputs": []
    },
    {
      "cell_type": "code",
      "metadata": {
        "id": "AhFAV6P0CDGU"
      },
      "source": [
        "subtrate([5,7,9],[4,5,6])"
      ],
      "execution_count": null,
      "outputs": []
    },
    {
      "cell_type": "markdown",
      "metadata": {
        "id": "m4GYBch-YNJs"
      },
      "source": [
        "## 乘上純量\n",
        "讓向量的每一個元素都乘以同一個值"
      ]
    },
    {
      "cell_type": "code",
      "metadata": {
        "id": "gQU-iwdNYady"
      },
      "source": [
        "def scalar_multiply(c:float,v:Vector) -> Vector:\n",
        "  return [c*v_i for v_i in v]"
      ],
      "execution_count": null,
      "outputs": []
    },
    {
      "cell_type": "code",
      "metadata": {
        "id": "5Fa2l5c_YuiB"
      },
      "source": [
        "scalar_multiply(2,[1,2,3])"
      ],
      "execution_count": null,
      "outputs": []
    },
    {
      "cell_type": "markdown",
      "metadata": {
        "id": "ztpIoidYbGwB"
      },
      "source": [
        "## 計算每個元素的平均值"
      ]
    },
    {
      "cell_type": "code",
      "metadata": {
        "id": "wIaIEcU3bOwR"
      },
      "source": [
        "def vector_mean(vectors:List[Vector])->Vector:\n",
        "  n=len(vectors)\n",
        "  return scalar_multiply(1/n,vector_sum(vectors))\n"
      ],
      "execution_count": null,
      "outputs": []
    },
    {
      "cell_type": "code",
      "metadata": {
        "id": "cti6FOS_bmG3"
      },
      "source": [
        "vector_mean([[1,2],[3,4],[5,6]])"
      ],
      "execution_count": null,
      "outputs": []
    },
    {
      "cell_type": "markdown",
      "metadata": {
        "id": "UjJgtGNBhtwj"
      },
      "source": [
        "## 點積(dotproduct)\n",
        "相應元素相乘之後加總的結果"
      ]
    },
    {
      "cell_type": "code",
      "metadata": {
        "id": "rwrkJalNihX1"
      },
      "source": [
        "def dot(v:Vector,w:Vector)->float:\n",
        "  #計算v_1*w_1+... +v_n*w_n\n",
        "  assert len(v)==len(w),\"兩個向量必須有相同的維度\"\n",
        "\n",
        "  return sum(v_i*w_i for v_i,w_i in zip(v,w))"
      ],
      "execution_count": null,
      "outputs": []
    },
    {
      "cell_type": "code",
      "metadata": {
        "id": "cij_lS64jBS8"
      },
      "source": [
        "dot([1,2,3],[4,5,6])"
      ],
      "execution_count": null,
      "outputs": []
    },
    {
      "cell_type": "markdown",
      "metadata": {
        "id": "Rox61ibyjHpi"
      },
      "source": [
        "如果w長度為1，擇點積所測量得就是向量v在w方向上的分量。  \n",
        "  \n",
        "例如：w=[1,0] → dot(v,w) 就等於向量v的第一個元素值，即向量v投影在向量w上的向量長度"
      ]
    },
    {
      "cell_type": "markdown",
      "metadata": {
        "id": "jib5Ge4PjsLm"
      },
      "source": [
        "## 平方和\n",
        "送回v_1 * v_1 + ...... + v_n * v_n"
      ]
    },
    {
      "cell_type": "code",
      "metadata": {
        "id": "4Xd1P_wvMAmL"
      },
      "source": [
        "def sum_of_squares(v:Vector) -> float:\n",
        "  return dot(v,v)"
      ],
      "execution_count": null,
      "outputs": []
    },
    {
      "cell_type": "code",
      "metadata": {
        "id": "_Ntnl7OtNUI0"
      },
      "source": [
        "sum_of_squares([1,2,3])"
      ],
      "execution_count": null,
      "outputs": []
    },
    {
      "cell_type": "markdown",
      "metadata": {
        "id": "Z2KJ8IOijw9h"
      },
      "source": [
        "## 向量的長度(magnitude)\n",
        "送回 v 的長度(或大小)  "
      ]
    },
    {
      "cell_type": "code",
      "metadata": {
        "id": "drurOdRLN71k"
      },
      "source": [
        "import math\n",
        "\n",
        "def magnitude(v:Vector)->float:\n",
        "  return math.aqrt(sum_of_squares(v)) #math.sqrt 是計算平方根的一個函式\n"
      ],
      "execution_count": null,
      "outputs": []
    },
    {
      "cell_type": "markdown",
      "metadata": {
        "id": "R0dppEImj4Xb"
      },
      "source": [
        "## 兩個向量間的距離\n",
        "\n",
        "**粗體文字**"
      ]
    },
    {
      "cell_type": "code",
      "metadata": {
        "id": "SipnZ1H1SC5R"
      },
      "source": [
        "def squared_distance(v:Vector,w:Vector) -> float:\n",
        "  return sum_of_squares(subtrate(v,w))\n",
        "\n",
        "def distance(v:Vector,w:Vector) -> float:\n",
        "  return math.sqrt(squared_distance(v,w))"
      ],
      "execution_count": null,
      "outputs": []
    },
    {
      "cell_type": "markdown",
      "metadata": {
        "id": "XOz3VVehTxNU"
      },
      "source": [
        "## 等價寫法"
      ]
    },
    {
      "cell_type": "code",
      "metadata": {
        "id": "-9QLCalZT0b2"
      },
      "source": [
        "def distance(v:Vector,w:Vector) -> float:\n",
        "  return magnitude(subtract(v,w))"
      ],
      "execution_count": null,
      "outputs": []
    },
    {
      "cell_type": "markdown",
      "metadata": {
        "id": "cm7O3tQJVe8C"
      },
      "source": [
        "# 矩陣\n",
        "一種二維的數字型態，常用**列表的列表(list of list)**來表示\n",
        "\n",
        "A[i][j]→第i橫行(row) 第j縱列(column)"
      ]
    },
    {
      "cell_type": "code",
      "metadata": {
        "id": "qzZvqLXcWDrr"
      },
      "source": [
        "Matrix=List[List[float]] #另一種型別別名"
      ],
      "execution_count": null,
      "outputs": []
    },
    {
      "cell_type": "code",
      "metadata": {
        "id": "T7zMnP_OWNNL",
        "colab": {
          "base_uri": "https://localhost:8080/"
        },
        "outputId": "0e713b05-7128-4e82-d131-fc71f389e405"
      },
      "source": [
        "A=[[1,2,3],\n",
        " [4,5,6]]\n",
        "\n",
        "A #兩個橫行，三個縱列"
      ],
      "execution_count": null,
      "outputs": [
        {
          "output_type": "execute_result",
          "data": {
            "text/plain": [
              "[[1, 2, 3], [4, 5, 6]]"
            ]
          },
          "metadata": {
            "tags": []
          },
          "execution_count": 12
        }
      ]
    },
    {
      "cell_type": "code",
      "metadata": {
        "id": "ijmeAf8IWW4M",
        "colab": {
          "base_uri": "https://localhost:8080/"
        },
        "outputId": "19478c69-0e36-4119-9558-5848734e5139"
      },
      "source": [
        "B=[[1,2],\n",
        "  [3,4],\n",
        "  [5,6]]\n",
        "\n",
        "B #三個橫行，兩個縱列"
      ],
      "execution_count": null,
      "outputs": [
        {
          "output_type": "execute_result",
          "data": {
            "text/plain": [
              "[[1, 2], [3, 4], [5, 6]]"
            ]
          },
          "metadata": {
            "tags": []
          },
          "execution_count": 13
        }
      ]
    },
    {
      "cell_type": "markdown",
      "metadata": {
        "id": "zzaW52EN9AlB"
      },
      "source": [
        "# 計算矩陣的形狀(shape)\n"
      ]
    },
    {
      "cell_type": "code",
      "metadata": {
        "id": "6ErMRFjA9EpV"
      },
      "source": [
        "from typing import Tuple\n",
        "\n",
        "def shape(A:Matrix) -> Tuple[int,int]:\n",
        "\n",
        "  num_rows=len(A)\n",
        "  num_cols=len(A[0]) if A else 0\n",
        "  return num_rows,num_cols"
      ],
      "execution_count": null,
      "outputs": []
    },
    {
      "cell_type": "code",
      "metadata": {
        "id": "mHkxuGBV93DM",
        "colab": {
          "base_uri": "https://localhost:8080/"
        },
        "outputId": "db8cd478-8dc1-4187-9ca9-7af6a9b080d1"
      },
      "source": [
        "shape([[1,2,3],[4,5,6]])"
      ],
      "execution_count": null,
      "outputs": [
        {
          "output_type": "execute_result",
          "data": {
            "text/plain": [
              "(2, 3)"
            ]
          },
          "metadata": {
            "tags": []
          },
          "execution_count": 10
        }
      ]
    },
    {
      "cell_type": "markdown",
      "metadata": {
        "id": "1Zy-Xlgu-dDp"
      },
      "source": [
        "如果矩陣有n列k行，可以說它是n×k矩陣。  \n",
        "以線性代數的觀點可以將矩陣視為：\n",
        "* 每一行是一個長度為k的向量\n",
        "* 每一列是一個長度為n的向量"
      ]
    },
    {
      "cell_type": "code",
      "metadata": {
        "id": "E2TNZ9b4-dr9"
      },
      "source": [
        "def get_row(A:Matrix,i:int)->Vector:\n",
        "  return A[i]\n",
        "\n",
        "\n",
        "#針對每一行取A_i，接著去A_i這行的第j個元素放入新的陣列\n",
        "def get_col(A:Matrix,j:int)->Vector:\n",
        "  return [A_i[j] for A_i in A]"
      ],
      "execution_count": null,
      "outputs": []
    },
    {
      "cell_type": "code",
      "metadata": {
        "id": "ireaSxp8_iKq",
        "colab": {
          "base_uri": "https://localhost:8080/"
        },
        "outputId": "c166ee87-ea5e-4659-9f9a-0c05af985844"
      },
      "source": [
        "get_row([[1,2,3],[4,5,6],[7,8,9]],0)"
      ],
      "execution_count": null,
      "outputs": [
        {
          "output_type": "execute_result",
          "data": {
            "text/plain": [
              "[1, 2, 3]"
            ]
          },
          "metadata": {
            "tags": []
          },
          "execution_count": 20
        }
      ]
    },
    {
      "cell_type": "code",
      "metadata": {
        "id": "fyFp6HsJ--I9",
        "colab": {
          "base_uri": "https://localhost:8080/"
        },
        "outputId": "4356788a-5a1d-499c-c8e4-dd155a919be5"
      },
      "source": [
        "get_col([[1,2,3],[4,5,6],[7,8,9]],0)"
      ],
      "execution_count": null,
      "outputs": [
        {
          "output_type": "execute_result",
          "data": {
            "text/plain": [
              "[1, 4, 7]"
            ]
          },
          "metadata": {
            "tags": []
          },
          "execution_count": 21
        }
      ]
    },
    {
      "cell_type": "markdown",
      "metadata": {
        "id": "-z9tAz0K_3eS"
      },
      "source": [
        "## 生成矩陣元素的函式\n",
        "使用一個巢狀的解析式列表來創建出一個矩陣"
      ]
    },
    {
      "cell_type": "code",
      "metadata": {
        "id": "2LIJNDssADC_"
      },
      "source": [
        "from typing import Callable\n",
        "\n",
        "#送回一個num_rows * num_cols 的矩陣，其中第(i,j)項就是entry_fn(i,j)\n",
        "def make_matrix(num_rows:int,num_cols:int,entry_fn:Callable[[int,int],float])->Matrix:\n",
        "\n",
        "  return [[ entry_fn(i,j)        # 給定 i ，就能建立長度為 j 的列表\n",
        "        for j in range(num_cols)] # [entry_fn(i,0),...]\n",
        "        for i in range(num_rows)] # 針對每個i都建立一個列表"
      ],
      "execution_count": null,
      "outputs": []
    },
    {
      "cell_type": "markdown",
      "metadata": {
        "id": "IXuUthxSFGq0"
      },
      "source": [
        "### 建立單位矩陣"
      ]
    },
    {
      "cell_type": "code",
      "metadata": {
        "id": "wEZxaPrWEtcJ"
      },
      "source": [
        "def identity_matrix(n:int) ->Matrix:\n",
        "  return make_matrix( n,n,lambda i,j:1 if i==j else 0)"
      ],
      "execution_count": null,
      "outputs": []
    },
    {
      "cell_type": "code",
      "metadata": {
        "id": "_N8ytPx2FKyw",
        "colab": {
          "base_uri": "https://localhost:8080/"
        },
        "outputId": "18cdfdf8-52eb-4a93-9e02-3ad346f2a183"
      },
      "source": [
        "identity_matrix(5)"
      ],
      "execution_count": null,
      "outputs": [
        {
          "output_type": "execute_result",
          "data": {
            "text/plain": [
              "[[1, 0, 0, 0, 0],\n",
              " [0, 1, 0, 0, 0],\n",
              " [0, 0, 1, 0, 0],\n",
              " [0, 0, 0, 1, 0],\n",
              " [0, 0, 0, 0, 1]]"
            ]
          },
          "metadata": {
            "tags": []
          },
          "execution_count": 27
        }
      ]
    },
    {
      "cell_type": "markdown",
      "metadata": {
        "id": "fmr5f4lNFeM4"
      },
      "source": [
        "## 採用矩陣的理由\n",
        "1. 如果有很多向量組合成一個資料集，可以用矩陣來表示\n",
        "2. 把n×k矩陣當成一個線性函式，把k維的向量映射到n維的向量\n",
        "3. 用來表達**二元關係(binary relationship)**"
      ]
    },
    {
      "cell_type": "markdown",
      "metadata": {
        "id": "IQJI0DKOGGcL"
      },
      "source": [
        "### 二元關係(binary relationship)"
      ]
    },
    {
      "cell_type": "markdown",
      "metadata": {
        "id": "sird62flGJJN"
      },
      "source": [
        "原先的做法"
      ]
    },
    {
      "cell_type": "code",
      "metadata": {
        "id": "ELgPB3asGMuS"
      },
      "source": [
        "firendship=[(0,1),(0,2),(1,2),(1,3),(2,3),(3,4),\n",
        "      (4,5),(5,6),(5,7),(6,7),(7,8),(8,9)]"
      ],
      "execution_count": null,
      "outputs": []
    },
    {
      "cell_type": "markdown",
      "metadata": {
        "id": "mf7HBln2HIM-"
      },
      "source": [
        "利用二元關係表達  \n",
        "如果彼此間關係很少，這是一種即沒效率的表達方式。  \n",
        "但這種資料個是讓我們能輕易找出兩節點間的關係是否成立"
      ]
    },
    {
      "cell_type": "code",
      "metadata": {
        "id": "QoSFdq0_HHl8"
      },
      "source": [
        "    #user  0,1,2,3,4,5,6,7,8,9\n",
        "firend__matrix=[[0,1,1,0,0,0,0,0,0,0], #user0\n",
        "        [1,0,1,1,0,0,0,0,0,0], #user1\n",
        "        [1,1,0,1,0,0,0,0,0,0], #user2\n",
        "        [0,1,1,0,1,0,0,0,0,0], #user3\n",
        "        [0,0,0,1,0,1,0,0,0,0], #user4\n",
        "        [0,0,0,0,1,0,1,1,0,0], #user5\n",
        "        [0,0,0,0,0,1,0,0,1,0], #user6\n",
        "        [0,0,0,0,0,1,0,0,1,0], #user7\n",
        "        [0,0,0,0,0,0,1,1,0,1], #user8\n",
        "        [0,0,0,0,0,0,0,0,1,0]] #user9"
      ],
      "execution_count": null,
      "outputs": []
    },
    {
      "cell_type": "code",
      "metadata": {
        "id": "p-ssGC4qImzX",
        "colab": {
          "base_uri": "https://localhost:8080/"
        },
        "outputId": "c49d1e90-8805-4540-a0f3-ebea3b3dcb84"
      },
      "source": [
        "firend__matrix[0][2] # 0與2是朋友關係"
      ],
      "execution_count": null,
      "outputs": [
        {
          "output_type": "execute_result",
          "data": {
            "text/plain": [
              "1"
            ]
          },
          "metadata": {
            "tags": []
          },
          "execution_count": 29
        }
      ]
    },
    {
      "cell_type": "code",
      "metadata": {
        "id": "K0CRVHXxIxc9",
        "colab": {
          "base_uri": "https://localhost:8080/"
        },
        "outputId": "a909833c-a4fc-4652-bdde-76a4df8adc8c"
      },
      "source": [
        "firend__matrix[0][8] # 0與8沒有朋友關係"
      ],
      "execution_count": null,
      "outputs": [
        {
          "output_type": "execute_result",
          "data": {
            "text/plain": [
              "0"
            ]
          },
          "metadata": {
            "tags": []
          },
          "execution_count": 30
        }
      ]
    },
    {
      "cell_type": "markdown",
      "metadata": {
        "id": "Ov3dSw1HNBmn"
      },
      "source": [
        "### 練習\n",
        "利用課本提供的firend__matrix建立一個函式：  \n",
        "輸入特定使用者編號後，以矩陣形式返還與該編號使用者有朋友關係的人"
      ]
    },
    {
      "cell_type": "code",
      "metadata": {
        "id": "e6654QQpI6Ub"
      },
      "source": [
        "def frined_of_num(i:int) -> Matrix:\n",
        "  temp=firend__matrix[i] #取出指定的朋友關係陣列\n",
        "  return [ \"user\"+str(j) for j in range(len(temp)) if temp[j]==1]"
      ],
      "execution_count": null,
      "outputs": []
    },
    {
      "cell_type": "code",
      "metadata": {
        "id": "KGpVTQFmODjR",
        "colab": {
          "base_uri": "https://localhost:8080/"
        },
        "outputId": "30056d06-3f2f-40e0-cabf-240bd806271c"
      },
      "source": [
        "frined_of_num(5)"
      ],
      "execution_count": null,
      "outputs": [
        {
          "output_type": "execute_result",
          "data": {
            "text/plain": [
              "['user4', 'user6', 'user7']"
            ]
          },
          "metadata": {
            "tags": []
          },
          "execution_count": 41
        }
      ]
    }
  ]
}