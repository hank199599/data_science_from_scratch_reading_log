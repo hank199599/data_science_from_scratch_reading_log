{
  "nbformat": 4,
  "nbformat_minor": 0,
  "metadata": {
    "colab": {
      "name": "Chapter9.ipynb",
      "provenance": [],
      "authorship_tag": "ABX9TyPbTDJzzBho90BGQzSOeB05",
      "include_colab_link": true
    },
    "kernelspec": {
      "name": "python3",
      "display_name": "Python 3"
    }
  },
  "cells": [
    {
      "cell_type": "markdown",
      "metadata": {
        "id": "view-in-github",
        "colab_type": "text"
      },
      "source": [
        "<a href=\"https://colab.research.google.com/github/hank199599/data_science_from_scratch_reading_log/blob/main/Chapter9.ipynb\" target=\"_parent\"><img src=\"https://colab.research.google.com/assets/colab-badge.svg\" alt=\"Open In Colab\"/></a>"
      ]
    },
    {
      "cell_type": "markdown",
      "metadata": {
        "id": "-Ui58U-uOeld"
      },
      "source": [
        "# 標準輸入與標準輸出"
      ]
    },
    {
      "cell_type": "code",
      "metadata": {
        "id": "mWyI25qhGPfT"
      },
      "source": [
        "#egrep.py\n",
        "import sys.re\n",
        "\n",
        "\"\"\"\n",
        "sys.argv 是一個列表，包含所有命令列參數\n",
        "* sys.argv[0] 程式本身的名稱\n",
        "* sys.argv[1] 於命令列中所指定的正規表達式\n",
        "\"\"\"\n",
        "regex = sys.argv[1]\n",
        "\n",
        "#針對傳遞到script腳本中的每一行資料\n",
        "for line in sys.stdin:\n",
        "  #只要符合正規表達式，就把他寫入std.out\n",
        "  if re.search(regex,line):\n",
        "    sts.stdout.write(line)\n"
      ],
      "execution_count": null,
      "outputs": []
    }
  ]
}