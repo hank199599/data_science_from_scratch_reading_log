{
  "nbformat": 4,
  "nbformat_minor": 0,
  "metadata": {
    "colab": {
      "name": "Chapter5.ipynb",
      "provenance": [],
      "authorship_tag": "ABX9TyOdK5MD0oyGSKTwsufAO5sa",
      "include_colab_link": true
    },
    "kernelspec": {
      "name": "python3",
      "display_name": "Python 3"
    }
  },
  "cells": [
    {
      "cell_type": "markdown",
      "metadata": {
        "id": "view-in-github",
        "colab_type": "text"
      },
      "source": [
        "<a href=\"https://colab.research.google.com/github/hank199599/data_science_from_scratch_reading_log/blob/main/Chapter5.ipynb\" target=\"_parent\"><img src=\"https://colab.research.google.com/assets/colab-badge.svg\" alt=\"Open In Colab\"/></a>"
      ]
    },
    {
      "cell_type": "markdown",
      "metadata": {
        "id": "yFwBttdatGD-"
      },
      "source": [
        "初始化這個專案"
      ]
    },
    {
      "cell_type": "code",
      "metadata": {
        "id": "6DeqRb84tETT"
      },
      "source": [
        "from typing import List\n",
        "\n",
        "Vector = List[float]\n",
        "\n",
        "height_weight_age=[70,170,40] #[英寸、磅、歲]\n",
        "\n",
        "grades=[95,80,75,62] #[第1次考試成績、第2次考試成績、第3次考試成積、第4次考試成積]"
      ],
      "execution_count": 24,
      "outputs": []
    },
    {
      "cell_type": "markdown",
      "metadata": {
        "id": "f3zcr6MwQIyr"
      },
      "source": [
        "# 描述單一組資料\n",
        "如果資料數量不多這是一種最好的描述方式"
      ]
    },
    {
      "cell_type": "code",
      "metadata": {
        "id": "mWyI25qhGPfT",
        "colab": {
          "base_uri": "https://localhost:8080/",
          "height": 295
        },
        "outputId": "e1ddd0f5-cf8d-4244-bb60-06508921e946"
      },
      "source": [
        "from collections import Counter\n",
        "import matplotlib.pyplot as plt\n",
        "\n",
        "num_friends = [100,49,41,40,25,21,21,19,19,18,18,16,15,15,15,15,14,14,13,13,13,13,12,12,11,10,10,10,10,10,10,10,10,10,10,10,10,10,10,10,9,9,9,9,9,9,9,9,9,9,9,9,9,9,9,9,9,9,8,8,8,8,8,8,8,8,8,8,8,8,8,7,7,7,7,7,7,7,7,7,7,7,7,7,7,7,6,6,6,6,6,6,6,6,6,6,6,6,6,6,6,6,6,6,6,6,6,6,5,5,5,5,5,5,5,5,5,5,5,5,5,5,5,5,5,4,4,4,4,4,4,4,4,4,4,4,4,4,4,4,4,4,4,4,4,3,3,3,3,3,3,3,3,3,3,3,3,3,3,3,3,3,3,3,3,2,2,2,2,2,2,2,2,2,2,2,2,2,2,2,2,2,1,1,1,1,1,1,1,1,1,1,1,1,1,1,1,1,1,1,1,1,1,1]\n",
        "friend_counts = Counter(num_friends)\n",
        "\n",
        "xs = range(101)             # 最大數字就是100\n",
        "ys = [friend_counts[x] for x in xs] # 高度是朋友的數量\n",
        "plt.bar(xs,ys)\n",
        "plt.axis([0,101,0,25])\n",
        "plt.title(\"Histogram of Friend Counts\")\n",
        "plt.xlabel(\"# of friends\")\n",
        "plt.ylabel(\"# of people\")\n",
        "plt.show()"
      ],
      "execution_count": null,
      "outputs": [
        {
          "output_type": "display_data",
          "data": {
            "image/png": "[encoded data removed]",
            "text/plain": [
              "<Figure size 432x288 with 1 Axes>"
            ]
          },
          "metadata": {
            "tags": [],
            "needs_background": "light"
          }
        }
      ]
    },
    {
      "cell_type": "markdown",
      "metadata": {
        "id": "kBzB17xzU4DL"
      },
      "source": [
        "### 資料點的數量"
      ]
    },
    {
      "cell_type": "code",
      "metadata": {
        "colab": {
          "base_uri": "https://localhost:8080/"
        },
        "id": "XSCAjFioU7fe",
        "outputId": "bf539c78-accc-4ee7-8148-84f17284d6df"
      },
      "source": [
        "num_points=len(num_friends)\n",
        "num_points"
      ],
      "execution_count": null,
      "outputs": [
        {
          "output_type": "execute_result",
          "data": {
            "text/plain": [
              "204"
            ]
          },
          "metadata": {
            "tags": []
          },
          "execution_count": 19
        }
      ]
    },
    {
      "cell_type": "markdown",
      "metadata": {
        "id": "CUlst4PrWOYB"
      },
      "source": [
        "### 最大值和最小值"
      ]
    },
    {
      "cell_type": "code",
      "metadata": {
        "id": "f77p7SqGWQdj",
        "colab": {
          "base_uri": "https://localhost:8080/"
        },
        "outputId": "033ffd62-43c1-4ba6-97ee-bcaff94f5788"
      },
      "source": [
        "largest_value=max(num_friends)\n",
        "smallest_value=min(num_friends)\n",
        "\n",
        "print(\"largest_value:\",largest_value)\n",
        "print(\"smallest_value:\",smallest_value)"
      ],
      "execution_count": null,
      "outputs": [
        {
          "output_type": "stream",
          "text": [
            "largest_value: 100\n",
            "smallest_value: 1\n"
          ],
          "name": "stdout"
        }
      ]
    },
    {
      "cell_type": "markdown",
      "metadata": {
        "id": "GVuJrsvbWjLa"
      },
      "source": [
        "### 特定位置的值\n"
      ]
    },
    {
      "cell_type": "code",
      "metadata": {
        "id": "RgTxhnp1W1zY",
        "colab": {
          "base_uri": "https://localhost:8080/"
        },
        "outputId": "992a653b-aeee-41c5-a13e-698fb40d4937"
      },
      "source": [
        "sorted_values=sorted(num_friends)\n",
        "smllest_value=sorted_values[0]\n",
        "second_smallest_value=sorted_values[1]\n",
        "second_largest_value=sorted_values[-2]\n",
        "\n",
        "print(\"smllest_value:\",smllest_value)\n",
        "print(\"second_smallest_value:\",second_smallest_value)\n",
        "print(\"second_largest_value:\",second_largest_value)"
      ],
      "execution_count": null,
      "outputs": [
        {
          "output_type": "stream",
          "text": [
            "smllest_value: 1\n",
            "second_smallest_value: 1\n",
            "second_largest_value: 49\n"
          ],
          "name": "stdout"
        }
      ]
    },
    {
      "cell_type": "markdown",
      "metadata": {
        "id": "32YWpWJFr0aY"
      },
      "source": [
        "# 中央趨勢\n",
        "\n"
      ]
    },
    {
      "cell_type": "markdown",
      "metadata": {
        "id": "JcsiIHeNtfoo"
      },
      "source": [
        "## 平均值(mean/average)\n",
        "\n",
        "\n",
        "```\n",
        "平均值=資料加總/資料的數量\n",
        "```"
      ]
    },
    {
      "cell_type": "code",
      "metadata": {
        "id": "TJeGkrZOsOoA",
        "outputId": "9ce3340d-f049-41ea-eaf5-dd767f2854dd",
        "colab": {
          "base_uri": "https://localhost:8080/"
        }
      },
      "source": [
        "def mean(xs:List[float]) -> float:\n",
        "  return sum(xs) / len(xs)\n",
        "\n",
        "mean(num_friends)"
      ],
      "execution_count": 25,
      "outputs": [
        {
          "output_type": "execute_result",
          "data": {
            "text/plain": [
              "7.333333333333333"
            ]
          },
          "metadata": {
            "tags": []
          },
          "execution_count": 25
        }
      ]
    },
    {
      "cell_type": "markdown",
      "metadata": {
        "id": "6EZdmBFHtRzj"
      },
      "source": [
        "## 中位數(medium) \n",
        "首先，將資料順序排列。依據資料點數量是奇數或偶數，中位數有兩種可能計算方式：\n",
        "* 奇數：正中央位置的數字\n",
        "* 偶數：中央位置前後兩個數字的平均值\n",
        "  \n",
        "**注意事項：**  \n",
        "中位數並不是跟整組資料中的每個數值都有關係"
      ]
    },
    {
      "cell_type": "code",
      "metadata": {
        "id": "KQc85B9MtiQv"
      },
      "source": [
        "def _medium_odd(xs:List[float]) ->float:\n",
        "  return sorted(xs)[len(xs)//2]\n",
        "\n",
        "def _medium_even(xs:List[float]) ->float:\n",
        "  sorted_xs=sorted(xs)\n",
        "  hi_midpoint=len(xs)\n",
        "  return (sorted_xs[hi_midpoint-1])"
      ],
      "execution_count": null,
      "outputs": []
    }
  ]
}