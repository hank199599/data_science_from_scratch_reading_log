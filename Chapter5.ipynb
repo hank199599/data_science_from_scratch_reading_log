{
  "nbformat": 4,
  "nbformat_minor": 0,
  "metadata": {
    "colab": {
      "name": "Chapter5.ipynb",
      "provenance": [],
      "toc_visible": true,
      "authorship_tag": "ABX9TyP7cDEYt3keNgsKc+AgLcTo",
      "include_colab_link": true
    },
    "kernelspec": {
      "name": "python3",
      "display_name": "Python 3"
    }
  },
  "cells": [
    {
      "cell_type": "markdown",
      "metadata": {
        "id": "view-in-github",
        "colab_type": "text"
      },
      "source": [
        "<a href=\"https://colab.research.google.com/github/hank199599/data_science_from_scratch_reading_log/blob/main/Chapter5.ipynb\" target=\"_parent\"><img src=\"https://colab.research.google.com/assets/colab-badge.svg\" alt=\"Open In Colab\"/></a>"
      ]
    },
    {
      "cell_type": "markdown",
      "metadata": {
        "id": "yFwBttdatGD-"
      },
      "source": [
        "初始化這個專案  \n",
        "引用 **第四章 線性代數** 所建立的函數來協助運算"
      ]
    },
    {
      "cell_type": "code",
      "metadata": {
        "id": "6DeqRb84tETT"
      },
      "source": [
        "from typing import List\n",
        "\n",
        "Vector = List[float]\n",
        "\n",
        "def dot(v:Vector,w:Vector)->float:\n",
        "  #計算v_1*w_1+... +v_n*w_n\n",
        "  assert len(v)==len(w),\"兩個向量必須有相同的維度\"\n",
        "\n",
        "  return sum(v_i*w_i for v_i,w_i in zip(v,w))\n",
        "\n",
        "def sum_of_squares(v:Vector) -> float:\n",
        "  return dot(v,v)"
      ],
      "execution_count": null,
      "outputs": []
    },
    {
      "cell_type": "markdown",
      "metadata": {
        "id": "f3zcr6MwQIyr"
      },
      "source": [
        "# 描述單一組資料\n",
        "如果資料數量不多這是一種最好的描述方式"
      ]
    },
    {
      "cell_type": "code",
      "metadata": {
        "id": "mWyI25qhGPfT",
        "colab": {
          "base_uri": "https://localhost:8080/",
          "height": 295
        },
        "outputId": "bba837a7-6e72-46a5-ceb4-33d25cd4553b"
      },
      "source": [
        "from collections import Counter\n",
        "import matplotlib.pyplot as plt\n",
        "\n",
        "num_friends = [100,49,41,40,25,21,21,19,19,18,18,16,15,15,15,15,14,14,13,13,13,13,12,12,11,10,10,10,10,10,10,10,10,10,10,10,10,10,10,10,9,9,9,9,9,9,9,9,9,9,9,9,9,9,9,9,9,9,8,8,8,8,8,8,8,8,8,8,8,8,8,7,7,7,7,7,7,7,7,7,7,7,7,7,7,7,6,6,6,6,6,6,6,6,6,6,6,6,6,6,6,6,6,6,6,6,6,6,5,5,5,5,5,5,5,5,5,5,5,5,5,5,5,5,5,4,4,4,4,4,4,4,4,4,4,4,4,4,4,4,4,4,4,4,4,3,3,3,3,3,3,3,3,3,3,3,3,3,3,3,3,3,3,3,3,2,2,2,2,2,2,2,2,2,2,2,2,2,2,2,2,2,1,1,1,1,1,1,1,1,1,1,1,1,1,1,1,1,1,1,1,1,1,1]\n",
        "friend_counts = Counter(num_friends)\n",
        "\n",
        "xs = range(101)             # 最大數字就是100\n",
        "ys = [friend_counts[x] for x in xs] # 高度是朋友的數量\n",
        "plt.bar(xs,ys)\n",
        "plt.axis([0,101,0,25])\n",
        "plt.title(\"Histogram of Friend Counts\")\n",
        "plt.xlabel(\"# of friends\")\n",
        "plt.ylabel(\"# of people\")\n",
        "plt.show()"
      ],
      "execution_count": null,
      "outputs": [
        {
          "output_type": "display_data",
          "data": {
            "image/png": "[encoded data removed]",
            "text/plain": [
              "<Figure size 432x288 with 1 Axes>"
            ]
          },
          "metadata": {
            "tags": [],
            "needs_background": "light"
          }
        }
      ]
    },
    {
      "cell_type": "markdown",
      "metadata": {
        "id": "kBzB17xzU4DL"
      },
      "source": [
        "### 資料點的數量"
      ]
    },
    {
      "cell_type": "code",
      "metadata": {
        "colab": {
          "base_uri": "https://localhost:8080/"
        },
        "id": "XSCAjFioU7fe",
        "outputId": "bf539c78-accc-4ee7-8148-84f17284d6df"
      },
      "source": [
        "num_points=len(num_friends)\n",
        "num_points"
      ],
      "execution_count": null,
      "outputs": [
        {
          "output_type": "execute_result",
          "data": {
            "text/plain": [
              "204"
            ]
          },
          "metadata": {
            "tags": []
          },
          "execution_count": 19
        }
      ]
    },
    {
      "cell_type": "markdown",
      "metadata": {
        "id": "CUlst4PrWOYB"
      },
      "source": [
        "### 最大值和最小值"
      ]
    },
    {
      "cell_type": "code",
      "metadata": {
        "id": "f77p7SqGWQdj",
        "colab": {
          "base_uri": "https://localhost:8080/"
        },
        "outputId": "033ffd62-43c1-4ba6-97ee-bcaff94f5788"
      },
      "source": [
        "largest_value=max(num_friends)\n",
        "smallest_value=min(num_friends)\n",
        "\n",
        "print(\"largest_value:\",largest_value)\n",
        "print(\"smallest_value:\",smallest_value)"
      ],
      "execution_count": null,
      "outputs": [
        {
          "output_type": "stream",
          "text": [
            "largest_value: 100\n",
            "smallest_value: 1\n"
          ],
          "name": "stdout"
        }
      ]
    },
    {
      "cell_type": "markdown",
      "metadata": {
        "id": "GVuJrsvbWjLa"
      },
      "source": [
        "### 特定位置的值\n"
      ]
    },
    {
      "cell_type": "code",
      "metadata": {
        "id": "RgTxhnp1W1zY",
        "colab": {
          "base_uri": "https://localhost:8080/"
        },
        "outputId": "992a653b-aeee-41c5-a13e-698fb40d4937"
      },
      "source": [
        "sorted_values=sorted(num_friends)\n",
        "smllest_value=sorted_values[0]\n",
        "second_smallest_value=sorted_values[1]\n",
        "second_largest_value=sorted_values[-2]\n",
        "\n",
        "print(\"smllest_value:\",smllest_value)\n",
        "print(\"second_smallest_value:\",second_smallest_value)\n",
        "print(\"second_largest_value:\",second_largest_value)"
      ],
      "execution_count": null,
      "outputs": [
        {
          "output_type": "stream",
          "text": [
            "smllest_value: 1\n",
            "second_smallest_value: 1\n",
            "second_largest_value: 49\n"
          ],
          "name": "stdout"
        }
      ]
    },
    {
      "cell_type": "markdown",
      "metadata": {
        "id": "32YWpWJFr0aY"
      },
      "source": [
        "# 中央趨勢\n",
        "\n"
      ]
    },
    {
      "cell_type": "markdown",
      "metadata": {
        "id": "JcsiIHeNtfoo"
      },
      "source": [
        "## 平均值(mean/average)\n",
        "\n",
        "\n",
        "```\n",
        "平均值=資料加總/資料的數量\n",
        "```"
      ]
    },
    {
      "cell_type": "code",
      "metadata": {
        "colab": {
          "base_uri": "https://localhost:8080/"
        },
        "id": "TJeGkrZOsOoA",
        "outputId": "b2afc736-ecec-4730-e065-2de2189f3e20"
      },
      "source": [
        "def mean(xs:List[float]) -> float:\n",
        "  return sum(xs) / len(xs)\n",
        "\n",
        "mean(num_friends)"
      ],
      "execution_count": null,
      "outputs": [
        {
          "output_type": "execute_result",
          "data": {
            "text/plain": [
              "7.333333333333333"
            ]
          },
          "metadata": {
            "tags": []
          },
          "execution_count": 12
        }
      ]
    },
    {
      "cell_type": "markdown",
      "metadata": {
        "id": "6EZdmBFHtRzj"
      },
      "source": [
        "## 中位數(medium) \n",
        "首先，將資料順序排列。依據資料點數量是奇數或偶數，中位數有兩種可能計算方式：\n",
        "* 奇數：正中央位置的數字\n",
        "* 偶數：中央位置前後兩個數字的平均值\n",
        "  \n",
        "**注意事項：**  \n",
        "中位數並不是跟整組資料中的每個數值都有關係"
      ]
    },
    {
      "cell_type": "code",
      "metadata": {
        "id": "KQc85B9MtiQv"
      },
      "source": [
        "def _medium_odd(xs:List[float]) ->float:\n",
        "  return sorted(xs)[len(xs)//2]\n",
        "\n",
        "def _medium_even(xs:List[float]) ->float:\n",
        "  sorted_xs=sorted(xs)\n",
        "  hi_midpoint=len(xs)//2\n",
        "  return (sorted_xs[hi_midpoint-1]+sorted_xs[hi_midpoint])/2\n",
        "\n",
        "def median(v:List[float])->float:\n",
        "  return _medium_even(v) if len(v)%2 ==0 else _medium_odd(v)"
      ],
      "execution_count": null,
      "outputs": []
    },
    {
      "cell_type": "code",
      "metadata": {
        "colab": {
          "base_uri": "https://localhost:8080/"
        },
        "id": "Auabg_gDLrZb",
        "outputId": "06f79008-a4a1-4fd6-b54d-6e6731d64b37"
      },
      "source": [
        "median([1,10,2,9,5])"
      ],
      "execution_count": null,
      "outputs": [
        {
          "output_type": "execute_result",
          "data": {
            "text/plain": [
              "5"
            ]
          },
          "metadata": {
            "tags": []
          },
          "execution_count": 5
        }
      ]
    },
    {
      "cell_type": "code",
      "metadata": {
        "colab": {
          "base_uri": "https://localhost:8080/"
        },
        "id": "qIuUuesaL5ib",
        "outputId": "e831fdf7-2c29-489e-be54-47b7fb8a236c"
      },
      "source": [
        "median([1,9,2,10])"
      ],
      "execution_count": null,
      "outputs": [
        {
          "output_type": "execute_result",
          "data": {
            "text/plain": [
              "5.5"
            ]
          },
          "metadata": {
            "tags": []
          },
          "execution_count": 8
        }
      ]
    },
    {
      "cell_type": "code",
      "metadata": {
        "colab": {
          "base_uri": "https://localhost:8080/"
        },
        "id": "hG5R-1_aMCj_",
        "outputId": "ead50507-96c7-492b-8eb5-0a2734820164"
      },
      "source": [
        "median(num_friends)"
      ],
      "execution_count": null,
      "outputs": [
        {
          "output_type": "execute_result",
          "data": {
            "text/plain": [
              "6.0"
            ]
          },
          "metadata": {
            "tags": []
          },
          "execution_count": 11
        }
      ]
    },
    {
      "cell_type": "markdown",
      "metadata": {
        "id": "XZMt3zb4MLFR"
      },
      "source": [
        "## 離群值(outlier)\n",
        "在統計學中，離群值是與其他觀測值明顯不同的數據點。離群值可能是由於測量的可變性所致，也可能表明存在實驗誤差。"
      ]
    },
    {
      "cell_type": "markdown",
      "metadata": {
        "id": "p1eeNP6mMUsd"
      },
      "source": [
        "## 分位數 (quantile)\n",
        "小於某分位數的資料，正好佔有所有資料的某個特定百分比"
      ]
    },
    {
      "cell_type": "code",
      "metadata": {
        "id": "U92jO-n7MmQD"
      },
      "source": [
        "def quantile(xs:List[float],p:float)->float:\n",
        "  p_index=int(p*len(xs))\n",
        "  return sorted(xs)[p_index]"
      ],
      "execution_count": null,
      "outputs": []
    },
    {
      "cell_type": "code",
      "metadata": {
        "colab": {
          "base_uri": "https://localhost:8080/"
        },
        "id": "KhiW-5v9M299",
        "outputId": "3e20ee0c-048c-447e-8b79-4b15ddfc9f76"
      },
      "source": [
        "quantile(num_friends,0.10)"
      ],
      "execution_count": null,
      "outputs": [
        {
          "output_type": "execute_result",
          "data": {
            "text/plain": [
              "1"
            ]
          },
          "metadata": {
            "tags": []
          },
          "execution_count": 17
        }
      ]
    },
    {
      "cell_type": "code",
      "metadata": {
        "colab": {
          "base_uri": "https://localhost:8080/"
        },
        "id": "luSBnUEEM63X",
        "outputId": "75ded974-45a2-43db-f650-c87eee691264"
      },
      "source": [
        "quantile(num_friends,0.25)"
      ],
      "execution_count": null,
      "outputs": [
        {
          "output_type": "execute_result",
          "data": {
            "text/plain": [
              "3"
            ]
          },
          "metadata": {
            "tags": []
          },
          "execution_count": 18
        }
      ]
    },
    {
      "cell_type": "code",
      "metadata": {
        "colab": {
          "base_uri": "https://localhost:8080/"
        },
        "id": "xPULS7IDM6_L",
        "outputId": "e5f7d74d-b72e-476f-82fa-579e3b53f0f8"
      },
      "source": [
        "quantile(num_friends,0.75)"
      ],
      "execution_count": null,
      "outputs": [
        {
          "output_type": "execute_result",
          "data": {
            "text/plain": [
              "9"
            ]
          },
          "metadata": {
            "tags": []
          },
          "execution_count": 19
        }
      ]
    },
    {
      "cell_type": "code",
      "metadata": {
        "colab": {
          "base_uri": "https://localhost:8080/"
        },
        "id": "pchcbcppM7LY",
        "outputId": "5ec64733-6aa6-47e2-b85e-5e3b5521a2f2"
      },
      "source": [
        "quantile(num_friends,0.90)"
      ],
      "execution_count": null,
      "outputs": [
        {
          "output_type": "execute_result",
          "data": {
            "text/plain": [
              "13"
            ]
          },
          "metadata": {
            "tags": []
          },
          "execution_count": 20
        }
      ]
    },
    {
      "cell_type": "markdown",
      "metadata": {
        "id": "k-E137P0M_5l"
      },
      "source": [
        "## 眾數(mode)\n",
        "最常出現的一個或多個數值"
      ]
    },
    {
      "cell_type": "code",
      "metadata": {
        "id": "2Crfxa_4NGxp"
      },
      "source": [
        "#送回一個列表，裡頭放的是眾數(可能不只一個)\n",
        "def mode(x:List[float])->List[float]:\n",
        "  counts=Counter(x)\n",
        "  max_count=max(counts.values())\n",
        "  return [x_i for x_i,count in counts.items()\n",
        "      if count == max_count]"
      ],
      "execution_count": null,
      "outputs": []
    },
    {
      "cell_type": "code",
      "metadata": {
        "colab": {
          "base_uri": "https://localhost:8080/"
        },
        "id": "OOtEcGxHNe9Q",
        "outputId": "6fdfe161-b698-4fea-c416-f6167b47fd9c"
      },
      "source": [
        "mode(num_friends)"
      ],
      "execution_count": null,
      "outputs": [
        {
          "output_type": "execute_result",
          "data": {
            "text/plain": [
              "[6, 1]"
            ]
          },
          "metadata": {
            "tags": []
          },
          "execution_count": 19
        }
      ]
    },
    {
      "cell_type": "markdown",
      "metadata": {
        "id": "G8SEMs8FN3qn"
      },
      "source": [
        "# 離散程度\n",
        "衡量資料分散的程度  \n",
        "* 統計值很接近零→資料分布很集中\n",
        "* 統計值很大→資料分布很開"
      ]
    },
    {
      "cell_type": "markdown",
      "metadata": {
        "id": "e3QftSxOOKOK"
      },
      "source": [
        "## 範圍(range}\n",
        "一種衡量離散程度的方式\n",
        "\n",
        "\n",
        "```\n",
        "計算一組資料中最大值和最小值的差值\n",
        "```\n",
        "\n"
      ]
    },
    {
      "cell_type": "code",
      "metadata": {
        "id": "8QZzr9F2N1Oz"
      },
      "source": [
        "# 'range' 在Python中代表特定意義，因此使用其他名稱來代稱\n",
        "def data_range(sx:List[float]) ->float:\n",
        "  return max(xs)-min(xs)"
      ],
      "execution_count": null,
      "outputs": []
    },
    {
      "cell_type": "code",
      "metadata": {
        "id": "nv553HINOy9X",
        "colab": {
          "base_uri": "https://localhost:8080/"
        },
        "outputId": "4c70d7a4-e393-48e0-9885-4159937460ad"
      },
      "source": [
        "data_range(num_friends)"
      ],
      "execution_count": null,
      "outputs": [
        {
          "output_type": "execute_result",
          "data": {
            "text/plain": [
              "100"
            ]
          },
          "metadata": {
            "tags": []
          },
          "execution_count": 21
        }
      ]
    },
    {
      "cell_type": "markdown",
      "metadata": {
        "id": "Xdv-FutAQQv2"
      },
      "source": [
        "## 變異數 σ² (variance)\n",
        "在概率統計中最常使用作為測量一組數值的離散程度之用。"
      ]
    },
    {
      "cell_type": "code",
      "metadata": {
        "id": "wyl8RIBVQf_E"
      },
      "source": [
        "\n",
        "#把xs 轉為原值與平均值的差值(將平均值降為0)\n",
        "def de_mean(xs:List[float]) -> List[float]:\n",
        "  x_bar = mean(xs)\n",
        "  return [x - x_bar for x in xs] \n",
        "\n",
        "def variance(xs:List[float]) ->float:\n",
        "  assert len(xs),\"至少有兩個元素才能計算變異數\"\n",
        "\n",
        "  n = len(xs)\n",
        "  deviations = de_mean(xs)\n",
        "  return sum_of_squares(deviations) / (n-1)"
      ],
      "execution_count": null,
      "outputs": []
    },
    {
      "cell_type": "code",
      "metadata": {
        "id": "sF3Hyl2QcBrt",
        "colab": {
          "base_uri": "https://localhost:8080/"
        },
        "outputId": "e69e5a14-a5a8-48f2-c056-d6f0d13fec17"
      },
      "source": [
        "variance(num_friends)"
      ],
      "execution_count": null,
      "outputs": [
        {
          "output_type": "execute_result",
          "data": {
            "text/plain": [
              "81.54351395730716"
            ]
          },
          "metadata": {
            "tags": []
          },
          "execution_count": 11
        }
      ]
    },
    {
      "cell_type": "markdown",
      "metadata": {
        "id": "QKcQ_R8qc8PU"
      },
      "source": [
        "(x_i-x_bar)**2的平均值只能算是x_i真正平方差的一個低估值，詳情參見[維基百科](https://en.wikipedia.org/wiki/Unbiased_estimation_of_standaerd_deviation)"
      ]
    },
    {
      "cell_type": "markdown",
      "metadata": {
        "id": "420MZ0RTdhr_"
      },
      "source": [
        "## 標準差 σ (standard deviation)"
      ]
    },
    {
      "cell_type": "code",
      "metadata": {
        "id": "SyjSr5LXeJ2Q"
      },
      "source": [
        "import math\n",
        "\n",
        "def standard_deviation(xs:List[float]) ->float:\n",
        "  return math.sqrt(variance(xs))"
      ],
      "execution_count": null,
      "outputs": []
    },
    {
      "cell_type": "code",
      "metadata": {
        "id": "9SG7gepLeW-T",
        "colab": {
          "base_uri": "https://localhost:8080/"
        },
        "outputId": "7546aba1-7e1c-4d60-9a13-4f724d2a3141"
      },
      "source": [
        "standard_deviation(num_friends)"
      ],
      "execution_count": null,
      "outputs": [
        {
          "output_type": "execute_result",
          "data": {
            "text/plain": [
              "9.03014473623248"
            ]
          },
          "metadata": {
            "tags": []
          },
          "execution_count": 25
        }
      ]
    },
    {
      "cell_type": "markdown",
      "metadata": {
        "id": "eVbhrL0ueb7F"
      },
      "source": [
        "無論是範圍值或是標準差，都易受到**離群值**的影響"
      ]
    },
    {
      "cell_type": "markdown",
      "metadata": {
        "id": "9DwNohFneqU6"
      },
      "source": [
        "## 計算百分位差值\n",
        "計算第75百分位與第25百分位的差值，避免受到少數離群值影響"
      ]
    },
    {
      "cell_type": "code",
      "metadata": {
        "id": "oAG4fjyKe-2p"
      },
      "source": [
        "def interquartile_range(xs:List[float]) ->float:\n",
        "  return quantile(xs,0.75) -quantile(xs,0.25)"
      ],
      "execution_count": null,
      "outputs": []
    },
    {
      "cell_type": "code",
      "metadata": {
        "id": "yg1lgjLSfcQy",
        "colab": {
          "base_uri": "https://localhost:8080/"
        },
        "outputId": "793dee06-4d68-4bff-ffb4-bdf54e209dea"
      },
      "source": [
        "interquartile_range(num_friends)"
      ],
      "execution_count": null,
      "outputs": [
        {
          "output_type": "execute_result",
          "data": {
            "text/plain": [
              "6"
            ]
          },
          "metadata": {
            "tags": []
          },
          "execution_count": 23
        }
      ]
    },
    {
      "cell_type": "markdown",
      "metadata": {
        "id": "UgCDi3l6Hb0s"
      },
      "source": [
        "# 相關 (Correlation)"
      ]
    },
    {
      "cell_type": "markdown",
      "metadata": {
        "id": "Ji7WHEMLHb63"
      },
      "source": [
        "## 共變異數(covariance)\n",
        "衡量兩個變數分別偏離其平均值的程度"
      ]
    },
    {
      "cell_type": "code",
      "metadata": {
        "id": "DQ3hgRZqL-1d"
      },
      "source": [
        "daily_minutes = [1,68.77,51.25,52.08,38.36,44.54,57.13,51.4,41.42,31.22,34.76,54.01,38.79,47.59,49.1,27.66,41.03,36.73,48.65,28.12,46.62,35.57,32.98,35,26.07,23.77,39.73,40.57,31.65,31.21,36.32,20.45,21.93,26.02,27.34,23.49,46.94,30.5,33.8,24.23,21.4,27.94,32.24,40.57,25.07,19.42,22.39,18.42,46.96,23.72,26.41,26.97,36.76,40.32,35.02,29.47,30.2,31,38.11,38.18,36.31,21.03,30.86,36.07,28.66,29.08,37.28,15.28,24.17,22.31,30.17,25.53,19.85,35.37,44.6,17.23,13.47,26.33,35.02,32.09,24.81,19.33,28.77,24.26,31.98,25.73,24.86,16.28,34.51,15.23,39.72,40.8,26.06,35.76,34.76,16.13,44.04,18.03,19.65,32.62,35.59,39.43,14.18,35.24,40.13,41.82,35.45,36.07,43.67,24.61,20.9,21.9,18.79,27.61,27.21,26.61,29.77,20.59,27.53,13.82,33.2,25,33.1,36.65,18.63,14.87,22.2,36.81,25.53,24.62,26.25,18.21,28.08,19.42,29.79,32.8,35.99,28.32,27.79,35.88,29.06,36.28,14.1,36.63,37.49,26.9,18.58,38.48,24.48,18.95,33.55,14.24,29.04,32.51,25.63,22.22,19,32.73,15.16,13.9,27.2,32.01,29.27,33,13.74,20.42,27.32,18.23,35.35,28.48,9.08,24.62,20.12,35.26,19.92,31.02,16.49,12.16,30.7,31.22,34.65,13.13,27.51,33.2,31.57,14.1,33.42,17.44,10.12,24.42,9.82,23.39,30.93,15.03,21.67,31.09,33.29,22.61,26.89,23.48,8.38,27.81,32.35,23.84]\n",
        "\n",
        "daily_hours = [dm / 60 for dm in daily_minutes]\n",
        "\n",
        "def covariance(xs:List[float],ys:List[float]) ->float:\n",
        "  assert len(xs)==len(ys),\"xs與ys的元素必須是相同的0\"\n",
        "  \n",
        "  return dot(de_mean(xs),de_mean(ys))/(len(xs)-1)"
      ],
      "execution_count": null,
      "outputs": []
    },
    {
      "cell_type": "code",
      "metadata": {
        "id": "aNI1xPVlM5Cc",
        "colab": {
          "base_uri": "https://localhost:8080/"
        },
        "outputId": "a56d9dbe-148f-4b4c-8319-8b85c2e75d89"
      },
      "source": [
        "covariance(num_friends,daily_minutes)"
      ],
      "execution_count": null,
      "outputs": [
        {
          "output_type": "execute_result",
          "data": {
            "text/plain": [
              "22.425435139573064"
            ]
          },
          "metadata": {
            "tags": []
          },
          "execution_count": 15
        }
      ]
    },
    {
      "cell_type": "code",
      "metadata": {
        "id": "Uusz5rDwOtW8",
        "colab": {
          "base_uri": "https://localhost:8080/"
        },
        "outputId": "cadb0c11-93fe-458e-c093-94963eff3c38"
      },
      "source": [
        "covariance(num_friends,daily_hours)"
      ],
      "execution_count": null,
      "outputs": [
        {
          "output_type": "execute_result",
          "data": {
            "text/plain": [
              "0.37375725232621776"
            ]
          },
          "metadata": {
            "tags": []
          },
          "execution_count": 16
        }
      ]
    },
    {
      "cell_type": "markdown",
      "metadata": {
        "id": "fNEbpP7-O4mB"
      },
      "source": [
        "## 相關係數 (Correlation coefficient)\n",
        "除以兩個變數的標準差來衡量相關程度 \n",
        "\n",
        "* 完全負相關 ：-1\n",
        "* 部分負相關\n",
        "* 零相關   ：0\n",
        "* 部分正相關\n",
        "* 完全正相關 ：1\n",
        "  \n",
        "**範例**：  \n",
        "```\n",
        "0.25 代表兩個變數間存在相對微弱的正相關\n",
        "```\n"
      ]
    },
    {
      "cell_type": "code",
      "metadata": {
        "id": "_KplVjuzQMOK"
      },
      "source": [
        "def correlation(xs:List[float],ys:List[float]) ->float:\n",
        "\n",
        "  stdev_x = standard_deviation(xs)\n",
        "  stdev_y = standard_deviation(ys)\n",
        "  if stdev_x > 0 and stdev_y > 0 :\n",
        "    return covariance(xs,ys) / stdev_x / stdev_y\n",
        "  else:\n",
        "    return 0"
      ],
      "execution_count": null,
      "outputs": []
    },
    {
      "cell_type": "code",
      "metadata": {
        "id": "DMcocmBdTjn4",
        "colab": {
          "base_uri": "https://localhost:8080/"
        },
        "outputId": "75f5ce4e-3fe7-48a0-df9c-289ca11fe2b8"
      },
      "source": [
        "correlation(num_friends,daily_minutes)"
      ],
      "execution_count": null,
      "outputs": [
        {
          "output_type": "execute_result",
          "data": {
            "text/plain": [
              "0.24736957366478218"
            ]
          },
          "metadata": {
            "tags": []
          },
          "execution_count": 28
        }
      ]
    },
    {
      "cell_type": "code",
      "metadata": {
        "id": "urv1aXB5T8qg",
        "colab": {
          "base_uri": "https://localhost:8080/"
        },
        "outputId": "3253b36a-11ab-4697-aa6a-cfa44050fb0c"
      },
      "source": [
        "correlation(num_friends,daily_hours)"
      ],
      "execution_count": null,
      "outputs": [
        {
          "output_type": "execute_result",
          "data": {
            "text/plain": [
              "0.24736957366478196"
            ]
          },
          "metadata": {
            "tags": []
          },
          "execution_count": 29
        }
      ]
    },
    {
      "cell_type": "markdown",
      "metadata": {
        "id": "QY24ULkxm155"
      },
      "source": [
        "## 直接進行觀察\n",
        "\n",
        "透過直接檢查圖像化後的資料來檢視資料特性\n",
        "\n"
      ]
    },
    {
      "cell_type": "markdown",
      "metadata": {
        "id": "ZYZNuwFAnIxx"
      },
      "source": [
        "### 圖 5-2 相關\n",
        "(其中有一個是離群值)"
      ]
    },
    {
      "cell_type": "code",
      "metadata": {
        "colab": {
          "base_uri": "https://localhost:8080/",
          "height": 295
        },
        "id": "S4VnBCwFnPxp",
        "outputId": "60db3954-a1c4-4943-bae6-7ad527c6282b"
      },
      "source": [
        "import matplotlib.pyplot as plt\n",
        "\n",
        "plt.scatter(num_friends,daily_minutes)\n",
        "plt.title(\"Correlation (One of them is outliner)\")\n",
        "plt.axis([-1,105,-1,100])\n",
        "plt.xlabel(\"counts of frined\")\n",
        "plt.ylabel(\"usage in minute\")\n",
        "plt.show()"
      ],
      "execution_count": null,
      "outputs": [
        {
          "output_type": "display_data",
          "data": {
            "image/png": "[encoded data removed]",
            "text/plain": [
              "<Figure size 432x288 with 1 Axes>"
            ]
          },
          "metadata": {
            "tags": [],
            "needs_background": "light"
          }
        }
      ]
    },
    {
      "cell_type": "markdown",
      "metadata": {
        "id": "cm9HqfbppoMP"
      },
      "source": [
        "擁有100位朋友的那位使用者每天只花1分鐘在網站上，顯然是個離群值。  \n",
        "剔除這筆資料後會發生甚麼事?"
      ]
    },
    {
      "cell_type": "code",
      "metadata": {
        "id": "cqyL6r3Op2tw"
      },
      "source": [
        "outlier = num_friends.index(100) #離群值的索引值\n",
        "\n",
        "num_friends_good = [ x\n",
        "            for i,x in enumerate(num_friends)\n",
        "            if i != outlier]\n",
        "\n",
        "daily_minutes_good = [ x\n",
        "            for i,x in enumerate(daily_minutes)\n",
        "            if i != outlier]\n",
        "\n",
        "daily_hours_good = [ dm/60 for dm in num_minutes_good]"
      ],
      "execution_count": null,
      "outputs": []
    },
    {
      "cell_type": "code",
      "metadata": {
        "colab": {
          "base_uri": "https://localhost:8080/"
        },
        "id": "Obf9397qrV8i",
        "outputId": "5f0c5c30-e875-4137-9f4b-741a7b081884"
      },
      "source": [
        "correction(num_friends_good,daily_minutes_good)"
      ],
      "execution_count": null,
      "outputs": [
        {
          "output_type": "execute_result",
          "data": {
            "text/plain": [
              "0.5736792115665573"
            ]
          },
          "metadata": {
            "tags": []
          },
          "execution_count": 44
        }
      ]
    },
    {
      "cell_type": "code",
      "metadata": {
        "colab": {
          "base_uri": "https://localhost:8080/"
        },
        "id": "IYOlTU_wrqIQ",
        "outputId": "548b1183-b859-4b4c-bb79-32a88df80338"
      },
      "source": [
        "correction(num_friends_good,daily_hours_good)"
      ],
      "execution_count": null,
      "outputs": [
        {
          "output_type": "execute_result",
          "data": {
            "text/plain": [
              "0.5736792115665579"
            ]
          },
          "metadata": {
            "tags": []
          },
          "execution_count": 45
        }
      ]
    },
    {
      "cell_type": "markdown",
      "metadata": {
        "id": "7rYDkyTMsyfX"
      },
      "source": [
        "如果不考慮離群值，相關係數就會提高很多"
      ]
    },
    {
      "cell_type": "markdown",
      "metadata": {
        "id": "UNKLPDTCPyWw"
      },
      "source": [
        "### 圖 5-3 相關(已移除離群值)"
      ]
    },
    {
      "cell_type": "code",
      "metadata": {
        "colab": {
          "base_uri": "https://localhost:8080/",
          "height": 295
        },
        "id": "Blga4clTtKX3",
        "outputId": "d53df6d7-4b5c-444e-e773-6bc38c564677"
      },
      "source": [
        "import matplotlib.pyplot as plt\n",
        "\n",
        "plt.scatter(num_friends_good,daily_minutes_good)\n",
        "plt.title(\"Correlation (outliner is removed)\")\n",
        "plt.axis([-1,50,-1,100])\n",
        "plt.xlabel(\"counts of frined\")\n",
        "plt.ylabel(\"usage in minute\")\n",
        "plt.show()"
      ],
      "execution_count": null,
      "outputs": [
        {
          "output_type": "display_data",
          "data": {
            "image/png": "[encoded data removed]",
            "text/plain": [
              "<Figure size 432x288 with 1 Axes>"
            ]
          },
          "metadata": {
            "tags": [],
            "needs_background": "light"
          }
        }
      ]
    },
    {
      "cell_type": "markdown",
      "metadata": {
        "id": "30kLr4ap0JZ9"
      },
      "source": [
        "# 辛普森悖論 (Simpson's Paradox)\n",
        "當人們嘗試探究兩種變量（比如新生錄取率與性別）是否具有相關性的時候，會分別對之進行分組研究。  \n",
        "然而，在分組比較中都占優勢的一方，在總評中有時反而是失勢的一方。  \n",
        "該現象於20世紀初就有人討論，但一直到1951年，E.H.辛普森在他發表的論文中闡述此一現象後，該現象才算正式被描述解釋。後來就以他的名字命名此悖論，即辛普森悖論。  \n",
        "此悖論的最終原因和選擇偏差、倖存者偏差、以及柏克森悖論一樣，是源自對撞因子。  \n",
        "[參見：維基百科](https://zh.wikipedia.org/wiki/%E8%BE%9B%E6%99%AE%E6%A3%AE%E6%82%96%E8%AE%BA)"
      ]
    }
  ]
}