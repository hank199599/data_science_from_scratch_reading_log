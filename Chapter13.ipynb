{
  "nbformat": 4,
  "nbformat_minor": 0,
  "metadata": {
    "colab": {
      "name": "Chapter13.ipynb",
      "provenance": [],
      "authorship_tag": "ABX9TyN8Zt/P+IzpRp/LYiJR1lqY",
      "include_colab_link": true
    },
    "kernelspec": {
      "name": "python3",
      "display_name": "Python 3"
    }
  },
  "cells": [
    {
      "cell_type": "markdown",
      "metadata": {
        "id": "view-in-github",
        "colab_type": "text"
      },
      "source": [
        "<a href=\"https://colab.research.google.com/github/hank199599/data_science_from_scratch_reading_log/blob/main/Chapter13.ipynb\" target=\"_parent\"><img src=\"https://colab.research.google.com/assets/colab-badge.svg\" alt=\"Open In Colab\"/></a>"
      ]
    },
    {
      "cell_type": "markdown",
      "metadata": {
        "id": "v56obdLeyaht"
      },
      "source": [
        "# 單純貝氏(Naive Bayes)\n",
        "描述在已知一些條件下，某事件的發生機率。  \n",
        "  \n",
        "**建立前提**：  \n",
        "每個事件基本上是獨立的，與其他事件沒有關係。\n"
      ]
    },
    {
      "cell_type": "markdown",
      "metadata": {
        "id": "CPlZEX3vaBMA"
      },
      "source": [
        "# 理論：建構垃圾郵件篩選器"
      ]
    },
    {
      "cell_type": "markdown",
      "metadata": {
        "id": "TNMHdRjZcSWE"
      },
      "source": [
        "## 極為簡單的版本 \n",
        "利用貝氏定理計算「此郵件為垃圾郵件」的機率：\n",
        "  \n",
        "在「此郵件包含bitcoin這個字眼」的事件下，此郵件為垃圾郵件的機率是：\n",
        "```\n",
        "P(S|B)=[P(B|S)P(S)/[P(B|S)P(S)+P(B|¬S)]P(¬S)\n",
        "```\n",
        "* S : 此郵件為垃圾郵件的事件  \n",
        "* B : 此郵件包含bitcoin這個字眼的事件\n",
        "  \n",
        "\n",
        "若手邊有大量郵件確定是垃圾郵件，亦有大量郵件確定不是垃圾郵件。  \n",
        "可以輕易估算出P(B|S)以及P(B|¬S)的值。  \n",
        "  \n",
        "若進一步假設，一封郵件是不是垃圾郵件的機率各占一半。(即P(S)=P(¬S)=0.5)  \n",
        "則原式可以被改寫為：\n",
        "\n",
        "```\n",
        "P(S|B)=[P(B|S)/[P(B|S)P(S)+P(B|¬S)]\n",
        "```\n",
        "假設：\n",
        "* 50%的垃圾郵件含有bitcoin這個字眼\n",
        "* 1%的非垃圾郵件含有bitcoin這個字眼\n",
        "→確實是垃圾郵件的機率是：\n",
        "\n",
        "\n",
        "```\n",
        "0.5/(0.5+0.01)=98%\n",
        "```\n",
        "\n"
      ]
    },
    {
      "cell_type": "markdown",
      "metadata": {
        "id": "OA1xsUv-cUxc"
      },
      "source": [
        "## 較為精巧的版本"
      ]
    },
    {
      "cell_type": "markdown",
      "metadata": {
        "id": "gS7HvSK5yBaW"
      },
      "source": [
        "# 實作"
      ]
    },
    {
      "cell_type": "code",
      "metadata": {
        "id": "mWyI25qhGPfT"
      },
      "source": [
        ""
      ],
      "execution_count": null,
      "outputs": []
    },
    {
      "cell_type": "markdown",
      "metadata": {
        "id": "bOD--8uhyFCG"
      },
      "source": [
        "# 測試模型"
      ]
    },
    {
      "cell_type": "code",
      "metadata": {
        "id": "jxE7pSe6zttH"
      },
      "source": [
        ""
      ],
      "execution_count": null,
      "outputs": []
    },
    {
      "cell_type": "markdown",
      "metadata": {
        "id": "hldHr_2fyG7h"
      },
      "source": [
        "# 運用模型"
      ]
    },
    {
      "cell_type": "code",
      "metadata": {
        "id": "U2T94rnZzuEJ"
      },
      "source": [
        ""
      ],
      "execution_count": null,
      "outputs": []
    }
  ]
}