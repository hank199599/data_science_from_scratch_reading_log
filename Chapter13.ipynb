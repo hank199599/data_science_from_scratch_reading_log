{
  "nbformat": 4,
  "nbformat_minor": 0,
  "metadata": {
    "colab": {
      "name": "Chapter13.ipynb",
      "provenance": [],
      "authorship_tag": "ABX9TyPpzzLrxNaJdW49qoNbjoKM",
      "include_colab_link": true
    },
    "kernelspec": {
      "name": "python3",
      "display_name": "Python 3"
    }
  },
  "cells": [
    {
      "cell_type": "markdown",
      "metadata": {
        "id": "view-in-github",
        "colab_type": "text"
      },
      "source": [
        "<a href=\"https://colab.research.google.com/github/hank199599/data_science_from_scratch_reading_log/blob/main/Chapter13.ipynb\" target=\"_parent\"><img src=\"https://colab.research.google.com/assets/colab-badge.svg\" alt=\"Open In Colab\"/></a>"
      ]
    },
    {
      "cell_type": "markdown",
      "metadata": {
        "id": "v56obdLeyaht"
      },
      "source": [
        "# 單純貝氏(Naive Bayes)\n",
        "描述在已知一些條件下，某事件的發生機率。  \n",
        "  \n",
        "**建立前提**：每個事件特徵基本上是獨立的，與其他事件沒有關係。\n",
        "**特色**：不易發生過擬合\n",
        "\n"
      ]
    },
    {
      "cell_type": "markdown",
      "metadata": {
        "id": "CPlZEX3vaBMA"
      },
      "source": [
        "# 理論：建構垃圾郵件篩選器"
      ]
    },
    {
      "cell_type": "markdown",
      "metadata": {
        "id": "TNMHdRjZcSWE"
      },
      "source": [
        "## 極為簡單的版本 \n",
        "利用貝氏定理計算「此郵件為垃圾郵件」的機率：\n",
        "  \n",
        "在「此郵件包含bitcoin這個字眼」的事件下，此郵件為垃圾郵件的機率是：\n",
        "```\n",
        "P(S|B)=[P(B|S)P(S)/[P(B|S)P(S)+P(B|¬S)]P(¬S)\n",
        "```\n",
        "* S : 此郵件為垃圾郵件的事件  \n",
        "* B : 此郵件包含bitcoin這個字眼的事件\n",
        "  \n",
        "\n",
        "若手邊有大量郵件確定是垃圾郵件，亦有大量郵件確定不是垃圾郵件。  \n",
        "可以輕易估算出P(B|S)以及P(B|¬S)的值。  \n",
        "  \n",
        "若進一步假設，一封郵件是不是垃圾郵件的機率各占一半。(即P(S)=P(¬S)=0.5)  \n",
        "則原式可以被改寫為：\n",
        "\n",
        "```\n",
        "P(S|B)=[P(B|S)/[P(B|S)P(S)+P(B|¬S)]\n",
        "```\n",
        "假設：\n",
        "* 50%的垃圾郵件含有bitcoin這個字眼\n",
        "* 1%的非垃圾郵件含有bitcoin這個字眼\n",
        "→確實是垃圾郵件的機率是：\n",
        "\n",
        "\n",
        "```\n",
        "0.5/(0.5+0.01)=98%\n",
        "```\n",
        "\n"
      ]
    },
    {
      "cell_type": "markdown",
      "metadata": {
        "id": "OA1xsUv-cUxc"
      },
      "source": [
        "## 較為精巧的版本\n",
        "**假設**：  \n",
        "* 有個包含許多單詞w₁,...,wɴ的詞彙表(vocabulary)。  \n",
        "* 以Xi代表「郵件中包含wi這個單詞的事件」\n",
        "  \n",
        "**再假設我們能估計出**：\n",
        "* 垃圾郵件中包含wi的機率P(Xi|S)\n",
        "* 垃圾郵件中不包含wi的機率P(Xi|¬S)\n",
        "  \n",
        "```\n",
        "P(X₁=X₁,...,Xn=xn|S) = P(X₁=x₁|S)×...×P(Xn=xn|S)\n",
        "```\n",
        "\n",
        "假定詞彙表中只有「bitcion」與「rolex」兩個單詞，而在已知所有的垃圾郵件中：  \n",
        "* 一半擁有「earn bitcoin」\n",
        "* 一半擁有「authenic rolex」  \n",
        "\n",
        "在這個情況下，垃圾郵件同時包含「bitcion」與「rolex」兩字眼的機率為0。  \n",
        "若使用單純貝氏估算其機率：\n",
        "```\n",
        "P(X₁=1,X₂=1|S) = P(X₁=1|S)×P(X₂=1|S) = .5×.5 = .25\n",
        "```\n",
        "在這個假設裡，並未考慮到實際上「bitcion」與「rolex」這兩個單詞還是會互相影響。  \n",
        "而非理想上的獨立事件。在忽略理想情形與現實情形有所差距的情況下，這個模型仍經常被運用在現實世界的垃圾郵件篩選器之中。"
      ]
    },
    {
      "cell_type": "markdown",
      "metadata": {
        "id": "gS7HvSK5yBaW"
      },
      "source": [
        "# 實作\n"
      ]
    },
    {
      "cell_type": "code",
      "metadata": {
        "id": "mWyI25qhGPfT"
      },
      "source": [
        ""
      ],
      "execution_count": null,
      "outputs": []
    },
    {
      "cell_type": "markdown",
      "metadata": {
        "id": "bOD--8uhyFCG"
      },
      "source": [
        "# 測試模型"
      ]
    },
    {
      "cell_type": "code",
      "metadata": {
        "id": "jxE7pSe6zttH"
      },
      "source": [
        ""
      ],
      "execution_count": null,
      "outputs": []
    },
    {
      "cell_type": "markdown",
      "metadata": {
        "id": "hldHr_2fyG7h"
      },
      "source": [
        "# 運用模型"
      ]
    },
    {
      "cell_type": "code",
      "metadata": {
        "id": "U2T94rnZzuEJ"
      },
      "source": [
        ""
      ],
      "execution_count": null,
      "outputs": []
    }
  ]
}