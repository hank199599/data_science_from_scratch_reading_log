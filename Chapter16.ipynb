{
  "nbformat": 4,
  "nbformat_minor": 0,
  "metadata": {
    "colab": {
      "name": "Chapter16.ipynb",
      "provenance": [],
      "toc_visible": true,
      "authorship_tag": "ABX9TyOAgZtemV2OUuUh9DD1VKKy",
      "include_colab_link": true
    },
    "kernelspec": {
      "name": "python3",
      "display_name": "Python 3"
    }
  },
  "cells": [
    {
      "cell_type": "markdown",
      "metadata": {
        "id": "view-in-github",
        "colab_type": "text"
      },
      "source": [
        "<a href=\"https://colab.research.google.com/github/hank199599/data_science_from_scratch_reading_log/blob/main/Chapter16.ipynb\" target=\"_parent\"><img src=\"https://colab.research.google.com/assets/colab-badge.svg\" alt=\"Open In Colab\"/></a>"
      ]
    },
    {
      "cell_type": "markdown",
      "metadata": {
        "id": "tAxByDX1q7gG"
      },
      "source": [
        "# 問題\r\n",
        "有一組包含200位使用者的匿名資料：\r\n",
        "```\r\n",
        "[使用者的薪水,工作年資,是否已升級為付費帳號]\r\n",
        "```\r\n",
        "\r\n",
        "\r\n"
      ]
    },
    {
      "cell_type": "code",
      "metadata": {
        "id": "mWyI25qhGPfT"
      },
      "source": [
        "#原始資料\r\n",
        "data = [[0.7,48000,1],[1.9,48000,0],[2.5,60000,1],[4.2,63000,0],[6,76000,0],[6.5,69000,0],[7.5,76000,0],[8.1,88000,0],[8.7,83000,1],[10,83000,1],[0.8,43000,0],[1.8,60000,0],[10,79000,1],[6.1,76000,0],[1.4,50000,0],[9.1,92000,0],[5.8,75000,0],[5.2,69000,0],[1,56000,0],[6,67000,0],[4.9,74000,0],[6.4,63000,1],[6.2,82000,0],[3.3,58000,0],[9.3,90000,1],[5.5,57000,1],[9.1,102000,0],[2.4,54000,0],[8.2,65000,1],[5.3,82000,0],[9.8,107000,0],[1.8,64000,0],[0.6,46000,1],[0.8,48000,0],[8.6,84000,1],[0.6,45000,0],[0.5,30000,1],[7.3,89000,0],[2.5,48000,1],[5.6,76000,0],[7.4,77000,0],[2.7,56000,0],[0.7,48000,0],[1.2,42000,0],[0.2,32000,1],[4.7,56000,1],[2.8,44000,1],[7.6,78000,0],[1.1,63000,0],[8,79000,1],[2.7,56000,0],[6,52000,1],[4.6,56000,0],[2.5,51000,0],[5.7,71000,0],[2.9,65000,0],[1.1,33000,1],[3,62000,0],[4,71000,0],[2.4,61000,0],[7.5,75000,0],[9.7,81000,1],[3.2,62000,0],[7.9,88000,0],[4.7,44000,1],[2.5,55000,0],[1.6,41000,0],[6.7,64000,1],[6.9,66000,1],[7.9,78000,1],[8.1,102000,0],[5.3,48000,1],[8.5,66000,1],[0.2,56000,0],[6,69000,0],[7.5,77000,0],[8,86000,0],[4.4,68000,0],[4.9,75000,0],[1.5,60000,0],[2.2,50000,0],[3.4,49000,1],[4.2,70000,0],[7.7,98000,0],[8.2,85000,0],[5.4,88000,0],[0.1,46000,0],[1.5,37000,0],[6.3,86000,0],[3.7,57000,0],[8.4,85000,0],[2,42000,0],[5.8,69000,1],[2.7,64000,0],[3.1,63000,0],[1.9,48000,0],[10,72000,1],[0.2,45000,0],[8.6,95000,0],[1.5,64000,0],[9.8,95000,0],[5.3,65000,0],[7.5,80000,0],[9.9,91000,0],[9.7,50000,1],[2.8,68000,0],[3.6,58000,0],[3.9,74000,0],[4.4,76000,0],[2.5,49000,0],[7.2,81000,0],[5.2,60000,1],[2.4,62000,0],[8.9,94000,0],[2.4,63000,0],[6.8,69000,1],[6.5,77000,0],[7,86000,0],[9.4,94000,0],[7.8,72000,1],[0.2,53000,0],[10,97000,0],[5.5,65000,0],[7.7,71000,1],[8.1,66000,1],[9.8,91000,0],[8,84000,0],[2.7,55000,0],[2.8,62000,0],[9.4,79000,0],[2.5,57000,0],[7.4,70000,1],[2.1,47000,0],[5.3,62000,1],[6.3,79000,0],[6.8,58000,1],[5.7,80000,0],[2.2,61000,0],[4.8,62000,0],[3.7,64000,0],[4.1,85000,0],[2.3,51000,0],[3.5,58000,0],[0.9,43000,0],[0.9,54000,0],[4.5,74000,0],[6.5,55000,1],[4.1,41000,1],[7.1,73000,0],[1.1,66000,0],[9.1,81000,1],[8,69000,1],[7.3,72000,1],[3.3,50000,0],[3.9,58000,0],[2.6,49000,0],[1.6,78000,0],[0.7,56000,0],[2.1,36000,1],[7.5,90000,0],[4.8,59000,1],[8.9,95000,0],[6.2,72000,0],[6.3,63000,0],[9.1,100000,0],[7.3,61000,1],[5.6,74000,0],[0.5,66000,0],[1.1,59000,0],[5.1,61000,0],[6.2,70000,0],[6.6,56000,1],[6.3,76000,0],[6.5,78000,0],[5.1,59000,0],[9.5,74000,1],[4.5,64000,0],[2,54000,0],[1,52000,0],[4,69000,0],[6.5,76000,0],[3,60000,0],[4.5,63000,0],[7.8,70000,0],[3.9,60000,1],[0.8,51000,0],[4.2,78000,0],[1.1,54000,0],[6.2,60000,0],[2.9,59000,0],[2.1,52000,0],[8.2,87000,0],[4.8,73000,0],[2.2,42000,1],[9.1,98000,0],[6.5,84000,0],[6.9,73000,0],[5.1,72000,0],[9.1,69000,1],[9.8,79000,1],]"
      ],
      "execution_count": 2,
      "outputs": []
    },
    {
      "cell_type": "markdown",
      "metadata": {
        "id": "7JPda1YPvapN"
      },
      "source": [
        "轉為所需的格式"
      ]
    },
    {
      "cell_type": "code",
      "metadata": {
        "id": "WkuytOeDvazT"
      },
      "source": [
        "xs = [[1.0]+row[:2] for row in data]\r\n",
        "ys = [row[2] for row in data]"
      ],
      "execution_count": 3,
      "outputs": []
    },
    {
      "cell_type": "markdown",
      "metadata": {
        "id": "WvDLf7wVun3s"
      },
      "source": [
        "## 第一步驟：線性迴歸\r\n",
        "```\r\n",
        "paid accound = β₀+β₁experience+β₂salary\r\n",
        "```"
      ]
    },
    {
      "cell_type": "code",
      "metadata": {
        "id": "ePQfdNuTvrC0"
      },
      "source": [
        "import numpy as np\r\n",
        "\r\n",
        "def least_square_approximation(vector_x,vector_y):\r\n",
        "  x = np.array(vector_x)\r\n",
        "  y = np.array(vector_y)\r\n",
        "\r\n",
        "  # A = (X^T*X)⁻¹\r\n",
        "  transpose_x = np.transpose(x)\r\n",
        "  temp = transpose_x @ x\r\n",
        "  A = np.linalg.inv(temp)\r\n",
        "\r\n",
        "  # D = X^T * y\r\n",
        "  D = transpose_x @ y\r\n",
        "\r\n",
        "  # β = A*D = 最終解 = (X^T*X)⁻¹ * X^T * y\r\n",
        "  β = A @ D\r\n",
        "  return list(np.round(β,3)) #將最終的解,取小數點後三位"
      ],
      "execution_count": 4,
      "outputs": []
    },
    {
      "cell_type": "markdown",
      "metadata": {
        "id": "bJRUyGQe4fUV"
      },
      "source": [
        "### 圖 16-1 已付費與未付費使用者\r\n"
      ]
    },
    {
      "cell_type": "code",
      "metadata": {
        "id": "cOFV9rmxv-uz",
        "colab": {
          "base_uri": "https://localhost:8080/",
          "height": 281
        },
        "outputId": "661a5389-cb97-44fb-ed9e-96c36566d8e0"
      },
      "source": [
        "from matplotlib import pyplot as plt\r\n",
        "\r\n",
        "for row in data:\r\n",
        "  if row[2]==1:\r\n",
        "    plt.scatter(row[0],row[1],marker='o',c='#0000ff',label=\"paid\")\r\n",
        "  else:\r\n",
        "    plt.scatter(row[0],row[1],marker='+',c='#0000ff',label=\"unpaid\")\r\n",
        "\r\n",
        "#plt.titie(\"Paid and Unpaid users\")\r\n",
        "plt.xlabel(\"years experience\")\r\n",
        "plt.ylabel(\"annual salary\")\r\n",
        "\r\n",
        "\r\n",
        "plt.show()"
      ],
      "execution_count": 5,
      "outputs": [
        {
          "output_type": "display_data",
          "data": {
            "image/png": "[encoded data removed]",
            "text/plain": [
              "<Figure size 432x288 with 1 Axes>"
            ]
          },
          "metadata": {
            "tags": [],
            "needs_background": "light"
          }
        }
      ]
    },
    {
      "cell_type": "markdown",
      "metadata": {
        "id": "AxEHz0YoawyK"
      },
      "source": [
        "### 圖 16-2 用線性回歸來預測是否為付費帳號"
      ]
    },
    {
      "cell_type": "code",
      "metadata": {
        "id": "wY08aplta3IX"
      },
      "source": [
        "from matplotlib import pyplot as plt\r\n",
        "from typing import List\r\n",
        "import random\r\n",
        "import tqdm\r\n",
        "\r\n",
        "Vector = List[float]\r\n",
        "Matrix=List[List[float]] #另一種型別別名\r\n",
        "\r\n",
        "def get_row(A:Matrix,i:int)->Vector:\r\n",
        "  return A[i]\r\n",
        "\r\n",
        "import math\r\n",
        "\r\n",
        "from typing import Callable\r\n",
        "\r\n",
        "#送回一個num_rows * num_cols 的矩陣，其中第(i,j)項就是entry_fn(i,j)\r\n",
        "def make_matrix(num_rows:int,num_cols:int,entry_fn:Callable[[int,int],float])->Matrix:\r\n",
        "\r\n",
        "  return [[ entry_fn(i,j)        # 給定 i ，就能建立長度為 j 的列表\r\n",
        "        for j in range(num_cols)] # [entry_fn(i,0),...]\r\n",
        "        for i in range(num_rows)] # 針對每個i都建立一個列表\r\n",
        "\r\n",
        "def variance(xs:List[float]) ->float:\r\n",
        "  assert len(xs),\"至少有兩個元素才能計算變異數\"\r\n",
        "\r\n",
        "  n = len(xs)\r\n",
        "  deviations = de_mean(xs)\r\n",
        "  return sum_of_squares(deviations) / (n-1)\r\n",
        "\r\n",
        "def vector_sum(vectors:List[Vector]) -> Vector:\r\n",
        "  #先檢查vertors這個向量列表是否為空\r\n",
        "  assert vectors,\"列表中沒有向量!\"\r\n",
        "\r\n",
        "  #檢查vertors 向量列表內的所有向量都具有相同的維度\r\n",
        "  num_elements=len(vectors[0])\r\n",
        "  assert all(len(v)==num_elements for v in vectors),\"向量維度不一致\"\r\n",
        "\r\n",
        "  #所有vectors[i]相加起來，是結果的第i個元素值\r\n",
        "  return [sum(vector[i] for vector in vectors) for i in range(num_elements)]\r\n",
        "\r\n",
        "\r\n",
        "def standard_deviation(xs:List[float]) ->float:\r\n",
        "  return math.sqrt(variance(xs))\r\n",
        "\r\n",
        "def dot(v:Vector,w:Vector)->float:\r\n",
        "  #計算v_1*w_1+... +v_n*w_n\r\n",
        "  assert len(v)==len(w),\"兩個向量必須有相同的維度\"\r\n",
        "\r\n",
        "  return sum(v_i*w_i for v_i,w_i in zip(v,w))\r\n",
        "\r\n",
        "def add( v:Vector, w:Vector) -> Vector:\r\n",
        "  assert len(v) == len(w) ,\"兩個向量必須有相同的維度\"\r\n",
        "\r\n",
        "  return [ v_i+w_i for v_i,w_i in zip(v,w)]\r\n",
        "  \r\n",
        "def sum_of_squares(v:Vector) -> float:\r\n",
        "  return dot(v,v)\r\n",
        "\r\n",
        "#針對每一行取A_i，接著去A_i這行的第j個元素放入新的陣列\r\n",
        "def get_col(A:Matrix,j:int)->Vector:\r\n",
        "  return [A_i[j] for A_i in A]\r\n",
        "\r\n",
        "def mean(xs:List[float]) -> float:\r\n",
        "  return sum(xs) / len(xs)\r\n",
        "\r\n",
        "def de_mean(xs:List[float]) -> List[float]:\r\n",
        "  x_bar = mean(xs)\r\n",
        "  return [x - x_bar for x in xs] \r\n",
        "\r\n",
        "def shape(A):\r\n",
        "    num_rows = len(A)\r\n",
        "    num_cols = len(A[0]) if A else 0\r\n",
        "    return num_rows, num_cols\r\n",
        "\r\n",
        "def scale(data_matrix):\r\n",
        "    num_rows, num_cols = shape(data_matrix)\r\n",
        "    means = [mean(get_col(data_matrix,j))\r\n",
        "             for j in range(num_cols)]\r\n",
        "    stdevs = [standard_deviation(get_col(data_matrix,j))\r\n",
        "              for j in range(num_cols)]\r\n",
        "    return means, stdevs\r\n",
        "\r\n",
        "\r\n",
        "def rescale(data_matrix):\r\n",
        "    \"\"\"rescales the input data so that each column\r\n",
        "    has mean 0 and standard deviation 1\r\n",
        "    ignores columns with no deviation\"\"\"\r\n",
        "    means, stdevs = scale(data_matrix)\r\n",
        "\r\n",
        "    def rescaled(i, j):\r\n",
        "        if stdevs[j] > 0:\r\n",
        "            return (data_matrix[i][j] - means[j]) / stdevs[j]\r\n",
        "        else:\r\n",
        "            return data_matrix[i][j]\r\n",
        "\r\n",
        "    num_rows, num_cols = shape(data_matrix)\r\n",
        "    return make_matrix(num_rows, num_cols, rescaled)\r\n",
        "\r\n",
        "def least_squares_fit(\r\n",
        "          xs:List[Vector],\r\n",
        "          ys:List[float],\r\n",
        "          learning_rate:float=0.001,\r\n",
        "          num_steps:int=1000,\r\n",
        "          batch_size:int=1)->Vector:\r\n",
        "  \"\"\"\r\n",
        "  找出最小化平方誤差和的beta值\r\n",
        "  假設模型y = dot(x,beta)\r\n",
        "  \"\"\"\r\n",
        "  # 一開始先使隨機方式做出猜測\r\n",
        "  guess = [random.random() for _ in xs[0]]\r\n",
        "\r\n",
        "  for _ in tqdm.trange(num_steps,desc=\"least squares fit\"):\r\n",
        "    for start in range(0,len(xs),batch_size):\r\n",
        "      batch_xs = xs[start:start+batch_size]\r\n",
        "      batch_ys = ys[start:start+batch_size]\r\n",
        "\r\n",
        "      gradient = vector_mean([squerror_gradient(x,y,guess) for x,y in zip(batch_xs,batch_ys)])\r\n",
        "\r\n",
        "      guess = gradient_step(guess,gradient,-learning_rate)\r\n",
        "  \r\n",
        "  return guess\r\n",
        "\r\n",
        "def predict (x:Vector,beta:Vector) -> float:\r\n",
        "  \"\"\"假設每個x_i的第一個元素都是1\"\"\"\r\n",
        "  return dot(x,beta)\r\n",
        "\r\n",
        "def scalar_multiply(c:float,v:Vector) -> Vector:\r\n",
        "  return [c*v_i for v_i in v]\r\n",
        "\r\n",
        "def vector_mean(vectors:List[Vector])->Vector:\r\n",
        "  n=len(vectors)\r\n",
        "  return scalar_multiply(1/n,vector_sum(vectors))\r\n",
        "\r\n",
        "from typing import List\r\n",
        "\r\n",
        "def error(x:Vector,y:float,beta:Vector) -> float:\r\n",
        "  return predict(x,beta) - y\r\n",
        "\r\n",
        "def squared_error(x:Vector,y:float,beta:Vector) -> float:\r\n",
        "  return error(x,y,beta)**2\r\n",
        "\r\n",
        "def squerror_gradient(x:Vector,y:float,beta:Vector) -> float:\r\n",
        "  err = error(x,y,beta)\r\n",
        "  return [2*err*x_i for x_i in x]\r\n",
        "\r\n",
        "def gradient_step(v:Vector,gradient:Vector,step_size:float) -> Vector:\r\n",
        "  \"\"\"從v沿著gradient的方向移動step_size的距離\"\"\"\r\n",
        "  assert len(v) == len(gradient)\r\n",
        "  step = scalar_multiply(step_size,gradient)\r\n",
        "  return add(v,step)"
      ],
      "execution_count": 6,
      "outputs": []
    },
    {
      "cell_type": "code",
      "metadata": {
        "colab": {
          "base_uri": "https://localhost:8080/",
          "height": 300
        },
        "id": "D_ONQ7kcqgS1",
        "outputId": "0d923e1c-8105-4bb8-c7d9-124cc70c8400"
      },
      "source": [
        "learning_rate = 0.001\r\n",
        "rescaled_xs = rescale(xs)\r\n",
        "beta = least_squares_fit(rescaled_xs,ys,learning_rate,1000,1)\r\n",
        "#[0.26,0.43,-0.43]\r\n",
        "predictions=[predict(x_i,beta) for x_i in rescaled_xs]\r\n",
        "\r\n",
        "plt.scatter(predictions,ys)\r\n",
        "plt.xlabel(\"predicted\")\r\n",
        "plt.ylabel(\"actual\")\r\n",
        "plt.axis([-1.0,2.0,-0.2,1.2])\r\n",
        "plt.show()"
      ],
      "execution_count": 7,
      "outputs": [
        {
          "output_type": "stream",
          "text": [
            "least squares fit: 100%|██████████| 1000/1000 [00:01<00:00, 684.44it/s]\n"
          ],
          "name": "stderr"
        },
        {
          "output_type": "display_data",
          "data": {
            "image/png": "[encoded data removed]",
            "text/plain": [
              "<Figure size 432x288 with 1 Axes>"
            ]
          },
          "metadata": {
            "tags": [],
            "needs_background": "light"
          }
        }
      ]
    },
    {
      "cell_type": "markdown",
      "metadata": {
        "id": "vkTU6XdL-5PA"
      },
      "source": [
        "這個做法導致一些明顯的問題：\r\n",
        "* 我們希望預测的輸出結果不是0就是1,這樣就可以對會員進行分類。如果是介於0 到1之間的數值,也沒什麼間,因為我們可以把這些數值解釋機率:例如025 的輸出值,就表示有25%的機會成為付費會員但線性模型的輸出也有可能是很大的正數,或甚至是負數,這樣就很難進行解釋了,實際上,這裡確實得出了很多負 數的預测值。\r\n",
        "* 線性迴歸模型有個假設,就是誤差項的各個項都不相關。但此處年資的通歸係數為0.43,意思就是年資越高的人越有可能升級為付費帳號,這表示我們的模型會針對 年資很高的人,輸出一個很大的值,但我們知道真正的值最高就是1,這也就表示。 數值很高的這個輸出項(也就是數值很大的年資 )必然對應到一個非常大的負值誤差 項由於這個緣故,所以我们的beta 估計值肯定是有所偏類的。\r\n",
        "\r\n",
        "我們可以改用另一種做法,就是當dot(x_i, beta)出現很大的正值時讓相應的機率趨近 於1,如果出現很大的负值,就讓相應的機率趨近於0. 我們只要把計算結果套入到某個函數中,就可以達到這樣的效果。"
      ]
    },
    {
      "cell_type": "markdown",
      "metadata": {
        "id": "Gl0VUkD5_Vw2"
      },
      "source": [
        "# 邏輯函數\r\n",
        "* 如果輸入往正值方向變得越來越大，它會越接近1。\r\n",
        "* 如果輸入往負負值方向變得越來越大，它會越接近0。\r\n",
        "\r\n"
      ]
    },
    {
      "cell_type": "markdown",
      "metadata": {
        "id": "dz-LdfEVhhVN"
      },
      "source": [
        "函式定義："
      ]
    },
    {
      "cell_type": "code",
      "metadata": {
        "id": "3DksOPsMhfu7"
      },
      "source": [
        " def logistic(x:float)->float:\r\n",
        "   return 1.0/(1+math.exp(-x))"
      ],
      "execution_count": 8,
      "outputs": []
    },
    {
      "cell_type": "markdown",
      "metadata": {
        "id": "a0EMvmf2hjEB"
      },
      "source": [
        "導函數定義："
      ]
    },
    {
      "cell_type": "code",
      "metadata": {
        "id": "dfSn275vhgMF"
      },
      "source": [
        " def logistic_prime(x:float)->float:\r\n",
        "   y=logistic(x)\r\n",
        "   return y*(1-y)"
      ],
      "execution_count": 9,
      "outputs": []
    },
    {
      "cell_type": "markdown",
      "metadata": {
        "id": "FpxLXo0qA6fC"
      },
      "source": [
        "### 圖16-3 邏輯函數"
      ]
    },
    {
      "cell_type": "code",
      "metadata": {
        "colab": {
          "base_uri": "https://localhost:8080/",
          "height": 281
        },
        "id": "HI31fF5iA57i",
        "outputId": "c068425d-f4ed-46b2-b945-1cd3fee727a2"
      },
      "source": [
        "import math\r\n",
        "xs = [num/1000 for num in range(-10000,10001)]\r\n",
        "ys = [1.0/(1+math.exp(-xs_i)) for xs_i in xs]\r\n",
        "\r\n",
        "plt.plot(xs,ys)\r\n",
        "plt.axis([-10,10,-0.1,1.1])\r\n",
        "plt.title(\"logistic function\")\r\n",
        "plt.show()"
      ],
      "execution_count": 10,
      "outputs": [
        {
          "output_type": "display_data",
          "data": {
            "image/png": "[encoded data removed]",
            "text/plain": [
              "<Figure size 432x288 with 1 Axes>"
            ]
          },
          "metadata": {
            "tags": [],
            "needs_background": "light"
          }
        }
      ]
    },
    {
      "cell_type": "markdown",
      "metadata": {
        "id": "GlcH-uOxFLyK"
      },
      "source": [
        "## 套入模型\r\n",
        "![pic](https://lh3.googleusercontent.com/e0Tc_fR6GN4vHfsmzgOxTEtDq9jaKjNyA47ESPrTMwInA6ExnCD9IiT9HTAQGBP3Fiphmn37y-bv57pSWSDdYmeiuHa-F8nerLtarF4Maw7SooiHAP8X2IY7tiGnwr4tD6fuUA8KhR5IjcrFsHOVwON611zFjo1E6HepuhyMYcHlRr4R7Z81p3dcZf92K6YYIe84o9ykGx5yJWuUHspLfhZpt2YakR3-UH0HpuNE93PWphOf_etjwla9gY9pjpQXov3mD9-DaF80h4om9iK0SjUaKQTVVzOtONo_ScK7xqar0iK1256Ndk0hDTeLJ5cjIF9jMEAIn_IBjgLpdmVmMFBVkTgOrcCsER7O-9Iod_aO4OUaL2zcxGD-HULWoXL8klzWULIKGo9I8PN48VNZqB5kS3vz8pLIJAZO3fV-3bU_rkOsPbXticsXuzGoCwxjLvVJfXN08SStoU6Cwf6RRRcTMPn6jw7y4a7Xy9RRoTHcBXF8yrOjZSa26FWRRSslOQA_q6sZuWj_DB1NAG0RL82m_dp8hl-H_pEXN-TUfcyldNpjbO0htyzMwNb1LK5PdVzoh155OOplhzPNddJSlkjeOtX23k_AJDqTGFdX88tOXczPM3Rz7TcqfBbqLV3eENxMDS6ehz5Hw3C4dutO6koLNB_SwAFMaGVSHTw3mvlD2ZCtroO2cHsSO1I_7g=w184-h50-no?authuser=0)  \r\n",
        "其中 f 是邏輯函數\r\n",
        "  \r\n",
        "若給定β，模型能告訴我們：\r\n",
        "* 每個yi數值為1的機率為 f(xiβ)\r\n",
        "* 每個yi數值為0的機率為 1 - f(xiβ)\r\n",
        "\r\n",
        "yi的機率分布函數PDF:  \r\n",
        "![](https://lh3.googleusercontent.com/91Wl3rj6p4dqAHLCUT7va4Ycxy1SwTkRUnbYfO85DLJjkHful8F0PTbgs3P0rdk0TBysUjWWzLvVZmAY25VH7sM2RuZknceVem8t-zr82QJojCohvH14_QNL5S1Jntbj3bAsO7ZtFWA4TblzM1_rd_hvDSoStM7PJLbEsci-ZbunPzoYdgo7lGvHIfByQTFjqzYGPMuEWbz2Ss5vJULnb6j1tojkX_Ak6MH0YCODKllnuQYSBAbj95kr-btSHBOYrb4411rYqcUw2hAzlBoK_U1YKis6Ze_OhGXf-PQ1mdFlfsS5-1ZzakqRyfPpAH7ZMdC7tODJK1t5ZhAJcaRE4yqTDt1PmdN853X4_YKCWSLikEpcyJI1oaFoP94PswwOBJuAVvgNU-GGEBLTEbo8rFrktRo12lCxyFkkIF9zf81m_xp-jH5-V3PupcnqSAu0iZdrB8IspLOBbaOy7U5tR78GtOMF7O0dne01X21kR8TViPKlishlWJOyy9U8B9O3k6igPm8gyoW7Bx7ufa3rXHTmcxx_hLR3_L3Zos8vdjZxd9kQo00QH0CqhdseMmpR8enBwCbb3Dz3_aQDyrSw_4ORGf4paLpQCLDxY-CQpsWASO-8tFtBI3ROKuPr6KN8FBwqw8vokyiAf1G5R_Pyd9PT8Iat4jdlt-hO6hO0vhEinPonBd-WC9r1DP036Q=w371-h56-no?authuser=0)  \r\n",
        "對這個可能性函數取對數，再求取最大化的結果：  \r\n",
        "![](https://lh3.googleusercontent.com/DxDe-aSOOOhfKYxEc-jiLUdDY9zKBoBi6DytFji6h2uplZSuvtNZjgbvIeqttSI_yvx3tr8AvRf1CKvvfxJPtZNTyGwv1L8kGcSNpTdhJ56zs0hWFvfofOQ-7A_Y-YOTo4WxOPgN7L-D0tiWSqFU-YDc4UOc85VTUin4ysMDa1c9IsXti86Vll15UDf-YH-OdWcOGGwnX2XYoWIS7q-EHR0IRkyg-qfnzUo9DWktD8Mxg_g6_rb0EtUqiQMtDxwX939nZb-MJ75oK4KhrnNrGK4OGf7_QV53RvY7Njl-DAlSiXBqLhH1KSPBO9YXCfxoETOv6xCRZFGwTurCT48crarBLDq8LSAHGyUUxQLYCDOajjLlAyjgnkdQbcyHcqRcSju-EXYOO5zw8QxscRAFdXCHVeCVht1sI_VckSYGpTLBFGLx167uqnTrqNfDWr0_UQW1xJ-3oRgmqkXx1nAjoA0rITwWj9310qH4uZpheNnK0XM_NFM3SwF9DF9xI6RtlY9nfXa-D-Q__KYzVj4eWRGuqbFU0cGC75_69T0-3veuke14bo13PvJJymM-Ly-XK-XDsYUA66N6UUMp4nybQ_3GcpFKDQv3K-lvtBdgek3Sz2BhTzl7IxLxBEny0JHFuhRpPyZdIEvh9l7mDo-g2OM70qzFgwKBsdoLNRfv5qfewJ_rMnwwYeufsKKWFg=w545-h34-no?authuser=0)  \r\n",
        "由於對是是嚴格遞增函數，讓對數可能性獲得最大結果的beta也能讓可能性獲得最大的結果。  \r\n",
        "由於梯度遞減目標是最小化，再實際上是使用負對數可能性。\r\n"
      ]
    },
    {
      "cell_type": "code",
      "metadata": {
        "id": "3YbiOnuUcP7r"
      },
      "source": [
        "import math\r\n",
        "\r\n",
        "def _negative_log_likelihood(x:Vector,y:float,beta:Vector)->float:\r\n",
        "  \"\"\"一個資料點相應的負對數可能性\"\"\"\r\n",
        "  if y==1:\r\n",
        "    return -math.log(logistic(dot(x,beta)))\r\n",
        "  else:\r\n",
        "    return -math.log(1-logistic(dot(x,beta)))"
      ],
      "execution_count": 11,
      "outputs": []
    },
    {
      "cell_type": "markdown",
      "metadata": {
        "id": "8L9YJeOwcu7r"
      },
      "source": [
        "假設不同資料點間是**獨立的**，  \r\n",
        "* 整體可能性 = 個別可能性直接相乘\r\n",
        "* 整體對數可能性 = 所有個別對數可能性加總之和"
      ]
    },
    {
      "cell_type": "code",
      "metadata": {
        "id": "4t1D0qm3dCh9"
      },
      "source": [
        "def negative_log_likelihood(xs:List[Vector],ys:List[float],beta:Vector)->float:\r\n",
        "  return sum(_negative_log_likelihood(x,y,beta) for x,y in zip(xs,ys))"
      ],
      "execution_count": 12,
      "outputs": []
    },
    {
      "cell_type": "markdown",
      "metadata": {
        "id": "nnSg5fYKdcRl"
      },
      "source": [
        "只需運用微積分，即可求出梯度"
      ]
    },
    {
      "cell_type": "code",
      "metadata": {
        "id": "Rmw6x8Ytdg8g"
      },
      "source": [
        "def _negative_log_partial_j(x:Vector,y:float,beta:Vector,j:int) ->float:\r\n",
        "  \"\"\"\r\n",
        "  這裡的i是資料點的索引值，j則是相應導數項的索引值\r\n",
        "  \"\"\"\r\n",
        "  return -(y-logistic(dot(x,beta)))* x[j]"
      ],
      "execution_count": 13,
      "outputs": []
    },
    {
      "cell_type": "code",
      "metadata": {
        "id": "YHRegMeNeHVt"
      },
      "source": [
        "def _negative_log_gredient(x:Vector,y:float,beta:Vector)->Vector:\r\n",
        "  \"\"\"一個資料點的梯度\"\"\"\r\n",
        "  return [_negative_log_partial_j(x,y,beta,j) for j in range(len(beta))]"
      ],
      "execution_count": 14,
      "outputs": []
    },
    {
      "cell_type": "code",
      "metadata": {
        "id": "PVpDWvzgefd9"
      },
      "source": [
        "def negative_log_gradient(xs:List[Vector],ys:List[float],beta:Vector)->Vector:\r\n",
        "  return vector_sum([_negative_log_gredient(x,y,beta) for x,y in zip(xs,ys)])"
      ],
      "execution_count": 15,
      "outputs": []
    },
    {
      "cell_type": "markdown",
      "metadata": {
        "id": "Xak5goMje20G"
      },
      "source": [
        "# 套用模型"
      ]
    },
    {
      "cell_type": "code",
      "metadata": {
        "colab": {
          "base_uri": "https://localhost:8080/"
        },
        "id": "8DLPI4S4e90w",
        "outputId": "88b2b826-286f-4ab1-ca34-8387d98f2f19"
      },
      "source": [
        "import random\r\n",
        "import tqdm\r\n",
        "from typing import TypeVar,List,Tuple\r\n",
        "\r\n",
        "X = TypeVar('X') #以通用型別來代表資料點\r\n",
        "Y = TypeVar('Y') #以通用型別來表示輸出變數\r\n",
        "\r\n",
        "def split_data(data:List[X],prob:float) ->Tuple[List[X],List[X]]:\r\n",
        "  \"\"\"把資料依照[prob,1-prob]的比率進行切割\"\"\"\r\n",
        "  data = data[:]        #複製一份資料\r\n",
        "  random.shuffle(data)      #因shuffle會打亂資料\r\n",
        "  cut = int(len(data)*prob)   #用prob算出切分點\r\n",
        "  return data[:cut],data[cut:]  #用打亂過的資料進行切分\r\n",
        "\r\n",
        "def train_test_split(xs:List[X],ys:List[Y],test_pct:float)->Tuple[List[X],List[X],List[Y],List[Y]]:\r\n",
        "\r\n",
        "  #生成索引並進行切分\r\n",
        "  idxs = [i for i in range(len(xs))]\r\n",
        "  train_idxs,test_idxs = split_data(idxs,1-test_pct)\r\n",
        "\r\n",
        "  return ([xs[i] for i in train_idxs], #x_train\r\n",
        "       [xs[i] for i in test_idxs], #x_test\r\n",
        "       [ys[i] for i in train_idxs], #y_train\r\n",
        "       [ys[i] for i in test_idxs]) #y_test\r\n",
        "\r\n",
        "random.seed(0)\r\n",
        "\r\n",
        "xs = [[1.0]+row[:2] for row in data]\r\n",
        "ys = [row[2] for row in data]\r\n",
        "rescaled_xs = rescale(xs)\r\n",
        "\r\n",
        "x_train,x_test,y_train,y_test = train_test_split(rescaled_xs,ys,0.33)\r\n",
        "learning_rate=0.01\r\n",
        "\r\n",
        "#隨機選個起始點\r\n",
        "beta = [random.random() for _ in range(3)]\r\n",
        "\r\n",
        "with tqdm.trange(5000) as t:\r\n",
        "  for epoch in t:\r\n",
        "    gradient = negative_log_gradient(x_train,y_train,beta)\r\n",
        "    beta = gradient_step(beta,gradient,-learning_rate)\r\n",
        "    loss = negative_log_likelihood(x_train,y_train,beta)\r\n",
        "    t.set_description(f\"loss:{loss:.3f}, beta: {list(np.round(np.array(beta),1))}\")"
      ],
      "execution_count": 16,
      "outputs": [
        {
          "output_type": "stream",
          "text": [
            "loss:39.963, beta: [-2.0, 4.7, -4.5]: 100%|██████████| 5000/5000 [00:18<00:00, 277.58it/s]\n"
          ],
          "name": "stderr"
        }
      ]
    },
    {
      "cell_type": "markdown",
      "metadata": {
        "id": "AEtP5AhXTdPR"
      },
      "source": [
        "將調整過尺度的資料相應之係數值轉回原始資料"
      ]
    },
    {
      "cell_type": "code",
      "metadata": {
        "colab": {
          "base_uri": "https://localhost:8080/"
        },
        "id": "eCoBv0OX5XQo",
        "outputId": "4a078229-b7c0-4b6e-8cdb-30b6602a84c5"
      },
      "source": [
        "xs = [[1.0]+row[:2] for row in data]\r\n",
        "means,stdevs = scale(xs)\r\n",
        "\r\n",
        "beta_unscaled =[(beta[0]-beta[1]*means[1]/stdevs[1]-beta[2]*means[2]/stdevs[2]),beta[1]/stdevs[1],beta[2]/stdevs[2]]\r\n",
        "print(list(np.round(np.array(beta_unscaled),6)))"
      ],
      "execution_count": 23,
      "outputs": [
        {
          "output_type": "stream",
          "text": [
            "[8.927237, 1.648203, -0.000288]\n"
          ],
          "name": "stdout"
        }
      ]
    },
    {
      "cell_type": "markdown",
      "metadata": {
        "id": "CrRIbVPMTls3"
      },
      "source": [
        "```\r\n",
        "paid accound = 8.927327 + 1.648203*experience - 0.000288salary\r\n",
        "```\r\n",
        "這些係數不像線性回歸係數那樣易於解釋。  \r\n",
        "在其他條件都相等的情況下：\r\n",
        "* 每多一年的年資，邏輯函數的輸入項就會增加 1.6\r\n",
        "* 薪水每增加10000，邏輯函數的輸入項就會減少 2.88\r\n",
        "\r\n",
        "且輸出的結果(發生機率)可能會受到輸入項的影響：\r\n",
        "* dot(beta,x_i)原本的值很大→增加多少都不會對發生機率\r\n",
        "* dot(beta,x_i)原本的值很→任何數值變動會使對應的機率大幅上升\r\n",
        "  \r\n",
        "在其他條件都相等的情況下，有以下結論：\r\n",
        "* 年資較高的人確實比較有可能升級付費帳號\r\n",
        "* 薪水比較高的人比較不會去升級為付費帳號"
      ]
    },
    {
      "cell_type": "markdown",
      "metadata": {
        "id": "xgtq7WtiaezN"
      },
      "source": [
        "# 套入優度"
      ]
    },
    {
      "cell_type": "markdown",
      "metadata": {
        "id": "1U6zkQV7aiWV"
      },
      "source": [
        "假定機率超過0.5，就預測它是**付費帳號**\r\n",
        "\r\n",
        "* TP 真陽性：確定是付費帳號，亦被預測是付費帳號\r\n",
        "* FN 假陰性：確定是付費帳號，卻被預測是不付費帳號\r\n",
        "* FP 假陽性：確定不是付費帳號，卻被預測是付費帳號\r\n",
        "* TN 真陰性：確定不是付費帳號，亦被預測不是付費帳號"
      ]
    },
    {
      "cell_type": "code",
      "metadata": {
        "id": "_as8ZXtIaqRO",
        "outputId": "6b47a6eb-7b70-479c-df95-cd43f0de6467",
        "colab": {
          "base_uri": "https://localhost:8080/"
        }
      },
      "source": [
        "true_positives = false_positives = true_negatives = false_negatives = 0\r\n",
        "\r\n",
        "for x_i,y_i in zip(x_test,y_test):\r\n",
        "  prediction = logistic(dot(beta,x_i))\r\n",
        "  if y_i == 1 and prediction >=0.5:\r\n",
        "    true_positives += 1\r\n",
        "  elif y_i==1:\r\n",
        "    false_negatives += 1\r\n",
        "  elif prediction >= 0.5:\r\n",
        "    false_positives += 1\r\n",
        "  else:\r\n",
        "    true_negatives += 1\r\n",
        "\r\n",
        "precision = true_positives / (true_positives+false_positives)\r\n",
        "recall = true_positives / (true_positives+false_negatives)\r\n",
        "\r\n",
        "print(\"precision:\",precision)\r\n",
        "print(\"recall:\",recall)"
      ],
      "execution_count": 18,
      "outputs": [
        {
          "output_type": "stream",
          "text": [
            "precision: 0.75\n",
            "recall: 0.8\n"
          ],
          "name": "stdout"
        }
      ]
    },
    {
      "cell_type": "markdown",
      "metadata": {
        "id": "28buEVMMfZ5E"
      },
      "source": [
        "### 圖 16-4 邏輯回歸預測結果與真實結果"
      ]
    },
    {
      "cell_type": "code",
      "metadata": {
        "id": "_8jpServfqy2",
        "outputId": "1f01a383-fa1e-4a75-e6df-85363e750447",
        "colab": {
          "base_uri": "https://localhost:8080/",
          "height": 295
        }
      },
      "source": [
        "predictions = [ logistic(dot(beta,x_i)) for x_i in x_test]\r\n",
        "plt.scatter(predictions, y_test,marker='+')\r\n",
        "plt.xlabel(\"predicted probability\")\r\n",
        "plt.ylabel(\"actual outcome\")\r\n",
        "plt.title(\"Logistic Regression Predicted vs. Actual\")\r\n",
        "plt.show()"
      ],
      "execution_count": 19,
      "outputs": [
        {
          "output_type": "display_data",
          "data": {
            "image/png": "[encoded data removed]",
            "text/plain": [
              "<Figure size 432x288 with 1 Axes>"
            ]
          },
          "metadata": {
            "tags": [],
            "needs_background": "light"
          }
        }
      ]
    },
    {
      "cell_type": "markdown",
      "metadata": {
        "id": "2nx36LszgWiG"
      },
      "source": [
        "# 支援向量機\r\n",
        "dot(beta,x_i)等於零的點，實質上是我們分類的分界線"
      ]
    },
    {
      "cell_type": "markdown",
      "metadata": {
        "id": "vCw2Qx5N7qvz"
      },
      "source": [
        "## 超平面"
      ]
    },
    {
      "cell_type": "markdown",
      "metadata": {
        "id": "4W4SbgkYgjfd"
      },
      "source": [
        "### 圖 16-5 已付費與未付費使用者，以及決策邊界線\r\n",
        "![](https://lh3.googleusercontent.com/nnixBYwhNFkVXpVQYkbi0al_7zDCP8S5SXITTUtAg7Abtg5UZ9Hy6F2rG4X9Y1LO9C6vSTs7tza-z39DMg5d8loUFYY6824R0D3ZnwpsG-bWuCa3KJ_Dw3yOqybLLnxT0bfXH7n3a19qQaPz3IiwJ1baVE3ShS_fvOSMWskQFZ3whURc7OS_lnOGKgYVFlKAgzP33pQJYhFk_fNWEfE9BzFGNC0VuOdH_hpzshSFImidOn2vdaLFgAnSLNlEubO0Ge1_VFhM9ZO7BgRAY-THFBgKqmyFTD7DSEVDRCNFSZ0Fzz7lpRutCV-G30YGQEpIg_tCdg7dGaBmJ2jch2vPRHjinrihQg8Z8Nd8G-e1zbDfWvuTFjMWhD53xU3ZZZVRqpoI10FxwP1MSS33IwKXS5o1r_ZuKyg5Q6k1gzpccXHR9bWFCrfl-ty8vno5W24n3iiqQwjPR-0x80_MGkKl3IhcFn6TdhN1bzrh3k_Nw8_U1Nf03kru48lQSJT0RlamoCscXY0gy5OQeq--EpbBZRjov0Mkh7l4DhOZCCLD9KJ7qnP94FT-Vlc5M4TnRI4SrUrD92UkWQSXl8y1M-SGjRMbA_DWuCfk2hjFUyqBQIDBzCMokXi3-2k3xfkbUJoyDhEAF-E6HDnm-F_d7PsOpa6OKFcupfmEzc2zbE0wuoMtRMUa3d0NXP2gotMgzw=w725-h562-no?authuser=0)  \r\n",
        "該邊界實際上是一個**超平面**，它會把參數空間一分為二。  \r\n",
        "分別對應*已付費*與*未付費帳號*的預測結果\r\n"
      ]
    },
    {
      "cell_type": "markdown",
      "metadata": {
        "id": "VYYPTHPS73BB"
      },
      "source": [
        "## 支撐向量機(support vector machine)\r\n",
        "用於找出對訓練組資料做出最佳分類的超平面  \r\n",
        "\r\n"
      ]
    },
    {
      "cell_type": "markdown",
      "metadata": {
        "id": "2O4kBdN_CvPU"
      },
      "source": [
        "### 圖16-6 可順利進行分類的一個超平面\r\n",
        "![](https://lh3.googleusercontent.com/Psf0p9E5_ngh6OTan39dBKLSZDO-XEepUlCaEZPHGo4UW1MSb6fmIH1KfKdbbAs3UWKh3-wCnDEJvyAvZlyatpISVTVgniESrCkoC6hwsPzTmbusFJSDzraZa639esOFuT505YbW9ncXsvpyN4ts8WfJOrXDFhTr_9Nz-JQcWAaRlX2PYbaM2nRoiPZVC6rfy4yMEcHFeVn4yQK5aUj9hU7ez_C9-uvKGqxmK3qQ10DrDjIxYYgWuTttW17wYReQ-vT6hsBtn6D3LTlAFVo5nJvjx1pjnACJpXaIvnMit1hMaJsX4YsKZ5DCsOV9NwdJzqRatND34DZ4niVgnrrFO04ILszn5CuuC79GFGU75FnB-70qAvgYIzc7tTA3rLTg9k-9IDfu-RCQ-1TMJ7PUfGuuFr_Ic8jXejKQs9fQiyhtIwBGzCkdpv4Cg1AGx3Jk0Ej3A5P3gJoyJnIsLYQAe_Ac7ADj-dx5GE_4J3Qg28YdlzmtWwzMk-COE4trakfAWtVjATX8YWI5lxZ3YtV4g55AgV8iB27OO0fXC5XQMjgq7wVN3B54ALInX749BJkcYdIrT94Qj1BQ1GLZAmSjDsXrd3eb1m0T_U7jpi3OrVxowQ9NE9jdQ8-U9LvnMa-Sn9EgC0xeJBqlCSwZBrIm4pOw-8HEtWXE4QR3gfIAJKVNxfApg4r2OC3Fc7ub6g=w679-h533-no?authuser=0)  \r\n",
        "我們有時可以試著將資料切換到更高為平面，試試看是否有其他可能性。"
      ]
    },
    {
      "cell_type": "markdown",
      "metadata": {
        "id": "keY7dBlFCmfo"
      },
      "source": [
        "### 圖 16-7 無法進行區分的一維資料集\r\n",
        "![](https://lh3.googleusercontent.com/qhmqOzYmcsz9jFDG6atR9jIe6oqGyaqu2_iz8YfY52yFbykMubjXFIdZ2VMSTsjSvZs9CaCyJ_zDSJ4Q50jlzS6UBH5wXo9c9QvVZqxNrO1IlxuQGC0xCwECqPJsANsBhnbic2qaIc9CakDyQVK0bYqbesU3ingxZkDlpxQCfmHwa45SS8-Yf3GLSxskyBiuqbQ72JICJL3qw2nuCyeIvBqotKMfmrhszGiHxZZP3uGURGK3vcTtY6WgC8rNYpniSM1eMFbITQsjZhWB1y0DX9Z93_qKsSX9WGNidwrc-tEDTwOkVym5cz8gIQc57WkaYpc4n69Ts1_s0IZfJSoeD4RWo5nVMwZZfgPkr88iWGHK5SK293yHuBtlgdaZYfHRTRiIoGjBUzSD1lP86SHXzLT8bjqr7FmUO8ChbpGl1h2wwISg6jXChDki8__zEMh1b5nFLSsEJy32IXQ9KpfFIbozb5f_WKP9k4aR7B092YBVgPMRyNqfY9bt-b9XwrJUH_rwfIOLyUuxl41zLoGE4o4Wzl2rFRmSaa8xTwBhftIbWldG730wOjG9NzoiE5X32FYh6DgnbLIRbwy6Mh1YKlSIMS9yrFHr7nNJ9pL7_CAcQq2MaESPpXck1OqQ7eWnNRkq9cyZJ5h1oq8m2vkgWUKWObqU5sthDISTympzS2L-RwsMg3UtZ6x0Z32QmA=w635-h512-no?authuser=0)"
      ]
    },
    {
      "cell_type": "markdown",
      "metadata": {
        "id": "cLOMdKWmDeLR"
      },
      "source": [
        "這裡顯然並不存在一個超平面,能做好「陽性樣本」與「陰性樣本」的切分工作。  \r\n",
        "不過,我們可以來看看,如果把這些資料中的每個x,都映射到(x, x**2)這樣的二維空間, 會發生什麼狀況。  \r\n",
        "突然之間,我們就可以找出能區分資料的超平面了(參見圖16-8)"
      ]
    },
    {
      "cell_type": "markdown",
      "metadata": {
        "id": "F4xbhYwxDGr5"
      },
      "source": [
        "## 核心技巧(kernel trick)\r\n",
        "利用核心(kernal)函式,計算出更高維度空間的點積。"
      ]
    },
    {
      "cell_type": "markdown",
      "metadata": {
        "id": "EQK2A9gWC9y0"
      },
      "source": [
        "### 圖 16-8 在更高維度，資料可以順利進行分類\r\n",
        "![](https://lh3.googleusercontent.com/Ukxc8nRwhnmRCNPmBS0VE3Rzf8Z8IgPjg5z3WWSsF0wdy5QTP4Xa9CYS77OhvHCaBFvLB9gAkiUtx1eV7baHu4r1NcEtQgEb6-eSioZ044bAp5I97KFcZeQLV2xE5Qc1HHrEAOqOGxj8Vp_SrKIXiXhUhPOoqUNVM3AKD9Ugwt6mO3avEFE2zu95jVphJasDFFxfFGGJFRL-wtFE0LHaVfiQdn2R8BWjRZiwnThhc2iCNUMkgWyUZPsclZenhaaBWbjnQyhs4gbgFnGrDHSmOt33zP-qZOguMIlnGuZ2BgSMF_CbmvW8dedGBpND0p-SC4nfOgLHheiz3eiztcs4R7BRrwOI85hyuOdyzk4Mlx66Hh8jSHKQ4rP2JcHx9gvBDmLCitAdUAAU6FLFQS3CT0NeXBTip_M9HkslfWcMtSghNqghV6Tc3GkYtu3DgRRqFezBndukYgVmPt4__sKj5IWyZ-mkaQ2Yn8xcol6ZRl0R4IC2cPAZtqFDFYDZswXpiFNOXYKEg3nxP2c_DteUBJk9ashDESf7sLpLn-h_9T0P-f_2jLuhb_Q7I4fP2suq2LgrNBAaTZfR8SlgqecdAkhTT0UTLMzd_GEz7iIjPpbv9fFtIDPiKnSDEjeGmSaG1jNBFDKROBMnPYma7HItE4DyD8jUhB3PoAnNp2xXG8WlK3yZf_PDzHZMeAlCzg=w661-h520-no?authuser=0)"
      ]
    }
  ]
}