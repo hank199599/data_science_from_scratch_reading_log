{
  "nbformat": 4,
  "nbformat_minor": 0,
  "metadata": {
    "colab": {
      "name": "Chapter16.ipynb",
      "provenance": [],
      "authorship_tag": "ABX9TyMzoTjva8rAeepTAw8gOkCs",
      "include_colab_link": true
    },
    "kernelspec": {
      "name": "python3",
      "display_name": "Python 3"
    }
  },
  "cells": [
    {
      "cell_type": "markdown",
      "metadata": {
        "id": "view-in-github",
        "colab_type": "text"
      },
      "source": [
        "<a href=\"https://colab.research.google.com/github/hank199599/data_science_from_scratch_reading_log/blob/main/Chapter16.ipynb\" target=\"_parent\"><img src=\"https://colab.research.google.com/assets/colab-badge.svg\" alt=\"Open In Colab\"/></a>"
      ]
    },
    {
      "cell_type": "markdown",
      "metadata": {
        "id": "tAxByDX1q7gG"
      },
      "source": [
        "# 問題\r\n",
        "有一組包含200位使用者的匿名資料：\r\n",
        "```\r\n",
        "[使用者的薪水,工作年資,是否已升級為付費帳號]\r\n",
        "```\r\n",
        "\r\n",
        "\r\n"
      ]
    },
    {
      "cell_type": "code",
      "metadata": {
        "id": "mWyI25qhGPfT"
      },
      "source": [
        "#原始資料\r\n",
        "data = [[0.7,48000,1],[1.9,48000,0],[2.5,60000,1],[4.2,63000,0],[6,76000,0],[6.5,69000,0],[7.5,76000,0],[8.1,88000,0],[8.7,83000,1],[10,83000,1],[0.8,43000,0],[1.8,60000,0],[10,79000,1],[6.1,76000,0],[1.4,50000,0],[9.1,92000,0],[5.8,75000,0],[5.2,69000,0],[1,56000,0],[6,67000,0],[4.9,74000,0],[6.4,63000,1],[6.2,82000,0],[3.3,58000,0],[9.3,90000,1],[5.5,57000,1],[9.1,102000,0],[2.4,54000,0],[8.2,65000,1],[5.3,82000,0],[9.8,107000,0],[1.8,64000,0],[0.6,46000,1],[0.8,48000,0],[8.6,84000,1],[0.6,45000,0],[0.5,30000,1],[7.3,89000,0],[2.5,48000,1],[5.6,76000,0],[7.4,77000,0],[2.7,56000,0],[0.7,48000,0],[1.2,42000,0],[0.2,32000,1],[4.7,56000,1],[2.8,44000,1],[7.6,78000,0],[1.1,63000,0],[8,79000,1],[2.7,56000,0],[6,52000,1],[4.6,56000,0],[2.5,51000,0],[5.7,71000,0],[2.9,65000,0],[1.1,33000,1],[3,62000,0],[4,71000,0],[2.4,61000,0],[7.5,75000,0],[9.7,81000,1],[3.2,62000,0],[7.9,88000,0],[4.7,44000,1],[2.5,55000,0],[1.6,41000,0],[6.7,64000,1],[6.9,66000,1],[7.9,78000,1],[8.1,102000,0],[5.3,48000,1],[8.5,66000,1],[0.2,56000,0],[6,69000,0],[7.5,77000,0],[8,86000,0],[4.4,68000,0],[4.9,75000,0],[1.5,60000,0],[2.2,50000,0],[3.4,49000,1],[4.2,70000,0],[7.7,98000,0],[8.2,85000,0],[5.4,88000,0],[0.1,46000,0],[1.5,37000,0],[6.3,86000,0],[3.7,57000,0],[8.4,85000,0],[2,42000,0],[5.8,69000,1],[2.7,64000,0],[3.1,63000,0],[1.9,48000,0],[10,72000,1],[0.2,45000,0],[8.6,95000,0],[1.5,64000,0],[9.8,95000,0],[5.3,65000,0],[7.5,80000,0],[9.9,91000,0],[9.7,50000,1],[2.8,68000,0],[3.6,58000,0],[3.9,74000,0],[4.4,76000,0],[2.5,49000,0],[7.2,81000,0],[5.2,60000,1],[2.4,62000,0],[8.9,94000,0],[2.4,63000,0],[6.8,69000,1],[6.5,77000,0],[7,86000,0],[9.4,94000,0],[7.8,72000,1],[0.2,53000,0],[10,97000,0],[5.5,65000,0],[7.7,71000,1],[8.1,66000,1],[9.8,91000,0],[8,84000,0],[2.7,55000,0],[2.8,62000,0],[9.4,79000,0],[2.5,57000,0],[7.4,70000,1],[2.1,47000,0],[5.3,62000,1],[6.3,79000,0],[6.8,58000,1],[5.7,80000,0],[2.2,61000,0],[4.8,62000,0],[3.7,64000,0],[4.1,85000,0],[2.3,51000,0],[3.5,58000,0],[0.9,43000,0],[0.9,54000,0],[4.5,74000,0],[6.5,55000,1],[4.1,41000,1],[7.1,73000,0],[1.1,66000,0],[9.1,81000,1],[8,69000,1],[7.3,72000,1],[3.3,50000,0],[3.9,58000,0],[2.6,49000,0],[1.6,78000,0],[0.7,56000,0],[2.1,36000,1],[7.5,90000,0],[4.8,59000,1],[8.9,95000,0],[6.2,72000,0],[6.3,63000,0],[9.1,100000,0],[7.3,61000,1],[5.6,74000,0],[0.5,66000,0],[1.1,59000,0],[5.1,61000,0],[6.2,70000,0],[6.6,56000,1],[6.3,76000,0],[6.5,78000,0],[5.1,59000,0],[9.5,74000,1],[4.5,64000,0],[2,54000,0],[1,52000,0],[4,69000,0],[6.5,76000,0],[3,60000,0],[4.5,63000,0],[7.8,70000,0],[3.9,60000,1],[0.8,51000,0],[4.2,78000,0],[1.1,54000,0],[6.2,60000,0],[2.9,59000,0],[2.1,52000,0],[8.2,87000,0],[4.8,73000,0],[2.2,42000,1],[9.1,98000,0],[6.5,84000,0],[6.9,73000,0],[5.1,72000,0],[9.1,69000,1],[9.8,79000,1],]"
      ],
      "execution_count": null,
      "outputs": []
    },
    {
      "cell_type": "markdown",
      "metadata": {
        "id": "7JPda1YPvapN"
      },
      "source": [
        "轉為所需的格式"
      ]
    },
    {
      "cell_type": "code",
      "metadata": {
        "id": "WkuytOeDvazT"
      },
      "source": [
        "xs = [[1.0]+row[:2] for row in data]\r\n",
        "ys = [row[2] for row in data]"
      ],
      "execution_count": 38,
      "outputs": []
    },
    {
      "cell_type": "markdown",
      "metadata": {
        "id": "WvDLf7wVun3s"
      },
      "source": [
        "## 第一步驟：線性迴歸\r\n",
        "```\r\n",
        "paid accound = β₀+β₁experience+β₂salary + \r\n",
        "```"
      ]
    },
    {
      "cell_type": "code",
      "metadata": {
        "id": "ePQfdNuTvrC0"
      },
      "source": [
        "import numpy as np\r\n",
        "\r\n",
        "def least_square_approximation(vector_x,vector_y):\r\n",
        "  x = np.array(vector_x)\r\n",
        "  y = np.array(vector_y)\r\n",
        "\r\n",
        "  # A = (X^T*X)⁻¹\r\n",
        "  transpose_x = np.transpose(x)\r\n",
        "  temp = transpose_x @ x\r\n",
        "  A = np.linalg.inv(temp)\r\n",
        "\r\n",
        "  # D = X^T * y\r\n",
        "  D = transpose_x @ y\r\n",
        "\r\n",
        "  # β = A*D = 最終解 = (X^T*X)⁻¹ * X^T * y\r\n",
        "  β = A @ D\r\n",
        "  return list(np.round(β,3)) #將最終的解,取小數點後三位"
      ],
      "execution_count": null,
      "outputs": []
    },
    {
      "cell_type": "markdown",
      "metadata": {
        "id": "bJRUyGQe4fUV"
      },
      "source": [
        "### 圖 16-1 已付費與未付費使用者\r\n"
      ]
    },
    {
      "cell_type": "code",
      "metadata": {
        "id": "cOFV9rmxv-uz",
        "colab": {
          "base_uri": "https://localhost:8080/",
          "height": 281
        },
        "outputId": "ed3c0a8c-5d1a-4917-a6f8-eb9517a47f03"
      },
      "source": [
        "from matplotlib import pyplot as plt\r\n",
        "\r\n",
        "for row in data:\r\n",
        "  if row[2]==1:\r\n",
        "    plt.scatter(row[0],row[1],marker='o',c='#0000ff',label=\"paid\")\r\n",
        "  else:\r\n",
        "    plt.scatter(row[0],row[1],marker='+',c='#0000ff',label=\"unpaid\")\r\n",
        "\r\n",
        "#plt.titie(\"Paid and Unpaid users\")\r\n",
        "plt.xlabel(\"years experience\")\r\n",
        "plt.ylabel(\"annual salary\")\r\n",
        "\r\n",
        "\r\n",
        "ax.legend()\r\n",
        "\r\n",
        "plt.show()"
      ],
      "execution_count": 28,
      "outputs": [
        {
          "output_type": "display_data",
          "data": {
            "image/png": "[encoded data removed]",
            "text/plain": [
              "<Figure size 432x288 with 1 Axes>"
            ]
          },
          "metadata": {
            "tags": [],
            "needs_background": "light"
          }
        }
      ]
    },
    {
      "cell_type": "markdown",
      "metadata": {
        "id": "AxEHz0YoawyK"
      },
      "source": [
        "### 圖 16-2 用線性回歸來預測是否為付費帳號"
      ]
    },
    {
      "cell_type": "code",
      "metadata": {
        "id": "wY08aplta3IX"
      },
      "source": [
        "from matplotlib import pyplot as plt\r\n",
        "\r\n",
        "def shape(A):\r\n",
        "    num_rows = len(A)\r\n",
        "    num_cols = len(A[0]) if A else 0\r\n",
        "    return num_rows, num_cols\r\n",
        "\r\n",
        "def scale(data_matrix):\r\n",
        "    num_rows, num_cols = shape(data_matrix)\r\n",
        "    means = [mean(get_column(data_matrix,j))\r\n",
        "             for j in range(num_cols)]\r\n",
        "    stdevs = [standard_deviation(get_column(data_matrix,j))\r\n",
        "              for j in range(num_cols)]\r\n",
        "    return means, stdevs\r\n",
        "\r\n",
        "\r\n",
        "def rescale(data_matrix):\r\n",
        "    \"\"\"rescales the input data so that each column\r\n",
        "    has mean 0 and standard deviation 1\r\n",
        "    ignores columns with no deviation\"\"\"\r\n",
        "    means, stdevs = scale(data_matrix)\r\n",
        "\r\n",
        "    def rescaled(i, j):\r\n",
        "        if stdevs[j] > 0:\r\n",
        "            return (data_matrix[i][j] - means[j]) / stdevs[j]\r\n",
        "        else:\r\n",
        "            return data_matrix[i][j]\r\n",
        "\r\n",
        "    num_rows, num_cols = shape(data_matrix)\r\n",
        "    return make_matrix(num_rows, num_cols, rescaled)\r\n",
        "\r\n",
        "import random\r\n",
        "import tqdm\r\n",
        "\r\n",
        "from typing import List\r\n",
        "\r\n",
        "Vector = List[float]\r\n",
        "\r\n",
        "def least_squares_fit(\r\n",
        "          xs:List[Vector],\r\n",
        "          ys:List[float],\r\n",
        "          learning_rate:float=0.001,\r\n",
        "          num_steps:int=1000,\r\n",
        "          batch_size:int=1)->Vector:\r\n",
        "  \"\"\"\r\n",
        "  找出最小化平方誤差和的beta值\r\n",
        "  假設模型y = dot(x,beta)\r\n",
        "  \"\"\"\r\n",
        "  # 一開始先使隨機方式做出猜測\r\n",
        "  guess = [random.random() for _ in xs[0]]\r\n",
        "\r\n",
        "  for _ in tqdm.trange(num_steps,desc=\"least squares fit\"):\r\n",
        "    for start in range(0,len(xs),batch_size):\r\n",
        "      batch_xs = xs[start:start+batch_size]\r\n",
        "      batch_ys = ys[start:start+batch_size]\r\n",
        "\r\n",
        "      gradient = vector_mean([squerror_gradient(x,y,guess) for x,y in zip(batch_xs,batch_ys)])\r\n",
        "\r\n",
        "      guess = gradient_step(guess,gradient,-learning_rate)\r\n",
        "  \r\n",
        "  return guess\r\n",
        "\r\n",
        "def dot(v:Vector,w:Vector)->float:\r\n",
        "  #計算v_1*w_1+... +v_n*w_n\r\n",
        "  assert len(v)==len(w),\"兩個向量必須有相同的維度\"\r\n",
        "\r\n",
        "  return sum(v_i*w_i for v_i,w_i in zip(v,w))\r\n",
        "\r\n",
        "def predict (x:Vector,beta:Vector) -> float:\r\n",
        "  \"\"\"假設每個x_i的第一個元素都是1\"\"\"\r\n",
        "  return dot(x,beta)\r\n",
        "\r\n",
        "def scalar_multiply(c:float,v:Vector) -> Vector:\r\n",
        "  return [c*v_i for v_i in v]\r\n",
        "\r\n",
        "def vector_mean(vectors:List[Vector])->Vector:\r\n",
        "  n=len(vectors)\r\n",
        "  return scalar_multiply(1/n,vector_sum(vectors))\r\n",
        "\r\n",
        "def gradient_step(v:Vector,gradient:Vector,step_size:float) -> Vector:\r\n",
        "  \"\"\"從v沿著gradient的方向移動step_size的距離\"\"\"\r\n",
        "  assert len(v) == len(gradient)\r\n",
        "  step = scalar_multiply(step_size,gradient)\r\n",
        "  return add(v,step)"
      ],
      "execution_count": 36,
      "outputs": []
    },
    {
      "cell_type": "code",
      "metadata": {
        "id": "D_ONQ7kcqgS1",
        "outputId": "7fcc933e-9b83-459d-b100-c1332b26327f",
        "colab": {
          "base_uri": "https://localhost:8080/",
          "height": 372
        }
      },
      "source": [
        "learning_rate = 0.001\r\n",
        "rescale_xs = rescale(xs)\r\n",
        "beta = least_squares_fit(rescale_xs,ys,learning_rate,1000,1)\r\n",
        "#[0.26,0.43,-0.43]\r\n",
        "predictions=[predict(x_i,beta) for x_i in rescale_xs]\r\n",
        "\r\n",
        "plt.scatter(prediction,ys)\r\n",
        "plt.xlabel(\"predicted\")\r\n",
        "plt.ylabel(\"actual\")\r\n",
        "plt.show()"
      ],
      "execution_count": 39,
      "outputs": [
        {
          "output_type": "error",
          "ename": "NameError",
          "evalue": "ignored",
          "traceback": [
            "\u001b[0;31m---------------------------------------------------------------------------\u001b[0m",
            "\u001b[0;31mNameError\u001b[0m                                 Traceback (most recent call last)",
            "\u001b[0;32m<ipython-input-39-3ea342337aae>\u001b[0m in \u001b[0;36m<module>\u001b[0;34m()\u001b[0m\n\u001b[1;32m      1\u001b[0m \u001b[0mlearning_rate\u001b[0m \u001b[0;34m=\u001b[0m \u001b[0;36m0.001\u001b[0m\u001b[0;34m\u001b[0m\u001b[0;34m\u001b[0m\u001b[0m\n\u001b[0;32m----> 2\u001b[0;31m \u001b[0mrescale_xs\u001b[0m \u001b[0;34m=\u001b[0m \u001b[0mrescale\u001b[0m\u001b[0;34m(\u001b[0m\u001b[0mxs\u001b[0m\u001b[0;34m)\u001b[0m\u001b[0;34m\u001b[0m\u001b[0;34m\u001b[0m\u001b[0m\n\u001b[0m\u001b[1;32m      3\u001b[0m \u001b[0mbeta\u001b[0m \u001b[0;34m=\u001b[0m \u001b[0mleast_squares_fit\u001b[0m\u001b[0;34m(\u001b[0m\u001b[0mrescale_xs\u001b[0m\u001b[0;34m,\u001b[0m\u001b[0mys\u001b[0m\u001b[0;34m,\u001b[0m\u001b[0mlearning_rate\u001b[0m\u001b[0;34m,\u001b[0m\u001b[0;36m1000\u001b[0m\u001b[0;34m,\u001b[0m\u001b[0;36m1\u001b[0m\u001b[0;34m)\u001b[0m\u001b[0;34m\u001b[0m\u001b[0;34m\u001b[0m\u001b[0m\n\u001b[1;32m      4\u001b[0m \u001b[0;31m#[0.26,0.43,-0.43]\u001b[0m\u001b[0;34m\u001b[0m\u001b[0;34m\u001b[0m\u001b[0;34m\u001b[0m\u001b[0m\n\u001b[1;32m      5\u001b[0m \u001b[0mpredictions\u001b[0m\u001b[0;34m=\u001b[0m\u001b[0;34m[\u001b[0m\u001b[0mpredict\u001b[0m\u001b[0;34m(\u001b[0m\u001b[0mx_i\u001b[0m\u001b[0;34m,\u001b[0m\u001b[0mbeta\u001b[0m\u001b[0;34m)\u001b[0m \u001b[0;32mfor\u001b[0m \u001b[0mx_i\u001b[0m \u001b[0;32min\u001b[0m \u001b[0mrescale_xs\u001b[0m\u001b[0;34m]\u001b[0m\u001b[0;34m\u001b[0m\u001b[0;34m\u001b[0m\u001b[0m\n",
            "\u001b[0;32m<ipython-input-36-d97301336482>\u001b[0m in \u001b[0;36mrescale\u001b[0;34m(data_matrix)\u001b[0m\n\u001b[1;32m     19\u001b[0m     \u001b[0mhas\u001b[0m \u001b[0mmean\u001b[0m \u001b[0;36m0\u001b[0m \u001b[0;32mand\u001b[0m \u001b[0mstandard\u001b[0m \u001b[0mdeviation\u001b[0m \u001b[0;36m1\u001b[0m\u001b[0;34m\u001b[0m\u001b[0;34m\u001b[0m\u001b[0m\n\u001b[1;32m     20\u001b[0m     ignores columns with no deviation\"\"\"\n\u001b[0;32m---> 21\u001b[0;31m     \u001b[0mmeans\u001b[0m\u001b[0;34m,\u001b[0m \u001b[0mstdevs\u001b[0m \u001b[0;34m=\u001b[0m \u001b[0mscale\u001b[0m\u001b[0;34m(\u001b[0m\u001b[0mdata_matrix\u001b[0m\u001b[0;34m)\u001b[0m\u001b[0;34m\u001b[0m\u001b[0;34m\u001b[0m\u001b[0m\n\u001b[0m\u001b[1;32m     22\u001b[0m \u001b[0;34m\u001b[0m\u001b[0m\n\u001b[1;32m     23\u001b[0m     \u001b[0;32mdef\u001b[0m \u001b[0mrescaled\u001b[0m\u001b[0;34m(\u001b[0m\u001b[0mi\u001b[0m\u001b[0;34m,\u001b[0m \u001b[0mj\u001b[0m\u001b[0;34m)\u001b[0m\u001b[0;34m:\u001b[0m\u001b[0;34m\u001b[0m\u001b[0;34m\u001b[0m\u001b[0m\n",
            "\u001b[0;32m<ipython-input-36-d97301336482>\u001b[0m in \u001b[0;36mscale\u001b[0;34m(data_matrix)\u001b[0m\n\u001b[1;32m      9\u001b[0m     \u001b[0mnum_rows\u001b[0m\u001b[0;34m,\u001b[0m \u001b[0mnum_cols\u001b[0m \u001b[0;34m=\u001b[0m \u001b[0mshape\u001b[0m\u001b[0;34m(\u001b[0m\u001b[0mdata_matrix\u001b[0m\u001b[0;34m)\u001b[0m\u001b[0;34m\u001b[0m\u001b[0;34m\u001b[0m\u001b[0m\n\u001b[1;32m     10\u001b[0m     means = [mean(get_column(data_matrix,j))\n\u001b[0;32m---> 11\u001b[0;31m              for j in range(num_cols)]\n\u001b[0m\u001b[1;32m     12\u001b[0m     stdevs = [standard_deviation(get_column(data_matrix,j))\n\u001b[1;32m     13\u001b[0m               for j in range(num_cols)]\n",
            "\u001b[0;32m<ipython-input-36-d97301336482>\u001b[0m in \u001b[0;36m<listcomp>\u001b[0;34m(.0)\u001b[0m\n\u001b[1;32m      9\u001b[0m     \u001b[0mnum_rows\u001b[0m\u001b[0;34m,\u001b[0m \u001b[0mnum_cols\u001b[0m \u001b[0;34m=\u001b[0m \u001b[0mshape\u001b[0m\u001b[0;34m(\u001b[0m\u001b[0mdata_matrix\u001b[0m\u001b[0;34m)\u001b[0m\u001b[0;34m\u001b[0m\u001b[0;34m\u001b[0m\u001b[0m\n\u001b[1;32m     10\u001b[0m     means = [mean(get_column(data_matrix,j))\n\u001b[0;32m---> 11\u001b[0;31m              for j in range(num_cols)]\n\u001b[0m\u001b[1;32m     12\u001b[0m     stdevs = [standard_deviation(get_column(data_matrix,j))\n\u001b[1;32m     13\u001b[0m               for j in range(num_cols)]\n",
            "\u001b[0;31mNameError\u001b[0m: name 'mean' is not defined"
          ]
        }
      ]
    }
  ]
}