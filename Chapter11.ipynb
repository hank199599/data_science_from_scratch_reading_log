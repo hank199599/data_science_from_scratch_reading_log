{
  "nbformat": 4,
  "nbformat_minor": 0,
  "metadata": {
    "colab": {
      "name": "Chapter11.ipynb",
      "provenance": [],
      "toc_visible": true,
      "authorship_tag": "ABX9TyOvRmoE1+Vy4huekvjw9DpY",
      "include_colab_link": true
    },
    "kernelspec": {
      "name": "python3",
      "display_name": "Python 3"
    }
  },
  "cells": [
    {
      "cell_type": "markdown",
      "metadata": {
        "id": "view-in-github",
        "colab_type": "text"
      },
      "source": [
        "<a href=\"https://colab.research.google.com/github/hank199599/data_science_from_scratch_reading_log/blob/main/Chapter11.ipynb\" target=\"_parent\"><img src=\"https://colab.research.google.com/assets/colab-badge.svg\" alt=\"Open In Colab\"/></a>"
      ]
    },
    {
      "cell_type": "markdown",
      "metadata": {
        "id": "lvT8Z1cjXwBb"
      },
      "source": [
        "# 模型化"
      ]
    },
    {
      "cell_type": "markdown",
      "metadata": {
        "id": "g4JTg2AxX0d9"
      },
      "source": [
        "## 模型(model)\n",
        "在不同變數之間，存在數學(或機率)關係的某種**規格規範(specification)**"
      ]
    },
    {
      "cell_type": "markdown",
      "metadata": {
        "id": "bZ3yCLGFX2tN"
      },
      "source": [
        "# 機器學習的定義\n",
        "自資料學習而得的模型，故被稱為**預測模型化(predictive modeling)**或 **資料探勘(data mining)**。 \n",
        "  \n",
        "機器學習的種類：\n",
        "* 監督式模型(supervised)：資料已標示正確答案\n",
        "* 無監督式模型(unsupervised)：資料未標示正確答案\n",
        "* 半監督式模型(semi-supervised)：只有部分資料標示正確答案\n",
        "* 線上模型(online)：需針對新資料持續進行調整\n",
        "* 強化模型(reinforcement)：在進行一系列預測後得到一個**訊號**說明他做得多好\n",
        "\n",
        "\n"
      ]
    },
    {
      "cell_type": "markdown",
      "metadata": {
        "id": "s0IcZkWVYEm8"
      },
      "source": [
        "## 過度套入 (overfitting)\n",
        "製作出來的模型隊訓練資料而言非常完美，但面對任何新資料的表現卻十分遜色"
      ]
    },
    {
      "cell_type": "markdown",
      "metadata": {
        "id": "UWhxbp1hYHH2"
      },
      "source": [
        "## 套入不足 (underfitting)\n",
        "此種模型即是面對訓練用資料表現也鋪怎麼樣"
      ]
    },
    {
      "cell_type": "markdown",
      "metadata": {
        "id": "cMmHDFpqaThB"
      },
      "source": [
        "### 圖 11-1 過度套入與套入不足\n",
        "![未命名.png](https://github.com/hank199599/data_science_from_scratch_reading_log/blob/main/pictures/11-1.png?raw=true)"
      ]
    },
    {
      "cell_type": "code",
      "metadata": {
        "id": "ILrEImWmbjwf"
      },
      "source": [
        "import random\n",
        "from typing import TypeVar,List,Tuple\n",
        "X=TypeVar('X') #以通用型別來代表資料點\n",
        "\n",
        "def split_data(data:List[X],prob:float) ->Tuple[List[X],List[X]]:\n",
        "  \"\"\"把資料依照[prob,1-prob]的比率進行切割\"\"\"\n",
        "  data = data[:]        #複製一份資料\n",
        "  random.shuffle(data)      #因shuffle會打亂資料\n",
        "  cut = int(len(data)*prob)   #用prob算出切分點\n",
        "  return data[:cut],data[cut:]  #用打亂過的資料進行切分"
      ],
      "execution_count": null,
      "outputs": []
    },
    {
      "cell_type": "code",
      "metadata": {
        "id": "LGTpT9KRdyoX"
      },
      "source": [
        "data = [n for n in range(1000)]\n",
        "train,test = split_data(data,0.75)\n",
        "\n",
        "#比例應該是正確的\n",
        "assert len(train) == 750\n",
        "assert len(test) == 250\n",
        "\n",
        "#原資料應該還是保存得很好\n",
        "assert sorted(train+test) == data"
      ],
      "execution_count": null,
      "outputs": []
    },
    {
      "cell_type": "code",
      "metadata": {
        "id": "GRKKFs2DfJXN"
      },
      "source": [
        "Y = TypeVar('Y') #以通用型別來表示輸出變數\n",
        "\n",
        "def train_test_split(xs:List[X],ys:List[Y],test_pct:float)->Tuple[List[X],List[X],List[Y],List[Y]]:\n",
        "\n",
        "  #生成索引並進行切分\n",
        "  idxs = [i for i in range(len(xs))]\n",
        "  train_idxs,test_idxs = split_data(idxs,1-test_pct)\n",
        "\n",
        "  return ([xs[i] for i in train_idxs], #x_train\n",
        "       [xs[i] for i in test_idxs], #x_test\n",
        "       [ys[i] for i in train_idxs], #y_train\n",
        "       [ys[i] for i in test_idxs]) #y_test\n",
        "       "
      ],
      "execution_count": null,
      "outputs": []
    },
    {
      "cell_type": "code",
      "metadata": {
        "id": "SmsDakL1gYQV"
      },
      "source": [
        "xs = [x for x in range(1000)]\n",
        "ys = [2*x for x in xs]\n",
        "x_train,x_test,y_train,y_test=train_test_split(xs,ys,0.25)\n",
        "\n",
        "#檢查比例是否正確\n",
        "assert len(x_train) == len(y_train) == 750\n",
        "assert len(x_test) == len(y_test) == 250\n",
        "\n",
        "#檢查相應資料點都有正確配對\n",
        "assert all(y==2*x for x,y in zip(x_train,y_train))\n",
        "assert all(y==2*x for x,y in zip(x_test,y_test))"
      ],
      "execution_count": null,
      "outputs": []
    },
    {
      "cell_type": "markdown",
      "metadata": {
        "id": "mC1FiDG6gyKb"
      },
      "source": [
        "\n",
        "\n",
        "```python\n",
        "model = SomekindOfModel()\n",
        "x_train,x_test,y_train,y_test=train_test_split(xs,ys,0.33)\n",
        "model.train(x_train,y_train\n",
        "performance = model.test(x_test,y_test)\n",
        "```\n",
        "1. 訓練：來建立多個模型\n",
        "2. 驗證：以資料來選擇模型\n",
        "3. 測試：判斷最終模型是否可用\n"
      ]
    },
    {
      "cell_type": "markdown",
      "metadata": {
        "id": "qcktBk5VYJtR"
      },
      "source": [
        "# 正確性\n",
        "\n",
        "|---|實際為真|實際為假|  \n",
        "|---|---|---|\n",
        "|預測為真| 真陽性|偽陽性\n",
        "|預測為假| 偽陰性|真陰性\n",
        "\n",
        "每個資料可以被歸類為四種分類中的其中一種\n",
        "* 真陽性(TP,true positive)\n",
        "* 假陽性(FP,false positive)\n",
        "* 假陰性(FN,false negative)\n",
        "* 真陰性(TN,true negative)\n",
        "\n",
        "\n",
        "\n",
        "\n",
        " "
      ]
    },
    {
      "cell_type": "markdown",
      "metadata": {
        "id": "j-pT5ACZ73l-"
      },
      "source": [
        "## 正確度(accuracy)\n",
        "預測正確的比率\n",
        "\n",
        "\n",
        "```\n",
        "accuracy = TP+TN/total\n",
        "```\n",
        "\n"
      ]
    },
    {
      "cell_type": "code",
      "metadata": {
        "id": "Q_3YSlk788xP"
      },
      "source": [
        "def accuracy(tp:int,fp:int,fn:int,tn:int)->float:\n",
        "  correct = tp + tn\n",
        "  total = tp + fp + fn + tn\n",
        "  return correct/total"
      ],
      "execution_count": null,
      "outputs": []
    },
    {
      "cell_type": "markdown",
      "metadata": {
        "id": "93jwF9s68FwE"
      },
      "source": [
        "## 精確率(precision)\n",
        "所有預測為陽性的結果中，預測正確的比率\n",
        "\n",
        "\n",
        "```\n",
        "precision = TP/TP+FP\n",
        "```\n",
        "\n"
      ]
    },
    {
      "cell_type": "code",
      "metadata": {
        "id": "uxmeH2cg9U6v"
      },
      "source": [
        "def precision(tp:int,fp:int,fn:int,tn:int)->float:\n",
        "  return tp/(tp+fp)"
      ],
      "execution_count": null,
      "outputs": []
    },
    {
      "cell_type": "markdown",
      "metadata": {
        "id": "l2mRJOYs8UKx"
      },
      "source": [
        "## 召回率(recall)\n",
        "所有真實陽性結果中，被預測正確的比率\n",
        "\n",
        "\n",
        "```\n",
        "recall = TP/TP+FN\n",
        "```\n",
        "\n"
      ]
    },
    {
      "cell_type": "code",
      "metadata": {
        "id": "qQUZglRl9ive"
      },
      "source": [
        "def recall(tp:int,fp:int,fn:int,tn:int)->float:\n",
        "  return tp/(tp+fn)"
      ],
      "execution_count": null,
      "outputs": []
    },
    {
      "cell_type": "markdown",
      "metadata": {
        "id": "R6JqyFbJ8xuE"
      },
      "source": [
        "## F1 分數(F1 score)\n",
        "利用精確率與召回率計算出的評量分數\n",
        "\n",
        "\n",
        "```\n",
        "recall = 2*precision*recall/(precision+recall)\n",
        "```\n",
        "也可以被視為精確率與召回率的[調和平均數](https://en.wikipedia.org/wiki/Harmonic_mean),  其值必位於精確率與召回率之間\n"
      ]
    },
    {
      "cell_type": "code",
      "metadata": {
        "id": "ImdjJcwg96VA"
      },
      "source": [
        "def f1_score(tp:int,fp:int,fn:int,tn:int)->float:\n",
        "  p =precision(tp,fp,fn,tn)\n",
        "  r =recall(tp,fp,fn,tn)\n",
        "\n",
        "  return 2*p*r/(p+r)"
      ],
      "execution_count": null,
      "outputs": []
    },
    {
      "cell_type": "markdown",
      "metadata": {
        "id": "1m2S4tGP6_Uy"
      },
      "source": [
        "### 範例：罹患白血病機率\n",
        "\n",
        "|---|罹患白血病|未罹患白血病|總計|\n",
        "|---|---|---|---|\n",
        "|名字是Luke| 70 (TP)|4,930(FP)|5,000\n",
        "|名字不是Luke| 13930(FN)|981,070(TN)|995,000\n",
        "|總計| 14,000|986,000|1,000,000"
      ]
    },
    {
      "cell_type": "code",
      "metadata": {
        "id": "3W5TMBVP7sS8"
      },
      "source": [
        "tp = 70\n",
        "fp = 4930\n",
        "fn = 13930\n",
        "tn = 981070"
      ],
      "execution_count": null,
      "outputs": []
    },
    {
      "cell_type": "markdown",
      "metadata": {
        "id": "oYDlMDP--ylP"
      },
      "source": [
        "正確度(accuracy)"
      ]
    },
    {
      "cell_type": "code",
      "metadata": {
        "colab": {
          "base_uri": "https://localhost:8080/"
        },
        "id": "S68bHVjI-0oy",
        "outputId": "f7b100cb-e272-4b57-e17e-27b28bcdf910"
      },
      "source": [
        "accuracy(tp,fp,fn,tn)"
      ],
      "execution_count": null,
      "outputs": [
        {
          "output_type": "execute_result",
          "data": {
            "text/plain": [
              "0.98114"
            ]
          },
          "metadata": {
            "tags": []
          },
          "execution_count": 34
        }
      ]
    },
    {
      "cell_type": "markdown",
      "metadata": {
        "id": "A4nECjNA-9xO"
      },
      "source": [
        "精確率(precision)"
      ]
    },
    {
      "cell_type": "code",
      "metadata": {
        "id": "WYlTip5N-323",
        "colab": {
          "base_uri": "https://localhost:8080/"
        },
        "outputId": "f80b84ce-a2e0-4e3f-9317-a7fe8756e3e0"
      },
      "source": [
        "precision(tp,fp,fn,tn)"
      ],
      "execution_count": null,
      "outputs": [
        {
          "output_type": "execute_result",
          "data": {
            "text/plain": [
              "0.014"
            ]
          },
          "metadata": {
            "tags": []
          },
          "execution_count": 30
        }
      ]
    },
    {
      "cell_type": "markdown",
      "metadata": {
        "id": "tQ3CB-qv--Gc"
      },
      "source": [
        "召回率(recall)"
      ]
    },
    {
      "cell_type": "code",
      "metadata": {
        "id": "w934sub--4AC",
        "colab": {
          "base_uri": "https://localhost:8080/"
        },
        "outputId": "2b0a188c-8fc6-4079-ab43-7c44076f0a5c"
      },
      "source": [
        "recall(tp,fp,fn,tn)"
      ],
      "execution_count": null,
      "outputs": [
        {
          "output_type": "execute_result",
          "data": {
            "text/plain": [
              "0.005"
            ]
          },
          "metadata": {
            "tags": []
          },
          "execution_count": 26
        }
      ]
    },
    {
      "cell_type": "markdown",
      "metadata": {
        "id": "plVI28aN--Vh"
      },
      "source": [
        "F1 分數(F1 score)"
      ]
    },
    {
      "cell_type": "code",
      "metadata": {
        "id": "0WDx9lG7-4GW",
        "colab": {
          "base_uri": "https://localhost:8080/"
        },
        "outputId": "a923a511-1865-46bd-80f1-e6d274b58429"
      },
      "source": [
        "f1_score(tp,fp,fn,tn)"
      ],
      "execution_count": null,
      "outputs": [
        {
          "output_type": "execute_result",
          "data": {
            "text/plain": [
              "0.00736842105263158"
            ]
          },
          "metadata": {
            "tags": []
          },
          "execution_count": 27
        }
      ]
    },
    {
      "cell_type": "markdown",
      "metadata": {
        "id": "8gEkfFeAYM21"
      },
      "source": [
        "## 偏差與變異\n",
        "\n",
        "* 偏差 (bias)\n",
        "* 變異 (variance)\n",
        "\n",
        "在模型中，如果：\n",
        "* 無論採取哪種訓練資料都會出現錯誤→有較高的偏差\n",
        "* 若任兩組隨機選擇的訓練資料會得出類似的模型→有較低的變異\n",
        "* 偏差很高：可以加入一些特徵項\n",
        "* 變異很高：可以移除一些特徵項，或取得更多資料  \n",
        "  \n",
        "![image](https://github.com/hank199599/data_science_from_scratch_reading_log/blob/main/pictures/11-2.png?raw=true)"
      ]
    },
    {
      "cell_type": "markdown",
      "metadata": {
        "id": "8KLLg7fSIET_"
      },
      "source": [
        "### 圖 11-2 用更多資料來降低維度\n",
        "![未命名.png](https://github.com/hank199599/data_science_from_scratch_reading_log/blob/main/pictures/11-3.png?raw=true)"
      ]
    },
    {
      "cell_type": "markdown",
      "metadata": {
        "id": "hDqONpQvYP8U"
      },
      "source": [
        "## 特徵的提取與選擇"
      ]
    },
    {
      "cell_type": "markdown",
      "metadata": {
        "id": "cXZhPafQIW7v"
      },
      "source": [
        "## 特徵項\n",
        "提供給模型的任何一種輸入項\n"
      ]
    },
    {
      "cell_type": "markdown",
      "metadata": {
        "id": "RUOEjU1aJTc3"
      },
      "source": [
        "### 與後續章節的關聯\n",
        "* 「是/否」這類的特徵項：[第13章 單純貝氏](https://colab.research.google.com/github/hank199599/data_science_from_scratch_reading_log/blob/main/Chapter13.ipynb)\n",
        "* 數字型的特徵項：[第14章 簡單線性迴歸](https://colab.research.google.com/github/hank199599/data_science_from_scratch_reading_log/blob/main/Chapter14.ipynb)、[第16章 邏輯迴歸](https://colab.research.google.com/github/hank199599/data_science_from_scratch_reading_log/blob/main/Chapter16.ipynb)\n",
        "* 數字型或類別型的特徵項：[第17章 決策樹](https://colab.research.google.com/github/hank199599/data_science_from_scratch_reading_log/blob/main/Chapter17.ipynb)"
      ]
    },
    {
      "cell_type": "markdown",
      "metadata": {
        "id": "b8AB1iyqIvmV"
      },
      "source": [
        "## 如何選擇特徵項\n",
        "結合**經驗**和**專業領域素養**\n"
      ]
    }
  ]
}