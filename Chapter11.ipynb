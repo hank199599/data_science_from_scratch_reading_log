{
  "nbformat": 4,
  "nbformat_minor": 0,
  "metadata": {
    "colab": {
      "name": "Chapter11.ipynb",
      "provenance": [],
      "authorship_tag": "ABX9TyN82XjpliOUaY3s9FMxkqaB",
      "include_colab_link": true
    },
    "kernelspec": {
      "name": "python3",
      "display_name": "Python 3"
    }
  },
  "cells": [
    {
      "cell_type": "markdown",
      "metadata": {
        "id": "view-in-github",
        "colab_type": "text"
      },
      "source": [
        "<a href=\"https://colab.research.google.com/github/hank199599/data_science_from_scratch_reading_log/blob/main/Chapter11.ipynb\" target=\"_parent\"><img src=\"https://colab.research.google.com/assets/colab-badge.svg\" alt=\"Open In Colab\"/></a>"
      ]
    },
    {
      "cell_type": "markdown",
      "metadata": {
        "id": "lvT8Z1cjXwBb"
      },
      "source": [
        "# 模型化"
      ]
    },
    {
      "cell_type": "markdown",
      "metadata": {
        "id": "g4JTg2AxX0d9"
      },
      "source": [
        "## 模型(model)\n",
        "在不同變數之間，存在數學(或機率)關係的某種**規格規範(specification)**"
      ]
    },
    {
      "cell_type": "markdown",
      "metadata": {
        "id": "bZ3yCLGFX2tN"
      },
      "source": [
        "# 機器學習的定義\n",
        "自資料學習而得的模型，故被稱為**預測模型化(predictive modeling)**或 **資料探勘(data mining)**。 \n",
        "  \n",
        "機器學習的種類：\n",
        "* 監督式模型(supervised)：資料已標示正確答案\n",
        "* 無監督式模型(unsupervised)：資料未標示正確答案\n",
        "* 半監督式模型(semi-supervised)：只有部分資料標示正確答案\n",
        "* 線上模型(online)：需針對新資料持續進行調整\n",
        "* 強化模型(reinforcement)：在進行一系列預測後得到一個**訊號**說明他做得多好\n",
        "\n",
        "\n"
      ]
    },
    {
      "cell_type": "markdown",
      "metadata": {
        "id": "s0IcZkWVYEm8"
      },
      "source": [
        "## 過度套入 (overfitting)\n",
        "製作出來的模型隊訓練資料而言非常完美，但面對任何新資料的表現卻十分遜色"
      ]
    },
    {
      "cell_type": "markdown",
      "metadata": {
        "id": "UWhxbp1hYHH2"
      },
      "source": [
        "## 套入不足 (underfitting)\n",
        "此種模型即是面對訓練用資料表現也鋪怎麼樣"
      ]
    },
    {
      "cell_type": "markdown",
      "metadata": {
        "id": "cMmHDFpqaThB"
      },
      "source": [
        "### 圖 11-1 過度套入與套入不足\n",
        "![未命名.png](data:image/png;base64,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)"
      ]
    },
    {
      "cell_type": "code",
      "metadata": {
        "id": "ILrEImWmbjwf"
      },
      "source": [
        "import random\n",
        "from typing import TypeVar,List,Tuple\n",
        "X=TypeVar('X') #以通用型別來代表資料點\n",
        "\n",
        "def split_data(data:List[X],prob:float) ->Tuple[List[X],List[X]]:\n",
        "  \"\"\"把資料依照[prob,1-prob]的比率進行切割\"\"\"\n",
        "  data = data[:]        #複製一份資料\n",
        "  random.shuffle(data)      #因shuffle會打亂資料\n",
        "  cut = int(len(data)*prob)   #用prob算出切分點\n",
        "  return data[:cut],data[cut:]  #用打亂過的資料進行切分"
      ],
      "execution_count": 4,
      "outputs": []
    },
    {
      "cell_type": "code",
      "metadata": {
        "id": "LGTpT9KRdyoX"
      },
      "source": [
        "data = [n for n in range(1000)]\n",
        "train,test = split_data(data,0.75)\n",
        "\n",
        "#比例應該是正確的\n",
        "assert len(train) == 750\n",
        "assert len(test) == 250\n",
        "\n",
        "#原資料應該還是保存得很好\n",
        "assert sorted(train+test) == data"
      ],
      "execution_count": 5,
      "outputs": []
    },
    {
      "cell_type": "markdown",
      "metadata": {
        "id": "lU-18RcHebHP"
      },
      "source": [
        ""
      ]
    },
    {
      "cell_type": "code",
      "metadata": {
        "id": "GRKKFs2DfJXN"
      },
      "source": [
        "Y = TypeVar('Y') #以通用型別來表示輸出變數\n",
        "\n",
        "def train_test_split(xs:List[X],ys:List[Y],test_pct:float)->Tuple[List[X],List[X],List[Y],List[Y]]:\n",
        "\n",
        "  #生成索引並進行切分\n",
        "  idxs = [i for i in range(len(xs))]\n",
        "  train_idxs,test_idxs = split_data(idxs,1-test_pct)\n",
        "\n",
        "  return ([xs[i] for i in train_idxs], #x_train\n",
        "       [xs[i] for i in test_idxs], #x_test\n",
        "       [ys[i] for i in train_idxs], #y_train\n",
        "       [ys[i] for i in test_idxs]) #y_test\n",
        "       "
      ],
      "execution_count": 9,
      "outputs": []
    },
    {
      "cell_type": "code",
      "metadata": {
        "id": "SmsDakL1gYQV"
      },
      "source": [
        "xs = [x for x in range(1000)]\n",
        "ys = [2*x for x in xs]\n",
        "x_train,x_test,y_train,y_test=train_test_split(xs,ys,0.25)\n",
        "\n",
        "#檢查比例是否正確\n",
        "assert len(x_train) == len(y_train) == 750\n",
        "assert len(x_test) == len(y_test) == 250\n",
        "\n",
        "#檢查相應資料點都有正確配對\n",
        "assert all(y==2*x for x,y in zip(x_train,y_train))\n",
        "assert all(y==2*x for x,y in zip(x_test,y_test))"
      ],
      "execution_count": 11,
      "outputs": []
    },
    {
      "cell_type": "markdown",
      "metadata": {
        "id": "mC1FiDG6gyKb"
      },
      "source": [
        ""
      ]
    },
    {
      "cell_type": "markdown",
      "metadata": {
        "id": "qcktBk5VYJtR"
      },
      "source": [
        "## 正確性"
      ]
    },
    {
      "cell_type": "markdown",
      "metadata": {
        "id": "8gEkfFeAYM21"
      },
      "source": [
        "## 偏差"
      ]
    },
    {
      "cell_type": "markdown",
      "metadata": {
        "id": "Wxdvq8jrYN-e"
      },
      "source": [
        "## 變異"
      ]
    },
    {
      "cell_type": "markdown",
      "metadata": {
        "id": "hDqONpQvYP8U"
      },
      "source": [
        "## 特徵的提取與選擇"
      ]
    },
    {
      "cell_type": "code",
      "metadata": {
        "id": "mWyI25qhGPfT"
      },
      "source": [
        ""
      ],
      "execution_count": null,
      "outputs": []
    }
  ]
}