{
  "nbformat": 4,
  "nbformat_minor": 0,
  "metadata": {
    "colab": {
      "name": "Chapter11.ipynb",
      "provenance": [],
      "toc_visible": true,
      "authorship_tag": "ABX9TyNhyX02Et/SKp3WK5L81Yi3",
      "include_colab_link": true
    },
    "kernelspec": {
      "name": "python3",
      "display_name": "Python 3"
    }
  },
  "cells": [
    {
      "cell_type": "markdown",
      "metadata": {
        "id": "view-in-github",
        "colab_type": "text"
      },
      "source": [
        "<a href=\"https://colab.research.google.com/github/hank199599/data_science_from_scratch_reading_log/blob/main/Chapter11.ipynb\" target=\"_parent\"><img src=\"https://colab.research.google.com/assets/colab-badge.svg\" alt=\"Open In Colab\"/></a>"
      ]
    },
    {
      "cell_type": "markdown",
      "metadata": {
        "id": "lvT8Z1cjXwBb"
      },
      "source": [
        "# 模型化"
      ]
    },
    {
      "cell_type": "markdown",
      "metadata": {
        "id": "g4JTg2AxX0d9"
      },
      "source": [
        "## 模型(model)\n",
        "在不同變數之間，存在數學(或機率)關係的某種**規格規範(specification)**"
      ]
    },
    {
      "cell_type": "markdown",
      "metadata": {
        "id": "bZ3yCLGFX2tN"
      },
      "source": [
        "# 機器學習的定義\n",
        "自資料學習而得的模型，故被稱為**預測模型化(predictive modeling)**或 **資料探勘(data mining)**。 \n",
        "  \n",
        "機器學習的種類：\n",
        "* 監督式模型(supervised)：資料已標示正確答案\n",
        "* 無監督式模型(unsupervised)：資料未標示正確答案\n",
        "* 半監督式模型(semi-supervised)：只有部分資料標示正確答案\n",
        "* 線上模型(online)：需針對新資料持續進行調整\n",
        "* 強化模型(reinforcement)：在進行一系列預測後得到一個**訊號**說明他做得多好\n",
        "\n",
        "\n"
      ]
    },
    {
      "cell_type": "markdown",
      "metadata": {
        "id": "s0IcZkWVYEm8"
      },
      "source": [
        "## 過度套入 (overfitting)\n",
        "製作出來的模型隊訓練資料而言非常完美，但面對任何新資料的表現卻十分遜色"
      ]
    },
    {
      "cell_type": "markdown",
      "metadata": {
        "id": "UWhxbp1hYHH2"
      },
      "source": [
        "## 套入不足 (underfitting)\n",
        "此種模型即是面對訓練用資料表現也鋪怎麼樣"
      ]
    },
    {
      "cell_type": "markdown",
      "metadata": {
        "id": "cMmHDFpqaThB"
      },
      "source": [
        "### 圖 11-1 過度套入與套入不足\n",
        "![未命名.png](data:image/png;base64,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)"
      ]
    },
    {
      "cell_type": "code",
      "metadata": {
        "id": "ILrEImWmbjwf"
      },
      "source": [
        "import random\n",
        "from typing import TypeVar,List,Tuple\n",
        "X=TypeVar('X') #以通用型別來代表資料點\n",
        "\n",
        "def split_data(data:List[X],prob:float) ->Tuple[List[X],List[X]]:\n",
        "  \"\"\"把資料依照[prob,1-prob]的比率進行切割\"\"\"\n",
        "  data = data[:]        #複製一份資料\n",
        "  random.shuffle(data)      #因shuffle會打亂資料\n",
        "  cut = int(len(data)*prob)   #用prob算出切分點\n",
        "  return data[:cut],data[cut:]  #用打亂過的資料進行切分"
      ],
      "execution_count": 12,
      "outputs": []
    },
    {
      "cell_type": "code",
      "metadata": {
        "id": "LGTpT9KRdyoX"
      },
      "source": [
        "data = [n for n in range(1000)]\n",
        "train,test = split_data(data,0.75)\n",
        "\n",
        "#比例應該是正確的\n",
        "assert len(train) == 750\n",
        "assert len(test) == 250\n",
        "\n",
        "#原資料應該還是保存得很好\n",
        "assert sorted(train+test) == data"
      ],
      "execution_count": 13,
      "outputs": []
    },
    {
      "cell_type": "code",
      "metadata": {
        "id": "GRKKFs2DfJXN"
      },
      "source": [
        "Y = TypeVar('Y') #以通用型別來表示輸出變數\n",
        "\n",
        "def train_test_split(xs:List[X],ys:List[Y],test_pct:float)->Tuple[List[X],List[X],List[Y],List[Y]]:\n",
        "\n",
        "  #生成索引並進行切分\n",
        "  idxs = [i for i in range(len(xs))]\n",
        "  train_idxs,test_idxs = split_data(idxs,1-test_pct)\n",
        "\n",
        "  return ([xs[i] for i in train_idxs], #x_train\n",
        "       [xs[i] for i in test_idxs], #x_test\n",
        "       [ys[i] for i in train_idxs], #y_train\n",
        "       [ys[i] for i in test_idxs]) #y_test\n",
        "       "
      ],
      "execution_count": 14,
      "outputs": []
    },
    {
      "cell_type": "code",
      "metadata": {
        "id": "SmsDakL1gYQV"
      },
      "source": [
        "xs = [x for x in range(1000)]\n",
        "ys = [2*x for x in xs]\n",
        "x_train,x_test,y_train,y_test=train_test_split(xs,ys,0.25)\n",
        "\n",
        "#檢查比例是否正確\n",
        "assert len(x_train) == len(y_train) == 750\n",
        "assert len(x_test) == len(y_test) == 250\n",
        "\n",
        "#檢查相應資料點都有正確配對\n",
        "assert all(y==2*x for x,y in zip(x_train,y_train))\n",
        "assert all(y==2*x for x,y in zip(x_test,y_test))"
      ],
      "execution_count": 15,
      "outputs": []
    },
    {
      "cell_type": "markdown",
      "metadata": {
        "id": "mC1FiDG6gyKb"
      },
      "source": [
        "\n",
        "\n",
        "```python\n",
        "model = SomekindOfModel()\n",
        "x_train,x_test,y_train,y_test=train_test_split(xs,ys,0.33)\n",
        "model.train(x_train,y_train\n",
        "performance = model.test(x_test,y_test)\n",
        "```\n",
        "1. 訓練：來建立多個模型\n",
        "2. 驗證：以資料來選擇模型\n",
        "3. 測試：判斷最終模型是否可用\n"
      ]
    },
    {
      "cell_type": "markdown",
      "metadata": {
        "id": "qcktBk5VYJtR"
      },
      "source": [
        "# 正確性\n",
        "\n",
        "|---|實際為真|實際為假|  \n",
        "|---|---|---|\n",
        "|預測為真| 真陽性|偽陽性\n",
        "|預測為假| 偽陰性|真陰性\n",
        "\n",
        "每個資料可以被歸類為四種分類中的其中一種\n",
        "* 真陽性(TP,true positive)\n",
        "* 假陽性(FP,false positive)\n",
        "* 假陰性(FN,false negative)\n",
        "* 真陰性(TN,true negative)\n",
        "\n",
        "\n",
        "\n",
        "\n",
        " "
      ]
    },
    {
      "cell_type": "markdown",
      "metadata": {
        "id": "j-pT5ACZ73l-"
      },
      "source": [
        "## 正確度(accuracy)\n",
        "預測正確的比率\n",
        "\n",
        "\n",
        "```\n",
        "accuracy = TP+TN/total\n",
        "```\n",
        "\n"
      ]
    },
    {
      "cell_type": "code",
      "metadata": {
        "id": "Q_3YSlk788xP"
      },
      "source": [
        "def accuracy(tp:int,fp:int,fn:int,tn:int)->float:\n",
        "  correct = tp + tn\n",
        "  total = tp + fp + fn + tn\n",
        "  return correct/total"
      ],
      "execution_count": 33,
      "outputs": []
    },
    {
      "cell_type": "markdown",
      "metadata": {
        "id": "93jwF9s68FwE"
      },
      "source": [
        "## 精確率(precision)\n",
        "所有預測為陽性的結果中，預測正確的比率\n",
        "\n",
        "\n",
        "```\n",
        "precision = TP/TP+FP\n",
        "```\n",
        "\n"
      ]
    },
    {
      "cell_type": "code",
      "metadata": {
        "id": "uxmeH2cg9U6v"
      },
      "source": [
        "def precision(tp:int,fp:int,fn:int,tn:int)->float:\n",
        "  return tp/(tp+fp)"
      ],
      "execution_count": 21,
      "outputs": []
    },
    {
      "cell_type": "markdown",
      "metadata": {
        "id": "l2mRJOYs8UKx"
      },
      "source": [
        "## 召回率(recall)\n",
        "所有真實陽性結果中，被預測正確的比率\n",
        "\n",
        "\n",
        "```\n",
        "recall = TP/TP+FN\n",
        "```\n",
        "\n"
      ]
    },
    {
      "cell_type": "code",
      "metadata": {
        "id": "qQUZglRl9ive"
      },
      "source": [
        "def recall(tp:int,fp:int,fn:int,tn:int)->float:\n",
        "  return tp/(tp+fn)"
      ],
      "execution_count": 18,
      "outputs": []
    },
    {
      "cell_type": "markdown",
      "metadata": {
        "id": "R6JqyFbJ8xuE"
      },
      "source": [
        "## F1 分數(F1 score)\n",
        "利用精確率與召回率計算出的評量分數\n",
        "\n",
        "\n",
        "```\n",
        "recall = 2*precision*recall/(precision+recall)\n",
        "```\n",
        "也可以被視為精確率與召回率的[調和平均數](https://en.wikipedia.org/wiki/Harmonic_mean),  其值必位於精確率與召回率之間\n"
      ]
    },
    {
      "cell_type": "code",
      "metadata": {
        "id": "ImdjJcwg96VA"
      },
      "source": [
        "def f1_score(tp:int,fp:int,fn:int,tn:int)->float:\n",
        "  p =precision(tp,fp,fn,tn)\n",
        "  r =recall(tp,fp,fn,tn)\n",
        "\n",
        "  return 2*p*r/(p+r)"
      ],
      "execution_count": 22,
      "outputs": []
    },
    {
      "cell_type": "markdown",
      "metadata": {
        "id": "1m2S4tGP6_Uy"
      },
      "source": [
        "### 範例：罹患白血病機率\n",
        "\n",
        "|---|罹患白血病|未罹患白血病|總計|\n",
        "|---|---|---|---|\n",
        "|名字是Luke| 70 (TP)|4,930(FP)|5,000\n",
        "|名字不是Luke| 13930(FN)|981,070(TN)|995,000\n",
        "|總計| 14,000|986,000|1,000,000"
      ]
    },
    {
      "cell_type": "code",
      "metadata": {
        "id": "3W5TMBVP7sS8"
      },
      "source": [
        "tp = 70\n",
        "fp = 4930\n",
        "fn = 13930\n",
        "tn = 981070"
      ],
      "execution_count": 28,
      "outputs": []
    },
    {
      "cell_type": "markdown",
      "metadata": {
        "id": "oYDlMDP--ylP"
      },
      "source": [
        "正確度(accuracy)"
      ]
    },
    {
      "cell_type": "code",
      "metadata": {
        "colab": {
          "base_uri": "https://localhost:8080/"
        },
        "id": "S68bHVjI-0oy",
        "outputId": "f7b100cb-e272-4b57-e17e-27b28bcdf910"
      },
      "source": [
        "accuracy(tp,fp,fn,tn)"
      ],
      "execution_count": 34,
      "outputs": [
        {
          "output_type": "execute_result",
          "data": {
            "text/plain": [
              "0.98114"
            ]
          },
          "metadata": {
            "tags": []
          },
          "execution_count": 34
        }
      ]
    },
    {
      "cell_type": "markdown",
      "metadata": {
        "id": "A4nECjNA-9xO"
      },
      "source": [
        "精確率(precision)"
      ]
    },
    {
      "cell_type": "code",
      "metadata": {
        "id": "WYlTip5N-323",
        "outputId": "f80b84ce-a2e0-4e3f-9317-a7fe8756e3e0",
        "colab": {
          "base_uri": "https://localhost:8080/"
        }
      },
      "source": [
        "precision(tp,fp,fn,tn)"
      ],
      "execution_count": 30,
      "outputs": [
        {
          "output_type": "execute_result",
          "data": {
            "text/plain": [
              "0.014"
            ]
          },
          "metadata": {
            "tags": []
          },
          "execution_count": 30
        }
      ]
    },
    {
      "cell_type": "markdown",
      "metadata": {
        "id": "tQ3CB-qv--Gc"
      },
      "source": [
        "召回率(recall)"
      ]
    },
    {
      "cell_type": "code",
      "metadata": {
        "id": "w934sub--4AC",
        "outputId": "2b0a188c-8fc6-4079-ab43-7c44076f0a5c",
        "colab": {
          "base_uri": "https://localhost:8080/"
        }
      },
      "source": [
        "recall(tp,fp,fn,tn)"
      ],
      "execution_count": 26,
      "outputs": [
        {
          "output_type": "execute_result",
          "data": {
            "text/plain": [
              "0.005"
            ]
          },
          "metadata": {
            "tags": []
          },
          "execution_count": 26
        }
      ]
    },
    {
      "cell_type": "markdown",
      "metadata": {
        "id": "plVI28aN--Vh"
      },
      "source": [
        "F1 分數(F1 score)"
      ]
    },
    {
      "cell_type": "code",
      "metadata": {
        "id": "0WDx9lG7-4GW",
        "outputId": "a923a511-1865-46bd-80f1-e6d274b58429",
        "colab": {
          "base_uri": "https://localhost:8080/"
        }
      },
      "source": [
        "f1_score(tp,fp,fn,tn)"
      ],
      "execution_count": 27,
      "outputs": [
        {
          "output_type": "execute_result",
          "data": {
            "text/plain": [
              "0.00736842105263158"
            ]
          },
          "metadata": {
            "tags": []
          },
          "execution_count": 27
        }
      ]
    },
    {
      "cell_type": "markdown",
      "metadata": {
        "id": "8gEkfFeAYM21"
      },
      "source": [
        "## 偏差與變異\n",
        "\n",
        "* 偏差 (bias)\n",
        "* 變異 (variance)\n",
        "\n",
        "在模型中，如果：\n",
        "* 無論採取哪種訓練資料都會出現錯誤→有較高的偏差\n",
        "* 若任兩組隨機選擇的訓練資料會得出類似的模型→有較低的變異\n",
        "* 偏差很高：可以加入一些特徵項\n",
        "* 變異很高：可以移除一些特徵項，或取得更多資料"
      ]
    },
    {
      "cell_type": "markdown",
      "metadata": {
        "id": "8KLLg7fSIET_"
      },
      "source": [
        "### 圖 11-2 用更多資料來降低維度\n",
        "![未命名.png](data:image/png;base64,iVBORw0KGgoAAAANSUhEUgAAAfoAAAF3CAIAAADCWR4YAAAAAXNSR0IArs4c6QAAAARnQU1BAACxjwv8YQUAAAAJcEhZcwAAEnQAABJ0Ad5mH3gAAFUnSURBVHhe7d0FXFRZFwDwQylgI4qiKDasssZiYieo2IWrYitru3a3qKt+dqOYayJiYCMGYmGjYqAiGCAqBj3fufOu7IiADMy8qfP/+cNzzxuGiTfn3ffmvXv1JBIJEEII0Xb6/H9CCCFajZd774NeQkAIIURrhISE8AiAH8wpa2lRokzZF08eC1lCCCHa4XH4GyH4r9ynpAghhGgH2dpOx+4JIUQnULknhBCdQOWeEEJ0ApV7QgjRCVTuCSFEJ9CZOcrl5+d37tw5ITYxMSlfvnzz5s1NTU2FTOY9ePBg9+7d48ePNzY25qnvPnz4sGzZMt6Qqlmz5uvXrw8dOnTgwAFs/u9//6slJSyVFRoa6unpKcT4qCwtLfF3y5YtK2TUQXh4+JEjR969e2dubt66dWt8hHyBjMuXLx8/flyIzczM8Jna29vr6ekJmZ81atRoy5YtJUuW5G0R4Z+eMWNGgwYNeDstVatW9fb2LlGiBG9nT6lSpZ49e4YBroofP35s27atkD948GCHDh2io6Pz5csnZNJ08+ZNfDB16tRp1qyZkMF15tixY25ubkIzRcqqjq88vln16tWzs7MTFqUpM0/z33//tbGxqVKlCm8T+dGZOeLBD8CsWbMaSuEHz93dvXv37nyZPLDcz5w5MzY2lrdlYLkXFgl/BWG9dnFxSanjWO4DAwOFOBX86OLv5s+fH3/rt99+i4yM7Nq1K36wX7x4wW+hUsHBwVhocNOFH/i4uDjcUmKGL5OB5R6fBZb4+vXrJyYmOjg4zJs3jy9TM1hk8Rnxhihu3LghBFiO8a8LceZhuV+4cGHLli2DgoKEDK4z69atE2JZKat63bp1cStSuXLlVatW8WVpOXv2bPHixXkjHdjFuXXrFm+Q7MPePSpTtLAQEMXCrpy+vj5vSCTY48YOPm9IJLdv38aPR65cuWxtbc+cOcOzEsn8+fOLFSuG3S7sqOKnFDPYYxJgaRZukwL7bpjH7ipvS23evLldu3YY9O7dW/hFhEVTWJoCP3KYF/6EQLi3CRMm8Lb0KRQsWLBQoUJjx4799u0bz0okEydOxB0C7KNhCcZ7fv78OSbx1zF++PBh9erV8YljE5Pp3cOuXbtwE5gnT542bdq8evWKZ2X07NmzVatWvCGRDB48uHHjxrwhY+nSpfi3cLMnNJ2cnHDDgAFuvfAe8BXDfYKNGzcKSxG+5liz3r9/X7jwD6s97j0MGjQIg5EjR+LrtmHDBnzY2P08fPiwcAOEm1XclOITL1eu3J49e4QkVjd80Tw8PDp27IjvGm4v37x58/btW+zh4t4YvlDCzRD+aSyLQjx37ly8E3z3//jjD9xiCUmU8mIi/N0iRYrgU8AdgitXrgjJFD169Jg8ebIQu7q64mPA/jvG+MAwxkeFsbW1Nf7ElwgzKTDj5eWFwalTpypVqoSPeeDAgfjUMJ8Krki4Ea1WrZrwyiBcZ7CUC7GsVKs6rtJdunTBAN9Z3I3Imzcv7k5hb11YilKtM/gT1xl8ucaMGSPcAJ+y8GgF+P5++vQJ7xPvCl8T7Jfgnp9wS5IB2dpOvXulw1cZ6ynau3cv9jqxoyTksd/0559/YjnDDyeu4qNHjw4ICMA8VgHcKqxcuRK7NvgZE26M/Sb86ePjg6VHyKSCNVf4Kwg/GJjBTwj+HD9+PBa1IUOG4KcUS570thnB6oBF5OLFixhjvWjUqBE+TvxF7NCFhIQMHToU89iDxtvgH9q5c+eUKVOGDRuGn1vpbzNYSTGDlR2fhYGBQZr3gK8JFrJly5bNnj0biz7u9eOnNykpSbiHFPjxNjEx4Q0ArAX+/v5fvnzh7R/hfeJPXIqFA+sXNjt16oRbl61bty5ZsmT58uWTJk0SbiMoUKBAjRo1cH9LaOL+09GjR7HiC00syrjR2rFjh5ubG26N8O9iEp+ajY0NPinsJuMTxBIpexht7dq1+G7in8Mn0rlzZ3xz8WXHlwjfNXyL+Y1k5MyZc8GCBfv378dKjW80lkW+4Du8fyzxuNXBlwjvLTk5mS/4Dqvwtm3b8O3A+NGjR7gRun79OsbYE8ftIm4kMBZWA3wpevXq5ejoiKsBwoxg06ZNuGrhW3P8+PFFixbx7I/wHvbt24cbBnxBeOpXcM159+4d1uX4+Hh89XCria8Dvte4E7ZixQp+Ixm4/gjrDD7T06dP40cAk7hXijtq2PNIecwVK1bEzgF+jvA1wW0D3rn0t0mm4QcAUe9eSbDLw3om3+H6ij16YRH2aFK6ZgjrDlYfDLArhKu+kEwh9MVSOrCysLoJdy7AHhYWYuyUtW/fXrgB9qrwkyPEqeCnCH8Fb8/bUmvWrBF2QfCzh0uxlyrkUZkyZfAn7l9j3tvbW0h+/vwZi3JKTw0/kPg5FBaldw+4ccL8iRMnhCTCSoTVlje+w2prZmaG3XCM8T4rVKiAv/Xy5UthaQqh64obNtz2YAXEGLeUFy5cwI45v4VEgl1vzGO9xljo3WOwfv16IyOjmJgYjP/55x/cSAiPHHv3uNuB5RVjhPezcOFCDLC4Y63HnQYhj7USd24wEHr3KS/yixcvcuTIgS+L0MQal7JTItu7l4XlHquhEKd0e/G5TJ06VUimCd84/Lu4ocLtIvbBcRuzePFizLdo0QJfeeE2+ESEYPr06X369BFiJKxRN27cEJq4wsjuSKXAPPayMcB1EjvsuCXDdSa93j3eIf4V3Kzieo7rIW5Ctm/f/vvvv/NbSCS43cXbCKuxbO8eN70przbeBncEhRj3UD09PYX49evX+Lu44RGaJJOody8qXEdxVUZYtoYPH45VGD+cX79+xaKJnT7s/AqwHgmHKefMmXPv3r1atWr1798f6xGWEuF+MoYfS+Gv4Acy428CfwkfHhZBDPBziB9a3H3mD7FRI/zIvXnzBgsuLsXCLb055MqVy8rKSogRxsKvo/TuAfO4FLd2PNuoEXZIfz5K6+LighXK3t6+bt26TZo0wY0QJrFTLCxNBV9nQ0ND7CkHBgZi4bt06RJuHvgyAOF3w8LChKYACxw+VNzMYIy7TbjZSHnk+PrjHQoxbi9xLwED/HW8H+yrCnnst8reYcqR6GLFillYWODLIjRx+ye79yOIjY3t27fvH3/8gWUaNwZHjhz5+Ta4h4cFHXu4gwcPxqqHmyW+4Dssu/iAsWTju4/Vs1+/fhjjOoA9fWdnZ36jDKV8U4oBrpNCnCbc1Xj69Gmauymy8EXDTR3uEuEuXfPmzTPzLiB86VJebdwpwU+KEMvCnVR8g3D/GO8W94aPHTv28+4gyRiVe/HgeoyfGfxQ4WcYCxNmcK2V7qcyuKcsfBOLfSjcn8UM7q5iNxM7TdLfFs+hQ4ewS4gB9mTxMQsPT4A9VixkwoNPSEiQ3pyR3a2WLcfp3QPmcSl2/Xj27FncDOBuu/BbKbAEYKf7yZMn2FX39/fHrjT2+xBfLANvib+OXUvcoOLrhk1jY2PZRyXEwiNPYWlpiYXJx8cHN2BYy3DTwhdIDxzxCD8k0kPSGOCvyx5Kwvore4cpMd5eNo8PBkswb3yHpRz3MK5fv47P68yZM9gf/7l41a5dG5fi1girJJZy7LnzBd/haytsKTdu3Ii7AngnISEhly9fxsqYsrHJmOxjFoL0VKpUCTfPuOeXUpd/hovwLUBDhgwRTsvJzLuAUr1cwqudCuZHjBiBrxg+BvwQ4aYaV1S+jGQOlXtR4X73x48fsS+DPSDsvPv6+golHmH1jIiIwEDYwzUxMcEdfCxewvileHv8mXH/Kz25c+cWOqe/hH8X+4nYI+vYsSM2sYeL/SwsRsJSJOxq4CcfazrWaCGJ9ejn486C9O4Bu6K4/y77PQS+LLLbjxTCgWmE2wOsyxmf7CGrbdu22Mm9f/++0Dx16hT2ym1sbIRmikmTJl29ehWLfspR+wzg9gY3DFeuXMEYHy1uiTEjLJJXZGRk0aJFhRjfd+G7gVSEfaB8+fKNHj26U6dOsiPZphgwYAC+jHfv3sVyj828efNi/1eIU8HVIGvrTwrcoOIWDjfSvJ0J3bt3xx2OlO48vgu4U2htbS00fwlX+6ioKCHGT4qw8uA94JYP18A0XxCSASr3Soc1FOsC6t2792+//VavXj3h07h+/Xqsklj6sdZgr79ixYqzZ8/GPNYpe3t77Nf36NFj4cKFwpEZYY8YNwDY28VALm3atFm3bt3UqVPT+6oWSzw+vL/++gs/SPgn8I/iQ8V8/fr13d3dnZycunTpgo8H+1N169bFfLFixTZt2oQf/r59+/bs2RMfJ2bS7B6mdw/Y/cRdHPyj2MR8t27dcH8izcNWDRs2HDp0KG4araysatasiVWPL/jRz/3BEiVKdOjQ4ffff8fXFrdeS5Yswc0Slk6++DszMzMs2bgoM0c/8A7xAeMtx40b17x5cyx8o0aN4svkhB1Vb29vfGD41LD8ye5MpMAHhh183AXEZ71nzx58MfkCGfiQcC8Bqzxug7GJzxefS5obIdye4aK///57zpw5PCUnIyMj3LrgW8/bmSAcrSpbtiz293HnY9u2bSdPnkzvcFyKlHcTV/uZM2fimoaPGXd/cYONzwK30Pji445Cmi8IyYABfuTwv+WL/xn+91ghRRQLP8y4H4qKFCmCu+Tjx49POdsEP6vC0UwLCwv8SGP1NDU1xe0BbgNw9x8LFpYVLIUGBgZYlXAVx5KKu/xCxZSFxQK3Cnj/vC2FTaEE4KcCPyfYL8M7xw2JsDRF/vz5saONDw9LcLt27bBvKNvPdXBwaNq0qbC3gV1y3NsQ/gruqmMlwt4ifiBXr16NGxJ8qMIuOT4Y2b+S3j3gU8anj11OfHZYDoYNG4bbQnwYwm+lwCeOH+xChQrhL+IG6efjAAJ8xfAVSLUUNxW4ZcVXEt8C3JSmPCr8K5UrV06psDdv3nzx4sWCBQuEXSgBPiTZXQF85Hgn+Prj5g0Xff78GTP4K7j7ItwA/zQ+AHNzc6GJUhYhfHhCE/80/iK+5nny5GnSpAm+m9jHx1pWp06dlL+It8GHig8PXzfcjuJtypUrh1tr3Gz/vE3FG+O94cqDhR6b+Fbir+D7iIFwAyT8aXxseBvci8I7xFdGyMi+aHg/+NiEWBa+Xyl57BDg+4i//vOKhPAlEu5ZVrNmzXA9xD9qa2s7d+5cYYVHKU8T41TrDP5F4X7wbcJPQVxcHL6Jjo6O+ILg88K7wpcLt9/CUyYZk63t/DAZXVVL5IJVAzce2N3D9WfWrFnYbUzvSi71V716ddxWde7cmbcJ0SJ0VS3JrpCQENwLEbrPvr6+ansVa8YWLVqEPd/SpUtTrSe6gHr3hBCitWRruzqW+4SEhODgYDMzM+F0PUII0VZY7ooWLZpywYfC/VDbsdwjtbqqlgZFIoTojuvXr/PapwSytV0de/dhYWFWVlZBQUEWFhY8pTReXl7t27fnDa3g6uqaMhamdtC+Z0RrndpKliS7erkOth+8fup6cZ7RuHHjRo0alealEgqh7r378PBwfGDiDHe3c+dOHmkLZ2dnHmkL7XtGtNapP9Ge0cCBA0Xr3dOZOYToqO8XMxFdoevlXrgQSZu4uLjwKBNwP2rECPhpQBf1Itcz0gjprXXx8RARIVIVvnwZMj2WQbrevYO7d1mQyfcIn9rIkfDTCGnqSPvWOqTr5T7j+dU0kVyrac6cIDNeoZrSvg9eemtdcDAUL86Kvgh++w327uVxlp0+DePGsSDz71H58mytU39aWe7V8avaiIgIS0vL8PDwlDGkiEZLSEi4c+cOb5D0YY977lzw8eHN9NjY2JjKP92xMmzcCJcugYcHb5IsGCQlzle1VO6J0glvaI8ePdSkSGm08+fPb9++XXnVQS5BQRAVBU2b8qZGO/jgoM9Dn41tNuqlP8KzMlC5p3KvVegNVSBlVwed1WZXm7mN59pZiH10V9lvqGxtF+PY/XWpxYsXL1269Nq1azwLEBAQMG/evI0bN2ZzGG6SZYmJ8OKFun9VS5QEP4vSEfVF9eoVfJ/iQY1cDrtsZGAkfq0XmRjl/i+p+Ph4LOstWrS4d+8eJsPCwoRJ5b29vR0cHJJoHjJVePkSSpaEjx95k+gUT0/w9eWxaGrWZF9RqJXE5MROezr9afcnb2svMcr9camJEydOnjz577//HjNmDCZ79OgxduzYoUOHbt26FUv/yZMnhRsTMQnDp9OmVjdVqACRkTzOmpgYuXcNDQ3Vbn078+xMoVyFHMs68rb2EqPc55cSYmEim0+fPvn7+wsTGhQoUMDR0fH27dvS5URU+NnLl09XLrfR19fHlS0uLo63pevez7PIygs7K8OGDStbtize/9OnT3lWKiEhYfr06UWKFLGwsFizZg3Pqo3GjaF2bR5nTd++rOLLpWBB3slQH81KN7vU95KpkfafRyDqCx8ZGenl5TVv3ryP0sMHefPmFfJWVla4ARBiIqZixeDDB0hrrm/thLW+U6dOWIV5WxHCw8Ox0A8fPrwgVrIf4Y7s/v37V65cuXr16vXr1+PerXBmhJr47bfsnlSzejV+inmcSdevQ6NGPFYTenp6JkZ8gjluyRKQZ0peTSFeuf/8+XPNmjWxI1+1alVhZOOUjlViYuLPs7IRonDOzs5Hjhw5deoUbytCjRo1li1bhuU+d+7cPCWFlX3r1q3453AD07FjR7zB/Pnznz9/zhdrBewoiHvWovLh9njiRDhwAP7UwkP5YhRZLOto0KBBrVu3Hj16NGawH2RqaordIuEG165dE+YvlYX7Abuk6AodoijY4cD18JfHVW7evOmXltDQUH6LTAgMDMT915IlSwpNYWJV4TwFoqZwt2/YMHj4EHbtUup27M2bN0JxQ48fP+ZZ5ROj3P8rZWhoiJ0g4UKbnDlz9urV6+zZsxg/ffoUP0j4OZTe9j/t27d3kdK+cQ6IquBuO9Z6YS5ynkrLqFGjGqdFrhFxccWWnR9c+PoqOjpaaBKVC/sUFpsoc07ot2/sMNOXL6xrb2XFk8phYWEhFDdUtmxZnlU+Mco97sMiXPtxl1aASXd392fPnrVr165///6LFi2qWrWqcGMiJlzDR43K7ukZ2YR9qUGD2L9163hGsGoVDwT4UIWbZX+kl7/++ivjDj52RIRd0lSmT5/Ob5EJ2KdJTEzkDekRS/yJnR6hqSbmzOFB1hw9yoPMw7dVHaYvevXplYOHw+Ww7+eEvnoFLi5Qty4sW8Yz2oiuqtVpWILOnGEruVJHN8j4DY2JgZAQFmD3t3RpaUrqyRMoU4bHKCmJl4nChdk4Ylmgr6+/ePFi7Lm/f/++QoUK+HgKFy4cFRX18/dGW7ZsSfO4TUMp3vhJqVKlTp8+Xfr7c3jy5EmtWrXevXsnNM+fP9+gQQO8QaPsfVMpvQZTXa6qbdMGDh3icSZdu8a6zsqfuOgXxp8a/+Hbh3XO0i4G9jjw9XR3Z0dyRKfsN1Tsq2qJ2sK+ZvPmyq31v5QnD/us4T/ZWo9kaz0yMOA3y1qtl2VmZubo6Ni5c+cMLu7TSwtflj7ZE2/KlCmDm5MNGzYIyePHjxcqVEib9mKTk7NyfNveXvW13uehz+3Xt5c5LWNfzJ44AW5usGkT7vTxxVoM10Wks7NZERGoyRuK9XrJkiVCfPHiRaGCY8UXMtnhKpU7d+6OHTticOHCBSG/fv16/BNdunRxcXExNja+cuWKkM8OZU9+lHn4ygUE8FiDXA+/DjPg2qtrrOHpKdHXl1y+LF2iGjSbFSGKN3369Fq1agkxBkuXLsUMlmMhkx2lpMaMGWNnZ4dByhmZffv2PX36tL29PXbq/f39q1evLuS1g74+vow81iBG+kbeXb3/yFsBZs6E3bvZJAM/nSeirejYPVE6ekMVSLGHeiMi4PFjqFePN3VInz5w+zb4+bGDiSql2Df0Z3TsnnDJyexQuDD/HNFBN26I/fXkiBGsS61KDx6AoyMUKAABASqv9SKjcq/T9PTYGWgyo8gQ3WJuzk5LkfmCWek+f5Z7mB1Fev8eWreGrl3ZMAk5cvCkzqByr9Ow3Ldrx0ZJI7qpbFlYvFjuUS0FN2/C4cM8zrxq1aBECR6LQyKRuF9wD/sYBnv2sDHh3N3ZkRydROVe13l5sc880U0FC7LzD6VDWMmtShXWUZbXkCHs3F/RYK0fd3LchRcXiv97BCZNYmPtd+rEl+keKveEEO0UnxQ/9OjQZ6+D153Iwa4HO3qUHbLXYVTuCSFaKCYupvam2snvo/a5Py2WwxyOHIHy5fkyXUXlnhCd9uGDds5emSRJ6pFYccnmcOjdG/73P57VbVTudd2gQUAjTOuyxYvZCAJZcOkSREXxOPP27gVvbx4rVX6/y6OGbDMZOQbGjVPxOCFqg8q9rnN01KHZrMjPJkxgX59mwf797LRGednYQLlyPFaW2FhYupRtxwIDwdmZJwmVe9K+Pfw0tYx20lenuWrxt+rXr29sbOzk5PThwweeVYVcuUA6gbTcPn+GH+fvyhQ7OzZpopIEvAxg/40dCytXws6dUKNGVkZx015U7okOUZO5agMDA21sbOrWrXvkyJFyUpo4y1WvXmp0nktgWGDDLQ2PHF8BHTqwSanu3KGd1jTg+odoREyiPGryhgqDU+LPo0ePCpn8+fMrZERMgbW19ZMnT3hDIsH9Brz/0NBQoenh4YF/+tmzZxjjtqF06dJCHrdAuXLlmjFjhtD8JfUZEVN9nH12tsg/Rc7dPyb57TfJwoX40vMFmoBGxCTiefoUPn3isdZTk7lq79+/7+LiIk1Djhw5nJ2dVdu7F3MQm+hoeKPQwRjdL7jP8JvhnXtg/fYjYfx4diSHDuCkg8q9rvvzT5DOGawyMXExNyJuyP5794XPAJXi9pvbsjeIiIngC+SE/Wt1mKsWf6ZMeoUwVu0cttu380AEBw+mnpYym7pV6uZnNrrGfE82MVuvXjxL0kLlXtcZGbF5AVUoPCZ83fV1sv/uvUvd1d16a6vsDa6FX+MLskTlc9UaGBjExv43KTbGqp3DFnvDWVgH5NnV+Q+ub9n+dlxGUpL1Pxth0SJ2dqelJU+SdNB497quf382PmCzZrypDGryhqrPXLVt27bFl2Lt2rXCohYtWmAT/6jQzJgyhkfH52plJffIOc7O4OPD48zz9WVjcI4YwZvZgptMfBB587JzQjWWMt5QWTTePfnPxo3KrfVqSOVz1To4OOzZsycsLAzjhw8f+vn5YYb9jopYW2dllDQvLx7IxdExW7X+evj1dv+2i/waCS9fQrdubJy2rF0kppvY97V0Zg5RJjV5Q7Feq8lctbh7YWFhYWNjM2HCBNwnwODr16/Col/S6DNz4uLiFi1aVKdOPfyJMc9mWmBYYJF/ihx9dFRy544kZ07JypV8gSajM3MIUTz1mau2QIECjx49GjdunKmp6axZs4KCgkxMTIRF2u3vv8eOG/fs0qUh+BNjns2EhKSE6Wenjzg2Yl+nvU734mD4cNixA9zc+GKSSULVp949UR56QxVIo3v3VlYtsOQI/zDm2Uzovr97pz2dWLR2rcTISHLzpjStDah3T8SzYQNcuMBjoptu38YdER5nEvatg4J4nHnm5vhDGFYtQhpn1jLHZR6NlsHkyWwc40ePoHJlvoDIg8q9rmvVig1jQnTZ77+DhwePM2njRnjyhMeZ17t3a4DSAH309EpK48wyNzXPM3oCO7N+1y72zTLJEir3us7SkuaqJXLDWp+FAXOGDHG7ePHYxo31L1zww5hn05KQJDOuUUgItGzJdg38/dmIbiSrqNwTQuR27Rpk4dxRAwODOnXq9OvXB39izLNp6eXViw9v+e0btG3LdkKXLGHXaJFsoHJPCJFb4cJgbMxjxbr39l4jz0Yl85esXqw6nDwJVatmfUh+8iMq94QQdl3qsWM8VqHIr5HOu5wH/zHYvam74ZVr0K8fe1g0Eo6CULnXddOmwfeL+Ynuev8eAqTHTpTt5Us2bkeaQqJC6myqs7j54q6VusKyZWxezT17oFQpvphkG5V7XZeczIYeITqucmV4+5bHv5SdMc4MDNjR+DSVK1ju5uCb7W3asdlld+9mZ3p+vyyOKASVe11XrRqbPlQX6Ovrm5iYnDt3jrcVNHnhlStXatWqVbZs2Rw5cqSavPDq1asNGzbEpbVr127Xrt2rV6+E/Ldv36ZOnWpvb9+oUaPq1av/888/KRNsPXjwwNHR0cHBoUaNGk5OTqKNg29nJ8dQNrgfgDuFWZM7d0bf8Zom6bNO/fPnrF//09B1JLuEq63oqlqiPGryhurp6ZmZmeXPn//Lly9CRiGzWYWFhYWEhGCQajYr1KRJky5dugixi4tLxYoVceuC8datW/HBBAYGYuzr64uxj48PxrGxsYUKFfrrr78wxg1AnTp1OnWSXkoqQ6Ovqv2FDx8kFStKhgzhTd1AV9USohSurq7Yx/eQ95qiDBUrVgy79rwhIyoqKigoaN26dUKza9eu9+/fv3nzJsanTp1q2rQp9t8xxqBChQqYwfjixYuRkZF4S4wNDQ23bdvm5+eXwbCdmu5rwtdNN76PZ/nsGXTvzga5XLiQZ4iiUbknOsTKymr9+vWrV6/m7XRs2bJlRlqw+PJbZMLly5exqy5MYoXKlSuHP7H7jz8fP37s5OQkTbNT0XEnICWPP4VbotKlS+PGSUhqn4+xH+3X2999e5c17t6FChWgfXuYMgVMTaXLieJRuSeq9vEjRERk8Z/8Pd+OHTtaWFic/dWEjXpp4csy5+PHj8Yyp6bnzJkTfwqTWMXFxeWTuZQZ45Q8/pVUv/XhwwfeULJbt0CsPwWvPr3qcaCHi53L3MZz2Ywnw4fDv//KPXAPkROVe13n5cXGP1GlcePYSA5Z+5f5s0lk/HLywt69e09PSwZTWf0spYgLsJTjT6GUYxHHjYE0zaRsGDAvkR7BF/IIfytl/0DZTp9mB1QyY/78bE142XNYqM0qmxZlW0ytP9X0wCE2QIK7O3ToQN/NKhu9vrquWjWoX5/HqrFwIYSHZ/Ff4cL8TuTRunXrW7duXUh/INCRI0c2SotcU5PXrl373bt3KX3zkJAQ/Ckc5cefR48excqOcWJi4unTp1PyKbdET548SU5OTvOLAWUYPZpdwZoZFy9mZfarFPVaP1/uuNzNri8sXQqbN8O9eyD9GoMonfQLWzozhyiR+pyZkzKbFXbVzczMcuXKpZDZrATW1taPHz/mDammTZt27txZOBunW7dulSpVEvLbtm3DByN7Zs7hw4cxFs7McXNzwzghIQE3GPjr7BdkqPbMHNzbWLRoUf78F7I2HdUPJk2SWFlJ3r7lTV1FZ+YQolx9+vTBtf/r16+8nT1VpSIiItq0aYOBz/cZu+fNm/f27dtaUt++fcPKLuQ7duw4ZcoULOsNGzbEAEtn8+bNMZ8zZ05/f/+nT586ODhgrc+XLx9uloRfURPCdFS4xyLvdFQ/iIxkJ9eHhrJvaAsV4kmifHq40uN/srOVqxx+bCwtLbEzWLRoUZ4imozeUAUaJFWtWjXeFleJEo4vX/KNlpWV44sXPJZPmza4ZWMj1xsa8owOU/YbKlvbqXev696/z+wXdES7xcRAp06/+PJbOgVVhDTM7HRU2KH0euA15vgY1njwABo2fFngdzZGAtV60VG513WXLsGqVTwmuszEhI2L+X2gh7T17t1aT68kQIfMT0e1596ezns6u1Zxha9f2Zn1vXsPiZ5DJ+GoBL3oug77WNp72SaRA64JNWqwPn4Ghgxx277db+xY519OR4WSkpM8b3puvLHxjtsdu3vv2Hk/EydiueeLieio3Ou6IkV0ZYg08kuBgb84K9fAwMDEpI6t7a+no0Jbb211O+K2tvVa2zdJrMofOiSMXP/HH8JyIjYq97quShV2lgQhmdS+PfTpw+OM1S9Z//6Q+2UOnoPOnWH7djZMgpSanW2kQ6jcE0KUooxZGevdx9m1VDdvqvpaPsJQuSeEKEFyMjtSv3cv+/5XOl4QUTk6754onfCG+vr6FqJrarJt7ty5kydPVt5p2oGBULMmj7MgJi4mT848kJAAXbqAnh4cOMAXkHSIed49lXtdFxbGvkL76y/eVIaPHz+OGzeON4iUjw9UrAilS/OmXLDclyhRgjcUbfPmjA7Nf/oEAwawM3d/Puk+NjF24cWFLz++3NBwMbi5Qd68MGcOFCzIF8uYP5/1+4mAyj2Ve/HgPjd2xWhvW2TW1mwg0qZNeVNTPH0KZcpAVBSYmfFMimlnp+24s+NGh+P56jSGnj1xN4Qv+ElsLMiM8azrxCz3dOxe1+nrU60XG25fixQBKyve1CBfvrBBSGXG6me+xH+ZcGpCcGRwUMPd+foPhZEjM57Klmq9qlC5J0RsRkZw+XLKeYmaxM4O3rxJPfrxpqBNR0OObikxIm+1WtCjBxtJmXoQaonKPSHkPxIJm15MLn2r9LlcdFquidPYXDl//smzRP1Qudd1+PGmQRRIigsXoFQptlZkXu4Dh007doVFi8DZmZ2N8yu0vqkKlXtdFxPDZv8nRFCuHERHs/O1MiUuDv73P9iyhc1IlemxEdq14wERGZV7XWdkxE7OIWI6ehTu3+exuilSBIoWTXdM7IsXeXD40eE3n9/A7NmweDFs2ybXuEtyzvFOFIbKva7Dcu/oyGMijjx5wNSUx2oIa316Qx48fsx+rriyYsqZKR82LGcnZt69K++Mwa1a8YCIjMq9rjM0ZBfOEDHVq8fOu1dbGZxW4+oK66+v3xK05YbRsAobvMDTM/VZmZlAQ/KpCpV7QkhmzTs/b2vQll03y+pv387Ow8F9Q6I5qNwTQjIlWZL86v3z88eKlg+PhbNnNfLCAd1G5Z4QUSUm/mI+WHWwfj27gFYWPuyPLz6v3BOjZ24OmzbxLNEoVO4JOyBLRBMSAuPH81htNWuW+gj+k8tvP1tXhJKlYN26NAZIkwetb6pC5Z7A2LE8ICIICmInO6q5UqXYd/goISmBjaIYHFxkbE/f30brTc9oMJxMovVNVcQo9/FS/fr1MzMza9++Pc8CVK1aVf+7lStX8iwRXaVKPCAiCA+HsmV5rJ4+f/7cr98AB4f6R08edfBwOL9/Ka4i2w17R/YYpZDBcGh9UxUxyn2ilLW19dixY/VkLrEwNDS89Z2LiwvPEqLVxoyBfv14rIZCQ0PLl//Nw6PcpRvd22zqXOfC21orDsDhw3/5d6M5CzSdGOXeVGrq1KnNmjXjKSks/RUrVixfvrydnV3BtKZBIISI7PTpsxER9pDLFYbM7Pm0wKJtL3KsWA1OTvhpTTUQJtE4qjx2X7JkyV69erVt27ZmzZpXr17lWSK669d5QIi5eUEwfGTcuteEU3k7XY2d3f1P+P13vkxBbtygUdJUQ5Xlfu/evdu3b/f19W3Xrt3ChQt5lohu5kweEOLk5Filksn8w2dcb30YXXjiuLVr+ALFmTePDa1GxKfKcp9i7NixoaGhvPGdl5fXLqk7d+7wFFEOuUa7Jdlx/jysXs1j9ZQjKupKhTL9WnUIWLVy2pKRuXPnxuT+/eDrKyxXAH19iI/nsW568+aNUNzQY2EcIlGoRbn/9u0bj2S0b9/eRcrOzo6niHLQEGmisbeHtm15rI5wy9+9u5GZWZ5du/r81fnPP/nR+latoHp1IVSA5s35WZ46y8LCQihuqKyI52mJV+4vXboUFBQUGRnp7+//5MkTDDZs2BAYGHjs2DEnJ6eWLVvy2xHRDRnCA6JsJiZQrBiP1UdicqLXA6+4KwGsqDs5wapVrAcuw9gYFHguRf/+IN1nIGITr9y3atVq0KBBFy9ebNiw4apVq4yMjHBHpkmTJv3793d2dp4+fTq/HSFEXMsCl43b5qrXqRPMnw/jxtGA9NpKvHIfHR2dnJyclJSEP5csWZIvX74zZ858/vz51atX48eP1/+xN0EIEcGnuE8TTk0I3bg4eLd5jpVr2OAJRHtRkSVEPOr2FeWIYyPAy2u5n4nhlWvQpg3PEi1F5Z7AnDk8IEoVGwtdu/JYHQS/vV9r88n5QQX1Dh4EMzOeVb6VK9OdHJEoFZV7AlOm8IAo1Z078k7zp0yJibYjZg+Kt9O7dAnEPflt6FA2BBsRH5V7QkRiZAStW/NYxT58gF69IG9e2LqVZ4gOoHJPiEiqVAFnZx6rUkQE2NqyYTnXrYNChXiS6AAq94ToCo8gjyWrekiwXz9lCh3C00FU7gm8fs0Doq0kEsnSgKUnNkwYPXSH3vDh7Mq6HDn4MtFFRaWeGZGIg8o9gQEDeECUJykJkpN5LLL4pPgxR0eGL5+74U4puHBB5V8gzJ8PZ87wmIiJyj0hYjh7FipU4LGYsF/fyLOR5bodi44n59m+BxwcVH7RrIEBJCTwmIiJyj2BLl14QJSnZk3w8eGxmPTev/c8nW9Uzkbw8CGULMmzKtW4MZQvz2MiJir3BHr25AFRnjx5wMaGx6Lq06fsZyP9HTvU5yScFi1oulrVoHJPiJa6cwfq1YOqVcHLS4VfzBL1QeWeEG2z7da2dy8eQLt2MHIkm6uMxh8kUrQeEHbGCE1opWwnTvBAqT7Efhh7YmzgivEFmrSCRYugY0e+QJ3g+qaqk5R0HJV7Ar17w4sXPCZKsmwZD5Sqn3e/3D6+K86aGAZehQ4deFbNuLvD8uU8JmKick/YiJhFivCYKMO9e0ofHO3FxxcNNtVvvS1w+q0Cet7eYo5wKa9+/eDPP3lMxETlnkCJEpAzJ4+JMpibw4gRPFaSwob59nl+6ZOjBvj7q/mJLxYWNFSPalC5J0TpsMBVqcJjpYiIMO7Vt5B9A9i0iWcI+QmVe0I03KNHUK4cu1x2yRIoUIAnCfkJlXsCt27B8+c8JpoiISnheIgvHDsGgwfDhg1KP1qkOLh5CgriMRETlXsCe/fC+fM8JhohJi6mjkedS3Pd2HhnCxaAiwsbiUZDnDwJ27bxmIiJyj1hsyx9/cpjonCnT7OjLAr0+P3jvju79D0UNu2tDTx4ANWr8wUaQl9f7aZo1xFU7gk0bQp//MFjonBNmsDo0TzOvquvrtqstBmy9aFbuKXB7j3sqL2mqVlTbSZx1DFU7gn7ko/KvaYID/K/7VO8QeU2EBDAxl3TQNWqgaMjj4mYqNwToizx8fH//POPg0N9/Ikxz2ZHTEzbMRt+6zNO73//o1HPiLyo3BOiLH//PXbcuGeXLg3BnxjzbJYdOgT29jBtGvz1F88QIg8q94Qoi7f3Q4lkFUBX/Ikxz8ovPikeDh5kp1qeOwfdu/MsIXKick8Uf+oIEZib448YaRghjeV2+83t+hvrnu/VkL1D3t7aMbaRvz/Mns1jIiYq90TBp46QFL17twY4C7BMT6+kNJbPuy/vum1ru29TTJPYoqxG/v47X6Dh6teHqVN5TMRE5Z4QZRkyxG3/fps1a6wuXPDDmGczZ9/9fZ0W19iyO75wfUcaCYcoBJV7QpTFwMCgQ4fygwd3qFOnDsY8mwkSicT3wEK/ueE1+k5hF83mz88XEJINVO4JUTNJSXp79647baq3ezcMGsSThGQblXsC79/D5cs8Jqq3fDn07m2weg2bbFYbp5mNioLr13lMxETlnrDhCbt14zFRoAsXIEY4MScTviV8g8hIGD4cLl6Ex4/B1pYv0DqBgWxCKyI+KveEDZH27RuPiQJduZLZacJefnxptaR4RNumEBYGO3eCpSVfoI1wjyUhgcdETFTuCZQpA1Om8Jgo0OjRmRrp4MqrK/MWt7u4LrFoqy6wf7/Wj45QoQKMGsVjIiYq9wSKFYNhw3hMRHbiyYke7jX/WR9aYYsPTJoEenp8gfYqVQr69+cxEROVe0JUJiQq5PJk1/unK+TauZddfUSIMlG5J0RFkpPLzV417VkJw9t3oXFjniREaajcE0hKYufGJSfzJsm+0FCoXBk+f+bNNERHg6sr+3ngABga8qRuSExkz5uIj8o9YSeDmJvTJ1CRbt1iB+Fz5+bN1J4/Z7NQlSoFnp7smxMdc+0aWFnxmIiJyj1hBQd7o3ShvgLhDtOQITyWFRodem3LfOjbFxYu1NlxwqpUgXv3eEzEROWesGMJJUuCPGO6kF/o0AEGDOBxiqTkJJ9JHav1myyZM4dVfCMjvkDHGBuz9Y2Ij8o9IWK4F3Jpfwebnk9y6T98pFe7Ns8SIiIq94QoXURMREQXp+Zv8uQ/6Atly/IsIeKick/YOTlr17LxWohS3Ljxsbqdg+PA/BeugqkpT+qw6Gi2viUm8iYRDZV7ws4hcXODFy94k2RTy5Zw6RKP4ckTaNvWZvlOk/mL6OsRwevXbH2jYXPER+WesHJvbEwfP4WZOBHKl5dGa9ZAmzZsLqrmzaVtwgiDOiclSRtERFTuCbN1KxsojShEvXpgbpbMxiHavBlu3qRan0rRomx9y+RYoUSBqNwTpnNndqUVUYikt2/edXB88OIGHDyos2dbZiBvXujZk14YFaByT4giJT588K1U8RALIxvvi9o9bD3ROFTuCVGQ5OSw1XtfdW99Y1Kf3xZ78iQhaoPKPSGKkbxiufnwLqf+6lB/8vr8uenQGFE7VO4JM20am1iVZNHbtzB0aPiu83ZFTzm2nsWTJB3R0ex8pago3iSioXJPmFmzoG5dHhP5JCezb7rfvy92/t+zAU2KWRjzPElHgQJw6BAULMibRDRU7gnJBj8/qFoV2rWDHTv0jIyKF+dpQtQQlXtCsurs2dhunb56bmQzbevAHLNE01G5J0R+SUkwffrDQZ2GDij+vFh6k5gQol6o3BMmKIhmnMi0L1+gUaMLR9ZWcf06buQe20K2fn4wdy5fSH4pMRG2b4ePH3mTiIbKPWF8fODYMR7rmlev2Iki376xOCkpafnyldWqOZYo4Ths2Ij4+HjpTWTcvZvcuZNH3icr3Ko+HPqwfEE2OI61NdSvLywmv5aQwK6qxZediIzKPWFMTXViQFo/Pz8Hh/r9+g2QrePFirETRUxMWBwYGDhq1N9BQVtfvvRduTJhxYoV0pt8d+oU2Nl97tphRxebtd13lchXQkhjua9XTwjJrwkDg9JU+OKjck8YR0do0YLH2gprfZs2cy5dGuLhYd+y5UOe/VFw8MPk5FYAhaWtNgcOeEsDgK9fYckSWLAALlzI26v/6V6nC5gU4IuInAwN2VChRYvyJhENlXvCVKrEzifUbpMnT4uJGQDQFWDQo0ezefZHtrYV9PWPAERIW4EdOrSVBgAjRsC6dbBrFzg4yJ6EQ6NGZ4G+PgweTOfdqwCVe6IrbGwqADyXhjHm5p+kQWo1a9ZcunRx1ap9rKwchw59P2zYMLh7F5o3/2iglxx0K2XUUIkE9uxhB3D27hUShGgAMcp9vFS/fv3MzMzat2/PswDv3r1zdHTMnz9/r169vuLOMiHKtGzZ0iJFVgB0AKjdu3drnv2RgYHB8OFDb9zwffHCd8WKZTnevIFWrZL69G5UJajLkGh+I6kdO1hfv3t33iRE/YlR7hOlrK2tx44dqyezIzxy5Mh69eodPXrU1NR0ypQpPEtUITYWt7481la5c+cOCDi/caOzt/e8IUPceDYDa9eCo+Plya6Vo+f1qthv+uj/DjbjWuzlBXQNbZa9eMFWOSI2iVSZooWFQKmuXr2KvXvekEhq1KjBI4mkevXqPJJIwsPD8YHhT94mynf5ssTNjcfZd/SoxMODx3FxkkmTeKxCb99Kvn3j8a8lJkoGDsQV9GXk0xJLSwSGBfI8URAzM8n58zzWcQMHDrx+/TpvKIFsbVfZsfsHDx4ULiyc/8AYGhom0eSVqvPHH7B4MY+zr3x5qFWLxzlywP37cOUKb6rK3buwezePf+HVK3Bxwf/vb5jfaGfzta3W1ihWQ1hCFOXxY6hZk8dENCor9+/evTM1NeUNVhRyfPnyhTeI6AwN+YnnClGmDNja8hj16AEDB7KvN1WoUSNwdeVxRm7eZI++dm1Yt87WrtHNQTedyjnxRURxChSgyQtVQGXlvlChQrJfz8bHx+fKlYs3iHZxdobAQLUfQywhATw84O+/2V7AiBGY0NPTy5WD1kmiPVRW7m1sbN6+fcsb0q9zDYSL7b5zdXVtI7Vr1y6eIpopRw7ImZPH6mvqVJgwgVX8tm3ZmeGEKM2dO3eE4oaOHz/Os8on3mp96dKloKCgyMhIf3//J0+eYKZs2bJz5szB/KBBgxwcHISbpfD09Dwk5SI9kEqUSiKBfft4nGVxcTBgALx8yZvqIDmZnULzC48fQ6dOEBkZc/fG5vdneJIo05Yt8PQpj3WQnZ2dUNxQCxEvZxev3Ldq1QrL+sWLFxs2bLhq1SrM/O9//7tw4YKTk9O3b9+w7gs3Iyqhpwdbt/I4y/z82DZD5gv41HCjIvLIPN7ecOQIj9MWFcVGkKhX7+3/5lXcUedhVNqDKxDFWrYMgoN5TEQjXrmPjo5OTk5OSkrCn0uWLMFMoUKFfH19P378uHXrVjpwrwVCQ2Hy5IyO24wZw74KFU1sLDsU360bb6bB05PN2ejufqtrw55ePUfVGjWz4Uy+iCiTkRGbMoCIjI5REm7BAh5k2aBBrKBnYPFisLfnsQiMjeHqVWjShDd/kJwM48ezB3T9ut8f5lXWVRlsP3hU7VE5DdX/SwZtsHYt1KnDYyIaKveEkz11UmsULJjWGUGfP7OTQ1+/Zgd6TE2TJEnnep9rZ9OOLyXKV61ayvhDRDxU7onuGTgQ7OzYkRwrK2w1Kd2kfsn6ssN7EKKVqNwTscXFqe647bVrbBxLa2sYN45nCNEZVO6JYhw9Cnfu8DgDCQns1J3r13lTSYKC2LVdqedLun2bnVM/Y4Zk7ty3sVE8SYjOoHJPuNlpT/ghh8xMR2dkBEOHwsmTvKkkVlYwbJjMxVL4yObPhz59YOfODw5/9PHucy70HF9EVMHdHc6e5TERDZV7wk2dyoOsadkSKlfmccamTFH6Odfm5tC8OY/ZvIPYOH8erl17UaVU+RXlLfNYdq7YmS8lqjBhAhvFiIiMyj0Rm4kJ+5ZUJLdvsytma9aU7Njh++R4n4N95jeZTyfXE91E5Z6owI/DIynN0aNsj6NPH5g7V69AAb9QP6z1/ar1MzKgwRiJLqJyTxTg9Wt1maT70iU2pyDExLDvIpYtY0NxYu9eyr2pe43iNHI90V1U7gm3cycPsmDECIiM5LFqbd0qHcUBe/SHD7OJw2vUUPuRl3XRqVNKPzuL/IzKPeH+/ZcHWYCd6aL/zeSaKcHBsGYNjxVFIgHjmwHtF9aGihXh4sULH24nJdPILOro2DEICOAxEQ2Ve6IAZcrwIPNsbcEtE9ODy0Uv8PLSFx31li6RzJixKHCpq5frp7hPfBlRJ0ZGmTptlygWlXvCZec60xUreKAyiYkwYwaMGKG3f394pZK9vHrdiLhxoueJAiYF+A2IOnFxARGHeScclXvC1a3LA83z6RMbGuH2bQgMDLTSt/6fdSWLSrs67SpjJv9OBxFF5cpQoQKPiWio3BNNJpGwMY67dAEnJ8mWLZhITE485HJobJ2xwnJCSAoq90SVNm8GHx8eZ8WBA+zcm2HDvo2dNmRCXkw4lHBwLOuor0crNiGp0aeCcM+fs+EG5IW/1aFD1k+6L106E3PJpunDBzYaw6ZNcPOmpGVLPT346y++hKi/yEh484bHRDRU7gk3f35WhrIpWRK2b2cnWmRNgwZsgyE3iQS6d4eAgITdu4aErQ8ICzA2hkqV+EKi/vbsgXXreExEQ+WecGvWwB9/8FgupqY8yBq5p0T39wd7e0nduuc2TGl7yCWHQQ7r/NZ8EdEQgwezfTMiMir3hFPVxafFivEgU86cYSfxeXgsqK/fZHuzv2v/vdRxqWUeS76UaAh9fZnhqYlY6CUnGiIhASZNgunTwdv7sMnLx+8fh44MbVK6yY0bbKwEQsgvUbkn2RIZyQ6kK110NFSvDqGhbNh6e/vW5VtvbLOxeN7i+KcHDYLYWH4rQkgGqNwT7vTprAxj0rs3D7Jp4cJ0NhuYvXQJunaFbt1g/Xqe/O7hQ3Y2UatWvEk0RXAw+PrymIiGyj3hAgPh8mUey0UhB/3d3NK5n927wcHhqktDNgFS7tw8+Z2NDdy7B2ZmvEk0xdOnbFBMIjIq94QzMsrKeffY51aIPHl48J/oaJg48fbicd1mVNpS+JVEjGNGRCS4siXRWKWio3JPCCE6gco94QYPZrOUyKtHDx4oGHbmXVzuHd/esVPyxEHbV7VapUezlGiRunVh8mQeE9FQuSdcnjw/HxsXGz9gIz395qBF9M6FPc+6Xa5cpLI0y126FNCihVOJEp3wJ8Y8SzSKqSmYm/OYiIbKPVEjCxfC863n2BcCmza19wyc23Re8bzF+bLvZs6cdeLEvJcv9504sQRjniWE/AqVe5J1Hz8qdE6ixMROd6a9cp34dp0XVKnCkz8JDsZdgKrS0FYaE0Iyhco9yYrPnz/36zegcOF3Hh5PeCp7LgeffFOtfJnY+0s6XjrxoQbPpsXWVg8gSBoGSWNCSKZQuSfc+fMwcyaPMxYaGlq+/G8eHuXi4++MGjXSz8+PL8iSGxE3lqzupd/NJV87NhjO9u3w5598UZqmT5/WvPkkKytH/IkxzxKNEhYGy5fzmIhHIlWmaGEhUAfh4eH4wPAnbxM1s3GjB0B7XHek//6tU6ceXyCnhKSE2edmd+xlgveSvH8/z6YvOVmyeLEkJoY3CdECAwcOvH79Om8ogWxtp949kZu5eUE9vUcAMdJWqK1tFmcdDXx4xnDhP1vD7OHKFb32uP34QXIyPHsGSUlJy5evrFbNsUQJp5Ytj2/blvTlC78BIUQuVO6J3JycHCtXNgGoDdChSJGV//vfUr5ATg7ztk0Iszbdf4gNf/bTafU3b7IxEk6dChw16u+goM0vXx7z9bXs2nWFhQW/ASFELlTuidxy5MgRGHhx8uR5o0c7BwScz53p0/XffXmHe5QsunULGjWCokWxXw/580sXpla1KpvoKizsYXJyK4Ci0tx9H58D0oAQIjcq94R79EiO6V6x4sfFtalfv4+1dWZnktp/f3+RxUXuvr3LxjF2doZRo9hp9jly8MU/we5+kSJga1tBX/8IQIQ0d65Dh7bSgGi22NifhzclSkflnnDv38s3j2B4OOuAZ8aZZ2fa7GqzP3j/hT4XKh44D61bw4YN0KYNX5yhmjVrLl26uGrVPlZWjkOHGg0bNowvIJosOZkGQFYBKveEE0bEzPy4kyNHQokSPE5PbGJs/0P9/zzw54S6E3a221bbfbv+Fk8ICoIWLfgtfsXAwGD48KE3bvi+eOG7YsUy3KvgC4gmw7dRkRfokcyhck+4cuXg+HEeZ0b16jzIgJG+UbWi1a4OuFrHuBwbTS0uDry82IaF6DYDA5qaXAWo3BMub15o1kwxc5WkMNA3+Kv6X8Vff4UyZeD332HjRrCkacQJW83s7XlMREPlnihS1NeoJ+9lhlXAPXbszg8eDOvWwdixPEkIUQUq90RhTj89bbnEcuednbyNVqwAFxdYtoz9NDTkSUKIKlC5J1x8PJudPDaWNzPm4wN79vAYPYh80P9Q/2WBy452Pzqp3iSWioyE4cPB3x8ePwY7O+mtCPnPvXs8IKKhck+4mBjo359NEJsZzs7QpQuPb76+WdejbqXClQ52O9ikdBMDfQN2fk+3bhARAbt2QfHUA9YTghYs4AERDZV7whUsyMaoKSpcvioPG3Obkz1Pjqw1Ul9PujoFBLCv4Zo1Y/1/Om+SpEOuizyIQlC5J9llbGhctej3C67u3IHOnWH1ahg/XsFn+RBCsofKPZFb+Cc2NjVvpMDM8uVsrPodO6BmTZ4khKgNKvdEPvfe3rPfYN9/0t34eJ5hkpLAzQ1272ZXzDZowJOEEHVC5Z78Z8QIePqUxz/7mvB1/MnxA30GDi++dd9qu//Oq3z/Hlxd2Zk9+/axyyUJyYR163hAREPlnvxn+3Y28Fmann94Xn5F+ejY6Iv9LtoaN7W1BX1h3Xn+HMqXh7JlwcMjK9/zEl115AgPiGio3JP/5M4NiYk8TiUkKmRmo5krnFZgXL06LFkiPVh/9iz07ctOqZs8WbgZIURtUbkn/8GeesOGPE6laZmm/ar2y2mYE2NLS6hTB9iR+saNYcYM6NePRj0j8jpAE9WIjso94UJDQzdt2uztfSj+hy9h0/LlC8ybB56e7MrIevV4khB50Jga4qNyT5jPnz/XqVO/f3+f9u0n1azpgBX/xccXPwx2Jmv0aNi5k10x+9tvPEMIUXtU7gkzYsSoiIihuIctkQTcvPmt/5oBTjucXn9+zRenePoU2rV79tIQrl1Lb45ZQoh6onJPmAcPHgKUlIa5oGn8PeO7QYOCHEo4SDPfxcZC27ZQt+6swivB2JgnCcmSuDgeENFQuSfM3LmzcufeAPrHoG3n/CWiNjXblMPgx+FuTp5kU9OOHg1jxmzeQqMjkOxiJ3cRcVG5J0zDhg19fKbUqTXfqXTsy2XPq5SuwhcILlxgp98cOQJ9+vAMIdkzcSIPiGio3BMOK/7Fi/5HlxzJnTs3TyGJBBYtYiPX79sHpUvzJCFEA1G5J+lLSoKBA1mn/vp1qFGDJwkhmonKvU6TSCSBYYHJkmTelvXpEzt0k5gI//4rO5SxtzecOMFjQogGoXKv0/be31vHo07oh1De3MuGzWFev2bn1BcvDps3Q5Ei0hR36BC7+JaQbJo9mwdENFTudVRicuKG6xs23Nhw1+1u6QL8oPy7d9IRMYOCoFcvNj/J9OlCXhbW+sKFeUxIll29ygMiGir3OmrNtTVjT47d1GaTbSFbngLIlQuSTp2FatVg6FAYNgxyshFyUjl1Ctq04TEhRIOostz36dOndu3anaTWrFnDs0T5Xn16debZmeAhwSXyleAplJjY6t3m8Qlz4Px5NvV4+mhSQpJ97u48IKJRce9+7Nix+6Tc3Nx4iihfsbzFDnQ5UDTPj8PTL15sPne06a5NULcuVXSibDTekvhUXO69vLymTp3q6ekZExPDU0QUerIF/f17GDmSDYPz6BFYW/MkIUS7qLLc29nZNWnSpFSpUmPGjJk0aRLPEvENGMAK/Y4dUKgQz6QDtwsRETwmhGgWVZb70aNH9+7du2/fvg8fPvTz85NIJHwBUbRkSfKee3s+xn7k7RTBwdCoEVSoAIcPQw42SM6FC8KCtOFGgWalIApBZ+aIT8UHcwRmZmb58uX78uULb0u5urq2kdq1axdPkazacXuH60HX6Nho3hbExEC7duxaqnnzvs88y0ZCy0CtWjBkCI8JyQ5d/ljfuXNHKG7o+PHjPCsC7FOjMkULC4GY4uLihCAiIqJSpUpCjMKl02PjT94m2ZCcnHzg/oEmnk1CokJ4SnD0qKR8ecnOnbxJCFGFgQMHXr9+nTeUQLa2q7J37+zsPHfu3Hnz5pUpU8bR0ZFniUKdenqqw54OS1osKWtWlqfQuXMweDA7hd7FhWcIIdpOleV+yJAhRkZG+vr627dvnzVrFs8SxcHt+ZabWwL6Bfxu8XtKChYvhlGj2AiXVlY8SQjRAXpYEfC/spYWj8PfCCmVi4iIsLS0DA8PL1r0xxPDifzw/f3vnMvkZBgxAm7dYr37LJ1Z36cPG0SHEKIog6SqVavG24omW9vV4qtaojz/1fovX6B/f4iOTjXCZSrbt2d0cs67dzwgJJv+9z8eENFQudcN799DlSqQLx8r55aWPJmW0FC4cYPHqSQkpJy/Q0h2nTnDAyIa+vhqm6TkpLBPYbwhePAAundn11LNm8cz6StalA10nyYDA9i4kceEZBNNbi8+KvdaRSKRuB50XXBhAW+jK1fY6CS9esG4cWBiwpPp69cPpkzhcSrYtaehj4mi7NnDAyIaKvdaZe75uZFfI6c2mMoaycnsIzVhAvj60gmXhBAq99rjxJMThx8dPvbnscK5pJ3w1avB1RVWrYLmzWmES0IIlXstcfbZ2QE+A9a0WsNOxfn0CSZNYuMhhISA7X+zl2QH7iosWQJRUbxJCNE4VO61hG0h24t9L1YtWpU1hgxhZ9bv2sUmm5VTfDwcPQrfvvFmioQEdg4nFn1CFOLVKx4Q0VC51xJFchcpnrc46847ObFxjP38wNSUL5NHYiIbW+Hncp8zJ5tL+lcDJBOSWfv28YCIhsq9Fvn6Fdq2hVat2GEXIyOelBNuI/C3zcx4kxAlGTGCB0Q0VO41mDAABufry6YUnzCBzSpOCCE/oXKvwdZcW3Pl1RUWnT0LAwfCiRPs/HpCCEkLlXuNhP36Qw8OeT/wLlugDJvSf+xYNstUiRJ8cbb9PLHYwoVsLltCiOaicq+RroZfbbu77fyGs80GDGdfrV69Cvb2fFm2LV7M/qVy82bGY+0QIp/hw3lAREPlXvNEfo2ccmbK0Rbbqo1bCnnywM6dir2KysKCnXOZSvHibDgdQhQlNJQHRDRU7jXPoouLnAxtnFoOh4oVYe1ahQ9kU6oUfPjA4xQLF9KVuYRoNir3mkYicYemw9bfYudLTpjAkwpVvTr7OoAQpVq+nAdENFTuNc327XotWhjOc4fevcHQkCcVKkcOdoiIEKWytuYBEQ2Ve41y6BCbiyo4GGrX5hlCCMkcKveaISEpQbJnDzubYfduqFCBZ8Xi48PO7CeEaDQq95ogIeHZoK7R/5sPhw9D7tw8qUxeXjwQWFiAuTmPCVGI8+fZuHtETFTu1d6nT++qlEt8EWp2KQgqVeJJJUv1OaxRA+zseEyIQgQEULkXG5V79Xbnzod2jt7lJaabtvKMKLp04QEhSjJuXNbGbCVZR+VejZ08Cb//PrVUaMedN62tROrXE0K0FZV7tfT1KxvHYOHCmLO+nabuLGBSgOdV4fNnugCSEG1A5V4tjRgBGzbAv//madiigXVDnlSRs2ehY0ceE0I0F5V7NXP3LptJPHduNiZZwYI8Kbrdu9lFu4IHD8DBgceEKMrSpTT1sdio3KuT58+hZUvo1499FIyNeVIVvn1jg2wK4uNh3jweE6Io16+zY5ZETFTu1YNEAitXQuvWknXrttnEH398nOdVpGTJ/3YtJk8W51x/olvMzGjQPbFRuVcDCQlsFqpduyAo6GR5g97evUsVKMUXqUijRmzrQ4jyLF/ORtUmYqJyr2pPnrCz3AsUgAMHgqND3C+4X+p7qXzB8nwpIYQoCJV7lTp/HsqVY8frly9/aRxfbX01N3u3msVr8qUq9eEDBAbymBCiBajcq8jXr+zcl5kz2dSD/ftj4tTTU0uaL+n4m7qc8/jqVRpzWhFCNBeVexUZNAg2bWKjGTduLHxj1adqH7fqbvp66vKOVKwIjo48JkThgoPZFXxETFTuRXf1KtSvD8WKQVAQjTNJdNatW/DpE4+JOKjciwtrfdu27BiOuzubNYoQXdWtG1ha8piIg8q9WBITYcYMGDYM9u5l5zlKnXxyUiKRCDEhhCgVlXtRfPgAtWqxARIuX04ZkWD99fUzz83Uo0tNCCGioHKvZNh5v3iRnVnfoQNs3syTAMsDl2O539z2vwwhhCgVlXsl274d6taFsWNh0iTIk0fI7b+/f8vNLVcGXClXsJyQIUTX4GeCLuwQGZV7pYmKgjFj2JH6+/ehWTOeBHgW/Wz+hflb229Vn3MuCRHft29s9D0iJqo4yiGRsAM4ISGs3Nva8qRUqQKlrg28VqkwzU5FdJq+PiQn85iIg8q9Epw9C1WrgpMTHDwIOXPyJCFExowZUFMthgvRIVTuFe30aejZE3buZEdy6KwbQtJhZqbaOR10EZV7xUlKYj2WKVNYp/6333gSIFmSvOH6htjEWN4mhBBVoHKvIN++QYsWbFyEgACwt+dJgMTkxK77uvo88jE2pJ4MIUSVqNwrwsuX7JLwP/4AT0+ekfoU98nVy9XMxMyjrQdPEUKksF8UGspjIg4q99l2/z4bs97RERYsgPz5eRIgPCbcdpVtqQKl1rVeZ25KQ6ER8oM3byAmhsdEHFTus0EigWPHYOhQ2LaNDWj8o+hv0VPqT5lafypvE0JktGsHdnY8JuKgcp8N//4LrVuzTn3nzuws4h9VLFzRzd4tpyGdiEkIUQtU7rMkMRHWrgUPD7h3D6pX50lCCFFjVO6zZNkyNgbO5s1gY8MzAEnJSTdf3+QNQghRM1Tu5RQbC7NmwblzbO614sV5EsDnoU+VtVVuv7nN24SQDG3axOZpJmKici+nf/6BLVvYd7MWFkJCIpHMOz9v2LFhvj18e1XuJSQJIRkLDYWICB4TcVC5z7T4ePat7NWrcOMG5Msn5LDWux50fRj58IzrmWJ5iwlJQsgvFSoEuXPzmIiDyn2mrVoFS5eyXVCZk+v19PSm1Z/m2d6zdIHSPEUIyYThw6F9ex4TcVC5z4TkZFblT56E27fBPPUFU2ULluURIYSoMSr3meDjA25urHdfuDDPEEKIpqFy/yvYo1+2jB2yL1UKW3vu7hnpO1IikQgLCSFEU1C5z9CzZ2x4yxEjoHJlLPGzzs2aenbq9AbT9Wgge0KyB/tRwcE8JuKgcp++uDgYORJWrwZn58ivkT29ej6KenS85/ECJgX4DQghWRUdDR8/8piIg8p9OiQScHWFsmWhf/+vSbG2q2xtzG22d9hund+a34AQkg0NGkCtWjwm4qByn4516+D5c5gwAUNTI9NTPU+NdxgvLCGEEE1E5T4t797BypXg788uBZGqXKSykYGREBNCiCZSZblPTk4+efLkggULNm7cGB0dzbMq9+wZ1K4NM2eCEdV3QpQlKYn9I2JSZbk/cOBAq1atMNi8efO4ceOEpOotXAjduz9tXPVrwleeIYQo2pIl4O7OYyIOVZb7nTt3Yu9+/Pjx586du3fv3qdPn/gCFTp1CsLCwkb1G3R40LXwazxJCFE0PT12uToRkyrLfXh4eIMGDTAwNDQsV67c+fPnhbzKRESAo+M7N9fKG6p1su1Uv2R9nieEKBqWezqYIzJ1+ao2X758z58/5w1VmTMHpkyZEH90RM0Rfav25UlCiBIMGQLj6WQ3calLuU9OTjZS7VejN25AcLCPyx9vvr6d1mAanYdDiFIZG4OJCY+JOFRZ7vX19ePi4oT41atX1apVE2KBl5fXLqk7d+7wlPKEhUGrVti1r1+y/gqnFTxJCCFK8ObNG6G4ocePH/Os8ukJo32VtbR4HP5GSIlm4MCBFSpU+Pvvv7Ho16hR49atW0I+IiLC0tIyPDy8aNGiQkbpZs1ik+t4ePAmIYSIYpBUqs6uAsnWdlX27ocPH+7t7e3s7NywYcPRo0fzrPiiosDPjw17SQgRy40bcOYMj4k4VFnuK1Wq5O/v7+PjExAQ4OrqyrPi69MHnJwgTx7eJIQQbaQuX9WqjK8v3Lp1pn4JGsKeEDFVqwaNG/OYiEPny/3KlZ//3Trt3goawp4Qot10u9y/fJlgYd7h8dwev/fgGUII0VK6Xe6trE5N6Hrl1RXXyqr75oAQQkSh6wdzNt/cfKDLARMjut6DEFEdPAizZ/OYiEOny31icqJVPqvGpekLI0LEFhXFrnUhYtLpcm+ob/hPs394gxAiosKFoWRJHhNx6PrBnLt37/JIW+zatYtH2kL7npEY44KIKwvvkbMzTJvGYzWkfWsdonJP5V7dad8zorVO/VG5J4QQoqlUOURaesLCwqysrIKCgiwsLHhKaby8vNq3b88bWsHV1dXT05M3tIL2PSNa69SfaM9o3Lhxo0aNEmeINMByj8oULSwE6iBlaExCCNF6169f57VPCWRruzr27hMSEoKDg83MzAwMDHiKEEK0EZa7okWLKm9yJ9naro7lnhBCiELI1nb6qpYQQnSC7pZ7X19fS0vLUqVKnTp1iqc02atXr4YOHVqsWLGSJUuuW7eOZ7VFkyZN7OzseEOTRUREtGnTJl++fPh0AgMDeVZjhYeHt23b1szMzNbW9vTp0zyrgb58+dKvXz98IrJfob97987R0TF//vy9evX6+vUrz2oyHS33WBxnz57t6em5YsUKFxcXPz8/vkBjPX/+HAv9v//+u23btt27d2tTxffw8AgLC+MNTRYXF9e/f3+sj9jDWLp0aaFChfgCjTVy5Ejcbh07dszd3R3j2NhYvkDT4CO3trYeO3as7EDo+Izq1at39OhRU1PTKVOm8KxGk35hq15n5ogA31d8/4R4/vz5o0ePFmLtsHbtWnt7e97QcKGhoYaGhgsWLMCywlMaa82aNbgHhgEWFyGj6Ro3bhwZGSnEWBmxCyzEGurq1avYu+cNiaRGjRo8kkiqV6/OI00jW9t1tHfv7++PfWEhbtSo0YsXL4RYOwQHBzdo0IA3NBzufu3cubNw4cK8rclwr+vatWutWrXq0KEDlhItuLZ2zJgxuLMyfPjwzp07Y+k3MdGekWUfPHggu9ZhnyMpKYk3NJaOlvvo6GhjY2MhLlCgwLdv34RY08XHx0+dOjUsLGzRokU8pcn27t2LnzEsJbyt4cLDwwsWLHhEytXVdfHixXyBxsI3qGXLlgMGDOjZs+e5c+e05nOEZEsEwnIfFxfHGxpLR8t9iRIlPn78KMQvX77Mly+fEGu6NWvWrJXSgrkYo6KiXFxcnJycQkNDIyMjcUv2+vVrvkwz4Q5l6dKlhbhJkyZv3mj8qc+4gzJp0iQ7O7s2bdpYWFgEBATwBZoPS8SnT594Q3p2vKmpKW9oLB0t91u2bNm5c+fJkyd9fHywpvTv358v0FghISE2Njb48/Tp09iLvH37Nl+gsfLmzYvVBEsk9qrwwyaRSDS9e7V169bz58/v27cPV7wuXbq0a9eOL9BYlpaWEydOvHTp0o4dO4KDg2vUqMEXaCB8FkFBQdix8Pf3f/LkSbFixczNzefMmYP5QYMG1apVi99Ok+louSeEEF1DV9USQojWoqtqCSFE51C5J4QQnUDlnhBCdAKVe0II0QlU7gkhRCdQuSeEEJ3w34mYQpsQQog2ST2bVcClS7Xr1BFShBBCtENISEi5cuWEmJd7Qggh2gzg//UWXnO8U9oNAAAAAElFTkSuQmCC)"
      ]
    },
    {
      "cell_type": "markdown",
      "metadata": {
        "id": "hDqONpQvYP8U"
      },
      "source": [
        "## 特徵的提取與選擇"
      ]
    },
    {
      "cell_type": "markdown",
      "metadata": {
        "id": "cXZhPafQIW7v"
      },
      "source": [
        "## 特徵項\n",
        "提供給模型的任何一種輸入項\n"
      ]
    },
    {
      "cell_type": "markdown",
      "metadata": {
        "id": "b8AB1iyqIvmV"
      },
      "source": [
        "## 如何選擇特徵項\n",
        "結合**經驗**和**專業領域素養**\n"
      ]
    }
  ]
}