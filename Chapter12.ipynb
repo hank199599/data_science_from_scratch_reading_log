{
  "nbformat": 4,
  "nbformat_minor": 0,
  "metadata": {
    "colab": {
      "name": "Chapter12.ipynb",
      "provenance": [],
      "toc_visible": true,
      "authorship_tag": "ABX9TyN5B+FjLYzt2vxNTH61sRzU",
      "include_colab_link": true
    },
    "kernelspec": {
      "name": "python3",
      "display_name": "Python 3"
    }
  },
  "cells": [
    {
      "cell_type": "markdown",
      "metadata": {
        "id": "view-in-github",
        "colab_type": "text"
      },
      "source": [
        "<a href=\"https://colab.research.google.com/github/hank199599/data_science_from_scratch_reading_log/blob/main/Chapter12.ipynb\" target=\"_parent\"><img src=\"https://colab.research.google.com/assets/colab-badge.svg\" alt=\"Open In Colab\"/></a>"
      ]
    },
    {
      "cell_type": "markdown",
      "metadata": {
        "id": "WDopS-BoJ_pE"
      },
      "source": [
        "# 最近鄰分類法(Nearest neighbors)\n",
        "* 要有某種距離的概念\n",
        "* 有個假設：距離較近的點彼此間會較類似"
      ]
    },
    {
      "cell_type": "markdown",
      "metadata": {
        "id": "0CDsc4AWz9Pd"
      },
      "source": [
        "## 計算票數的函式"
      ]
    },
    {
      "cell_type": "code",
      "metadata": {
        "id": "mWyI25qhGPfT"
      },
      "source": [
        "# \n",
        "from typing import List\n",
        "from collections import Counter\n",
        "\n",
        "def raw_majority_vote(labels:List[str])->str:\n",
        "  votes = Counter(labels)\n",
        "  winner,_ = votes.most_common(1)[0]\n",
        "  return winner"
      ],
      "execution_count": null,
      "outputs": []
    },
    {
      "cell_type": "markdown",
      "metadata": {
        "id": "Tdkw_uOC0DTy"
      },
      "source": [
        "## 降低k值，直到找到唯一的結果為止。\n"
      ]
    },
    {
      "cell_type": "code",
      "metadata": {
        "id": "EPowKhxaNCRy"
      },
      "source": [
        "def majority_vote(labels:List[str])->str:\n",
        "  \"\"\"假設labels中的資料已事先依據從進到遠的順序排序\"\"\"\n",
        "  vote_conuts = Counter(labels)\n",
        "  winner,winner_count = vote_conuts.most_common(1)[0]\n",
        "  num_winners = len([count for count in vote_conuts.values() if count == winner_count])\n",
        "  \n",
        "  if num_winners == 1:\n",
        "    return winner\n",
        "  else:\n",
        "    return major_votes(labels[:-1])"
      ],
      "execution_count": null,
      "outputs": []
    },
    {
      "cell_type": "markdown",
      "metadata": {
        "id": "G-uEe-h6Ppcs"
      },
      "source": [
        "引用第四章 線性代數 的函數"
      ]
    },
    {
      "cell_type": "code",
      "metadata": {
        "id": "mmCi__GzPd_H"
      },
      "source": [
        "import math\n",
        "from typing import List\n",
        "\n",
        "Vector = List[float]\n",
        "\n",
        "def subtrate( v:Vector, w:Vector) -> Vector:\n",
        "  assert len(v) == len(w) #兩個向量必須有相同的維度\n",
        "\n",
        "  return [ v_i-w_i for v_i,w_i in zip(v,w)]\n",
        "\n",
        "def magnitude(v:Vector)->float:\n",
        "  return math.sqrt(sum_of_squares(v)) #math.sqrt 是計算平方根的一個函式\n",
        "\n",
        "def distance(v:Vector,w:Vector) -> float:\n",
        "  return magnitude(subtrate(v,w))\n",
        "\n",
        "def sum_of_squares(v:Vector) -> float:\n",
        "  return dot(v,v)\n",
        "\n",
        "def dot(v:Vector,w:Vector)->float:\n",
        "  #計算v_1*w_1+... +v_n*w_n\n",
        "  assert len(v)==len(w),\"兩個向量必須有相同的維度\"\n",
        "\n",
        "  return sum(v_i*w_i for v_i,w_i in zip(v,w))"
      ],
      "execution_count": 1,
      "outputs": []
    },
    {
      "cell_type": "code",
      "metadata": {
        "id": "OVZJNciyPqB9"
      },
      "source": [
        "from typing import NamedTuple\n",
        "\n",
        "class LabeledPoint(NamedTuple):\n",
        "  point:Vector\n",
        "  label:str\n",
        "\n",
        "def knn_classify(k:int,\n",
        "         label_points:List[LabeledPoint],\n",
        "         new_point:Vector) ->str:\n",
        "  \n",
        "  #針對這些已標示分類標籤的點，根據距離進到遠的順序進行排序\n",
        "  by_distance = sorted(label_points,\n",
        "             key=lambda lp:distance(lp.point,new_point))\n",
        "  \n",
        "  #找出k個最近點所對應的分類標籤\n",
        "  k_nearest_labels = [lp.label for lp in by_distance[:k]]\n",
        "\n",
        "  #讓他們進行投票\n",
        "  return majority_vote(k_nearest_labels)"
      ],
      "execution_count": null,
      "outputs": []
    },
    {
      "cell_type": "markdown",
      "metadata": {
        "id": "LvBRtnUuRTIh"
      },
      "source": [
        "## 範例：鳶尾花資料集 \n",
        "在機器學習方面常被運用的資料集。  \n",
        "這個資料集包含150朵鳶尾花的測量值，每一朵花都有對應的花瓣長度、花瓣寬度、萼片長度與萼片寬度、以及它所屬品種。\n"
      ]
    },
    {
      "cell_type": "markdown",
      "metadata": {
        "id": "z3TyU_wJR9ZP"
      },
      "source": [
        "**下載資料集**  \n",
        "書本上採行Python內建的IO函式庫，在本地端進行資料讀寫。  \n",
        "於CodeLab上實行，會發生讀寫錯誤只會建檔不會寫入資料。  \n",
        "因而改為透過Numpy函式庫對資料進行處理。"
      ]
    },
    {
      "cell_type": "code",
      "metadata": {
        "id": "0L3z0JzIm3VK"
      },
      "source": [
        "import csv\n",
        "import pandas as pd\n",
        "\n",
        "url = 'https://archive.ics.uci.edu/ml/machine-learning-databases/iris/iris.data'\n",
        "\n",
        "data=pd.read_csv(url, sep=',',header=None)"
      ],
      "execution_count": null,
      "outputs": []
    },
    {
      "cell_type": "markdown",
      "metadata": {
        "id": "G9HaoKAOYBPx"
      },
      "source": [
        "|sepal_length|sepal_width|petal_length|petal_width|class|  \n",
        "|---|---|---|---|---|\n",
        "|花瓣長度|花辦寬度|萼片長度|萼片寬度|品種\n",
        "  \n",
        "資料標籤(label)如上顯示↑"
      ]
    },
    {
      "cell_type": "code",
      "metadata": {
        "id": "XH_Q5MR41lQJ"
      },
      "source": [
        "# 進行預處理，將資料轉換為150個獨立陣列集合\n",
        "preprocess_data = [list(data) for data in zip(list(data[0]),list(data[1]),list(data[2]),list(data[3]),list(data[4]))]"
      ],
      "execution_count": null,
      "outputs": []
    },
    {
      "cell_type": "markdown",
      "metadata": {
        "id": "_TvM9Yk6Mdz9"
      },
      "source": [
        "先將資料載入並轉為「LabeledPoint」物件作為輸入。"
      ]
    },
    {
      "cell_type": "code",
      "metadata": {
        "id": "Pe4MuyHaXqgz"
      },
      "source": [
        "from typing import Dict\n",
        "import csv\n",
        "from collections import defaultdict\n",
        "\n",
        "def parse_iris_row(row:List[str])->LabeledPoint:\n",
        "  \"\"\"\n",
        "  sepal_length, sepal_width, petal length, petal_width, class\n",
        "  (花瓣長度,花辦寬度,等片長度,對片寬度,品種)\n",
        "  \"\"\"\n",
        "  measurements = [float(value) for value in row[:-1]]\n",
        "  \n",
        "  #像\"Iris-virginica\"這樣的品種名稱，我們只取其中的\"virginica\"\n",
        "  label = row[-1].split(\"-\")[1]\n",
        "\n",
        "  return LabeledPoint(measurements,label)\n",
        "\n",
        "reader = data\n",
        "iris_data = [parse_iris_row(row) for row in preprocess_data]\n",
        "\n",
        "#我們只處理標有品種名稱的資料點，這樣才能順利畫出圖形\n",
        "points_by_species:Dict[str,List[Vector]] = defaultdict(list)\n",
        "for iris in iris_data:\n",
        "  points_by_species[iris.label].append(iris.point)"
      ],
      "execution_count": null,
      "outputs": []
    },
    {
      "cell_type": "markdown",
      "metadata": {
        "id": "qFJ0iHK6rT4u"
      },
      "source": [
        "### 圖 12-1 鳶尾花散點圖\n",
        "由於資料有四個維度，很難直接繪製成圖形。  \n",
        "透過將四種測量值兩兩配對形成六種配對方式，再觀察這六種組合的散點圖。"
      ]
    },
    {
      "cell_type": "code",
      "metadata": {
        "colab": {
          "base_uri": "https://localhost:8080/",
          "height": 265
        },
        "id": "eqZgJ1-lrRBS",
        "outputId": "caf2c02a-df3c-493d-e631-1d3cb6f65ea9"
      },
      "source": [
        "from matplotlib import pyplot as plt \n",
        "metrics = ['sepal length','sepal width','petal length','petal width']\n",
        "pairs=[(i,j) for i in range(4) for j in range(4) if i<j]\n",
        "marks = [\"+\",\".\",\"x\"] #資料共有三種類別，故採用三種不同的標記符號\n",
        "\n",
        "fig,ax = plt.subplots(2,3) #建立2x3的子圖展示框架\n",
        "\n",
        "for row in range(2):\n",
        "  for col in range(3):\n",
        "    i,j = pairs[3*row+col]\n",
        "    ax[row][col].set_title(f\"{metrics[i]} vs {metrics[j]}\",fontsize=8)\n",
        "    ax[row][col].set_xticks([])\n",
        "    ax[row][col].set_yticks([])\n",
        "\n",
        "    for mark,(species,points) in zip(marks,points_by_species.items()):\n",
        "      xs = [point[i] for point in points]\n",
        "      ys = [point[j] for point in points]\n",
        "      ax[row][col].scatter(xs,ys,marker=mark,label=species)\n",
        "\n",
        "ax[-1][-1].legend(loc='lower right',prop={'size':6})\n",
        "plt.show()"
      ],
      "execution_count": null,
      "outputs": [
        {
          "output_type": "display_data",
          "data": {
            "image/png": "[encoded data removed]",
            "text/plain": [
              "<Figure size 432x288 with 6 Axes>"
            ]
          },
          "metadata": {
            "tags": []
          }
        }
      ]
    },
    {
      "cell_type": "markdown",
      "metadata": {
        "id": "kUBCD_Ali-pD"
      },
      "source": [
        "透過觀察圖形，可以觀察到測量值會隨著不同品種而構成不同的集群。"
      ]
    },
    {
      "cell_type": "markdown",
      "metadata": {
        "id": "M1zn-U2jjOJK"
      },
      "source": [
        "## 運用「k最近鄰」建立預測模型\n"
      ]
    },
    {
      "cell_type": "markdown",
      "metadata": {
        "id": "vUtcxpDxmJzl"
      },
      "source": [
        "首先，將資料拆分為測試組資料與訓練組資料"
      ]
    },
    {
      "cell_type": "code",
      "metadata": {
        "id": "Y4pdrM_AmQXu"
      },
      "source": [
        "import random\n",
        "from typing import TypeVar,List,Tuple\n",
        "X=TypeVar('X') #以通用型別來代表資料點\n",
        "\n",
        "def split_data(data:List[X],prob:float) ->Tuple[List[X],List[X]]:\n",
        "  \"\"\"把資料依照[prob,1-prob]的比率進行切割\"\"\"\n",
        "  data = data[:]        #複製一份資料\n",
        "  random.shuffle(data)      #因shuffle會打亂資料\n",
        "  cut = int(len(data)*prob)   #用prob算出切分點\n",
        "  return data[:cut],data[cut:]  #用打亂過的資料進行切分"
      ],
      "execution_count": null,
      "outputs": []
    },
    {
      "cell_type": "code",
      "metadata": {
        "id": "tcpvJb4zmlXl"
      },
      "source": [
        "random.seed(12)\n",
        "iris_train,iris_test = split_data(iris_data,0.7)\n",
        "assert len(iris_train)==0.7*150\n",
        "assert len(iris_test)==0.3*150"
      ],
      "execution_count": null,
      "outputs": []
    },
    {
      "cell_type": "code",
      "metadata": {
        "colab": {
          "base_uri": "https://localhost:8080/"
        },
        "id": "ezPmCBo_nCSb",
        "outputId": "139843d4-ec0f-4759-9ba6-c85afab11454"
      },
      "source": [
        "from typing import Tuple\n",
        "import math\n",
        "\n",
        "#追蹤紀錄我們看到幾次(預測值、實際值)\n",
        "confusion_matrix:Dict[Tuple[str,str],int] = defaultdict(int)\n",
        "num_correct = 0\n",
        "\n",
        "for iris in iris_test:\n",
        "  predicted = knn_classify(5,iris_train,iris.point)\n",
        "  actual= iris.label\n",
        "\n",
        "  if predicted == actual:\n",
        "    num_correct += 1\n",
        "\n",
        "  confusion_matrix[(predicted,actual)] += 1\n",
        "\n",
        "pct_correct = num_correct/len(iris_test)\n",
        "print(pct_correct,confusion_matrix)"
      ],
      "execution_count": null,
      "outputs": [
        {
          "output_type": "stream",
          "text": [
            "0.9777777777777777 defaultdict(<class 'int'>, {('setosa', 'setosa'): 13, ('versicolor', 'versicolor'): 15, ('virginica', 'virginica'): 16, ('virginica', 'versicolor'): 1})\n"
          ],
          "name": "stdout"
        }
      ]
    },
    {
      "cell_type": "markdown",
      "metadata": {
        "id": "zc6DOz2TmkxM"
      },
      "source": [
        "**針對這個簡單的資料集**：  \n",
        "模型可以做出幾乎完美的預測。  \n",
        "模型只有一次把**變色鳶尾(versicolor)**預測成**維吉尼亞鳶尾(virginica)**，但其他預測結果則完全正確。"
      ]
    },
    {
      "cell_type": "markdown",
      "metadata": {
        "id": "t0DS2X9539u8"
      },
      "source": [
        "# 維度的詛咒\n",
        "在高維度空間中，每個點彼此之間的遠近關係，差異會變得不明顯。  \n",
        "***隨著維度的增加，點與點之間的平均距離也會增加。***"
      ]
    },
    {
      "cell_type": "markdown",
      "metadata": {
        "id": "s-sHdUki5yAE"
      },
      "source": [
        "建立一堆隨機資料點"
      ]
    },
    {
      "cell_type": "code",
      "metadata": {
        "id": "RjHQMvRI51yI"
      },
      "source": [
        "from typing import List\n",
        "import random\n",
        "Vector = List[float]\n",
        "\n",
        "def random_point(dim:int)->Vector:\n",
        "  return [random.random() for _ in range(dim)]"
      ],
      "execution_count": 2,
      "outputs": []
    },
    {
      "cell_type": "markdown",
      "metadata": {
        "id": "8xFTV8NK6AlV"
      },
      "source": [
        "計算相應的距離"
      ]
    },
    {
      "cell_type": "code",
      "metadata": {
        "id": "CJob_lyo6Dch"
      },
      "source": [
        "from typing import List\n",
        "\n",
        "def random_distances(dim:int,num_pairs:int) -> List[float]:\n",
        "  return [distance(random_point(dim),random_point(dim)) for _ in range(num_pairs)]"
      ],
      "execution_count": 3,
      "outputs": []
    },
    {
      "cell_type": "markdown",
      "metadata": {
        "id": "5HD4FPCD6Yf9"
      },
      "source": [
        "針對1到100維的每個維度，各計算出10000個距離並用來檢查：\n",
        "* 每個維度中，點與點之間的平均距離\n",
        "* 每個維度中，與點之間的最小距離"
      ]
    },
    {
      "cell_type": "code",
      "metadata": {
        "colab": {
          "base_uri": "https://localhost:8080/"
        },
        "id": "hXLAJcUh6w8Y",
        "outputId": "b0834592-0855-4d98-c7d1-0f9b31111360"
      },
      "source": [
        "import tqdm\n",
        "dimensions = range(1,101)\n",
        "\n",
        "avg_distance = []\n",
        "min_distance = []\n",
        "\n",
        "random.seed(0)\n",
        "for dim in tqdm.tqdm(dimensions, desc=\"Curse of Dimensionality\"):\n",
        "  distances = random_distances(dim,10000)\n",
        "  avg_distance.append(sum(distances)/10000)\n",
        "  min_distance.append(min(distances))\n",
        "\n",
        "len(avg_distance)"
      ],
      "execution_count": 9,
      "outputs": [
        {
          "output_type": "stream",
          "text": [
            "Curse of Dimensionality: 100%|██████████| 100/100 [00:19<00:00,  5.10it/s]\n"
          ],
          "name": "stderr"
        },
        {
          "output_type": "execute_result",
          "data": {
            "text/plain": [
              "100"
            ]
          },
          "metadata": {
            "tags": []
          },
          "execution_count": 9
        }
      ]
    },
    {
      "cell_type": "markdown",
      "metadata": {
        "id": "PfoiSar6ZOQ8"
      },
      "source": [
        "### 圖 12-2 維度的詛咒"
      ]
    },
    {
      "cell_type": "code",
      "metadata": {
        "id": "tZYqJGVCZS6z",
        "outputId": "303273db-53a3-4696-a2ed-0faad0edb812",
        "colab": {
          "base_uri": "https://localhost:8080/",
          "height": 281
        }
      },
      "source": [
        "from matplotlib import pyplot as plt\n",
        "\n",
        "xs=[num for num in range(100)]\n",
        "\n",
        "plt.plot(xs,avg_distance,\"r-\",label=\"avg distance\") #平均距離\n",
        "plt.plot(xs,min_distance,\"g-\",label=\"min distance\") #最小距離\n",
        "plt.legend(loc=2)\n",
        "plt.axis([0,100,0,4.5])\n",
        "plt.title(\"10000 random distance\")\n",
        "plt.show()"
      ],
      "execution_count": 17,
      "outputs": [
        {
          "output_type": "display_data",
          "data": {
            "image/png": "[encoded data removed]",
            "text/plain": [
              "<Figure size 432x288 with 1 Axes>"
            ]
          },
          "metadata": {
            "tags": [],
            "needs_background": "light"
          }
        }
      ]
    },
    {
      "cell_type": "markdown",
      "metadata": {
        "id": "Y7yDsyBvb17m"
      },
      "source": [
        "***隨著維度的增加，點與點之間的平均距離也會增加。***"
      ]
    },
    {
      "cell_type": "code",
      "metadata": {
        "id": "NdLdb0IPb9kD"
      },
      "source": [
        "min_avg_ratio = [min_dist/avg_dist for min_dist,avg_dist in zip(min_distance,avg_distance)]"
      ],
      "execution_count": 13,
      "outputs": []
    },
    {
      "cell_type": "markdown",
      "metadata": {
        "id": "MZbadJV3cNiX"
      },
      "source": [
        "### 圖 12-3 又是一個維度的詛咒"
      ]
    },
    {
      "cell_type": "code",
      "metadata": {
        "id": "qlSbjaJAcNI3",
        "outputId": "c2a4f068-11b0-460b-ce98-397097e17a69",
        "colab": {
          "base_uri": "https://localhost:8080/",
          "height": 281
        }
      },
      "source": [
        "from matplotlib import pyplot as plt\n",
        "\n",
        "xs=[num for num in range(100)]\n",
        "\n",
        "plt.plot(xs,min_avg_ratio,\"b-\")\n",
        "plt.title(\"min distance / avg distance\")\n",
        "plt.axis([0,100,0,0.8])\n",
        "plt.show()"
      ],
      "execution_count": 18,
      "outputs": [
        {
          "output_type": "display_data",
          "data": {
            "image/png": "[encoded data removed]",
            "text/plain": [
              "<Figure size 432x288 with 1 Axes>"
            ]
          },
          "metadata": {
            "tags": [],
            "needs_background": "light"
          }
        }
      ]
    },
    {
      "cell_type": "markdown",
      "metadata": {
        "id": "0PAWs908c8Wo"
      },
      "source": [
        "# 觀察高維度的稀疏性(sparsity)"
      ]
    },
    {
      "cell_type": "markdown",
      "metadata": {
        "id": "4V79a004dEAQ"
      },
      "source": [
        "### 圖12-4 50個一維的隨機點"
      ]
    },
    {
      "cell_type": "code",
      "metadata": {
        "id": "BxiC_hLrdDWa"
      },
      "source": [
        "random_distances(1,50)"
      ],
      "execution_count": null,
      "outputs": []
    },
    {
      "cell_type": "code",
      "metadata": {
        "id": "0M_JhFdsdc6A"
      },
      "source": [
        "from matplotlib import pyplot as plt\n",
        "\n",
        "xs=random_distances(1,50)\n",
        "ys=[1]*50\n",
        "ys\n",
        "\n",
        "#plt.bar(xs,ys,\"k-\") #平均距離\n",
        "#plt.show()"
      ],
      "execution_count": null,
      "outputs": []
    }
  ]
}