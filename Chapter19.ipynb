{
  "nbformat": 4,
  "nbformat_minor": 0,
  "metadata": {
    "colab": {
      "name": "Chapter19.ipynb",
      "provenance": [],
      "toc_visible": true,
      "authorship_tag": "ABX9TyNV9Gx9SSuywhKCAH7ggCqs",
      "include_colab_link": true
    },
    "kernelspec": {
      "name": "python3",
      "display_name": "Python 3"
    }
  },
  "cells": [
    {
      "cell_type": "markdown",
      "metadata": {
        "id": "view-in-github",
        "colab_type": "text"
      },
      "source": [
        "<a href=\"https://colab.research.google.com/github/hank199599/data_science_from_scratch_reading_log/blob/main/Chapter19.ipynb\" target=\"_parent\"><img src=\"https://colab.research.google.com/assets/colab-badge.svg\" alt=\"Open In Colab\"/></a>"
      ]
    },
    {
      "cell_type": "markdown",
      "metadata": {
        "id": "-upQJRhBT4RG"
      },
      "source": [
        "# 深度學習(Deep learning)\r\n",
        "原本指的是「深度」神經網路，現被用來泛指各種神經網路。"
      ]
    },
    {
      "cell_type": "markdown",
      "metadata": {
        "id": "sDNDb28zUSny"
      },
      "source": [
        "# 張量\r\n",
        "在神經網路函示庫中，n維陣列被稱為**張量(tensor)**  \r\n",
        "理想情況下，可以使用：\r\n",
        "\r\n",
        "```python\r\n",
        "# 張量Tensor要不是一個浮點數，就是一個張量列表\r\n",
        "Tensor = Union[float,List[Tensor]]\r\n",
        "```\r\n"
      ]
    },
    {
      "cell_type": "code",
      "metadata": {
        "id": "woz6w24ma8-S"
      },
      "source": [
        "#如同我們說：\r\n",
        "Tensor = list"
      ],
      "execution_count": null,
      "outputs": []
    },
    {
      "cell_type": "markdown",
      "metadata": {
        "id": "sd7FNN-kYo3Q"
      },
      "source": [
        "### 輔助函式：找出張量的形狀"
      ]
    },
    {
      "cell_type": "code",
      "metadata": {
        "id": "mWyI25qhGPfT"
      },
      "source": [
        "from typing import List\r\n",
        "\r\n",
        "def shape(tensor: Tensor) -> List[int]:\r\n",
        "    sizes: List[int] = []\r\n",
        "    while isinstance(tensor, list):\r\n",
        "        sizes.append(len(tensor))\r\n",
        "        tensor = tensor[0]\r\n",
        "    return sizes"
      ],
      "execution_count": null,
      "outputs": []
    },
    {
      "cell_type": "code",
      "metadata": {
        "id": "6qb4-AEsazDh"
      },
      "source": [
        "assert shape([1,2,3]) == [3]"
      ],
      "execution_count": null,
      "outputs": []
    },
    {
      "cell_type": "code",
      "metadata": {
        "id": "XXsIC8XsazJ8"
      },
      "source": [
        "assert shape([[1,2],[3,4],[5,6]]) == [3,2]"
      ],
      "execution_count": null,
      "outputs": []
    },
    {
      "cell_type": "markdown",
      "metadata": {
        "id": "m7AGAv0fbnqe"
      },
      "source": [
        "由於張量可能具有任意數量的維度，  \r\n",
        "因此在使用張量時，通常需要採用**遞迴**的作法。"
      ]
    },
    {
      "cell_type": "code",
      "metadata": {
        "id": "1xXAhkwzcQRo"
      },
      "source": [
        "def is_1d(tensor:Tensor) ->bool:\r\n",
        "  \"\"\"\r\n",
        "  如果tensor[0]是一個列表，他就是一個高維張量\r\n",
        "  否則就是一個一維向量\r\n",
        "  \"\"\"\r\n",
        "  return not isinstance(tensor[0],list)"
      ],
      "execution_count": null,
      "outputs": []
    },
    {
      "cell_type": "code",
      "metadata": {
        "id": "OQBHGayKfGlt"
      },
      "source": [
        "assert is_1d([1,2,3])"
      ],
      "execution_count": null,
      "outputs": []
    },
    {
      "cell_type": "code",
      "metadata": {
        "id": "7QqTfOGDfMgf"
      },
      "source": [
        "assert not is_1d([[1,2],[3,4]])"
      ],
      "execution_count": null,
      "outputs": []
    },
    {
      "cell_type": "markdown",
      "metadata": {
        "id": "An2tSSvMYxou"
      },
      "source": [
        "### 輔助函式：tensor_sum 函數"
      ]
    },
    {
      "cell_type": "code",
      "metadata": {
        "id": "mAp2fHb1h1Tu"
      },
      "source": [
        "def tensor_sum(tensor:Tensor)->float:\r\n",
        "  \"\"\"把張量的所有值加總起來\"\"\"\r\n",
        "  if is_1d(tensor):\r\n",
        "    return sum(tensor) #只是一個浮點數列表，就用Python的sum函式\r\n",
        "  else:\r\n",
        "    return sum(tensor_sum(tensor_i) for tensor_i in tensor)"
      ],
      "execution_count": null,
      "outputs": []
    },
    {
      "cell_type": "code",
      "metadata": {
        "id": "iz3kN599ipib"
      },
      "source": [
        "assert tensor_sum([1,2,3]) == 6"
      ],
      "execution_count": null,
      "outputs": []
    },
    {
      "cell_type": "code",
      "metadata": {
        "id": "nplU-Hygipl6"
      },
      "source": [
        "assert tensor_sum([[1,2],[3,4]]) == 10"
      ],
      "execution_count": null,
      "outputs": []
    },
    {
      "cell_type": "markdown",
      "metadata": {
        "id": "SZPRdxx2i_m3"
      },
      "source": [
        "### 輔助函式：把某個函數套用到單一張量中的每個元素"
      ]
    },
    {
      "cell_type": "code",
      "metadata": {
        "id": "v6QLhWB_jTNN"
      },
      "source": [
        "from typing import Callable\r\n",
        "\r\n",
        "def tensor_apply(f:Callable[[float],float],tensor:Tensor) ->Tensor:\r\n",
        "  \"\"\"把函式f套用到每個元素\"\"\"\r\n",
        "  if is_1d(tensor):\r\n",
        "    return [f(x) for x in tensor]\r\n",
        "  else:\r\n",
        "    return [tensor_apply(f,tensor_i) for tensor_i in tensor]"
      ],
      "execution_count": null,
      "outputs": []
    },
    {
      "cell_type": "code",
      "metadata": {
        "id": "8TLvyl-bq7pL"
      },
      "source": [
        "assert tensor_apply(lambda x:x+1,[1,2,3]) == [2,3,4]"
      ],
      "execution_count": null,
      "outputs": []
    },
    {
      "cell_type": "code",
      "metadata": {
        "id": "D09dMuvMq7xm"
      },
      "source": [
        "assert tensor_apply(lambda x:2*x,[[1,2],[3,4]]) == [[2,4],[6,8]]"
      ],
      "execution_count": null,
      "outputs": []
    },
    {
      "cell_type": "markdown",
      "metadata": {
        "id": "MmGXgbgRZFLh"
      },
      "source": [
        "### 輔助函式：依據張量形狀，建立另一個形狀一樣的零張量"
      ]
    },
    {
      "cell_type": "code",
      "metadata": {
        "id": "-PSDSY2fZFXx"
      },
      "source": [
        "def zero_like(tensor:Tensor) ->Tensor:\r\n",
        "  return tensor_apply(lambda _: 0.0,tensor)"
      ],
      "execution_count": null,
      "outputs": []
    },
    {
      "cell_type": "code",
      "metadata": {
        "id": "a87CsAo_ceaQ"
      },
      "source": [
        "assert zero_like([1,2,3]) == [0,0,0]"
      ],
      "execution_count": null,
      "outputs": []
    },
    {
      "cell_type": "code",
      "metadata": {
        "id": "FYPFd8JQcefc"
      },
      "source": [
        "assert zero_like([[1,2],[3,4]]) == [[0,0],[0,0]]"
      ],
      "execution_count": null,
      "outputs": []
    },
    {
      "cell_type": "markdown",
      "metadata": {
        "id": "B4XgTY9yczxt"
      },
      "source": [
        "### 輔助函式：將某個函式套用到兩個張量"
      ]
    },
    {
      "cell_type": "code",
      "metadata": {
        "id": "2nM-Tj84czxu"
      },
      "source": [
        "def tensor_combine(f:Callable[[float,float],float],t1:Tensor,t2:Tensor) ->Tensor:\r\n",
        "  \"\"\"把函式f套用到t1與t2的相應元素\"\"\"\r\n",
        "  if is_1d(t1):\r\n",
        "    return [f(x,y) for x,y in zip(t1,t2)]\r\n",
        "  else:\r\n",
        "    return [tensor_combine(f,t1_i,t2_i) for t1_i,t2_i in zip(t1,t2)]"
      ],
      "execution_count": null,
      "outputs": []
    },
    {
      "cell_type": "code",
      "metadata": {
        "id": "Wnb9TX7zczxv"
      },
      "source": [
        "import operator\r\n",
        "assert tensor_combine(operator.add,[1,2,3],[4,5,6]) == [5,7,9]\r\n",
        "assert tensor_combine(operator.mul,[1,2,3],[4,5,6]) == [4,10,18]"
      ],
      "execution_count": null,
      "outputs": []
    },
    {
      "cell_type": "markdown",
      "metadata": {
        "id": "1fT8zSoVUX4P"
      },
      "source": [
        "# 層的抽象概念\r\n",
        "\r\n",
        "建立一種機制，能用來時做出各式各樣的神經網路。\r\n",
        "最基本的概念是「Layer」。  \r\n",
        "他知道如何把輸入套入某種函數，亦能夠進行**反向傳播**的方式計算梯度。\r\n",
        "  \r\n",
        "在真正的子類別中，forward 與 backward 方法都會進行實作，  \r\n",
        "一旦建構了神經網路，我們就能以梯度遞減的方式來進行訓練。\r\n",
        "\r\n"
      ]
    },
    {
      "cell_type": "code",
      "metadata": {
        "id": "pDMQu5srquHd"
      },
      "source": [
        "from typing import Iterable,Tuple\r\n",
        "\r\n",
        "class Layer:\r\n",
        "  \"\"\"\r\n",
        "  我們的神經網路是由許多層組成，其中每一層都知道\r\n",
        "  如何以正向傳播的方式對輸入進行某些計算\r\n",
        "  以及如何以反向傳播的方式計算梯度\r\n",
        "  \"\"\"\r\n",
        "  def forward(self,input):\r\n",
        "    \"\"\"\r\n",
        "    可以注意到，這裡缺了型別可以設定。\r\n",
        "    我們並不打算限定各層的輸入是什麼型別。\r\n",
        "    也不限定return的輸入是甚麼型別\r\n",
        "    \"\"\"\r\n",
        "    raise NotImplementedError\r\n",
        "  \r\n",
        "  def backward(self,gradient):\r\n",
        "    \"\"\"\r\n",
        "    同樣地，我們並不打算限定梯度應該是什麼型別，\r\n",
        "    這完全由你自己決定，\r\n",
        "    只要確定合理即可\r\n",
        "    \"\"\"\r\n",
        "    raise NotImplementedError\r\n",
        "  \r\n",
        "  def params(self)->Iterable[Tensor]:\r\n",
        "    \"\"\"\r\n",
        "    返回此層的參數，預設的實作方式不會回送任何東西。\r\n",
        "    如果你的Layer沒有任何參數，\r\n",
        "    並不需要實做這個方法\r\n",
        "    \"\"\"\r\n",
        "    return ()\r\n",
        "  \r\n",
        "  def grads(self) ->Iterable[Tensor]:\r\n",
        "    \"\"\"\r\n",
        "    送回梯度，順序與params相同\r\n",
        "    \"\"\"\r\n",
        "    return ()"
      ],
      "execution_count": null,
      "outputs": []
    },
    {
      "cell_type": "markdown",
      "metadata": {
        "id": "J3kdcqT4qTJE"
      },
      "source": [
        "### 範例：不須更新參數的sigmoid層：\r\n",
        "在正向傳遞中，保存了sigmoid函式的計算結果。  \r\n",
        "以供後續的反向傳遞使用。\r\n"
      ]
    },
    {
      "cell_type": "code",
      "metadata": {
        "id": "2FXO4EaYUcBM"
      },
      "source": [
        "from typing import List\r\n",
        "import math\r\n",
        "\r\n",
        "Vector = List[float]\r\n",
        "\r\n",
        "def sigmoid(t:float)->float:\r\n",
        "  return 1/(1+math.exp(-t))\r\n",
        " \r\n",
        "class Sigmoid(Layer):\r\n",
        "  def forward(self, input: Tensor) -> Tensor:\r\n",
        "    \"\"\"\r\n",
        "    把sigmoid函式套用到輸入張量的每個元素，\r\n",
        "    然後儲存結果，供反向傳播使用\r\n",
        "    \"\"\"\r\n",
        "    self.sigmoids = tensor_apply(sigmoid, input)\r\n",
        "    return self.sigmoids\r\n",
        "\r\n",
        "  def backward(self, gradient: Tensor) -> Tensor:\r\n",
        "    \"\"\"\r\n",
        "    微積分連鎖定律之定義：\r\n",
        "    input=(predicted - actual) ** 2\r\n",
        "    d(input)/d(grad) * d(grad)/d(sig) = sig*(1-sig)*grad\r\n",
        "    \"\"\"\r\n",
        "    return tensor_combine(lambda sig, grad: sig * (1 - sig) * grad,\r\n",
        "                                self.sigmoids,\r\n",
        "                                gradient)\r\n"
      ],
      "execution_count": null,
      "outputs": []
    },
    {
      "cell_type": "markdown",
      "metadata": {
        "id": "MBbLJbvHUcmy"
      },
      "source": [
        "## 線性層\r\n",
        "代表神經元的 **dot(weight,inputs)** 點積的部分\r\n",
        "  \r\n",
        "在這裡實作三種方式生成初始的隨機張量：\r\n",
        "1. 自[0,1]的隨機分布中選擇初始值\r\n",
        "2. 自標準常態分布中選擇初始值\r\n",
        "3. 使用「Xavier initialization」，其中每個權重為平均是0，變異量為2/(num_inputs+num_outputs)的標準常態分布中選擇初始值\r\n"
      ]
    },
    {
      "cell_type": "markdown",
      "metadata": {
        "id": "IHX0GNIrUTVZ"
      },
      "source": [
        "### 前置作業"
      ]
    },
    {
      "cell_type": "code",
      "metadata": {
        "id": "IKo_NO-0Ueov"
      },
      "source": [
        "import random\r\n",
        "import math\r\n",
        "\r\n",
        "SQRT_TWO_PI = math.sqrt(2* math.pi)\r\n",
        "\r\n",
        "def normal_pdf(x:float,mu:float=0,sigma:float=1) ->float:\r\n",
        "  return (math.exp(-(x-mu)**2/2/sigma**2)/(SQRT_TWO_PI*sigma))\r\n",
        "\r\n",
        "def normal_cdf(x:float,mu:float=0,sigma:float=1)->float:\r\n",
        "  return (1+math.erf((x-mu)/math.sqrt(2)/sigma))/2\r\n",
        "\r\n",
        "def inverse_normal_cdf(p:float,\r\n",
        "            mu:float = 0,\r\n",
        "            sigma:float = 1,\r\n",
        "            tolerance:float=0.00001) -> float:\r\n",
        "  # 如果不是標準常態分佈，就先轉換成標準常態分佈\r\n",
        "  if mu != 0 or sigma != 1:\r\n",
        "    return mu + sigma*inverse_normal_cdf(p,tolerance = tolerance)\r\n",
        "  \r\n",
        "  low_z = -10.0 # normal_cdf(-10)是(趨近於) 0\r\n",
        "  hi_z =  10.0 # normal_cdf(10)是(趨近於) 1\r\n",
        "  while hi_z - low_z > tolerance:  \r\n",
        "    mid_z = (low_z + hi_z) / 2   # 計算出中間值\r\n",
        "    mid_p = normal_cdf(mid_z)     # 以及累積分佈函數在該處所應對的值\r\n",
        "    if mid_p < p :\r\n",
        "      low_z = mid_z        #中間的值太低，就往上繼續搜尋\r\n",
        "    else:\r\n",
        "      hi_z = mid_z        #中間的值太高，就往下繼續搜尋\r\n",
        "  \r\n",
        "  return mid_z"
      ],
      "execution_count": null,
      "outputs": []
    },
    {
      "cell_type": "code",
      "metadata": {
        "id": "aW2Vn3UhJ_Qz"
      },
      "source": [
        "# 自[0,1]的隨機分布中選擇初始值\r\n",
        "def random_uniform(*dims:int) ->Tensor:\r\n",
        "  if len(dims) == 1:\r\n",
        "    return [random.random() for _ in range(dims[0])]\r\n",
        "  else:\r\n",
        "    return [random_uniform(*dims[1:]) for _ in range(dims[0])]\r\n",
        "\r\n",
        "# 自標準常態分布中選擇初始值\r\n",
        "def random_normal(*dims:int,mean:float=0.0,variance:float=1.0) ->Tensor:\r\n",
        "  if len(dims) == 1:\r\n",
        "    return [mean + variance * inverse_normal_cdf(random.random()) for _ in range(dims[0])]\r\n",
        "  else:\r\n",
        "    return [random_normal(*dims[1:],mean=mean,variance=variance) for _ in range(dims[0])]\r\n",
        "  "
      ],
      "execution_count": null,
      "outputs": []
    },
    {
      "cell_type": "code",
      "metadata": {
        "id": "3mbIHyPPMWif"
      },
      "source": [
        "assert shape(random_uniform(2,3,4)) == [2,3,4]"
      ],
      "execution_count": null,
      "outputs": []
    },
    {
      "cell_type": "code",
      "metadata": {
        "id": "e2CncpfLMWlv"
      },
      "source": [
        "assert shape(random_normal(5,6,mean=10)) == [5,6]"
      ],
      "execution_count": null,
      "outputs": []
    },
    {
      "cell_type": "markdown",
      "metadata": {
        "id": "SY4zE-U3TZLi"
      },
      "source": [
        "將他們包裝在random_tensor函式中"
      ]
    },
    {
      "cell_type": "code",
      "metadata": {
        "id": "0VBwpJI8Tfrw"
      },
      "source": [
        "def random_tensor(*dims:int,init:str = 'normal')->Tensor:\r\n",
        "  if init == 'normal':\r\n",
        "    return random_normal(*dims) # 自[0,1]的隨機分布中選擇初始值\r\n",
        "  elif init == 'uniform':\r\n",
        "    return random_uniform(*dims) # 自標準常態分布中選擇初始值\r\n",
        "  elif init == 'xavier': \r\n",
        "    variance = len(dims)/sum(dims)\r\n",
        "    return random_normal(*dims,variance=variance) #使用「Xavier initialization」，其中每個權重為平均是0，變異量為2/(num_inputs+num_outputs)的標準常態分布中選擇初始值\r\n",
        "  else:\r\n",
        "    raise ValueError(f\"unknown init: {init}\")"
      ],
      "execution_count": null,
      "outputs": []
    },
    {
      "cell_type": "markdown",
      "metadata": {
        "id": "6Z1E58LWUQMe"
      },
      "source": [
        "### 定義線性層\r\n",
        "須提供以下資訊：  \r\n",
        "* 輸入的維度 (每個神經元需要幾個權重)\r\n",
        "* 輸出的維度 (有幾個神經元)"
      ]
    },
    {
      "cell_type": "code",
      "metadata": {
        "id": "ISoxN0F1UV5U"
      },
      "source": [
        "def dot(v:Vector,w:Vector)->float:\r\n",
        "  #計算v_1*w_1+... +v_n*w_n\r\n",
        "  assert len(v)==len(w),\"兩個向量必須有相同的維度\"\r\n",
        "\r\n",
        "  return sum(v_i*w_i for v_i,w_i in zip(v,w))"
      ],
      "execution_count": null,
      "outputs": []
    },
    {
      "cell_type": "code",
      "metadata": {
        "id": "fiI2le6Od92Z"
      },
      "source": [
        "class Linear(Layer):\r\n",
        "    def __init__(self, input_dim: int, output_dim: int, init: str = 'xavier') -> None:\r\n",
        "        \"\"\"\r\n",
        "        此層具有output_dims個神經元，每個神經元都有 imnput_dims個權重以及一個偏差量\r\n",
        "        \"\"\"\r\n",
        "        self.input_dim = input_dim\r\n",
        "        self.output_dim = output_dim\r\n",
        "\r\n",
        "        # self.w[o] 是第 o 個神經元的權重\r\n",
        "        self.w = random_tensor(output_dim, input_dim, init=init)\r\n",
        "\r\n",
        "        # self.w[o] 是第 o 個神經元的偏差項\r\n",
        "        self.b = random_tensor(output_dim, init=init)\r\n",
        "\r\n",
        "    def forward(self, input: Tensor) -> Tensor:\r\n",
        "        # 保存以供反向傳遞使用\r\n",
        "        self.input = input\r\n",
        "\r\n",
        "        # 送回神經元的輸出向量\r\n",
        "        return [dot(input, self.w[o]) + self.b[o]\r\n",
        "                for o in range(self.output_dim)]\r\n",
        "\r\n",
        "    def backward(self, gradient: Tensor) -> Tensor:\r\n",
        "        # 每個　b[o]　都會被加到　output[o]　之中\r\n",
        "        # 亦即ｂ的梯度等於　output的梯度\r\n",
        "        self.b_grad = gradient\r\n",
        "\r\n",
        "        # 每個w[o][i]都會乘以input[i]再加到output[o]之中\r\n",
        "        # 因此梯度是 input[i]*gradient[o]\r\n",
        "        self.w_grad = [[self.input[i] * gradient[o]\r\n",
        "                        for i in range(self.input_dim)]\r\n",
        "                        for o in range(self.output_dim)]\r\n",
        "\r\n",
        "        # 每個input[i]都會與每個w[o][i]相乘，再加到每個output[o]之中\r\n",
        "        # 因此其梯度就是橫跨所有outputs\r\n",
        "        # w[o][i]*gradient[o]加總之和\r\n",
        "        return [sum(self.w[o][i] * gradient[o] for o in range(self.output_dim))\r\n",
        "                for i in range(self.input_dim)]\r\n",
        "\r\n",
        "    def params(self) -> Iterable[Tensor]:\r\n",
        "        return [self.w, self.b]\r\n",
        "\r\n",
        "    def grads(self) -> Iterable[Tensor]:\r\n",
        "        return [self.w_grad, self.b_grad]"
      ],
      "execution_count": null,
      "outputs": []
    },
    {
      "cell_type": "markdown",
      "metadata": {
        "id": "ZvIcc97hUfl6"
      },
      "source": [
        "# 把神經網路視為一系列的層"
      ]
    },
    {
      "cell_type": "code",
      "metadata": {
        "id": "EmVWBY0xUlST"
      },
      "source": [
        "from typing import List\r\n",
        "\r\n",
        "class Sequential(Layer):\r\n",
        "  \"\"\"\r\n",
        "  一行就包括一系列的其他層。\r\n",
        "  每一層的輸出做為下一層的輸入，\r\n",
        "  \"\"\"\r\n",
        "  def __init__(self,layers:List[Layer])->None:\r\n",
        "    self.layers = layers\r\n",
        "  \r\n",
        "  def forward(self,input):\r\n",
        "    \"\"\"讓輸入照順序正向通過每一層\"\"\"\r\n",
        "    for layer in self.layers:\r\n",
        "      input = layer.forward(input)\r\n",
        "    return input\r\n",
        "  \r\n",
        "  def backward(self,gradient):\r\n",
        "    \"\"\"讓梯度反向通過每一層以進行反向傳播\"\"\"\r\n",
        "    for layer in reversed(self.layers):\r\n",
        "      gradient = layer.backward(gradient)\r\n",
        "    return gradient\r\n",
        "  \r\n",
        "  def params(self) ->Iterable[Tensor]:\r\n",
        "    \"\"\"送回每一層的參數\"\"\"\r\n",
        "    return (param for layer in self.layers for param in layer.params())\r\n",
        "\r\n",
        "  def grads(self) ->Iterable[Tensor]:\r\n",
        "    \"\"\"送回每一層的梯度\"\"\"\r\n",
        "    return (grad for layer in self.layers for grad in layer.grads())"
      ],
      "execution_count": null,
      "outputs": []
    },
    {
      "cell_type": "markdown",
      "metadata": {
        "id": "dW9Dara_HLjR"
      },
      "source": [
        "將XOR神經網路表示為："
      ]
    },
    {
      "cell_type": "code",
      "metadata": {
        "id": "gxIzGM4YHTD0"
      },
      "source": [
        "xor_net=Sequential([\r\n",
        "  Linear(input_dim=2,output_dim=2),\r\n",
        "  Sigmoid(),\r\n",
        "  Linear(input_dim=2,output_dim=1),\r\n",
        "  Sigmoid()])"
      ],
      "execution_count": null,
      "outputs": []
    },
    {
      "cell_type": "markdown",
      "metadata": {
        "id": "JSXW6lccUmge"
      },
      "source": [
        "# 損失與最佳化"
      ]
    },
    {
      "cell_type": "markdown",
      "metadata": {
        "id": "X7VZXbxRMYXH"
      },
      "source": [
        "### 定義名為「Loss」的抽象類別"
      ]
    },
    {
      "cell_type": "code",
      "metadata": {
        "id": "67lJO9pWUoWz"
      },
      "source": [
        "class Loss:\r\n",
        "  def loss(self,predicted:Tensor,actual:Tensor) ->float:\r\n",
        "    \"\"\"計算我們預測結果的程度\"\"\"\r\n",
        "    raise NotImplementedError\r\n",
        "  \r\n",
        "  def gradient(self,predicted:Tensor,actual:Tensor) ->Tensor:\r\n",
        "    \"\"\"如果預測改變，則損失會隨之改變\"\"\"\r\n",
        "    raise NotImplementedError"
      ],
      "execution_count": null,
      "outputs": []
    },
    {
      "cell_type": "markdown",
      "metadata": {
        "id": "Akk4XbMjMdX0"
      },
      "source": [
        "### 利用**平方誤差和**做為損失函數"
      ]
    },
    {
      "cell_type": "code",
      "metadata": {
        "id": "grM1_A85Mc4I"
      },
      "source": [
        "class SSE(Loss):\r\n",
        "  \"\"\"計算平方誤差和，以作為損失函數\"\"\"\r\n",
        "  def loss(self,predicted:Tensor,actual:Tensor)->float:\r\n",
        "\r\n",
        "    #計算出平方誤差量\r\n",
        "    squared_errors = tensor_combine(\r\n",
        "      lambda predicted,actual:(predicted - actual) ** 2,\r\n",
        "      predicted,\r\n",
        "      actual)\r\n",
        "\r\n",
        "    #接著全部加總起來\r\n",
        "    return tensor_sum(squared_errors)\r\n",
        "  \r\n",
        "  def gradient(self,predicted:Tensor,actual:Tensor)->Tensor:\r\n",
        "    return tensor_combine(\r\n",
        "      lambda predicted,actual: 2 * (predicted - actual),\r\n",
        "      predicted,\r\n",
        "      actual)"
      ],
      "execution_count": null,
      "outputs": []
    },
    {
      "cell_type": "code",
      "metadata": {
        "id": "Sx6raLi4TBRm"
      },
      "source": [
        "sse_loss = SSE()\r\n",
        "assert sse_loss.loss([1, 2, 3], [10, 20, 30]) == 9 ** 2 + 18 ** 2 + 27 ** 2\r\n",
        "assert sse_loss.gradient([1, 2, 3], [10, 20, 30]) == [-18, -36, -54]"
      ],
      "execution_count": null,
      "outputs": []
    },
    {
      "cell_type": "markdown",
      "metadata": {
        "id": "vcsCqNy6MdBv"
      },
      "source": [
        "### 梯度遞減的實作\r\n",
        "以往是以人工方式完成所有梯度遞減的操作，然而在這裡不太適用。\r\n",
        "\r\n",
        "```python\r\n",
        "theta = gradient_step(theta,grad,-learning_rate)\r\n",
        "```\r\n",
        "\r\n",
        "1. 神經網路有多個參數需要更新\r\n",
        "2. 希望能使用更聰明的梯度遞減變形作法而無須重新改寫程式"
      ]
    },
    {
      "cell_type": "code",
      "metadata": {
        "id": "ITBGvoV7XDX7"
      },
      "source": [
        "class Optimizer:\r\n",
        "  \"\"\"\r\n",
        "  Optimizer會更新layer的權重值，\r\n",
        "  其根據不是來自layer就是來自Optimizer\r\n",
        "  \"\"\"\r\n",
        "  def step(self,layer:Layer) ->None:\r\n",
        "    raise NotImplementedError"
      ],
      "execution_count": null,
      "outputs": []
    },
    {
      "cell_type": "markdown",
      "metadata": {
        "id": "s4btsn8qbPfD"
      },
      "source": [
        "利用Optimizer來實作梯度遞減\r\n",
        "\r\n"
      ]
    },
    {
      "cell_type": "code",
      "metadata": {
        "id": "HF-eA1FDbPua"
      },
      "source": [
        "class GradientDescent(Optimizer):\r\n",
        "  def __init__(self,learning_rate:float=0.1)->None:\r\n",
        "    self.lr = learning_rate\r\n",
        "  \r\n",
        "  def step(self,layer:Layer) ->None:\r\n",
        "    for param,grad in zip(layer.params(),layer.grads()):\r\n",
        "      #運用梯度遞減的方式更新參數\r\n",
        "      param[:] = tensor_combine(\r\n",
        "        lambda param,grad:param - grad * self.lr,\r\n",
        "        param,\r\n",
        "        grad\r\n",
        "      )"
      ],
      "execution_count": null,
      "outputs": []
    },
    {
      "cell_type": "markdown",
      "metadata": {
        "id": "f7pAg2xPdtgr"
      },
      "source": [
        "### 片段指定值(slice assignment)\r\n",
        "**反映一個事實**：重新指定列表的值，並不會改變其值\r\n",
        "\r\n",
        "\r\n",
        "```python\r\n",
        "tensor= [[1,2],[3,4]]\r\n",
        "\r\n",
        "for row in tensor:\r\n",
        "  row = [0,0]\r\n",
        "\r\n",
        "assert tensor == [[1,2],[3,4]] #一般指定值的方式不會更動到列表內容\r\n",
        "\r\n",
        "for row in tensor:\r\n",
        "  row[:] = [0,0]\r\n",
        "\r\n",
        "assert tensor == [[0,0],[0,0]] #  片段指定值的方式就會更動到列表內容\r\n",
        "```\r\n",
        "\r\n"
      ]
    },
    {
      "cell_type": "markdown",
      "metadata": {
        "id": "KalOzNqqkiBs"
      },
      "source": [
        "### 動量(momentum)\r\n",
        "保留先前梯度移動平均值，每得到新的梯度值就更新這個平均梯度值並往這個平均方向邁開一步。"
      ]
    },
    {
      "cell_type": "code",
      "metadata": {
        "id": "TJ4wJPlAoGMz"
      },
      "source": [
        "class Momentum(Optimizer):\r\n",
        "  def __init__(self,learning_rate:float,momentum:float=0.9) ->None:\r\n",
        "    self.lr = learning_rate\r\n",
        "    self.mo = momentum\r\n",
        "    self.updates:List[Tensor]=[] #移動平均\r\n",
        "\r\n",
        "  def step(self,layer:Layer)->None:\r\n",
        "    #如果還沒有之前的更新值，就全部使用零來當作起始值\r\n",
        "    if not self.updates:\r\n",
        "      self.updates = [zero_like(grad) for grad in layer.grads()]\r\n",
        "    \r\n",
        "    for update,param,grad in zip(self.updates,layer.params(),layer.grads()):\r\n",
        "      #套用動量的計算方式\r\n",
        "      update[:] = tensor_combine(lambda u,g:self.mo * u + (1 - self.mo) * g, update , grad)\r\n",
        "\r\n",
        "      #接著執行梯度遞減的步驟\r\n",
        "      param[:] = tensor_combine(lambda p,u:p-self.lr*u,param,update)"
      ],
      "execution_count": null,
      "outputs": []
    },
    {
      "cell_type": "markdown",
      "metadata": {
        "id": "EaUMuzB5UpHZ"
      },
      "source": [
        "# 範例：XOR再次嘗試"
      ]
    },
    {
      "cell_type": "markdown",
      "metadata": {
        "id": "tTyx0vvHqET0"
      },
      "source": [
        "重新建立訓練資料"
      ]
    },
    {
      "cell_type": "code",
      "metadata": {
        "id": "5SB9e9PLUtL-"
      },
      "source": [
        "xs = [[0.,0],[0.,1],[1.,0],[1.,1]]\r\n",
        "ys = [[0.],[1.],[1.],[0.]]"
      ],
      "execution_count": null,
      "outputs": []
    },
    {
      "cell_type": "markdown",
      "metadata": {
        "id": "u4BRthc5qYs-"
      },
      "source": [
        "定義網路  \r\n",
        "(*在這裡可以省去最後的sigmoid層*)"
      ]
    },
    {
      "cell_type": "code",
      "metadata": {
        "id": "-IbqiiuaqaRg"
      },
      "source": [
        "random.seed(1)\r\n",
        "\r\n",
        "net = Sequential([\r\n",
        "  Linear(input_dim=2,output_dim=2),\r\n",
        "  Sigmoid(),\r\n",
        "  Linear(input_dim=2,output_dim=1)\r\n",
        "])"
      ],
      "execution_count": null,
      "outputs": []
    },
    {
      "cell_type": "markdown",
      "metadata": {
        "id": "KZeRrgzyo7Zt"
      },
      "source": [
        "定義一個簡易的定義迴圈"
      ]
    },
    {
      "cell_type": "code",
      "metadata": {
        "colab": {
          "base_uri": "https://localhost:8080/"
        },
        "id": "1KWUoTk9o7hz",
        "outputId": "ccf6325a-2719-476f-9311-b57ba67c22eb"
      },
      "source": [
        "import tqdm\r\n",
        "\r\n",
        "optimizer = GradientDescent(learning_rate=0.1)\r\n",
        "loss = SSE()\r\n",
        "\r\n",
        "with tqdm.trange(3000) as t:\r\n",
        "    for epoch in t:\r\n",
        "        epoch_loss = 0.0\r\n",
        "\r\n",
        "        for x, y in zip(xs, ys):\r\n",
        "            predicted = net.forward(x)\r\n",
        "            epoch_loss += loss.loss(predicted, y)\r\n",
        "            gradient = loss.gradient(predicted, y)\r\n",
        "            net.backward(gradient)\r\n",
        "\r\n",
        "            optimizer.step(net)\r\n",
        "\r\n",
        "        t.set_description(f\"xor loss {epoch_loss:.3f}\")\r\n"
      ],
      "execution_count": null,
      "outputs": [
        {
          "output_type": "stream",
          "text": [
            "xor loss 0.000: 100%|██████████| 3000/3000 [00:05<00:00, 560.37it/s]\n"
          ],
          "name": "stderr"
        }
      ]
    },
    {
      "cell_type": "markdown",
      "metadata": {
        "id": "3Hgt41Bk3log"
      },
      "source": [
        "檢查訓練後的網路"
      ]
    },
    {
      "cell_type": "code",
      "metadata": {
        "id": "cfLUJHj13pED",
        "colab": {
          "base_uri": "https://localhost:8080/"
        },
        "outputId": "022bda5f-b6fc-48cf-c620-4e223a6618c1"
      },
      "source": [
        "for param in net.params():\r\n",
        "  print(param)"
      ],
      "execution_count": null,
      "outputs": [
        {
          "output_type": "stream",
          "text": [
            "[[-2.7093966262104487, 2.653711088340027], [2.2917078536634508, -2.251697656785721]]\n",
            "[-1.894089978443923, -1.450879940018008]\n",
            "[[2.594140810886788, 2.5817610835024105]]\n",
            "[-0.8294478276015247]\n"
          ],
          "name": "stdout"
        }
      ]
    },
    {
      "cell_type": "markdown",
      "metadata": {
        "id": "JZdweO51nqdq"
      },
      "source": [
        "從得到的網路來看，結果大致如下：\r\n",
        "* hidden1 = -2.6 * x1 + -2.7 * x2 + 0.2\r\n",
        "* hidden2 = 2.1 * x1 + 2.1 * x2 -3.4\r\n",
        "* optput= -3.1 * h1 + -2.6 * x2 + 1.8"
      ]
    },
    {
      "cell_type": "markdown",
      "metadata": {
        "id": "HnijD7kSUxY4"
      },
      "source": [
        "# 其他激活函數"
      ]
    },
    {
      "cell_type": "markdown",
      "metadata": {
        "id": "mchWjL1GoqPf"
      },
      "source": [
        "## 雙曲正切函數( tanh, 雙曲正切函數)"
      ]
    },
    {
      "cell_type": "code",
      "metadata": {
        "id": "JN2IrAL4U0Wl"
      },
      "source": [
        "import math\r\n",
        "\r\n",
        "def tanh(x:float) ->float:\r\n",
        "  # 如果x非常大或非常小，tanh就會非常接近-1或1\r\n",
        "  # 由於math.exp(1000)會發生錯誤，因此需要檢查\r\n",
        "  if x < -100 : return -1\r\n",
        "  elif x > 100 : return 1\r\n",
        "\r\n",
        "  emx2 = math.exp(-2*x)\r\n",
        "  return (1-emx2)/(1+emx2)"
      ],
      "execution_count": null,
      "outputs": []
    },
    {
      "cell_type": "code",
      "metadata": {
        "id": "1PqzoftmpaVB"
      },
      "source": [
        "class Tanh(Layer):\r\n",
        "  def forward(self,input:Tensor) ->Tensor:\r\n",
        "    #保存tanh輸出以供反向傳播使用\r\n",
        "    self.tanh = tensor_apply(tanh,input)\r\n",
        "    return self.tanh\r\n",
        "  \r\n",
        "  def backward(self,gradient:Tensor) ->Tensor:\r\n",
        "    return tensor_combine(lambda tanh,grad:(1-tanh**2)*grad,\r\n",
        "                self.tanh,\r\n",
        "                gradient)"
      ],
      "execution_count": null,
      "outputs": []
    },
    {
      "cell_type": "markdown",
      "metadata": {
        "id": "P2XevIb4zRNV"
      },
      "source": [
        "## Relu函數"
      ]
    },
    {
      "cell_type": "code",
      "metadata": {
        "id": "AYVccZHQzVWv"
      },
      "source": [
        "class Relu(Layer):\r\n",
        "  def forward(self,input:Tensor)->Tensor:\r\n",
        "    self.input = input\r\n",
        "    return tensor_apply(lambda x:max(x,0),input)\r\n",
        "  \r\n",
        "  def backward(self,gradient:Tensor)->Tensor:\r\n",
        "    return tensor_combine(lambda x,grad:grad if x >0 else 0, self.input,gradient)"
      ],
      "execution_count": null,
      "outputs": []
    },
    {
      "cell_type": "markdown",
      "metadata": {
        "id": "aOcHTbFtU1UQ"
      },
      "source": [
        "# **範例**：FizzBuzz 再次嘗試"
      ]
    },
    {
      "cell_type": "code",
      "metadata": {
        "id": "AR6KOXHsU-OG"
      },
      "source": [
        "#引入上一章建立的函式\r\n",
        "def binary_encode(x:int)->Vector:\r\n",
        "  binary:List[float] = []\r\n",
        "\r\n",
        "  for i in range(10):\r\n",
        "    binary.append(x%2)\r\n",
        "    x = x // 2\r\n",
        "  \r\n",
        "  return binary\r\n",
        "\r\n",
        "\r\n",
        "def fizz_buzz_encode(x:int)->Vector:\r\n",
        "  if x%15 == 0 :\r\n",
        "    return [0,0,0,1]\r\n",
        "  if x%5 == 0 :\r\n",
        "    return [0,0,1,0]\r\n",
        "  if x%3 == 0 :\r\n",
        "    return [0,1,0,0]\r\n",
        "  else:\r\n",
        "    return [1,0,0,0]\r\n",
        "\r\n",
        "def argmax(xs:list) ->int:\r\n",
        "  \"\"\"送回最大值相應的索引值\"\"\"\r\n",
        "  return max(range(len(xs)), key = lambda i:xs[i])"
      ],
      "execution_count": null,
      "outputs": []
    },
    {
      "cell_type": "code",
      "metadata": {
        "id": "noftsRFX21V8"
      },
      "source": [
        "xs = [binary_encode(n) for n in range(101,1024)]\r\n",
        "ys = [fizz_buzz_encode(n) for n in range(101,1024)] "
      ],
      "execution_count": null,
      "outputs": []
    },
    {
      "cell_type": "markdown",
      "metadata": {
        "id": "OdSaH3623GuW"
      },
      "source": [
        "建立網路"
      ]
    },
    {
      "cell_type": "code",
      "metadata": {
        "id": "15kq5Z-33FDI"
      },
      "source": [
        "NUM_HIDDEN = 25\r\n",
        "\r\n",
        "random.seed(0)\r\n",
        "\r\n",
        "net = Sequential([\r\n",
        "    Linear(input_dim=10,output_dim=NUM_HIDDEN,init='uniform'),\r\n",
        "    Tanh(),\r\n",
        "    Linear(input_dim=NUM_HIDDEN,output_dim=4,init='uniform'),\r\n",
        "    Sigmoid()\r\n",
        "])"
      ],
      "execution_count": null,
      "outputs": []
    },
    {
      "cell_type": "markdown",
      "metadata": {
        "id": "1h96fgFo5AdG"
      },
      "source": [
        "進行訓練時，我們須同時追蹤訓練組資料的正確率變化："
      ]
    },
    {
      "cell_type": "code",
      "metadata": {
        "id": "Gpni_PbE5H2H"
      },
      "source": [
        "def fizzbuzz_accuracy(low:int,hi:int,net:Layer)->float:\r\n",
        "  num_correct = 0\r\n",
        "  for n in range(low,hi):\r\n",
        "    x = binary_encode(n)\r\n",
        "    predicted = argmax(net.forward(x))\r\n",
        "    actual = argmax(fizz_buzz_encode(n))\r\n",
        "\r\n",
        "    if predicted == actual:\r\n",
        "      num_correct += 1\r\n",
        "    \r\n",
        "  return num_correct/(hi-low)"
      ],
      "execution_count": null,
      "outputs": []
    },
    {
      "cell_type": "code",
      "metadata": {
        "colab": {
          "base_uri": "https://localhost:8080/"
        },
        "id": "7c-yXTie50FI",
        "outputId": "e4c9ac97-a728-41fe-e8c3-a8581e5b8231"
      },
      "source": [
        "optimizer = Momentum(learning_rate=0.1,momentum=0.9)\r\n",
        "loss = SSE()\r\n",
        "\r\n",
        "with tqdm.trange(1000) as t:\r\n",
        "  for epoch in t:\r\n",
        "\r\n",
        "    epoch_loss = 0.0\r\n",
        "\r\n",
        "    for x,y in zip(xs,ys):\r\n",
        "      predicted = net.forward(x)\r\n",
        "      epoch_loss += loss.loss(predicted,y)\r\n",
        "      gradient = loss.gradient(predicted,y)\r\n",
        "      net.backward(gradient)\r\n",
        "\r\n",
        "      optimizer.step(net)\r\n",
        "    \r\n",
        "    accuracy = fizzbuzz_accuracy(101,1024,net)\r\n",
        "    t.set_description(f\"fb loss:{epoch_loss:.2f} acc:{accuracy:.2f}\")\r\n",
        "\r\n",
        "#將測試組資料的結果列印出來\r\n",
        "print()\r\n",
        "print(\"test results\",fizzbuzz_accuracy(1,101,net))"
      ],
      "execution_count": null,
      "outputs": [
        {
          "output_type": "stream",
          "text": [
            "fb loss:64.54 acc:0.95: 100%|██████████| 1000/1000 [08:32<00:00,  1.95it/s]"
          ],
          "name": "stderr"
        },
        {
          "output_type": "stream",
          "text": [
            "\n",
            "test results 0.9\n"
          ],
          "name": "stdout"
        },
        {
          "output_type": "stream",
          "text": [
            "\n"
          ],
          "name": "stderr"
        }
      ]
    },
    {
      "cell_type": "markdown",
      "metadata": {
        "id": "rh__l6Z56xti"
      },
      "source": [
        "經過1000次的迭代訓練後，該模型可以在測試組資料上獲得90%以上的正確率。"
      ]
    },
    {
      "cell_type": "markdown",
      "metadata": {
        "id": "GH64QUuLU-cM"
      },
      "source": [
        "# Softmax與交叉熵"
      ]
    },
    {
      "cell_type": "markdown",
      "metadata": {
        "id": "8r3FmtJoynH2"
      },
      "source": [
        "## Softmax 函數\r\n",
        "為了使輸出類別分類時能**以機率來表示可能性**，會採用softmax函數。\r\n",
        "該函數會將數值向量轉換成機率值向量。  \r\n",
        "1. 計算出向量中每個數值的exp(x)\r\n",
        "2. 把每個正值除以所有值的總和 (即 **機率向量** )"
      ]
    },
    {
      "cell_type": "code",
      "metadata": {
        "id": "KT_MJ-jjVLRb"
      },
      "source": [
        "def softmax(tensor:Tensor) -> Tensor:\r\n",
        "  \"\"\"沿著最後一個維度，進行Softmax計算\"\"\"\r\n",
        "  if is_1d(tensor):\r\n",
        "    #考慮數值穩定性，先減去最大值\r\n",
        "    largest = max(tensor)\r\n",
        "    exps = [math.exp( x - largest ) for x in tensor]\r\n",
        "\r\n",
        "    sum_of_steps = sum(exps)\r\n",
        "    return [exp_i / sum_of_steps for exp_i in exps]\r\n",
        "  \r\n",
        "  else:\r\n",
        "    return [softmax(tensor_i) for tensor_i in tensor]"
      ],
      "execution_count": null,
      "outputs": []
    },
    {
      "cell_type": "markdown",
      "metadata": {
        "id": "n4GOvas62F75"
      },
      "source": [
        "## 交叉熵 (Cross - entropy)\r\n",
        "代表觀測資料的負對數可能性\r\n",
        "  \r\n",
        "如果最小化這個損失，即最大化訓練資料的對數可能性"
      ]
    },
    {
      "cell_type": "code",
      "metadata": {
        "id": "ogKf3P0Q2tlQ"
      },
      "source": [
        "class SoftmaxCrossEntropy(Loss):\r\n",
        "  \"\"\"\r\n",
        "  這就是在給定神經網路模型的情形下，觀察值的負對數可能性。\r\n",
        "  因此，選擇的權重值若能最小化負對數可能性，\r\n",
        "  也就相當於最大化觀測資料的可能性。\r\n",
        "  \"\"\"\r\n",
        "  def loss(self,predicted:Tensor,actual:Tensor)->float:\r\n",
        "    # 套用softmax取得機率值\r\n",
        "    probabilities = softmax(predicted)\r\n",
        "\r\n",
        "    # 如果是正確的分類i，其值就是log p_i 其他對應類別則為零\r\n",
        "    # 我們會幫p加上一個黑小的值，避免出現log(0)的情況\r\n",
        "    likelihoods = tensor_combine(lambda p, act: math.log(p + 1e-30) * act,\r\n",
        "                                    probabilities,\r\n",
        "                                    actual)\r\n",
        "\r\n",
        "    # 接著全部加總起來，再取負值\r\n",
        "    return -tensor_sum(likelihoods)\r\n",
        "  \r\n",
        "  def gradient(self,predicted:Tensor,actual:Tensor)->Tensor:\r\n",
        "    probabilities = softmax(predicted)\r\n",
        "\r\n",
        "    return tensor_combine(lambda p,actual:p-actual,\r\n",
        "                        probabilities,\r\n",
        "                        actual)"
      ],
      "execution_count": null,
      "outputs": []
    },
    {
      "cell_type": "markdown",
      "metadata": {
        "id": "EeQacN4K56ao"
      },
      "source": [
        "### 利用SoftmaxCrossEntropy進行嘗試"
      ]
    },
    {
      "cell_type": "code",
      "metadata": {
        "colab": {
          "base_uri": "https://localhost:8080/"
        },
        "id": "i5LBNvsz6A4I",
        "outputId": "11ab505c-bcd2-423a-8524-d25b4b08a3ae"
      },
      "source": [
        "xs = [binary_encode(n) for n in range(101,1024)]\r\n",
        "ys = [fizz_buzz_encode(n) for n in range(101,1024)] \r\n",
        "\r\n",
        "random.seed(0)\r\n",
        "\r\n",
        "NUM_HIDDEN=25\r\n",
        "\r\n",
        "net = Sequential([\r\n",
        "    Linear(input_dim=10,output_dim=NUM_HIDDEN,init='uniform'),\r\n",
        "    Tanh(),\r\n",
        "    Linear(input_dim=NUM_HIDDEN,output_dim=4,init='uniform')\r\n",
        "    #現在最後面不是Sigmoid層了\r\n",
        "])\r\n",
        "\r\n",
        "\r\n",
        "optimizer = Momentum(learning_rate=0.1,momentum=0.9)\r\n",
        "loss = SoftmaxCrossEntropy()\r\n",
        "\r\n",
        "with tqdm.trange(100) as t:\r\n",
        "  for epoch in t:\r\n",
        "    epoch_loss = 0.0\r\n",
        "\r\n",
        "    for x,y in zip(xs,ys):\r\n",
        "      predicted = net.forward(x)\r\n",
        "      epoch_loss += loss.loss(predicted,y)\r\n",
        "      gradient = loss.gradient(predicted,y)\r\n",
        "      net.backward(gradient)\r\n",
        "\r\n",
        "      optimizer.step(net)\r\n",
        "    \r\n",
        "    accuracy = fizzbuzz_accuracy(101,1024,net)\r\n",
        "    t.set_description(f\"fb loss:{epoch_loss:.2f} acc:{accuracy:.2f}\")\r\n",
        "\r\n",
        "#將測試組資料的結果列印出來\r\n",
        "print()\r\n",
        "print(\"test results\",fizzbuzz_accuracy(1,101,net))"
      ],
      "execution_count": null,
      "outputs": [
        {
          "output_type": "stream",
          "text": [
            "fb loss:6.12 acc:1.00: 100%|██████████| 100/100 [00:50<00:00,  1.99it/s]"
          ],
          "name": "stderr"
        },
        {
          "output_type": "stream",
          "text": [
            "\n",
            "test results 0.97\n"
          ],
          "name": "stdout"
        },
        {
          "output_type": "stream",
          "text": [
            "\n"
          ],
          "name": "stderr"
        }
      ]
    },
    {
      "cell_type": "markdown",
      "metadata": {
        "id": "Jwm6kqFKagHX"
      },
      "source": [
        "改用SoftmaxCrossEntropy來訓練神經網路，訓練時間能更短且較容易找到結果對應的權重值。"
      ]
    },
    {
      "cell_type": "markdown",
      "metadata": {
        "id": "4f6CQrGMVGbu"
      },
      "source": [
        "# Dropout 隨機拋棄\r\n",
        "用來防止神經網路出現**過擬和**的情形  \r\n",
        "* 在訓練階段，每個神經元會依據特定機率隨機關閉→神經網路在學習時不能太過依賴單一神經元\r\n",
        "* 在訓練階段則盡量使用到所有神經元 → **Dropout曾必須知道是否處於訓練階段**"
      ]
    },
    {
      "cell_type": "code",
      "metadata": {
        "id": "7dIIcHKXVLxK"
      },
      "source": [
        "class Dropout(Layer):\r\n",
        "  def __init__(self,p:float) ->None:\r\n",
        "    self.p = p\r\n",
        "    self.train = True\r\n",
        "  \r\n",
        "  def forward(self,input:Tensor) ->Tensor:\r\n",
        "    if self.train:\r\n",
        "      # 根據所輸入的機率值，建立一個由0和1組成的遮罩向量 (即建立是否開關要神經元的陣列資料)\r\n",
        "      # 其形狀與輸入相同\r\n",
        "      self.mask = tensor_apply(\r\n",
        "        lambda _ : 0 if random.random() < self.p else 1,\r\n",
        "        input\r\n",
        "      )\r\n",
        "  def backward(self,gradient:Tensor)->Tensor:\r\n",
        "    if self.train:\r\n",
        "      # 只需傳遞 mask == 1 相應位置的梯度\r\n",
        "      return tensor_combine(operator.nul,gradient,self.mask)\r\n",
        "    \r\n",
        "    else:\r\n",
        "      raise RuntimeError(\"don't call backeard when not in train mode\")"
      ],
      "execution_count": null,
      "outputs": []
    },
    {
      "cell_type": "markdown",
      "metadata": {
        "id": "1f84htktVNAg"
      },
      "source": [
        "# 範例：[MNIST](https://yann.lecun.com/exdb/mnist)\r\n",
        "這是一個包含許多手寫數字的資料集  \r\n",
        "由於這個資料即是相對棘手的二元格式，需要額外的函式庫來幫助\r\n",
        "\r\n"
      ]
    },
    {
      "cell_type": "code",
      "metadata": {
        "colab": {
          "base_uri": "https://localhost:8080/"
        },
        "id": "ZjoWqpPahIdN",
        "outputId": "7403650c-4f28-4abc-ebbf-f8a068fcc52a"
      },
      "source": [
        "!pip install mnist"
      ],
      "execution_count": null,
      "outputs": [
        {
          "output_type": "stream",
          "text": [
            "Requirement already satisfied: mnist in /usr/local/lib/python3.6/dist-packages (0.2.2)\n",
            "Requirement already satisfied: numpy in /usr/local/lib/python3.6/dist-packages (from mnist) (1.19.4)\n"
          ],
          "name": "stdout"
        }
      ]
    },
    {
      "cell_type": "markdown",
      "metadata": {
        "id": "lnZRLFqQoJmN"
      },
      "source": [
        "## 載入訓練圖片"
      ]
    },
    {
      "cell_type": "code",
      "metadata": {
        "id": "F2lx5MJOVPmz"
      },
      "source": [
        "import mnist\r\n",
        "\r\n",
        "# 下載資料\r\n",
        "mnist.temporary = lambda:'/content/sample_data/'\r\n",
        "\r\n",
        "# 以下幾個函式都會先下載資料，並送回一個numpy陣列\r\n",
        "# 之所以調用 .tolist()是因為我們宣告的「張量」實際上是列表\r\n",
        "train_images = mnist.train_images().tolist()\r\n",
        "train_labels = mnist.train_labels().tolist()\r\n",
        "\r\n",
        "assert shape(train_images) == [60000,28,28]\r\n",
        "assert shape(train_labels) == [60000]"
      ],
      "execution_count": null,
      "outputs": []
    },
    {
      "cell_type": "markdown",
      "metadata": {
        "id": "YK68Dhbyhm2v"
      },
      "source": [
        "將前100個訓練圖片提取出來"
      ]
    },
    {
      "cell_type": "markdown",
      "metadata": {
        "id": "eOr7PwfPhu1n"
      },
      "source": [
        "### 圖 19-1 MNIST圖片"
      ]
    },
    {
      "cell_type": "code",
      "metadata": {
        "colab": {
          "base_uri": "https://localhost:8080/",
          "height": 252
        },
        "id": "uhZCvKgWhydz",
        "outputId": "1752e9d8-4e00-4f0c-955a-e4b4c3bf3923"
      },
      "source": [
        "import matplotlib.pyplot as plt\r\n",
        "\r\n",
        "fig,ax = plt.subplots(10,10) # 建立內含10*10子圖的圖片\r\n",
        "\r\n",
        "for i in range(10):\r\n",
        "  for j in range(10):\r\n",
        "    # 以黑白格式畫出每張圖片，並隱藏軸線\r\n",
        "    ax[i][j].imshow(train_images[10*i+j],cmap=\"Greys\")\r\n",
        "    ax[i][j].xaxis.set_visible(False)\r\n",
        "    ax[i][j].yaxis.set_visible(False)\r\n",
        "\r\n",
        "plt.show()"
      ],
      "execution_count": null,
      "outputs": [
        {
          "output_type": "display_data",
          "data": {
            "image/png": "[encoded data removed]",
            "text/plain": [
              "<Figure size 432x288 with 100 Axes>"
            ]
          },
          "metadata": {
            "tags": [],
            "needs_background": "light"
          }
        }
      ]
    },
    {
      "cell_type": "markdown",
      "metadata": {
        "id": "dp33xnlioFuz"
      },
      "source": [
        "## 載入測試圖片"
      ]
    },
    {
      "cell_type": "code",
      "metadata": {
        "id": "CtovNAKxoORq"
      },
      "source": [
        "test_images = mnist.test_images().tolist()\r\n",
        "test_labels = mnist.test_labels().tolist()\r\n",
        "\r\n",
        "assert shape(test_images) == [10000,28,28]\r\n",
        "assert shape(test_labels) == [10000]"
      ],
      "execution_count": null,
      "outputs": []
    },
    {
      "cell_type": "markdown",
      "metadata": {
        "id": "7hIpSdndogdO"
      },
      "source": [
        "## 資料預處理\r\n",
        "每張圖片都是 28x28 像素，，但我們的線性曾只能處理一維輸入。  \r\n",
        "故要先在進行訓練前進行以下操作：\r\n",
        "1. 將輸入資料**展平**\r\n",
        "2. 再減去平均值 (使訓練效果更好)\r\n"
      ]
    },
    {
      "cell_type": "code",
      "metadata": {
        "id": "yRTUl9cWpLLm"
      },
      "source": [
        "# 計算像素平均值\r\n",
        "avg = tensor_sum(train_images) / 60000 / 28 / 28\r\n",
        "\r\n",
        "#重新調整數據的中心與尺度比對\r\n",
        "train_images = [[(pixel - avg)/256 for row in image for pixel in row] for image in train_images]\r\n",
        "test_images = [[(pixel - avg)/256 for row in image for pixel in row] for image in test_images]\r\n",
        "\r\n",
        "assert shape(train_images) == [60000,784],\"圖片應該要先展平\"\r\n",
        "assert shape(test_images) == [10000,784],\"圖片應該要先展平\""
      ],
      "execution_count": null,
      "outputs": []
    },
    {
      "cell_type": "markdown",
      "metadata": {
        "id": "Vjzpq_zytPwZ"
      },
      "source": [
        "調整後，像素的平均值中心應該會很靠近0"
      ]
    },
    {
      "cell_type": "code",
      "metadata": {
        "id": "ZQSo-0pTtP7_"
      },
      "source": [
        "assert -0.0001 < tensor_sum(train_images) < 0.0001"
      ],
      "execution_count": null,
      "outputs": []
    },
    {
      "cell_type": "markdown",
      "metadata": {
        "id": "QzUQbu-DtfQa"
      },
      "source": [
        "## 使用 One-hot編碼的形式表示輸出結果"
      ]
    },
    {
      "cell_type": "code",
      "metadata": {
        "id": "wTLcUDfmtlYq"
      },
      "source": [
        "def one_hot_encode(i:int,num_labels:int=10)->List[float]:\r\n",
        "  return [1.0 if j==i else 0.0 for j in range(num_labels)]"
      ],
      "execution_count": null,
      "outputs": []
    },
    {
      "cell_type": "code",
      "metadata": {
        "id": "ER6NSk1kt2yt"
      },
      "source": [
        "assert one_hot_encode(3) == [0,0,0,1,0,0,0,0,0,0]\r\n",
        "assert one_hot_encode(2,num_labels=5) == [0,0,1,0,0]"
      ],
      "execution_count": null,
      "outputs": []
    },
    {
      "cell_type": "markdown",
      "metadata": {
        "id": "EKsnuNsEybD7"
      },
      "source": [
        "套用到我們的資料上"
      ]
    },
    {
      "cell_type": "code",
      "metadata": {
        "id": "rbpjieQZydVq"
      },
      "source": [
        "train_labels = [one_hot_encode(label) for label in train_labels]\r\n",
        "test_labels = [one_hot_encode(label) for label in test_labels]\r\n",
        "\r\n",
        "assert shape(train_labels) == [60000,10]\r\n",
        "assert shape(test_labels) == [10000,10]"
      ],
      "execution_count": null,
      "outputs": []
    },
    {
      "cell_type": "markdown",
      "metadata": {
        "id": "C2DKRch8uoQl"
      },
      "source": [
        "## 建立將輸入物件進行訓練的函式"
      ]
    },
    {
      "cell_type": "code",
      "metadata": {
        "id": "pOGEH4J1uqSe"
      },
      "source": [
        "import tqdm\r\n",
        "\r\n",
        "def loop(model:Layer,\r\n",
        "     images:List[Tensor],\r\n",
        "     labels:List[Tensor],\r\n",
        "     loss:Loss,\r\n",
        "     optimizer:Optimizer = None) ->None:\r\n",
        "  \r\n",
        "  correct = 0 #追蹤正確預測的數量\r\n",
        "  total_loss = 0.0 #追蹤總損失值\r\n",
        "\r\n",
        "  with tqdm.trange(len(images)) as t:\r\n",
        "    for i in t:\r\n",
        "      prediected = model.forward(images[i])    # 進行預測\r\n",
        "      if argmax(predicted) == argmax(labels[i]): \r\n",
        "        correct += 1               # 若預測正確，則正確次數+1\r\n",
        "      total_loss += loss.loss(predicted,labels[i]) # 計算相對損失\r\n",
        "    \r\n",
        "      # 若正在進行訓練，則反向傳播梯度值並更新權重值\r\n",
        "      if optimizer is not None:\r\n",
        "        gradient = loss.gradient(predicted,labels[i])\r\n",
        "        model.backward(gradient)\r\n",
        "        optimizer.step(normal)\r\n",
        "      \r\n",
        "      # 接著，更新進度條中的相關數值\r\n",
        "      avg_loss = total_loss / (i+1)\r\n",
        "      acc = correct / (i+1)\r\n",
        "      t.set_description(f\"mnist loss : {avg_loss:.3f} acc : {acc:.3f}\")\r\n"
      ],
      "execution_count": null,
      "outputs": []
    },
    {
      "cell_type": "markdown",
      "metadata": {
        "id": "GY8k7BQOwjbt"
      },
      "source": [
        "在圖像辨識的模型中，本質上就是在查找10個線性函數。  \r\n",
        "舉例來說，若輸入是5→第五個線性函數就會產生最大的輸出"
      ]
    },
    {
      "cell_type": "markdown",
      "metadata": {
        "id": "iPgPdeoOAar7"
      },
      "source": [
        "### 邏輯迴歸\r\n",
        "一個線性層 + 一個SoftMax函數"
      ]
    },
    {
      "cell_type": "code",
      "metadata": {
        "colab": {
          "base_uri": "https://localhost:8080/",
          "height": 389
        },
        "id": "z9INCT2ExGpJ",
        "outputId": "361326c3-5133-4648-d2cd-a98f1abed875"
      },
      "source": [
        "random.seed(0)\r\n",
        "\r\n",
        "model = Linear(784,10) # 邏輯迴歸\r\n",
        "loss = SoftmaxCrossEntropy()\r\n",
        "\r\n",
        "optimizer = Momentum(learning_rate=0.01,momentum=0.99)\r\n",
        "\r\n",
        "#針對訓練資料進行訓練\r\n",
        "loop(model,train_images,train_labels,loss,optimizer)\r\n",
        "\r\n",
        "#針對測試資料進行測試(無提供optimizer代表要進行評估)\r\n",
        "loop(model,test_images,test_labels,loss)"
      ],
      "execution_count": null,
      "outputs": [
        {
          "output_type": "stream",
          "text": [
            "  0%|          | 0/60000 [00:00<?, ?it/s]\n"
          ],
          "name": "stderr"
        },
        {
          "output_type": "error",
          "ename": "IndexError",
          "evalue": "ignored",
          "traceback": [
            "\u001b[0;31m---------------------------------------------------------------------------\u001b[0m",
            "\u001b[0;31mIndexError\u001b[0m                                Traceback (most recent call last)",
            "\u001b[0;32m<ipython-input-80-da07b0341c54>\u001b[0m in \u001b[0;36m<module>\u001b[0;34m()\u001b[0m\n\u001b[1;32m      7\u001b[0m \u001b[0;34m\u001b[0m\u001b[0m\n\u001b[1;32m      8\u001b[0m \u001b[0;31m#針對訓練資料進行訓練\u001b[0m\u001b[0;34m\u001b[0m\u001b[0;34m\u001b[0m\u001b[0;34m\u001b[0m\u001b[0m\n\u001b[0;32m----> 9\u001b[0;31m \u001b[0mloop\u001b[0m\u001b[0;34m(\u001b[0m\u001b[0mmodel\u001b[0m\u001b[0;34m,\u001b[0m\u001b[0mtrain_images\u001b[0m\u001b[0;34m,\u001b[0m\u001b[0mtrain_labels\u001b[0m\u001b[0;34m,\u001b[0m\u001b[0mloss\u001b[0m\u001b[0;34m,\u001b[0m\u001b[0moptimizer\u001b[0m\u001b[0;34m)\u001b[0m\u001b[0;34m\u001b[0m\u001b[0;34m\u001b[0m\u001b[0m\n\u001b[0m\u001b[1;32m     10\u001b[0m \u001b[0;34m\u001b[0m\u001b[0m\n\u001b[1;32m     11\u001b[0m \u001b[0;31m#針對測試資料進行測試(無提供optimizer代表要進行評估)\u001b[0m\u001b[0;34m\u001b[0m\u001b[0;34m\u001b[0m\u001b[0;34m\u001b[0m\u001b[0m\n",
            "\u001b[0;32m<ipython-input-61-f0311a03ae8f>\u001b[0m in \u001b[0;36mloop\u001b[0;34m(model, images, labels, loss, optimizer)\u001b[0m\n\u001b[1;32m     20\u001b[0m       \u001b[0;32mif\u001b[0m \u001b[0moptimizer\u001b[0m \u001b[0;32mis\u001b[0m \u001b[0;32mnot\u001b[0m \u001b[0;32mNone\u001b[0m\u001b[0;34m:\u001b[0m\u001b[0;34m\u001b[0m\u001b[0;34m\u001b[0m\u001b[0m\n\u001b[1;32m     21\u001b[0m         \u001b[0mgradient\u001b[0m \u001b[0;34m=\u001b[0m \u001b[0mloss\u001b[0m\u001b[0;34m.\u001b[0m\u001b[0mgradient\u001b[0m\u001b[0;34m(\u001b[0m\u001b[0mpredicted\u001b[0m\u001b[0;34m,\u001b[0m\u001b[0mlabels\u001b[0m\u001b[0;34m[\u001b[0m\u001b[0mi\u001b[0m\u001b[0;34m]\u001b[0m\u001b[0;34m)\u001b[0m\u001b[0;34m\u001b[0m\u001b[0;34m\u001b[0m\u001b[0m\n\u001b[0;32m---> 22\u001b[0;31m         \u001b[0mmodel\u001b[0m\u001b[0;34m.\u001b[0m\u001b[0mbackward\u001b[0m\u001b[0;34m(\u001b[0m\u001b[0mgradient\u001b[0m\u001b[0;34m)\u001b[0m\u001b[0;34m\u001b[0m\u001b[0;34m\u001b[0m\u001b[0m\n\u001b[0m\u001b[1;32m     23\u001b[0m         \u001b[0moptimizer\u001b[0m\u001b[0;34m.\u001b[0m\u001b[0mstep\u001b[0m\u001b[0;34m(\u001b[0m\u001b[0mnormal\u001b[0m\u001b[0;34m)\u001b[0m\u001b[0;34m\u001b[0m\u001b[0;34m\u001b[0m\u001b[0m\n\u001b[1;32m     24\u001b[0m \u001b[0;34m\u001b[0m\u001b[0m\n",
            "\u001b[0;32m<ipython-input-27-4b641ac13730>\u001b[0m in \u001b[0;36mbackward\u001b[0;34m(self, gradient)\u001b[0m\n\u001b[1;32m     30\u001b[0m         self.w_grad = [[self.input[i] * gradient[o]\n\u001b[1;32m     31\u001b[0m                         for i in range(self.input_dim)]\n\u001b[0;32m---> 32\u001b[0;31m                         for o in range(self.output_dim)]\n\u001b[0m\u001b[1;32m     33\u001b[0m \u001b[0;34m\u001b[0m\u001b[0m\n\u001b[1;32m     34\u001b[0m         \u001b[0;31m# 每個input[i]都會與每個w[o][i]相乘，再加到每個output[o]之中\u001b[0m\u001b[0;34m\u001b[0m\u001b[0;34m\u001b[0m\u001b[0;34m\u001b[0m\u001b[0m\n",
            "\u001b[0;32m<ipython-input-27-4b641ac13730>\u001b[0m in \u001b[0;36m<listcomp>\u001b[0;34m(.0)\u001b[0m\n\u001b[1;32m     30\u001b[0m         self.w_grad = [[self.input[i] * gradient[o]\n\u001b[1;32m     31\u001b[0m                         for i in range(self.input_dim)]\n\u001b[0;32m---> 32\u001b[0;31m                         for o in range(self.output_dim)]\n\u001b[0m\u001b[1;32m     33\u001b[0m \u001b[0;34m\u001b[0m\u001b[0m\n\u001b[1;32m     34\u001b[0m         \u001b[0;31m# 每個input[i]都會與每個w[o][i]相乘，再加到每個output[o]之中\u001b[0m\u001b[0;34m\u001b[0m\u001b[0;34m\u001b[0m\u001b[0;34m\u001b[0m\u001b[0m\n",
            "\u001b[0;32m<ipython-input-27-4b641ac13730>\u001b[0m in \u001b[0;36m<listcomp>\u001b[0;34m(.0)\u001b[0m\n\u001b[1;32m     29\u001b[0m         \u001b[0;31m# 因此梯度是 input[i]*gradient[o]\u001b[0m\u001b[0;34m\u001b[0m\u001b[0;34m\u001b[0m\u001b[0;34m\u001b[0m\u001b[0m\n\u001b[1;32m     30\u001b[0m         self.w_grad = [[self.input[i] * gradient[o]\n\u001b[0;32m---> 31\u001b[0;31m                         for i in range(self.input_dim)]\n\u001b[0m\u001b[1;32m     32\u001b[0m                         for o in range(self.output_dim)]\n\u001b[1;32m     33\u001b[0m \u001b[0;34m\u001b[0m\u001b[0m\n",
            "\u001b[0;31mIndexError\u001b[0m: list index out of range"
          ]
        }
      ]
    },
    {
      "cell_type": "markdown",
      "metadata": {
        "id": "M7bLL25ut5hh"
      },
      "source": [
        "### 改造為深度學習神經網路\r\n",
        "兩個隱藏層  \r\n",
        "* 第一層：30個神經元\r\n",
        "* 第二層：10個神經元  \r\n",
        "並採用Tanh激活函數"
      ]
    },
    {
      "cell_type": "code",
      "metadata": {
        "id": "lSkctFs4t92j"
      },
      "source": [
        "random.seed(0)\r\n",
        "\r\n",
        "# 取個名字以便在訓練時啟用或關閉\r\n",
        "dropout1 = Dropout(0.1)\r\n",
        "dropout2 = Dropout(0.1)\r\n",
        "\r\n",
        "model = Sequential([\r\n",
        "  Linear(784,30), # 隱藏層1：大小為10\r\n",
        "  dropout1,\r\n",
        "  Tanh(),\r\n",
        "  Linear(30,10), # 隱藏層2：大小為10\r\n",
        "  dropout2,\r\n",
        "  Tanh(),\r\n",
        "  Linear(10,10) # 輸出層：大小為10\r\n",
        "])"
      ],
      "execution_count": null,
      "outputs": []
    },
    {
      "cell_type": "code",
      "metadata": {
        "id": "dk4e6zD9uwt5",
        "colab": {
          "base_uri": "https://localhost:8080/",
          "height": 389
        },
        "outputId": "c2e66eb7-d487-461e-d27c-6cfa1387e7bf"
      },
      "source": [
        "optimizer = Momentum(learning_rate=0.01,momentum=0.99)\r\n",
        "loss = SoftmaxCrossEntropy()\r\n",
        "\r\n",
        "#針對訓練資料進行訓練\r\n",
        "dropout1.train = dropout2.train = True\r\n",
        "loop(model,train_images,train_labels,loss,optimizer)\r\n",
        "\r\n",
        "#針對測試資料進行測試(無提供optimizer代表要進行評估)\r\n",
        "dropout1.train = dropout2.train = False\r\n",
        "loop(model,train_images,train_labels,loss)"
      ],
      "execution_count": null,
      "outputs": [
        {
          "output_type": "stream",
          "text": [
            "  0%|          | 0/60000 [00:00<?, ?it/s]\n"
          ],
          "name": "stderr"
        },
        {
          "output_type": "error",
          "ename": "IndexError",
          "evalue": "ignored",
          "traceback": [
            "\u001b[0;31m---------------------------------------------------------------------------\u001b[0m",
            "\u001b[0;31mIndexError\u001b[0m                                Traceback (most recent call last)",
            "\u001b[0;32m<ipython-input-76-07a58f7ba334>\u001b[0m in \u001b[0;36m<module>\u001b[0;34m()\u001b[0m\n\u001b[1;32m      4\u001b[0m \u001b[0;31m#針對訓練資料進行訓練\u001b[0m\u001b[0;34m\u001b[0m\u001b[0;34m\u001b[0m\u001b[0;34m\u001b[0m\u001b[0m\n\u001b[1;32m      5\u001b[0m \u001b[0mdropout1\u001b[0m\u001b[0;34m.\u001b[0m\u001b[0mtrain\u001b[0m \u001b[0;34m=\u001b[0m \u001b[0mdropout2\u001b[0m\u001b[0;34m.\u001b[0m\u001b[0mtrain\u001b[0m \u001b[0;34m=\u001b[0m \u001b[0;32mTrue\u001b[0m\u001b[0;34m\u001b[0m\u001b[0;34m\u001b[0m\u001b[0m\n\u001b[0;32m----> 6\u001b[0;31m \u001b[0mloop\u001b[0m\u001b[0;34m(\u001b[0m\u001b[0mmodel\u001b[0m\u001b[0;34m,\u001b[0m\u001b[0mtrain_images\u001b[0m\u001b[0;34m,\u001b[0m\u001b[0mtrain_labels\u001b[0m\u001b[0;34m,\u001b[0m\u001b[0mloss\u001b[0m\u001b[0;34m,\u001b[0m\u001b[0moptimizer\u001b[0m\u001b[0;34m)\u001b[0m\u001b[0;34m\u001b[0m\u001b[0;34m\u001b[0m\u001b[0m\n\u001b[0m\u001b[1;32m      7\u001b[0m \u001b[0;34m\u001b[0m\u001b[0m\n\u001b[1;32m      8\u001b[0m \u001b[0;31m#針對測試資料進行測試(無提供optimizer代表要進行評估)\u001b[0m\u001b[0;34m\u001b[0m\u001b[0;34m\u001b[0m\u001b[0;34m\u001b[0m\u001b[0m\n",
            "\u001b[0;32m<ipython-input-61-f0311a03ae8f>\u001b[0m in \u001b[0;36mloop\u001b[0;34m(model, images, labels, loss, optimizer)\u001b[0m\n\u001b[1;32m     20\u001b[0m       \u001b[0;32mif\u001b[0m \u001b[0moptimizer\u001b[0m \u001b[0;32mis\u001b[0m \u001b[0;32mnot\u001b[0m \u001b[0;32mNone\u001b[0m\u001b[0;34m:\u001b[0m\u001b[0;34m\u001b[0m\u001b[0;34m\u001b[0m\u001b[0m\n\u001b[1;32m     21\u001b[0m         \u001b[0mgradient\u001b[0m \u001b[0;34m=\u001b[0m \u001b[0mloss\u001b[0m\u001b[0;34m.\u001b[0m\u001b[0mgradient\u001b[0m\u001b[0;34m(\u001b[0m\u001b[0mpredicted\u001b[0m\u001b[0;34m,\u001b[0m\u001b[0mlabels\u001b[0m\u001b[0;34m[\u001b[0m\u001b[0mi\u001b[0m\u001b[0;34m]\u001b[0m\u001b[0;34m)\u001b[0m\u001b[0;34m\u001b[0m\u001b[0;34m\u001b[0m\u001b[0m\n\u001b[0;32m---> 22\u001b[0;31m         \u001b[0mmodel\u001b[0m\u001b[0;34m.\u001b[0m\u001b[0mbackward\u001b[0m\u001b[0;34m(\u001b[0m\u001b[0mgradient\u001b[0m\u001b[0;34m)\u001b[0m\u001b[0;34m\u001b[0m\u001b[0;34m\u001b[0m\u001b[0m\n\u001b[0m\u001b[1;32m     23\u001b[0m         \u001b[0moptimizer\u001b[0m\u001b[0;34m.\u001b[0m\u001b[0mstep\u001b[0m\u001b[0;34m(\u001b[0m\u001b[0mnormal\u001b[0m\u001b[0;34m)\u001b[0m\u001b[0;34m\u001b[0m\u001b[0;34m\u001b[0m\u001b[0m\n\u001b[1;32m     24\u001b[0m \u001b[0;34m\u001b[0m\u001b[0m\n",
            "\u001b[0;32m<ipython-input-27-4b641ac13730>\u001b[0m in \u001b[0;36mbackward\u001b[0;34m(self, gradient)\u001b[0m\n\u001b[1;32m     30\u001b[0m         self.w_grad = [[self.input[i] * gradient[o]\n\u001b[1;32m     31\u001b[0m                         for i in range(self.input_dim)]\n\u001b[0;32m---> 32\u001b[0;31m                         for o in range(self.output_dim)]\n\u001b[0m\u001b[1;32m     33\u001b[0m \u001b[0;34m\u001b[0m\u001b[0m\n\u001b[1;32m     34\u001b[0m         \u001b[0;31m# 每個input[i]都會與每個w[o][i]相乘，再加到每個output[o]之中\u001b[0m\u001b[0;34m\u001b[0m\u001b[0;34m\u001b[0m\u001b[0;34m\u001b[0m\u001b[0m\n",
            "\u001b[0;32m<ipython-input-27-4b641ac13730>\u001b[0m in \u001b[0;36m<listcomp>\u001b[0;34m(.0)\u001b[0m\n\u001b[1;32m     30\u001b[0m         self.w_grad = [[self.input[i] * gradient[o]\n\u001b[1;32m     31\u001b[0m                         for i in range(self.input_dim)]\n\u001b[0;32m---> 32\u001b[0;31m                         for o in range(self.output_dim)]\n\u001b[0m\u001b[1;32m     33\u001b[0m \u001b[0;34m\u001b[0m\u001b[0m\n\u001b[1;32m     34\u001b[0m         \u001b[0;31m# 每個input[i]都會與每個w[o][i]相乘，再加到每個output[o]之中\u001b[0m\u001b[0;34m\u001b[0m\u001b[0;34m\u001b[0m\u001b[0;34m\u001b[0m\u001b[0m\n",
            "\u001b[0;32m<ipython-input-27-4b641ac13730>\u001b[0m in \u001b[0;36m<listcomp>\u001b[0;34m(.0)\u001b[0m\n\u001b[1;32m     29\u001b[0m         \u001b[0;31m# 因此梯度是 input[i]*gradient[o]\u001b[0m\u001b[0;34m\u001b[0m\u001b[0;34m\u001b[0m\u001b[0;34m\u001b[0m\u001b[0m\n\u001b[1;32m     30\u001b[0m         self.w_grad = [[self.input[i] * gradient[o]\n\u001b[0;32m---> 31\u001b[0;31m                         for i in range(self.input_dim)]\n\u001b[0m\u001b[1;32m     32\u001b[0m                         for o in range(self.output_dim)]\n\u001b[1;32m     33\u001b[0m \u001b[0;34m\u001b[0m\u001b[0m\n",
            "\u001b[0;31mIndexError\u001b[0m: list index out of range"
          ]
        }
      ]
    },
    {
      "cell_type": "markdown",
      "metadata": {
        "id": "NpPdggxWVS5F"
      },
      "source": [
        "# 模型的儲存與載入"
      ]
    },
    {
      "cell_type": "code",
      "metadata": {
        "id": "MxCBiOc9VW6i"
      },
      "source": [
        ""
      ],
      "execution_count": null,
      "outputs": []
    }
  ]
}