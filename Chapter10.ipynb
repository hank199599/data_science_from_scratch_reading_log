{
  "nbformat": 4,
  "nbformat_minor": 0,
  "metadata": {
    "colab": {
      "name": "Chapter10.ipynb",
      "provenance": [],
      "authorship_tag": "ABX9TyMnrdmP/AfblzV2D5qP3QPR",
      "include_colab_link": true
    },
    "kernelspec": {
      "name": "python3",
      "display_name": "Python 3"
    }
  },
  "cells": [
    {
      "cell_type": "markdown",
      "metadata": {
        "id": "view-in-github",
        "colab_type": "text"
      },
      "source": [
        "<a href=\"https://colab.research.google.com/github/hank199599/data_science_from_scratch_reading_log/blob/main/Chapter10.ipynb\" target=\"_parent\"><img src=\"https://colab.research.google.com/assets/colab-badge.svg\" alt=\"Open In Colab\"/></a>"
      ]
    },
    {
      "cell_type": "markdown",
      "metadata": {
        "id": "syER_xgsaY3f"
      },
      "source": [
        "# 一維資料"
      ]
    },
    {
      "cell_type": "code",
      "metadata": {
        "id": "mWyI25qhGPfT"
      },
      "source": [
        "from typing import List,Dict\n",
        "from collections import Counter\n",
        "import math\n",
        "import matplotlib.pyplot as plt\n",
        "\n",
        "def bucketize(point:float,bucket_size:float)->float:\n",
        "  \"\"\"以floor的方式取整數，作為bucket_size的倍數\"\"\"\n",
        "  return bucket_size * math.floor(point/bucket_size)\n",
        "\n",
        "def make_histogram(points:List[float],bucket_size:float)->Dict[float,int]:\n",
        "  \"\"\"針對資料點進行分組，並計算每個分組各有幾個資料點\"\"\"\n",
        "  return Counter(bucketize(point,bucket_size) for point in points)\n",
        "\n",
        "def plot_histogram(points:List[float],bucket_size:float,title:str=\"\"):\n",
        "  histogram = make_histogram(points,bucket_size)\n",
        "  plt.bar(histogram.keys(),histogram.values(),width=bucket_size)\n",
        "  plt.title(title)"
      ],
      "execution_count": 1,
      "outputs": []
    },
    {
      "cell_type": "markdown",
      "metadata": {
        "id": "_pd2nx2lcg8k"
      },
      "source": [
        "考慮以下兩組資料"
      ]
    },
    {
      "cell_type": "code",
      "metadata": {
        "id": "Inb5NOUPckGs"
      },
      "source": [
        "import random\n",
        "\n",
        "def normal_cdf(x:float,mu:float=0,sigma:float=1)->float:\n",
        "  return (1+math.erf((x-mu)/math.sqrt(2)/sigma))/2\n",
        "  \n",
        "def inverse_normal_cdf(p:float,\n",
        "            mu:float = 0,\n",
        "            sigma:float=1,\n",
        "            tolerance:float=0.00001) -> float:\n",
        "  # 如果不是標準常態分佈，就先轉換成標準常態分佈\n",
        "  if mu != 0 or sigma != 1:\n",
        "    return mu + sigma*inverse_normal_cdf(p,tolerance = tolerance)\n",
        "  \n",
        "  low_z = -10.0 # normal_cdf(-10)是(趨近於) 0\n",
        "  hi_z =  10.0 # normal_cdf(10)是(趨近於) 1\n",
        "  while hi_z - low_z > tolerance:  \n",
        "    mid_z = (low_z + hi_z) / 2   # 計算出中間值\n",
        "    mid_p = normal_cdf(mid_z)     # 以及累積分佈函數在該處所應對的值\n",
        "    if mid_p < p :\n",
        "      low_z = mid_z        #中間的值太低，就往上繼續搜尋\n",
        "    else:\n",
        "      hi_z = mid_z        #中間的值太高，就往下繼續搜尋\n",
        "  \n",
        "  return mid_z\n",
        "\n",
        "random.seed(0)\n",
        "\n",
        "#介於-100到100之間的均勻分布\n",
        "uniform= [200* random.random()-100 for _ in range(10000)]\n",
        "\n",
        "\n",
        "#平均值0、標準差57的常態分佈\n",
        "normal= [57* inverse_normal_cdf(random.random()) for _ in range(10000)]"
      ],
      "execution_count": 2,
      "outputs": []
    },
    {
      "cell_type": "markdown",
      "metadata": {
        "id": "-6f2lG8v-Xzx"
      },
      "source": [
        "### 圖10-1 均勻分布的直方圖\n",
        "\n"
      ]
    },
    {
      "cell_type": "code",
      "metadata": {
        "id": "r79z9T1A-jJU",
        "colab": {
          "base_uri": "https://localhost:8080/",
          "height": 281
        },
        "outputId": "be0d0c73-1daf-4613-a1dd-23df5a4d23e0"
      },
      "source": [
        "plot_histogram(uniform,10,\"Unform Histogram\")"
      ],
      "execution_count": 3,
      "outputs": [
        {
          "output_type": "display_data",
          "data": {
            "image/png": "[encoded data removed]",
            "text/plain": [
              "<Figure size 432x288 with 1 Axes>"
            ]
          },
          "metadata": {
            "tags": [],
            "needs_background": "light"
          }
        }
      ]
    },
    {
      "cell_type": "markdown",
      "metadata": {
        "id": "O9dMcS5C-YKf"
      },
      "source": [
        "### 圖10-2 常態分布的直方圖\n"
      ]
    },
    {
      "cell_type": "code",
      "metadata": {
        "id": "_At8IA-h-sU_",
        "colab": {
          "base_uri": "https://localhost:8080/",
          "height": 281
        },
        "outputId": "70881496-24c1-4352-cd89-30ef01c386c9"
      },
      "source": [
        "plot_histogram(normal,10,\"Normal Histogram\")"
      ],
      "execution_count": 4,
      "outputs": [
        {
          "output_type": "display_data",
          "data": {
            "image/png": "[encoded data removed]",
            "text/plain": [
              "<Figure size 432x288 with 1 Axes>"
            ]
          },
          "metadata": {
            "tags": [],
            "needs_background": "light"
          }
        }
      ]
    },
    {
      "cell_type": "markdown",
      "metadata": {
        "id": "A9G6sy7d_lxM"
      },
      "source": [
        "# 二維的資料"
      ]
    },
    {
      "cell_type": "code",
      "metadata": {
        "id": "-u1dyFrO_pcE",
        "colab": {
          "base_uri": "https://localhost:8080/",
          "height": 295
        },
        "outputId": "ca2431d3-5529-44da-a7a6-1607d06dcd24"
      },
      "source": [
        "def random_normal()->float:\n",
        "  \"\"\"送回一個從標準常態分布中隨機選取的是數字\"\"\"\n",
        "  return inverse_normal_cdf(random.random())\n",
        "\n",
        "xs=[random_normal() for _ in range(1000)]\n",
        "ys1 = [x+random_normal()/2 for x in xs]\n",
        "ys2 = [-x+random_normal()/2 for x in xs]\n",
        "\n",
        "plt.scatter(xs,ys1,marker=\".\",color=\"black\",label=\"ys1\")\n",
        "plt.scatter(xs,ys2,marker=\".\",color=\"gray\",label=\"ys2\")\n",
        "plt.xlabel('xs')\n",
        "plt.ylabel('ys')\n",
        "plt.legend(loc=9)\n",
        "plt.title(\"Very Different Joint Distributions\")\n",
        "plt.show()"
      ],
      "execution_count": 5,
      "outputs": [
        {
          "output_type": "display_data",
          "data": {
            "image/png": "[encoded data removed]",
            "text/plain": [
              "<Figure size 432x288 with 1 Axes>"
            ]
          },
          "metadata": {
            "tags": [],
            "needs_background": "light"
          }
        }
      ]
    },
    {
      "cell_type": "markdown",
      "metadata": {
        "id": "LklKiTXL9-7v"
      },
      "source": [
        "使用「第五章 統計學」的函數"
      ]
    },
    {
      "cell_type": "code",
      "metadata": {
        "id": "lJNGvzgNCwse"
      },
      "source": [
        "import math\n",
        "from typing import List\n",
        "Vector = List[float]\n",
        "\n",
        "def dot(v:Vector,w:Vector)->float:\n",
        "  #計算v_1*w_1+... +v_n*w_n\n",
        "  assert len(v)==len(w),\"兩個向量必須有相同的維度\"\n",
        "\n",
        "  return sum(v_i*w_i for v_i,w_i in zip(v,w))\n",
        "\n",
        "def sum_of_squares(v:Vector) -> float:\n",
        "  return dot(v,v)\n",
        "\n",
        "def mean(xs:List[float]) -> float:\n",
        "  return sum(xs) / len(xs)\n",
        "\n",
        "def de_mean(xs:List[float]) -> List[float]:\n",
        "  x_bar = mean(xs)\n",
        "  return [x - x_bar for x in xs] \n",
        "\n",
        "def standard_deviation(xs:List[float]) ->float:\n",
        "  return math.sqrt(variance(xs))\n",
        "\n",
        "def covariance(xs:List[float],ys:List[float]) ->float:\n",
        "  assert len(xs)==len(ys),\"xs與ys的元素必須是相同的0\"\n",
        "  \n",
        "  return dot(de_mean(xs),de_mean(ys))/(len(xs)-1)\n",
        "\n",
        "def variance(xs:List[float]) ->float:\n",
        "  assert len(xs),\"至少有兩個元素才能計算變異數\"\n",
        "\n",
        "  n = len(xs)\n",
        "  deviations = de_mean(xs)\n",
        "  return sum_of_squares(deviations) / (n-1)\n",
        "\n",
        "\n",
        "def correlation(xs:List[float],ys:List[float]) ->float:\n",
        "\n",
        "  stdev_x = standard_deviation(xs)\n",
        "  stdev_y = standard_deviation(ys)\n",
        "  if stdev_x > 0 and stdev_y > 0 :\n",
        "    return covariance(xs,ys) / stdev_x / stdev_y\n",
        "  else:\n",
        "    return 0"
      ],
      "execution_count": 6,
      "outputs": []
    },
    {
      "cell_type": "code",
      "metadata": {
        "id": "cokuDxjuCUfi",
        "colab": {
          "base_uri": "https://localhost:8080/"
        },
        "outputId": "67c5ee0c-b2c9-4231-b1a5-398b9c04ebd8"
      },
      "source": [
        "print(correlation(xs,ys1))\n",
        "print(correlation(xs,ys2))"
      ],
      "execution_count": 7,
      "outputs": [
        {
          "output_type": "stream",
          "text": [
            "0.9010493686379609\n",
            "-0.8920981526880033\n"
          ],
          "name": "stdout"
        }
      ]
    },
    {
      "cell_type": "markdown",
      "metadata": {
        "id": "KiupO41H9Gfn"
      },
      "source": [
        "# 多維的資料\n",
        "利用對應的相關矩陣(correlation matrix)找出對應的相關係數"
      ]
    },
    {
      "cell_type": "markdown",
      "metadata": {
        "id": "mgjztFQq9zgk"
      },
      "source": [
        "使用「第4章 線性代數」的函數"
      ]
    },
    {
      "cell_type": "code",
      "metadata": {
        "id": "CXJPj-e59XXZ"
      },
      "source": [
        "from typing import List\n",
        "\n",
        "Vector = List[float]\n",
        "Matrix=List[List[float]] #另一種型別別名\n",
        "\n",
        "from typing import Callable\n",
        "\n",
        "#送回一個num_rows * num_cols 的矩陣，其中第(i,j)項就是entry_fn(i,j)\n",
        "def make_matrix(num_rows:int,num_cols:int,entry_fn:Callable[[int,int],float])->Matrix:\n",
        "\n",
        "  return [[ entry_fn(i,j)        # 給定 i ，就能建立長度為 j 的列表\n",
        "        for j in range(num_cols)] # [entry_fn(i,0),...]\n",
        "        for i in range(num_rows)] # 針對每個i都建立一個列表"
      ],
      "execution_count": 8,
      "outputs": []
    },
    {
      "cell_type": "code",
      "metadata": {
        "id": "Ive-FlLz9XgT"
      },
      "source": [
        "def correlation_matrix(data:List[Vector])->Matrix:\n",
        "  \"\"\"\n",
        "  送回一個len(data[i]) x len(data[j])的矩陣，\n",
        "  其中第(i,j)個元素值，就代表data[i]、data[j]的相關係數\n",
        "  \"\"\"\n",
        "  def correlation_ij(i:int,j:int)->float:\n",
        "    return correlation(data[i],data[j])\n",
        "  \n",
        "  return make_matrix(len(data),len(data),correlation_ij)"
      ],
      "execution_count": 9,
      "outputs": []
    },
    {
      "cell_type": "markdown",
      "metadata": {
        "id": "98gAuxbmDyX4"
      },
      "source": [
        "利用散點圖矩陣將兩兩成對的散點圖全部顯現出來"
      ]
    },
    {
      "cell_type": "code",
      "metadata": {
        "id": "7nnGR1YDOVTn"
      },
      "source": [
        "from typing import List\n",
        "\n",
        "# Just some random data to show off correlation scatterplots\n",
        "num_points = 100\n",
        "\n",
        "def random_row() -> List[float]:\n",
        "    row = [0.0, 0, 0, 0]\n",
        "    row[0] = random_normal()\n",
        "    row[1] = -5 * row[0] + random_normal()\n",
        "    row[2] = row[0] + row[1] + 5 * random_normal()\n",
        "    row[3] = 6 if row[2] > -2 else 0\n",
        "    return row\n",
        "\n",
        "random.seed(0)    # each row has 4 points, but really we want the columns\n",
        "corr_rows = [random_row() for _ in range(num_points)]\n",
        "\n",
        "corr_data = [list(col) for col in zip(*corr_rows)]"
      ],
      "execution_count": 10,
      "outputs": []
    },
    {
      "cell_type": "code",
      "metadata": {
        "id": "TPe6aO1-EKko",
        "colab": {
          "base_uri": "https://localhost:8080/",
          "height": 269
        },
        "outputId": "dcf59809-90e6-4545-c4e6-5a3c02a0ec53"
      },
      "source": [
        "#corr_data是一個list列表，內有四個100維向量\n",
        "num_vectors = len(corr_data)\n",
        "fig,ax= plt.subplots(num_vectors,num_vectors)\n",
        "\n",
        "for i in range(num_vectors):\n",
        "  for j in range(num_vectors):\n",
        "\n",
        "    # 散點圖：column_j在x軸，column_i在y軸\n",
        "    if i != j:ax[i][j].scatter(corr_data[j],corr_data[i])\n",
        "\n",
        "    #如果i==j，就顯示序列名稱\n",
        "    else:ax[i][j].annotate(\"series \"+str(i),(0.5,0.5),xycoords=\"axes fraction\",ha=\"center\",va=\"center\")\n",
        "\n",
        "    #除了左邊和下面的圖形之外，隱藏軸上的標籤\n",
        "    if i<num_vectors-1:ax[i][j].xaxis.set_visible(False)\n",
        "    if j>0:ax[i][j].yaxis.set_visible(False)\n",
        "  \n",
        "  # 修正左上方與右下方圖形軸的標籤\n",
        "  # 因為這些圖形裡只有文字\n",
        "  ax[-1][-1].set_xlim(ax[0][-1].get_xlim())\n",
        "  ax[-1][-1].set_ylim(ax[0][-1].get_ylim())\n",
        "\n",
        "plt.show()"
      ],
      "execution_count": 11,
      "outputs": [
        {
          "output_type": "display_data",
          "data": {
            "image/png": "[encoded data removed]",
            "text/plain": [
              "<Figure size 432x288 with 16 Axes>"
            ]
          },
          "metadata": {
            "tags": [],
            "needs_background": "light"
          }
        }
      ]
    },
    {
      "cell_type": "markdown",
      "metadata": {
        "id": "gafscPRJPFfi"
      },
      "source": [
        "# 使用NamedTuple\n"
      ]
    },
    {
      "cell_type": "code",
      "metadata": {
        "id": "GrMUVdfaPMva"
      },
      "source": [
        "import datetime\n",
        "\n",
        "stock_price={\n",
        "    \"closing_price\":102.96,\n",
        "    \"date\":datetime.date(2014,8,29),\n",
        "    \"symbol\":\"AAPL\"\n",
        "}"
      ],
      "execution_count": 12,
      "outputs": []
    },
    {
      "cell_type": "markdown",
      "metadata": {
        "id": "5AkbUROMQJXt"
      },
      "source": [
        "我們常使用dict來儲存資料， \n",
        "藉由dict的鍵值來進行存取很容易出現問題。  \n",
        "如果dict內的資料型別具有一致性，能採用以下型態標註：\n",
        "\n",
        "\n",
        "```\n",
        "prices:Dict[datetime.date,float]={ }\n",
        "```\n",
        "\n"
      ]
    },
    {
      "cell_type": "code",
      "metadata": {
        "id": "3366fT_RQ6ET"
      },
      "source": [
        "from collections import namedtuple\n",
        "\n",
        "StockPrice=namedtuple('StockPrice',[\"symbol\",\"date\",\"closing_price\"])\n",
        "price = StockPrice(\"MSFT\",datetime.date(2018,12,14),106.03)\n",
        "\n",
        "assert price.symbol ==\"MSFT\"\n",
        "assert price.closing_price == 106.03"
      ],
      "execution_count": 13,
      "outputs": []
    },
    {
      "cell_type": "markdown",
      "metadata": {
        "id": "FgVmT2-aRfJD"
      },
      "source": [
        "使用定義物件的方式，藉此達到型別標註。"
      ]
    },
    {
      "cell_type": "code",
      "metadata": {
        "id": "e7dwWafiRvE8"
      },
      "source": [
        "from typing import NamedTuple\n",
        "\n",
        "class StockPrice(NamedTuple):\n",
        "  symbol:str\n",
        "  date:datetime.date\n",
        "  closing_price:float\n",
        "\n",
        "  def is_high_tech(self) ->bool:\n",
        "    \"\"\"一個物件方法\"\"\"\n",
        "    return self.symbol in [\"MIST\",\"GOOG\",\"FB\",\"AMZN\",\"AAPL\"]\n",
        "\n",
        "price = StockPrice('MSFT',datetime.date(2018,12,14),106.03)\n",
        "\n",
        "assert price.symbol == \"MSFT\"\n",
        "assert price.closing_price == 106.03\n",
        "assert price.is_high_tech() == False"
      ],
      "execution_count": 21,
      "outputs": []
    },
    {
      "cell_type": "markdown",
      "metadata": {
        "id": "bOHcPfazRry8"
      },
      "source": [
        "## Dataclass 資料物件類別\n",
        "可被視為NamedTuple的一種可變類別"
      ]
    },
    {
      "cell_type": "code",
      "metadata": {
        "id": "POfmJsEBx1EI"
      },
      "source": [
        "from dataclasses import dataclass\n",
        "\n",
        "@dataclass\n",
        "class StockPrice2:\n",
        "  symbol:str\n",
        "  date:datetime.date\n",
        "  closing_price:float\n",
        "\n",
        "  def is_high_tech(self) ->bool:\n",
        "    \"\"\"一個物件方法\"\"\"\n",
        "    return self.symbol in [\"MIST\",\"GOOG\",\"FB\",\"AMZN\",\"AAPL\"]\n",
        "\n",
        "price2 = StockPrice2('MSFT',datetime.date(2018,12,14),106.03)\n",
        "\n",
        "assert price2.symbol == \"MSFT\"\n",
        "assert price2.closing_price == 106.03\n",
        "assert price2.is_high_tech() == False"
      ],
      "execution_count": 22,
      "outputs": []
    },
    {
      "cell_type": "markdown",
      "metadata": {
        "id": "a0Lt-uVdyRIY"
      },
      "source": [
        "在這個物件形式的保護下，不能直接修改參數"
      ]
    },
    {
      "cell_type": "code",
      "metadata": {
        "id": "OREa6iCf2KVM",
        "outputId": "b027ac3d-87d4-4a9f-f342-7e26e0261424",
        "colab": {
          "base_uri": "https://localhost:8080/",
          "height": 180
        }
      },
      "source": [
        "price2.closing_price /= 2\n",
        "assert price2.closing_price == 51.03"
      ],
      "execution_count": 23,
      "outputs": [
        {
          "output_type": "error",
          "ename": "AssertionError",
          "evalue": "ignored",
          "traceback": [
            "\u001b[0;31m---------------------------------------------------------------------------\u001b[0m",
            "\u001b[0;31mAssertionError\u001b[0m                            Traceback (most recent call last)",
            "\u001b[0;32m<ipython-input-23-594151ffa5a2>\u001b[0m in \u001b[0;36m<module>\u001b[0;34m()\u001b[0m\n\u001b[1;32m      1\u001b[0m \u001b[0mprice2\u001b[0m\u001b[0;34m.\u001b[0m\u001b[0mclosing_price\u001b[0m \u001b[0;34m/=\u001b[0m \u001b[0;36m2\u001b[0m\u001b[0;34m\u001b[0m\u001b[0;34m\u001b[0m\u001b[0m\n\u001b[0;32m----> 2\u001b[0;31m \u001b[0;32massert\u001b[0m \u001b[0mprice2\u001b[0m\u001b[0;34m.\u001b[0m\u001b[0mclosing_price\u001b[0m \u001b[0;34m==\u001b[0m \u001b[0;36m51.03\u001b[0m\u001b[0;34m\u001b[0m\u001b[0;34m\u001b[0m\u001b[0m\n\u001b[0m",
            "\u001b[0;31mAssertionError\u001b[0m: "
          ]
        }
      ]
    },
    {
      "cell_type": "markdown",
      "metadata": {
        "id": "SBOIARBo2aM1"
      },
      "source": [
        "# 清理與轉換"
      ]
    },
    {
      "cell_type": "markdown",
      "metadata": {
        "id": "ioIdvpCN2gWQ"
      },
      "source": [
        "# 處理資料"
      ]
    },
    {
      "cell_type": "markdown",
      "metadata": {
        "id": "gK9uplHq2kDv"
      },
      "source": [
        "# 尺度調整"
      ]
    },
    {
      "cell_type": "markdown",
      "metadata": {
        "id": "sr6OZCoa2nMz"
      },
      "source": [
        "## tqdm"
      ]
    },
    {
      "cell_type": "markdown",
      "metadata": {
        "id": "u7horRm62qOH"
      },
      "source": [
        "# 降減維度"
      ]
    }
  ]
}