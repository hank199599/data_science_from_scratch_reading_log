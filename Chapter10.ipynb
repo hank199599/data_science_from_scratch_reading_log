{
  "nbformat": 4,
  "nbformat_minor": 0,
  "metadata": {
    "colab": {
      "name": "Chapter10.ipynb",
      "provenance": [],
      "toc_visible": true,
      "authorship_tag": "ABX9TyMHxDIObbVGK24jq//EXGs4",
      "include_colab_link": true
    },
    "kernelspec": {
      "name": "python3",
      "display_name": "Python 3"
    }
  },
  "cells": [
    {
      "cell_type": "markdown",
      "metadata": {
        "id": "view-in-github",
        "colab_type": "text"
      },
      "source": [
        "<a href=\"https://colab.research.google.com/github/hank199599/data_science_from_scratch_reading_log/blob/main/Chapter10.ipynb\" target=\"_parent\"><img src=\"https://colab.research.google.com/assets/colab-badge.svg\" alt=\"Open In Colab\"/></a>"
      ]
    },
    {
      "cell_type": "markdown",
      "metadata": {
        "id": "syER_xgsaY3f"
      },
      "source": [
        "# 一維資料"
      ]
    },
    {
      "cell_type": "code",
      "metadata": {
        "id": "mWyI25qhGPfT"
      },
      "source": [
        "from typing import List,Dict\n",
        "from collections import Counter\n",
        "import math\n",
        "import matplotlib.pyplot as plt\n",
        "\n",
        "def bucketize(point:float,bucket_size:float)->float:\n",
        "  \"\"\"以floor的方式取整數，作為bucket_size的倍數\"\"\"\n",
        "  return bucket_size * math.floor(point/bucket_size)\n",
        "\n",
        "def make_histogram(points:List[float],bucket_size:float)->Dict[float,int]:\n",
        "  \"\"\"針對資料點進行分組，並計算每個分組各有幾個資料點\"\"\"\n",
        "  return Counter(bucketize(point,bucket_size) for point in points)\n",
        "\n",
        "def plot_histogram(points:List[float],bucket_size:float,title:str=\"\"):\n",
        "  histogram = make_histogram(points,bucket_size)\n",
        "  plt.bar(histogram.keys(),histogram.values(),width=bucket_size)\n",
        "  plt.title(title)"
      ],
      "execution_count": null,
      "outputs": []
    },
    {
      "cell_type": "markdown",
      "metadata": {
        "id": "_pd2nx2lcg8k"
      },
      "source": [
        "考慮以下兩組資料"
      ]
    },
    {
      "cell_type": "code",
      "metadata": {
        "id": "Inb5NOUPckGs"
      },
      "source": [
        "import random\n",
        "\n",
        "def normal_cdf(x:float,mu:float=0,sigma:float=1)->float:\n",
        "  return (1+math.erf((x-mu)/math.sqrt(2)/sigma))/2\n",
        "  \n",
        "def inverse_normal_cdf(p:float,\n",
        "            mu:float = 0,\n",
        "            sigma:float=1,\n",
        "            tolerance:float=0.00001) -> float:\n",
        "  # 如果不是標準常態分佈，就先轉換成標準常態分佈\n",
        "  if mu != 0 or sigma != 1:\n",
        "    return mu + sigma*inverse_normal_cdf(p,tolerance = tolerance)\n",
        "  \n",
        "  low_z = -10.0 # normal_cdf(-10)是(趨近於) 0\n",
        "  hi_z =  10.0 # normal_cdf(10)是(趨近於) 1\n",
        "  while hi_z - low_z > tolerance:  \n",
        "    mid_z = (low_z + hi_z) / 2   # 計算出中間值\n",
        "    mid_p = normal_cdf(mid_z)     # 以及累積分佈函數在該處所應對的值\n",
        "    if mid_p < p :\n",
        "      low_z = mid_z        #中間的值太低，就往上繼續搜尋\n",
        "    else:\n",
        "      hi_z = mid_z        #中間的值太高，就往下繼續搜尋\n",
        "  \n",
        "  return mid_z\n",
        "\n",
        "random.seed(0)\n",
        "\n",
        "#介於-100到100之間的均勻分布\n",
        "uniform= [200* random.random()-100 for _ in range(10000)]\n",
        "\n",
        "\n",
        "#平均值0、標準差57的常態分佈\n",
        "normal= [57* inverse_normal_cdf(random.random()) for _ in range(10000)]"
      ],
      "execution_count": null,
      "outputs": []
    },
    {
      "cell_type": "markdown",
      "metadata": {
        "id": "-6f2lG8v-Xzx"
      },
      "source": [
        "### 圖10-1 均勻分布的直方圖\n",
        "\n"
      ]
    },
    {
      "cell_type": "code",
      "metadata": {
        "id": "r79z9T1A-jJU",
        "colab": {
          "base_uri": "https://localhost:8080/",
          "height": 281
        },
        "outputId": "be0d0c73-1daf-4613-a1dd-23df5a4d23e0"
      },
      "source": [
        "plot_histogram(uniform,10,\"Unform Histogram\")"
      ],
      "execution_count": null,
      "outputs": [
        {
          "output_type": "display_data",
          "data": {
            "image/png": "[encoded data removed]",
            "text/plain": [
              "<Figure size 432x288 with 1 Axes>"
            ]
          },
          "metadata": {
            "tags": [],
            "needs_background": "light"
          }
        }
      ]
    },
    {
      "cell_type": "markdown",
      "metadata": {
        "id": "O9dMcS5C-YKf"
      },
      "source": [
        "### 圖10-2 常態分布的直方圖\n"
      ]
    },
    {
      "cell_type": "code",
      "metadata": {
        "id": "_At8IA-h-sU_",
        "colab": {
          "base_uri": "https://localhost:8080/",
          "height": 281
        },
        "outputId": "70881496-24c1-4352-cd89-30ef01c386c9"
      },
      "source": [
        "plot_histogram(normal,10,\"Normal Histogram\")"
      ],
      "execution_count": null,
      "outputs": [
        {
          "output_type": "display_data",
          "data": {
            "image/png": "[encoded data removed]",
            "text/plain": [
              "<Figure size 432x288 with 1 Axes>"
            ]
          },
          "metadata": {
            "tags": [],
            "needs_background": "light"
          }
        }
      ]
    },
    {
      "cell_type": "markdown",
      "metadata": {
        "id": "A9G6sy7d_lxM"
      },
      "source": [
        "# 二維的資料"
      ]
    },
    {
      "cell_type": "code",
      "metadata": {
        "id": "-u1dyFrO_pcE",
        "colab": {
          "base_uri": "https://localhost:8080/",
          "height": 295
        },
        "outputId": "ca2431d3-5529-44da-a7a6-1607d06dcd24"
      },
      "source": [
        "def random_normal()->float:\n",
        "  \"\"\"送回一個從標準常態分布中隨機選取的是數字\"\"\"\n",
        "  return inverse_normal_cdf(random.random())\n",
        "\n",
        "xs=[random_normal() for _ in range(1000)]\n",
        "ys1 = [x+random_normal()/2 for x in xs]\n",
        "ys2 = [-x+random_normal()/2 for x in xs]\n",
        "\n",
        "plt.scatter(xs,ys1,marker=\".\",color=\"black\",label=\"ys1\")\n",
        "plt.scatter(xs,ys2,marker=\".\",color=\"gray\",label=\"ys2\")\n",
        "plt.xlabel('xs')\n",
        "plt.ylabel('ys')\n",
        "plt.legend(loc=9)\n",
        "plt.title(\"Very Different Joint Distributions\")\n",
        "plt.show()"
      ],
      "execution_count": null,
      "outputs": [
        {
          "output_type": "display_data",
          "data": {
            "image/png": "[encoded data removed]",
            "text/plain": [
              "<Figure size 432x288 with 1 Axes>"
            ]
          },
          "metadata": {
            "tags": [],
            "needs_background": "light"
          }
        }
      ]
    },
    {
      "cell_type": "markdown",
      "metadata": {
        "id": "LklKiTXL9-7v"
      },
      "source": [
        "使用「第五章 統計學」的函數"
      ]
    },
    {
      "cell_type": "code",
      "metadata": {
        "id": "lJNGvzgNCwse"
      },
      "source": [
        "import math\n",
        "from typing import List\n",
        "Vector = List[float]\n",
        "\n",
        "def dot(v:Vector,w:Vector)->float:\n",
        "  #計算v_1*w_1+... +v_n*w_n\n",
        "  assert len(v)==len(w),\"兩個向量必須有相同的維度\"\n",
        "\n",
        "  return sum(v_i*w_i for v_i,w_i in zip(v,w))\n",
        "\n",
        "def sum_of_squares(v:Vector) -> float:\n",
        "  return dot(v,v)\n",
        "\n",
        "def mean(xs:List[float]) -> float:\n",
        "  return sum(xs) / len(xs)\n",
        "\n",
        "def de_mean(xs:List[float]) -> List[float]:\n",
        "  x_bar = mean(xs)\n",
        "  return [x - x_bar for x in xs] \n",
        "\n",
        "def standard_deviation(xs:List[float]) ->float:\n",
        "  return math.sqrt(variance(xs))\n",
        "\n",
        "def covariance(xs:List[float],ys:List[float]) ->float:\n",
        "  assert len(xs)==len(ys),\"xs與ys的元素必須是相同的0\"\n",
        "  \n",
        "  return dot(de_mean(xs),de_mean(ys))/(len(xs)-1)\n",
        "\n",
        "def variance(xs:List[float]) ->float:\n",
        "  assert len(xs),\"至少有兩個元素才能計算變異數\"\n",
        "\n",
        "  n = len(xs)\n",
        "  deviations = de_mean(xs)\n",
        "  return sum_of_squares(deviations) / (n-1)\n",
        "\n",
        "\n",
        "def correlation(xs:List[float],ys:List[float]) ->float:\n",
        "\n",
        "  stdev_x = standard_deviation(xs)\n",
        "  stdev_y = standard_deviation(ys)\n",
        "  if stdev_x > 0 and stdev_y > 0 :\n",
        "    return covariance(xs,ys) / stdev_x / stdev_y\n",
        "  else:\n",
        "    return 0"
      ],
      "execution_count": null,
      "outputs": []
    },
    {
      "cell_type": "code",
      "metadata": {
        "id": "cokuDxjuCUfi",
        "colab": {
          "base_uri": "https://localhost:8080/"
        },
        "outputId": "67c5ee0c-b2c9-4231-b1a5-398b9c04ebd8"
      },
      "source": [
        "print(correlation(xs,ys1))\n",
        "print(correlation(xs,ys2))"
      ],
      "execution_count": null,
      "outputs": [
        {
          "output_type": "stream",
          "text": [
            "0.9010493686379609\n",
            "-0.8920981526880033\n"
          ],
          "name": "stdout"
        }
      ]
    },
    {
      "cell_type": "markdown",
      "metadata": {
        "id": "KiupO41H9Gfn"
      },
      "source": [
        "# 多維的資料\n",
        "利用對應的相關矩陣(correlation matrix)找出對應的相關係數"
      ]
    },
    {
      "cell_type": "markdown",
      "metadata": {
        "id": "mgjztFQq9zgk"
      },
      "source": [
        "使用「第4章 線性代數」的函數"
      ]
    },
    {
      "cell_type": "code",
      "metadata": {
        "id": "CXJPj-e59XXZ"
      },
      "source": [
        "from typing import List\n",
        "\n",
        "Vector = List[float]\n",
        "Matrix=List[List[float]] #另一種型別別名\n",
        "\n",
        "from typing import Callable\n",
        "\n",
        "#送回一個num_rows * num_cols 的矩陣，其中第(i,j)項就是entry_fn(i,j)\n",
        "def make_matrix(num_rows:int,num_cols:int,entry_fn:Callable[[int,int],float])->Matrix:\n",
        "\n",
        "  return [[ entry_fn(i,j)        # 給定 i ，就能建立長度為 j 的列表\n",
        "        for j in range(num_cols)] # [entry_fn(i,0),...]\n",
        "        for i in range(num_rows)] # 針對每個i都建立一個列表"
      ],
      "execution_count": null,
      "outputs": []
    },
    {
      "cell_type": "code",
      "metadata": {
        "id": "Ive-FlLz9XgT"
      },
      "source": [
        "def correlation_matrix(data:List[Vector])->Matrix:\n",
        "  \"\"\"\n",
        "  送回一個len(data[i]) x len(data[j])的矩陣，\n",
        "  其中第(i,j)個元素值，就代表data[i]、data[j]的相關係數\n",
        "  \"\"\"\n",
        "  def correlation_ij(i:int,j:int)->float:\n",
        "    return correlation(data[i],data[j])\n",
        "  \n",
        "  return make_matrix(len(data),len(data),correlation_ij)"
      ],
      "execution_count": null,
      "outputs": []
    },
    {
      "cell_type": "markdown",
      "metadata": {
        "id": "98gAuxbmDyX4"
      },
      "source": [
        "利用散點圖矩陣將兩兩成對的散點圖全部顯現出來"
      ]
    },
    {
      "cell_type": "code",
      "metadata": {
        "id": "7nnGR1YDOVTn"
      },
      "source": [
        "from typing import List\n",
        "\n",
        "# Just some random data to show off correlation scatterplots\n",
        "num_points = 100\n",
        "\n",
        "def random_row() -> List[float]:\n",
        "    row = [0.0, 0, 0, 0]\n",
        "    row[0] = random_normal()\n",
        "    row[1] = -5 * row[0] + random_normal()\n",
        "    row[2] = row[0] + row[1] + 5 * random_normal()\n",
        "    row[3] = 6 if row[2] > -2 else 0\n",
        "    return row\n",
        "\n",
        "random.seed(0)    # each row has 4 points, but really we want the columns\n",
        "corr_rows = [random_row() for _ in range(num_points)]\n",
        "\n",
        "corr_data = [list(col) for col in zip(*corr_rows)]"
      ],
      "execution_count": null,
      "outputs": []
    },
    {
      "cell_type": "code",
      "metadata": {
        "id": "TPe6aO1-EKko",
        "colab": {
          "base_uri": "https://localhost:8080/",
          "height": 269
        },
        "outputId": "dcf59809-90e6-4545-c4e6-5a3c02a0ec53"
      },
      "source": [
        "#corr_data是一個list列表，內有四個100維向量\n",
        "num_vectors = len(corr_data)\n",
        "fig,ax= plt.subplots(num_vectors,num_vectors)\n",
        "\n",
        "for i in range(num_vectors):\n",
        "  for j in range(num_vectors):\n",
        "\n",
        "    # 散點圖：column_j在x軸，column_i在y軸\n",
        "    if i != j:ax[i][j].scatter(corr_data[j],corr_data[i])\n",
        "\n",
        "    #如果i==j，就顯示序列名稱\n",
        "    else:ax[i][j].annotate(\"series \"+str(i),(0.5,0.5),xycoords=\"axes fraction\",ha=\"center\",va=\"center\")\n",
        "\n",
        "    #除了左邊和下面的圖形之外，隱藏軸上的標籤\n",
        "    if i<num_vectors-1:ax[i][j].xaxis.set_visible(False)\n",
        "    if j>0:ax[i][j].yaxis.set_visible(False)\n",
        "  \n",
        "  # 修正左上方與右下方圖形軸的標籤\n",
        "  # 因為這些圖形裡只有文字\n",
        "  ax[-1][-1].set_xlim(ax[0][-1].get_xlim())\n",
        "  ax[-1][-1].set_ylim(ax[0][-1].get_ylim())\n",
        "\n",
        "plt.show()"
      ],
      "execution_count": null,
      "outputs": [
        {
          "output_type": "display_data",
          "data": {
            "image/png": "[encoded data removed]",
            "text/plain": [
              "<Figure size 432x288 with 16 Axes>"
            ]
          },
          "metadata": {
            "tags": [],
            "needs_background": "light"
          }
        }
      ]
    },
    {
      "cell_type": "markdown",
      "metadata": {
        "id": "gafscPRJPFfi"
      },
      "source": [
        "# 使用NamedTuple\n"
      ]
    },
    {
      "cell_type": "code",
      "metadata": {
        "id": "GrMUVdfaPMva"
      },
      "source": [
        "import datetime\n",
        "\n",
        "stock_price={\n",
        "    \"closing_price\":102.96,\n",
        "    \"date\":datetime.date(2014,8,29),\n",
        "    \"symbol\":\"AAPL\"\n",
        "}"
      ],
      "execution_count": null,
      "outputs": []
    },
    {
      "cell_type": "markdown",
      "metadata": {
        "id": "5AkbUROMQJXt"
      },
      "source": [
        "我們常使用dict來儲存資料， \n",
        "藉由dict的鍵值來進行存取很容易出現問題。  \n",
        "如果dict內的資料型別具有一致性，能採用以下型態標註：\n",
        "\n",
        "\n",
        "```\n",
        "prices:Dict[datetime.date,float]={ }\n",
        "```\n",
        "\n"
      ]
    },
    {
      "cell_type": "code",
      "metadata": {
        "id": "3366fT_RQ6ET"
      },
      "source": [
        "from collections import namedtuple\n",
        "\n",
        "StockPrice=namedtuple('StockPrice',[\"symbol\",\"date\",\"closing_price\"])\n",
        "price = StockPrice(\"MSFT\",datetime.date(2018,12,14),106.03)\n",
        "\n",
        "assert price.symbol ==\"MSFT\"\n",
        "assert price.closing_price == 106.03"
      ],
      "execution_count": null,
      "outputs": []
    },
    {
      "cell_type": "markdown",
      "metadata": {
        "id": "FgVmT2-aRfJD"
      },
      "source": [
        "使用定義物件的方式，藉此達到型別標註。"
      ]
    },
    {
      "cell_type": "code",
      "metadata": {
        "id": "e7dwWafiRvE8"
      },
      "source": [
        "from typing import NamedTuple\n",
        "\n",
        "class StockPrice(NamedTuple):\n",
        "  symbol:str\n",
        "  date:datetime.date\n",
        "  closing_price:float\n",
        "\n",
        "  def is_high_tech(self) ->bool:\n",
        "    \"\"\"一個物件方法\"\"\"\n",
        "    return self.symbol in [\"MIST\",\"GOOG\",\"FB\",\"AMZN\",\"AAPL\"]\n",
        "\n",
        "price = StockPrice('MSFT',datetime.date(2018,12,14),106.03)\n",
        "\n",
        "assert price.symbol == \"MSFT\"\n",
        "assert price.closing_price == 106.03\n",
        "assert price.is_high_tech() == False"
      ],
      "execution_count": null,
      "outputs": []
    },
    {
      "cell_type": "markdown",
      "metadata": {
        "id": "bOHcPfazRry8"
      },
      "source": [
        "## Dataclass 資料物件類別\n",
        "可被視為NamedTuple的一種可變類別"
      ]
    },
    {
      "cell_type": "code",
      "metadata": {
        "id": "POfmJsEBx1EI"
      },
      "source": [
        "from dataclasses import dataclass\n",
        "\n",
        "@dataclass\n",
        "class StockPrice2:\n",
        "  symbol:str\n",
        "  date:datetime.date\n",
        "  closing_price:float\n",
        "\n",
        "  def is_high_tech(self) ->bool:\n",
        "    \"\"\"一個物件方法\"\"\"\n",
        "    return self.symbol in [\"MIST\",\"GOOG\",\"FB\",\"AMZN\",\"AAPL\"]\n",
        "\n",
        "price2 = StockPrice2('MSFT',datetime.date(2018,12,14),106.03)\n",
        "\n",
        "assert price2.symbol == \"MSFT\"\n",
        "assert price2.closing_price == 106.03\n",
        "assert price2.is_high_tech() == False"
      ],
      "execution_count": null,
      "outputs": []
    },
    {
      "cell_type": "markdown",
      "metadata": {
        "id": "a0Lt-uVdyRIY"
      },
      "source": [
        "在這個物件形式的保護下，不能直接修改參數"
      ]
    },
    {
      "cell_type": "code",
      "metadata": {
        "colab": {
          "base_uri": "https://localhost:8080/",
          "height": 180
        },
        "id": "OREa6iCf2KVM",
        "outputId": "b027ac3d-87d4-4a9f-f342-7e26e0261424"
      },
      "source": [
        "price2.closing_price /= 2\n",
        "assert price2.closing_price == 51.03"
      ],
      "execution_count": null,
      "outputs": [
        {
          "output_type": "error",
          "ename": "AssertionError",
          "evalue": "ignored",
          "traceback": [
            "\u001b[0;31m---------------------------------------------------------------------------\u001b[0m",
            "\u001b[0;31mAssertionError\u001b[0m                            Traceback (most recent call last)",
            "\u001b[0;32m<ipython-input-23-594151ffa5a2>\u001b[0m in \u001b[0;36m<module>\u001b[0;34m()\u001b[0m\n\u001b[1;32m      1\u001b[0m \u001b[0mprice2\u001b[0m\u001b[0;34m.\u001b[0m\u001b[0mclosing_price\u001b[0m \u001b[0;34m/=\u001b[0m \u001b[0;36m2\u001b[0m\u001b[0;34m\u001b[0m\u001b[0;34m\u001b[0m\u001b[0m\n\u001b[0;32m----> 2\u001b[0;31m \u001b[0;32massert\u001b[0m \u001b[0mprice2\u001b[0m\u001b[0;34m.\u001b[0m\u001b[0mclosing_price\u001b[0m \u001b[0;34m==\u001b[0m \u001b[0;36m51.03\u001b[0m\u001b[0;34m\u001b[0m\u001b[0;34m\u001b[0m\u001b[0m\n\u001b[0m",
            "\u001b[0;31mAssertionError\u001b[0m: "
          ]
        }
      ]
    },
    {
      "cell_type": "markdown",
      "metadata": {
        "id": "SBOIARBo2aM1"
      },
      "source": [
        "# 清理與轉換"
      ]
    },
    {
      "cell_type": "code",
      "metadata": {
        "id": "AwJp2mof_eNl"
      },
      "source": [
        "from dateutil.parser import parse\n",
        "\n",
        "def parse_row(row:List[str]) -> StockPrice:\n",
        "  symbol,date,closing_price = row\n",
        "  return StockPrice(symbol=symbol,\n",
        "           date =parse(date).date(),\n",
        "           closing_price=float(closing_price))\n",
        "#測試函式\n",
        "stock = parse_row(['MSFT',\"2018-12-14\",\"106.03\"])\n",
        "\n",
        "assert stock.symbol == \"MSFT\"\n",
        "assert stock.date == datetime.date(2018,12,14)\n",
        "assert stock.closing_price == 106.03\n"
      ],
      "execution_count": null,
      "outputs": []
    },
    {
      "cell_type": "markdown",
      "metadata": {
        "id": "KS_U6wTkiXYy"
      },
      "source": [
        "假設有**不良資料**，我們可以使其得到的結果為None"
      ]
    },
    {
      "cell_type": "code",
      "metadata": {
        "id": "xrWhfek_igt4"
      },
      "source": [
        "from typing import Optional\n",
        "import re\n",
        "\n",
        "def try_parse_row(row:List[str]) -> Optional[StockPrice]:\n",
        "  symbol,date,closing_price = row\n",
        "  \n",
        "  #股票代號衣錠都是大寫\n",
        "  if not re.match(r\"^[A-Z]+$\",symbol):\n",
        "    return None\n",
        "  try:\n",
        "    date = parse(date).date()\n",
        "  except ValueError:\n",
        "    return None\n",
        "\n",
        "  try:\n",
        "    closing_price=float(closing_price)\n",
        "  except ValueError:\n",
        "    return None\n",
        "\n",
        "  return StockPrice(symbol,date,closing_price)\n",
        "           \n",
        "#測試函式：若有誤則送回None\n",
        "assert try_parse_row(['MSFT0',\"2018-12-14\",\"106.03\"]) is None\n",
        "assert try_parse_row(['MSFT0',\"2018-12--14\",\"106.03\"]) is None\n",
        "assert try_parse_row(['MSFT0',\"2018-12-14\",\"x\"]) is None\n",
        "\n",
        "#測試函式：若無誤則送回原本的資料\n",
        "assert try_parse_row(['MSFT',\"2018-12-14\",\"106.03\"]) == stock\n"
      ],
      "execution_count": null,
      "outputs": []
    },
    {
      "cell_type": "markdown",
      "metadata": {
        "id": "ioIdvpCN2gWQ"
      },
      "source": [
        "# 處理資料"
      ]
    },
    {
      "cell_type": "code",
      "metadata": {
        "id": "xUe508-BMjbJ"
      },
      "source": [
        "from dateutil.parser import parse\n",
        "import pandas as pd\n",
        "import io\n",
        "import requests\n",
        "url=\"https://raw.githubusercontent.com/hank199599/data_science_from_scratch_reading_log/main/attached_data/CH%2010/stock.csv\"\n",
        "s=requests.get(url).content\n",
        "data=pd.read_csv(io.StringIO(s.decode('utf-8')))\n",
        "\n"
      ],
      "execution_count": null,
      "outputs": []
    },
    {
      "cell_type": "code",
      "metadata": {
        "id": "nlagW85TTO2k",
        "colab": {
          "base_uri": "https://localhost:8080/"
        },
        "outputId": "70df9e13-d07b-445e-9669-6b4dacf71329"
      },
      "source": [
        "appl = data[\"Symbol\"]== \"AAPL\" #找出data中「Symbol」欄位是 \"AAPL\" 的篩選器\n",
        "max(list(data[appl][\"Close\"]))"
      ],
      "execution_count": null,
      "outputs": [
        {
          "output_type": "execute_result",
          "data": {
            "text/plain": [
              "232.07000699999998"
            ]
          },
          "metadata": {
            "tags": []
          },
          "execution_count": 10
        }
      ]
    },
    {
      "cell_type": "code",
      "metadata": {
        "id": "oEBPxKZ_tzK4",
        "colab": {
          "base_uri": "https://localhost:8080/"
        },
        "outputId": "9b8de2ea-07c2-418f-ad89-4dfd824486c9"
      },
      "source": [
        "from typing import Dict,List\n",
        "from collections import defaultdict\n",
        "\n",
        "appl = data[\"Symbol\"]== \"AAPL\" #找出data中「Symbol」欄位是 \"AAPL\" 的篩選器\n",
        "print(\"AAPL:\",max(list(data[appl][\"Close\"])))\n",
        "\n",
        "msft = data[\"Symbol\"]== \"MSFT\" #找出data中「Symbol」欄位是 \"MSFT\" 的篩選器\n",
        "print(\"MSFT:\",max(list(data[msft][\"Close\"])))\n",
        "\n",
        "goog = data[\"Symbol\"]== \"GOOG\" #找出data中「Symbol」欄位是 \"GOOG\" 的篩選器\n",
        "print(\"GOOG:\",max(list(data[goog][\"Close\"])))\n",
        "\n",
        "fb = data[\"Symbol\"]== \"FB\" #找出data中「Symbol」欄位是 \"FB\" 的篩選器\n",
        "print(\"FB:\",max(list(data[fb][\"Close\"])))"
      ],
      "execution_count": null,
      "outputs": [
        {
          "output_type": "stream",
          "text": [
            "AAPL: 232.07000699999998\n",
            "MSFT: 115.610001\n",
            "GOOG: 1268.329956\n",
            "FB: 217.5\n"
          ],
          "name": "stdout"
        }
      ]
    },
    {
      "cell_type": "markdown",
      "metadata": {
        "id": "gK9uplHq2kDv"
      },
      "source": [
        "# 尺度調整"
      ]
    },
    {
      "cell_type": "markdown",
      "metadata": {
        "id": "Lo_uMw-Vn9kE"
      },
      "source": [
        "參見這個表格：\n",
        "\n",
        "|人|身高(英吋)|身高(公分)|體重(磅)|\n",
        "|----|---|----|----|\n",
        "|A|63|160|150|\n",
        "|B|67|170.2|160|\n",
        "|C|70|177.8|171|"
      ]
    },
    {
      "cell_type": "code",
      "metadata": {
        "id": "3oi3ipyMX7D6"
      },
      "source": [
        "from typing import List\n",
        "import math\n",
        "\n",
        "Vector = List[float]\n",
        "\n",
        "def vector_sum(vectors:List[Vector]) -> Vector:\n",
        "  #先檢查vertors這個向量列表是否為空\n",
        "  assert vectors,\"列表中沒有向量!\"\n",
        "\n",
        "  #檢查vertors 向量列表內的所有向量都具有相同的維度\n",
        "  num_elements=len(vectors[0])\n",
        "  assert all(len(v)==num_elements for v in vectors),\"向量維度不一致\"\n",
        "\n",
        "  #所有vectors[i]相加起來，是結果的第i個元素值\n",
        "  return [sum(vector[i] for vector in vectors) for i in range(num_elements)]\n",
        "\n",
        "def subtrate( v:Vector, w:Vector) -> Vector:\n",
        "  assert len(v) == len(w) #兩個向量必須有相同的維度\n",
        "\n",
        "  return [ v_i-w_i for v_i,w_i in zip(v,w)]\n",
        "\n",
        "def dot(v:Vector,w:Vector)->float:\n",
        "  #計算v_1*w_1+... +v_n*w_n\n",
        "  assert len(v)==len(w),\"兩個向量必須有相同的維度\"\n",
        "\n",
        "  return sum(v_i*w_i for v_i,w_i in zip(v,w))\n",
        "\n",
        "def sum_of_squares(v:Vector) -> float:\n",
        "  return dot(v,v)\n",
        "\n",
        "def squared_distance(v:Vector,w:Vector) -> float:\n",
        "  return sum_of_squares(subtrate(v,w))\n",
        "\n",
        "def distance(v:Vector,w:Vector) -> float:\n",
        "  return math.sqrt(squared_distance(v,w))"
      ],
      "execution_count": null,
      "outputs": []
    },
    {
      "cell_type": "markdown",
      "metadata": {
        "id": "rNhGJWR8tb9B"
      },
      "source": [
        "## 1.以英吋衡量身高\n",
        "B的最鄰近者是A"
      ]
    },
    {
      "cell_type": "code",
      "metadata": {
        "colab": {
          "base_uri": "https://localhost:8080/"
        },
        "id": "_3ME0gpXsVPC",
        "outputId": "cf410da2-f99a-4014-d29d-b25e484de861"
      },
      "source": [
        "print(\"a_to_b:\",distance([63,150],[67,160]))\n",
        "print(\"a_to_c:\",distance([63,150],[70,171]))\n",
        "print(\"b_to_c:\",distance([67,150],[70,171]))"
      ],
      "execution_count": null,
      "outputs": [
        {
          "output_type": "stream",
          "text": [
            "a_to_b: 10.770329614269007\n",
            "a_to_c: 22.135943621178654\n",
            "b_to_c: 21.213203435596427\n"
          ],
          "name": "stdout"
        }
      ]
    },
    {
      "cell_type": "markdown",
      "metadata": {
        "id": "_yBmSinatkMO"
      },
      "source": [
        "## 2.以公分衡量身高\n",
        "B的最鄰近者是C"
      ]
    },
    {
      "cell_type": "code",
      "metadata": {
        "colab": {
          "base_uri": "https://localhost:8080/"
        },
        "id": "lkE7Q38StlKn",
        "outputId": "58900913-86a3-4ce1-fd40-9d5fc4352ff7"
      },
      "source": [
        "print(\"a_to_b:\",distance([160,150],[170.2,160]))\n",
        "print(\"a_to_c:\",distance([160,150],[177.8,171]))\n",
        "print(\"b_to_c:\",distance([170.2,150],[177.8,171]))"
      ],
      "execution_count": null,
      "outputs": [
        {
          "output_type": "stream",
          "text": [
            "a_to_b: 14.284257068535268\n",
            "a_to_c: 27.52889391167034\n",
            "b_to_c: 22.332935319836494\n"
          ],
          "name": "stdout"
        }
      ]
    },
    {
      "cell_type": "markdown",
      "metadata": {
        "id": "N4C-BLlhtxfl"
      },
      "source": [
        "單位改變後造成結果隨之改變，為解決這個問題。  \n",
        "需要調整資料的尺度，將其調整為平均值為0，標準差為1。  \n",
        "將整個維度的值轉變為**「相對於平均值的標準變差」**"
      ]
    },
    {
      "cell_type": "code",
      "metadata": {
        "id": "TazCRvpGtw_t"
      },
      "source": [
        "from typing import Tuple\n",
        "\n",
        "def scalar_multiply(c:float,v:Vector) -> Vector:\n",
        "  return [c*v_i for v_i in v]\n",
        "\n",
        "def vector_mean(vectors:List[Vector])->Vector:\n",
        "  n=len(vectors)\n",
        "  return scalar_multiply(1/n,vector_sum(vectors))\n",
        "\n",
        "def variance(xs:List[float]) ->float:\n",
        "  assert len(xs),\"至少有兩個元素才能計算變異數\"\n",
        "\n",
        "  n = len(xs)\n",
        "  deviations = de_mean(xs)\n",
        "  return sum_of_squares(deviations) / (n-1)\n",
        "\n",
        "def mean(xs:List[float]) -> float:\n",
        "  return sum(xs) / len(xs)\n",
        "\n",
        "def de_mean(xs:List[float]) -> List[float]:\n",
        "  x_bar = mean(xs)\n",
        "  return [x - x_bar for x in xs] \n",
        "\n",
        "def standard_deviation(xs:List[float]) ->float:\n",
        "  return math.sqrt(variance(xs))\n",
        "\n",
        "def scale(data:List[Vector])->Tuple[Vector,Vector]:\n",
        "  \"\"\"送回每個值得平均值與標準差\"\"\"\n",
        "  dim=len(data[0])\n",
        "\n",
        "  means=vector_mean(data)\n",
        "  stdevs=[standard_deviation([vector[i] for vector in data]) for i in range(dim)]\n",
        "\n",
        "  return means,stdevs"
      ],
      "execution_count": null,
      "outputs": []
    },
    {
      "cell_type": "markdown",
      "metadata": {
        "id": "G6blQIqQvKZw"
      },
      "source": [
        "先計算出每個位置的平均值和標準差"
      ]
    },
    {
      "cell_type": "code",
      "metadata": {
        "id": "o7fk4dx3vKxA"
      },
      "source": [
        "vectors = [[-3,-1,1],[-1,0,1],[1,1,1]]\n",
        "means,stdevs = scale(vectors)\n",
        "\n",
        "assert means == [-1,0,1]\n",
        "assert stdevs == [2,1,0]"
      ],
      "execution_count": null,
      "outputs": []
    },
    {
      "cell_type": "markdown",
      "metadata": {
        "id": "0LE3FPDg8OBG"
      },
      "source": [
        "利用平均值和標準差來建立一個新的資料集"
      ]
    },
    {
      "cell_type": "code",
      "metadata": {
        "id": "HY6KSo1s9TMV"
      },
      "source": [
        "def rescale(data:List[Vector])->List[Vector]:\n",
        "  \"\"\"\n",
        "  調整輸入資料的尺度，讓每個位置轉換為平均值0、標準差1的資料\n",
        "  (如果標準差為0，就保留原資料)\n",
        "  \"\"\"\n",
        "  dim = len(data[0])\n",
        "  means,stdevs = scale(data)\n",
        "\n",
        "  #每個向量複製一份副本\n",
        "  rescale = [v[:] for v in data]\n",
        "\n",
        "  for v in rescale:\n",
        "    for i in range(dim):\n",
        "      if(stdevs[i]>0):\n",
        "        v[i] = (v[i]-means[i]/stdevs[i])"
      ],
      "execution_count": null,
      "outputs": []
    },
    {
      "cell_type": "markdown",
      "metadata": {
        "id": "sr6OZCoa2nMz"
      },
      "source": [
        "## tqdm\n",
        "用來顯示工作進度條的函式庫"
      ]
    },
    {
      "cell_type": "code",
      "metadata": {
        "id": "6f-6r1pw-Wq8",
        "colab": {
          "base_uri": "https://localhost:8080/"
        },
        "outputId": "5c1d17ca-6792-4503-e0c5-90501de9a2df"
      },
      "source": [
        "pip install tqdm"
      ],
      "execution_count": null,
      "outputs": [
        {
          "output_type": "stream",
          "text": [
            "Requirement already satisfied: tqdm in /usr/local/lib/python3.6/dist-packages (4.41.1)\n"
          ],
          "name": "stdout"
        }
      ]
    },
    {
      "cell_type": "markdown",
      "metadata": {
        "id": "_6IP9v-fCcVh"
      },
      "source": [
        "利用tqdm.tqdm將迭代的物件包起來，即可看到進度條"
      ]
    },
    {
      "cell_type": "code",
      "metadata": {
        "id": "PQ2h5TllB9Nt",
        "colab": {
          "base_uri": "https://localhost:8080/"
        },
        "outputId": "aa3e4495-0fa4-4e05-d00e-2d4858301825"
      },
      "source": [
        "import tqdm\n",
        "import random\n",
        "\n",
        "for i in tqdm.tqdm(range(100)):\n",
        "  #進行某個耗時的動作\n",
        "  _ =[random.random() for _ in range(1000000)]"
      ],
      "execution_count": null,
      "outputs": [
        {
          "output_type": "stream",
          "text": [
            "100%|██████████| 100/100 [00:12<00:00,  7.90it/s]\n"
          ],
          "name": "stderr"
        }
      ]
    },
    {
      "cell_type": "markdown",
      "metadata": {
        "id": "uF1S9IFcCmfg"
      },
      "source": [
        "進度條也可以被客製化，加入說明文字"
      ]
    },
    {
      "cell_type": "code",
      "metadata": {
        "id": "oO71DVvUClwa"
      },
      "source": [
        "import tqdm\n",
        "import random\n",
        "from typing import List\n",
        "\n",
        "def primes_up_to(n:int) ->List[int]:\n",
        "  primes = [2]\n",
        "\n",
        "  with tqdm.trange(3,n) as t:\n",
        "    for i in t:\n",
        "      #如果沒有比i小的質數能整除i，i就是一個質數\n",
        "      i_is_prime = not any (i%p == 0 for p in primes)\n",
        "      if i_is_prime:\n",
        "        primes.append(i)\n",
        "      \n",
        "      t.set_description(f\"{len(primes)} primes\")\n",
        "  \n",
        "  return primes"
      ],
      "execution_count": null,
      "outputs": []
    },
    {
      "cell_type": "code",
      "metadata": {
        "id": "ZWeIlGdNDwy4",
        "colab": {
          "base_uri": "https://localhost:8080/",
          "height": 322
        },
        "outputId": "9e76c0aa-a1c0-4ea8-95ce-fc8c64379508"
      },
      "source": [
        "my_primes = primes_up_to(1000000)"
      ],
      "execution_count": null,
      "outputs": [
        {
          "output_type": "stream",
          "text": [
            "36509 primes:  43%|████▎     | 434338/999997 [10:20<13:28, 699.91it/s]\n"
          ],
          "name": "stderr"
        },
        {
          "output_type": "error",
          "ename": "KeyboardInterrupt",
          "evalue": "ignored",
          "traceback": [
            "\u001b[0;31m---------------------------------------------------------------------------\u001b[0m",
            "\u001b[0;31mKeyboardInterrupt\u001b[0m                         Traceback (most recent call last)",
            "\u001b[0;32m<ipython-input-9-f54084f8da11>\u001b[0m in \u001b[0;36m<module>\u001b[0;34m()\u001b[0m\n\u001b[0;32m----> 1\u001b[0;31m \u001b[0mmy_primes\u001b[0m \u001b[0;34m=\u001b[0m \u001b[0mprimes_up_to\u001b[0m\u001b[0;34m(\u001b[0m\u001b[0;36m1000000\u001b[0m\u001b[0;34m)\u001b[0m\u001b[0;34m\u001b[0m\u001b[0;34m\u001b[0m\u001b[0m\n\u001b[0m",
            "\u001b[0;32m<ipython-input-8-799612537cb6>\u001b[0m in \u001b[0;36mprimes_up_to\u001b[0;34m(n)\u001b[0m\n\u001b[1;32m      9\u001b[0m     \u001b[0;32mfor\u001b[0m \u001b[0mi\u001b[0m \u001b[0;32min\u001b[0m \u001b[0mt\u001b[0m\u001b[0;34m:\u001b[0m\u001b[0;34m\u001b[0m\u001b[0;34m\u001b[0m\u001b[0m\n\u001b[1;32m     10\u001b[0m       \u001b[0;31m#如果沒有比i小的質數能整除i，i就是一個質數\u001b[0m\u001b[0;34m\u001b[0m\u001b[0;34m\u001b[0m\u001b[0;34m\u001b[0m\u001b[0m\n\u001b[0;32m---> 11\u001b[0;31m       \u001b[0mi_is_prime\u001b[0m \u001b[0;34m=\u001b[0m \u001b[0;32mnot\u001b[0m \u001b[0many\u001b[0m \u001b[0;34m(\u001b[0m\u001b[0mi\u001b[0m\u001b[0;34m%\u001b[0m\u001b[0mp\u001b[0m \u001b[0;34m==\u001b[0m \u001b[0;36m0\u001b[0m \u001b[0;32mfor\u001b[0m \u001b[0mp\u001b[0m \u001b[0;32min\u001b[0m \u001b[0mprimes\u001b[0m\u001b[0;34m)\u001b[0m\u001b[0;34m\u001b[0m\u001b[0;34m\u001b[0m\u001b[0m\n\u001b[0m\u001b[1;32m     12\u001b[0m       \u001b[0;32mif\u001b[0m \u001b[0mi_is_prime\u001b[0m\u001b[0;34m:\u001b[0m\u001b[0;34m\u001b[0m\u001b[0;34m\u001b[0m\u001b[0m\n\u001b[1;32m     13\u001b[0m         \u001b[0mprimes\u001b[0m\u001b[0;34m.\u001b[0m\u001b[0mappend\u001b[0m\u001b[0;34m(\u001b[0m\u001b[0mi\u001b[0m\u001b[0;34m)\u001b[0m\u001b[0;34m\u001b[0m\u001b[0;34m\u001b[0m\u001b[0m\n",
            "\u001b[0;32m<ipython-input-8-799612537cb6>\u001b[0m in \u001b[0;36m<genexpr>\u001b[0;34m(.0)\u001b[0m\n\u001b[1;32m      9\u001b[0m     \u001b[0;32mfor\u001b[0m \u001b[0mi\u001b[0m \u001b[0;32min\u001b[0m \u001b[0mt\u001b[0m\u001b[0;34m:\u001b[0m\u001b[0;34m\u001b[0m\u001b[0;34m\u001b[0m\u001b[0m\n\u001b[1;32m     10\u001b[0m       \u001b[0;31m#如果沒有比i小的質數能整除i，i就是一個質數\u001b[0m\u001b[0;34m\u001b[0m\u001b[0;34m\u001b[0m\u001b[0;34m\u001b[0m\u001b[0m\n\u001b[0;32m---> 11\u001b[0;31m       \u001b[0mi_is_prime\u001b[0m \u001b[0;34m=\u001b[0m \u001b[0;32mnot\u001b[0m \u001b[0many\u001b[0m \u001b[0;34m(\u001b[0m\u001b[0mi\u001b[0m\u001b[0;34m%\u001b[0m\u001b[0mp\u001b[0m \u001b[0;34m==\u001b[0m \u001b[0;36m0\u001b[0m \u001b[0;32mfor\u001b[0m \u001b[0mp\u001b[0m \u001b[0;32min\u001b[0m \u001b[0mprimes\u001b[0m\u001b[0;34m)\u001b[0m\u001b[0;34m\u001b[0m\u001b[0;34m\u001b[0m\u001b[0m\n\u001b[0m\u001b[1;32m     12\u001b[0m       \u001b[0;32mif\u001b[0m \u001b[0mi_is_prime\u001b[0m\u001b[0;34m:\u001b[0m\u001b[0;34m\u001b[0m\u001b[0;34m\u001b[0m\u001b[0m\n\u001b[1;32m     13\u001b[0m         \u001b[0mprimes\u001b[0m\u001b[0;34m.\u001b[0m\u001b[0mappend\u001b[0m\u001b[0;34m(\u001b[0m\u001b[0mi\u001b[0m\u001b[0;34m)\u001b[0m\u001b[0;34m\u001b[0m\u001b[0;34m\u001b[0m\u001b[0m\n",
            "\u001b[0;31mKeyboardInterrupt\u001b[0m: "
          ]
        }
      ]
    },
    {
      "cell_type": "markdown",
      "metadata": {
        "id": "u7horRm62qOH"
      },
      "source": [
        "# 降減維度  \n",
        "有時資料真正的維度並非與我們已知的有關連。  \n",
        "因此需借助**主成分分析(PCA,principle component analysis)**提取一至多個維度史資料在該維度上展現最大的變異量。"
      ]
    },
    {
      "cell_type": "markdown",
      "metadata": {
        "id": "ZatRqOweRG85"
      },
      "source": [
        "## 主成分分析(PCA,principle component analysis)\n",
        "1. 對資料進行轉換，使每個維度的平均值為0\n",
        "2. 透過梯度運算找出變異量最大的方向\n",
        "3. 得到主成分向量\n",
        "---------------\n",
        "4. 移除資料投影在第一主成分上的分量\n",
        "5. 透過梯度運算找出變異量最大的方向\n",
        "6. 得到另一個的主成分向量\n"
      ]
    },
    {
      "cell_type": "code",
      "metadata": {
        "id": "DIYYRcokG8Wz"
      },
      "source": [
        "# 範例資料集\n",
        "X = [\n",
        "    [20.9666776351559,-13.1138080189357],\n",
        "    [22.7719907680008,-19.8890894944696],\n",
        "    [25.6687103160153,-11.9956004517219],\n",
        "    [18.0019794950564,-18.1989191165133],\n",
        "    [21.3967402102156,-10.8893126308196],\n",
        "    [0.443696899177716,-19.7221132386308],\n",
        "    [29.9198322142127,-14.0958668502427],\n",
        "    [19.0805843080126,-13.7888747608312],\n",
        "    [16.4685063521314,-11.2612927034291],\n",
        "    [21.4597664701884,-12.4740034586705],\n",
        "    [3.87655283720532,-17.575162461771],\n",
        "    [34.5713920556787,-10.705185165378],\n",
        "    [13.3732115747722,-16.7270274494424],\n",
        "    [20.7281704141919,-8.81165591556553],\n",
        "    [24.839851437942,-12.1240962157419],\n",
        "    [20.3019544741252,-12.8725060780898],\n",
        "    [21.9021426929599,-17.3225432396452],\n",
        "    [23.2285885715486,-12.2676568419045],\n",
        "    [28.5749111681851,-13.2616470619453],\n",
        "    [29.2957424128701,-14.6299928678996],\n",
        "    [15.2495527798625,-18.4649714274207],\n",
        "    [26.5567257400476,-9.19794350561966],\n",
        "    [30.1934232346361,-12.6272709845971],\n",
        "    [36.8267446011057,-7.25409849336718],\n",
        "    [32.157416823084,-10.4729534347553],\n",
        "    [5.85964365291694,-22.6573731626132],\n",
        "    [25.7426190674693,-14.8055803854566],\n",
        "    [16.237602636139,-16.5920595763719],\n",
        "    [14.7408608850568,-20.0537715298403],\n",
        "    [6.85907008242544,-18.3965586884781],\n",
        "    [26.5918329233128,-8.92664811750842],\n",
        "    [-11.2216019958228,-27.0519081982856],\n",
        "    [8.93593745011035,-20.8261235122575],\n",
        "    [24.4481258671796,-18.0324012215159],\n",
        "    [2.82048515404903,-22.4208457598703],\n",
        "    [30.8803004755948,-11.455358009593],\n",
        "    [15.4586738236098,-11.1242825084309],\n",
        "    [28.5332537090494,-14.7898744423126],\n",
        "    [40.4830293441052,-2.41946428697183],\n",
        "    [15.7563759125684,-13.5771266003795],\n",
        "    [19.3635588851727,-20.6224770470434],\n",
        "    [13.4212840786467,-19.0238227375766],\n",
        "    [7.77570680426702,-16.6385739839089],\n",
        "    [21.4865983854408,-15.290799330002],\n",
        "    [12.6392705930724,-23.6433305964301],\n",
        "    [12.4746151388128,-17.9720169566614],\n",
        "    [23.4572410437998,-14.602080545086],\n",
        "    [13.6878189833565,-18.9687408182414],\n",
        "    [15.4077465943441,-14.5352487124086],\n",
        "    [20.3356581548895,-10.0883159703702],\n",
        "    [20.7093833689359,-12.6939091236766],\n",
        "    [11.1032293684441,-14.1383848928755],\n",
        "    [17.5048321498308,-9.2338593361801],\n",
        "    [16.3303688220188,-15.1054735529158],\n",
        "    [26.6929062710726,-13.306030567991],\n",
        "    [34.4985678099711,-9.86199941278607],\n",
        "    [39.1374291499406,-10.5621430853401],\n",
        "    [21.9088956482146,-9.95198845621849],\n",
        "    [22.2367457578087,-17.2200123442707],\n",
        "    [10.0032784145577,-19.3557700653426],\n",
        "    [14.045833906665,-15.871937521131],\n",
        "    [15.5640911917607,-18.3396956121887],\n",
        "    [24.4771926581586,-14.8715313479137],\n",
        "    [26.533415556629,-14.693883922494],\n",
        "    [12.8722580202544,-21.2750596021509],\n",
        "    [24.4768291376862,-15.9592080959207],\n",
        "    [18.2230748567433,-14.6541444069985],\n",
        "    [4.1902148367447,-20.6144032528762],\n",
        "    [12.4332594022086,-16.6079789231489],\n",
        "    [20.5483758651873,-18.8512560786321],\n",
        "    [17.8180560451358,-12.5451990696752],\n",
        "    [11.0071081078049,-20.3938092335862],\n",
        "    [8.30560561422449,-22.9503944138682],\n",
        "    [33.9857852657284,-4.8371294974382],\n",
        "    [17.4376502239652,-14.5095976075022],\n",
        "    [29.0379635148943,-14.8461553663227],\n",
        "    [29.1344666599319,-7.70862921632672],\n",
        "    [32.9730697624544,-15.5839178785654],\n",
        "    [13.4211493998212,-20.150199857584],\n",
        "    [11.380538260355,-12.8619410359766],\n",
        "    [28.672631499186,-8.51866271785711],\n",
        "    [16.4296061111902,-23.3326051279759],\n",
        "    [25.7168371582585,-13.8899296143829],\n",
        "    [13.3185154732595,-17.8959160024249],\n",
        "    [3.60832478605376,-25.4023343597712],\n",
        "    [39.5445949652652,-11.466377647931],\n",
        "    [25.1693484426101,-12.2752652925707],\n",
        "    [25.2884257196471,-7.06710309184533],\n",
        "    [6.77665715793125,-22.3947299635571],\n",
        "    [20.1844223778907,-16.0427471125407],\n",
        "    [25.5506805272535,-9.33856532270204],\n",
        "    [25.1495682602477,-7.17350567090738],\n",
        "    [15.6978431006492,-17.5979197162642],\n",
        "    [37.42780451491,-10.843637288504],\n",
        "    [22.974620174842,-10.6171162611686],\n",
        "    [34.6327117468934,-9.26182440487384],\n",
        "    [34.7042513789061,-6.9630753351114],\n",
        "    [15.6563953929008,-17.2196961218915],\n",
        "    [25.2049825789225,-14.1592086208169]\n",
        "]\n"
      ],
      "execution_count": null,
      "outputs": []
    },
    {
      "cell_type": "markdown",
      "metadata": {
        "id": "sMKYtw4ME-iC"
      },
      "source": [
        "### 圖 10-6 用錯座標軸的圖片\n"
      ]
    },
    {
      "cell_type": "code",
      "metadata": {
        "id": "SHeR-d_CHJ9u",
        "colab": {
          "base_uri": "https://localhost:8080/",
          "height": 265
        },
        "outputId": "eaff9e3e-fd4c-4624-a22d-fe0378a10b7e"
      },
      "source": [
        "import matplotlib.pyplot as plt\n",
        "\n",
        "i=0\n",
        "xs=[]\n",
        "ys=[]\n",
        "for item in X:\n",
        "  xs.append(item[0])\n",
        "  ys.append(item[1])\n",
        "\n",
        "plt.scatter(xs,ys)\n",
        "\n",
        "plt.axis([-20,50,-45,15])\n",
        "plt.grid(True,linestyle = \"--\",color = 'gray' ,linewidth = '0.5',axis='both')\n",
        "plt.show()"
      ],
      "execution_count": null,
      "outputs": [
        {
          "output_type": "display_data",
          "data": {
            "image/png": "[encoded data removed]",
            "text/plain": [
              "<Figure size 432x288 with 1 Axes>"
            ]
          },
          "metadata": {
            "tags": [],
            "needs_background": "light"
          }
        }
      ]
    },
    {
      "cell_type": "markdown",
      "metadata": {
        "id": "xNcAFk-AF1m1"
      },
      "source": [
        "## 步驟一\n",
        "對資料進行轉換，使每個維度的平均值變為零"
      ]
    },
    {
      "cell_type": "code",
      "metadata": {
        "id": "oPfjz8DoPeUf"
      },
      "source": [
        "from typing import List\n",
        "\n",
        "Vector = List[float]\n",
        "\n",
        "def vector_sum(vectors:List[Vector]) -> Vector:\n",
        "  #先檢查vertors這個向量列表是否為空\n",
        "  assert vectors,\"列表中沒有向量!\"\n",
        "\n",
        "  #檢查vertors 向量列表內的所有向量都具有相同的維度\n",
        "  num_elements=len(vectors[0])\n",
        "  assert all(len(v)==num_elements for v in vectors),\"向量維度不一致\"\n",
        "\n",
        "  #所有vectors[i]相加起來，是結果的第i個元素值\n",
        "  return [sum(vector[i] for vector in vectors) for i in range(num_elements)]\n",
        "\n",
        "def subtrate( v:Vector, w:Vector) -> Vector:\n",
        "  assert len(v) == len(w) #兩個向量必須有相同的維度\n",
        "\n",
        "  return [ v_i-w_i for v_i,w_i in zip(v,w)]\n",
        "\n",
        "def scalar_multiply(c:float,v:Vector) -> Vector:\n",
        "  return [c*v_i for v_i in v]\n",
        "\n",
        "def vector_mean(vectors:List[Vector])->Vector:\n",
        "  n=len(vectors)\n",
        "  return scalar_multiply(1/n,vector_sum(vectors))"
      ],
      "execution_count": null,
      "outputs": []
    },
    {
      "cell_type": "code",
      "metadata": {
        "id": "LbVLcLujF-so"
      },
      "source": [
        "\n",
        "def de_mean(data:List[Vector]) ->List[Vector]:\n",
        "  \"\"\"調整資料的分布中心，讓每個維度的平均值變為0\"\"\"\n",
        "  mean = vector_mean(data)\n",
        "  return [subtrate(vector,mean) for vector in data]"
      ],
      "execution_count": null,
      "outputs": []
    },
    {
      "cell_type": "markdown",
      "metadata": {
        "id": "PDspDYH2KS5z"
      },
      "source": [
        "### 圖 10-7 減去平均值之後的資料"
      ]
    },
    {
      "cell_type": "code",
      "metadata": {
        "id": "0AOheSbLKse5",
        "colab": {
          "base_uri": "https://localhost:8080/",
          "height": 269
        },
        "outputId": "703af40e-257b-46ee-cf68-1f2b83ef93f5"
      },
      "source": [
        "new_data=de_mean(X)\n",
        "\n",
        "i=0\n",
        "xs1=[]\n",
        "ys1=[]\n",
        "for item in new_data:\n",
        "  xs1.append(item[0])\n",
        "  ys1.append(item[1])\n",
        "\n",
        "plt.scatter(xs1,ys1)\n",
        "plt.axis([-40,30,-30,30])\n",
        "plt.grid(True,linestyle = \"--\",color = 'gray' ,linewidth = '0.5',axis='both')\n",
        "plt.show()"
      ],
      "execution_count": null,
      "outputs": [
        {
          "output_type": "display_data",
          "data": {
            "image/png": "[encoded data removed]",
            "text/plain": [
              "<Figure size 432x288 with 1 Axes>"
            ]
          },
          "metadata": {
            "tags": [],
            "needs_background": "light"
          }
        }
      ]
    },
    {
      "cell_type": "markdown",
      "metadata": {
        "id": "RCQL_u0SXRcL"
      },
      "source": [
        "具體來說，如果給定一個方向d(長度為1的向量)  \n",
        "矩陣中的昧一行x投影在d方向上的分量，就是x與d的點積dot(x,d)  \n",
        "且對於每個非零向量w來說，我們只要把其長度調整為1即可代表一個方向。"
      ]
    },
    {
      "cell_type": "code",
      "metadata": {
        "id": "LNHnCMczXz4u"
      },
      "source": [
        "import math\n",
        "\n",
        "def magnitude(v:Vector)->float:\n",
        "  return math.sqrt(sum_of_squares(v)) #math.sqrt 是計算平方根的一個函式"
      ],
      "execution_count": null,
      "outputs": []
    },
    {
      "cell_type": "code",
      "metadata": {
        "id": "QtlcPciIYS_3"
      },
      "source": [
        "def direction(w:Vector) ->Vector:\n",
        "  mag = magnitude(w)\n",
        "  return [w_i/mag for w_i in w]"
      ],
      "execution_count": null,
      "outputs": []
    },
    {
      "cell_type": "markdown",
      "metadata": {
        "id": "aUEnLEXuYoJw"
      },
      "source": [
        "只要給定一個非零向量w，我們即可計算出整組資料在w方向上的變異量："
      ]
    },
    {
      "cell_type": "code",
      "metadata": {
        "id": "aHPpUs49YoQ5"
      },
      "source": [
        "def dot(v:Vector,w:Vector)->float:\n",
        "  #計算v_1*w_1+... +v_n*w_n\n",
        "  assert len(v)==len(w),\"兩個向量必須有相同的維度\"\n",
        "\n",
        "  return sum(v_i*w_i for v_i,w_i in zip(v,w))"
      ],
      "execution_count": null,
      "outputs": []
    },
    {
      "cell_type": "code",
      "metadata": {
        "id": "DIXiJQlJZBUR"
      },
      "source": [
        "def directional_variance(data:List[Vector],w:Vector) ->float:\n",
        "  \"\"\"\n",
        "  送回x在w這個方向上的變異量\n",
        "  \"\"\"\n",
        "  w_dir = direction(w)\n",
        "  return sum(dot(v,w_dir)**2 for v in data)"
      ],
      "execution_count": null,
      "outputs": []
    },
    {
      "cell_type": "markdown",
      "metadata": {
        "id": "DkOFhGIjen3-"
      },
      "source": [
        "運用梯度遞減的方式，找出變化量最大的方向"
      ]
    },
    {
      "cell_type": "code",
      "metadata": {
        "id": "StBaMpRueoBr"
      },
      "source": [
        "def directional_variance_gradient(data:List[Vector],w:Vector) ->Vector:\n",
        "  \"\"\"\n",
        "  變異量相當於w這個方向的梯度\n",
        "  \"\"\"\n",
        "  w_dir = direction(w)\n",
        "  return [sum(2*dot(v,w_dir)*v[i] for v in data) for i in range(len(w))]"
      ],
      "execution_count": null,
      "outputs": []
    },
    {
      "cell_type": "markdown",
      "metadata": {
        "id": "KZnc71-Mc0JN"
      },
      "source": [
        "## 第一個主成分\n",
        "使方向變異量directional_variance函式最大化的方向"
      ]
    },
    {
      "cell_type": "code",
      "metadata": {
        "id": "3yA_BFVtdCFk"
      },
      "source": [
        "from typing import List\n",
        "\n",
        "Vector = List[float]\n",
        "\n",
        "def add( v:Vector, w:Vector) -> Vector:\n",
        "  assert len(v) == len(w) ,\"兩個向量必須有相同的維度\"\n",
        "\n",
        "  return [ v_i+w_i for v_i,w_i in zip(v,w)]\n",
        "\n",
        "def dot(v:Vector,w:Vector)->float:\n",
        "  #計算v_1*w_1+... +v_n*w_n\n",
        "  assert len(v)==len(w),\"兩個向量必須有相同的維度\"\n",
        "\n",
        "  return sum(v_i*w_i for v_i,w_i in zip(v,w))\n",
        "\n",
        "def sum_of_squares(v:Vector) -> float:\n",
        "  return dot(v,v)\n",
        "\n",
        "def scalar_multiply(c:float,v:Vector) -> Vector:\n",
        "  return [c*v_i for v_i in v]\n",
        "\n",
        "def gradient_step(v:Vector,gradient:Vector,step_size:float) -> Vector:\n",
        "  \"\"\"從v沿著gradient的方向移動step_size的距離\"\"\"\n",
        "  assert len(v) == len(gradient)\n",
        "  step = scalar_multiply(step_size,gradient)\n",
        "  return add(v,step)"
      ],
      "execution_count": null,
      "outputs": []
    },
    {
      "cell_type": "code",
      "metadata": {
        "id": "rKHFm_thd56k"
      },
      "source": [
        "import tqdm\n",
        "def first_principal_component(data:List[Vector],n:int=100,step_size:float=0.1)->Vector:\n",
        "  #先從一個隨機的起始點開始\n",
        "  guess=[1.0 for _ in data[0]]\n",
        "\n",
        "  with tqdm.trange(n) as t:\n",
        "    for _ in t:\n",
        "      dv = directional_variance(data,guess)\n",
        "      gradient = directional_variance_gradient(data,guess)\n",
        "      guess = gradient_step(guess,gradient,step_size)\n",
        "      t.set_description(f\"dv:{dv:.3f}\")\n",
        "    return direction(guess)"
      ],
      "execution_count": null,
      "outputs": []
    },
    {
      "cell_type": "code",
      "metadata": {
        "colab": {
          "base_uri": "https://localhost:8080/"
        },
        "id": "YVNI4HXxByYt",
        "outputId": "2f87ae33-eb70-4c28-9b20-257662252804"
      },
      "source": [
        "first_principal_component(new_data)  # 第一個主成分"
      ],
      "execution_count": null,
      "outputs": [
        {
          "output_type": "stream",
          "text": [
            "dv:10279.151: 100%|██████████| 100/100 [00:00<00:00, 452.34it/s]\n"
          ],
          "name": "stderr"
        },
        {
          "output_type": "execute_result",
          "data": {
            "text/plain": [
              "[0.9237307801943212, 0.3830423549969252]"
            ]
          },
          "metadata": {
            "tags": []
          },
          "execution_count": 38
        }
      ]
    },
    {
      "cell_type": "markdown",
      "metadata": {
        "id": "C7yuPfBDE03K"
      },
      "source": [
        "### 圖 10-8 第一主成分"
      ]
    },
    {
      "cell_type": "code",
      "metadata": {
        "colab": {
          "base_uri": "https://localhost:8080/",
          "height": 286
        },
        "id": "kt2oiKV5E3xU",
        "outputId": "b5c0eb17-56e6-4fc7-ecab-aaa4119f5fe4"
      },
      "source": [
        "import matplotlib.pyplot as plt\n",
        "import numpy as np\n",
        "\n",
        "new_data=de_mean(X)\n",
        "\n",
        "i=0\n",
        "xs1=[]\n",
        "ys1=[]\n",
        "vector=first_principal_component(new_data)\n",
        "\n",
        "for item in new_data:\n",
        "  xs1.append(item[0])\n",
        "  ys1.append(item[1])\n",
        "\n",
        "plt.arrow(0, 0, 12*vector[0], 12*vector[1], length_includes_head=True, head_width=1,color = 'black')\n",
        "\n",
        "plt.scatter(xs1,ys1)\n",
        "plt.axis([-40,30,-30,30])\n",
        "plt.grid(True,linestyle = \"--\",color = 'gray' ,linewidth = '0.5',axis='both')\n",
        "plt.show()"
      ],
      "execution_count": null,
      "outputs": [
        {
          "output_type": "stream",
          "text": [
            "dv:10279.151: 100%|██████████| 100/100 [00:00<00:00, 452.80it/s]\n"
          ],
          "name": "stderr"
        },
        {
          "output_type": "display_data",
          "data": {
            "image/png": "[encoded data removed]",
            "text/plain": [
              "<Figure size 432x288 with 1 Axes>"
            ]
          },
          "metadata": {
            "tags": [],
            "needs_background": "light"
          }
        }
      ]
    },
    {
      "cell_type": "markdown",
      "metadata": {
        "id": "3YojngiTJnMY"
      },
      "source": [
        "一旦找到第一主成分的方向，  \n",
        "我們可以把資料投影到該方向以找出該方向對應的值"
      ]
    },
    {
      "cell_type": "code",
      "metadata": {
        "id": "3sRF9k7bLbhb"
      },
      "source": [
        "def project(v:Vector,w:Vector)->Vector:\n",
        "  \"\"\"送回v分量在w這個方向上的分量\"\"\"\n",
        "  projection_length = dot(v,w)\n",
        "  return scalar_multiply(projection_length,w)"
      ],
      "execution_count": null,
      "outputs": []
    },
    {
      "cell_type": "markdown",
      "metadata": {
        "id": "fRxOBeQ7Jy2n"
      },
      "source": [
        "如果要進一步找出其他主成分，  \n",
        "首先要移除資料投影在第一主成分上的分量"
      ]
    },
    {
      "cell_type": "code",
      "metadata": {
        "id": "GjJnhUwCMCbN"
      },
      "source": [
        "def remove_projection_from_vector(v:Vector,w:Vector) ->Vector:\n",
        "  \"\"\"把v減去v投影在w上的分量\"\"\"\n",
        "  return subtrate(v,project(v,w))"
      ],
      "execution_count": null,
      "outputs": []
    },
    {
      "cell_type": "code",
      "metadata": {
        "id": "nwbeDYX6Mc81"
      },
      "source": [
        "def remove_projection(data:List[Vector],w:Vector) ->List[Vector]:\n",
        "  return [remove_projection_from_vector(v,w) for v in data]"
      ],
      "execution_count": null,
      "outputs": []
    },
    {
      "cell_type": "markdown",
      "metadata": {
        "id": "BOARXfEvMv5D"
      },
      "source": [
        "由於這個資料及只有兩個維度。  \n",
        "因此移除第一主成分後，只剩下一維的結果。"
      ]
    },
    {
      "cell_type": "markdown",
      "metadata": {
        "id": "D4hn_uqNM_U1"
      },
      "source": [
        "### 圖 10-9 移除第一主成分之後的資料"
      ]
    },
    {
      "cell_type": "code",
      "metadata": {
        "colab": {
          "base_uri": "https://localhost:8080/",
          "height": 302
        },
        "id": "jc2MFn0qM9e7",
        "outputId": "72e551df-1ed9-4d8f-d32b-25188805c4a8"
      },
      "source": [
        "import matplotlib.pyplot as plt\n",
        "import numpy as np\n",
        "\n",
        "remove_projection=remove_projection(new_data,first_principal_component(new_data))\n",
        "\n",
        "i=0\n",
        "xs1=[]\n",
        "ys1=[]\n",
        "vector=first_principal_component(remove_projection)\n",
        "\n",
        "for item in remove_projection:\n",
        "  xs1.append(item[0])\n",
        "  ys1.append(item[1])\n",
        "\n",
        "plt.scatter(xs1,ys1)\n",
        "plt.axis([-10,10,-8,8])\n",
        "plt.grid(True,linestyle = \"--\",color = 'gray' ,linewidth = '0.5',axis='both')\n",
        "plt.show()"
      ],
      "execution_count": null,
      "outputs": [
        {
          "output_type": "stream",
          "text": [
            "dv:10279.151: 100%|██████████| 100/100 [00:00<00:00, 519.45it/s]\n",
            "dv:821.030: 100%|██████████| 100/100 [00:00<00:00, 606.16it/s]\n"
          ],
          "name": "stderr"
        },
        {
          "output_type": "display_data",
          "data": {
            "image/png": "[encoded data removed]",
            "text/plain": [
              "<Figure size 432x288 with 1 Axes>"
            ]
          },
          "metadata": {
            "tags": [],
            "needs_background": "light"
          }
        }
      ]
    },
    {
      "cell_type": "markdown",
      "metadata": {
        "id": "KA6KB12KNzpd"
      },
      "source": [
        "接著，只要對「remove_projection」進行相同的操作，\n",
        "就能得到第二個主成分"
      ]
    },
    {
      "cell_type": "code",
      "metadata": {
        "colab": {
          "base_uri": "https://localhost:8080/"
        },
        "id": "Ao-AkqR_N-9_",
        "outputId": "ae20f7dc-74f1-4636-b772-d1d4dbf15181"
      },
      "source": [
        "first_principal_component(remove_projection) # 第二個主成分"
      ],
      "execution_count": null,
      "outputs": [
        {
          "output_type": "stream",
          "text": [
            "dv:821.030: 100%|██████████| 100/100 [00:00<00:00, 505.89it/s]\n"
          ],
          "name": "stderr"
        },
        {
          "output_type": "execute_result",
          "data": {
            "text/plain": [
              "[-0.3829683874572463, 0.9237614487563316]"
            ]
          },
          "metadata": {
            "tags": []
          },
          "execution_count": 72
        }
      ]
    },
    {
      "cell_type": "markdown",
      "metadata": {
        "id": "_OVPe-jXOPOq"
      },
      "source": [
        "### 圖 10-10 前兩個主成分"
      ]
    },
    {
      "cell_type": "code",
      "metadata": {
        "colab": {
          "base_uri": "https://localhost:8080/",
          "height": 302
        },
        "id": "evRJypBkOVQn",
        "outputId": "a4a9e374-7172-475e-bfe5-5ff2e3b265fa"
      },
      "source": [
        "import matplotlib.pyplot as plt\n",
        "import numpy as np\n",
        "\n",
        "new_data=de_mean(X)\n",
        "\n",
        "i=0\n",
        "xs1=[]\n",
        "ys1=[]\n",
        "vector1=first_principal_component(new_data)\n",
        "vector2=first_principal_component(removal)\n",
        "\n",
        "for item in new_data:\n",
        "  xs1.append(item[0])\n",
        "  ys1.append(item[1])\n",
        "\n",
        "plt.arrow(0, 0, 12*vector1[0], 12*vector1[1], length_includes_head=True, head_width=1,color = 'black')\n",
        "plt.arrow(0, 0, 12*vector2[0], 12*vector2[1], length_includes_head=True, head_width=1,color = 'black')\n",
        "\n",
        "plt.scatter(xs1,ys1)\n",
        "plt.axis([-40,30,-30,30])\n",
        "plt.grid(True,linestyle = \"--\",color = 'gray' ,linewidth = '0.5',axis='both')\n",
        "plt.show()"
      ],
      "execution_count": null,
      "outputs": [
        {
          "output_type": "stream",
          "text": [
            "dv:10279.151: 100%|██████████| 100/100 [00:00<00:00, 530.79it/s]\n",
            "dv:821.030: 100%|██████████| 100/100 [00:00<00:00, 537.42it/s]\n"
          ],
          "name": "stderr"
        },
        {
          "output_type": "display_data",
          "data": {
            "image/png": "[encoded data removed]",
            "text/plain": [
              "<Figure size 432x288 with 1 Axes>"
            ]
          },
          "metadata": {
            "tags": [],
            "needs_background": "light"
          }
        }
      ]
    },
    {
      "cell_type": "markdown",
      "metadata": {
        "id": "9JCBHbTVOux_"
      },
      "source": [
        "# 其他情況：具較多維度的資料\n",
        "使用類似的迭代方式，找出其中的主成分 \n",
        "* 優點：消除維度雜訊，並整合高度相關的維度"
      ]
    },
    {
      "cell_type": "code",
      "metadata": {
        "id": "Z8F4D04JO1C1"
      },
      "source": [
        "def pca(data:List[Vector],num_components:int)->List[Vector]:\n",
        "  components:List[Vector]=[]\n",
        "  for _ in range(num_components):\n",
        "    component = first_principal_component(data)\n",
        "    components.append(component)\n",
        "    data = remove_projection(data,component)\n",
        "  return components"
      ],
      "execution_count": null,
      "outputs": []
    },
    {
      "cell_type": "markdown",
      "metadata": {
        "id": "VGxFs7szVaLY"
      },
      "source": [
        "接著將資料轉移到維度較低的空間中"
      ]
    },
    {
      "cell_type": "code",
      "metadata": {
        "id": "RqM5YnA5Vacx"
      },
      "source": [
        "def transform_vector(v:Vector,component:List[Vector]) ->Vector:\n",
        "  return[dot(v,w) for w in components]\n",
        "\n",
        "def transform(data:List[Vector],components:List[Vector])->List[Vector]:\n",
        "  return [transform_vector(v,components) for v in data]"
      ],
      "execution_count": null,
      "outputs": []
    }
  ]
}