{
  "nbformat": 4,
  "nbformat_minor": 0,
  "metadata": {
    "colab": {
      "name": "Chapter10.ipynb",
      "provenance": [],
      "authorship_tag": "ABX9TyM8jE5AgeofPCht2vgyXE0I",
      "include_colab_link": true
    },
    "kernelspec": {
      "name": "python3",
      "display_name": "Python 3"
    }
  },
  "cells": [
    {
      "cell_type": "markdown",
      "metadata": {
        "id": "view-in-github",
        "colab_type": "text"
      },
      "source": [
        "<a href=\"https://colab.research.google.com/github/hank199599/data_science_from_scratch_reading_log/blob/main/Chapter10.ipynb\" target=\"_parent\"><img src=\"https://colab.research.google.com/assets/colab-badge.svg\" alt=\"Open In Colab\"/></a>"
      ]
    },
    {
      "cell_type": "markdown",
      "metadata": {
        "id": "syER_xgsaY3f"
      },
      "source": [
        "# 一維資料"
      ]
    },
    {
      "cell_type": "code",
      "metadata": {
        "id": "mWyI25qhGPfT"
      },
      "source": [
        "from typing import List,Dict\n",
        "from collections import Counter\n",
        "import math\n",
        "import matplotlib.pyplot as plt\n",
        "\n",
        "def bucketize(point:float,bucket_size:float)->float:\n",
        "  \"\"\"以floor的方式取整數，作為bucket_size的倍數\"\"\"\n",
        "  return bucket_size * math.floor(point/bucket_size)\n",
        "\n",
        "def make_histogram(points:List[float],bucket_size:float)->Dict[float,int]:\n",
        "  \"\"\"針對資料點進行分組，並計算每個分組各有幾個資料點\"\"\"\n",
        "  return Counter(bucketize(point,bucket_size) for point in points)\n",
        "\n",
        "def plot_histogram(points:List[float],bucket_size:float,title:str=\"\"):\n",
        "  histogram = make_histogram(points,bucket_size)\n",
        "  plt.bar(histogram.keys(),histogram.values(),width=bucket_size)\n",
        "  plt.title(title)"
      ],
      "execution_count": 6,
      "outputs": []
    },
    {
      "cell_type": "markdown",
      "metadata": {
        "id": "_pd2nx2lcg8k"
      },
      "source": [
        "考慮以下兩組資料"
      ]
    },
    {
      "cell_type": "code",
      "metadata": {
        "id": "Inb5NOUPckGs"
      },
      "source": [
        "import random\n",
        "\n",
        "def normal_cdf(x:float,mu:float=0,sigma:float=1)->float:\n",
        "  return (1+math.erf((x-mu)/math.sqrt(2)/sigma))/2\n",
        "  \n",
        "def inverse_normal_cdf(p:float,\n",
        "            mu:float = 0,\n",
        "            sigma:float=1,\n",
        "            tolerance:float=0.00001) -> float:\n",
        "  # 如果不是標準常態分佈，就先轉換成標準常態分佈\n",
        "  if mu != 0 or sigma != 1:\n",
        "    return mu + sigma*inverse_normal_cdf(p,tolerance = tolerance)\n",
        "  \n",
        "  low_z = -10.0 # normal_cdf(-10)是(趨近於) 0\n",
        "  hi_z =  10.0 # normal_cdf(10)是(趨近於) 1\n",
        "  while hi_z - low_z > tolerance:  \n",
        "    mid_z = (low_z + hi_z) / 2   # 計算出中間值\n",
        "    mid_p = normal_cdf(mid_z)     # 以及累積分佈函數在該處所應對的值\n",
        "    if mid_p < p :\n",
        "      low_z = mid_z        #中間的值太低，就往上繼續搜尋\n",
        "    else:\n",
        "      hi_z = mid_z        #中間的值太高，就往下繼續搜尋\n",
        "  \n",
        "  return mid_z\n",
        "\n",
        "random.seed(0)\n",
        "\n",
        "#介於-100到100之間的均勻分布\n",
        "uniform= [200* random.random()-100 for _ in range(10000)]\n",
        "\n",
        "\n",
        "#平均值0、標準差57的常態分佈\n",
        "normal= [57* inverse_normal_cdf(random.random()) for _ in range(10000)]"
      ],
      "execution_count": 7,
      "outputs": []
    },
    {
      "cell_type": "markdown",
      "metadata": {
        "id": "-6f2lG8v-Xzx"
      },
      "source": [
        "### 圖10-1 均勻分布的直方圖\n",
        "\n"
      ]
    },
    {
      "cell_type": "code",
      "metadata": {
        "id": "r79z9T1A-jJU",
        "colab": {
          "base_uri": "https://localhost:8080/",
          "height": 281
        },
        "outputId": "50fb836e-093d-42ea-dd3b-b6633bf39310"
      },
      "source": [
        "plot_histogram(uniform,10,\"Unform Histogram\")"
      ],
      "execution_count": 8,
      "outputs": [
        {
          "output_type": "display_data",
          "data": {
            "image/png": "[encoded data removed]",
            "text/plain": [
              "<Figure size 432x288 with 1 Axes>"
            ]
          },
          "metadata": {
            "tags": [],
            "needs_background": "light"
          }
        }
      ]
    },
    {
      "cell_type": "markdown",
      "metadata": {
        "id": "O9dMcS5C-YKf"
      },
      "source": [
        "### 圖10-2 常態分布的直方圖\n"
      ]
    },
    {
      "cell_type": "code",
      "metadata": {
        "id": "_At8IA-h-sU_",
        "colab": {
          "base_uri": "https://localhost:8080/",
          "height": 281
        },
        "outputId": "5a5cce1f-1200-4bbf-e902-7b81b872c819"
      },
      "source": [
        "plot_histogram(normal,10,\"Normal Histogram\")"
      ],
      "execution_count": 9,
      "outputs": [
        {
          "output_type": "display_data",
          "data": {
            "image/png": "[encoded data removed]",
            "text/plain": [
              "<Figure size 432x288 with 1 Axes>"
            ]
          },
          "metadata": {
            "tags": [],
            "needs_background": "light"
          }
        }
      ]
    },
    {
      "cell_type": "markdown",
      "metadata": {
        "id": "A9G6sy7d_lxM"
      },
      "source": [
        "# 二維的資料"
      ]
    },
    {
      "cell_type": "code",
      "metadata": {
        "id": "-u1dyFrO_pcE",
        "colab": {
          "base_uri": "https://localhost:8080/",
          "height": 295
        },
        "outputId": "6d8e9e8d-3faa-4257-eb16-e37be07c7dee"
      },
      "source": [
        "def random_normal()->float:\n",
        "  \"\"\"送回一個從標準常態分布中隨機選取的是數字\"\"\"\n",
        "  return inverse_normal_cdf(random.random())\n",
        "\n",
        "xs=[random_normal() for _ in range(1000)]\n",
        "ys1 = [x+random_normal()/2 for x in xs]\n",
        "ys2 = [-x+random_normal()/2 for x in xs]\n",
        "\n",
        "plt.scatter(xs,ys1,marker=\".\",color=\"black\",label=\"ys1\")\n",
        "plt.scatter(xs,ys2,marker=\".\",color=\"gray\",label=\"ys2\")\n",
        "plt.xlabel('xs')\n",
        "plt.ylabel('ys')\n",
        "plt.legend(loc=9)\n",
        "plt.title(\"Very Different Joint Distributions\")\n",
        "plt.show()"
      ],
      "execution_count": 10,
      "outputs": [
        {
          "output_type": "display_data",
          "data": {
            "image/png": "[encoded data removed]",
            "text/plain": [
              "<Figure size 432x288 with 1 Axes>"
            ]
          },
          "metadata": {
            "tags": [],
            "needs_background": "light"
          }
        }
      ]
    },
    {
      "cell_type": "code",
      "metadata": {
        "id": "lJNGvzgNCwse"
      },
      "source": [
        "import math\n",
        "from typing import List\n",
        "Vector = List[float]\n",
        "\n",
        "def dot(v:Vector,w:Vector)->float:\n",
        "  #計算v_1*w_1+... +v_n*w_n\n",
        "  assert len(v)==len(w),\"兩個向量必須有相同的維度\"\n",
        "\n",
        "  return sum(v_i*w_i for v_i,w_i in zip(v,w))\n",
        "\n",
        "def sum_of_squares(v:Vector) -> float:\n",
        "  return dot(v,v)\n",
        "\n",
        "def mean(xs:List[float]) -> float:\n",
        "  return sum(xs) / len(xs)\n",
        "\n",
        "def de_mean(xs:List[float]) -> List[float]:\n",
        "  x_bar = mean(xs)\n",
        "  return [x - x_bar for x in xs] \n",
        "\n",
        "def standard_deviation(xs:List[float]) ->float:\n",
        "  return math.sqrt(variance(xs))\n",
        "\n",
        "def covariance(xs:List[float],ys:List[float]) ->float:\n",
        "  assert len(xs)==len(ys),\"xs與ys的元素必須是相同的0\"\n",
        "  \n",
        "  return dot(de_mean(xs),de_mean(ys))/(len(xs)-1)\n",
        "\n",
        "def variance(xs:List[float]) ->float:\n",
        "  assert len(xs),\"至少有兩個元素才能計算變異數\"\n",
        "\n",
        "  n = len(xs)\n",
        "  deviations = de_mean(xs)\n",
        "  return sum_of_squares(deviations) / (n-1)\n",
        "\n",
        "\n",
        "def correlation(xs:List[float],ys:List[float]) ->float:\n",
        "\n",
        "  stdev_x = standard_deviation(xs)\n",
        "  stdev_y = standard_deviation(ys)\n",
        "  if stdev_x > 0 and stdev_y > 0 :\n",
        "    return covariance(xs,ys) / stdev_x / stdev_y\n",
        "  else:\n",
        "    return 0"
      ],
      "execution_count": 20,
      "outputs": []
    },
    {
      "cell_type": "code",
      "metadata": {
        "id": "cokuDxjuCUfi",
        "colab": {
          "base_uri": "https://localhost:8080/"
        },
        "outputId": "68988a7c-4910-4d96-b9ba-d12378a4db2e"
      },
      "source": [
        "print(correlation(xs,ys1))\n",
        "print(correlation(xs,ys2))"
      ],
      "execution_count": 21,
      "outputs": [
        {
          "output_type": "stream",
          "text": [
            "0.9010493686379609\n",
            "-0.8920981526880033\n"
          ],
          "name": "stdout"
        }
      ]
    }
  ]
}