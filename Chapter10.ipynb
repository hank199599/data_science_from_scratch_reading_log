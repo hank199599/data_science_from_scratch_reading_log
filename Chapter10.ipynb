{
  "nbformat": 4,
  "nbformat_minor": 0,
  "metadata": {
    "colab": {
      "name": "Chapter10.ipynb",
      "provenance": [],
      "authorship_tag": "ABX9TyNKPzyXXaviE0g62LjvZagY",
      "include_colab_link": true
    },
    "kernelspec": {
      "name": "python3",
      "display_name": "Python 3"
    }
  },
  "cells": [
    {
      "cell_type": "markdown",
      "metadata": {
        "id": "view-in-github",
        "colab_type": "text"
      },
      "source": [
        "<a href=\"https://colab.research.google.com/github/hank199599/data_science_from_scratch_reading_log/blob/main/Chapter10.ipynb\" target=\"_parent\"><img src=\"https://colab.research.google.com/assets/colab-badge.svg\" alt=\"Open In Colab\"/></a>"
      ]
    },
    {
      "cell_type": "markdown",
      "metadata": {
        "id": "syER_xgsaY3f"
      },
      "source": [
        "# 一維資料"
      ]
    },
    {
      "cell_type": "code",
      "metadata": {
        "id": "mWyI25qhGPfT"
      },
      "source": [
        "from typing import List,Dict\n",
        "from collections import Counter\n",
        "import math\n",
        "import matplotlib as plt\n",
        "\n",
        "def bucketize(point:float,bucket_size:float)->float:\n",
        "  \"\"\"以floor的方式取整數，作為bucket_size的倍數\"\"\"\n",
        "  return bucket_size * math.floor(point/bucket_size)\n",
        "\n",
        "def make_histpgram(points:List[float],bucket_size:float)->Dict[float,int]:\n",
        "  \"\"\"針對資料點進行分組，並計算每個分組各有幾個資料點\"\"\"\n",
        "  return Counter(bucketize(point,bucket_size) for point in points)\n",
        "\n",
        "def plot_histogram(points:List[float],bucket_size:float,title:str=\"\"):\n",
        "  histogram = make_histogram(points,bucket_size)\n",
        "  plt.bar(histogram.keys(),histogram.values(),width=bucket_size)\n",
        "  plt.title(title)"
      ],
      "execution_count": 2,
      "outputs": []
    },
    {
      "cell_type": "markdown",
      "metadata": {
        "id": "_pd2nx2lcg8k"
      },
      "source": [
        "考慮以下兩組資料"
      ]
    },
    {
      "cell_type": "code",
      "metadata": {
        "id": "Inb5NOUPckGs"
      },
      "source": [
        "import random\n",
        "from scratch.probability import inverse_normal_cdf"
      ],
      "execution_count": null,
      "outputs": []
    }
  ]
}