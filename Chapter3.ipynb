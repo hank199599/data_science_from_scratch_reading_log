{
  "nbformat": 4,
  "nbformat_minor": 0,
  "metadata": {
    "colab": {
      "name": "Chapter3.ipynb",
      "provenance": [],
      "authorship_tag": "ABX9TyPZrU/EyioG1X+27rt3P6T8",
      "include_colab_link": true
    },
    "kernelspec": {
      "name": "python3",
      "display_name": "Python 3"
    }
  },
  "cells": [
    {
      "cell_type": "markdown",
      "metadata": {
        "id": "view-in-github",
        "colab_type": "text"
      },
      "source": [
        "<a href=\"https://colab.research.google.com/github/hank199599/data_science_from_scratch_reading_log/blob/main/Chapter3.ipynb\" target=\"_parent\"><img src=\"https://colab.research.google.com/assets/colab-badge.svg\" alt=\"Open In Colab\"/></a>"
      ]
    },
    {
      "cell_type": "markdown",
      "metadata": {
        "id": "adRIKYMKJLLN"
      },
      "source": [
        "# matplotlib\n",
        "一個被廣泛運用的函式庫  \n",
        "可用來製作：\n",
        "* 長條圖\n",
        "* 折線圖\n",
        "* 散點圖\n",
        "  \n",
        "✪了解更多：[官方網站](https://matplotlib.org)"
      ]
    },
    {
      "cell_type": "code",
      "metadata": {
        "id": "mWyI25qhGPfT"
      },
      "source": [
        "pip install matplotlib"
      ],
      "execution_count": null,
      "outputs": []
    },
    {
      "cell_type": "markdown",
      "metadata": {
        "id": "G0wdSxtTJk3B"
      },
      "source": [
        "### 圖 3-1\n",
        "一個簡單的折線圖"
      ]
    },
    {
      "cell_type": "code",
      "metadata": {
        "id": "aaUeRrOLJqGn",
        "outputId": "722009c6-a9a5-416e-9484-c01066d1c658",
        "colab": {
          "base_uri": "https://localhost:8080/",
          "height": 281
        }
      },
      "source": [
        "from matplotlib import pyplot as plt #習慣上會將pyplot函數簡化為plt進行呼叫\n",
        "\n",
        "years =[1950,1960,1970,1980,1990,2000,2010]\n",
        "gdp=[300.2,543.3,1075.9,2862.5,5979.6,10289.7,14958.3]\n",
        "\n",
        "#建立一個折線圖，x軸線是年份；y軸是GDP\n",
        "plt.plot(years,gdp,color=\"green\",marker=\"o\",linestyle='solid')\n",
        "\n",
        "#加上標題\n",
        "plt.title(\"Normal GDP\")\n",
        "\n",
        "#在y軸上加上標籤\n",
        "plt.ylabel(\"Billion of $\")\n",
        "plt.show()"
      ],
      "execution_count": 4,
      "outputs": [
        {
          "output_type": "display_data",
          "data": {
            "image/png": "[encoded data removed]",
            "text/plain": [
              "<Figure size 432x288 with 1 Axes>"
            ]
          },
          "metadata": {
            "tags": [],
            "needs_background": "light"
          }
        }
      ]
    },
    {
      "cell_type": "markdown",
      "metadata": {
        "id": "doRXNmDlLYQb"
      },
      "source": [
        "# 長條圖/直方圖\n",
        "用於將數組**離散項目**之間的數量變化關係表達出來\n",
        "\n",
        "```\n",
        "matplotlib.pyplot.bar(x, height, width=0.8, bottom=None, *, align='center', data=None, **kwargs)\n",
        "```\n",
        "\n"
      ]
    },
    {
      "cell_type": "markdown",
      "metadata": {
        "id": "rRgifWsvMH6M"
      },
      "source": [
        "## 圖 3-2\n",
        "好幾部不同電影獲得奧斯卡金像獎的數量"
      ]
    },
    {
      "cell_type": "code",
      "metadata": {
        "id": "uSkGR8skLi_6",
        "outputId": "957eb24e-34f0-4931-8513-ba6a233240ad",
        "colab": {
          "base_uri": "https://localhost:8080/",
          "height": 281
        }
      },
      "source": [
        "movies=[\"Annie Hall\",\"Ben-Hur\",\"Casablance\",\"Gandhi\",\"West Side Story\"]\n",
        "num_oscars=[5,11,3,8,10]\n",
        "\n",
        "#以[0,1,2,3,4]為x軸，高度為[num_oscars]→畫出長條圖\n",
        "plt.bar(range(len(movies)),num_oscars)\n",
        "\n",
        "plt.title(\"My Favorate Movies\")\n",
        "plt.ylabel(\"# of Acdaemy Adwards\")\n",
        "\n",
        "#把電影名稱當作x軸的標籤，放在長條圖的中央位置\n",
        "plt.xticks(range(len(movies)),movies)\n",
        "\n",
        "plt.show()"
      ],
      "execution_count": 7,
      "outputs": [
        {
          "output_type": "display_data",
          "data": {
            "image/png": "[encoded data removed]",
            "text/plain": [
              "<Figure size 432x288 with 1 Axes>"
            ]
          },
          "metadata": {
            "tags": [],
            "needs_background": "light"
          }
        }
      ]
    },
    {
      "cell_type": "markdown",
      "metadata": {
        "id": "kelCCeHROeZM"
      },
      "source": [
        "## 圖3-3\n",
        "透過長條圖畫出一堆數值的直方圖"
      ]
    },
    {
      "cell_type": "code",
      "metadata": {
        "id": "RpPaQspyOnKT",
        "outputId": "3754f100-b7e6-4b4a-e98f-b4488594825e",
        "colab": {
          "base_uri": "https://localhost:8080/",
          "height": 295
        }
      },
      "source": [
        "from collections import Counter\n",
        "grades=[83,95,91,87,70,0,85,82,100,67,73,77,0]\n",
        "\n",
        "#以10為區間，並把100算入90這一組 →生成一個字典\n",
        "histogram = Counter(min(grade//10*10,90) for grade in grades)\n",
        "\n",
        "plt.bar([x+5 for x in histogram.keys()], # 將長條圖往右平移5個單位\n",
        "  histogram.values(),            # 將長條圖設定正確的高度\n",
        "  10,                    # 將長條圖的寬度設定為10\n",
        "  edgecolor=(0,0,0))             # 每個長條圖都加上黑框\n",
        "\n",
        "plt.axis([-5,105,0,5])             # x軸範圍設定為 -5 到 105 ；y軸設定為 0 到 5\n",
        "\n",
        "plt.xticks([10*i for i in range(11)])\n",
        "plt.xlabel(\"Decile\")\n",
        "plt.ylabel(\"# of students\")\n",
        "plt.title(\"Distribution of Exam 1 Grades\")\n",
        "\n",
        "plt.show()"
      ],
      "execution_count": 15,
      "outputs": [
        {
          "output_type": "display_data",
          "data": {
            "image/png": "[encoded data removed]",
            "text/plain": [
              "<Figure size 432x288 with 1 Axes>"
            ]
          },
          "metadata": {
            "tags": [],
            "needs_background": "light"
          }
        }
      ]
    },
    {
      "cell_type": "markdown",
      "metadata": {
        "id": "a79l0dTVSKQ6"
      },
      "source": [
        "## 圖3-4\n",
        "若y軸不是自0開始，易誤導人們的看法\n"
      ]
    },
    {
      "cell_type": "code",
      "metadata": {
        "id": "0XV3TP4aSWFR"
      },
      "source": [
        "mentions=[500,505]\n",
        "years=[2017,2018]\n",
        "\n",
        "plt.bar(years,mentions,0.8)\n",
        "plt.xticks(years)\n",
        "plt.ylabel(\"# of times I heard someone say 'data science'\")\n",
        "\n",
        "#如果不這麼做，matplotlib會將x軸標籤設為0,1\n",
        "#然後在角落加個 +2.013e3 (這是matplotlib的問題!)\n"
      ],
      "execution_count": null,
      "outputs": []
    }
  ]
}