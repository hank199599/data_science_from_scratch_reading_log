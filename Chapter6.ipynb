{
  "nbformat": 4,
  "nbformat_minor": 0,
  "metadata": {
    "colab": {
      "name": "Chapter6.ipynb",
      "provenance": [],
      "authorship_tag": "ABX9TyOptpGdykpqT2T6MsklEayJ",
      "include_colab_link": true
    },
    "kernelspec": {
      "name": "python3",
      "display_name": "Python 3"
    }
  },
  "cells": [
    {
      "cell_type": "markdown",
      "metadata": {
        "id": "view-in-github",
        "colab_type": "text"
      },
      "source": [
        "<a href=\"https://colab.research.google.com/github/hank199599/data_science_from_scratch_reading_log/blob/main/Chapter6.ipynb\" target=\"_parent\"><img src=\"https://colab.research.google.com/assets/colab-badge.svg\" alt=\"Open In Colab\"/></a>"
      ]
    },
    {
      "cell_type": "markdown",
      "metadata": {
        "id": "nXGQC7on-jYz"
      },
      "source": [
        "# 機率 (Property)\n"
      ]
    },
    {
      "cell_type": "markdown",
      "metadata": {
        "id": "jE047iOH-zJ-"
      },
      "source": [
        "## 概念\n",
        "\n",
        "自**事件空間(universe of events)**中挑出某些事件(events)，並衡量其中不確定性得一種量化方式。\n",
        "\n",
        "\n",
        "```\n",
        "P(E)：事件E的機率\n",
        "```\n",
        "\n"
      ]
    },
    {
      "cell_type": "markdown",
      "metadata": {
        "id": "byJd8kQbAqUg"
      },
      "source": [
        "## 相依與獨立"
      ]
    },
    {
      "cell_type": "markdown",
      "metadata": {
        "id": "HOFz0gxnDiOI"
      },
      "source": [
        "### 相依性 (dependent)\n",
        "「事件E是否發生」可以協助判斷「事件F是否發生」  \n",
        "  \n",
        "範例：  \n",
        "「第一次丟出正面」的機率是1/2，「兩次都丟出反面」的機率是1/4\n",
        "但「第一次丟出正面，而且兩次都丟出反面」的機率為0→非獨立事件"
      ]
    },
    {
      "cell_type": "markdown",
      "metadata": {
        "id": "-6r4BmR4DnWW"
      },
      "source": [
        "### 獨立性 (independent)\n",
        "「事件E是否發生」無法協助判斷「事件F是否發生」\n",
        "  \n",
        "範例：  \n",
        "丟兩次銅板，即使第一次丟出正面，並無法知道第二次丟出正面會不會發生\n",
        "數學上：如果E跟F這兩個事件全部發生的機率，正好等於兩個事件個別發生機率的乘積。即可認為這兩個事件是獨立的。\n",
        "\n",
        "\n",
        "```\n",
        "P(E,F) = P(E)P(F)\n",
        "```\n",
        "\n"
      ]
    },
    {
      "cell_type": "markdown",
      "metadata": {
        "id": "SW7Nra41IGo-"
      },
      "source": [
        "# 條件機率(conditional probability)"
      ]
    },
    {
      "cell_type": "markdown",
      "metadata": {
        "id": "J7BAhZ2MIRP1"
      },
      "source": [
        "## E跟F兩個事件是獨立的\n",
        "```\n",
        "P(E,F) = P(E)P(F)\n",
        "```"
      ]
    },
    {
      "cell_type": "markdown",
      "metadata": {
        "id": "37IKsKCyIdQG"
      },
      "source": [
        "## E跟F兩個事件是不一定是獨立的\n"
      ]
    },
    {
      "cell_type": "markdown",
      "metadata": {
        "id": "nb1mfB0uIpA9"
      },
      "source": [
        "「在F條件下」E發生的機率\n",
        "\n",
        "\n",
        "```\n",
        "P(E|F) = P(E,F)/P(F)\n",
        "```\n",
        "\n"
      ]
    },
    {
      "cell_type": "markdown",
      "metadata": {
        "id": "v72FU4V5I4T0"
      },
      "source": [
        "如果知道**已經發生事件F**，則發生事件E的機率是P(E|F)\n",
        "\n",
        "\n",
        "```\n",
        "P(E|F) = P(E,F)P(F)\n",
        "```\n",
        "\n"
      ]
    },
    {
      "cell_type": "markdown",
      "metadata": {
        "id": "7RJ5i4dNJagV"
      },
      "source": [
        "若事件E和F是互相獨立的，則式子會變成這樣：\n",
        "\n",
        "\n",
        "```\n",
        "P(E|F) = P(E)\n",
        "```\n",
        "即事件F沒有發生對於我們要判對事件E會不會發生沒有任何幫助\n"
      ]
    },
    {
      "cell_type": "markdown",
      "metadata": {
        "id": "2Ca3PvCvKfQt"
      },
      "source": [
        "## 範例：兩個小孩(性別未知)的一個小家庭\n",
        "* 每個小孩究竟是男生或女生，其性別機率是一樣的\n",
        "* 第二個小孩的性別，與第一個小孩的性別無關\n",
        "  \n",
        "可以得知：\n",
        "* 「兩個都是男生」的機率：1/4\n",
        "* 「 一男一女 」的機率：1/2\n",
        "* 「兩個都是女生」的機率：1/4"
      ]
    },
    {
      "cell_type": "markdown",
      "metadata": {
        "id": "k_Cba9oBLIs-"
      },
      "source": [
        "### 1.\n",
        "條件(G)：「大的那個小孩是女生」(*已發生的獨立事件*)  \n",
        "機率(B)：「兩個都是女生」  \n",
        "  \n",
        "根據條件機率的定義計算如下：  \n",
        "\n",
        "\n",
        "```\n",
        "P(B|G) = P(B,G)/P(G) = P(B)/P(G) = 1/2\n",
        "```\n",
        "事件B跟G都發生的機率，其實就等於事件B(兩個都是女生)的機率 P(B)\n"
      ]
    },
    {
      "cell_type": "markdown",
      "metadata": {
        "id": "L89jXT8yMNb4"
      },
      "source": [
        "### 2.\n",
        "條件(L)：「至少有一個是女生」  \n",
        "機率(B)：「兩個都是女生」  \n",
        "  \n",
        "根據條件機率的定義計算如下：  \n",
        "\n",
        "\n",
        "```\n",
        "P(B|L) = P(B,L)/P(L) = P(B)/P(L) = 1/3\n",
        "```\n",
        "「至少有一個是女生」，需要考慮：\n",
        "* 「 一男一女 」的機率：1/2\n",
        "* 「兩個都是女生」的機率：1/4\n",
        "→總機率P(L) = 1/2+1/4 = 3/4\n"
      ]
    },
    {
      "cell_type": "markdown",
      "metadata": {
        "id": "Z9hrLCIhNY_P"
      },
      "source": [
        "## 利用Python來檢查以上結果是否正確"
      ]
    },
    {
      "cell_type": "code",
      "metadata": {
        "id": "v9HPKh4pNj58"
      },
      "source": [
        "import enum,random\n",
        "# Enum 指的是一組具有特定型別的列舉值\n",
        "# 我們可以運用它讓程式碼更具有可讀性與說明效果\n",
        "\n",
        "class Kid(enum.Enum):\n",
        "  BOY = 0\n",
        "  GIRL = 1\n",
        "\n",
        "def random_kid() -> Kid:\n",
        "  return random.choice([Kid.BOY,Kid.GIRL])\n",
        "\n",
        "random.seed(0)\n",
        "\n",
        "older_girl = 0\n",
        "both_girls = 0\n",
        "either_girl = 0\n",
        "\n",
        "for _ in range(10000):\n",
        "  younger = random_kid()\n",
        "  older  = random_kid()\n",
        "\n",
        "  if older == Kid.GIRL:\n",
        "    older_girl += 1\n",
        "  if older == Kid.GIRL and younger == Kid.GIRL:\n",
        "    both_girls += 1\n",
        "  if older == Kid.GIRL or younger == Kid.GIRL:\n",
        "    either_girl += 1  "
      ],
      "execution_count": 4,
      "outputs": []
    },
    {
      "cell_type": "code",
      "metadata": {
        "id": "lSDTd6rZPLKN",
        "outputId": "2356e805-cfd7-4547-f727-89a6389caa88",
        "colab": {
          "base_uri": "https://localhost:8080/"
        }
      },
      "source": [
        "print(\"P(both | older):\",both_girls/older_girl)  # 機率大約等同1/2\n",
        "print(\"P(both | either):\",both_girls/either_girl) # 機率大約等同1/3"
      ],
      "execution_count": 6,
      "outputs": [
        {
          "output_type": "stream",
          "text": [
            "P(both | older): 0.5007089325501317\n",
            "P(both | either): 0.3311897106109325\n"
          ],
          "name": "stdout"
        }
      ]
    },
    {
      "cell_type": "markdown",
      "metadata": {
        "id": "w1d7luofPqd2"
      },
      "source": [
        "## 貝氏定理"
      ]
    },
    {
      "cell_type": "markdown",
      "metadata": {
        "id": "Cm8WuX59PwWj"
      },
      "source": [
        "## 隨機變數"
      ]
    },
    {
      "cell_type": "markdown",
      "metadata": {
        "id": "JtUsOojZPyXD"
      },
      "source": [
        "## 連續分布"
      ]
    },
    {
      "cell_type": "markdown",
      "metadata": {
        "id": "hGGQUDmZP2Ij"
      },
      "source": [
        "## 常態分布"
      ]
    },
    {
      "cell_type": "markdown",
      "metadata": {
        "id": "BroPhoabP5kU"
      },
      "source": [
        "## 中央極限定理"
      ]
    }
  ]
}