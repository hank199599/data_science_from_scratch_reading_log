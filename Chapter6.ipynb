{
  "nbformat": 4,
  "nbformat_minor": 0,
  "metadata": {
    "colab": {
      "name": "Chapter6.ipynb",
      "provenance": [],
      "authorship_tag": "ABX9TyN0D/3LNsnRbcaPefL5BSBm",
      "include_colab_link": true
    },
    "kernelspec": {
      "name": "python3",
      "display_name": "Python 3"
    }
  },
  "cells": [
    {
      "cell_type": "markdown",
      "metadata": {
        "id": "view-in-github",
        "colab_type": "text"
      },
      "source": [
        "<a href=\"https://colab.research.google.com/github/hank199599/data_science_from_scratch_reading_log/blob/main/Chapter6.ipynb\" target=\"_parent\"><img src=\"https://colab.research.google.com/assets/colab-badge.svg\" alt=\"Open In Colab\"/></a>"
      ]
    },
    {
      "cell_type": "markdown",
      "metadata": {
        "id": "nXGQC7on-jYz"
      },
      "source": [
        "# 機率 (Property)\n"
      ]
    },
    {
      "cell_type": "markdown",
      "metadata": {
        "id": "jE047iOH-zJ-"
      },
      "source": [
        "## 概念\n",
        "\n",
        "自**事件空間(universe of events)**中挑出某些事件(events)，並衡量其中不確定性得一種量化方式。\n",
        "\n",
        "\n",
        "```\n",
        "P(E)：事件E的機率\n",
        "```\n",
        "\n"
      ]
    },
    {
      "cell_type": "markdown",
      "metadata": {
        "id": "byJd8kQbAqUg"
      },
      "source": [
        "## 相依與獨立"
      ]
    },
    {
      "cell_type": "markdown",
      "metadata": {
        "id": "HOFz0gxnDiOI"
      },
      "source": [
        "### 相依性 (dependent)\n",
        "「事件E是否發生」可以協助判斷「事件F是否發生」  \n",
        "  \n",
        "範例：  \n",
        "「第一次丟出正面」的機率是1/2，「兩次都丟出反面」的機率是1/4\n",
        "但「第一次丟出正面，而且兩次都丟出反面」的機率為0→非獨立事件"
      ]
    },
    {
      "cell_type": "markdown",
      "metadata": {
        "id": "-6r4BmR4DnWW"
      },
      "source": [
        "### 獨立性 (independent)\n",
        "「事件E是否發生」無法協助判斷「事件F是否發生」\n",
        "  \n",
        "範例：  \n",
        "丟兩次銅板，即使第一次丟出正面，並無法知道第二次丟出正面會不會發生\n",
        "數學上：如果E跟F這兩個事件全部發生的機率，正好等於兩個事件個別發生機率的乘積。即可認為這兩個事件是獨立的。\n",
        "\n",
        "\n",
        "```\n",
        "P(E,F) = P(E)P(F)\n",
        "```\n",
        "\n"
      ]
    },
    {
      "cell_type": "markdown",
      "metadata": {
        "id": "SW7Nra41IGo-"
      },
      "source": [
        "# 條件機率(conditional probability)"
      ]
    },
    {
      "cell_type": "markdown",
      "metadata": {
        "id": "J7BAhZ2MIRP1"
      },
      "source": [
        "## E跟F兩個事件是獨立的\n",
        "```\n",
        "P(E,F) = P(E)P(F)\n",
        "```"
      ]
    },
    {
      "cell_type": "markdown",
      "metadata": {
        "id": "37IKsKCyIdQG"
      },
      "source": [
        "## E跟F兩個事件是不一定是獨立的\n"
      ]
    },
    {
      "cell_type": "markdown",
      "metadata": {
        "id": "nb1mfB0uIpA9"
      },
      "source": [
        "「在F條件下」E發生的機率\n",
        "\n",
        "\n",
        "```\n",
        "P(E|F) = P(E,F)/P(F)\n",
        "```\n",
        "\n"
      ]
    },
    {
      "cell_type": "markdown",
      "metadata": {
        "id": "v72FU4V5I4T0"
      },
      "source": [
        "如果知道**已經發生事件F**，則發生事件E的機率是P(E|F)\n",
        "\n",
        "\n",
        "```\n",
        "P(E|F) = P(E,F)P(F)\n",
        "```\n",
        "\n"
      ]
    },
    {
      "cell_type": "markdown",
      "metadata": {
        "id": "7RJ5i4dNJagV"
      },
      "source": [
        "若事件E和F是互相獨立的，則式子會變成這樣：\n",
        "\n",
        "\n",
        "```\n",
        "P(E|F) = P(E)\n",
        "```\n",
        "即事件F沒有發生對於我們要判對事件E會不會發生沒有任何幫助\n"
      ]
    },
    {
      "cell_type": "markdown",
      "metadata": {
        "id": "2Ca3PvCvKfQt"
      },
      "source": [
        "## 範例：兩個小孩(性別未知)的一個小家庭\n",
        "* 每個小孩究竟是男生或女生，其性別機率是一樣的\n",
        "* 第二個小孩的性別，與第一個小孩的性別無關\n",
        "  \n",
        "可以得知：\n",
        "* 「兩個都是男生」的機率：1/4\n",
        "* 「 一男一女 」的機率：1/2\n",
        "* 「兩個都是女生」的機率：1/4"
      ]
    },
    {
      "cell_type": "markdown",
      "metadata": {
        "id": "k_Cba9oBLIs-"
      },
      "source": [
        "### 1.\n",
        "條件(G)：「大的那個小孩是女生」(*已發生的獨立事件*)  \n",
        "機率(B)：「兩個都是女生」  \n",
        "  \n",
        "根據條件機率的定義計算如下：  \n",
        "\n",
        "\n",
        "```\n",
        "P(B|G) = P(B,G)/P(G) = P(B)/P(G) = 1/2\n",
        "```\n",
        "事件B跟G都發生的機率，其實就等於事件B(兩個都是女生)的機率 P(B)\n"
      ]
    },
    {
      "cell_type": "markdown",
      "metadata": {
        "id": "L89jXT8yMNb4"
      },
      "source": [
        "### 2.\n",
        "條件(L)：「至少有一個是女生」  \n",
        "機率(B)：「兩個都是女生」  \n",
        "  \n",
        "根據條件機率的定義計算如下：  \n",
        "\n",
        "\n",
        "```\n",
        "P(B|L) = P(B,L)/P(L) = P(B)/P(L) = 1/3\n",
        "```\n",
        "「至少有一個是女生」，需要考慮：\n",
        "* 「 一男一女 」的機率：1/2\n",
        "* 「兩個都是女生」的機率：1/4\n",
        "→總機率P(L) = 1/2+1/4 = 3/4\n"
      ]
    },
    {
      "cell_type": "markdown",
      "metadata": {
        "id": "Z9hrLCIhNY_P"
      },
      "source": [
        "## 利用Python來檢查以上結果是否正確"
      ]
    },
    {
      "cell_type": "code",
      "metadata": {
        "id": "v9HPKh4pNj58"
      },
      "source": [
        "import enum,random\n",
        "# Enum 指的是一組具有特定型別的列舉值\n",
        "# 我們可以運用它讓程式碼更具有可讀性與說明效果\n",
        "\n",
        "class Kid(enum.Enum):\n",
        "  BOY = 0\n",
        "  GIRL = 1\n",
        "\n",
        "def random_kid() -> Kid:\n",
        "  return random.choice([Kid.BOY,Kid.GIRL])\n",
        "\n",
        "random.seed(0)\n",
        "\n",
        "older_girl = 0\n",
        "both_girls = 0\n",
        "either_girl = 0\n",
        "\n",
        "for _ in range(10000):\n",
        "  younger = random_kid()\n",
        "  older  = random_kid()\n",
        "\n",
        "  if older == Kid.GIRL:\n",
        "    older_girl += 1\n",
        "  if older == Kid.GIRL and younger == Kid.GIRL:\n",
        "    both_girls += 1\n",
        "  if older == Kid.GIRL or younger == Kid.GIRL:\n",
        "    either_girl += 1  "
      ],
      "execution_count": null,
      "outputs": []
    },
    {
      "cell_type": "code",
      "metadata": {
        "colab": {
          "base_uri": "https://localhost:8080/"
        },
        "id": "lSDTd6rZPLKN",
        "outputId": "3d3813b7-651d-4446-c1f3-773c5ae7b09b"
      },
      "source": [
        "print(\"P(both | older):\",both_girls/older_girl)  # 機率大約等同1/2\n",
        "print(\"P(both | either):\",both_girls/either_girl) # 機率大約等同1/3"
      ],
      "execution_count": null,
      "outputs": [
        {
          "output_type": "stream",
          "text": [
            "P(both | older): 0.5007089325501317\n",
            "P(both | either): 0.3311897106109325\n"
          ],
          "name": "stdout"
        }
      ]
    },
    {
      "cell_type": "markdown",
      "metadata": {
        "id": "w1d7luofPqd2"
      },
      "source": [
        "# 貝氏定理 (Baye's theorem)\n",
        "事件F已發生的條件下，發生事件E的機率。"
      ]
    },
    {
      "cell_type": "markdown",
      "metadata": {
        "id": "LV0y_7ogagLa"
      },
      "source": [
        "已知事件E發生的條件下，發生事件F的機率。  \n",
        "只要連續使用兩次條件機率的公式就可以得到：\n",
        "\n",
        "\n",
        "```\n",
        "P(E|F) = P(E,F)/P(F) = P(F|E)P(E)/P(F)\n",
        "```\n",
        "我們可以把事件F拆分成兩個**互斥**的事件\n",
        "* 「F發生且F發生」 (F and E)\n",
        "* 「F發生且F沒發生」 (F and ¬E)\n",
        "\n",
        "則事件F可以被改寫為：\n",
        "```\n",
        "P(F) = P(F,E)+P(F,¬E)\n",
        "```\n",
        "\n",
        "套入原本的P(E|F)，就能得到下面的式子：\n",
        "\n",
        "\n",
        "```\n",
        "P(E|F) = P(F|E)P(E) / [P(F|E)P[E)+P(F|¬E)P(¬E)]\n",
        "```\n",
        "\n",
        "\n",
        "\n",
        "\n",
        "\n"
      ]
    },
    {
      "cell_type": "markdown",
      "metadata": {
        "id": "ieLqO7R1zrq4"
      },
      "source": [
        "### 範例\n",
        "假設10000人中，有一人會罹患某種疾病。  \n",
        "可能我們已經找到可以檢測出該疾病的方法，而且檢測結果有99%的正確率。  \n",
        "(若罹患該疾病，檢測結果會呈現「陽性」，否則呈現「陰性」)  \n",
        "  \n",
        "* 事件T：檢驗結果為陽性\n",
        "* 事件D：罹患該疾病  \n",
        "  \n",
        "根據貝氏定理，在檢測結果為陽性的條件下，罹患該疾病的機率為：\n",
        "```\n",
        "P(D|T) = P(T|D)P(D) / [P(T}D)P[D)+P(T|¬D)P(¬D)]\n",
        "```\n"
      ]
    },
    {
      "cell_type": "markdown",
      "metadata": {
        "id": "OnFxn9G_6mUM"
      },
      "source": [
        "已知：  \n",
        "* P(D)  「罹患該疾病」的機率：0.0001\n",
        "* P(¬D)  「未罹患該疾病」的機率：0.9999\n",
        "* P(T|D) 「罹患該疾病的情況下，檢測結果為陽性」的機率：0.99\n",
        "* P(T|¬D) 「未罹患該疾病的情況下，檢測結果為陽性」的機率：0.01\n",
        "\n",
        "帶入貝氏定理的公式，得到：\n",
        "\n",
        "\n",
        "```\n",
        "P(D|T)=0.98%\n",
        "```\n",
        "代表「檢測結果為陽性」的情況下，確實罹患該疾病的機率不到1%\n",
        "\n"
      ]
    },
    {
      "cell_type": "markdown",
      "metadata": {
        "id": "Cm8WuX59PwWj"
      },
      "source": [
        "# 隨機變數\n",
        "是一種變數，其可能的值與機率分布有關"
      ]
    },
    {
      "cell_type": "markdown",
      "metadata": {
        "id": "0uThRHl_AiwU"
      },
      "source": [
        "## 期望值\n",
        "每個值以其相應機率加權後所計算出來的平均值"
      ]
    },
    {
      "cell_type": "markdown",
      "metadata": {
        "id": "ScKir5gGA3nP"
      },
      "source": [
        "# 離散分佈(discrete distribution)\n",
        "每一個離散的結果都對應到一個正值的機率\n"
      ]
    },
    {
      "cell_type": "markdown",
      "metadata": {
        "id": "JtUsOojZPyXD"
      },
      "source": [
        "# 均勻分佈 (uniform distribution)\n",
        "從0到1所有的數值，全都具有相同的權重"
      ]
    },
    {
      "cell_type": "markdown",
      "metadata": {
        "id": "q0JzBx_zBQQj"
      },
      "source": [
        "## 機率密度函數 (PDF,probability density function)\n",
        "用以表示連續分佈"
      ]
    },
    {
      "cell_type": "code",
      "metadata": {
        "id": "DrD_FKwTTBA1"
      },
      "source": [
        "def uniform_pdf(x:float) -> float:\n",
        "  return 1 if 0 <= x else 0"
      ],
      "execution_count": 2,
      "outputs": []
    },
    {
      "cell_type": "markdown",
      "metadata": {
        "id": "mxgljxnHBemz"
      },
      "source": [
        "## 累積分佈函數 (CDF,cumulative density function)\n",
        "表示某個數值小於或等於某個數值的機率"
      ]
    },
    {
      "cell_type": "code",
      "metadata": {
        "id": "pnYoPMG-TN2l"
      },
      "source": [
        "def uniform_cdf(x:float) -> float:\n",
        "  if x < 0 : return 0  #均勻分佈隨機變數絕不會小於0\n",
        "  elif x < 1: return x  #舉例來說，P(X<=0.4) =0.4\n",
        "  else:      return 1  #均勻分佈隨機變數永遠小於1"
      ],
      "execution_count": 3,
      "outputs": []
    },
    {
      "cell_type": "markdown",
      "metadata": {
        "id": "tUtLnVmSUp8K"
      },
      "source": [
        "### 圖 6-1 \n",
        "均勻分布的CDF累積分佈函數"
      ]
    },
    {
      "cell_type": "code",
      "metadata": {
        "id": "F6cGNjz5U9RA",
        "colab": {
          "base_uri": "https://localhost:8080/",
          "height": 281
        },
        "outputId": "348b825a-9431-4e1d-fac6-cb70377a84a1"
      },
      "source": [
        "import matplotlib.pyplot as plt\n",
        "\n",
        "X=[-1,-0.5,0,0.5,1,1.5,2]\n",
        "Y=[uniform_cdf(num) for num in X]\n",
        "\n",
        "plt.plot(X,Y,color=\"green\")\n",
        "plt.axis([-1,2,-0.7,1.7])\n",
        "plt.title(\"cumulative density function (CDF)\")\n",
        "plt.show()\n"
      ],
      "execution_count": null,
      "outputs": [
        {
          "output_type": "display_data",
          "data": {
            "image/png": "[encoded data removed]",
            "text/plain": [
              "<Figure size 432x288 with 1 Axes>"
            ]
          },
          "metadata": {
            "tags": [],
            "needs_background": "light"
          }
        }
      ]
    },
    {
      "cell_type": "markdown",
      "metadata": {
        "id": "hGGQUDmZP2Ij"
      },
      "source": [
        "## 常態分布 (normal distribution)\n",
        "是一種典型的鐘形曲線分佈，可由兩個參數決定：\n",
        "* 平均值 (μ)\n",
        "* 標準差 (σ)\n",
        "\n",
        "![image](https://wikimedia.org/api/rest_v1/media/math/render/svg/6fa0f3778df769845a3862bd22921041c18dd79a)\n",
        "  \n",
        "在程式碼的實作如下圖："
      ]
    },
    {
      "cell_type": "code",
      "metadata": {
        "id": "pqKz08QTbgjd"
      },
      "source": [
        "import math\n",
        "SQRT_TWO_PI = math.sqrt(2* math.pi)\n",
        "\n",
        "def normal_pdf(x:float,mu:float=0,sigma:float=1) ->float:\n",
        "  return (math.exp(-(x-mu)**2/2/sigma**2)/(SQRT_TWO_PI*sigma))"
      ],
      "execution_count": 4,
      "outputs": []
    },
    {
      "cell_type": "markdown",
      "metadata": {
        "id": "7RMxvGuhcIaP"
      },
      "source": [
        "### 圖 6-2\n",
        "幾個不同的常態分佈PDF機率密度曲線"
      ]
    },
    {
      "cell_type": "code",
      "metadata": {
        "id": "SaJLnN9OcTO0",
        "colab": {
          "base_uri": "https://localhost:8080/",
          "height": 281
        },
        "outputId": "aae00502-c0de-4e01-e588-3b13167de204"
      },
      "source": [
        "import matplotlib.pyplot as plt\n",
        "xs=[x/10.0 for x in range(-50,50)]\n",
        "plt.plot(xs,[normal_pdf(x,sigma=1) for x in xs],'-',label='mu=0,sigma=1')\n",
        "plt.plot(xs,[normal_pdf(x,sigma=2) for x in xs],'--',label='mu=0,sigma=2')\n",
        "plt.plot(xs,[normal_pdf(x,sigma=0.5) for x in xs],':',label='mu=0,sigma=0.5')\n",
        "plt.plot(xs,[normal_pdf(x,mu=-1) for x in xs],'-.',label='mu=-1,sigma=-1')\n",
        "plt.legend() # The call signatures correspond to three different ways how to use this method.\n",
        "plt.title(\"Various Normal pdfs\")\n",
        "plt.show()"
      ],
      "execution_count": 6,
      "outputs": [
        {
          "output_type": "display_data",
          "data": {
            "image/png": "[encoded data removed]",
            "text/plain": [
              "<Figure size 432x288 with 1 Axes>"
            ]
          },
          "metadata": {
            "tags": [],
            "needs_background": "light"
          }
        }
      ]
    },
    {
      "cell_type": "markdown",
      "metadata": {
        "id": "ychvWaFRG4mc"
      },
      "source": [
        "## 標準常態分佈\n",
        "μ= 0 且 σ = 1\n"
      ]
    },
    {
      "cell_type": "markdown",
      "metadata": {
        "id": "g0YUTLvmHIc9"
      },
      "source": [
        "## 其他常態分佈\n",
        "\n",
        "```\n",
        "X = σZ+μ\n",
        "```\n",
        "則可以推得：\n",
        "```\n",
        "Z = (X-μ)/σ\n",
        "```\n"
      ]
    },
    {
      "cell_type": "markdown",
      "metadata": {
        "id": "gTsEko8MLZ0F"
      },
      "source": [
        "運用 mart.erf 誤差函數運算CDF累積分佈函式"
      ]
    },
    {
      "cell_type": "code",
      "metadata": {
        "id": "9x7Eh8idLv0v"
      },
      "source": [
        "def normal_cdf(x:float,mu:float=0,sigma:float=1)->float:\n",
        "  return (1+math.erf((x-mu)/math.sqrt(2)/sigma))/2"
      ],
      "execution_count": 11,
      "outputs": []
    },
    {
      "cell_type": "markdown",
      "metadata": {
        "id": "IwOsV7ykMFCu"
      },
      "source": [
        "### 圖 6-3\n",
        "幾個不同的常態分佈CDF曲線"
      ]
    },
    {
      "cell_type": "code",
      "metadata": {
        "id": "5uqrsQi7MKcU",
        "outputId": "48e259b4-73d7-49f2-f4a0-b625bac0d81f",
        "colab": {
          "base_uri": "https://localhost:8080/",
          "height": 281
        }
      },
      "source": [
        "import matplotlib.pyplot as plt\n",
        "xs=[x/10.0 for x in range(-50,50)]\n",
        "plt.plot(xs,[normal_cdf(x,sigma=1) for x in xs],'-',label='mu=0,sigma=1')\n",
        "plt.plot(xs,[normal_cdf(x,sigma=2) for x in xs],'--',label='mu=0,sigma=2')\n",
        "plt.plot(xs,[normal_cdf(x,sigma=0.5) for x in xs],':',label='mu=0,sigma=0.5')\n",
        "plt.plot(xs,[normal_cdf(x,mu=-1) for x in xs],'-.',label='mu=-1,sigma=-1')\n",
        "plt.legend() # The call signatures correspond to three different ways how to use this method.\n",
        "plt.title(\"Various Normal cdfs\")\n",
        "plt.show()"
      ],
      "execution_count": 12,
      "outputs": [
        {
          "output_type": "display_data",
          "data": {
            "image/png": "[encoded data removed]",
            "text/plain": [
              "<Figure size 432x288 with 1 Axes>"
            ]
          },
          "metadata": {
            "tags": [],
            "needs_background": "light"
          }
        }
      ]
    },
    {
      "cell_type": "markdown",
      "metadata": {
        "id": "BroPhoabP5kU"
      },
      "source": [
        "## 中央極限定理"
      ]
    }
  ]
}