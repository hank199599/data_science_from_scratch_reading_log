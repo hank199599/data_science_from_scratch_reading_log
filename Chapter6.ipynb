{
  "nbformat": 4,
  "nbformat_minor": 0,
  "metadata": {
    "colab": {
      "name": "Chapter6.ipynb",
      "provenance": [],
      "authorship_tag": "ABX9TyOfKeAFBJKty17Gn6x/NOHS",
      "include_colab_link": true
    },
    "kernelspec": {
      "name": "python3",
      "display_name": "Python 3"
    }
  },
  "cells": [
    {
      "cell_type": "markdown",
      "metadata": {
        "id": "view-in-github",
        "colab_type": "text"
      },
      "source": [
        "<a href=\"https://colab.research.google.com/github/hank199599/data_science_from_scratch_reading_log/blob/main/Chapter6.ipynb\" target=\"_parent\"><img src=\"https://colab.research.google.com/assets/colab-badge.svg\" alt=\"Open In Colab\"/></a>"
      ]
    },
    {
      "cell_type": "markdown",
      "metadata": {
        "id": "nXGQC7on-jYz"
      },
      "source": [
        "# 機率 (Property)\n"
      ]
    },
    {
      "cell_type": "markdown",
      "metadata": {
        "id": "jE047iOH-zJ-"
      },
      "source": [
        "## 概念\n",
        "\n",
        "自**事件空間(universe of events)**中挑出某些事件(events)，並衡量其中不確定性得一種量化方式。\n",
        "\n",
        "\n",
        "```\n",
        "P(E)：事件E的機率\n",
        "```\n",
        "\n"
      ]
    },
    {
      "cell_type": "markdown",
      "metadata": {
        "id": "byJd8kQbAqUg"
      },
      "source": [
        "## 相依與獨立"
      ]
    },
    {
      "cell_type": "markdown",
      "metadata": {
        "id": "HOFz0gxnDiOI"
      },
      "source": [
        "### 相依性 (dependent)\n",
        "「事件E是否發生」可以協助判斷「事件F是否發生」  \n",
        "  \n",
        "範例：  \n",
        "「第一次丟出正面」的機率是1/2，「兩次都丟出反面」的機率是1/4\n",
        "但「第一次丟出正面，而且兩次都丟出反面」的機率為0→非獨立事件"
      ]
    },
    {
      "cell_type": "markdown",
      "metadata": {
        "id": "-6r4BmR4DnWW"
      },
      "source": [
        "### 獨立性 (independent)\n",
        "「事件E是否發生」無法協助判斷「事件F是否發生」\n",
        "  \n",
        "範例：  \n",
        "丟兩次銅板，即使第一次丟出正面，並無法知道第二次丟出正面會不會發生\n",
        "數學上：如果E跟F這兩個事件全部發生的機率，正好等於兩個事件個別發生機率的乘積。即可認為這兩個事件是獨立的。\n",
        "\n",
        "\n",
        "```\n",
        "P(E,F) = P(E)P(F)\n",
        "```\n",
        "\n"
      ]
    },
    {
      "cell_type": "markdown",
      "metadata": {
        "id": "SW7Nra41IGo-"
      },
      "source": [
        "# 條件機率(conditional probability)"
      ]
    },
    {
      "cell_type": "markdown",
      "metadata": {
        "id": "J7BAhZ2MIRP1"
      },
      "source": [
        "## E跟F兩個事件是獨立的\n",
        "```\n",
        "P(E,F) = P(E)P(F)\n",
        "```"
      ]
    },
    {
      "cell_type": "markdown",
      "metadata": {
        "id": "37IKsKCyIdQG"
      },
      "source": [
        "## E跟F兩個事件是不一定是獨立的\n"
      ]
    },
    {
      "cell_type": "markdown",
      "metadata": {
        "id": "nb1mfB0uIpA9"
      },
      "source": [
        "「在F條件下」E發生的機率\n",
        "\n",
        "\n",
        "```\n",
        "P(E|F) = P(E,F)/P(F)\n",
        "```\n",
        "\n"
      ]
    },
    {
      "cell_type": "markdown",
      "metadata": {
        "id": "v72FU4V5I4T0"
      },
      "source": [
        "如果知道**已經發生事件F**，則發生事件E的機率是P(E|F)\n",
        "\n",
        "\n",
        "```\n",
        "P(E|F) = P(E,F)P(F)\n",
        "```\n",
        "\n"
      ]
    },
    {
      "cell_type": "markdown",
      "metadata": {
        "id": "7RJ5i4dNJagV"
      },
      "source": [
        "若事件E和F是互相獨立的，則式子會變成這樣：\n",
        "\n",
        "\n",
        "```\n",
        "P(E|F) = P(E)\n",
        "```\n",
        "即事件F沒有發生對於我們要判對事件E會不會發生沒有任何幫助\n"
      ]
    }
  ]
}