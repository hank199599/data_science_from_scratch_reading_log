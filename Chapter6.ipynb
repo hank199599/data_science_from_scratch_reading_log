{
  "nbformat": 4,
  "nbformat_minor": 0,
  "metadata": {
    "colab": {
      "name": "Chapter6.ipynb",
      "provenance": [],
      "authorship_tag": "ABX9TyNP8iPU6R8SoI/BlC7FOCD2",
      "include_colab_link": true
    },
    "kernelspec": {
      "name": "python3",
      "display_name": "Python 3"
    }
  },
  "cells": [
    {
      "cell_type": "markdown",
      "metadata": {
        "id": "view-in-github",
        "colab_type": "text"
      },
      "source": [
        "<a href=\"https://colab.research.google.com/github/hank199599/data_science_from_scratch_reading_log/blob/main/Chapter6.ipynb\" target=\"_parent\"><img src=\"https://colab.research.google.com/assets/colab-badge.svg\" alt=\"Open In Colab\"/></a>"
      ]
    },
    {
      "cell_type": "markdown",
      "metadata": {
        "id": "nXGQC7on-jYz"
      },
      "source": [
        "# 機率 (Property)\n"
      ]
    },
    {
      "cell_type": "markdown",
      "metadata": {
        "id": "jE047iOH-zJ-"
      },
      "source": [
        "## 概念\n",
        "\n",
        "自**事件空間(universe of events)**中挑出某些事件(events)，並衡量其中不確定性得一種量化方式。\n",
        "\n",
        "\n",
        "```\n",
        "P(E)：事件E的機率\n",
        "```\n",
        "\n"
      ]
    },
    {
      "cell_type": "markdown",
      "metadata": {
        "id": "byJd8kQbAqUg"
      },
      "source": [
        "## 相依與獨立"
      ]
    },
    {
      "cell_type": "markdown",
      "metadata": {
        "id": "HOFz0gxnDiOI"
      },
      "source": [
        "### 相依性 (dependent)\n",
        "「事件E是否發生」可以協助判斷「事件F是否發生」  \n",
        "  \n",
        "範例：  \n",
        "「第一次丟出正面」的機率是1/2，「兩次都丟出反面」的機率是1/4\n",
        "但「第一次丟出正面，而且兩次都丟出反面」的機率為0→非獨立事件"
      ]
    },
    {
      "cell_type": "markdown",
      "metadata": {
        "id": "-6r4BmR4DnWW"
      },
      "source": [
        "### 獨立性 (independent)\n",
        "「事件E是否發生」無法協助判斷「事件F是否發生」\n",
        "  \n",
        "範例：  \n",
        "丟兩次銅板，即使第一次丟出正面，並無法知道第二次丟出正面會不會發生\n",
        "數學上：如果E跟F這兩個事件全部發生的機率，正好等於兩個事件個別發生機率的乘積。即可認為這兩個事件是獨立的。\n",
        "\n",
        "\n",
        "```\n",
        "P(E,F) = P(E)P(F)\n",
        "```\n",
        "\n"
      ]
    },
    {
      "cell_type": "markdown",
      "metadata": {
        "id": "SW7Nra41IGo-"
      },
      "source": [
        "# 條件機率(conditional probability)"
      ]
    },
    {
      "cell_type": "markdown",
      "metadata": {
        "id": "J7BAhZ2MIRP1"
      },
      "source": [
        "## E跟F兩個事件是獨立的\n",
        "```\n",
        "P(E,F) = P(E)P(F)\n",
        "```"
      ]
    },
    {
      "cell_type": "markdown",
      "metadata": {
        "id": "37IKsKCyIdQG"
      },
      "source": [
        "## E跟F兩個事件是不一定是獨立的\n"
      ]
    },
    {
      "cell_type": "markdown",
      "metadata": {
        "id": "nb1mfB0uIpA9"
      },
      "source": [
        "「在F條件下」E發生的機率\n",
        "\n",
        "\n",
        "```\n",
        "P(E|F) = P(E,F)/P(F)\n",
        "```\n",
        "\n"
      ]
    },
    {
      "cell_type": "markdown",
      "metadata": {
        "id": "v72FU4V5I4T0"
      },
      "source": [
        "如果知道**已經發生事件F**，則發生事件E的機率是P(E|F)\n",
        "\n",
        "\n",
        "```\n",
        "P(E|F) = P(E,F)P(F)\n",
        "```\n",
        "\n"
      ]
    },
    {
      "cell_type": "markdown",
      "metadata": {
        "id": "7RJ5i4dNJagV"
      },
      "source": [
        "若事件E和F是互相獨立的，則式子會變成這樣：\n",
        "\n",
        "\n",
        "```\n",
        "P(E|F) = P(E)\n",
        "```\n",
        "即事件F沒有發生對於我們要判對事件E會不會發生沒有任何幫助\n"
      ]
    },
    {
      "cell_type": "markdown",
      "metadata": {
        "id": "2Ca3PvCvKfQt"
      },
      "source": [
        "## 範例：兩個小孩(性別未知)的一個小家庭\n",
        "* 每個小孩究竟是男生或女生，其性別機率是一樣的\n",
        "* 第二個小孩的性別，與第一個小孩的性別無關\n",
        "  \n",
        "可以得知：\n",
        "* 「兩個都是男生」的機率：1/4\n",
        "* 「 一男一女 」的機率：1/2\n",
        "* 「兩個都是女生」的機率：1/4"
      ]
    },
    {
      "cell_type": "markdown",
      "metadata": {
        "id": "k_Cba9oBLIs-"
      },
      "source": [
        "### 1.\n",
        "條件(G)：「大的那個小孩是女生」(*已發生的獨立事件*)  \n",
        "機率(B)：「兩個都是女生」  \n",
        "  \n",
        "根據條件機率的定義計算如下：  \n",
        "\n",
        "\n",
        "```\n",
        "P(B|G) = P(B,G)/P(G) = P(B)/P(G) = 1/2\n",
        "```\n",
        "事件B跟G都發生的機率，其實就等於事件B(兩個都是女生)的機率 P(B)\n"
      ]
    },
    {
      "cell_type": "markdown",
      "metadata": {
        "id": "L89jXT8yMNb4"
      },
      "source": [
        "### 2.\n",
        "條件(L)：「至少有一個是女生」  \n",
        "機率(B)：「兩個都是女生」  \n",
        "  \n",
        "根據條件機率的定義計算如下：  \n",
        "\n",
        "\n",
        "```\n",
        "P(B|L) = P(B,L)/P(L) = P(B)/P(L) = 1/3\n",
        "```\n",
        "「至少有一個是女生」，需要考慮：\n",
        "* 「 一男一女 」的機率：1/2\n",
        "* 「兩個都是女生」的機率：1/4\n",
        "→總機率P(L) = 1/2+1/4 = 3/4\n"
      ]
    },
    {
      "cell_type": "markdown",
      "metadata": {
        "id": "Z9hrLCIhNY_P"
      },
      "source": [
        "## 利用Python來檢查以上結果是否正確"
      ]
    },
    {
      "cell_type": "code",
      "metadata": {
        "id": "v9HPKh4pNj58"
      },
      "source": [
        "import enum,random\n",
        "# Enum 指的是一組具有特定型別的列舉值\n",
        "# 我們可以運用它讓程式碼更具有可讀性與說明效果\n",
        "\n",
        "class Kid(enum.Enum):\n",
        "  BOY = 0\n",
        "  GIRL = 1\n",
        "\n",
        "def random_kid() -> Kid:\n",
        "  return random.choice([Kid.BOY,Kid.GIRL])\n",
        "\n",
        "random.seed(0)\n",
        "\n",
        "older_girl = 0\n",
        "both_girls = 0\n",
        "either_girl = 0\n",
        "\n",
        "for _ in range(10000):\n",
        "  younger = random_kid()\n",
        "  older  = random_kid()\n",
        "\n",
        "  if older == Kid.GIRL:\n",
        "    older_girl += 1\n",
        "  if older == Kid.GIRL and younger == Kid.GIRL:\n",
        "    both_girls += 1\n",
        "  if older == Kid.GIRL or younger == Kid.GIRL:\n",
        "    either_girl += 1  "
      ],
      "execution_count": 7,
      "outputs": []
    },
    {
      "cell_type": "code",
      "metadata": {
        "colab": {
          "base_uri": "https://localhost:8080/"
        },
        "id": "lSDTd6rZPLKN",
        "outputId": "3d3813b7-651d-4446-c1f3-773c5ae7b09b"
      },
      "source": [
        "print(\"P(both | older):\",both_girls/older_girl)  # 機率大約等同1/2\n",
        "print(\"P(both | either):\",both_girls/either_girl) # 機率大約等同1/3"
      ],
      "execution_count": null,
      "outputs": [
        {
          "output_type": "stream",
          "text": [
            "P(both | older): 0.5007089325501317\n",
            "P(both | either): 0.3311897106109325\n"
          ],
          "name": "stdout"
        }
      ]
    },
    {
      "cell_type": "markdown",
      "metadata": {
        "id": "w1d7luofPqd2"
      },
      "source": [
        "# 貝氏定理 (Baye's theorem)\n",
        "事件F已發生的條件下，發生事件E的機率。"
      ]
    },
    {
      "cell_type": "markdown",
      "metadata": {
        "id": "LV0y_7ogagLa"
      },
      "source": [
        "已知事件E發生的條件下，發生事件F的機率。  \n",
        "只要連續使用兩次條件機率的公式就可以得到：\n",
        "\n",
        "\n",
        "```\n",
        "P(E|F) = P(E,F)/P(F) = P(F|E)P(E)/P(F)\n",
        "```\n",
        "我們可以把事件F拆分成兩個**互斥**的事件\n",
        "* 「F發生且F發生」 (F and E)\n",
        "* 「F發生且F沒發生」 (F and ¬E)\n",
        "\n",
        "則事件F可以被改寫為：\n",
        "```\n",
        "P(F) = P(F,E)+P(F,¬E)\n",
        "```\n",
        "\n",
        "套入原本的P(E|F)，就能得到下面的式子：\n",
        "\n",
        "\n",
        "```\n",
        "P(E|F) = P(F|E)P(E) / [P(F|E)P[E)+P(F|¬E)P(¬E)]\n",
        "```\n",
        "\n",
        "\n",
        "\n",
        "\n",
        "\n"
      ]
    },
    {
      "cell_type": "markdown",
      "metadata": {
        "id": "ieLqO7R1zrq4"
      },
      "source": [
        "### 範例\n",
        "假設10000人中，有一人會罹患某種疾病。  \n",
        "可能我們已經找到可以檢測出該疾病的方法，而且檢測結果有99%的正確率。  \n",
        "(若罹患該疾病，檢測結果會呈現「陽性」，否則呈現「陰性」)  \n",
        "  \n",
        "* 事件T：檢驗結果為陽性\n",
        "* 事件D：罹患該疾病  \n",
        "  \n",
        "根據貝氏定理，在檢測結果為陽性的條件下，罹患該疾病的機率為：\n",
        "```\n",
        "P(D|T) = P(T|D)P(D) / [P(T}D)P[D)+P(T|¬D)P(¬D)]\n",
        "```\n"
      ]
    },
    {
      "cell_type": "markdown",
      "metadata": {
        "id": "OnFxn9G_6mUM"
      },
      "source": [
        "已知：  \n",
        "* P(D)  「罹患該疾病」的機率：0.0001\n",
        "* P(¬D)  「未罹患該疾病」的機率：0.9999\n",
        "* P(T|D) 「罹患該疾病的情況下，檢測結果為陽性」的機率：0.99\n",
        "* P(T|¬D) 「未罹患該疾病的情況下，檢測結果為陽性」的機率：0.01\n",
        "\n",
        "帶入貝氏定理的公式，得到：\n",
        "\n",
        "\n",
        "```\n",
        "P(D|T)=0.98%\n",
        "```\n",
        "代表「檢測結果為陽性」的情況下，確實罹患該疾病的機率不到1%\n",
        "\n"
      ]
    },
    {
      "cell_type": "markdown",
      "metadata": {
        "id": "Cm8WuX59PwWj"
      },
      "source": [
        "# 隨機變數\n",
        "是一種變數，其可能的值與機率分布有關"
      ]
    },
    {
      "cell_type": "markdown",
      "metadata": {
        "id": "0uThRHl_AiwU"
      },
      "source": [
        "## 期望值\n",
        "每個值以其相應機率加權後所計算出來的平均值"
      ]
    },
    {
      "cell_type": "markdown",
      "metadata": {
        "id": "ScKir5gGA3nP"
      },
      "source": [
        "# 離散分佈(discrete distribution)\n",
        "每一個離散的結果都對應到一個正值的機率\n"
      ]
    },
    {
      "cell_type": "markdown",
      "metadata": {
        "id": "JtUsOojZPyXD"
      },
      "source": [
        "# 均勻分佈 (uniform distribution)\n",
        "從0到1所有的數值，全都具有相同的權重"
      ]
    },
    {
      "cell_type": "markdown",
      "metadata": {
        "id": "q0JzBx_zBQQj"
      },
      "source": [
        "## 機率密度函數 (PDF,probability density function)\n",
        "用以表示連續分佈"
      ]
    },
    {
      "cell_type": "code",
      "metadata": {
        "id": "DrD_FKwTTBA1"
      },
      "source": [
        "def uniform_pdf(x:float) -> float:\n",
        "  return 1 if 0 <= x else 0"
      ],
      "execution_count": 8,
      "outputs": []
    },
    {
      "cell_type": "markdown",
      "metadata": {
        "id": "mxgljxnHBemz"
      },
      "source": [
        "## 累積分佈函數 (CDF,cumulative density function)\n",
        "表示某個數值小於或等於某個數值的機率"
      ]
    },
    {
      "cell_type": "code",
      "metadata": {
        "id": "pnYoPMG-TN2l"
      },
      "source": [
        "def uniform_cdf(x:float) -> float:\n",
        "  if x < 0 : return 0  #均勻分佈隨機變數絕不會小於0\n",
        "  elif x < 1: return x  #舉例來說，P(X<=0.4) =0.4\n",
        "  else:      return 1  #均勻分佈隨機變數永遠小於1"
      ],
      "execution_count": 9,
      "outputs": []
    },
    {
      "cell_type": "markdown",
      "metadata": {
        "id": "tUtLnVmSUp8K"
      },
      "source": [
        "### 圖 6-1 \n",
        "均勻分布的CDF累積分佈函數"
      ]
    },
    {
      "cell_type": "code",
      "metadata": {
        "id": "F6cGNjz5U9RA",
        "colab": {
          "base_uri": "https://localhost:8080/",
          "height": 281
        },
        "outputId": "10e7f3de-a74c-43a5-8a63-40aeabe81020"
      },
      "source": [
        "import matplotlib.pyplot as plt\n",
        "\n",
        "X=[-1,-0.5,0,0.5,1,1.5,2]\n",
        "Y=[uniform_cdf(num) for num in X]\n",
        "\n",
        "plt.plot(X,Y,color=\"green\")\n",
        "plt.axis([-1,2,-0.7,1.7])\n",
        "plt.title(\"cumulative density function (CDF)\")\n",
        "plt.show()\n"
      ],
      "execution_count": 10,
      "outputs": [
        {
          "output_type": "display_data",
          "data": {
            "image/png": "[encoded data removed]",
            "text/plain": [
              "<Figure size 432x288 with 1 Axes>"
            ]
          },
          "metadata": {
            "tags": [],
            "needs_background": "light"
          }
        }
      ]
    },
    {
      "cell_type": "markdown",
      "metadata": {
        "id": "hGGQUDmZP2Ij"
      },
      "source": [
        "## 常態分布 (normal distribution)\n",
        "是一種典型的鐘形曲線分佈，可由兩個參數決定：\n",
        "* 平均值 (μ)\n",
        "* 標準差 (σ)\n",
        "\n",
        "![image](https://wikimedia.org/api/rest_v1/media/math/render/svg/6fa0f3778df769845a3862bd22921041c18dd79a)\n",
        "  \n",
        "在程式碼的實作如下圖："
      ]
    },
    {
      "cell_type": "code",
      "metadata": {
        "id": "pqKz08QTbgjd"
      },
      "source": [
        "import math\n",
        "SQRT_TWO_PI = math.sqrt(2* math.pi)\n",
        "\n",
        "def normal_pdf(x:float,mu:float=0,sigma:float=1) ->float:\n",
        "  return (math.exp(-(x-mu)**2/2/sigma**2)/(SQRT_TWO_PI*sigma))"
      ],
      "execution_count": 14,
      "outputs": []
    },
    {
      "cell_type": "markdown",
      "metadata": {
        "id": "7RMxvGuhcIaP"
      },
      "source": [
        "### 圖 6-2\n",
        "幾個不同的常態分佈PDF機率密度曲線"
      ]
    },
    {
      "cell_type": "code",
      "metadata": {
        "id": "SaJLnN9OcTO0",
        "colab": {
          "base_uri": "https://localhost:8080/",
          "height": 281
        },
        "outputId": "0d719ca4-5e8c-41ce-85ab-b79142b2e179"
      },
      "source": [
        "import matplotlib.pyplot as plt\n",
        "xs=[x/10.0 for x in range(-50,50)]\n",
        "plt.plot(xs,[normal_pdf(x,sigma=1) for x in xs],'-',label='mu=0,sigma=1')\n",
        "plt.plot(xs,[normal_pdf(x,sigma=2) for x in xs],'--',label='mu=0,sigma=2')\n",
        "plt.plot(xs,[normal_pdf(x,sigma=0.5) for x in xs],':',label='mu=0,sigma=0.5')\n",
        "plt.plot(xs,[normal_pdf(x,mu=-1) for x in xs],'-.',label='mu=-1,sigma=-1')\n",
        "plt.legend() # The call signatures correspond to three different ways how to use this method.\n",
        "plt.title(\"Various Normal pdfs\")\n",
        "plt.show()"
      ],
      "execution_count": 15,
      "outputs": [
        {
          "output_type": "display_data",
          "data": {
            "image/png": "[encoded data removed]",
            "text/plain": [
              "<Figure size 432x288 with 1 Axes>"
            ]
          },
          "metadata": {
            "tags": [],
            "needs_background": "light"
          }
        }
      ]
    },
    {
      "cell_type": "markdown",
      "metadata": {
        "id": "ychvWaFRG4mc"
      },
      "source": [
        "## 標準常態分佈\n",
        "μ= 0 且 σ = 1\n"
      ]
    },
    {
      "cell_type": "markdown",
      "metadata": {
        "id": "g0YUTLvmHIc9"
      },
      "source": [
        "## 其他常態分佈\n",
        "\n",
        "```\n",
        "X = σZ+μ\n",
        "```\n",
        "則可以推得：\n",
        "```\n",
        "Z = (X-μ)/σ\n",
        "```\n"
      ]
    },
    {
      "cell_type": "markdown",
      "metadata": {
        "id": "gTsEko8MLZ0F"
      },
      "source": [
        "運用 mart.erf 誤差函數運算CDF累積分佈函式"
      ]
    },
    {
      "cell_type": "code",
      "metadata": {
        "id": "9x7Eh8idLv0v"
      },
      "source": [
        "def normal_cdf(x:float,mu:float=0,sigma:float=1)->float:\n",
        "  return (1+math.erf((x-mu)/math.sqrt(2)/sigma))/2"
      ],
      "execution_count": 17,
      "outputs": []
    },
    {
      "cell_type": "markdown",
      "metadata": {
        "id": "IwOsV7ykMFCu"
      },
      "source": [
        "### 圖 6-3\n",
        "幾個不同的常態分佈CDF曲線"
      ]
    },
    {
      "cell_type": "code",
      "metadata": {
        "colab": {
          "base_uri": "https://localhost:8080/",
          "height": 281
        },
        "id": "5uqrsQi7MKcU",
        "outputId": "93231caa-d657-4f83-fd7b-505ec331ecb1"
      },
      "source": [
        "import matplotlib.pyplot as plt\n",
        "xs=[x/10.0 for x in range(-50,50)]\n",
        "plt.plot(xs,[normal_cdf(x,sigma=1) for x in xs],'-',label='mu=0,sigma=1')\n",
        "plt.plot(xs,[normal_cdf(x,sigma=2) for x in xs],'--',label='mu=0,sigma=2')\n",
        "plt.plot(xs,[normal_cdf(x,sigma=0.5) for x in xs],':',label='mu=0,sigma=0.5')\n",
        "plt.plot(xs,[normal_cdf(x,mu=-1) for x in xs],'-.',label='mu=-1,sigma=-1')\n",
        "plt.legend() # The call signatures correspond to three different ways how to use this method.\n",
        "plt.title(\"Various Normal cdfs\")\n",
        "plt.show()"
      ],
      "execution_count": 18,
      "outputs": [
        {
          "output_type": "display_data",
          "data": {
            "image/png": "[encoded data removed]",
            "text/plain": [
              "<Figure size 432x288 with 1 Axes>"
            ]
          },
          "metadata": {
            "tags": [],
            "needs_background": "light"
          }
        }
      ]
    },
    {
      "cell_type": "markdown",
      "metadata": {
        "id": "_EGVs0O8vPgB"
      },
      "source": [
        "有時也需要normal_cdf的逆向操作，根據某特定機率求出所對應的值。  \n",
        "我們能使用**二元搜尋(binary search)**來進行操作。\n",
        "這個函式會反覆切分區間，直到Z值所對應的機率，足夠接近所給定的機率為止。\n"
      ]
    },
    {
      "cell_type": "code",
      "metadata": {
        "id": "LhA3Lmj4vOUw"
      },
      "source": [
        "def inverse_normal_cdf(p:float,\n",
        "            mu:float = 0,\n",
        "            sigma:float=1,\n",
        "            tolerance:float=0.00001) -> float:\n",
        "  # 如果不是標準常態分佈，就先轉換成標準常態分佈\n",
        "  if mu != 0 or sigma != 1:\n",
        "    return mu + sigma*inverse_normal_cdf(p,tolerance = tolerance)\n",
        "  \n",
        "  low_z = -10.0 # normal_cdf(-10)是(趨近於) 0\n",
        "  hi_z =  10.0 # normal_cdf(10)是(趨近於) 1\n",
        "  while hi_z - low_z > tolerance:  \n",
        "    mid_z = (low_z + hi_z) / 2   # 計算出中間值\n",
        "    mid_p = normal_cdf(mid_z)     # 以及累積分佈函數在該處所應對的值\n",
        "    if mid_p < p :\n",
        "      low_z = mid_z        #中間的值太低，就往上繼續搜尋\n",
        "    else:\n",
        "      hi_z = mid_z        #中間的值太高，就往下繼續搜尋\n",
        "  \n",
        "  return mid_z"
      ],
      "execution_count": 19,
      "outputs": []
    },
    {
      "cell_type": "markdown",
      "metadata": {
        "id": "BroPhoabP5kU"
      },
      "source": [
        "# 中央極限定理\n",
        "不管原本的分佈長什麼形狀，如果每次都從同一個分佈(identically distributed)中獨立(independent)取出大量的隨機變數，然後去其平均值做為新的隨機變數，那麼這個隨機變數的分佈都會趨近於常態分佈。\n"
      ]
    },
    {
      "cell_type": "markdown",
      "metadata": {
        "id": "6XP4Qi9LO_8D"
      },
      "source": [
        "如果從平均值μ，標準差σ的母體中取出隨機變數X₁,...,Xn，且n很大的話：  \n",
        "![formula01](https://lh3.googleusercontent.com/rQ67maycAaBT9zXFoqFfePsU0eCWFu6vWK43g99_hROCDSJMfn_dAtUE6wQLKITrNP3n8vH8JiRBgKy4PJhdbBzC32UIHf9-cjjqkxzeTuQv3x3d90s5bu1luMiGHClBPnePnMcCpVr6d1to7RXTQLG2UTu5Ch9y_WhVd0PsOrhlUf-brJc3pZJDZAgY4EvuLC03BwFNNqhsnMq8zzI0GpaGiu0x0Q0KUkYi8gi1NPLrnBBbZ5FaUh4nMOvDcLAF755F2A1okg6QKI0s0aGLdJUTY9vLHL5U55OD3ahB-u5PAFBBpZOxLYILSCyFQQfby0eTgjsB9bD7lqRBzuCB3DN6WNpgqbZb_YL_UVTYCG1dW7T3pf8FTRxNNifFQyi_m_Q0kxTzj6xMXQUWU-GqSEFzk8DP1T36UCj6F-mu5MpZd6wMBMIiE4EfI9xDgx6J-3IwIabqx_MQOH812XiZUO1E4XDMUdKX-UNuOmn51fFgZnhOov3ZOe_5Z9ogJ0_qfvY9OnKkW7JIaz6FmVnZ6akvAuXkyKsvlPXwAiwyqKxSAYAqlXjZq3YExOlPDMeUbSivih_FPuu18esKdyiZkzpfXAcI33x87QDLZCFi-XKfF5BhrlQGURGzSR1YsHegMIFBFYVWb7jhec_76gUSM_mAshTWIrdo3m2U3w7a5JNlaGutDFbttPyCggCe7w=w288-h96-no?authuser=0)"
      ]
    },
    {
      "cell_type": "markdown",
      "metadata": {
        "id": "OSaer8ZJZO1u"
      },
      "source": [
        "由平均值組成的隨機變數，  \n",
        "會趨近於一個平均值為μ，標準差為σ/√n的常態分佈。  \n",
        "等價的說法是：\n",
        "\n",
        "![formula02](https://lh3.googleusercontent.com/yJTwE9f-upnB9u9XsUI4__dP21rVYD0dVk2xLoniV94OkVSYGS8NoI2DTzzZnK6U_gRQ-rVsDPuRtmmnRHr45HYR8FcjDj58PAeu0UCohWgHkq1z5omOiG2qfjLLC58CWA8kP9Mf6UHBXn3Z-9SugA_apoGed_kAxu3hYKy6SK9aQEFkh9WKUsZ1xsA1U4ZzOK4OJDFT6EFe1ZCwF9jhnxzQ-F1h90ijiy22DMrjxBVeWplmqB1eoZu-Q-CEHR8wyWizO4MMCRLLw3F3-4rNjSobAVHOfXEuMj5MeXTrDQ6L_3bT_OZxrd9rhaWf7dRHlzrAfdvc_zVTS1Qg_uhihopLkfUbLlmsp_SOP9fvR57bVIRI001x4UTPRff_qiqgLNN0AvvIqcU2m7uJ0MPkcyGBnllfpyNgfYleZPtZKmNn_H2ynHAtCACoiJ61aUnKtMcMlymhCZPg7kWZ4By_wdVuhqAPl4angP9_vN15iBvuDgLdLF5Fan4k9vQZtU1igS43nDy6F_-W0pWl7tKyUdbfIaKsjxWaqU_gbc8KvJ0SJm8mewRpsicBvNxuVq5TmACM0r52SGvZONhu1Kq9V37HR8GJftUQ45wOOm83OM8i0tu2OUMdc4TtiT4yYXfgNOlFEatLo6n0OEWvDFS634IlmBHFWJArI97QPDyWQiDpN5nErMl7mckGWiZyQw=w340-h109-no?authuser=0)  \n",
        "這個隨機變數會趨於一個平均值為0，標準差為1的標準常態分佈。"
      ]
    },
    {
      "cell_type": "markdown",
      "metadata": {
        "id": "bBiKBZiGa3RU"
      },
      "source": [
        "## **範例**：二項式隨機變數 Binomial(n,p)  \n",
        "其值是由n個獨立的「伯努利隨機變數」Bernoulli(p)加總而得，  \n",
        "而「伯努利隨機1變數」的值不是0就是1。\n",
        "* 值為1的機率：P\n",
        "* 值為0的機率：1-P\n"
      ]
    },
    {
      "cell_type": "code",
      "metadata": {
        "id": "wcPm0vyaO7Eu"
      },
      "source": [
        "def bernoulli_trial(p:float) ->int:\n",
        "  return 1 if random.random() < p else 0\n",
        "\n",
        "def binomial(n:int,p:float) ->int:\n",
        "  return sum(bernoulli_trial(p)for _ in range(n))"
      ],
      "execution_count": 21,
      "outputs": []
    },
    {
      "cell_type": "code",
      "metadata": {
        "id": "Zy9N1PALeuOu"
      },
      "source": [
        "from collections import Counter\n",
        "import matplotlib.pyplot as plt\n",
        "\n",
        "def binnomial_histogram(p:float,n:int,num_points:int) ->None:\n",
        "  #根據bionoimal(n,p) 取點，並劃出直方圖\n",
        "  data=[binomial(n,p) for _ in range(num_points)]\n",
        "\n",
        "  #用長條圖呈現二項式取樣的實際結果\n",
        "  histogram = Counter(data)\n",
        "  plt.bar([x - 0.4 for x in histogram.keys()],\n",
        "      [v / num_points for v in histogram.values()],\n",
        "      0.8,\n",
        "      color='0.75')\n",
        "  \n",
        "  mu = p*n\n",
        "  sigma = math.sqrt(n*p*(1-p))\n",
        "\n",
        "  #用折線圖顯示常態近似結果\n",
        "  xs = range(min(data),max(data)+1)\n",
        "  ys = [normal_cdf(i+0.5,mu,sigma)-normal_cdf(i-0.5,mu,sigma) for i in xs]\n",
        "\n",
        "  plt.plot(xs,ys)\n",
        "\n",
        "  plt.title(\"Binominal Distribution vs. Normal Approximation\")\n",
        "  plt.show()\n"
      ],
      "execution_count": 26,
      "outputs": []
    },
    {
      "cell_type": "code",
      "metadata": {
        "colab": {
          "base_uri": "https://localhost:8080/",
          "height": 281
        },
        "id": "RDiHlYDzg-NP",
        "outputId": "3e004fde-5964-4f98-ac2c-45c07c0a49d0"
      },
      "source": [
        "binnomial_histogram(0.75,100,1000)"
      ],
      "execution_count": 30,
      "outputs": [
        {
          "output_type": "display_data",
          "data": {
            "image/png": "[encoded data removed]",
            "text/plain": [
              "<Figure size 432x288 with 1 Axes>"
            ]
          },
          "metadata": {
            "tags": [],
            "needs_background": "light"
          }
        }
      ]
    },
    {
      "cell_type": "code",
      "metadata": {
        "colab": {
          "base_uri": "https://localhost:8080/",
          "height": 281
        },
        "id": "Ci5o-dM9h00T",
        "outputId": "d04c5b1d-4e38-4e91-f425-acd8c3c825ce"
      },
      "source": [
        "binnomial_histogram(0.5,100,1000)"
      ],
      "execution_count": 32,
      "outputs": [
        {
          "output_type": "display_data",
          "data": {
            "image/png": "[encoded data removed]",
            "text/plain": [
              "<Figure size 432x288 with 1 Axes>"
            ]
          },
          "metadata": {
            "tags": [],
            "needs_background": "light"
          }
        }
      ]
    }
  ]
}