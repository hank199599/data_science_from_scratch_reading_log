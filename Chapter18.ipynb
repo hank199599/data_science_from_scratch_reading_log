{
  "nbformat": 4,
  "nbformat_minor": 0,
  "metadata": {
    "colab": {
      "name": "Chapter18.ipynb",
      "provenance": [],
      "authorship_tag": "ABX9TyOnL5o97PPlgH7f6t4dyCJq",
      "include_colab_link": true
    },
    "kernelspec": {
      "name": "python3",
      "display_name": "Python 3"
    }
  },
  "cells": [
    {
      "cell_type": "markdown",
      "metadata": {
        "id": "view-in-github",
        "colab_type": "text"
      },
      "source": [
        "<a href=\"https://colab.research.google.com/github/hank199599/data_science_from_scratch_reading_log/blob/main/Chapter18.ipynb\" target=\"_parent\"><img src=\"https://colab.research.google.com/assets/colab-badge.svg\" alt=\"Open In Colab\"/></a>"
      ]
    },
    {
      "cell_type": "markdown",
      "metadata": {
        "id": "qjEnU7vyKmlW"
      },
      "source": [
        "# 人工神經網路(artificial neural network)"
      ]
    },
    {
      "cell_type": "code",
      "metadata": {
        "id": "mWyI25qhGPfT"
      },
      "source": [
        ""
      ],
      "execution_count": null,
      "outputs": []
    },
    {
      "cell_type": "markdown",
      "metadata": {
        "id": "kC8MYL9KKyl9"
      },
      "source": [
        "# 感知器"
      ]
    },
    {
      "cell_type": "code",
      "metadata": {
        "id": "bNGysDzDLkap"
      },
      "source": [
        ""
      ],
      "execution_count": null,
      "outputs": []
    },
    {
      "cell_type": "markdown",
      "metadata": {
        "id": "uZLXHTAaK1_x"
      },
      "source": [
        "# 正向饋送神經網路"
      ]
    },
    {
      "cell_type": "code",
      "metadata": {
        "id": "pxgzYpWTLk5b"
      },
      "source": [
        ""
      ],
      "execution_count": null,
      "outputs": []
    },
    {
      "cell_type": "markdown",
      "metadata": {
        "id": "GC2ZDRYIK6eP"
      },
      "source": [
        "# 反向傳播"
      ]
    },
    {
      "cell_type": "code",
      "metadata": {
        "id": "3Fv5_KqHLllQ"
      },
      "source": [
        ""
      ],
      "execution_count": null,
      "outputs": []
    },
    {
      "cell_type": "markdown",
      "metadata": {
        "id": "k4EyvRRZK-Qp"
      },
      "source": [
        "# 範例：Fizz Buzz"
      ]
    },
    {
      "cell_type": "code",
      "metadata": {
        "id": "GSGdDS90LmCY"
      },
      "source": [
        ""
      ],
      "execution_count": null,
      "outputs": []
    },
    {
      "cell_type": "markdown",
      "metadata": {
        "id": "eLTYLGeVLEk7"
      },
      "source": [
        "# 進一步：用Tensorflow\r\n",
        "[參見作者的部落格文章](https://jeolgrus.com/2016/05/23/fizz_buzz-in-tensorflow/)"
      ]
    }
  ]
}