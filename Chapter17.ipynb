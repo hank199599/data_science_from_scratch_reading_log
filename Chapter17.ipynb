{
  "nbformat": 4,
  "nbformat_minor": 0,
  "metadata": {
    "colab": {
      "name": "Chapter17.ipynb",
      "provenance": [],
      "authorship_tag": "ABX9TyPVLv2VZqNugXnuxDU46ak/",
      "include_colab_link": true
    },
    "kernelspec": {
      "name": "python3",
      "display_name": "Python 3"
    }
  },
  "cells": [
    {
      "cell_type": "markdown",
      "metadata": {
        "id": "view-in-github",
        "colab_type": "text"
      },
      "source": [
        "<a href=\"https://colab.research.google.com/github/hank199599/data_science_from_scratch_reading_log/blob/main/Chapter17.ipynb\" target=\"_parent\"><img src=\"https://colab.research.google.com/assets/colab-badge.svg\" alt=\"Open In Colab\"/></a>"
      ]
    },
    {
      "cell_type": "markdown",
      "metadata": {
        "id": "2Qj_6-UtEHZR"
      },
      "source": [
        "# 決策樹 (decision tree)\r\n",
        "\r\n",
        "* 分類樹 (classification tree):輸出某個分類結果\r\n",
        "* 回歸樹 (regression tree): 輸出某個數值結果"
      ]
    },
    {
      "cell_type": "markdown",
      "metadata": {
        "id": "Q2RqC72LE8uu"
      },
      "source": [
        "# 亂度"
      ]
    },
    {
      "cell_type": "markdown",
      "metadata": {
        "id": "aDto4jqJE_V_"
      },
      "source": [
        "## 切紛亂度"
      ]
    },
    {
      "cell_type": "markdown",
      "metadata": {
        "id": "xrxIWichFCBG"
      },
      "source": [
        "# 建立決策樹"
      ]
    },
    {
      "cell_type": "markdown",
      "metadata": {
        "id": "yLb1SBGVFEle"
      },
      "source": [
        "## 定義決策樹\r\n",
        "* 樹葉 (Left)：預測單一值\r\n",
        "* 切分 (Split): 包含要切分的屬性、特定屬性相應的子樹、遇到未知值可使用的預測值\r\n"
      ]
    },
    {
      "cell_type": "markdown",
      "metadata": {
        "id": "YLp_MUNBFhgL"
      },
      "source": [
        "# 隨機樹林(randomforesr)"
      ]
    },
    {
      "cell_type": "code",
      "metadata": {
        "id": "mWyI25qhGPfT"
      },
      "source": [
        ""
      ],
      "execution_count": null,
      "outputs": []
    }
  ]
}