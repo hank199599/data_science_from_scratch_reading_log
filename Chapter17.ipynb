{
  "nbformat": 4,
  "nbformat_minor": 0,
  "metadata": {
    "colab": {
      "name": "Chapter17.ipynb",
      "provenance": [],
      "toc_visible": true,
      "authorship_tag": "ABX9TyPdiuvkFtC4n61ytyLkQ1Gt",
      "include_colab_link": true
    },
    "kernelspec": {
      "name": "python3",
      "display_name": "Python 3"
    }
  },
  "cells": [
    {
      "cell_type": "markdown",
      "metadata": {
        "id": "view-in-github",
        "colab_type": "text"
      },
      "source": [
        "<a href=\"https://colab.research.google.com/github/hank199599/data_science_from_scratch_reading_log/blob/main/Chapter17.ipynb\" target=\"_parent\"><img src=\"https://colab.research.google.com/assets/colab-badge.svg\" alt=\"Open In Colab\"/></a>"
      ]
    },
    {
      "cell_type": "markdown",
      "metadata": {
        "id": "2Qj_6-UtEHZR"
      },
      "source": [
        "# 決策樹 (decision tree)\r\n",
        "\r\n",
        "* 分類樹 (classification tree):輸出某個分類結果\r\n",
        "* 回歸樹 (regression tree): 輸出某個數值結果  \r\n",
        "  \r\n",
        "需要決定以何種順序建立決策樹，決策樹的每個階段都能為我們消除某些可能性。  "
      ]
    },
    {
      "cell_type": "markdown",
      "metadata": {
        "id": "Q2RqC72LE8uu"
      },
      "source": [
        "# 亂度 (entropy；熵)\r\n",
        "\r\n",
        "我們將一個問題「能帶出多少訊息」以**亂度**來表示。  \r\n",
        "通常被用來表示混亂(disorder)的程度，  \r\n",
        "在這裡則用來表示資料的不確定性(uncertainty)。"
      ]
    },
    {
      "cell_type": "markdown",
      "metadata": {
        "id": "-VXp1yPo7feE"
      },
      "source": [
        "假設有一組資料S,其中每組資料都有分類標籤C₁,...,Cn。\r\n",
        "* 所有資料點都屬於單一分類→不存在真正的不確性→低亂度\r\n",
        "* 所有資料點均勻分布於各分類→具有相當程度的不確性→高亂度"
      ]
    },
    {
      "cell_type": "markdown",
      "metadata": {
        "id": "NGzFJGzN8XCm"
      },
      "source": [
        "## 數學上的術語\r\n",
        "如果ρi是資料被標示為ci分類的比率，則亂度可定義為：\r\n",
        "\r\n",
        "\r\n",
        "```\r\n",
        "H(S) = -ρ₁㏒₂ρ₁-...-ρn㏒ρn\r\n",
        "```\r\n",
        "0log0=0\r\n"
      ]
    },
    {
      "cell_type": "markdown",
      "metadata": {
        "id": "K-lSs5VK9J7E"
      },
      "source": [
        "### 圖 17-2 -p㏒p的圖形\r\n"
      ]
    },
    {
      "cell_type": "code",
      "metadata": {
        "colab": {
          "base_uri": "https://localhost:8080/",
          "height": 283
        },
        "id": "nwvYkMlw9P_C",
        "outputId": "037360df-da17-4ccf-8cc0-1823e75784bf"
      },
      "source": [
        "from matplotlib import pyplot as plt\r\n",
        "import math\r\n",
        "\r\n",
        "xs = [num/10000 for num in range(10000)]\r\n",
        "ys = [0]+[-num*math.log(num,2) for num in xs if num>0]\r\n",
        "\r\n",
        "plt.plot(xs,ys)\r\n",
        "plt.xlabel(\"p\")\r\n",
        "plt.ylabel(\"-p log(p)\")\r\n",
        "plt.axis([0,1,0,0.6])\r\n",
        "plt.show()\r\n"
      ],
      "execution_count": 1,
      "outputs": [
        {
          "output_type": "display_data",
          "data": {
            "image/png": "[encoded data removed]",
            "text/plain": [
              "<Figure size 432x288 with 1 Axes>"
            ]
          },
          "metadata": {
            "tags": [],
            "needs_background": "light"
          }
        }
      ]
    },
    {
      "cell_type": "markdown",
      "metadata": {
        "id": "GWUq8rgPCJF6"
      },
      "source": [
        "* 當每個p很接近0或1時，亂度值會很小\r\n",
        "* 當每個p遠離0或1時，亂度值就會相對變大"
      ]
    },
    {
      "cell_type": "code",
      "metadata": {
        "id": "LyzflWZuCdj5"
      },
      "source": [
        "from typing import List\r\n",
        "import math\r\n",
        "\r\n",
        "def entropy(class_probabilities:List[float])->float:\r\n",
        "  \"\"\"給定分類機率列表，計算出亂度\"\"\"\r\n",
        "  return sum(-p*math.log(p,2) for p in class_probabilities if p > 0) #忽略機率為零的項目\r\n"
      ],
      "execution_count": 2,
      "outputs": []
    },
    {
      "cell_type": "code",
      "metadata": {
        "id": "kS2m8wobDM4y"
      },
      "source": [
        "assert entropy([1,0])==0"
      ],
      "execution_count": 3,
      "outputs": []
    },
    {
      "cell_type": "code",
      "metadata": {
        "id": "wKwamuGWDM61"
      },
      "source": [
        "assert entropy([0.5,0.5])==1"
      ],
      "execution_count": 4,
      "outputs": []
    },
    {
      "cell_type": "code",
      "metadata": {
        "id": "d8cTDfwRDM-p"
      },
      "source": [
        "assert entropy([0.25,0.75]) < 0.82"
      ],
      "execution_count": 5,
      "outputs": []
    },
    {
      "cell_type": "markdown",
      "metadata": {
        "id": "P2vi-bPsDWKA"
      },
      "source": [
        "資料由(input,label)形式的成對資料所組成→我們需要自己計算出分類機率。"
      ]
    },
    {
      "cell_type": "code",
      "metadata": {
        "id": "_tVQB98pDkfg"
      },
      "source": [
        "from typing import Any\r\n",
        "from collections import Counter\r\n",
        "\r\n",
        "def class_probabilities(labels:List[Any]) ->List[float]:\r\n",
        "  total_count = len(labels)\r\n",
        "  return [count/total_count for count in Counter(labels).values()]\r\n",
        "\r\n",
        "def data_entropy(labels:List[Any])->float:\r\n",
        "  return entropy(class_probabilities(labels))"
      ],
      "execution_count": 6,
      "outputs": []
    },
    {
      "cell_type": "code",
      "metadata": {
        "id": "Q22pOQMsET0x"
      },
      "source": [
        "assert data_entropy(['a']) == 0"
      ],
      "execution_count": 7,
      "outputs": []
    },
    {
      "cell_type": "code",
      "metadata": {
        "id": "9mvJ3mJCETU5"
      },
      "source": [
        "assert data_entropy([True,False]) == 1"
      ],
      "execution_count": 8,
      "outputs": []
    },
    {
      "cell_type": "code",
      "metadata": {
        "id": "kdlgRgFkETbK"
      },
      "source": [
        "assert data_entropy([3,4,4,4,]) == entropy([0.25,0.75])"
      ],
      "execution_count": 9,
      "outputs": []
    },
    {
      "cell_type": "markdown",
      "metadata": {
        "id": "aDto4jqJE_V_"
      },
      "source": [
        "## 切分亂度\r\n",
        "\r\n",
        "* 資料切分後所得的子集合亂度較低→切分亂度較低\r\n",
        "* 資料切分後所得的子集合亂度較高→切分亂度較高"
      ]
    },
    {
      "cell_type": "markdown",
      "metadata": {
        "id": "584kWemaFO5R"
      },
      "source": [
        "\r\n",
        "數學上，若我們把資料S切成S₁,...,Sm這幾個子集合，其中包含ｑ₁,...,ｑm比例的資料。  \r\n",
        "我們能取加權總合的方式來計算出切分亂度。\r\n",
        "```\r\n",
        "H = ｑ₁H(S₁)+...+ｑmH(Sm)\r\n",
        "```\r\n"
      ]
    },
    {
      "cell_type": "code",
      "metadata": {
        "id": "HdS--SpqGQfx"
      },
      "source": [
        "def partion_entropy(subsets:List[List[Any]]) -> float:\r\n",
        "  \"\"\"資料被切分為子集合後，送回相應的切分亂度\"\"\"\r\n",
        "  total_count = sum(len(subset) for subset in subsets)\r\n",
        "\r\n",
        "  return sum(data_entropy(subset) * len(subset) / total_count for subset in subsets)"
      ],
      "execution_count": 10,
      "outputs": []
    },
    {
      "cell_type": "markdown",
      "metadata": {
        "id": "xrxIWichFCBG"
      },
      "source": [
        "# 建立決策樹\r\n",
        "* 決策節點(decision nodes):每個決策節點會詢問一個問題，並依據答案指往不同方向\r\n",
        "* 樹葉節點(leaf nodes):每個樹葉節點代表一個預測結果"
      ]
    },
    {
      "cell_type": "code",
      "metadata": {
        "id": "Hf_0wpHMHpDJ"
      },
      "source": [
        "from typing import NamedTuple,Optional\r\n",
        "\r\n",
        "class Candidate(NamedTuple):\r\n",
        "  level:str\r\n",
        "  lang:str\r\n",
        "  tweets:bool\r\n",
        "  phd:str\r\n",
        "  did_well:Optional[bool]=None #接受未標記資料\r\n"
      ],
      "execution_count": 11,
      "outputs": []
    },
    {
      "cell_type": "code",
      "metadata": {
        "id": "wgf_C8_iIFow"
      },
      "source": [
        "inputs=[Candidate('Senior','Java',False,False,False),\r\n",
        "    Candidate('Senior','Java',False,True,False),\r\n",
        "    Candidate('Mid','Python',False,False,True),\r\n",
        "    Candidate('Junior','Python',False,False,True),\r\n",
        "    Candidate('Junior','R',True,False,True),\r\n",
        "    Candidate('Junior','R',True,True,False),\r\n",
        "    Candidate('Mid', 'R',True,True,True),\r\n",
        "    Candidate('Senior','Python',False,False,False),\r\n",
        "    Candidate('Senior','R',True,False,True),\r\n",
        "    Candidate('Junior','Python',True,False,True),\r\n",
        "    Candidate('Senior','Python',True,True,True),\r\n",
        "    Candidate('Mid', 'Python',False,True,True),\r\n",
        "    Candidate('Mid', 'Java',True,False,True),\r\n",
        "    Candidate('Junior','Python',False,True,False)]"
      ],
      "execution_count": 12,
      "outputs": []
    },
    {
      "cell_type": "markdown",
      "metadata": {
        "id": "0zCtgDW_JQ9x"
      },
      "source": [
        "## 利用**ID3演算法**來建立決策樹：Greedy Method(貪婪法則)\r\n",
        "* 如果所有資料全都具有相同的label 標籤,就建立一個樹葉節點,預測值就是該label 標籤值,然後就可以停止下來了。\r\n",
        "*  如果屬性列表是空的(已經沒有更多問題可以問了),就建立一個樹葉節點,以資料中出現最多次的label 標籤做為預測值,然後也就可以停止下來了。\r\n",
        "\r\n",
        "* 要不然的話,就試著根據每個屬性,對資料進行切分。 選出切分亂度最低的那個切分方式。\r\n",
        "\r\n",
        "* 根據所選的屬性,添加一個決策節點。\r\n",
        "\r\n",
        "* 運用剩餘的屬性,對每個被切分的子集合重複進行相同的動作。"
      ]
    },
    {
      "cell_type": "code",
      "metadata": {
        "id": "J__54sdUL1Yg"
      },
      "source": [
        "from typing import Dict,TypeVar\r\n",
        "from collections import defaultdict\r\n",
        "\r\n",
        "T = TypeVar('T') # 輸入通用型別\r\n",
        "\r\n",
        "def partition_by(inputs:List[T],attribute:str) ->Dict[Any,List[T]]:\r\n",
        "  \"\"\"根據指定的屬性，把輸入分派到不同的列表中\"\"\"\r\n",
        "  partitions:Dict[Any,List[T]] = defaultdict(list)\r\n",
        "\r\n",
        "  for input in inputs:\r\n",
        "    key = getattr(input,attribute) # 取得指定屬性的值\r\n",
        "    partitions[key].append(input)   #再把input添加到正確的列表中\r\n",
        "\r\n",
        "  return partitions"
      ],
      "execution_count": 13,
      "outputs": []
    },
    {
      "cell_type": "markdown",
      "metadata": {
        "id": "4fXYWDfDM8Fu"
      },
      "source": [
        "計算亂度的函式"
      ]
    },
    {
      "cell_type": "code",
      "metadata": {
        "id": "7HF3MRyjNAIl"
      },
      "source": [
        "def partition_entropy_by(inputs:List[Any],attribute:str,label_attribute:str)->float:\r\n",
        "  \"\"\"計算出給定切分結果相應的切分亂度\"\"\"\r\n",
        "  #partitions是由許多inputs所組成\r\n",
        "  partitions=partition_by(inputs,attribute)\r\n",
        "\r\n",
        "  #partition_entropy只需要類別標籤\r\n",
        "  labels = [[getattr(input,label_attribute) for input in partition] for partition in partitions.values()]\r\n",
        "\r\n",
        "  return partion_entropy(labels)"
      ],
      "execution_count": 14,
      "outputs": []
    },
    {
      "cell_type": "markdown",
      "metadata": {
        "id": "FMXPrf35N7Sw"
      },
      "source": [
        "針對整個資料集，找出亂度最小的切分方式(尋找最佳解)"
      ]
    },
    {
      "cell_type": "code",
      "metadata": {
        "colab": {
          "base_uri": "https://localhost:8080/"
        },
        "id": "tm_ZzGJwOFvR",
        "outputId": "3c21b7ec-8a4d-40c6-b087-5775c79cf513"
      },
      "source": [
        "for key in ['level','lang','tweets','phd']:\r\n",
        "  print(key,partition_entropy_by(inputs,key,'did_well'))"
      ],
      "execution_count": 15,
      "outputs": [
        {
          "output_type": "stream",
          "text": [
            "level 0.6935361388961919\n",
            "lang 0.8601317128547441\n",
            "tweets 0.7884504573082896\n",
            "phd 0.8921589282623617\n"
          ],
          "name": "stdout"
        }
      ]
    },
    {
      "cell_type": "markdown",
      "metadata": {
        "id": "--ea_rjiXUA7"
      },
      "source": [
        "1. 依據level程度作切分所得的亂度最低\r\n",
        "2. 中等(Mid)程度的求職者，相應的標籤都是True\r\n",
        "3. 資深(Senior)的求職者，相應標籤有True亦有False\r\n",
        "→**須對此再進行一次切分**"
      ]
    },
    {
      "cell_type": "code",
      "metadata": {
        "colab": {
          "base_uri": "https://localhost:8080/"
        },
        "id": "JNeXfB-bX5On",
        "outputId": "2b4998d5-23e3-49a0-e9cb-903ef4f41626"
      },
      "source": [
        "senior_inputs = [input for input in inputs if input.level=='Senior']\r\n",
        "\r\n",
        "for key in ['lang','tweets','phd']:\r\n",
        "  print(key,partition_entropy_by(senior_inputs,key,'did_well'))"
      ],
      "execution_count": 16,
      "outputs": [
        {
          "output_type": "stream",
          "text": [
            "lang 0.4\n",
            "tweets 0.0\n",
            "phd 0.9509775004326938\n"
          ],
          "name": "stdout"
        }
      ]
    },
    {
      "cell_type": "markdown",
      "metadata": {
        "id": "S6OwUj_TYY-z"
      },
      "source": [
        "該結果告訴我們，下一個切分的屬性是tweets。  \r\n",
        "對於那些**資深**的求職者來說：\r\n",
        "* tweets屬性為yes的求職者：對應到True標籤\r\n",
        "* tweets屬性為no的求職者：對應到False標籤"
      ]
    },
    {
      "cell_type": "code",
      "metadata": {
        "colab": {
          "base_uri": "https://localhost:8080/"
        },
        "id": "K1vDbNUmZq7M",
        "outputId": "fcfffa98-e338-4d34-d47f-bb1f4653a1c3"
      },
      "source": [
        "junior_inputs = [input for input in inputs if input.level=='Junior']\r\n",
        "\r\n",
        "for key in ['lang','tweets','phd']:\r\n",
        "  print(key,partition_entropy_by(junior_inputs,key,'did_well'))"
      ],
      "execution_count": 17,
      "outputs": [
        {
          "output_type": "stream",
          "text": [
            "lang 0.9509775004326938\n",
            "tweets 0.9509775004326938\n",
            "phd 0.0\n"
          ],
          "name": "stdout"
        }
      ]
    },
    {
      "cell_type": "markdown",
      "metadata": {
        "id": "3AP5wyX-Z0Jy"
      },
      "source": [
        "對於**資遣**(Junior)的求職者，則選擇以phd欄位進行切分"
      ]
    },
    {
      "cell_type": "markdown",
      "metadata": {
        "id": "Ypeg5wwcbPY6"
      },
      "source": [
        "### 圖 17-3 朝聘決策樹\r\n",
        "![](https://lh3.googleusercontent.com/8ewTEWu5VPfDGOeUjxOGqGHpWXybLu_dw5jdo5tfxigdZL-z8xuNhRa1ZFRATwm7lz_YmkcjrMI_nzE9O9diQhPiTOtI9Hwq6CVeWrCdMpNtts1j2y6SI_CR96aUTsMbyNWxinE4XdegqDx9R0heriFcOCIpK6qFqVT7K4jaSI1_VBZlZpHlHvCLId6bS9AIG9gC1DwfONyYfoQR9Vvkn3mPZdiomSeZ5rN0hG2vPAgSDYpjDXQ8t2mIgPbn2CpEV_r4pcIA9a46JncF4QCKdm46HnKaRg_mOXnJqwuGW7ujhEH7fmjCU3HIardygpwdAAmI-eqoVGiS2ePQblzWfcgEhg_oZCWoliFQYp35ZYvXQKAr5lwEe6GzRSmmpgTbZ9e9tGBy0z2N6ZLPba4fphJ84cNIxTAMU1HB9SgL9lq275jJh19gtf2F8-2WsKhtZD5AkM3yckMcV1tpnlCBMLLfF-G2nMeI6MhlXWhEuxxYyOF5k_EmKPupA0uobW0KBsINMklauzZ16oK2ImBtK5IhqYcTIjoLdzkd5y3f1N3pejNfvvDGvNNKmzJXvUmmJXD7v2wiTjaMJSLN1HmEaqUHIgeLe4BBfAFjv_JhBrjRg2jN5U1bXfEVwBEX9Vd8IHNJUYpCdRsjuz5poEfORDyUImJkVdozec2UbutmbWhLURdC8w0n2_2oyKHcyQ=w695-h446-no?authuser=0)"
      ]
    },
    {
      "cell_type": "markdown",
      "metadata": {
        "id": "yLb1SBGVFEle"
      },
      "source": [
        "## 定義決策樹\r\n",
        "* 樹葉 (Left)：預測單一值\r\n",
        "* 切分 (Split): 包含要切分的屬性、特定屬性相應的子樹、遇到未知值可使用的預測值\r\n",
        "\r\n",
        "\r\n"
      ]
    },
    {
      "cell_type": "code",
      "metadata": {
        "id": "b4DlLTnpGMfq"
      },
      "source": [
        "from typing import NamedTuple,Union,Any\r\n",
        "\r\n",
        "class Leaf(NamedTuple):\r\n",
        "  value:Any\r\n",
        "\r\n",
        "class Split(NamedTuple):\r\n",
        "  attribute:str\r\n",
        "  subtrees:dict\r\n",
        "  default_value:Any = None\r\n",
        "\r\n",
        "DecisionTree = Union[Leaf,Split]"
      ],
      "execution_count": 18,
      "outputs": []
    },
    {
      "cell_type": "markdown",
      "metadata": {
        "id": "eL_dEKivbzky"
      },
      "source": [
        "將招聘決策樹以Split物件的形式表示："
      ]
    },
    {
      "cell_type": "code",
      "metadata": {
        "id": "rMgB42jOcMy5"
      },
      "source": [
        "hiring_tree=Split('level',{\r\n",
        "    'Junior':Split('phd',{False:Leaf(True),True:Leaf(False)}),\r\n",
        "    'Mid':Leaf(True),\r\n",
        "    'Senior':Split('tweets',{False:Leaf(False),True:Leaf(True)})\r\n",
        "})"
      ],
      "execution_count": 19,
      "outputs": []
    },
    {
      "cell_type": "markdown",
      "metadata": {
        "id": "nHAzq3vOc-Nb"
      },
      "source": [
        "若遇到非預期的屬性值，可以用default_value來處理這情況。"
      ]
    },
    {
      "cell_type": "code",
      "metadata": {
        "id": "JVlD3k0ldOy4"
      },
      "source": [
        "def classify(tree:DecisionTree,input:Any)->Any:\r\n",
        "  \"\"\"用給定的決策樹，對輸入進行分類\"\"\"\r\n",
        "\r\n",
        "  # 如果是個樹葉節點，就返回其值\r\n",
        "  if isinstance(tree,Leaf):\r\n",
        "    return tree.value\r\n",
        "  \r\n",
        "  # 要不然的話，該決策樹就以某個屬性進行切分 \r\n",
        "  # 字典的鍵值就是屬性值\r\n",
        "  # 鍵值的相應值就是接下來要考慮的子樹\r\n",
        "  subtree_key = getattr(input,tree.attribute)\r\n",
        "\r\n",
        "  if subtree_key not in tree.subtrees: # 如果鍵值沒有相應的子樹\r\n",
        "    return tree.default_value      # 就送回預設值\r\n",
        "  \r\n",
        "  subtree = tree.subtrees[subtree_key]  # 選擇適當的子樹\r\n",
        "  return classify(subtree,input)      # 然後用它對輸入進行分類"
      ],
      "execution_count": 20,
      "outputs": []
    },
    {
      "cell_type": "markdown",
      "metadata": {
        "id": "Ngi9J9NzlWJr"
      },
      "source": [
        "根據訓練資料建立決策樹的表示方式"
      ]
    },
    {
      "cell_type": "code",
      "metadata": {
        "id": "wnNBrF8Wluha"
      },
      "source": [
        "def build_tree_id3(inputs:List[Any],split_attrabutes:List[str],target_attribute:str)->DecisionTree:\r\n",
        "\r\n",
        "  # 算一下目標標籤的數量\r\n",
        "  label_counts = Counter(getattr(input,target_attribute) for input in inputs)\r\n",
        "\r\n",
        "  most_common_label = label_counts.most_common(1)[0][0]\r\n",
        "\r\n",
        "  # 如果只有一個獨特的標籤，則用它來預測結果\r\n",
        "  if len(label_counts) == 1:\r\n",
        "    return Leaf(most_common_label)\r\n",
        "  \r\n",
        "  # 如果已經沒有屬性可切分，就送回數量占最多的標籤\r\n",
        "  if not split_attrabutes:\r\n",
        "    return Leaf(most_common_label)\r\n",
        "  \r\n",
        "  # 否則就根據最佳屬性進行切分\r\n",
        "\r\n",
        "  def split_entorpy(attributes:str) ->float:\r\n",
        "    \"\"\"用來找出最佳屬性的輔助函式\"\"\"\r\n",
        "    return partition_entropy_by(inputs,attributes,target_attribute)\r\n",
        "  \r\n",
        "  best_attribute = min(split_attrabutes , key=split_entorpy)\r\n",
        "\r\n",
        "  partitions = partition_by(inputs,best_attribute)\r\n",
        "  new_attributes = [a for a in split_attrabutes if a != best_attribute]\r\n",
        "\r\n",
        "  # 以遞迴的方式建構子樹\r\n",
        "  subtrees = {attribute_value:build_tree_id3(subset,new_attributes,target_attribute) for attribute_value,subset in partitions.items()}\r\n",
        "\r\n",
        "  return Split(best_attribute,subtrees,default_value = most_common_label)"
      ],
      "execution_count": 21,
      "outputs": []
    },
    {
      "cell_type": "markdown",
      "metadata": {
        "id": "OkyQlZpKxv3V"
      },
      "source": [
        "此決策樹可對訓練資料做出完美的預測，但也可以把它運用在訓練及以外的全新資料上。"
      ]
    },
    {
      "cell_type": "code",
      "metadata": {
        "id": "4bqFi-7AyRr5"
      },
      "source": [
        "tree = build_tree_id3(inputs,['level','lang','tweets','phd'],'did_well')"
      ],
      "execution_count": 22,
      "outputs": []
    },
    {
      "cell_type": "code",
      "metadata": {
        "colab": {
          "base_uri": "https://localhost:8080/"
        },
        "id": "Wl_iqHRJyt7s",
        "outputId": "caaaca46-087b-46aa-bf9b-2f6d446935d4"
      },
      "source": [
        "# 應該預測 True\r\n",
        "classify(tree,Candidate(\"Junior\",\"Java\",True,False))"
      ],
      "execution_count": 24,
      "outputs": [
        {
          "output_type": "execute_result",
          "data": {
            "text/plain": [
              "True"
            ]
          },
          "metadata": {
            "tags": []
          },
          "execution_count": 24
        }
      ]
    },
    {
      "cell_type": "code",
      "metadata": {
        "colab": {
          "base_uri": "https://localhost:8080/"
        },
        "id": "2kdeC_WPFp5B",
        "outputId": "c444b681-8d32-4310-9927-10c1891f8ecb"
      },
      "source": [
        "# 應該預測 True\r\n",
        "classify(tree,Candidate(\"Junior\",\"Java\",True,True))"
      ],
      "execution_count": 25,
      "outputs": [
        {
          "output_type": "execute_result",
          "data": {
            "text/plain": [
              "False"
            ]
          },
          "metadata": {
            "tags": []
          },
          "execution_count": 25
        }
      ]
    },
    {
      "cell_type": "markdown",
      "metadata": {
        "id": "69zozTGnFtJl"
      },
      "source": [
        "即使遇到資料遺漏或出現非預期的資料，也不會有問題。"
      ]
    },
    {
      "cell_type": "code",
      "metadata": {
        "colab": {
          "base_uri": "https://localhost:8080/"
        },
        "id": "KZ5ECRUIF2LD",
        "outputId": "a8819650-7637-4ff8-beb8-0dc08831089d"
      },
      "source": [
        "# 應該預測 True\r\n",
        "classify(tree,Candidate(\"Intern\",\"Java\",True,True))"
      ],
      "execution_count": 26,
      "outputs": [
        {
          "output_type": "execute_result",
          "data": {
            "text/plain": [
              "True"
            ]
          },
          "metadata": {
            "tags": []
          },
          "execution_count": 26
        }
      ]
    },
    {
      "cell_type": "markdown",
      "metadata": {
        "id": "YLp_MUNBFhgL"
      },
      "source": [
        "# 隨機樹林(randomforests)\r\n",
        "\r\n",
        "建立多個決策樹，並將他們的輸出組合起來。\r\n",
        "* 數顆**分類**決策樹：進行投票\r\n",
        "* 數顆**迴歸**決策樹：取所有預測值的平均值\r\n",
        "\r\n",
        "利用隨機取樣，來訓練每一顆決策樹。  \r\n",
        "  \r\n",
        "**優點**：\r\n",
        "* 由於每顆決策樹都是利用不同的資料建立起來的，每棵樹之間會有些許不同。\r\n",
        "* 提供隨機性的來源→改變選擇的**最佳屬性**"
      ]
    },
    {
      "cell_type": "markdown",
      "metadata": {
        "id": "2kOxgZ_zHO01"
      },
      "source": [
        "## 整體學習(ensemble learning)\r\n",
        "結合多個較弱的學習模型，並創造出整體而言較強的模型"
      ]
    },
    {
      "cell_type": "code",
      "metadata": {
        "id": "mWyI25qhGPfT"
      },
      "source": [
        "# 如果選擇數量很少，則全部採用\r\n",
        "if len(split_candidates) <= self.num_split_candidates:\r\n",
        "  sampled_split_candidates = split_candidates\r\n",
        "# 或者取其中一小部分\r\n",
        "else:\r\n",
        "  sampled_split_candidates = random.sample(split_candidates,self.num_split_candidates)\r\n",
        "\r\n",
        "# 現在，只根據這些可選項目，挑選出其中最佳屬性\r\n",
        "best_attribute = min(sampled_split_candidates,key=split_entropy)\r\n",
        "\r\n",
        "partitions = partition_by(inputs,best_attribute)"
      ],
      "execution_count": null,
      "outputs": []
    }
  ]
}