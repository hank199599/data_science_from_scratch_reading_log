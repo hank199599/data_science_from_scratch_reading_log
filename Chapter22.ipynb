{
  "nbformat": 4,
  "nbformat_minor": 0,
  "metadata": {
    "colab": {
      "name": "Chapter22.ipynb",
      "provenance": [],
      "authorship_tag": "ABX9TyP8rLh8IEqb1t9PIA3X7y5B",
      "include_colab_link": true
    },
    "kernelspec": {
      "name": "python3",
      "display_name": "Python 3"
    }
  },
  "cells": [
    {
      "cell_type": "markdown",
      "metadata": {
        "id": "view-in-github",
        "colab_type": "text"
      },
      "source": [
        "<a href=\"https://colab.research.google.com/github/hank199599/data_science_from_scratch_reading_log/blob/main/Chapter22.ipynb\" target=\"_parent\"><img src=\"https://colab.research.google.com/assets/colab-badge.svg\" alt=\"Open In Colab\"/></a>"
      ]
    },
    {
      "cell_type": "markdown",
      "metadata": {
        "id": "MWzUiV9E6ykz"
      },
      "source": [
        "# 網路分析\r\n",
        "\r\n",
        "* 節點\r\n",
        "* 連線\r\n",
        "  * 無向(undirected)連線\r\n",
        "  * 有向(directed)連線"
      ]
    },
    {
      "cell_type": "markdown",
      "metadata": {
        "id": "ncEy39VNfCxr"
      },
      "source": [
        "## 中心度分析\r\n",
        "* 分支中心度 (degree centrality)\r\n",
        "* 居間中心度 (betweenness centrality)\r\n",
        "* 本徵向量中心度 (eigenvector centrality)"
      ]
    },
    {
      "cell_type": "markdown",
      "metadata": {
        "id": "7w56rdyC93O6"
      },
      "source": [
        "### 圖 22-1 DataScienceter 的朋友的關係網路\r\n",
        "![pic 22-1](https://lh3.googleusercontent.com/oc1eCq0FSFD2iepKz6Io9t6N1oHPzVhyoqMIwMFVCjNydmcAOxyUIbOPBDFQPJI0_eVgavorbuLjkzpQDqe4x2JI6J9ZCvtFawkAf6w_c50y8k7ZqkFgelSJtKdpzSwqmwHm2D9w3f601_vJ9OSn6daRCig1f5oc87ShJcUxycp0DElkeVOYpVmC4_IW3zGncOTB6XOpG3xYJrEFz9r3pppeygEhB-llUM4OqzOPBLvnwfzrxL4qdrwO1JTbectxwzZEU0G3W41j9Ttgq08-3qaOsHTp0VUPtviP-zo9c4AE_Pw0GIh4O0GBHzVaWJlluY6DYtZ_Rxkuf1Z1m5sdUwUIebrERJu86v3mebYKx7vG9_B6m14KQyGvKEtkYS8IG8Hys3mymJmg5mm7-B4AGhHszYmcOi7XO2i0AW-P1U4veF4hrSnXD0NzQDvp7pVmMf6NOmAu9JRHW9dysSLowAiNJC9Xlh_BXB1buqJMQ551rA4nKk0yBZ3TxDA1vWrn0dNNPW4KiGMzZ55SWWduw_FX42dLkXd_JDijBe3HEVQvv6cq0XH1QLxMZlyv6O6eftIvNwKrIHjAjAUIhC7e_rEpz06fNDclvvP6qsj3oi1bZpYGwr2ovn4wGXsRXh0B-SQh9n6sOKsNC2r8-ZjLRuOSLhOxv6qEAiMAvFUJoHuN5EeK0uvxXMKDcF5dkA=w346-h111-no?authuser=0)"
      ]
    },
    {
      "cell_type": "markdown",
      "metadata": {
        "id": "FUrDcUYO-ot1"
      },
      "source": [
        "建構構成網路的使用者"
      ]
    },
    {
      "cell_type": "code",
      "metadata": {
        "id": "z6EzJgke-o7l"
      },
      "source": [
        "users = [\r\n",
        "  {\"id\":0,\"name\":\"Hero\"},\r\n",
        "  {\"id\":1,\"name\":\"Dunn\"},\r\n",
        "  {\"id\":2,\"name\":\"Sue\"},\r\n",
        "  {\"id\":3,\"name\":\"Chi\"},\r\n",
        "  {\"id\":4,\"name\":\"Thor\"},\r\n",
        "  {\"id\":5,\"name\":\"Clive\"},\r\n",
        "  {\"id\":6,\"name\":\"Hicks\"},\r\n",
        "  {\"id\":7,\"name\":\"Devin\"},\r\n",
        "  {\"id\":8,\"name\":\"Kate\"},\r\n",
        "  {\"id\":9,\"name\":\"Klein\"}\r\n",
        "     ]"
      ],
      "execution_count": null,
      "outputs": []
    },
    {
      "cell_type": "markdown",
      "metadata": {
        "id": "zjubu87H-tBG"
      },
      "source": [
        "以及彼此間的朋友關係"
      ]
    },
    {
      "cell_type": "code",
      "metadata": {
        "id": "o1YCXv9T-tGm"
      },
      "source": [
        "friendship_pairs = [\r\n",
        "         (0,1),(0,2),(1,2),(1,3),(2,3),(3,4),\r\n",
        "         (4,5),(5,6),(5,7),(6,8),(7,8),(8,9)\r\n",
        "         ]"
      ],
      "execution_count": null,
      "outputs": []
    },
    {
      "cell_type": "markdown",
      "metadata": {
        "id": "EB3qIfNV_RyY"
      },
      "source": [
        "# <1> 分支中心度 (degree centrality)\r\n",
        "易於計算，能找出網路中擁有最多連線的節點"
      ]
    },
    {
      "cell_type": "code",
      "metadata": {
        "id": "_-O1vM8iAtaM"
      },
      "source": [
        "friendships = {user[\"id\"]:[] for user in users}\r\n",
        "for i,j in friendship_pairs:\r\n",
        "  friendships[i].append(i)\r\n",
        "  friendships[i].append(j)"
      ],
      "execution_count": null,
      "outputs": []
    },
    {
      "cell_type": "markdown",
      "metadata": {
        "id": "WRBf24YVCGwF"
      },
      "source": [
        "加總每個人的朋友數量"
      ]
    },
    {
      "cell_type": "code",
      "metadata": {
        "id": "Es-81NGZCL0s"
      },
      "source": [
        "def number_of_friends(user):\r\n",
        "  \"\"\"_user_ 有多少朋友?\"\"\"\r\n",
        "  user_id = user[\"id\"]\r\n",
        "  friend_ids = friendships[user_id]\r\n",
        "  return len(friend_ids)\r\n",
        "\r\n",
        "total_connections = sum(number_of_friends(user) for user in users)"
      ],
      "execution_count": null,
      "outputs": []
    },
    {
      "cell_type": "markdown",
      "metadata": {
        "id": "Tj3tWDjqFKHe"
      },
      "source": [
        "再除以使用者總人數"
      ]
    },
    {
      "cell_type": "code",
      "metadata": {
        "id": "kn4Dr4tLFMba"
      },
      "source": [
        "num_users = len(users)\r\n",
        "avg_connections = total_connections/num_users"
      ],
      "execution_count": null,
      "outputs": []
    },
    {
      "cell_type": "markdown",
      "metadata": {
        "id": "hT4PAlgYFZRT"
      },
      "source": [
        "取得每個使用者的連接使用者數目資訊"
      ]
    },
    {
      "cell_type": "code",
      "metadata": {
        "colab": {
          "base_uri": "https://localhost:8080/"
        },
        "id": "jkCQJwqkFacK",
        "outputId": "89d32dcf-8814-450e-dc22-0cc3245f8b03"
      },
      "source": [
        "num_friends_by_id = [(user[\"id\"],number_of_friends(user)) for user in users]\r\n",
        "\r\n",
        "num_friends_by_id.sort(\r\n",
        "    key = lambda id_and_friends:id_and_friends[1], # 根據朋友數量\r\n",
        "    reverse = True                 # 從最多排序到最少\r\n",
        ")\r\n",
        "print(num_friends_by_id)"
      ],
      "execution_count": null,
      "outputs": [
        {
          "output_type": "stream",
          "text": [
            "[(0, 4), (1, 4), (5, 4), (2, 2), (3, 2), (4, 2), (6, 2), (7, 2), (8, 2), (9, 0)]\n"
          ],
          "name": "stdout"
        }
      ]
    },
    {
      "cell_type": "markdown",
      "metadata": {
        "id": "ZSZVEfGwGSvB"
      },
      "source": [
        "依據節點的連線個數，建立列表"
      ]
    },
    {
      "cell_type": "code",
      "metadata": {
        "colab": {
          "base_uri": "https://localhost:8080/"
        },
        "id": "-XqDSGSKGbQN",
        "outputId": "51c9282b-ec19-4394-b4e7-1a837b040a2f"
      },
      "source": [
        "x = list(set([count[1] for count in num_friends_by_id]))\r\n",
        "x.sort(reverse=True)\r\n",
        "y = {number:[count[0] for count in num_friends_by_id if count[1]==number] for number in x}\r\n",
        "\r\n",
        "print(x)\r\n",
        "print(y)"
      ],
      "execution_count": null,
      "outputs": [
        {
          "output_type": "stream",
          "text": [
            "[4, 2, 0]\n",
            "{4: [0, 1, 5], 2: [2, 3, 4, 6, 7, 8], 0: [9]}\n"
          ],
          "name": "stdout"
        }
      ]
    },
    {
      "cell_type": "markdown",
      "metadata": {
        "id": "Ub8LJcl0JXsv"
      },
      "source": [
        "### 圖 1-2 DataSciencter的朋友關係網路，並以不同大小來呈現不同的分支之中心度\r\n",
        "![pic 1-2](https://lh3.googleusercontent.com/46OXh6ZthDQA7Uux7sQPQc6xbZhEZZsXvCAJ37X0QAB4-p6Z6BVYuz-3B6jJbGQn3ME2A6vEneI_iakmH2aCse1m6bPs05hWtVssQWTBcS7S8mawzkuXbtm5dxihXAGgkiUmLLoWHSaZzxUK0W0BoJBs2NrZ4FFfcTzwlpcIzDfpBWxJGMOb8mbRQj8ty_41QVjukZKmIGnBlnswS3pOYddyk_By103ZBdbLpvsW-tzj-KNuytnen-1WgLDFPark8UaL73KJFggpra7-eV3quMSgiT8NIw3nollpX0OYGQdjgjbs4L8giavgvh5IEKv0k0xHzi2WWE7oMdEjsir6XUrVEw9hy-MG9I0GdY2U807aYpzhQ7S3szOvc5ltCqGeYm90ertg-ZI9QFIP6Y3dIkfM1erlBFgCgLWu26mhnSMgfr6nN0wP69SZrVEeOO94tnU0dNyLKXH5wk0NBjerKv_70pPdwae-QziOiPJeTYGDvvF6qwPyeFTk-XImQ-Y6LhiAfzrj-AuUttRJOjXNbjZKehrQxiqJHJ7v8T466bvAX9v8SdZNfze-bpebg4Jp6VCMk18Deg5yLUshWShQSnMc928LbCSCP5em-OYPpJ0IyJ5lUkVwvDuxlzJCRRjGXHMTChKEHpjdr7TcY_yi4PKblzHYMdH-Qvhivbrs8yI2Fa1DwWEy8nohklt7MQ=w332-h117-no?authuser=0)"
      ]
    },
    {
      "cell_type": "markdown",
      "metadata": {
        "id": "UJhZheS98Xxh"
      },
      "source": [
        "# <2> 居間中心度 (betweenness centrality)\r\n",
        "找出網路中的**關鍵聯繫者**  \r\n",
        "識別出常出現在任兩者之間最短路徑的人  \r\n",
        "  \r\n",
        "**例如**：欲找出節點i的居間中心度  \r\n",
        "針對其他兩兩成對的節點j和節點k，計算出兩點之間所有最短路徑包含節點i的比例，  \r\n",
        "最後再將各組的比例值全部加總起來\r\n"
      ]
    },
    {
      "cell_type": "code",
      "metadata": {
        "id": "mWyI25qhGPfT"
      },
      "source": [
        "from typing import NamedTuple\r\n",
        "\r\n",
        "class User(NamedTuple):\r\n",
        "  id:int\r\n",
        "  name:str"
      ],
      "execution_count": null,
      "outputs": []
    },
    {
      "cell_type": "markdown",
      "metadata": {
        "id": "P4rzEba_A93A"
      },
      "source": [
        "建構構成網路的使用者"
      ]
    },
    {
      "cell_type": "code",
      "metadata": {
        "id": "M_Q7LIYPA93B"
      },
      "source": [
        "users = [\r\n",
        "      User(0,\"Hero\"),\r\n",
        "      User(1,\"Dunn\"),\r\n",
        "      User(2,\"Sue\"),\r\n",
        "      User(3,\"Chi\"),\r\n",
        "      User(4,\"Thor\"),\r\n",
        "      User(5,\"Clive\"),\r\n",
        "      User(6,\"Hicks\"),\r\n",
        "      User(7,\"Devin\"),\r\n",
        "      User(8,\"Kate\"),\r\n",
        "      User(9,\"Klein\")\r\n",
        "     ]"
      ],
      "execution_count": null,
      "outputs": []
    },
    {
      "cell_type": "markdown",
      "metadata": {
        "id": "ElUMg-LvLJu2"
      },
      "source": [
        "以及彼此間的朋友關係"
      ]
    },
    {
      "cell_type": "code",
      "metadata": {
        "id": "AWAK1OIILJvA"
      },
      "source": [
        "friend_pairs = [\r\n",
        "         (0,1),(0,2),(1,2),(1,3),(2,3),(3,4),\r\n",
        "         (4,5),(5,6),(5,7),(6,8),(7,8),(8,9)\r\n",
        "         ]"
      ],
      "execution_count": null,
      "outputs": []
    },
    {
      "cell_type": "markdown",
      "metadata": {
        "id": "Yo3B7w_6KP5Z"
      },
      "source": [
        "使用dict表示朋友關係"
      ]
    },
    {
      "cell_type": "code",
      "metadata": {
        "id": "Qww1e6sZKTUQ"
      },
      "source": [
        "from typing import Dict,List\r\n",
        "\r\n",
        "# 用來追蹤朋友關係的型別別名\r\n",
        "Frinedships = Dict[int,List[int]]\r\n",
        "\r\n",
        "friendships:Frinedships = {user.id:[] for user in users}\r\n",
        "\r\n",
        "for i,j in friend_pairs:\r\n",
        "  friendships[i].append(j)\r\n",
        "  friendships[j].append(i)\r\n",
        "\r\n",
        "assert friendships[4] == [3,5]\r\n",
        "assert friendships[8] == [6,7,9]"
      ],
      "execution_count": null,
      "outputs": []
    },
    {
      "cell_type": "markdown",
      "metadata": {
        "id": "6aeOux8lLzCG"
      },
      "source": [
        "# 建構**廣度優先搜尋演算法(BFS,Breadth-first search)**\r\n",
        "1. 我們的目標是製作出一個以 from user為輸入項的函式,這個函式可以找出從這個 from_user 連往所有其他使用者的全部最短路徑。\r\n",
        "\r\n",
        "2. 我們會用使用者編號組成 list 列表,來表示一條路徑。由於每條路徑都是以 from_user 做為起點,所以在列表中就不包含 from_user 的編號了。這麼一來,這個代表路徑的列表其中元素的數量,也就等於路徑本身的長度。\r\n",
        "\r\n",
        "3. 我們會用到個叫做shortest_paths_to 的dict字典,其值為使用者編號,而相應的值則是路徑未端為該使用者的全部最短路徑列表,如果只有唯一一條最短路徑,列表中就只會包含這條路徑。如果有好幾條最短路徑,列表中則會包含所有這些最短路徑。\r\n",
        "\r\n",
        "4. 我們也會用到一個叫做frontier的佇列(queue),裡頭會根據我們打算進行探索的順序,存放我們打算探索的使用者資料。我們是以(**前一使用者**,**使用者**)這樣的成對形式,把使用者資料存放在這個件列中如此一來,我們就可以運用前一使用者的資訊,求取出使用者相應的結果一開始我們會把from_user與他所有的朋友一一配對,然後放進這個作列中,以做為初始設定(我之前並沒有討論過「作 列」這種資料結構,它特別針對「在未端添加資料」與「從前端移出資料」這兩種 操作,做了些最佳化的設計。Python 的 collections.deque 實作了這個資料結構: 而且實作出來的其實是個雙向 [double-ended]佇列)。\r\n",
        "\r\n",
        "5. 我們在網路中進行探索時,只要遇到還不知道其最短路徑的新相鄰節點,就把它加到佇列的末端,以便在稍後進行探索,而當前正在進行探索的使用著,就成為它的prev_user(前一使用者)。\r\n",
        "\r\n",
        "6. 從佇列中取出某個使用者時,就算之前從沒遇過這位使用者,我們還是知道至少有一條從 from_user連往它的最短路徑,因為只要在每條連往 prev_user 的最短路徑後面再加一步就是了。\r\n",
        "\r\n",
        "7. 從佇列中取出某個使用者時,如果我們之前遇過這位使用者,那我們所找到的新路徑,如果不是另條最短路徑(這樣的話還是要把它加進去),要不就是另一條比較長的路徑(這樣就不用再加進去了)。\r\n",
        "\r\n",
        "8. 如果佇列中已經沒有更多使用者的資料,也就等於我們已經探索了整個網路(或者至少可以說,探索範圍已經涵蓋起始使用者可抵達的部分),而工作也就算是完成了。\r\n"
      ]
    },
    {
      "cell_type": "code",
      "metadata": {
        "id": "NIPOj4kwMA_6"
      },
      "source": [
        "from collections import deque\r\n",
        "\r\n",
        "Path = List[int]\r\n",
        "\r\n",
        "def shortest_paths_from(from_user_id:int,friendships:Frinedships) ->Dict[int,List[Path]]:\r\n",
        "  # 一個dict字典：\r\n",
        "  # {使用者編號:「所有」其他使用者聯網此使用者的最短編號}\r\n",
        "  shortest_paths_to:Dict[int,List[Path]] = {from_user_id:[[]]}\r\n",
        "  # 存放(prev_user,user)的佇列\r\n",
        "  # 一開始將(from_user,from_user 的朋友) 全放進佇列中\r\n",
        "  frontier = deque((from_user_id,friend_id) for friend_id in friendships[from_user_id])\r\n",
        "\r\n",
        "  # 重複這個操作直到 frontier 佇列為空\r\n",
        "  while frontier:\r\n",
        "    # 自佇列前端取出下一對成對的資料\r\n",
        "    prev_user_id,user_id = frontier.popleft()\r\n",
        "\r\n",
        "    # 至此，已經能知道一些連往 prev_user 的最短路徑 \r\n",
        "    paths_to_prev_user = shortest_paths_to[prev_user_id]\r\n",
        "    new_paths_to_user = [path + [user_id] for path in paths_to_prev_user]\r\n",
        "\r\n",
        "    # 可能已經知道一條通往 user_id 的最短路徑\r\n",
        "    old_paths_to_user = shortest_paths_to.get(user_id,[])\r\n",
        "\r\n",
        "    # 判定目前的路徑長度\r\n",
        "    if old_paths_to_user:\r\n",
        "      min_path_length = len(old_paths_to_user[0])\r\n",
        "    else:\r\n",
        "      min_path_length = float(\"inf\")\r\n",
        "    \r\n",
        "    # 新路徑不能重複且長度需短於舊路徑\r\n",
        "    new_paths_to_user = [path for path in new_paths_to_user if len(path) <= min_path_length and path not in old_paths_to_user]\r\n",
        "\r\n",
        "    shortest_paths_to[user_id] = old_paths_to_user + new_paths_to_user\r\n",
        "\r\n",
        "    # 將沒見過的節點放置到 frontier 之中\r\n",
        "    frontier.extend((user_id,friend_id) for friend_id in friendships[user_id] if friend_id not in shortest_paths_to)\r\n",
        "  \r\n",
        "  return shortest_paths_to"
      ],
      "execution_count": null,
      "outputs": []
    },
    {
      "cell_type": "markdown",
      "metadata": {
        "id": "fNhGx2D6rNX0"
      },
      "source": [
        "**以演算法角度展示計算結果**  \r\n",
        "  \r\n",
        "| Select|0|1|2|3|4|5|6|7|8|9|\r\n",
        "| ---- |-|-|-|-|-|-|-|-|-|-|\r\n",
        "| 0 |0|①|∞|∞|∞|∞|∞|∞|∞|∞|\r\n",
        "| 1 |0|1|①|2|∞|∞|∞|∞|∞|∞|\r\n",
        "| 2 |0|1|1|②|3|∞|∞|∞|∞|∞|\r\n",
        "| 3 |0|1|1|2|③|4|∞|∞|∞|∞|\r\n",
        "| 4 |0|1|1|2|3|④|5|5|∞|∞|\r\n",
        "| 5 |0|1|1|2|3|4|⑤|5|∞|∞|\r\n",
        "| 6 |0|1|1|2|3|4|5|⑤|6|∞|\r\n",
        "| 7 |0|1|1|2|3|4|5|5|⑥|∞|\r\n",
        "| 8 |0|1|1|2|3|4|5|5|6|⑦|\r\n",
        "| 9 |0|1|1|2|3|4|5|5|6|7|\r\n"
      ]
    },
    {
      "cell_type": "markdown",
      "metadata": {
        "id": "ngASNcjuMTFU"
      },
      "source": [
        "計算所有的最短路徑"
      ]
    },
    {
      "cell_type": "code",
      "metadata": {
        "colab": {
          "base_uri": "https://localhost:8080/"
        },
        "id": "p2vQd5ZYMRWO",
        "outputId": "adc69d5f-7f03-4c9b-e537-6ce8a5ae0bf7"
      },
      "source": [
        "# 針對每個 from_user ，列出通往每個 to_user 的所有最短路徑\r\n",
        "shortest_paths = {user.id:shortest_paths_from(user.id,friendships) for user in users}\r\n",
        "print(shortest_paths)"
      ],
      "execution_count": null,
      "outputs": [
        {
          "output_type": "stream",
          "text": [
            "{0: {0: [[]], 1: [[1]], 2: [[2]], 3: [[1, 3], [2, 3]], 4: [[1, 3, 4], [2, 3, 4]], 5: [[1, 3, 4, 5], [2, 3, 4, 5]], 6: [[1, 3, 4, 5, 6], [2, 3, 4, 5, 6]], 7: [[1, 3, 4, 5, 7], [2, 3, 4, 5, 7]], 8: [[1, 3, 4, 5, 6, 8], [2, 3, 4, 5, 6, 8], [1, 3, 4, 5, 7, 8], [2, 3, 4, 5, 7, 8]], 9: [[1, 3, 4, 5, 6, 8, 9], [2, 3, 4, 5, 6, 8, 9], [1, 3, 4, 5, 7, 8, 9], [2, 3, 4, 5, 7, 8, 9]]}, 1: {1: [[]], 0: [[0]], 2: [[2]], 3: [[3]], 4: [[3, 4]], 5: [[3, 4, 5]], 6: [[3, 4, 5, 6]], 7: [[3, 4, 5, 7]], 8: [[3, 4, 5, 6, 8], [3, 4, 5, 7, 8]], 9: [[3, 4, 5, 6, 8, 9], [3, 4, 5, 7, 8, 9]]}, 2: {2: [[]], 0: [[0]], 1: [[1]], 3: [[3]], 4: [[3, 4]], 5: [[3, 4, 5]], 6: [[3, 4, 5, 6]], 7: [[3, 4, 5, 7]], 8: [[3, 4, 5, 6, 8], [3, 4, 5, 7, 8]], 9: [[3, 4, 5, 6, 8, 9], [3, 4, 5, 7, 8, 9]]}, 3: {3: [[]], 1: [[1]], 2: [[2]], 4: [[4]], 0: [[1, 0], [2, 0]], 5: [[4, 5]], 6: [[4, 5, 6]], 7: [[4, 5, 7]], 8: [[4, 5, 6, 8], [4, 5, 7, 8]], 9: [[4, 5, 6, 8, 9], [4, 5, 7, 8, 9]]}, 4: {4: [[]], 3: [[3]], 5: [[5]], 1: [[3, 1]], 2: [[3, 2]], 6: [[5, 6]], 7: [[5, 7]], 0: [[3, 1, 0], [3, 2, 0]], 8: [[5, 6, 8], [5, 7, 8]], 9: [[5, 6, 8, 9], [5, 7, 8, 9]]}, 5: {5: [[]], 4: [[4]], 6: [[6]], 7: [[7]], 3: [[4, 3]], 8: [[6, 8], [7, 8]], 1: [[4, 3, 1]], 2: [[4, 3, 2]], 9: [[6, 8, 9], [7, 8, 9]], 0: [[4, 3, 1, 0], [4, 3, 2, 0]]}, 6: {6: [[]], 5: [[5]], 8: [[8]], 4: [[5, 4]], 7: [[5, 7], [8, 7]], 9: [[8, 9]], 3: [[5, 4, 3]], 1: [[5, 4, 3, 1]], 2: [[5, 4, 3, 2]], 0: [[5, 4, 3, 1, 0], [5, 4, 3, 2, 0]]}, 7: {7: [[]], 5: [[5]], 8: [[8]], 4: [[5, 4]], 6: [[5, 6], [8, 6]], 9: [[8, 9]], 3: [[5, 4, 3]], 1: [[5, 4, 3, 1]], 2: [[5, 4, 3, 2]], 0: [[5, 4, 3, 1, 0], [5, 4, 3, 2, 0]]}, 8: {8: [[]], 6: [[6]], 7: [[7]], 9: [[9]], 5: [[6, 5], [7, 5]], 4: [[6, 5, 4], [7, 5, 4]], 3: [[6, 5, 4, 3], [7, 5, 4, 3]], 1: [[6, 5, 4, 3, 1], [7, 5, 4, 3, 1]], 2: [[6, 5, 4, 3, 2], [7, 5, 4, 3, 2]], 0: [[6, 5, 4, 3, 1, 0], [7, 5, 4, 3, 1, 0], [6, 5, 4, 3, 2, 0], [7, 5, 4, 3, 2, 0]]}, 9: {9: [[]], 8: [[8]], 6: [[8, 6]], 7: [[8, 7]], 5: [[8, 6, 5], [8, 7, 5]], 4: [[8, 6, 5, 4], [8, 7, 5, 4]], 3: [[8, 6, 5, 4, 3], [8, 7, 5, 4, 3]], 1: [[8, 6, 5, 4, 3, 1], [8, 7, 5, 4, 3, 1]], 2: [[8, 6, 5, 4, 3, 2], [8, 7, 5, 4, 3, 2]], 0: [[8, 6, 5, 4, 3, 1, 0], [8, 7, 5, 4, 3, 1, 0], [8, 6, 5, 4, 3, 2, 0], [8, 7, 5, 4, 3, 2, 0]]}}\n"
          ],
          "name": "stdout"
        }
      ]
    },
    {
      "cell_type": "markdown",
      "metadata": {
        "id": "6fy1PC7lMWhx"
      },
      "source": [
        "## 計算**居間中心度**\r\n",
        "**已知**：每組節點i與j之間各有n條最短路徑  \r\n",
        "**動作**：在每條最短路徑上，為每個節點增加1/n的中心度"
      ]
    },
    {
      "cell_type": "code",
      "metadata": {
        "colab": {
          "base_uri": "https://localhost:8080/"
        },
        "id": "aUZ09tKoMWqK",
        "outputId": "0fe7782d-4961-441d-fdbe-180b1bd096fc"
      },
      "source": [
        "betweenness_centrality = {user.id:0.0 for user in users}\r\n",
        "\r\n",
        "for source in users:\r\n",
        "  for target_id,paths in shortest_paths[source.id].items():\r\n",
        "    if source.id < target_id: # 不要重複計算\r\n",
        "      num_paths = len(paths) # 計算共有幾條最短路徑\r\n",
        "      contrib = 1/num_paths  # 對於中心度的貢獻度\r\n",
        "      for path in paths:\r\n",
        "        for between_id in path:\r\n",
        "          if between_id not in [source.id,target_id]:\r\n",
        "            betweenness_centrality[between_id] += contrib\r\n",
        "\r\n",
        "print(betweenness_centrality)"
      ],
      "execution_count": null,
      "outputs": [
        {
          "output_type": "stream",
          "text": [
            "{0: 0.0, 1: 3.5, 2: 3.5, 3: 18.0, 4: 20.0, 5: 20.5, 6: 6.0, 7: 6.0, 8: 8.5, 9: 0.0}\n"
          ],
          "name": "stdout"
        }
      ]
    },
    {
      "cell_type": "markdown",
      "metadata": {
        "id": "S-tY6VPkMCVG"
      },
      "source": [
        "### 圖 22-2 DataSciencter的朋友關係網路，並以不同大小來呈現不同的分支之中心度\r\n",
        "\r\n",
        "![pic 22-2](https://lh3.googleusercontent.com/iIh2hCnEdh7tVEnd9h8cI5u1kW-MkqQ8qE7FQRBBrXlVQXHUJAtXjUUGSW_-ru4lIM-bL5NYJ7TlYHiaO9fhSFT1nEHRK30IeJcKs-0IgFiYq3gJ6Nx-DTpHHCkjRdQRUXmR7lwUuo8LKqviZ5KKQIoWI7_ssCs8-DLgqNmB3zMEa3JVjvnDDvOTDdY6zESo1-e_o38xg2QYDGkBgbYe-qxC6qdzGW8YoUF0UD3gPEWR3Bb38hPqwwU6Aui0SCG1trII2GPAh8vxEBA-m9Qz45GlvH3hCIh50jnusAQ_mQF9YPzSLqq-WbwEN4cZo4iNwbbvBbvwPWhdRUJkI5BcNRpvqO_U58mM1BFrIC9_KNa47-72dJAQsO4YeX-tycyn-pT72VNEPKlTNEMLZDvvA4yH2Zs9_ltNwIUNRXbnJgcfXh1Ai_BTD8OFIXZ8sHjNJL9XLXyaQIv8SNpEZTJIQNA2ecg4Pv5IxbGuOn_0aln9JOmbNrXKpHxYyvAYyPeCDXbwY3u0RDPkW-4QysFmfEyVeY4sJHLMEjHdKMpHil-iE6GAJE6MLrAtkI2GwjZM6aPHwQerihZfOZMzxc4sS5yfZkUWZAm7OtNnT-uIcz-JMnADVphJ1oFE2nrbrF-uIrKuG3Pi-fGOw1rk9k_FsRC4mS5YsSb1iCP5cARUhlOh0edlqNm9_ZZ5pGg63Q=w346-h99-no?authuser=0)"
      ]
    },
    {
      "cell_type": "markdown",
      "metadata": {
        "id": "FRhbxzOpoUW6"
      },
      "source": [
        "# <3> 緊密中心度(closeness certrality)\r\n",
        "1. 計算每個使用者的**疏遠度(farness)**\r\n",
        "2. 將路線加總起來即可"
      ]
    },
    {
      "cell_type": "code",
      "metadata": {
        "id": "TGDhBmllMQ5T"
      },
      "source": [
        "def farness(user_id:int) ->float:\r\n",
        "  \"\"\"與所有其他使用者之間最短路徑的長度總和\"\"\"\r\n",
        "  return sum(len(paths[0]) for paths in shortest_paths[user_id].values())"
      ],
      "execution_count": null,
      "outputs": []
    },
    {
      "cell_type": "markdown",
      "metadata": {
        "id": "4zd5HMjcpDSO"
      },
      "source": [
        "計算緊密中心度"
      ]
    },
    {
      "cell_type": "code",
      "metadata": {
        "colab": {
          "base_uri": "https://localhost:8080/"
        },
        "id": "bqoatMF8pFWD",
        "outputId": "048d9802-7300-45ee-ea28-05e1e5098b59"
      },
      "source": [
        "clossness_centrality = {user.id:1/farness(user.id) for user in users}\r\n",
        "print(clossness_centrality)"
      ],
      "execution_count": null,
      "outputs": [
        {
          "output_type": "stream",
          "text": [
            "{0: 0.029411764705882353, 1: 0.037037037037037035, 2: 0.037037037037037035, 3: 0.045454545454545456, 4: 0.05, 5: 0.05, 6: 0.041666666666666664, 7: 0.041666666666666664, 8: 0.03571428571428571, 9: 0.027777777777777776}\n"
          ],
          "name": "stdout"
        }
      ]
    },
    {
      "cell_type": "markdown",
      "metadata": {
        "id": "6ZAhk9CWMN4a"
      },
      "source": [
        "### 圖 22-3 DataSciencter的朋友關係網路，並以不同大小來呈現不同的分支之中心度\r\n",
        "\r\n",
        "![pic 22-3](https://lh3.googleusercontent.com/vc7cxMdOkTfk4l1dAuKMqq0XD8d446_mEvsJQkCFLdqtcGh_Jy4adt2ZQ9Lk55ilqqZgp-nWewimIPxu5Sk_MN_RKS3bNwi6_SnzQymuHj3r--nWNsQfawN_mpDuJLJA_kYf_knSeolX3ZBqJE9vvnpqZWkPfCUR8BZ3vREsDU96fnT6pU2MwHlTdD111Bta5olTXGxgSQhy-IAasCfP8BSqMmNSRoTdVD8oHPCyWYJHXg7LkbaaF62BPnKj_8jFCv4aBFJ_sDeSoaEwZKAj7kIkLcw07JC10091SWHvQmJ8zSvfzF1-Uef_XLZoiSra2ERKq-UTH8WGP1VzLLdm-vTkVB5_nVpK0170pYHXf0FwYOyKmfFaEsgYay1Yq-MhHAsd9N-_UJq5t6mieeFK-xHqGQvyXmQBhYzVY1ZnP8fF_wfIMaWPjJ6O3lvw_0_Hmfe1AOSChwnZL35nyaymQnKZNjoMMoOnYACD-1MUcXIS4WlMguVhvr2PBCozIxMo7jYQkRPXOF8xHwYHIq_eSY-vombLRMoXDgsYY2eWhnU3h2LWntM8xL7YhCd7Yp4ojAxvBZT3gk8hlTCmlL5e6oLq4foYNVwW3ID6OrHJkf2Bpm4R_4F7et6C6ASLLwLMsDxUzUOsIayMf5Il0AdpEE70ssvlObl5eSQWVGOKipgyEEmt8Oxpu3KfgSD_Ew=w346-h109-no?authuser=0)"
      ]
    },
    {
      "cell_type": "markdown",
      "metadata": {
        "id": "YWmbveoXLaai"
      },
      "source": [
        "# 本徵向量中心度 (eigenvector centrality)"
      ]
    },
    {
      "cell_type": "markdown",
      "metadata": {
        "id": "Z9NnCdlJLmEK"
      },
      "source": [
        "## 矩陣乘法\r\n",
        "假設A是一個 n x m 矩陣，B是一個 m x k 矩陣。  \r\n",
        "他們相乘後就是AB = n x k 矩陣。  \r\n",
        "其中第(i,j)項就是：  \r\n",
        "![formula -1](https://lh3.googleusercontent.com/xlm1AMlBJuLSdi8W6KLUIZffJOXfSDX6MaAR3YHPdD_2nojFTYsnow7ApbfFIAJfOZUJ6A7GCrLOPQwrIFfmppqWFehT9BdvoELfffHKXsNmQqkb-kt5MVjNhwBpdjex_VORIEg_lrXbrrfTIWLZWKEooQlN1vUvDs79IChnv_Zb0KFAN8PH64v55NgjeqgPLMKQ89mxFESGcqD0HfQE15TNWmNElsHImmEwRSWWReqAI5S7WsXEsoI1u_4y6FoPelIHqsxlKZS4OhyKM18uIBOzWA1cy0fO6awoqp_qdOiPYFei5w6LOKsytFuHdAuSppxO7oGhduGDPkb94YzgyXEU_vKmhwU-Hw5N-_BbUDGl-k1wwyhiVFsGGecgPMaUFVk3H8b3UfucL3G2a9Sy7LYTI5b7f4yhBzvWj63fWrASoDXsAMjv2M3SVKSp-EVjfNnnsmVkTq1B7ns6BRCw32uZbARLpkdC98bC3sueLs9t8D6d5w2OkO-QRbqkrbCKdNR9ONwYtOh0VChvmtyOoqmBVFwuadeNu3H0pdkKGk5FjG6TdGAOyXYM-2YKPF_luD3s0a9WGowfOCHdZ14_ffH2oz9EMeOdXZc0S6psc5gE2DVUhQCDP_yVDd2WkPbmas6JSFEkgomqCinyzeq_ZS0THE2IeWPAN_ewluoN-WOw69ShhJIAqSD0cWE0oQ=w360-h60-no?authuser=0)  \r\n",
        "如果我們把m為向量當成是一個(m,1)矩陣，並與一個(n,m)的矩陣相乘。  \r\n",
        "則會得到一個(n,1)矩陣。  \r\n",
        "可以將它視為一個**n維向量**。\r\n",
        "\r\n"
      ]
    },
    {
      "cell_type": "markdown",
      "metadata": {
        "id": "VS1SA75F5jP5"
      },
      "source": [
        "引用第四章的矩陣定義"
      ]
    },
    {
      "cell_type": "code",
      "metadata": {
        "id": "xgN0nFO05fxs"
      },
      "source": [
        "from typing import List\r\n",
        "from typing import Callable\r\n",
        "from typing import Tuple\r\n",
        "\r\n",
        "Matrix=List[List[float]] #另一種型別別名\r\n",
        "\r\n",
        "#送回一個num_rows * num_cols 的矩陣，其中第(i,j)項就是entry_fn(i,j)\r\n",
        "def make_matrix(num_rows:int,num_cols:int,entry_fn:Callable[[int,int],float])->Matrix:\r\n",
        "\r\n",
        "  return [[ entry_fn(i,j)        # 給定 i ，就能建立長度為 j 的列表\r\n",
        "        for j in range(num_cols)] # [entry_fn(i,0),...]\r\n",
        "        for i in range(num_rows)] # 針對每個i都建立一個列表\r\n",
        "\r\n",
        "def shape(A:Matrix) -> Tuple[int,int]: # 計算矩陣的形狀(shape)\r\n",
        "\r\n",
        "  num_rows=len(A)\r\n",
        "  num_cols=len(A[0]) if A else 0\r\n",
        "  return num_rows,num_cols"
      ],
      "execution_count": 2,
      "outputs": []
    },
    {
      "cell_type": "code",
      "metadata": {
        "id": "IgHl7YuB57Vh"
      },
      "source": [
        "def matrix_times_matrix(m1:Matrix,m2:Matrix) ->Matrix:\r\n",
        "  nr1,nc1 = shaple(m1)\r\n",
        "  nr2,nc2 = shaple(m2)\r\n",
        "  assert nc1 == nr2 ,\" m1 的粽列數量，必須等於 m2 的橫行數量\"\r\n",
        "\r\n",
        "  def entry_fn(i:int,j:int) ->float:\r\n",
        "    \"\"\"m1的第i橫行與m2第j縱列的點積\"\"\"\r\n",
        "    return sum(m1[i][k]*m2[k][j] for k in range(nc1))\r\n",
        "  \r\n",
        "  return make_matrix(nr1,nc2,entry_fn)\r\n"
      ],
      "execution_count": 3,
      "outputs": []
    },
    {
      "cell_type": "markdown",
      "metadata": {
        "id": "bEuXUu_69v6u"
      },
      "source": [
        "計算相乘後每個獨立的n維向量"
      ]
    },
    {
      "cell_type": "code",
      "metadata": {
        "id": "dLMb2PXO9wA2"
      },
      "source": [
        "Vector = List[float]\r\n",
        "\r\n",
        "def dot(v:Vector,w:Vector)->float:\r\n",
        "  #計算v_1*w_1+... +v_n*w_n\r\n",
        "  assert len(v)==len(w),\"兩個向量必須有相同的維度\"\r\n",
        "\r\n",
        "  return sum(v_i*w_i for v_i,w_i in zip(v,w))"
      ],
      "execution_count": 4,
      "outputs": []
    },
    {
      "cell_type": "code",
      "metadata": {
        "id": "rhyUukHj96e3"
      },
      "source": [
        "def matrix_times_vector(m:Matrix,v:Vector) ->Vector:\r\n",
        "  nr,nc = shape(m)\r\n",
        "  n = len(v)\r\n",
        "  assert nc == n ,\"m的縱列數量必須等於v的元素數量\"\r\n",
        "\r\n",
        "  return [dot(row,v) for row in m] # 輸出長度為nr"
      ],
      "execution_count": 5,
      "outputs": []
    },
    {
      "cell_type": "markdown",
      "metadata": {
        "id": "M5pfSwNOAnhe"
      },
      "source": [
        "如果A是個方矩陣(square matrix),這個運算就可以把某個n維向量,映射到另一個 維向量。有時候某個矩陣A和向量v在進行矩陣運算之後,所得到的結果正好等於某個 純量乘以向量v的結果。也就是說,計算出來的向量,恰與指向相同的方向。如果發生 這樣的情況(而且 不是零向量的話),我們就把v稱為4的「本徵向量」。而那個純量,就是所謂的「本徵值(eigenvalue)」。\r\n",
        "\r\n",
        "[Youtube 連結 >](https://www.youtube.com/watch?v=PFDu9oVAE-g&list=PLZHQObOWTQDPD3MizzM2xVFitgF8hE_ab&index=14&t=807s)\r\n",
        "\r\n",
        "如果要找出A的本徵向量,其中一種可能的做法就是先取個起始向量v,套入matrix_times_vector 進行運算,然後把結果調整成向量長度為1的單位向量,再重複同樣的動作,直到整個程序收斂為止:"
      ]
    },
    {
      "cell_type": "code",
      "metadata": {
        "id": "QcLsG7PBCYMv"
      },
      "source": [
        "from typing import Tuple\r\n",
        "import random\r\n",
        "import math\r\n",
        "\r\n",
        "def magnitude(v:Vector)->float:\r\n",
        "  return math.aqrt(sum_of_squares(v)) #math.sqrt 是計算平方根的一個函式\r\n",
        "\r\n",
        "def distance(v:Vector,w:Vector) -> float:\r\n",
        "  return magnitude(subtrate(v,w))"
      ],
      "execution_count": 6,
      "outputs": []
    },
    {
      "cell_type": "code",
      "metadata": {
        "id": "wQEg6lB8Clvm"
      },
      "source": [
        "def fund_eigenvector(m:Matrix,tolerance:float = 0.00001) ->Tuple[Vector,flaot]:\r\n",
        "  guess = [random.random() for _ in m]\r\n",
        "\r\n",
        "  while True:\r\n",
        "    result = matrix_times_vector(m,guess)   # 以轉換結果為猜測值\r\n",
        "    norm = magnitude(result)          # 計算範數\r\n",
        "    next_guess = [x/norm for x in result] # 重新調整尺度\r\n",
        "\r\n",
        "    if distance(guess,next_guess) < tolerance:\r\n",
        "      # 收斂到一定程度就返回(本徵向量，特徵值)\r\n",
        "      return next_guess,norm\r\n",
        "\r\n",
        "    guess = next_guess"
      ],
      "execution_count": null,
      "outputs": []
    },
    {
      "cell_type": "markdown",
      "metadata": {
        "id": "dme9ZfLPLpDH"
      },
      "source": [
        "## 中心度"
      ]
    },
    {
      "cell_type": "markdown",
      "metadata": {
        "id": "QD5iMeXCLsH5"
      },
      "source": [
        "# 有向圖與網頁排名"
      ]
    }
  ]
}