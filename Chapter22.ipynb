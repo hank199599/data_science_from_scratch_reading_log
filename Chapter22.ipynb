{
  "nbformat": 4,
  "nbformat_minor": 0,
  "metadata": {
    "colab": {
      "name": "Chapter22.ipynb",
      "provenance": [],
      "authorship_tag": "ABX9TyOdZt0lAYXQH6dtrdO3ghfY",
      "include_colab_link": true
    },
    "kernelspec": {
      "name": "python3",
      "display_name": "Python 3"
    }
  },
  "cells": [
    {
      "cell_type": "markdown",
      "metadata": {
        "id": "view-in-github",
        "colab_type": "text"
      },
      "source": [
        "<a href=\"https://colab.research.google.com/github/hank199599/data_science_from_scratch_reading_log/blob/main/Chapter22.ipynb\" target=\"_parent\"><img src=\"https://colab.research.google.com/assets/colab-badge.svg\" alt=\"Open In Colab\"/></a>"
      ]
    },
    {
      "cell_type": "markdown",
      "metadata": {
        "id": "MWzUiV9E6ykz"
      },
      "source": [
        "# 網路分析\r\n",
        "\r\n",
        "* 節點\r\n",
        "* 連線\r\n",
        "  * 無向(undirected)連線\r\n",
        "  * 有向(directed)連線"
      ]
    },
    {
      "cell_type": "markdown",
      "metadata": {
        "id": "7w56rdyC93O6"
      },
      "source": [
        "### 圖 22-1 DataScienceter 的朋友的關係網路\r\n",
        "![pic 22-1](https://lh3.googleusercontent.com/oc1eCq0FSFD2iepKz6Io9t6N1oHPzVhyoqMIwMFVCjNydmcAOxyUIbOPBDFQPJI0_eVgavorbuLjkzpQDqe4x2JI6J9ZCvtFawkAf6w_c50y8k7ZqkFgelSJtKdpzSwqmwHm2D9w3f601_vJ9OSn6daRCig1f5oc87ShJcUxycp0DElkeVOYpVmC4_IW3zGncOTB6XOpG3xYJrEFz9r3pppeygEhB-llUM4OqzOPBLvnwfzrxL4qdrwO1JTbectxwzZEU0G3W41j9Ttgq08-3qaOsHTp0VUPtviP-zo9c4AE_Pw0GIh4O0GBHzVaWJlluY6DYtZ_Rxkuf1Z1m5sdUwUIebrERJu86v3mebYKx7vG9_B6m14KQyGvKEtkYS8IG8Hys3mymJmg5mm7-B4AGhHszYmcOi7XO2i0AW-P1U4veF4hrSnXD0NzQDvp7pVmMf6NOmAu9JRHW9dysSLowAiNJC9Xlh_BXB1buqJMQ551rA4nKk0yBZ3TxDA1vWrn0dNNPW4KiGMzZ55SWWduw_FX42dLkXd_JDijBe3HEVQvv6cq0XH1QLxMZlyv6O6eftIvNwKrIHjAjAUIhC7e_rEpz06fNDclvvP6qsj3oi1bZpYGwr2ovn4wGXsRXh0B-SQh9n6sOKsNC2r8-ZjLRuOSLhOxv6qEAiMAvFUJoHuN5EeK0uvxXMKDcF5dkA=w346-h111-no?authuser=0)"
      ]
    },
    {
      "cell_type": "markdown",
      "metadata": {
        "id": "FUrDcUYO-ot1"
      },
      "source": [
        "建構構成網路的使用者"
      ]
    },
    {
      "cell_type": "code",
      "metadata": {
        "colab": {
          "base_uri": "https://localhost:8080/",
          "height": 230
        },
        "id": "z6EzJgke-o7l",
        "outputId": "e20d3fe8-b0a5-4c5c-d8d7-455236c4e4ee"
      },
      "source": [
        "users = [\r\n",
        "  {\"id\":0,\"name\":\"Hero\"},\r\n",
        "  {\"id\":1,\"name\":\"Dunn\"},\r\n",
        "  {\"id\":2,\"name\":\"Sue\"},\r\n",
        "  {\"id\":3,\"name\":\"Chi\"},\r\n",
        "  {\"id\":4,\"name\":\"Thor\"},\r\n",
        "  {\"id\":5,\"name\":\"Clive\"},\r\n",
        "  {\"id\":6,\"name\":\"Hicks\"},\r\n",
        "  {\"id\":7,\"name\":\"Devin\"},\r\n",
        "  {\"id\":8,\"name\":\"Kate\"},\r\n",
        "  {\"id\":9,\"name\":\"Klein\"}\r\n",
        "     ]"
      ],
      "execution_count": 1,
      "outputs": [
        {
          "output_type": "error",
          "ename": "NameError",
          "evalue": "ignored",
          "traceback": [
            "\u001b[0;31m---------------------------------------------------------------------------\u001b[0m",
            "\u001b[0;31mNameError\u001b[0m                                 Traceback (most recent call last)",
            "\u001b[0;32m<ipython-input-1-1758e823f157>\u001b[0m in \u001b[0;36m<module>\u001b[0;34m()\u001b[0m\n\u001b[1;32m      1\u001b[0m users = [\n\u001b[0;32m----> 2\u001b[0;31m       \u001b[0mUser\u001b[0m\u001b[0;34m(\u001b[0m\u001b[0;36m0\u001b[0m\u001b[0;34m,\u001b[0m\u001b[0;34m\"Hero\"\u001b[0m\u001b[0;34m)\u001b[0m\u001b[0;34m,\u001b[0m\u001b[0;34m\u001b[0m\u001b[0;34m\u001b[0m\u001b[0m\n\u001b[0m\u001b[1;32m      3\u001b[0m       \u001b[0mUser\u001b[0m\u001b[0;34m(\u001b[0m\u001b[0;36m1\u001b[0m\u001b[0;34m,\u001b[0m\u001b[0;34m\"Dunn\"\u001b[0m\u001b[0;34m)\u001b[0m\u001b[0;34m,\u001b[0m\u001b[0;34m\u001b[0m\u001b[0;34m\u001b[0m\u001b[0m\n\u001b[1;32m      4\u001b[0m       \u001b[0mUser\u001b[0m\u001b[0;34m(\u001b[0m\u001b[0;36m2\u001b[0m\u001b[0;34m,\u001b[0m\u001b[0;34m\"Sue\"\u001b[0m\u001b[0;34m)\u001b[0m\u001b[0;34m,\u001b[0m\u001b[0;34m\u001b[0m\u001b[0;34m\u001b[0m\u001b[0m\n\u001b[1;32m      5\u001b[0m       \u001b[0mUser\u001b[0m\u001b[0;34m(\u001b[0m\u001b[0;36m3\u001b[0m\u001b[0;34m,\u001b[0m\u001b[0;34m\"Chi\"\u001b[0m\u001b[0;34m)\u001b[0m\u001b[0;34m,\u001b[0m\u001b[0;34m\u001b[0m\u001b[0;34m\u001b[0m\u001b[0m\n",
            "\u001b[0;31mNameError\u001b[0m: name 'User' is not defined"
          ]
        }
      ]
    },
    {
      "cell_type": "markdown",
      "metadata": {
        "id": "zjubu87H-tBG"
      },
      "source": [
        "以及彼此間的朋友關係"
      ]
    },
    {
      "cell_type": "code",
      "metadata": {
        "id": "o1YCXv9T-tGm"
      },
      "source": [
        "friend_pairs = [\r\n",
        "         (0,1),(0,2),(1,2),(1,3),(2,3),(3,4),\r\n",
        "         (4,5),(5,6),(5,7),(6,8),(7,8),(8,9)\r\n",
        "         ]"
      ],
      "execution_count": 2,
      "outputs": []
    },
    {
      "cell_type": "markdown",
      "metadata": {
        "id": "EB3qIfNV_RyY"
      },
      "source": [
        "# 分支中心度 (degree centrality)\r\n",
        "易於計算，能找出網路中擁有最多連線的節點"
      ]
    },
    {
      "cell_type": "code",
      "metadata": {
        "id": "_-O1vM8iAtaM",
        "outputId": "5b26b67b-c0ce-413d-d843-c5f95a8f0e3e",
        "colab": {
          "base_uri": "https://localhost:8080/",
          "height": 130
        }
      },
      "source": [
        "friendships = {user[\"id\"]:[] for user in users}\r\n",
        "for i,j in friendship_pairs:\r\n",
        "  "
      ],
      "execution_count": 3,
      "outputs": [
        {
          "output_type": "error",
          "ename": "SyntaxError",
          "evalue": "ignored",
          "traceback": [
            "\u001b[0;36m  File \u001b[0;32m\"<ipython-input-3-80bbc620f454>\"\u001b[0;36m, line \u001b[0;32m3\u001b[0m\n\u001b[0;31m    \u001b[0m\n\u001b[0m    ^\u001b[0m\n\u001b[0;31mSyntaxError\u001b[0m\u001b[0;31m:\u001b[0m unexpected EOF while parsing\n"
          ]
        }
      ]
    },
    {
      "cell_type": "markdown",
      "metadata": {
        "id": "UJhZheS98Xxh"
      },
      "source": [
        "# 居間中心度 (betweenness centrality)\r\n",
        "找出網路中的**關鍵聯繫者**  \r\n",
        "識別出常出現在任兩者之間最短路徑的人  \r\n",
        "  \r\n",
        "**例如**：欲找出節點i的居間中心度  \r\n",
        "針對其他兩兩成對的節點j和節點k，計算出兩點之間所有最短路徑包含節點i的比例，  \r\n",
        "最後再將各組的比例值全部加總起來\r\n"
      ]
    },
    {
      "cell_type": "code",
      "metadata": {
        "id": "mWyI25qhGPfT",
        "outputId": "7db260ab-bcb6-4ee1-dc45-38cbef9d4e42",
        "colab": {
          "base_uri": "https://localhost:8080/",
          "height": 365
        }
      },
      "source": [
        "from typing import NamedTupled\r\n",
        "\r\n",
        "class User(NamedTuple):\r\n",
        "  id:int\r\n",
        "  name:str"
      ],
      "execution_count": 4,
      "outputs": [
        {
          "output_type": "error",
          "ename": "ImportError",
          "evalue": "ignored",
          "traceback": [
            "\u001b[0;31m---------------------------------------------------------------------------\u001b[0m",
            "\u001b[0;31mImportError\u001b[0m                               Traceback (most recent call last)",
            "\u001b[0;32m<ipython-input-4-1b4c200604ae>\u001b[0m in \u001b[0;36m<module>\u001b[0;34m()\u001b[0m\n\u001b[0;32m----> 1\u001b[0;31m \u001b[0;32mfrom\u001b[0m \u001b[0mtyping\u001b[0m \u001b[0;32mimport\u001b[0m \u001b[0mNamedTupled\u001b[0m\u001b[0;34m\u001b[0m\u001b[0;34m\u001b[0m\u001b[0m\n\u001b[0m\u001b[1;32m      2\u001b[0m \u001b[0;34m\u001b[0m\u001b[0m\n\u001b[1;32m      3\u001b[0m \u001b[0;32mclass\u001b[0m \u001b[0mUser\u001b[0m\u001b[0;34m(\u001b[0m\u001b[0mNamedTuple\u001b[0m\u001b[0;34m)\u001b[0m\u001b[0;34m:\u001b[0m\u001b[0;34m\u001b[0m\u001b[0;34m\u001b[0m\u001b[0m\n\u001b[1;32m      4\u001b[0m   \u001b[0mid\u001b[0m\u001b[0;34m:\u001b[0m\u001b[0mint\u001b[0m\u001b[0;34m\u001b[0m\u001b[0;34m\u001b[0m\u001b[0m\n\u001b[1;32m      5\u001b[0m   \u001b[0mname\u001b[0m\u001b[0;34m:\u001b[0m\u001b[0mstr\u001b[0m\u001b[0;34m\u001b[0m\u001b[0;34m\u001b[0m\u001b[0m\n",
            "\u001b[0;31mImportError\u001b[0m: cannot import name 'NamedTupled'",
            "",
            "\u001b[0;31m---------------------------------------------------------------------------\u001b[0;32m\nNOTE: If your import is failing due to a missing package, you can\nmanually install dependencies using either !pip or !apt.\n\nTo view examples of installing some common dependencies, click the\n\"Open Examples\" button below.\n\u001b[0;31m---------------------------------------------------------------------------\u001b[0m\n"
          ]
        }
      ]
    },
    {
      "cell_type": "markdown",
      "metadata": {
        "id": "P4rzEba_A93A"
      },
      "source": [
        "建構構成網路的使用者"
      ]
    },
    {
      "cell_type": "code",
      "metadata": {
        "id": "M_Q7LIYPA93B"
      },
      "source": [
        "users = [\r\n",
        "      User(0,\"Hero\"),\r\n",
        "      User(1,\"Dunn\"),\r\n",
        "      User(2,\"Sue\"),\r\n",
        "      User(3,\"Chi\"),\r\n",
        "      User(4,\"Thor\"),\r\n",
        "      User(5,\"Clive\"),\r\n",
        "      User(6,\"Hicks\"),\r\n",
        "      User(7,\"Devin\"),\r\n",
        "      User(8,\"Kate\"),\r\n",
        "      User(9,\"Klein\")\r\n",
        "     ]"
      ],
      "execution_count": null,
      "outputs": []
    }
  ]
}