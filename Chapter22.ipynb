{
  "nbformat": 4,
  "nbformat_minor": 0,
  "metadata": {
    "colab": {
      "name": "Chapter22.ipynb",
      "provenance": [],
      "authorship_tag": "ABX9TyPoj9rEiU8zjc/PUHSzjz0e",
      "include_colab_link": true
    },
    "kernelspec": {
      "name": "python3",
      "display_name": "Python 3"
    }
  },
  "cells": [
    {
      "cell_type": "markdown",
      "metadata": {
        "id": "view-in-github",
        "colab_type": "text"
      },
      "source": [
        "<a href=\"https://colab.research.google.com/github/hank199599/data_science_from_scratch_reading_log/blob/main/Chapter22.ipynb\" target=\"_parent\"><img src=\"https://colab.research.google.com/assets/colab-badge.svg\" alt=\"Open In Colab\"/></a>"
      ]
    },
    {
      "cell_type": "markdown",
      "metadata": {
        "id": "MWzUiV9E6ykz"
      },
      "source": [
        "# 網路分析\r\n",
        "\r\n",
        "* 節點\r\n",
        "* 連線\r\n",
        "  * 無向(undirected)連線\r\n",
        "  * 有向(directed)連線"
      ]
    },
    {
      "cell_type": "markdown",
      "metadata": {
        "id": "7w56rdyC93O6"
      },
      "source": [
        "### 圖 22-1 DataScienceter 的朋友的關係網路\r\n",
        "![pic 22-1](https://lh3.googleusercontent.com/oc1eCq0FSFD2iepKz6Io9t6N1oHPzVhyoqMIwMFVCjNydmcAOxyUIbOPBDFQPJI0_eVgavorbuLjkzpQDqe4x2JI6J9ZCvtFawkAf6w_c50y8k7ZqkFgelSJtKdpzSwqmwHm2D9w3f601_vJ9OSn6daRCig1f5oc87ShJcUxycp0DElkeVOYpVmC4_IW3zGncOTB6XOpG3xYJrEFz9r3pppeygEhB-llUM4OqzOPBLvnwfzrxL4qdrwO1JTbectxwzZEU0G3W41j9Ttgq08-3qaOsHTp0VUPtviP-zo9c4AE_Pw0GIh4O0GBHzVaWJlluY6DYtZ_Rxkuf1Z1m5sdUwUIebrERJu86v3mebYKx7vG9_B6m14KQyGvKEtkYS8IG8Hys3mymJmg5mm7-B4AGhHszYmcOi7XO2i0AW-P1U4veF4hrSnXD0NzQDvp7pVmMf6NOmAu9JRHW9dysSLowAiNJC9Xlh_BXB1buqJMQ551rA4nKk0yBZ3TxDA1vWrn0dNNPW4KiGMzZ55SWWduw_FX42dLkXd_JDijBe3HEVQvv6cq0XH1QLxMZlyv6O6eftIvNwKrIHjAjAUIhC7e_rEpz06fNDclvvP6qsj3oi1bZpYGwr2ovn4wGXsRXh0B-SQh9n6sOKsNC2r8-ZjLRuOSLhOxv6qEAiMAvFUJoHuN5EeK0uvxXMKDcF5dkA=w346-h111-no?authuser=0)"
      ]
    },
    {
      "cell_type": "markdown",
      "metadata": {
        "id": "FUrDcUYO-ot1"
      },
      "source": [
        "建構構成網路的使用者"
      ]
    },
    {
      "cell_type": "code",
      "metadata": {
        "id": "z6EzJgke-o7l"
      },
      "source": [
        "users = [\r\n",
        "  {\"id\":0,\"name\":\"Hero\"},\r\n",
        "  {\"id\":1,\"name\":\"Dunn\"},\r\n",
        "  {\"id\":2,\"name\":\"Sue\"},\r\n",
        "  {\"id\":3,\"name\":\"Chi\"},\r\n",
        "  {\"id\":4,\"name\":\"Thor\"},\r\n",
        "  {\"id\":5,\"name\":\"Clive\"},\r\n",
        "  {\"id\":6,\"name\":\"Hicks\"},\r\n",
        "  {\"id\":7,\"name\":\"Devin\"},\r\n",
        "  {\"id\":8,\"name\":\"Kate\"},\r\n",
        "  {\"id\":9,\"name\":\"Klein\"}\r\n",
        "     ]"
      ],
      "execution_count": 15,
      "outputs": []
    },
    {
      "cell_type": "markdown",
      "metadata": {
        "id": "zjubu87H-tBG"
      },
      "source": [
        "以及彼此間的朋友關係"
      ]
    },
    {
      "cell_type": "code",
      "metadata": {
        "id": "o1YCXv9T-tGm"
      },
      "source": [
        "friendship_pairs = [\r\n",
        "         (0,1),(0,2),(1,2),(1,3),(2,3),(3,4),\r\n",
        "         (4,5),(5,6),(5,7),(6,8),(7,8),(8,9)\r\n",
        "         ]"
      ],
      "execution_count": 16,
      "outputs": []
    },
    {
      "cell_type": "markdown",
      "metadata": {
        "id": "EB3qIfNV_RyY"
      },
      "source": [
        "# 分支中心度 (degree centrality)\r\n",
        "易於計算，能找出網路中擁有最多連線的節點"
      ]
    },
    {
      "cell_type": "code",
      "metadata": {
        "id": "_-O1vM8iAtaM"
      },
      "source": [
        "friendships = {user[\"id\"]:[] for user in users}\r\n",
        "for i,j in friendship_pairs:\r\n",
        "  friendships[i].append(i)\r\n",
        "  friendships[i].append(j)"
      ],
      "execution_count": 17,
      "outputs": []
    },
    {
      "cell_type": "markdown",
      "metadata": {
        "id": "WRBf24YVCGwF"
      },
      "source": [
        "加總每個人的朋友數量"
      ]
    },
    {
      "cell_type": "code",
      "metadata": {
        "id": "Es-81NGZCL0s"
      },
      "source": [
        "def number_of_friends(user):\r\n",
        "  \"\"\"_user_ 有多少朋友?\"\"\"\r\n",
        "  user_id = user[\"id\"]\r\n",
        "  friend_ids = friendships[user_id]\r\n",
        "  return len(friend_ids)\r\n",
        "\r\n",
        "total_connections = sum(number_of_friends(user) for user in users)"
      ],
      "execution_count": 18,
      "outputs": []
    },
    {
      "cell_type": "markdown",
      "metadata": {
        "id": "Tj3tWDjqFKHe"
      },
      "source": [
        "再除以使用者總人數"
      ]
    },
    {
      "cell_type": "code",
      "metadata": {
        "id": "kn4Dr4tLFMba"
      },
      "source": [
        "num_users = len(users)\r\n",
        "avg_connections = total_connections/num_users"
      ],
      "execution_count": 19,
      "outputs": []
    },
    {
      "cell_type": "markdown",
      "metadata": {
        "id": "hT4PAlgYFZRT"
      },
      "source": [
        ""
      ]
    },
    {
      "cell_type": "code",
      "metadata": {
        "colab": {
          "base_uri": "https://localhost:8080/"
        },
        "id": "jkCQJwqkFacK",
        "outputId": "89d32dcf-8814-450e-dc22-0cc3245f8b03"
      },
      "source": [
        "num_friends_by_id = [(user[\"id\"],number_of_friends(user)) for user in users]\r\n",
        "\r\n",
        "num_friends_by_id.sort(\r\n",
        "    key = lambda id_and_friends:id_and_friends[1], # 根據朋友數量\r\n",
        "    reverse = True                 # 從最多排序到最少\r\n",
        ")\r\n",
        "print(num_friends_by_id)"
      ],
      "execution_count": 23,
      "outputs": [
        {
          "output_type": "stream",
          "text": [
            "[(0, 4), (1, 4), (5, 4), (2, 2), (3, 2), (4, 2), (6, 2), (7, 2), (8, 2), (9, 0)]\n"
          ],
          "name": "stdout"
        }
      ]
    },
    {
      "cell_type": "markdown",
      "metadata": {
        "id": "ZSZVEfGwGSvB"
      },
      "source": [
        "依據節點的連線個數，建立列表"
      ]
    },
    {
      "cell_type": "code",
      "metadata": {
        "colab": {
          "base_uri": "https://localhost:8080/"
        },
        "id": "-XqDSGSKGbQN",
        "outputId": "51c9282b-ec19-4394-b4e7-1a837b040a2f"
      },
      "source": [
        "x = list(set([count[1] for count in num_friends_by_id]))\r\n",
        "x.sort(reverse=True)\r\n",
        "y = {number:[count[0] for count in num_friends_by_id if count[1]==number] for number in x}\r\n",
        "\r\n",
        "print(x)\r\n",
        "print(y)"
      ],
      "execution_count": 30,
      "outputs": [
        {
          "output_type": "stream",
          "text": [
            "[4, 2, 0]\n",
            "{4: [0, 1, 5], 2: [2, 3, 4, 6, 7, 8], 0: [9]}\n"
          ],
          "name": "stdout"
        }
      ]
    },
    {
      "cell_type": "markdown",
      "metadata": {
        "id": "Ub8LJcl0JXsv"
      },
      "source": [
        "### 圖 1-2 DataSciencter的朋友關係網路，並以不同大小來呈現不同的分支之中心度\r\n",
        "![pic 1-2](https://lh3.googleusercontent.com/46OXh6ZthDQA7Uux7sQPQc6xbZhEZZsXvCAJ37X0QAB4-p6Z6BVYuz-3B6jJbGQn3ME2A6vEneI_iakmH2aCse1m6bPs05hWtVssQWTBcS7S8mawzkuXbtm5dxihXAGgkiUmLLoWHSaZzxUK0W0BoJBs2NrZ4FFfcTzwlpcIzDfpBWxJGMOb8mbRQj8ty_41QVjukZKmIGnBlnswS3pOYddyk_By103ZBdbLpvsW-tzj-KNuytnen-1WgLDFPark8UaL73KJFggpra7-eV3quMSgiT8NIw3nollpX0OYGQdjgjbs4L8giavgvh5IEKv0k0xHzi2WWE7oMdEjsir6XUrVEw9hy-MG9I0GdY2U807aYpzhQ7S3szOvc5ltCqGeYm90ertg-ZI9QFIP6Y3dIkfM1erlBFgCgLWu26mhnSMgfr6nN0wP69SZrVEeOO94tnU0dNyLKXH5wk0NBjerKv_70pPdwae-QziOiPJeTYGDvvF6qwPyeFTk-XImQ-Y6LhiAfzrj-AuUttRJOjXNbjZKehrQxiqJHJ7v8T466bvAX9v8SdZNfze-bpebg4Jp6VCMk18Deg5yLUshWShQSnMc928LbCSCP5em-OYPpJ0IyJ5lUkVwvDuxlzJCRRjGXHMTChKEHpjdr7TcY_yi4PKblzHYMdH-Qvhivbrs8yI2Fa1DwWEy8nohklt7MQ=w332-h117-no?authuser=0)"
      ]
    },
    {
      "cell_type": "markdown",
      "metadata": {
        "id": "UJhZheS98Xxh"
      },
      "source": [
        "# 居間中心度 (betweenness centrality)\r\n",
        "找出網路中的**關鍵聯繫者**  \r\n",
        "識別出常出現在任兩者之間最短路徑的人  \r\n",
        "  \r\n",
        "**例如**：欲找出節點i的居間中心度  \r\n",
        "針對其他兩兩成對的節點j和節點k，計算出兩點之間所有最短路徑包含節點i的比例，  \r\n",
        "最後再將各組的比例值全部加總起來\r\n"
      ]
    },
    {
      "cell_type": "code",
      "metadata": {
        "id": "mWyI25qhGPfT"
      },
      "source": [
        "from typing import NamedTuple\r\n",
        "\r\n",
        "class User(NamedTuple):\r\n",
        "  id:int\r\n",
        "  name:str"
      ],
      "execution_count": 11,
      "outputs": []
    },
    {
      "cell_type": "markdown",
      "metadata": {
        "id": "P4rzEba_A93A"
      },
      "source": [
        "建構構成網路的使用者"
      ]
    },
    {
      "cell_type": "code",
      "metadata": {
        "id": "M_Q7LIYPA93B"
      },
      "source": [
        "users = [\r\n",
        "      User(0,\"Hero\"),\r\n",
        "      User(1,\"Dunn\"),\r\n",
        "      User(2,\"Sue\"),\r\n",
        "      User(3,\"Chi\"),\r\n",
        "      User(4,\"Thor\"),\r\n",
        "      User(5,\"Clive\"),\r\n",
        "      User(6,\"Hicks\"),\r\n",
        "      User(7,\"Devin\"),\r\n",
        "      User(8,\"Kate\"),\r\n",
        "      User(9,\"Klein\")\r\n",
        "     ]"
      ],
      "execution_count": 12,
      "outputs": []
    }
  ]
}