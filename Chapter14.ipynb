{
  "nbformat": 4,
  "nbformat_minor": 0,
  "metadata": {
    "colab": {
      "name": "Chapter14.ipynb",
      "provenance": [],
      "authorship_tag": "ABX9TyOnHAMCIUsBAWsPQGm5lYuW",
      "include_colab_link": true
    },
    "kernelspec": {
      "name": "python3",
      "display_name": "Python 3"
    }
  },
  "cells": [
    {
      "cell_type": "markdown",
      "metadata": {
        "id": "view-in-github",
        "colab_type": "text"
      },
      "source": [
        "<a href=\"https://colab.research.google.com/github/hank199599/data_science_from_scratch_reading_log/blob/main/Chapter14.ipynb\" target=\"_parent\"><img src=\"https://colab.research.google.com/assets/colab-badge.svg\" alt=\"Open In Colab\"/></a>"
      ]
    },
    {
      "cell_type": "markdown",
      "metadata": {
        "id": "AFj_5HPFAcY6"
      },
      "source": [
        "# 模型\r\n",
        "假定我們要研究「使用者的朋友數量」與「使用者每天在網站上所花費的時間」兩者之間的關係。\r\n",
        "現在,假設有2個常數α和β，能形成以下關係：\r\n",
        "```\r\n",
        "yi = βxi + α + εi\r\n",
        "```\r\n",
        "* yi ： 使用者i每天花在網站地分鐘數\r\n",
        "* xi ： 使用者i的朋友數量\r\n",
        "* εi ： 誤差項"
      ]
    },
    {
      "cell_type": "code",
      "metadata": {
        "id": "nWio8gQ_LZxY"
      },
      "source": [
        "num_friends = [100,49,41,40,25,21,21,19,19,18,18,16,15,15,15,15,14,14,13,13,13,13,12,12,11,10,10,10,10,10,10,10,10,10,10,10,10,10,10,10,9,9,9,9,9,9,9,9,9,9,9,9,9,9,9,9,9,9,8,8,8,8,8,8,8,8,8,8,8,8,8,7,7,7,7,7,7,7,7,7,7,7,7,7,7,7,6,6,6,6,6,6,6,6,6,6,6,6,6,6,6,6,6,6,6,6,6,6,5,5,5,5,5,5,5,5,5,5,5,5,5,5,5,5,5,4,4,4,4,4,4,4,4,4,4,4,4,4,4,4,4,4,4,4,4,3,3,3,3,3,3,3,3,3,3,3,3,3,3,3,3,3,3,3,3,2,2,2,2,2,2,2,2,2,2,2,2,2,2,2,2,2,1,1,1,1,1,1,1,1,1,1,1,1,1,1,1,1,1,1,1,1,1,1]"
      ],
      "execution_count": null,
      "outputs": []
    },
    {
      "cell_type": "markdown",
      "metadata": {
        "id": "7zp1ob9OKkOv"
      },
      "source": [
        "假設可以找到一組 alpha 和 beta 值。  \r\n",
        "我們可以用以下方式做簡單的預測："
      ]
    },
    {
      "cell_type": "code",
      "metadata": {
        "id": "mWyI25qhGPfT"
      },
      "source": [
        "def predict(alpha:float,beta:float,x_i:float) -> float:\r\n",
        "  return beta* x_i + alpha"
      ],
      "execution_count": null,
      "outputs": []
    }
  ]
}