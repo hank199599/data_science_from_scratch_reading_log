{
  "nbformat": 4,
  "nbformat_minor": 0,
  "metadata": {
    "colab": {
      "name": "Chapter23.ipynb",
      "provenance": [],
      "authorship_tag": "ABX9TyPRk2NgKYe3l8rBAQbi1vGS",
      "include_colab_link": true
    },
    "kernelspec": {
      "name": "python3",
      "display_name": "Python 3"
    }
  },
  "cells": [
    {
      "cell_type": "markdown",
      "metadata": {
        "id": "view-in-github",
        "colab_type": "text"
      },
      "source": [
        "<a href=\"https://colab.research.google.com/github/hank199599/data_science_from_scratch_reading_log/blob/main/Chapter23.ipynb\" target=\"_parent\"><img src=\"https://colab.research.google.com/assets/colab-badge.svg\" alt=\"Open In Colab\"/></a>"
      ]
    },
    {
      "cell_type": "markdown",
      "metadata": {
        "id": "7od70Ok_7NI4"
      },
      "source": [
        "# 推薦系統\r\n",
        "根據資料做出某種**建議**或是**推薦**"
      ]
    },
    {
      "cell_type": "code",
      "metadata": {
        "id": "mWyI25qhGPfT"
      },
      "source": [
        "users_interests = [\r\n",
        "    [\"Hadoop\", \"Big Data\", \"HBase\", \"Java\", \"Spark\", \"Storm\", \"Cassandra\"],\r\n",
        "    [\"NoSQL\", \"MongoDB\", \"Cassandra\", \"HBase\", \"Postgres\"],\r\n",
        "    [\"Python\", \"scikit-learn\", \"scipy\", \"numpy\", \"statsmodels\", \"pandas\"],\r\n",
        "    [\"R\", \"Python\", \"statistics\", \"regression\", \"probability\"],\r\n",
        "    [\"machine learning\", \"regression\", \"decision trees\", \"libsvm\"],\r\n",
        "    [\"Python\", \"R\", \"Java\", \"C++\", \"Haskell\", \"programming languages\"],\r\n",
        "    [\"statistics\", \"probability\", \"mathematics\", \"theory\"],\r\n",
        "    [\"machine learning\", \"scikit-learn\", \"Mahout\", \"neural networks\"],\r\n",
        "    [\"neural networks\", \"deep learning\", \"Big Data\", \"artificial intelligence\"],\r\n",
        "    [\"Hadoop\", \"Java\", \"MapReduce\", \"Big Data\"],\r\n",
        "    [\"statistics\", \"R\", \"statsmodels\"],\r\n",
        "    [\"C++\", \"deep learning\", \"artificial intelligence\", \"probability\"],\r\n",
        "    [\"pandas\", \"R\", \"Python\"],\r\n",
        "    [\"databases\", \"HBase\", \"Postgres\", \"MySQL\", \"MongoDB\"],\r\n",
        "    [\"libsvm\", \"regression\", \"support vector machines\"]\r\n",
        "]"
      ],
      "execution_count": 51,
      "outputs": []
    },
    {
      "cell_type": "markdown",
      "metadata": {
        "id": "0t2-IP6J-7r3"
      },
      "source": [
        "### 目標\r\n",
        "根據使用者目前的興趣，向他推薦其他的新興趣"
      ]
    },
    {
      "cell_type": "markdown",
      "metadata": {
        "id": "hh8dBHSI9MVW"
      },
      "source": [
        "# 土法煉鋼的作法\r\n",
        "在有限資料下可以輕易推薦興趣  \r\n",
        "隨著資料量上升，這種做法會變得越來越困難"
      ]
    },
    {
      "cell_type": "markdown",
      "metadata": {
        "id": "K060ro-79P_d"
      },
      "source": [
        "# 推薦最流行的"
      ]
    },
    {
      "cell_type": "code",
      "metadata": {
        "colab": {
          "base_uri": "https://localhost:8080/"
        },
        "id": "d4XEIOpH_jKW",
        "outputId": "1f36aa36-6a68-4bb8-e474-38d41f89a3a9"
      },
      "source": [
        "from collections import Counter\r\n",
        "\r\n",
        "popular_interests = Counter(interest for user_interests in users_interests for interest in user_interests)\r\n",
        "\r\n",
        "print(popular_interests)"
      ],
      "execution_count": 52,
      "outputs": [
        {
          "output_type": "stream",
          "text": [
            "Counter({'Python': 4, 'R': 4, 'Big Data': 3, 'HBase': 3, 'Java': 3, 'statistics': 3, 'regression': 3, 'probability': 3, 'Hadoop': 2, 'Cassandra': 2, 'MongoDB': 2, 'Postgres': 2, 'scikit-learn': 2, 'statsmodels': 2, 'pandas': 2, 'machine learning': 2, 'libsvm': 2, 'C++': 2, 'neural networks': 2, 'deep learning': 2, 'artificial intelligence': 2, 'Spark': 1, 'Storm': 1, 'NoSQL': 1, 'scipy': 1, 'numpy': 1, 'decision trees': 1, 'Haskell': 1, 'programming languages': 1, 'mathematics': 1, 'theory': 1, 'Mahout': 1, 'MapReduce': 1, 'databases': 1, 'MySQL': 1, 'support vector machines': 1})\n"
          ],
          "name": "stdout"
        }
      ]
    },
    {
      "cell_type": "markdown",
      "metadata": {
        "id": "xxb4kIkP__h-"
      },
      "source": [
        "透過這個計算，可以單純向使用者推薦最受大家歡迎，而他目前還沒有興趣"
      ]
    },
    {
      "cell_type": "code",
      "metadata": {
        "id": "f5CIW3RhBIgs"
      },
      "source": [
        "from typing import List,Tuple\r\n",
        "\r\n",
        "def most_popular_new_interests(user_interests:List[str],max_results:int=5)->List[Tuple[str,int]]:\r\n",
        "  suggestions = [(interest,frequency) for interest,frequency in popular_interests.most_common() if interest not in users_interests]\r\n",
        "\r\n",
        "  return suggestions[:max_results]"
      ],
      "execution_count": 53,
      "outputs": []
    },
    {
      "cell_type": "markdown",
      "metadata": {
        "id": "HHlW3gE9CJvG"
      },
      "source": [
        "1號使用者"
      ]
    },
    {
      "cell_type": "code",
      "metadata": {
        "colab": {
          "base_uri": "https://localhost:8080/"
        },
        "id": "FbZFb8FyCLk8",
        "outputId": "4a8fa242-ea70-46c3-e564-1c883e58b4e3"
      },
      "source": [
        "most_popular_new_interests([\"Hadoop\", \"Big Data\", \"HBase\", \"Java\", \"Spark\", \"Storm\", \"Cassandra\"],5)"
      ],
      "execution_count": 54,
      "outputs": [
        {
          "output_type": "execute_result",
          "data": {
            "text/plain": [
              "[('Python', 4), ('R', 4), ('Big Data', 3), ('HBase', 3), ('Java', 3)]"
            ]
          },
          "metadata": {
            "tags": []
          },
          "execution_count": 54
        }
      ]
    },
    {
      "cell_type": "markdown",
      "metadata": {
        "id": "ja3qJlcaCf6e"
      },
      "source": [
        "3號使用者"
      ]
    },
    {
      "cell_type": "code",
      "metadata": {
        "colab": {
          "base_uri": "https://localhost:8080/"
        },
        "id": "Ecdyq27bCf64",
        "outputId": "7adae32f-d4b5-4a76-cc39-73b08d273333"
      },
      "source": [
        "most_popular_new_interests([\"Python\", \"scikit-learn\", \"scipy\", \"numpy\", \"statsmodels\", \"pandas\"],5)"
      ],
      "execution_count": 55,
      "outputs": [
        {
          "output_type": "execute_result",
          "data": {
            "text/plain": [
              "[('Python', 4), ('R', 4), ('Big Data', 3), ('HBase', 3), ('Java', 3)]"
            ]
          },
          "metadata": {
            "tags": []
          },
          "execution_count": 55
        }
      ]
    },
    {
      "cell_type": "markdown",
      "metadata": {
        "id": "QNGILZg29Tg1"
      },
      "source": [
        "# 以「人」為基礎進行協同篩選\r\n",
        "\r\n",
        "採用「餘弦相似度」(cosine similarity)來測量兩個單詞向量的相似程度"
      ]
    },
    {
      "cell_type": "markdown",
      "metadata": {
        "id": "jB6ShwvjWsVQ"
      },
      "source": [
        "## 解析式集合(set compprehension)\r\n",
        "將每個不同的興趣集中起來，然後再把所有這些興趣放進一個列表，最後進行排序。\r\n"
      ]
    },
    {
      "cell_type": "code",
      "metadata": {
        "id": "A8Gc9VuAXAeP"
      },
      "source": [
        "unique_interests = sorted({interest for user_interests in users_interests for interest in user_interests})"
      ],
      "execution_count": 56,
      "outputs": []
    },
    {
      "cell_type": "markdown",
      "metadata": {
        "id": "NORZ-Axga6r9"
      },
      "source": [
        "針對每個使用者，製作出一個由0和1組成的「興趣向量」  \r\n",
        "根據 unique_interests 列表進行迭代操作：遇到使用者有興趣的項目設為1，其餘設為0"
      ]
    },
    {
      "cell_type": "code",
      "metadata": {
        "id": "UZoUTOpXasrm"
      },
      "source": [
        "def make_user_interest_vector(user_interests:List[str]) ->List[str]:\r\n",
        "  \"\"\"\r\n",
        "   根據使用者的興趣列表，製作出使用者的興趣向量\r\n",
        "   如果unique_interests[i]出現在列表中，第i個元素就設為1，否則就設為0\r\n",
        "  \"\"\"\r\n",
        "  return [1 if interest in user_interests else 0 for interest in unique_interests]"
      ],
      "execution_count": 57,
      "outputs": []
    },
    {
      "cell_type": "markdown",
      "metadata": {
        "id": "MWVrQqH0edp2"
      },
      "source": [
        "製作出一個使用者興趣向量列表："
      ]
    },
    {
      "cell_type": "code",
      "metadata": {
        "id": "OgX3Sx9hemLj"
      },
      "source": [
        "user_interest_vectors = [make_user_interest_vector(user_interests) for user_interests in users_interests]\r\n",
        "# print(user_interest_vectors)"
      ],
      "execution_count": 58,
      "outputs": []
    },
    {
      "cell_type": "markdown",
      "metadata": {
        "id": "-FMroTkmfLV0"
      },
      "source": [
        "計算出兩兩成對使用者相似度"
      ]
    },
    {
      "cell_type": "code",
      "metadata": {
        "id": "o90afpj1fQ7q"
      },
      "source": [
        "import math\r\n",
        "def dot(v, w):\r\n",
        "    \"\"\"v_1 * w_1 + ... + v_n * w_n\"\"\"\r\n",
        "    return sum(v_i * w_i for v_i, w_i in zip(v, w))\r\n",
        "\r\n",
        "def cosine_similarity(v, w):\r\n",
        "    return dot(v, w) / math.sqrt(dot(v, v) * dot(w, w))"
      ],
      "execution_count": 59,
      "outputs": []
    },
    {
      "cell_type": "code",
      "metadata": {
        "colab": {
          "base_uri": "https://localhost:8080/"
        },
        "id": "bkeMzdoJfYNr",
        "outputId": "f9caf267-756b-4588-a202-d66c7628e16b"
      },
      "source": [
        "user_similarities = [[cosine_similarity(interest_vector_i,interest_vector_j) for interest_vector_j in user_interest_vectors] for interest_vector_i in user_interest_vectors]\r\n",
        "print(user_similarities)"
      ],
      "execution_count": 60,
      "outputs": [
        {
          "output_type": "stream",
          "text": [
            "[[1.0, 0.3380617018914066, 0.0, 0.0, 0.0, 0.1543033499620919, 0.0, 0.0, 0.1889822365046136, 0.5669467095138409, 0.0, 0.0, 0.0, 0.1690308509457033, 0.0], [0.3380617018914066, 1.0, 0.0, 0.0, 0.0, 0.0, 0.0, 0.0, 0.0, 0.0, 0.0, 0.0, 0.0, 0.6, 0.0], [0.0, 0.0, 1.0, 0.18257418583505536, 0.0, 0.16666666666666666, 0.0, 0.20412414523193154, 0.0, 0.0, 0.23570226039551587, 0.0, 0.47140452079103173, 0.0, 0.0], [0.0, 0.0, 0.18257418583505536, 1.0, 0.22360679774997896, 0.3651483716701107, 0.4472135954999579, 0.0, 0.0, 0.0, 0.5163977794943222, 0.22360679774997896, 0.5163977794943222, 0.0, 0.2581988897471611], [0.0, 0.0, 0.0, 0.22360679774997896, 1.0, 0.0, 0.0, 0.25, 0.0, 0.0, 0.0, 0.0, 0.0, 0.0, 0.5773502691896258], [0.1543033499620919, 0.0, 0.16666666666666666, 0.3651483716701107, 0.0, 1.0, 0.0, 0.0, 0.0, 0.20412414523193154, 0.23570226039551587, 0.20412414523193154, 0.47140452079103173, 0.0, 0.0], [0.0, 0.0, 0.0, 0.4472135954999579, 0.0, 0.0, 1.0, 0.0, 0.0, 0.0, 0.2886751345948129, 0.25, 0.0, 0.0, 0.0], [0.0, 0.0, 0.20412414523193154, 0.0, 0.25, 0.0, 0.0, 1.0, 0.25, 0.0, 0.0, 0.0, 0.0, 0.0, 0.0], [0.1889822365046136, 0.0, 0.0, 0.0, 0.0, 0.0, 0.0, 0.25, 1.0, 0.25, 0.0, 0.5, 0.0, 0.0, 0.0], [0.5669467095138409, 0.0, 0.0, 0.0, 0.0, 0.20412414523193154, 0.0, 0.0, 0.25, 1.0, 0.0, 0.0, 0.0, 0.0, 0.0], [0.0, 0.0, 0.23570226039551587, 0.5163977794943222, 0.0, 0.23570226039551587, 0.2886751345948129, 0.0, 0.0, 0.0, 1.0, 0.0, 0.3333333333333333, 0.0, 0.0], [0.0, 0.0, 0.0, 0.22360679774997896, 0.0, 0.20412414523193154, 0.25, 0.0, 0.5, 0.0, 0.0, 1.0, 0.0, 0.0, 0.0], [0.0, 0.0, 0.47140452079103173, 0.5163977794943222, 0.0, 0.47140452079103173, 0.0, 0.0, 0.0, 0.0, 0.3333333333333333, 0.0, 1.0, 0.0, 0.0], [0.1690308509457033, 0.6, 0.0, 0.0, 0.0, 0.0, 0.0, 0.0, 0.0, 0.0, 0.0, 0.0, 0.0, 1.0, 0.0], [0.0, 0.0, 0.0, 0.2581988897471611, 0.5773502691896258, 0.0, 0.0, 0.0, 0.0, 0.0, 0.0, 0.0, 0.0, 0.0, 1.0]]\n"
          ],
          "name": "stdout"
        }
      ]
    },
    {
      "cell_type": "code",
      "metadata": {
        "id": "4OAhiijXhLJ8"
      },
      "source": [
        "# 0 和 9 這兩個使用者共同的興趣為 Hadoop、Java、Big Data\r\n",
        "assert 0.56 < user_similarities[0][9] < 0.58 ,\"有好幾個共同的興趣\"\r\n",
        "# 0 和 8 這兩個使用者只有一個共同的興趣為：Big Data\r\n",
        "assert 0.18 < user_similarities[0][8] < 0.20 ,\"只有一個共同的興趣\""
      ],
      "execution_count": 61,
      "outputs": []
    },
    {
      "cell_type": "markdown",
      "metadata": {
        "id": "M1k0MLbjejp-"
      },
      "source": [
        "針對給定的使用者，找出另一個與他最相似的使用者"
      ]
    },
    {
      "cell_type": "code",
      "metadata": {
        "id": "8Ysmd71Ei_7P"
      },
      "source": [
        "def most_similar_users_to(user_id:int) ->List[Tuple[int,float]]:\r\n",
        "  pairs = [(other_user_id,similarity) for other_user_id,similarity in enumerate(user_similarities[user_id]) if user_id != other_user_id and similarity > 0]\r\n",
        "\r\n",
        "  return sorted(pairs,key= lambda pair:pair[-1],reverse=True)"
      ],
      "execution_count": 62,
      "outputs": []
    },
    {
      "cell_type": "code",
      "metadata": {
        "id": "-7YMgEElkI_s",
        "colab": {
          "base_uri": "https://localhost:8080/"
        },
        "outputId": "08b4a0f3-4e8f-4b71-b26e-d082bd079ae5"
      },
      "source": [
        "most_similar_users_to(0)"
      ],
      "execution_count": 63,
      "outputs": [
        {
          "output_type": "execute_result",
          "data": {
            "text/plain": [
              "[(9, 0.5669467095138409),\n",
              " (1, 0.3380617018914066),\n",
              " (8, 0.1889822365046136),\n",
              " (13, 0.1690308509457033),\n",
              " (5, 0.1543033499620919)]"
            ]
          },
          "metadata": {
            "tags": []
          },
          "execution_count": 63
        }
      ]
    },
    {
      "cell_type": "markdown",
      "metadata": {
        "id": "EXw-U4gzBMpK"
      },
      "source": [
        "運用這些資料：  \r\n",
        "針對每個興趣，把其他所有使用者相似度的值全部加總起來"
      ]
    },
    {
      "cell_type": "code",
      "metadata": {
        "id": "BnUfrsxIBdin"
      },
      "source": [
        "from collections import defaultdict\r\n",
        "\r\n",
        "def user_based_suggestions(user_id:int,include_current_interests:bool=False):\r\n",
        "  # 把相似度加總起來\r\n",
        "  suggestions:Dict[str,float]= defaultdict(float)\r\n",
        "  for other_user_id,similarity in most_similar_users_to(user_id):\r\n",
        "    for interest in users_interests[other_user_id]:\r\n",
        "      suggestions[interest] += similarity\r\n",
        "  \r\n",
        "  # 把他們轉換成一個排序過的序列\r\n",
        "  suggestions = sorted(suggestions.items(),\r\n",
        "             key=lambda pair:pair[-1], #權重\r\n",
        "             reverse=True)\r\n",
        "  \r\n",
        "  # 接著排除掉已經有的興趣\r\n",
        "  if include_current_interests:\r\n",
        "    return suggestions\r\n",
        "  else:\r\n",
        "    return [(suggestion,weight) for suggestion,weight in suggestions if suggestion not in users_interests[user_id]]"
      ],
      "execution_count": 64,
      "outputs": []
    },
    {
      "cell_type": "markdown",
      "metadata": {
        "id": "IPbS4eWqJBk9"
      },
      "source": [
        "調用針對使用者0的推薦興趣"
      ]
    },
    {
      "cell_type": "code",
      "metadata": {
        "id": "2d3mPSnAJBs1",
        "colab": {
          "base_uri": "https://localhost:8080/"
        },
        "outputId": "a7830454-d30b-43bc-828b-ae17e4c1f080"
      },
      "source": [
        "user_based_suggestions(0)"
      ],
      "execution_count": 65,
      "outputs": [
        {
          "output_type": "execute_result",
          "data": {
            "text/plain": [
              "[('MapReduce', 0.5669467095138409),\n",
              " ('MongoDB', 0.50709255283711),\n",
              " ('Postgres', 0.50709255283711),\n",
              " ('NoSQL', 0.3380617018914066),\n",
              " ('neural networks', 0.1889822365046136),\n",
              " ('deep learning', 0.1889822365046136),\n",
              " ('artificial intelligence', 0.1889822365046136),\n",
              " ('databases', 0.1690308509457033),\n",
              " ('MySQL', 0.1690308509457033),\n",
              " ('Python', 0.1543033499620919),\n",
              " ('R', 0.1543033499620919),\n",
              " ('C++', 0.1543033499620919),\n",
              " ('Haskell', 0.1543033499620919),\n",
              " ('programming languages', 0.1543033499620919)]"
            ]
          },
          "metadata": {
            "tags": []
          },
          "execution_count": 65
        }
      ]
    },
    {
      "cell_type": "markdown",
      "metadata": {
        "id": "7iUaMa9jJ-fV"
      },
      "source": [
        "若項目數量過大，會發生維度的詛咒"
      ]
    },
    {
      "cell_type": "markdown",
      "metadata": {
        "id": "ytC2t-Xm9a1l"
      },
      "source": [
        "# 以物為基礎進行協同篩選\r\n",
        "直接計算興趣之間的相似度  \r\n",
        "直接根據每個使用者目前的興趣，找出其他類似的興趣"
      ]
    },
    {
      "cell_type": "code",
      "metadata": {
        "id": "ZyioivJmK5ze"
      },
      "source": [
        "interest_user_matrix = [[user_interest_vector[j] for user_interest_vector in user_interest_vectors] for j,_ in enumerate(unique_interests)]\r\n",
        "# print(interest_user_matrix)"
      ],
      "execution_count": 66,
      "outputs": []
    },
    {
      "cell_type": "markdown",
      "metadata": {
        "id": "xKdbcvQnLzQa"
      },
      "source": [
        "運用餘弦相似度的概念，找出彼此間的相似度"
      ]
    },
    {
      "cell_type": "code",
      "metadata": {
        "id": "KwHWx5czMbIX"
      },
      "source": [
        "interest_similarities = [[cosine_similarity(user_vector_i,user_vector_j) for user_vector_j in interest_user_matrix] for user_vector_i in interest_user_matrix]"
      ],
      "execution_count": 67,
      "outputs": []
    },
    {
      "cell_type": "code",
      "metadata": {
        "id": "yI8OyAnzNFvB"
      },
      "source": [
        "def most_similar_interests_to(interest_id:int):\r\n",
        "  similarities = interest_similarities[interest_id]\r\n",
        "  pairs = [(unique_interests[other_interest_id],similarity) for other_interest_id,similarity in enumerate(similarities) if interest_id != other_interest_id and similarity > 0]\r\n",
        "\r\n",
        "  return sorted(pairs,\r\n",
        "          key = lambda pair:pair[-1],\r\n",
        "          reverse=True\r\n",
        "          )"
      ],
      "execution_count": 68,
      "outputs": []
    },
    {
      "cell_type": "markdown",
      "metadata": {
        "id": "Xj-FaKaUOpbV"
      },
      "source": [
        "找出與Big Data (興趣0) 最相似的興趣"
      ]
    },
    {
      "cell_type": "code",
      "metadata": {
        "id": "NtowYJB0OzWP",
        "colab": {
          "base_uri": "https://localhost:8080/"
        },
        "outputId": "09c8ffe4-0475-4fa9-887e-d594d749b62c"
      },
      "source": [
        "most_similar_interests_to(0)"
      ],
      "execution_count": 69,
      "outputs": [
        {
          "output_type": "execute_result",
          "data": {
            "text/plain": [
              "[('Hadoop', 0.8164965809277261),\n",
              " ('Java', 0.6666666666666666),\n",
              " ('MapReduce', 0.5773502691896258),\n",
              " ('Spark', 0.5773502691896258),\n",
              " ('Storm', 0.5773502691896258),\n",
              " ('Cassandra', 0.4082482904638631),\n",
              " ('artificial intelligence', 0.4082482904638631),\n",
              " ('deep learning', 0.4082482904638631),\n",
              " ('neural networks', 0.4082482904638631),\n",
              " ('HBase', 0.3333333333333333)]"
            ]
          },
          "metadata": {
            "tags": []
          },
          "execution_count": 69
        }
      ]
    },
    {
      "cell_type": "markdown",
      "metadata": {
        "id": "Bu8Dsh_0PwwP"
      },
      "source": [
        "針對使用者的每個興趣，將類似興趣的相似度累加起來  \r\n",
        "建立相對應的推薦資料"
      ]
    },
    {
      "cell_type": "code",
      "metadata": {
        "id": "GZbee8-gQDDT"
      },
      "source": [
        "def item_based_suggestions(user_id:int,include_current_interests:bool=False):\r\n",
        "  # 把類似興趣的相似度累加起來\r\n",
        "  suggestions = defaultdict(float)\r\n",
        "\r\n",
        "  user_interest_vector = user_interest_vectors[user_id]\r\n",
        "  for interest_id,is_interested in enumerate(user_interest_vector):\r\n",
        "    if is_interested == 1:\r\n",
        "      similar_interests = most_similar_interests_to(interest_id)\r\n",
        "      for interest,similarity in similar_interests:\r\n",
        "        suggestions[interest] += similarity\r\n",
        "  \r\n",
        "  # 根據權重值進行排序\r\n",
        "  suggestions = sorted(suggestions.items(),\r\n",
        "              key = lambda pair:pair[-1],\r\n",
        "              reverse = True)\r\n",
        "  \r\n",
        "  if include_current_interests:\r\n",
        "    return suggestions\r\n",
        "  else:\r\n",
        "    return [(suggestion,weight) for suggestion,weight in suggestions if suggestion not in users_interests[user_id]]"
      ],
      "execution_count": 70,
      "outputs": []
    },
    {
      "cell_type": "markdown",
      "metadata": {
        "id": "EKr6j2KyR1bS"
      },
      "source": [
        "以0這位使用者的紀錄，推薦給他的結果如下"
      ]
    },
    {
      "cell_type": "code",
      "metadata": {
        "id": "0S80znBXSAn5",
        "colab": {
          "base_uri": "https://localhost:8080/"
        },
        "outputId": "af8faca6-5fbf-4c7e-cea4-a0eda3662f2d"
      },
      "source": [
        "item_based_suggestions(0)"
      ],
      "execution_count": 71,
      "outputs": [
        {
          "output_type": "execute_result",
          "data": {
            "text/plain": [
              "[('MapReduce', 1.861807319565799),\n",
              " ('MongoDB', 1.3164965809277263),\n",
              " ('Postgres', 1.3164965809277263),\n",
              " ('NoSQL', 1.2844570503761732),\n",
              " ('MySQL', 0.5773502691896258),\n",
              " ('databases', 0.5773502691896258),\n",
              " ('Haskell', 0.5773502691896258),\n",
              " ('programming languages', 0.5773502691896258),\n",
              " ('artificial intelligence', 0.4082482904638631),\n",
              " ('deep learning', 0.4082482904638631),\n",
              " ('neural networks', 0.4082482904638631),\n",
              " ('C++', 0.4082482904638631),\n",
              " ('Python', 0.2886751345948129),\n",
              " ('R', 0.2886751345948129)]"
            ]
          },
          "metadata": {
            "tags": []
          },
          "execution_count": 71
        }
      ]
    },
    {
      "cell_type": "markdown",
      "metadata": {
        "id": "J_bwZ7fh9e7n"
      },
      "source": [
        "# 矩陣分解\r\n",
        "運用模型來**預設**使用者針對給定項目所給出的評分"
      ]
    },
    {
      "cell_type": "markdown",
      "metadata": {
        "id": "e6dscSP8koL_"
      },
      "source": [
        "取得資料集  \r\n",
        "* [原始資料位址](http://files.grouplens.org/datasets/movielens/ml-100k.zip)\r\n",
        "* 將所需資料備份到Github，以pandas模組讀取"
      ]
    },
    {
      "cell_type": "code",
      "metadata": {
        "id": "Qhj254vLkq3c"
      },
      "source": [
        "from dateutil.parser import parse\r\n",
        "import io\r\n",
        "import requests\r\n",
        "url1=\"https://raw.githubusercontent.com/hank199599/data_science_from_scratch_reading_log/main/attached_data/CH%2023/u.item\"\r\n",
        "url2=\"https://raw.githubusercontent.com/hank199599/data_science_from_scratch_reading_log/main/attached_data/CH%2023/u.data\"\r\n",
        "MOVIES=requests.get(url1).content\r\n",
        "RATINGS=requests.get(url2).content"
      ],
      "execution_count": 72,
      "outputs": []
    },
    {
      "cell_type": "markdown",
      "metadata": {
        "id": "UDUNk2oc18WJ"
      },
      "source": [
        "引用NamedTuple來協助整理資料"
      ]
    },
    {
      "cell_type": "code",
      "metadata": {
        "id": "B6BgTlqv2CAQ"
      },
      "source": [
        "from typing import NamedTuple\r\n",
        "\r\n",
        "class Rating(NamedTuple):\r\n",
        "  user_id:str\r\n",
        "  movie_id:str\r\n",
        "  rating:float"
      ],
      "execution_count": 73,
      "outputs": []
    },
    {
      "cell_type": "markdown",
      "metadata": {
        "id": "hhcBdtLusKrY"
      },
      "source": [
        "讀取電影檔案資料"
      ]
    },
    {
      "cell_type": "code",
      "metadata": {
        "id": "9N786nHYseZX"
      },
      "source": [
        "import pandas as pd\r\n",
        "\r\n",
        "data = pd.read_csv(io.StringIO(MOVIES.decode('iso-8859-1')),delimiter=\"|\",header=None)\r\n",
        "movies = {movie_id:title for movie_id,title,*_ in zip(data[0],data[1])}"
      ],
      "execution_count": 78,
      "outputs": []
    },
    {
      "cell_type": "markdown",
      "metadata": {
        "id": "XruNLehZsd0G"
      },
      "source": [
        "讀取評分檔案資料  \r\n",
        "[user_id,movie_id,rating],timestap  \r\n",
        "‐‐‐‐‐取這三個欄位‐‐‐‐‐ \r\n"
      ]
    },
    {
      "cell_type": "code",
      "metadata": {
        "id": "Fugwz2sk5j4Y"
      },
      "source": [
        "import pandas as pd\r\n",
        "\r\n",
        "data=pd.read_csv(io.StringIO(RATINGS.decode('iso-8859-1')),delimiter=\"\\t\",header=None)\r\n",
        "ratings = {Rating(user_id,movie_id,float(raring)) for user_id,movie_id,raring in zip(data[0],data[1],data[2])}"
      ],
      "execution_count": 75,
      "outputs": []
    },
    {
      "cell_type": "markdown",
      "metadata": {
        "id": "hNMCtj2y75Hl"
      },
      "source": [
        "驗證讀取的資料是否有誤"
      ]
    },
    {
      "cell_type": "code",
      "metadata": {
        "id": "dyuRZq-z5-7z"
      },
      "source": [
        "assert len(movies) == 1682\r\n",
        "assert len(list({rating.user_id for rating in ratings})) == 943"
      ],
      "execution_count": 76,
      "outputs": []
    },
    {
      "cell_type": "markdown",
      "metadata": {
        "id": "nQIR4ox_79DL"
      },
      "source": [
        "針對這些資料，進行分析與探索"
      ]
    },
    {
      "cell_type": "code",
      "metadata": {
        "colab": {
          "base_uri": "https://localhost:8080/"
        },
        "id": "TBZB3bKV8Elr",
        "outputId": "c2979bde-e956-4626-f065-483ccde9274c"
      },
      "source": [
        "import re\r\n",
        "\r\n",
        "# 按照多個電影編號進行累計，需要用到的一個資料結構\r\n",
        "star_wars_ratings = {movie_id:[] for movie_id,title in movies.items() if re.search(\"Star Wars|Empire Strikes|Jedi\",title)}\r\n",
        "\r\n",
        "# 針對星際大戰系列電影，以迭代的方式累計計分\r\n",
        "for rating in ratings:\r\n",
        "  if rating.movie_id in star_wars_ratings:\r\n",
        "    star_wars_ratings[rating.movie_id].append(rating.rating)\r\n",
        "    \r\n",
        "# 計算每部電影的平均分數\r\n",
        "avg_ratings = [(sum(title_ratings)/len(title_ratings),movie_id) for movie_id,title_ratings in star_wars_ratings.items()]\r\n",
        "\r\n",
        "# 依照排序列印相應的分數\r\n",
        "for avg_rating,movie_id in sorted(avg_ratings,reverse=True):\r\n",
        "  print(f\"{avg_rating:.2f} {movies[movie_id]}\")\r\n",
        "                    "
      ],
      "execution_count": 98,
      "outputs": [
        {
          "output_type": "stream",
          "text": [
            "4.36 Star Wars (1977)\n",
            "4.20 Empire Strikes Back, The (1980)\n",
            "4.01 Return of the Jedi (1983)\n"
          ],
          "name": "stdout"
        }
      ]
    },
    {
      "cell_type": "markdown",
      "metadata": {
        "id": "_UY8-sX38DfI"
      },
      "source": [
        "試著提出一個模型為基準，再找出更好的結果"
      ]
    },
    {
      "cell_type": "code",
      "metadata": {
        "id": "tadqwAT4mpv1",
        "outputId": "4d881de4-12b4-4f92-8c02-f7eaa01082c1",
        "colab": {
          "base_uri": "https://localhost:8080/",
          "height": 233
        }
      },
      "source": [
        "import random\r\n",
        "random.seed(0)\r\n",
        "#random.shuffle(ratings)\r\n",
        "\r\n",
        "split1 = int(len(ratings)*0.7)\r\n",
        "split2 = int(len(ratings)*0.85)\r\n",
        "\r\n",
        "train = ratings[:split1]       # 占所有資料的 70%        \r\n",
        "validation = ratings[split1:split2] # 占所有資料的 15%\r\n",
        "test = ratings[split2:]       # 占所有資料的 15%"
      ],
      "execution_count": 105,
      "outputs": [
        {
          "output_type": "error",
          "ename": "TypeError",
          "evalue": "ignored",
          "traceback": [
            "\u001b[0;31m---------------------------------------------------------------------------\u001b[0m",
            "\u001b[0;31mTypeError\u001b[0m                                 Traceback (most recent call last)",
            "\u001b[0;32m<ipython-input-105-f88ced341c31>\u001b[0m in \u001b[0;36m<module>\u001b[0;34m()\u001b[0m\n\u001b[1;32m      6\u001b[0m \u001b[0msplit2\u001b[0m \u001b[0;34m=\u001b[0m \u001b[0mint\u001b[0m\u001b[0;34m(\u001b[0m\u001b[0mlen\u001b[0m\u001b[0;34m(\u001b[0m\u001b[0mratings\u001b[0m\u001b[0;34m)\u001b[0m\u001b[0;34m*\u001b[0m\u001b[0;36m0.85\u001b[0m\u001b[0;34m)\u001b[0m\u001b[0;34m\u001b[0m\u001b[0;34m\u001b[0m\u001b[0m\n\u001b[1;32m      7\u001b[0m \u001b[0;34m\u001b[0m\u001b[0m\n\u001b[0;32m----> 8\u001b[0;31m \u001b[0mtrain\u001b[0m \u001b[0;34m=\u001b[0m \u001b[0mratings\u001b[0m\u001b[0;34m[\u001b[0m\u001b[0;34m:\u001b[0m\u001b[0msplit1\u001b[0m\u001b[0;34m]\u001b[0m       \u001b[0;31m# 占所有資料的 70%\u001b[0m\u001b[0;34m\u001b[0m\u001b[0;34m\u001b[0m\u001b[0m\n\u001b[0m\u001b[1;32m      9\u001b[0m \u001b[0mvalidation\u001b[0m \u001b[0;34m=\u001b[0m \u001b[0mratings\u001b[0m\u001b[0;34m[\u001b[0m\u001b[0msplit1\u001b[0m\u001b[0;34m:\u001b[0m\u001b[0msplit2\u001b[0m\u001b[0;34m]\u001b[0m \u001b[0;31m# 占所有資料的 15%\u001b[0m\u001b[0;34m\u001b[0m\u001b[0;34m\u001b[0m\u001b[0m\n\u001b[1;32m     10\u001b[0m \u001b[0mtest\u001b[0m \u001b[0;34m=\u001b[0m \u001b[0mratings\u001b[0m\u001b[0;34m[\u001b[0m\u001b[0msplit2\u001b[0m\u001b[0;34m:\u001b[0m\u001b[0;34m]\u001b[0m       \u001b[0;31m# 占所有資料的 15%\u001b[0m\u001b[0;34m\u001b[0m\u001b[0;34m\u001b[0m\u001b[0m\n",
            "\u001b[0;31mTypeError\u001b[0m: 'set' object is not subscriptable"
          ]
        }
      ]
    }
  ]
}