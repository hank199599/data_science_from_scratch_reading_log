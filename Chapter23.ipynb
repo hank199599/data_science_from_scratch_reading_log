{
  "nbformat": 4,
  "nbformat_minor": 0,
  "metadata": {
    "colab": {
      "name": "Chapter23.ipynb",
      "provenance": [],
      "authorship_tag": "ABX9TyMojLfQCEySaL+7O7hr/i4D",
      "include_colab_link": true
    },
    "kernelspec": {
      "name": "python3",
      "display_name": "Python 3"
    }
  },
  "cells": [
    {
      "cell_type": "markdown",
      "metadata": {
        "id": "view-in-github",
        "colab_type": "text"
      },
      "source": [
        "<a href=\"https://colab.research.google.com/github/hank199599/data_science_from_scratch_reading_log/blob/main/Chapter23.ipynb\" target=\"_parent\"><img src=\"https://colab.research.google.com/assets/colab-badge.svg\" alt=\"Open In Colab\"/></a>"
      ]
    },
    {
      "cell_type": "markdown",
      "metadata": {
        "id": "7od70Ok_7NI4"
      },
      "source": [
        "# 推薦系統\r\n",
        "根據資料做出某種**建議**或是**推薦**"
      ]
    },
    {
      "cell_type": "code",
      "metadata": {
        "id": "mWyI25qhGPfT"
      },
      "source": [
        "users_interests = [\r\n",
        "    [\"Hadoop\", \"Big Data\", \"HBase\", \"Java\", \"Spark\", \"Storm\", \"Cassandra\"],\r\n",
        "    [\"NoSQL\", \"MongoDB\", \"Cassandra\", \"HBase\", \"Postgres\"],\r\n",
        "    [\"Python\", \"scikit-learn\", \"scipy\", \"numpy\", \"statsmodels\", \"pandas\"],\r\n",
        "    [\"R\", \"Python\", \"statistics\", \"regression\", \"probability\"],\r\n",
        "    [\"machine learning\", \"regression\", \"decision trees\", \"libsvm\"],\r\n",
        "    [\"Python\", \"R\", \"Java\", \"C++\", \"Haskell\", \"programming languages\"],\r\n",
        "    [\"statistics\", \"probability\", \"mathematics\", \"theory\"],\r\n",
        "    [\"machine learning\", \"scikit-learn\", \"Mahout\", \"neural networks\"],\r\n",
        "    [\"neural networks\", \"deep learning\", \"Big Data\", \"artificial intelligence\"],\r\n",
        "    [\"Hadoop\", \"Java\", \"MapReduce\", \"Big Data\"],\r\n",
        "    [\"statistics\", \"R\", \"statsmodels\"],\r\n",
        "    [\"C++\", \"deep learning\", \"artificial intelligence\", \"probability\"],\r\n",
        "    [\"pandas\", \"R\", \"Python\"],\r\n",
        "    [\"databases\", \"HBase\", \"Postgres\", \"MySQL\", \"MongoDB\"],\r\n",
        "    [\"libsvm\", \"regression\", \"support vector machines\"]\r\n",
        "]"
      ],
      "execution_count": 1,
      "outputs": []
    },
    {
      "cell_type": "markdown",
      "metadata": {
        "id": "0t2-IP6J-7r3"
      },
      "source": [
        "### 目標\r\n",
        "根據使用者目前的興趣，向他推薦其他的新興趣"
      ]
    },
    {
      "cell_type": "markdown",
      "metadata": {
        "id": "hh8dBHSI9MVW"
      },
      "source": [
        "# 土法煉鋼的作法\r\n",
        "在有限資料下可以輕易推薦興趣  \r\n",
        "隨著資料量上升，這種做法會變得越來越困難"
      ]
    },
    {
      "cell_type": "markdown",
      "metadata": {
        "id": "K060ro-79P_d"
      },
      "source": [
        "# 推薦最流行的"
      ]
    },
    {
      "cell_type": "code",
      "metadata": {
        "colab": {
          "base_uri": "https://localhost:8080/"
        },
        "id": "d4XEIOpH_jKW",
        "outputId": "414747ae-df09-4788-aa90-5ce89b35bc98"
      },
      "source": [
        "from collections import Counter\r\n",
        "\r\n",
        "popular_interests = Counter(interest for user_interests in users_interests for interest in user_interests)\r\n",
        "\r\n",
        "print(popular_interests)"
      ],
      "execution_count": 2,
      "outputs": [
        {
          "output_type": "stream",
          "text": [
            "Counter({'Python': 4, 'R': 4, 'Big Data': 3, 'HBase': 3, 'Java': 3, 'statistics': 3, 'regression': 3, 'probability': 3, 'Hadoop': 2, 'Cassandra': 2, 'MongoDB': 2, 'Postgres': 2, 'scikit-learn': 2, 'statsmodels': 2, 'pandas': 2, 'machine learning': 2, 'libsvm': 2, 'C++': 2, 'neural networks': 2, 'deep learning': 2, 'artificial intelligence': 2, 'Spark': 1, 'Storm': 1, 'NoSQL': 1, 'scipy': 1, 'numpy': 1, 'decision trees': 1, 'Haskell': 1, 'programming languages': 1, 'mathematics': 1, 'theory': 1, 'Mahout': 1, 'MapReduce': 1, 'databases': 1, 'MySQL': 1, 'support vector machines': 1})\n"
          ],
          "name": "stdout"
        }
      ]
    },
    {
      "cell_type": "markdown",
      "metadata": {
        "id": "xxb4kIkP__h-"
      },
      "source": [
        "透過這個計算，可以單純向使用者推薦最受大家歡迎，而他目前還沒有興趣"
      ]
    },
    {
      "cell_type": "code",
      "metadata": {
        "id": "f5CIW3RhBIgs"
      },
      "source": [
        "from typing import List,Tuple\r\n",
        "\r\n",
        "def most_popular_new_interests(user_interests:List[str],max_results:int=5)->List[Tuple[str,int]]:\r\n",
        "  suggestions = [(interest,frequency) for interest,frequency in popular_interests.most_common() if interest not in users_interests]\r\n",
        "\r\n",
        "  return suggestions[:max_results]"
      ],
      "execution_count": 5,
      "outputs": []
    },
    {
      "cell_type": "markdown",
      "metadata": {
        "id": "HHlW3gE9CJvG"
      },
      "source": [
        "1號使用者"
      ]
    },
    {
      "cell_type": "code",
      "metadata": {
        "colab": {
          "base_uri": "https://localhost:8080/"
        },
        "id": "FbZFb8FyCLk8",
        "outputId": "245cc346-b21e-446a-85c9-f897497b9ad7"
      },
      "source": [
        "most_popular_new_interests([\"Hadoop\", \"Big Data\", \"HBase\", \"Java\", \"Spark\", \"Storm\", \"Cassandra\"],5)"
      ],
      "execution_count": 7,
      "outputs": [
        {
          "output_type": "execute_result",
          "data": {
            "text/plain": [
              "[('Python', 4), ('R', 4), ('Big Data', 3), ('HBase', 3), ('Java', 3)]"
            ]
          },
          "metadata": {
            "tags": []
          },
          "execution_count": 7
        }
      ]
    },
    {
      "cell_type": "markdown",
      "metadata": {
        "id": "ja3qJlcaCf6e"
      },
      "source": [
        "3號使用者"
      ]
    },
    {
      "cell_type": "code",
      "metadata": {
        "colab": {
          "base_uri": "https://localhost:8080/"
        },
        "id": "Ecdyq27bCf64",
        "outputId": "5fb554ca-9653-48f6-dd42-a1d049424610"
      },
      "source": [
        "most_popular_new_interests([\"Python\", \"scikit-learn\", \"scipy\", \"numpy\", \"statsmodels\", \"pandas\"],5)"
      ],
      "execution_count": 8,
      "outputs": [
        {
          "output_type": "execute_result",
          "data": {
            "text/plain": [
              "[('Python', 4), ('R', 4), ('Big Data', 3), ('HBase', 3), ('Java', 3)]"
            ]
          },
          "metadata": {
            "tags": []
          },
          "execution_count": 8
        }
      ]
    },
    {
      "cell_type": "markdown",
      "metadata": {
        "id": "QNGILZg29Tg1"
      },
      "source": [
        "# 以「人」為基礎進行協同篩選\r\n",
        "\r\n",
        "採用「餘弦相似度」(cosine similarity)來測量兩個單詞向量的相似程度"
      ]
    },
    {
      "cell_type": "markdown",
      "metadata": {
        "id": "jB6ShwvjWsVQ"
      },
      "source": [
        "## 解析式集合(set compprehension)\r\n",
        "將每個不同的興趣集中起來，然後再把所有這些興趣放進一個列表，最後進行排序。\r\n"
      ]
    },
    {
      "cell_type": "code",
      "metadata": {
        "id": "A8Gc9VuAXAeP"
      },
      "source": [
        "unique_interests = sorted({interest for user_interests in users_interests for interest in user_interests})"
      ],
      "execution_count": 12,
      "outputs": []
    },
    {
      "cell_type": "markdown",
      "metadata": {
        "id": "NORZ-Axga6r9"
      },
      "source": [
        "針對每個使用者，製作出一個由0和1組成的「興趣向量」  \r\n",
        "根據 unique_interests 列表進行迭代操作：遇到使用者有興趣的項目設為1，其餘設為0"
      ]
    },
    {
      "cell_type": "code",
      "metadata": {
        "id": "UZoUTOpXasrm"
      },
      "source": [
        "def make_user_interest_vector(user_interests:List[str]) ->List[str]:\r\n",
        "  \"\"\"\r\n",
        "   根據使用者的興趣列表，製作出使用者的興趣向量\r\n",
        "   如果unique_interests[i]出現在列表中，第i個元素就設為1，否則就設為0\r\n",
        "  \"\"\"\r\n",
        "  return [1 if interest in user_interests else 0 for interest in unique_interests]"
      ],
      "execution_count": 17,
      "outputs": []
    },
    {
      "cell_type": "markdown",
      "metadata": {
        "id": "MWVrQqH0edp2"
      },
      "source": [
        "製作出一個使用者興趣向量列表："
      ]
    },
    {
      "cell_type": "code",
      "metadata": {
        "id": "OgX3Sx9hemLj",
        "outputId": "3dc7c8ef-f695-4e99-e896-82f0c4903517",
        "colab": {
          "base_uri": "https://localhost:8080/"
        }
      },
      "source": [
        "user_interest_vectors = [make_user_interest_vector(user_interests) for user_interests in users_interests]\r\n",
        "# print(user_interest_vectors)"
      ],
      "execution_count": 18,
      "outputs": [
        {
          "output_type": "stream",
          "text": [
            "[[1, 0, 1, 1, 1, 0, 1, 0, 0, 0, 0, 0, 0, 0, 0, 1, 1, 0, 0, 0, 0, 0, 0, 0, 0, 0, 0, 0, 0, 0, 0, 0, 0, 0, 0, 0], [0, 0, 1, 1, 0, 0, 0, 0, 0, 1, 0, 1, 1, 0, 0, 0, 0, 0, 0, 0, 0, 0, 0, 0, 0, 0, 0, 0, 0, 0, 0, 0, 0, 0, 0, 0], [0, 0, 0, 0, 0, 0, 0, 0, 0, 0, 0, 0, 0, 1, 0, 0, 0, 0, 0, 0, 0, 0, 0, 0, 0, 1, 1, 0, 0, 0, 1, 1, 0, 1, 0, 0], [0, 0, 0, 0, 0, 0, 0, 0, 0, 0, 0, 0, 0, 1, 1, 0, 0, 0, 0, 0, 0, 0, 0, 0, 0, 0, 0, 1, 0, 1, 0, 0, 1, 0, 0, 0], [0, 0, 0, 0, 0, 0, 0, 0, 0, 0, 0, 0, 0, 0, 0, 0, 0, 0, 0, 1, 0, 1, 1, 0, 0, 0, 0, 0, 0, 1, 0, 0, 0, 0, 0, 0], [0, 1, 0, 0, 0, 1, 1, 0, 0, 0, 0, 0, 0, 1, 1, 0, 0, 0, 0, 0, 0, 0, 0, 0, 0, 0, 0, 0, 1, 0, 0, 0, 0, 0, 0, 0], [0, 0, 0, 0, 0, 0, 0, 0, 0, 0, 0, 0, 0, 0, 0, 0, 0, 0, 0, 0, 0, 0, 0, 1, 0, 0, 0, 1, 0, 0, 0, 0, 1, 0, 0, 1], [0, 0, 0, 0, 0, 0, 0, 1, 0, 0, 0, 0, 0, 0, 0, 0, 0, 0, 0, 0, 0, 0, 1, 0, 1, 0, 0, 0, 0, 0, 1, 0, 0, 0, 0, 0], [1, 0, 0, 0, 0, 0, 0, 0, 0, 0, 0, 0, 0, 0, 0, 0, 0, 1, 0, 0, 1, 0, 0, 0, 1, 0, 0, 0, 0, 0, 0, 0, 0, 0, 0, 0], [1, 0, 0, 0, 1, 0, 1, 0, 1, 0, 0, 0, 0, 0, 0, 0, 0, 0, 0, 0, 0, 0, 0, 0, 0, 0, 0, 0, 0, 0, 0, 0, 0, 0, 0, 0], [0, 0, 0, 0, 0, 0, 0, 0, 0, 0, 0, 0, 0, 0, 1, 0, 0, 0, 0, 0, 0, 0, 0, 0, 0, 0, 0, 0, 0, 0, 0, 0, 1, 1, 0, 0], [0, 1, 0, 0, 0, 0, 0, 0, 0, 0, 0, 0, 0, 0, 0, 0, 0, 1, 0, 0, 1, 0, 0, 0, 0, 0, 0, 1, 0, 0, 0, 0, 0, 0, 0, 0], [0, 0, 0, 0, 0, 0, 0, 0, 0, 0, 0, 0, 0, 1, 1, 0, 0, 0, 0, 0, 0, 0, 0, 0, 0, 0, 1, 0, 0, 0, 0, 0, 0, 0, 0, 0], [0, 0, 0, 1, 0, 0, 0, 0, 0, 1, 1, 0, 1, 0, 0, 0, 0, 0, 1, 0, 0, 0, 0, 0, 0, 0, 0, 0, 0, 0, 0, 0, 0, 0, 0, 0], [0, 0, 0, 0, 0, 0, 0, 0, 0, 0, 0, 0, 0, 0, 0, 0, 0, 0, 0, 0, 0, 1, 0, 0, 0, 0, 0, 0, 0, 1, 0, 0, 0, 0, 1, 0]]\n"
          ],
          "name": "stdout"
        }
      ]
    },
    {
      "cell_type": "markdown",
      "metadata": {
        "id": "-FMroTkmfLV0"
      },
      "source": [
        "計算出兩兩成對使用者相似度"
      ]
    },
    {
      "cell_type": "code",
      "metadata": {
        "id": "o90afpj1fQ7q"
      },
      "source": [
        "import math\r\n",
        "def dot(v, w):\r\n",
        "    \"\"\"v_1 * w_1 + ... + v_n * w_n\"\"\"\r\n",
        "    return sum(v_i * w_i for v_i, w_i in zip(v, w))\r\n",
        "\r\n",
        "def cosine_similarity(v, w):\r\n",
        "    return dot(v, w) / math.sqrt(dot(v, v) * dot(w, w))"
      ],
      "execution_count": 23,
      "outputs": []
    },
    {
      "cell_type": "code",
      "metadata": {
        "id": "bkeMzdoJfYNr",
        "outputId": "9061142f-bb3a-44fa-e09f-2e2327e0afca",
        "colab": {
          "base_uri": "https://localhost:8080/"
        }
      },
      "source": [
        "user_similarities = [[cosine_similarity(interest_vector_i,interest_vector_j) for interest_vector_j in user_interest_vectors]for interest_vector_i in user_interest_vectors]\r\n",
        "print(user_similarities)"
      ],
      "execution_count": 24,
      "outputs": [
        {
          "output_type": "stream",
          "text": [
            "[[1.0, 0.3380617018914066, 0.0, 0.0, 0.0, 0.1543033499620919, 0.0, 0.0, 0.1889822365046136, 0.5669467095138409, 0.0, 0.0, 0.0, 0.1690308509457033, 0.0], [0.3380617018914066, 1.0, 0.0, 0.0, 0.0, 0.0, 0.0, 0.0, 0.0, 0.0, 0.0, 0.0, 0.0, 0.6, 0.0], [0.0, 0.0, 1.0, 0.18257418583505536, 0.0, 0.16666666666666666, 0.0, 0.20412414523193154, 0.0, 0.0, 0.23570226039551587, 0.0, 0.47140452079103173, 0.0, 0.0], [0.0, 0.0, 0.18257418583505536, 1.0, 0.22360679774997896, 0.3651483716701107, 0.4472135954999579, 0.0, 0.0, 0.0, 0.5163977794943222, 0.22360679774997896, 0.5163977794943222, 0.0, 0.2581988897471611], [0.0, 0.0, 0.0, 0.22360679774997896, 1.0, 0.0, 0.0, 0.25, 0.0, 0.0, 0.0, 0.0, 0.0, 0.0, 0.5773502691896258], [0.1543033499620919, 0.0, 0.16666666666666666, 0.3651483716701107, 0.0, 1.0, 0.0, 0.0, 0.0, 0.20412414523193154, 0.23570226039551587, 0.20412414523193154, 0.47140452079103173, 0.0, 0.0], [0.0, 0.0, 0.0, 0.4472135954999579, 0.0, 0.0, 1.0, 0.0, 0.0, 0.0, 0.2886751345948129, 0.25, 0.0, 0.0, 0.0], [0.0, 0.0, 0.20412414523193154, 0.0, 0.25, 0.0, 0.0, 1.0, 0.25, 0.0, 0.0, 0.0, 0.0, 0.0, 0.0], [0.1889822365046136, 0.0, 0.0, 0.0, 0.0, 0.0, 0.0, 0.25, 1.0, 0.25, 0.0, 0.5, 0.0, 0.0, 0.0], [0.5669467095138409, 0.0, 0.0, 0.0, 0.0, 0.20412414523193154, 0.0, 0.0, 0.25, 1.0, 0.0, 0.0, 0.0, 0.0, 0.0], [0.0, 0.0, 0.23570226039551587, 0.5163977794943222, 0.0, 0.23570226039551587, 0.2886751345948129, 0.0, 0.0, 0.0, 1.0, 0.0, 0.3333333333333333, 0.0, 0.0], [0.0, 0.0, 0.0, 0.22360679774997896, 0.0, 0.20412414523193154, 0.25, 0.0, 0.5, 0.0, 0.0, 1.0, 0.0, 0.0, 0.0], [0.0, 0.0, 0.47140452079103173, 0.5163977794943222, 0.0, 0.47140452079103173, 0.0, 0.0, 0.0, 0.0, 0.3333333333333333, 0.0, 1.0, 0.0, 0.0], [0.1690308509457033, 0.6, 0.0, 0.0, 0.0, 0.0, 0.0, 0.0, 0.0, 0.0, 0.0, 0.0, 0.0, 1.0, 0.0], [0.0, 0.0, 0.0, 0.2581988897471611, 0.5773502691896258, 0.0, 0.0, 0.0, 0.0, 0.0, 0.0, 0.0, 0.0, 0.0, 1.0]]\n"
          ],
          "name": "stdout"
        }
      ]
    },
    {
      "cell_type": "code",
      "metadata": {
        "id": "4OAhiijXhLJ8"
      },
      "source": [
        "# 0 和 9 這兩個使用者共同的興趣為 Hadoop、Java、Big Data\r\n",
        "assert 0.56 < user_similarities[0][9] < 0.58 ,\"有好幾個共同的興趣\"\r\n",
        "# 0 和 8 這兩個使用者只有一個共同的興趣為：Big Data\r\n",
        "assert 0.18 < user_similarities[0][8] < 0.20 ,\"只有一個共同的興趣\""
      ],
      "execution_count": 26,
      "outputs": []
    },
    {
      "cell_type": "markdown",
      "metadata": {
        "id": "M1k0MLbjejp-"
      },
      "source": [
        ""
      ]
    },
    {
      "cell_type": "markdown",
      "metadata": {
        "id": "ytC2t-Xm9a1l"
      },
      "source": [
        "# 以物為基礎進行協同篩選"
      ]
    },
    {
      "cell_type": "markdown",
      "metadata": {
        "id": "J_bwZ7fh9e7n"
      },
      "source": [
        "## 矩陣分解"
      ]
    }
  ]
}