{
  "nbformat": 4,
  "nbformat_minor": 0,
  "metadata": {
    "colab": {
      "name": "Chapter23.ipynb",
      "provenance": [],
      "authorship_tag": "ABX9TyNWNtHG5AM9ecDDgBwi8DDT",
      "include_colab_link": true
    },
    "kernelspec": {
      "name": "python3",
      "display_name": "Python 3"
    }
  },
  "cells": [
    {
      "cell_type": "markdown",
      "metadata": {
        "id": "view-in-github",
        "colab_type": "text"
      },
      "source": [
        "<a href=\"https://colab.research.google.com/github/hank199599/data_science_from_scratch_reading_log/blob/main/Chapter23.ipynb\" target=\"_parent\"><img src=\"https://colab.research.google.com/assets/colab-badge.svg\" alt=\"Open In Colab\"/></a>"
      ]
    },
    {
      "cell_type": "markdown",
      "metadata": {
        "id": "7od70Ok_7NI4"
      },
      "source": [
        "# 推薦系統\r\n",
        "根據資料做出某種**建議**或是**推薦**"
      ]
    },
    {
      "cell_type": "code",
      "metadata": {
        "id": "mWyI25qhGPfT"
      },
      "source": [
        "users_interests = [\r\n",
        "    [\"Hadoop\", \"Big Data\", \"HBase\", \"Java\", \"Spark\", \"Storm\", \"Cassandra\"],\r\n",
        "    [\"NoSQL\", \"MongoDB\", \"Cassandra\", \"HBase\", \"Postgres\"],\r\n",
        "    [\"Python\", \"scikit-learn\", \"scipy\", \"numpy\", \"statsmodels\", \"pandas\"],\r\n",
        "    [\"R\", \"Python\", \"statistics\", \"regression\", \"probability\"],\r\n",
        "    [\"machine learning\", \"regression\", \"decision trees\", \"libsvm\"],\r\n",
        "    [\"Python\", \"R\", \"Java\", \"C++\", \"Haskell\", \"programming languages\"],\r\n",
        "    [\"statistics\", \"probability\", \"mathematics\", \"theory\"],\r\n",
        "    [\"machine learning\", \"scikit-learn\", \"Mahout\", \"neural networks\"],\r\n",
        "    [\"neural networks\", \"deep learning\", \"Big Data\", \"artificial intelligence\"],\r\n",
        "    [\"Hadoop\", \"Java\", \"MapReduce\", \"Big Data\"],\r\n",
        "    [\"statistics\", \"R\", \"statsmodels\"],\r\n",
        "    [\"C++\", \"deep learning\", \"artificial intelligence\", \"probability\"],\r\n",
        "    [\"pandas\", \"R\", \"Python\"],\r\n",
        "    [\"databases\", \"HBase\", \"Postgres\", \"MySQL\", \"MongoDB\"],\r\n",
        "    [\"libsvm\", \"regression\", \"support vector machines\"]\r\n",
        "]"
      ],
      "execution_count": 3,
      "outputs": []
    },
    {
      "cell_type": "markdown",
      "metadata": {
        "id": "0t2-IP6J-7r3"
      },
      "source": [
        "### 目標\r\n",
        "根據使用者目前的興趣，向他推薦其他的新興趣"
      ]
    },
    {
      "cell_type": "markdown",
      "metadata": {
        "id": "hh8dBHSI9MVW"
      },
      "source": [
        "# 土法煉鋼的作法\r\n",
        "在有限資料下可以輕易推薦興趣  \r\n",
        "隨著資料量上升，這種做法會變得越來越困難"
      ]
    },
    {
      "cell_type": "markdown",
      "metadata": {
        "id": "K060ro-79P_d"
      },
      "source": [
        "# 推薦最流行的"
      ]
    },
    {
      "cell_type": "code",
      "metadata": {
        "colab": {
          "base_uri": "https://localhost:8080/"
        },
        "id": "d4XEIOpH_jKW",
        "outputId": "389f47a6-ba31-43f6-f52f-e55cf9ecff63"
      },
      "source": [
        "from collections import Counter\r\n",
        "\r\n",
        "popular_interests = Counter(interest for user_interests in users_interests for interest in user_interests)\r\n",
        "\r\n",
        "print(popular_interests)"
      ],
      "execution_count": 4,
      "outputs": [
        {
          "output_type": "stream",
          "text": [
            "Counter({'Python': 4, 'R': 4, 'Big Data': 3, 'HBase': 3, 'Java': 3, 'statistics': 3, 'regression': 3, 'probability': 3, 'Hadoop': 2, 'Cassandra': 2, 'MongoDB': 2, 'Postgres': 2, 'scikit-learn': 2, 'statsmodels': 2, 'pandas': 2, 'machine learning': 2, 'libsvm': 2, 'C++': 2, 'neural networks': 2, 'deep learning': 2, 'artificial intelligence': 2, 'Spark': 1, 'Storm': 1, 'NoSQL': 1, 'scipy': 1, 'numpy': 1, 'decision trees': 1, 'Haskell': 1, 'programming languages': 1, 'mathematics': 1, 'theory': 1, 'Mahout': 1, 'MapReduce': 1, 'databases': 1, 'MySQL': 1, 'support vector machines': 1})\n"
          ],
          "name": "stdout"
        }
      ]
    },
    {
      "cell_type": "markdown",
      "metadata": {
        "id": "xxb4kIkP__h-"
      },
      "source": [
        "透過這個計算，可以單純向使用者推薦最受大家歡迎，而他目前還沒有興趣"
      ]
    },
    {
      "cell_type": "code",
      "metadata": {
        "id": "f5CIW3RhBIgs"
      },
      "source": [
        "from typing import List,Tuple\r\n",
        "\r\n",
        "def most_popular_new_interests(user_interests:List[str],max_results:int=5)->List[Tuple[str,int]]:\r\n",
        "  suggestions = [(interest,frequency) for interest,frequency in popular_interests.most_common() if interest not in users_interests]\r\n",
        "\r\n",
        "  return suggestions[:max_results]"
      ],
      "execution_count": 5,
      "outputs": []
    },
    {
      "cell_type": "markdown",
      "metadata": {
        "id": "HHlW3gE9CJvG"
      },
      "source": [
        "1號使用者"
      ]
    },
    {
      "cell_type": "code",
      "metadata": {
        "colab": {
          "base_uri": "https://localhost:8080/"
        },
        "id": "FbZFb8FyCLk8",
        "outputId": "fc3a9f77-7145-4912-e90f-18216feefc8f"
      },
      "source": [
        "most_popular_new_interests([\"Hadoop\", \"Big Data\", \"HBase\", \"Java\", \"Spark\", \"Storm\", \"Cassandra\"],5)"
      ],
      "execution_count": 6,
      "outputs": [
        {
          "output_type": "execute_result",
          "data": {
            "text/plain": [
              "[('Python', 4), ('R', 4), ('Big Data', 3), ('HBase', 3), ('Java', 3)]"
            ]
          },
          "metadata": {
            "tags": []
          },
          "execution_count": 6
        }
      ]
    },
    {
      "cell_type": "markdown",
      "metadata": {
        "id": "ja3qJlcaCf6e"
      },
      "source": [
        "3號使用者"
      ]
    },
    {
      "cell_type": "code",
      "metadata": {
        "colab": {
          "base_uri": "https://localhost:8080/"
        },
        "id": "Ecdyq27bCf64",
        "outputId": "4fb27c4d-3c86-492a-f683-2358e0161367"
      },
      "source": [
        "most_popular_new_interests([\"Python\", \"scikit-learn\", \"scipy\", \"numpy\", \"statsmodels\", \"pandas\"],5)"
      ],
      "execution_count": 7,
      "outputs": [
        {
          "output_type": "execute_result",
          "data": {
            "text/plain": [
              "[('Python', 4), ('R', 4), ('Big Data', 3), ('HBase', 3), ('Java', 3)]"
            ]
          },
          "metadata": {
            "tags": []
          },
          "execution_count": 7
        }
      ]
    },
    {
      "cell_type": "markdown",
      "metadata": {
        "id": "QNGILZg29Tg1"
      },
      "source": [
        "# 以「人」為基礎進行協同篩選\r\n",
        "\r\n",
        "採用「餘弦相似度」(cosine similarity)來測量兩個單詞向量的相似程度"
      ]
    },
    {
      "cell_type": "markdown",
      "metadata": {
        "id": "jB6ShwvjWsVQ"
      },
      "source": [
        "## 解析式集合(set compprehension)\r\n",
        "將每個不同的興趣集中起來，然後再把所有這些興趣放進一個列表，最後進行排序。\r\n"
      ]
    },
    {
      "cell_type": "code",
      "metadata": {
        "id": "A8Gc9VuAXAeP"
      },
      "source": [
        "unique_interests = sorted({interest for user_interests in users_interests for interest in user_interests})"
      ],
      "execution_count": 8,
      "outputs": []
    },
    {
      "cell_type": "markdown",
      "metadata": {
        "id": "NORZ-Axga6r9"
      },
      "source": [
        "針對每個使用者，製作出一個由0和1組成的「興趣向量」  \r\n",
        "根據 unique_interests 列表進行迭代操作：遇到使用者有興趣的項目設為1，其餘設為0"
      ]
    },
    {
      "cell_type": "code",
      "metadata": {
        "id": "UZoUTOpXasrm"
      },
      "source": [
        "def make_user_interest_vector(user_interests:List[str]) ->List[str]:\r\n",
        "  \"\"\"\r\n",
        "   根據使用者的興趣列表，製作出使用者的興趣向量\r\n",
        "   如果unique_interests[i]出現在列表中，第i個元素就設為1，否則就設為0\r\n",
        "  \"\"\"\r\n",
        "  return [1 if interest in user_interests else 0 for interest in unique_interests]"
      ],
      "execution_count": 9,
      "outputs": []
    },
    {
      "cell_type": "markdown",
      "metadata": {
        "id": "MWVrQqH0edp2"
      },
      "source": [
        "製作出一個使用者興趣向量列表："
      ]
    },
    {
      "cell_type": "code",
      "metadata": {
        "id": "OgX3Sx9hemLj"
      },
      "source": [
        "user_interest_vectors = [make_user_interest_vector(user_interests) for user_interests in users_interests]\r\n",
        "# print(user_interest_vectors)"
      ],
      "execution_count": 10,
      "outputs": []
    },
    {
      "cell_type": "markdown",
      "metadata": {
        "id": "-FMroTkmfLV0"
      },
      "source": [
        "計算出兩兩成對使用者相似度"
      ]
    },
    {
      "cell_type": "code",
      "metadata": {
        "id": "o90afpj1fQ7q"
      },
      "source": [
        "import math\r\n",
        "def dot(v, w):\r\n",
        "    \"\"\"v_1 * w_1 + ... + v_n * w_n\"\"\"\r\n",
        "    return sum(v_i * w_i for v_i, w_i in zip(v, w))\r\n",
        "\r\n",
        "def cosine_similarity(v, w):\r\n",
        "    return dot(v, w) / math.sqrt(dot(v, v) * dot(w, w))"
      ],
      "execution_count": 11,
      "outputs": []
    },
    {
      "cell_type": "code",
      "metadata": {
        "colab": {
          "base_uri": "https://localhost:8080/"
        },
        "id": "bkeMzdoJfYNr",
        "outputId": "7e8eb777-5e21-4970-824b-f0ad1568d4ec"
      },
      "source": [
        "user_similarities = [[cosine_similarity(interest_vector_i,interest_vector_j) for interest_vector_j in user_interest_vectors] for interest_vector_i in user_interest_vectors]\r\n",
        "print(user_similarities)"
      ],
      "execution_count": 12,
      "outputs": [
        {
          "output_type": "stream",
          "text": [
            "[[1.0, 0.3380617018914066, 0.0, 0.0, 0.0, 0.1543033499620919, 0.0, 0.0, 0.1889822365046136, 0.5669467095138409, 0.0, 0.0, 0.0, 0.1690308509457033, 0.0], [0.3380617018914066, 1.0, 0.0, 0.0, 0.0, 0.0, 0.0, 0.0, 0.0, 0.0, 0.0, 0.0, 0.0, 0.6, 0.0], [0.0, 0.0, 1.0, 0.18257418583505536, 0.0, 0.16666666666666666, 0.0, 0.20412414523193154, 0.0, 0.0, 0.23570226039551587, 0.0, 0.47140452079103173, 0.0, 0.0], [0.0, 0.0, 0.18257418583505536, 1.0, 0.22360679774997896, 0.3651483716701107, 0.4472135954999579, 0.0, 0.0, 0.0, 0.5163977794943222, 0.22360679774997896, 0.5163977794943222, 0.0, 0.2581988897471611], [0.0, 0.0, 0.0, 0.22360679774997896, 1.0, 0.0, 0.0, 0.25, 0.0, 0.0, 0.0, 0.0, 0.0, 0.0, 0.5773502691896258], [0.1543033499620919, 0.0, 0.16666666666666666, 0.3651483716701107, 0.0, 1.0, 0.0, 0.0, 0.0, 0.20412414523193154, 0.23570226039551587, 0.20412414523193154, 0.47140452079103173, 0.0, 0.0], [0.0, 0.0, 0.0, 0.4472135954999579, 0.0, 0.0, 1.0, 0.0, 0.0, 0.0, 0.2886751345948129, 0.25, 0.0, 0.0, 0.0], [0.0, 0.0, 0.20412414523193154, 0.0, 0.25, 0.0, 0.0, 1.0, 0.25, 0.0, 0.0, 0.0, 0.0, 0.0, 0.0], [0.1889822365046136, 0.0, 0.0, 0.0, 0.0, 0.0, 0.0, 0.25, 1.0, 0.25, 0.0, 0.5, 0.0, 0.0, 0.0], [0.5669467095138409, 0.0, 0.0, 0.0, 0.0, 0.20412414523193154, 0.0, 0.0, 0.25, 1.0, 0.0, 0.0, 0.0, 0.0, 0.0], [0.0, 0.0, 0.23570226039551587, 0.5163977794943222, 0.0, 0.23570226039551587, 0.2886751345948129, 0.0, 0.0, 0.0, 1.0, 0.0, 0.3333333333333333, 0.0, 0.0], [0.0, 0.0, 0.0, 0.22360679774997896, 0.0, 0.20412414523193154, 0.25, 0.0, 0.5, 0.0, 0.0, 1.0, 0.0, 0.0, 0.0], [0.0, 0.0, 0.47140452079103173, 0.5163977794943222, 0.0, 0.47140452079103173, 0.0, 0.0, 0.0, 0.0, 0.3333333333333333, 0.0, 1.0, 0.0, 0.0], [0.1690308509457033, 0.6, 0.0, 0.0, 0.0, 0.0, 0.0, 0.0, 0.0, 0.0, 0.0, 0.0, 0.0, 1.0, 0.0], [0.0, 0.0, 0.0, 0.2581988897471611, 0.5773502691896258, 0.0, 0.0, 0.0, 0.0, 0.0, 0.0, 0.0, 0.0, 0.0, 1.0]]\n"
          ],
          "name": "stdout"
        }
      ]
    },
    {
      "cell_type": "code",
      "metadata": {
        "id": "4OAhiijXhLJ8"
      },
      "source": [
        "# 0 和 9 這兩個使用者共同的興趣為 Hadoop、Java、Big Data\r\n",
        "assert 0.56 < user_similarities[0][9] < 0.58 ,\"有好幾個共同的興趣\"\r\n",
        "# 0 和 8 這兩個使用者只有一個共同的興趣為：Big Data\r\n",
        "assert 0.18 < user_similarities[0][8] < 0.20 ,\"只有一個共同的興趣\""
      ],
      "execution_count": 13,
      "outputs": []
    },
    {
      "cell_type": "markdown",
      "metadata": {
        "id": "M1k0MLbjejp-"
      },
      "source": [
        "針對給定的使用者，找出另一個與他最相似的使用者"
      ]
    },
    {
      "cell_type": "code",
      "metadata": {
        "id": "8Ysmd71Ei_7P"
      },
      "source": [
        "def most_similar_users_to(user_id:int) ->List[Tuple[int,float]]:\r\n",
        "  pairs = [(other_user_id,similarity) for other_user_id,similarity in enumerate(user_similarities[user_id]) if user_id != other_user_id and similarity > 0]\r\n",
        "\r\n",
        "  return sorted(pairs,key= lambda pair:pair[-1],reverse=True)"
      ],
      "execution_count": 14,
      "outputs": []
    },
    {
      "cell_type": "code",
      "metadata": {
        "id": "-7YMgEElkI_s",
        "colab": {
          "base_uri": "https://localhost:8080/"
        },
        "outputId": "55525254-73da-4be1-bc4f-0099336ccaeb"
      },
      "source": [
        "most_similar_users_to(0)"
      ],
      "execution_count": 15,
      "outputs": [
        {
          "output_type": "execute_result",
          "data": {
            "text/plain": [
              "[(9, 0.5669467095138409),\n",
              " (1, 0.3380617018914066),\n",
              " (8, 0.1889822365046136),\n",
              " (13, 0.1690308509457033),\n",
              " (5, 0.1543033499620919)]"
            ]
          },
          "metadata": {
            "tags": []
          },
          "execution_count": 15
        }
      ]
    },
    {
      "cell_type": "markdown",
      "metadata": {
        "id": "EXw-U4gzBMpK"
      },
      "source": [
        "運用這些資料：  \r\n",
        "針對每個興趣，把其他所有使用者相似度的值全部加總起來"
      ]
    },
    {
      "cell_type": "code",
      "metadata": {
        "id": "BnUfrsxIBdin"
      },
      "source": [
        "from collections import defaultdict\r\n",
        "\r\n",
        "def user_based_suggestions(user_id:int,include_current_interests:bool=False):\r\n",
        "  # 把相似度加總起來\r\n",
        "  suggestions:Dict[str,float]= defaultdict(float)\r\n",
        "  for other_user_id,similarity in most_similar_users_to(user_id):\r\n",
        "    for interest in users_interests[other_user_id]:\r\n",
        "      suggestions[interest] += similarity\r\n",
        "  \r\n",
        "  # 把他們轉換成一個排序過的序列\r\n",
        "  suggestions = sorted(suggestions.items(),\r\n",
        "             key=lambda pair:pair[-1], #權重\r\n",
        "             reverse=True)\r\n",
        "  \r\n",
        "  # 接著排除掉已經有的興趣\r\n",
        "  if include_current_interests:\r\n",
        "    return suggestions\r\n",
        "  else:\r\n",
        "    return [(suggestion,weight) for suggestion,weight in suggestions if suggestion not in users_interests[user_id]]"
      ],
      "execution_count": 16,
      "outputs": []
    },
    {
      "cell_type": "markdown",
      "metadata": {
        "id": "IPbS4eWqJBk9"
      },
      "source": [
        "調用針對使用者0的推薦興趣"
      ]
    },
    {
      "cell_type": "code",
      "metadata": {
        "id": "2d3mPSnAJBs1",
        "colab": {
          "base_uri": "https://localhost:8080/"
        },
        "outputId": "5dc0b7db-8415-4ebe-95db-b78b4bb7cc41"
      },
      "source": [
        "user_based_suggestions(0)"
      ],
      "execution_count": 17,
      "outputs": [
        {
          "output_type": "execute_result",
          "data": {
            "text/plain": [
              "[('MapReduce', 0.5669467095138409),\n",
              " ('MongoDB', 0.50709255283711),\n",
              " ('Postgres', 0.50709255283711),\n",
              " ('NoSQL', 0.3380617018914066),\n",
              " ('neural networks', 0.1889822365046136),\n",
              " ('deep learning', 0.1889822365046136),\n",
              " ('artificial intelligence', 0.1889822365046136),\n",
              " ('databases', 0.1690308509457033),\n",
              " ('MySQL', 0.1690308509457033),\n",
              " ('Python', 0.1543033499620919),\n",
              " ('R', 0.1543033499620919),\n",
              " ('C++', 0.1543033499620919),\n",
              " ('Haskell', 0.1543033499620919),\n",
              " ('programming languages', 0.1543033499620919)]"
            ]
          },
          "metadata": {
            "tags": []
          },
          "execution_count": 17
        }
      ]
    },
    {
      "cell_type": "markdown",
      "metadata": {
        "id": "7iUaMa9jJ-fV"
      },
      "source": [
        "若項目數量過大，會發生維度的詛咒"
      ]
    },
    {
      "cell_type": "markdown",
      "metadata": {
        "id": "ytC2t-Xm9a1l"
      },
      "source": [
        "# 以物為基礎進行協同篩選\r\n",
        "直接計算興趣之間的相似度  \r\n",
        "直接根據每個使用者目前的興趣，找出其他類似的興趣"
      ]
    },
    {
      "cell_type": "code",
      "metadata": {
        "id": "ZyioivJmK5ze"
      },
      "source": [
        "interest_user_matrix = [[user_interest_vector[j] for user_interest_vector in user_interest_vectors] for j,_ in enumerate(unique_interests)]\r\n",
        "# print(interest_user_matrix)"
      ],
      "execution_count": 18,
      "outputs": []
    },
    {
      "cell_type": "markdown",
      "metadata": {
        "id": "xKdbcvQnLzQa"
      },
      "source": [
        "運用餘弦相似度的概念，找出彼此間的相似度"
      ]
    },
    {
      "cell_type": "code",
      "metadata": {
        "id": "KwHWx5czMbIX"
      },
      "source": [
        "interest_similarities = [[cosine_similarity(user_vector_i,user_vector_j) for user_vector_j in interest_user_matrix] for user_vector_i in interest_user_matrix]"
      ],
      "execution_count": 19,
      "outputs": []
    },
    {
      "cell_type": "code",
      "metadata": {
        "id": "yI8OyAnzNFvB"
      },
      "source": [
        "def most_similar_interests_to(interest_id:int):\r\n",
        "  similarities = interest_similarities[interest_id]\r\n",
        "  pairs = [(unique_interests[other_interest_id],similarity) for other_interest_id,similarity in enumerate(similarities) if interest_id != other_interest_id and similarity > 0]\r\n",
        "\r\n",
        "  return sorted(pairs,\r\n",
        "          key = lambda pair:pair[-1],\r\n",
        "          reverse=True\r\n",
        "          )"
      ],
      "execution_count": 20,
      "outputs": []
    },
    {
      "cell_type": "markdown",
      "metadata": {
        "id": "Xj-FaKaUOpbV"
      },
      "source": [
        "找出與Big Data (興趣0) 最相似的興趣"
      ]
    },
    {
      "cell_type": "code",
      "metadata": {
        "id": "NtowYJB0OzWP",
        "colab": {
          "base_uri": "https://localhost:8080/"
        },
        "outputId": "7bfcec95-804d-460e-b615-47e361796188"
      },
      "source": [
        "most_similar_interests_to(0)"
      ],
      "execution_count": 21,
      "outputs": [
        {
          "output_type": "execute_result",
          "data": {
            "text/plain": [
              "[('Hadoop', 0.8164965809277261),\n",
              " ('Java', 0.6666666666666666),\n",
              " ('MapReduce', 0.5773502691896258),\n",
              " ('Spark', 0.5773502691896258),\n",
              " ('Storm', 0.5773502691896258),\n",
              " ('Cassandra', 0.4082482904638631),\n",
              " ('artificial intelligence', 0.4082482904638631),\n",
              " ('deep learning', 0.4082482904638631),\n",
              " ('neural networks', 0.4082482904638631),\n",
              " ('HBase', 0.3333333333333333)]"
            ]
          },
          "metadata": {
            "tags": []
          },
          "execution_count": 21
        }
      ]
    },
    {
      "cell_type": "markdown",
      "metadata": {
        "id": "Bu8Dsh_0PwwP"
      },
      "source": [
        "針對使用者的每個興趣，將類似興趣的相似度累加起來  \r\n",
        "建立相對應的推薦資料"
      ]
    },
    {
      "cell_type": "code",
      "metadata": {
        "id": "GZbee8-gQDDT"
      },
      "source": [
        "def item_based_suggestions(user_id:int,include_current_interests:bool=False):\r\n",
        "  # 把類似興趣的相似度累加起來\r\n",
        "  suggestions = defaultdict(float)\r\n",
        "\r\n",
        "  user_interest_vector = user_interest_vectors[user_id]\r\n",
        "  for interest_id,is_interested in enumerate(user_interest_vector):\r\n",
        "    if is_interested == 1:\r\n",
        "      similar_interests = most_similar_interests_to(interest_id)\r\n",
        "      for interest,similarity in similar_interests:\r\n",
        "        suggestions[interest] += similarity\r\n",
        "  \r\n",
        "  # 根據權重值進行排序\r\n",
        "  suggestions = sorted(suggestions.items(),\r\n",
        "              key = lambda pair:pair[-1],\r\n",
        "              reverse = True)\r\n",
        "  \r\n",
        "  if include_current_interests:\r\n",
        "    return suggestions\r\n",
        "  else:\r\n",
        "    return [(suggestion,weight) for suggestion,weight in suggestions if suggestion not in users_interests[user_id]]"
      ],
      "execution_count": 22,
      "outputs": []
    },
    {
      "cell_type": "markdown",
      "metadata": {
        "id": "EKr6j2KyR1bS"
      },
      "source": [
        "以0這位使用者的紀錄，推薦給他的結果如下"
      ]
    },
    {
      "cell_type": "code",
      "metadata": {
        "id": "0S80znBXSAn5",
        "colab": {
          "base_uri": "https://localhost:8080/"
        },
        "outputId": "350b176f-e5c6-4fb0-ea79-213b43da5337"
      },
      "source": [
        "item_based_suggestions(0)"
      ],
      "execution_count": 23,
      "outputs": [
        {
          "output_type": "execute_result",
          "data": {
            "text/plain": [
              "[('MapReduce', 1.861807319565799),\n",
              " ('MongoDB', 1.3164965809277263),\n",
              " ('Postgres', 1.3164965809277263),\n",
              " ('NoSQL', 1.2844570503761732),\n",
              " ('MySQL', 0.5773502691896258),\n",
              " ('databases', 0.5773502691896258),\n",
              " ('Haskell', 0.5773502691896258),\n",
              " ('programming languages', 0.5773502691896258),\n",
              " ('artificial intelligence', 0.4082482904638631),\n",
              " ('deep learning', 0.4082482904638631),\n",
              " ('neural networks', 0.4082482904638631),\n",
              " ('C++', 0.4082482904638631),\n",
              " ('Python', 0.2886751345948129),\n",
              " ('R', 0.2886751345948129)]"
            ]
          },
          "metadata": {
            "tags": []
          },
          "execution_count": 23
        }
      ]
    },
    {
      "cell_type": "markdown",
      "metadata": {
        "id": "J_bwZ7fh9e7n"
      },
      "source": [
        "# 矩陣分解\r\n",
        "運用模型來**預設**使用者針對給定項目所給出的評分"
      ]
    },
    {
      "cell_type": "markdown",
      "metadata": {
        "id": "e6dscSP8koL_"
      },
      "source": [
        "取得資料集  \r\n",
        "* [原始資料位址](http://files.grouplens.org/datasets/movielens/ml-100k.zip)\r\n",
        "* 將所需資料備份到Github，以pandas模組讀取"
      ]
    },
    {
      "cell_type": "code",
      "metadata": {
        "id": "Qhj254vLkq3c"
      },
      "source": [
        "from dateutil.parser import parse\r\n",
        "import io\r\n",
        "import requests\r\n",
        "url1=\"https://raw.githubusercontent.com/hank199599/data_science_from_scratch_reading_log/main/attached_data/CH%2023/u.item\"\r\n",
        "url2=\"https://raw.githubusercontent.com/hank199599/data_science_from_scratch_reading_log/main/attached_data/CH%2023/u.data\"\r\n",
        "MOVIES=requests.get(url1).content\r\n",
        "RATINGS=requests.get(url2).content"
      ],
      "execution_count": 24,
      "outputs": []
    },
    {
      "cell_type": "markdown",
      "metadata": {
        "id": "UDUNk2oc18WJ"
      },
      "source": [
        "引用NamedTuple來協助整理資料"
      ]
    },
    {
      "cell_type": "code",
      "metadata": {
        "id": "B6BgTlqv2CAQ"
      },
      "source": [
        "from typing import NamedTuple\r\n",
        "\r\n",
        "class Rating(NamedTuple):\r\n",
        "  user_id:str\r\n",
        "  movie_id:str\r\n",
        "  rating:float"
      ],
      "execution_count": 25,
      "outputs": []
    },
    {
      "cell_type": "markdown",
      "metadata": {
        "id": "hhcBdtLusKrY"
      },
      "source": [
        "讀取電影檔案資料"
      ]
    },
    {
      "cell_type": "code",
      "metadata": {
        "id": "9N786nHYseZX"
      },
      "source": [
        "import pandas as pd\r\n",
        "\r\n",
        "data = pd.read_csv(io.StringIO(MOVIES.decode('iso-8859-1')),delimiter=\"|\",header=None)\r\n",
        "movies = {movie_id:title for movie_id,title,*_ in zip(data[0],data[1])}"
      ],
      "execution_count": 26,
      "outputs": []
    },
    {
      "cell_type": "markdown",
      "metadata": {
        "id": "XruNLehZsd0G"
      },
      "source": [
        "讀取評分檔案資料  \r\n",
        "[user_id,movie_id,rating],timestap  \r\n",
        "‐‐‐‐‐取這三個欄位‐‐‐‐‐ \r\n"
      ]
    },
    {
      "cell_type": "code",
      "metadata": {
        "id": "Fugwz2sk5j4Y"
      },
      "source": [
        "import pandas as pd\r\n",
        "\r\n",
        "data=pd.read_csv(io.StringIO(RATINGS.decode('iso-8859-1')),delimiter=\"\\t\",header=None)\r\n",
        "ratings = {Rating(user_id,movie_id,float(raring)) for user_id,movie_id,raring in zip(data[0],data[1],data[2])}"
      ],
      "execution_count": 27,
      "outputs": []
    },
    {
      "cell_type": "markdown",
      "metadata": {
        "id": "hNMCtj2y75Hl"
      },
      "source": [
        "驗證讀取的資料是否有誤"
      ]
    },
    {
      "cell_type": "code",
      "metadata": {
        "id": "dyuRZq-z5-7z"
      },
      "source": [
        "assert len(movies) == 1682\r\n",
        "assert len(list({rating.user_id for rating in ratings})) == 943"
      ],
      "execution_count": 28,
      "outputs": []
    },
    {
      "cell_type": "markdown",
      "metadata": {
        "id": "nQIR4ox_79DL"
      },
      "source": [
        "針對這些資料，進行分析與探索"
      ]
    },
    {
      "cell_type": "code",
      "metadata": {
        "colab": {
          "base_uri": "https://localhost:8080/"
        },
        "id": "TBZB3bKV8Elr",
        "outputId": "0dee41d0-f5ab-40b4-f715-7ce21560b44e"
      },
      "source": [
        "import re\r\n",
        "\r\n",
        "# 按照多個電影編號進行累計，需要用到的一個資料結構\r\n",
        "star_wars_ratings = {movie_id:[] for movie_id,title in movies.items() if re.search(\"Star Wars|Empire Strikes|Jedi\",title)}\r\n",
        "\r\n",
        "# 針對星際大戰系列電影，以迭代的方式累計計分\r\n",
        "for rating in ratings:\r\n",
        "  if rating.movie_id in star_wars_ratings:\r\n",
        "    star_wars_ratings[rating.movie_id].append(rating.rating)\r\n",
        "    \r\n",
        "# 計算每部電影的平均分數\r\n",
        "avg_ratings = [(sum(title_ratings)/len(title_ratings),movie_id) for movie_id,title_ratings in star_wars_ratings.items()]\r\n",
        "\r\n",
        "# 依照排序列印相應的分數\r\n",
        "for avg_rating,movie_id in sorted(avg_ratings,reverse=True):\r\n",
        "  print(f\"{avg_rating:.2f} {movies[movie_id]}\")\r\n",
        "                    "
      ],
      "execution_count": 29,
      "outputs": [
        {
          "output_type": "stream",
          "text": [
            "4.36 Star Wars (1977)\n",
            "4.20 Empire Strikes Back, The (1980)\n",
            "4.01 Return of the Jedi (1983)\n"
          ],
          "name": "stdout"
        }
      ]
    },
    {
      "cell_type": "markdown",
      "metadata": {
        "id": "_UY8-sX38DfI"
      },
      "source": [
        "試著提出一個模型為基準，再找出更好的結果  \r\n",
        "把評分資料切分成訓練組資料、驗證組資料、測試組資料"
      ]
    },
    {
      "cell_type": "code",
      "metadata": {
        "id": "tadqwAT4mpv1"
      },
      "source": [
        "import random\r\n",
        "random.seed(0)\r\n",
        "random.shuffle(list(ratings))\r\n",
        "\r\n",
        "split1 = int(len(ratings)*0.7)\r\n",
        "split2 = int(len(ratings)*0.85)\r\n",
        "\r\n",
        "train = list(ratings)[:split1]       # 占所有資料的 70%        \r\n",
        "validation = list(ratings)[split1:split2] # 占所有資料的 15%\r\n",
        "test = list(ratings)[split2:]       # 占所有資料的 15%"
      ],
      "execution_count": 30,
      "outputs": []
    },
    {
      "cell_type": "markdown",
      "metadata": {
        "id": "-zVuTKgPKCAj"
      },
      "source": [
        "### 以平均分數最為預測值  \r\n",
        "以**均方差**做為衡量方式"
      ]
    },
    {
      "cell_type": "code",
      "metadata": {
        "id": "AFqapenbKx4a"
      },
      "source": [
        "avg_rating = sum(rating.rating for rating in train)/ len(train)\r\n",
        "baseline_error = sum((rating.rating-avg_rating)**2 for rating in test) / len(test)\r\n",
        "\r\n",
        "assert 1.26 < baseline_error < 1.27"
      ],
      "execution_count": 31,
      "outputs": []
    },
    {
      "cell_type": "markdown",
      "metadata": {
        "id": "sW8ofu1xLVEB"
      },
      "source": [
        "### 內崁 (embedding)\r\n",
        "讓使用者內崁與電影內崁進行矩陣相乘 → 預測的評分結果"
      ]
    },
    {
      "cell_type": "code",
      "metadata": {
        "id": "IKo_NO-0Ueov"
      },
      "source": [
        "import random\r\n",
        "import math\r\n",
        "\r\n",
        "Tensor = list\r\n",
        "\r\n",
        "SQRT_TWO_PI = math.sqrt(2* math.pi)\r\n",
        "\r\n",
        "def normal_pdf(x:float,mu:float=0,sigma:float=1) ->float:\r\n",
        "  return (math.exp(-(x-mu)**2/2/sigma**2)/(SQRT_TWO_PI*sigma))\r\n",
        "\r\n",
        "def normal_cdf(x:float,mu:float=0,sigma:float=1)->float:\r\n",
        "  return (1+math.erf((x-mu)/math.sqrt(2)/sigma))/2\r\n",
        "\r\n",
        "def inverse_normal_cdf(p:float,\r\n",
        "            mu:float = 0,\r\n",
        "            sigma:float = 1,\r\n",
        "            tolerance:float=0.00001) -> float:\r\n",
        "  # 如果不是標準常態分佈，就先轉換成標準常態分佈\r\n",
        "  if mu != 0 or sigma != 1:\r\n",
        "    return mu + sigma*inverse_normal_cdf(p,tolerance = tolerance)\r\n",
        "  \r\n",
        "  low_z = -10.0 # normal_cdf(-10)是(趨近於) 0\r\n",
        "  hi_z =  10.0 # normal_cdf(10)是(趨近於) 1\r\n",
        "  while hi_z - low_z > tolerance:  \r\n",
        "    mid_z = (low_z + hi_z) / 2   # 計算出中間值\r\n",
        "    mid_p = normal_cdf(mid_z)     # 以及累積分佈函數在該處所應對的值\r\n",
        "    if mid_p < p :\r\n",
        "      low_z = mid_z        #中間的值太低，就往上繼續搜尋\r\n",
        "    else:\r\n",
        "      hi_z = mid_z        #中間的值太高，就往下繼續搜尋\r\n",
        "  \r\n",
        "  return mid_z"
      ],
      "execution_count": 32,
      "outputs": []
    },
    {
      "cell_type": "code",
      "metadata": {
        "id": "aW2Vn3UhJ_Qz"
      },
      "source": [
        "# 自[0,1]的隨機分布中選擇初始值\r\n",
        "def random_uniform(*dims:int) ->Tensor:\r\n",
        "  if len(dims) == 1:\r\n",
        "    return [random.random() for _ in range(dims[0])]\r\n",
        "  else:\r\n",
        "    return [random_uniform(*dims[1:]) for _ in range(dims[0])]\r\n",
        "\r\n",
        "# 自標準常態分布中選擇初始值\r\n",
        "def random_normal(*dims:int,mean:float=0.0,variance:float=1.0) ->Tensor:\r\n",
        "  if len(dims) == 1:\r\n",
        "    return [mean + variance * inverse_normal_cdf(random.random()) for _ in range(dims[0])]\r\n",
        "  else:\r\n",
        "    return [random_normal(*dims[1:],mean=mean,variance=variance) for _ in range(dims[0])]\r\n",
        "  "
      ],
      "execution_count": 33,
      "outputs": []
    },
    {
      "cell_type": "code",
      "metadata": {
        "id": "0VBwpJI8Tfrw"
      },
      "source": [
        "def random_tensor(*dims:int,init:str = 'normal')->Tensor:\r\n",
        "  if init == 'normal':\r\n",
        "    return random_normal(*dims) # 自[0,1]的隨機分布中選擇初始值\r\n",
        "  elif init == 'uniform':\r\n",
        "    return random_uniform(*dims) # 自標準常態分布中選擇初始值\r\n",
        "  elif init == 'xavier': \r\n",
        "    variance = len(dims)/sum(dims)\r\n",
        "    return random_normal(*dims,variance=variance) #使用「Xavier initialization」，其中每個權重為平均是0，變異量為2/(num_inputs+num_outputs)的標準常態分布中選擇初始值\r\n",
        "  else:\r\n",
        "    raise ValueError(f\"unknown init: {init}\")"
      ],
      "execution_count": 34,
      "outputs": []
    },
    {
      "cell_type": "code",
      "metadata": {
        "id": "mOH8RmkLNAkL"
      },
      "source": [
        "EMBEDDING_DIM = 2\r\n",
        "\r\n",
        "# 找出所有不重複的編號\r\n",
        "user_ids = {rating.user_id for rating in ratings}\r\n",
        "movie_ids = {rating.movie_id for rating in ratings}\r\n",
        "\r\n",
        "#針對每個編號，建立相應的隨機向量\r\n",
        "user_vectors = {user_id:random_tensor(EMBEDDING_DIM) for user_id in user_ids}\r\n",
        "movie_vectors = {movie_id:random_tensor(EMBEDDING_DIM) for movie_id in movie_ids}"
      ],
      "execution_count": 35,
      "outputs": []
    },
    {
      "cell_type": "markdown",
      "metadata": {
        "id": "vOcSIZggN96p"
      },
      "source": [
        "編寫訓練迴圈："
      ]
    },
    {
      "cell_type": "code",
      "metadata": {
        "id": "yRHeLbfXOETQ"
      },
      "source": [
        "from typing import List\r\n",
        "import tqdm\r\n",
        "\r\n",
        "def loop(dataset:List[Rating],learning_rate:float=None) -> None:\r\n",
        "  with tqdm.tqdm(dataset) as t:\r\n",
        "    loss = 0.0\r\n",
        "    for i,rating in enumerate(t):\r\n",
        "      movie_vector = movie_vectors[rating.movie_id]\r\n",
        "      user_vector = user_vectors[rating.user_id]\r\n",
        "      predicted = dot(user_vector,movie_vector)\r\n",
        "      error = predicted - rating.rating\r\n",
        "      loss += error**2\r\n",
        "    \r\n",
        "    if learning_rate is not None:\r\n",
        "      # 預測值 = _m_0*u_0 + ... + m_k*u_k\r\n",
        "      # 其中每個 u_j 的係數為 m_j\r\n",
        "      # 每個 m_j 的係數則為 u_j\r\n",
        "      user_gradient = [error*m_j for m_j in movie_vector]\r\n",
        "      movie_gradient = [error*u_j for u_j in movie_vector]\r\n",
        "\r\n",
        "      # 進行梯度遞減步驟\r\n",
        "      for j in range(EMBEDDING_DIM):\r\n",
        "        user_vector[j] -= learning_rate*user_gradient[j]\r\n",
        "        movie_vector[j] -= learning_rate*movie_gradient[j]\r\n",
        "    \r\n",
        "    t.set_description(f\"ang loss: {loss/(i+1)}\")\r\n"
      ],
      "execution_count": 36,
      "outputs": []
    },
    {
      "cell_type": "markdown",
      "metadata": {
        "id": "mFCYt9yzL6z4"
      },
      "source": [
        "開始訓練模型(找出最佳內崁)"
      ]
    },
    {
      "cell_type": "code",
      "metadata": {
        "colab": {
          "base_uri": "https://localhost:8080/"
        },
        "id": "9NzSeOTywiKZ",
        "outputId": "e87066e4-64de-4e64-a254-8a4a805cb655"
      },
      "source": [
        "learning_rate = 0.05\r\n",
        "for epoch in range(20):\r\n",
        "  learning_rate *= 0.9\r\n",
        "  print(epoch,learning_rate)\r\n",
        "  loop(train,learning_rate=learning_rate)\r\n",
        "  loop(validation)\r\n",
        "\r\n",
        "loop(test)"
      ],
      "execution_count": 37,
      "outputs": [
        {
          "output_type": "stream",
          "text": [
            "100%|██████████| 70000/70000 [00:00<00:00, 394121.07it/s]\n",
            "  0%|          | 0/15000 [00:00<?, ?it/s]"
          ],
          "name": "stderr"
        },
        {
          "output_type": "stream",
          "text": [
            "0 0.045000000000000005\n"
          ],
          "name": "stdout"
        },
        {
          "output_type": "stream",
          "text": [
            "100%|██████████| 15000/15000 [00:00<00:00, 368993.86it/s]\n",
            "100%|██████████| 70000/70000 [00:00<00:00, 458903.29it/s]\n",
            "  0%|          | 0/15000 [00:00<?, ?it/s]"
          ],
          "name": "stderr"
        },
        {
          "output_type": "stream",
          "text": [
            "1 0.04050000000000001\n"
          ],
          "name": "stdout"
        },
        {
          "output_type": "stream",
          "text": [
            "100%|██████████| 15000/15000 [00:00<00:00, 344043.57it/s]\n",
            "100%|██████████| 70000/70000 [00:00<00:00, 382025.72it/s]\n",
            "  0%|          | 0/15000 [00:00<?, ?it/s]"
          ],
          "name": "stderr"
        },
        {
          "output_type": "stream",
          "text": [
            "2 0.03645000000000001\n"
          ],
          "name": "stdout"
        },
        {
          "output_type": "stream",
          "text": [
            "100%|██████████| 15000/15000 [00:00<00:00, 369112.93it/s]\n",
            "100%|██████████| 70000/70000 [00:00<00:00, 473235.22it/s]\n",
            "100%|██████████| 15000/15000 [00:00<00:00, 375374.00it/s]\n"
          ],
          "name": "stderr"
        },
        {
          "output_type": "stream",
          "text": [
            "3 0.03280500000000001\n",
            "4 0.02952450000000001\n"
          ],
          "name": "stdout"
        },
        {
          "output_type": "stream",
          "text": [
            "100%|██████████| 70000/70000 [00:00<00:00, 463480.22it/s]\n",
            "100%|██████████| 15000/15000 [00:00<00:00, 357885.95it/s]\n",
            "  0%|          | 0/70000 [00:00<?, ?it/s]"
          ],
          "name": "stderr"
        },
        {
          "output_type": "stream",
          "text": [
            "5 0.02657205000000001\n"
          ],
          "name": "stdout"
        },
        {
          "output_type": "stream",
          "text": [
            "100%|██████████| 70000/70000 [00:00<00:00, 415800.46it/s]\n",
            "100%|██████████| 15000/15000 [00:00<00:00, 413329.65it/s]\n",
            "100%|██████████| 70000/70000 [00:00<00:00, 467663.18it/s]\n",
            "100%|██████████| 15000/15000 [00:00<00:00, 419248.73it/s]\n",
            "  0%|          | 0/70000 [00:00<?, ?it/s]"
          ],
          "name": "stderr"
        },
        {
          "output_type": "stream",
          "text": [
            "6 0.02391484500000001\n",
            "7 0.021523360500000012\n"
          ],
          "name": "stdout"
        },
        {
          "output_type": "stream",
          "text": [
            "100%|██████████| 70000/70000 [00:00<00:00, 442199.24it/s]\n",
            "100%|██████████| 15000/15000 [00:00<00:00, 379542.96it/s]\n",
            "100%|██████████| 70000/70000 [00:00<00:00, 470416.87it/s]\n",
            "100%|██████████| 15000/15000 [00:00<00:00, 421487.26it/s]\n",
            "  0%|          | 0/70000 [00:00<?, ?it/s]"
          ],
          "name": "stderr"
        },
        {
          "output_type": "stream",
          "text": [
            "8 0.01937102445000001\n",
            "9 0.01743392200500001\n"
          ],
          "name": "stdout"
        },
        {
          "output_type": "stream",
          "text": [
            "100%|██████████| 70000/70000 [00:00<00:00, 454407.44it/s]\n",
            "100%|██████████| 15000/15000 [00:00<00:00, 433540.70it/s]\n",
            "100%|██████████| 70000/70000 [00:00<00:00, 437619.10it/s]\n",
            "  0%|          | 0/15000 [00:00<?, ?it/s]"
          ],
          "name": "stderr"
        },
        {
          "output_type": "stream",
          "text": [
            "10 0.015690529804500006\n"
          ],
          "name": "stdout"
        },
        {
          "output_type": "stream",
          "text": [
            "100%|██████████| 15000/15000 [00:00<00:00, 346127.51it/s]\n",
            "100%|██████████| 70000/70000 [00:00<00:00, 479375.64it/s]\n",
            "100%|██████████| 15000/15000 [00:00<00:00, 424579.13it/s]\n",
            "  0%|          | 0/70000 [00:00<?, ?it/s]"
          ],
          "name": "stderr"
        },
        {
          "output_type": "stream",
          "text": [
            "11 0.014121476824050006\n",
            "12 0.012709329141645007\n"
          ],
          "name": "stdout"
        },
        {
          "output_type": "stream",
          "text": [
            "100%|██████████| 70000/70000 [00:00<00:00, 451009.44it/s]\n",
            "100%|██████████| 15000/15000 [00:00<00:00, 346396.22it/s]\n",
            "100%|██████████| 70000/70000 [00:00<00:00, 446871.50it/s]\n",
            "100%|██████████| 15000/15000 [00:00<00:00, 417111.26it/s]\n",
            "  0%|          | 0/70000 [00:00<?, ?it/s]"
          ],
          "name": "stderr"
        },
        {
          "output_type": "stream",
          "text": [
            "13 0.011438396227480507\n",
            "14 0.010294556604732457\n"
          ],
          "name": "stdout"
        },
        {
          "output_type": "stream",
          "text": [
            "100%|██████████| 70000/70000 [00:00<00:00, 462673.15it/s]\n",
            "100%|██████████| 15000/15000 [00:00<00:00, 379767.48it/s]\n",
            "100%|██████████| 70000/70000 [00:00<00:00, 446821.86it/s]\n",
            "100%|██████████| 15000/15000 [00:00<00:00, 445296.17it/s]\n"
          ],
          "name": "stderr"
        },
        {
          "output_type": "stream",
          "text": [
            "15 0.00926510094425921\n",
            "16 0.00833859084983329\n"
          ],
          "name": "stdout"
        },
        {
          "output_type": "stream",
          "text": [
            "100%|██████████| 70000/70000 [00:00<00:00, 444814.03it/s]\n",
            "100%|██████████| 15000/15000 [00:00<00:00, 421730.24it/s]\n",
            "100%|██████████| 70000/70000 [00:00<00:00, 435947.19it/s]\n",
            "  0%|          | 0/15000 [00:00<?, ?it/s]"
          ],
          "name": "stderr"
        },
        {
          "output_type": "stream",
          "text": [
            "17 0.007504731764849962\n"
          ],
          "name": "stdout"
        },
        {
          "output_type": "stream",
          "text": [
            "100%|██████████| 15000/15000 [00:00<00:00, 423151.31it/s]\n",
            "100%|██████████| 70000/70000 [00:00<00:00, 478361.85it/s]\n",
            "100%|██████████| 15000/15000 [00:00<00:00, 417147.21it/s]\n",
            "  0%|          | 0/70000 [00:00<?, ?it/s]"
          ],
          "name": "stderr"
        },
        {
          "output_type": "stream",
          "text": [
            "18 0.006754258588364966\n",
            "19 0.00607883272952847\n"
          ],
          "name": "stdout"
        },
        {
          "output_type": "stream",
          "text": [
            "100%|██████████| 70000/70000 [00:00<00:00, 439777.00it/s]\n",
            "100%|██████████| 15000/15000 [00:00<00:00, 403254.52it/s]\n",
            "100%|██████████| 15000/15000 [00:00<00:00, 321792.21it/s]\n"
          ],
          "name": "stderr"
        }
      ]
    },
    {
      "cell_type": "markdown",
      "metadata": {
        "id": "QRYRm-VtysuJ"
      },
      "source": [
        "### 運用主成分分析\r\n",
        "檢查一下學習所得的向量"
      ]
    },
    {
      "cell_type": "code",
      "metadata": {
        "id": "5CTr5DaWy2kv"
      },
      "source": [
        "import math\r\n",
        "from typing import List\r\n",
        "Vector = List[float]\r\n",
        "\r\n",
        "def add( v:Vector, w:Vector) -> Vector:\r\n",
        "  assert len(v) == len(w) ,\"兩個向量必須有相同的維度\"\r\n",
        "\r\n",
        "  return [ v_i+w_i for v_i,w_i in zip(v,w)]\r\n",
        "\r\n",
        "def subtrate( v:Vector, w:Vector) -> Vector:\r\n",
        "  assert len(v) == len(w) #兩個向量必須有相同的維度\r\n",
        "\r\n",
        "  return [ v_i-w_i for v_i,w_i in zip(v,w)]\r\n",
        "\r\n",
        "def magnitude(v:Vector)->float:\r\n",
        "  return math.sqrt(sum_of_squares(v)) #math.sqrt 是計算平方根的一個函式\r\n",
        "\r\n",
        "def sum_of_squares(v:Vector) -> float:\r\n",
        "  return dot(v,v)\r\n",
        "\r\n",
        "def scalar_multiply(c:float,v:Vector) -> Vector:\r\n",
        "  return [c*v_i for v_i in v]\r\n",
        "\r\n",
        "def project(v:Vector,w:Vector)->Vector:\r\n",
        "  \"\"\"送回v分量在w這個方向上的分量\"\"\"\r\n",
        "  projection_length = dot(v,w)\r\n",
        "  return scalar_multiply(projection_length,w)\r\n",
        "\r\n",
        "def gradient_step(v:Vector,gradient:Vector,step_size:float) -> Vector:\r\n",
        "  \"\"\"從v沿著gradient的方向移動step_size的距離\"\"\"\r\n",
        "  assert len(v) == len(gradient)\r\n",
        "  step = scalar_multiply(step_size,gradient)\r\n",
        "  return add(v,step)\r\n",
        "\r\n",
        "def direction(w:Vector) ->Vector:\r\n",
        "  mag = magnitude(w)\r\n",
        "  return [w_i/mag for w_i in w]\r\n",
        "\r\n",
        "def directional_variance_gradient(data:List[Vector],w:Vector) ->Vector:\r\n",
        "  \"\"\"\r\n",
        "  變異量相當於w這個方向的梯度\r\n",
        "  \"\"\"\r\n",
        "  w_dir = direction(w)\r\n",
        "  return [sum(2*dot(v,w_dir)*v[i] for v in data) for i in range(len(w))]\r\n",
        "\r\n",
        "def directional_variance(data:List[Vector],w:Vector) ->float:\r\n",
        "  \"\"\"\r\n",
        "  送回x在w這個方向上的變異量\r\n",
        "  \"\"\"\r\n",
        "  w_dir = direction(w)\r\n",
        "  return sum(dot(v,w_dir)**2 for v in data)\r\n",
        "\r\n",
        "import tqdm\r\n",
        "def first_principal_component(data:List[Vector],n:int=100,step_size:float=0.1)->Vector:\r\n",
        "  #先從一個隨機的起始點開始\r\n",
        "  guess=[1.0 for _ in data[0]]\r\n",
        "\r\n",
        "  with tqdm.trange(n) as t:\r\n",
        "    for _ in t:\r\n",
        "      dv = directional_variance(data,guess)\r\n",
        "      gradient = directional_variance_gradient(data,guess)\r\n",
        "      guess = gradient_step(guess,gradient,step_size)\r\n",
        "      t.set_description(f\"dv:{dv:.3f}\")\r\n",
        "    return direction(guess)\r\n",
        "\r\n",
        "def pca(data:List[Vector],num_components:int)->List[Vector]:\r\n",
        "  components:List[Vector]=[]\r\n",
        "  for _ in range(num_components):\r\n",
        "    component = first_principal_component(data)\r\n",
        "    components.append(component)\r\n",
        "    data = remove_projection(data,component)\r\n",
        "  return components\r\n",
        "\r\n",
        "def transform_vector(v:Vector,component:List[Vector]) ->Vector:\r\n",
        "  return[dot(v,w) for w in components]\r\n",
        "\r\n",
        "def transform(data:List[Vector],components:List[Vector])->List[Vector]:\r\n",
        "  return [transform_vector(v,components) for v in data]\r\n",
        "\r\n",
        "def remove_projection_from_vector(v:Vector,w:Vector) ->Vector:\r\n",
        "  \"\"\"把v減去v投影在w上的分量\"\"\"\r\n",
        "  return subtrate(v,project(v,w))\r\n",
        "\r\n",
        "def remove_projection(data:List[Vector],w:Vector) ->List[Vector]:\r\n",
        "  return [remove_projection_from_vector(v,w) for v in data]"
      ],
      "execution_count": 40,
      "outputs": []
    },
    {
      "cell_type": "code",
      "metadata": {
        "colab": {
          "base_uri": "https://localhost:8080/"
        },
        "id": "-5xNG1kf1BYD",
        "outputId": "2c73af14-d5d2-4fb0-b6b4-bf98230f11c6"
      },
      "source": [
        "original_vectors = [vector for vector in movie_vectors.values()]\r\n",
        "components = pca(original_vectors,2)"
      ],
      "execution_count": 41,
      "outputs": [
        {
          "output_type": "stream",
          "text": [
            "dv:1674.898: 100%|██████████| 100/100 [00:00<00:00, 107.48it/s]\n",
            "dv:1614.672: 100%|██████████| 100/100 [00:00<00:00, 103.15it/s]\n"
          ],
          "name": "stderr"
        }
      ]
    },
    {
      "cell_type": "markdown",
      "metadata": {
        "id": "AHFML6FLGs1a"
      },
      "source": [
        "將向量轉換一下，使其呈現主成分的效果"
      ]
    },
    {
      "cell_type": "code",
      "metadata": {
        "colab": {
          "base_uri": "https://localhost:8080/"
        },
        "id": "7vE6x8n_GzZm",
        "outputId": "31d433f0-1aec-41eb-eda0-8a67735536b7"
      },
      "source": [
        "ratings_by_movie = defaultdict(list)\r\n",
        "for rating in ratings:\r\n",
        "  ratings_by_movie[rating.movie_id].append(rating.rating)\r\n",
        "\r\n",
        "vectors = [\r\n",
        "      (movie_id,\r\n",
        "       sum(ratings_by_movie[movie_id])/len(ratings_by_movie[movie_id]),\r\n",
        "       movies[movie_id],\r\n",
        "       vector)\r\n",
        "      for movie_id,vector in zip(movie_vectors.keys(),transform(original_vectors,components))\r\n",
        "      ]\r\n",
        "\r\n",
        "# 根據第一主成分，把前25與倒數25個結果列印出來  \r\n",
        "print(sorted(vectors,key=lambda v:v[-1][0])[:25])\r\n",
        "print(sorted(vectors,key=lambda v:v[-1][0])[-25:])"
      ],
      "execution_count": 46,
      "outputs": [
        {
          "output_type": "stream",
          "text": [
            "[(395, 2.5892857142857144, 'Robin Hood: Men in Tights (1993)', [-3.950795442794101, -0.5972387433622903]), (800, 2.8846153846153846, 'In the Mouth of Madness (1995)', [-3.482077904648418, 1.2909615036381004]), (266, 2.7142857142857144, 'Kull the Conqueror (1997)', [-3.120470415450472, 0.07075116632325518]), (649, 3.4, 'Once Upon a Time in America (1984)', [-3.0205481874593563, -0.5167431667835751]), (1177, 1.8571428571428572, 'Dunston Checks In (1996)', [-2.826305223855793, 0.093467339115056]), (256, 3.5625, 'When the Cats Away (Chacun cherche son chat) (1996)', [-2.7944556913995084, -3.1269782320405706]), (336, 2.627906976744186, 'Playing God (1997)', [-2.7878495544438175, 0.9343730224366817]), (282, 3.685344827586207, 'Time to Kill, A (1996)', [-2.7668219537049374, -0.019320809815742912]), (359, 3.5, 'Assignment, The (1997)', [-2.684467130848594, -0.5143213056750233]), (261, 2.558139534883721, 'Air Bud (1997)', [-2.6581573658077904, 0.9158483447399699]), (367, 3.458823529411765, 'Clueless (1995)', [-2.5759145551599545, -0.25066523127661466]), (628, 3.514792899408284, 'Sleepers (1996)', [-2.574313505881411, 1.3382033133464333]), (1208, 2.85, 'Kiss of Death (1995)', [-2.5176754478686987, -0.5543255824015065]), (1552, 2.0, 'Hunted, The (1995)', [-2.4829904217208254, 0.29964514197680847]), (1294, 3.142857142857143, 'Ayn Rand: A Sense of Life (1997)', [-2.428688891050732, 0.6609031114977753]), (47, 3.601503759398496, 'Ed Wood (1994)', [-2.407592499851636, 0.23773200998771338]), (1606, 2.0, 'Deceiver (1997)', [-2.340534147095376, -0.44351340257245453]), (1446, 3.1333333333333333, 'Bye Bye, Love (1995)', [-2.3310471398221546, -0.7772292490852536]), (305, 3.6436781609195403, 'Ice Storm, The (1997)', [-2.304752076632164, 1.9092824653115186]), (661, 4.1022727272727275, 'High Noon (1952)', [-2.243059827123793, 0.90338955914612]), (1570, 1.0, 'Quartier Mozart (1992)', [-2.240920209027367, -0.4289235957195715]), (560, 2.727272727272727, \"Kid in King Arthur's Court, A (1995)\", [-2.2360595249651514, -2.4575531483892075]), (598, 2.25, 'Big Squeeze, The (1996)', [-2.216554328193115, 0.38979326970868544]), (49, 3.3209876543209877, 'I.Q. (1994)', [-2.1875222112211175, -0.5447868225564259]), (220, 3.3636363636363638, 'Mirror Has Two Faces, The (1996)', [-2.1764789053317286, -1.1535235340828316])]\n",
            "[(1523, 3.0, 'Good Man in Africa, A (1994)', [2.181953823962295, -1.7958644494843694]), (1368, 3.6666666666666665, 'Mina Tannenbaum (1994)', [2.194690925729555, -1.3069150768585447]), (1467, 5.0, 'Saint of Fort Washington, The (1993)', [2.219588918466755, -1.3152479468143916]), (325, 2.546875, 'Crash (1996)', [2.272127997795563, 0.8895005956676848]), (324, 3.136, 'Lost Highway (1997)', [2.284099721068896, -1.2784923691909278]), (854, 3.375, 'Bad Taste (1987)', [2.2959882921567725, 1.865441262947141]), (111, 3.485294117647059, 'Truth About Cats & Dogs, The (1996)', [2.3366614341338363, 1.360840989052337]), (910, 2.0, 'Nil By Mouth (1997)', [2.4399177266021406, -0.4222803722664451]), (1469, 3.1666666666666665, 'Tom and Huck (1995)', [2.4491031370632363, 0.7944654474528507]), (555, 2.0, \"White Man's Burden (1995)\", [2.4544197343184617, -0.345414052053164]), (473, 3.126984126984127, 'James and the Giant Peach (1996)', [2.531885861967403, 1.2353018086235565]), (873, 2.962962962962963, 'Picture Perfect (1997)', [2.565749270070677, -0.7599623887311164]), (1155, 3.3333333333333335, 'Rendezvous in Paris (Rendez-vous de Paris, Les) (1995)', [2.571402862017355, -1.0366544830611306]), (1605, 3.0, 'Love Serenade (1996)', [2.619606790733143, -1.2758129462317735]), (217, 3.158333333333333, \"Bram Stoker's Dracula (1992)\", [2.684474246314257, 0.7067981881001417]), (1432, 1.0, 'Mighty, The (1998)', [2.7000042514790357, 0.6285539151660287]), (17, 3.119565217391304, 'From Dusk Till Dawn (1996)', [2.7079789429651067, 1.397887355832206]), (1476, 2.0, 'Raw Deal (1948)', [2.7191739716041523, -0.320376627530939]), (123, 3.234782608695652, 'Frighteners, The (1996)', [2.7260675755969013, -1.3195990912773368]), (716, 3.1551724137931036, 'Home for the Holidays (1995)', [2.7467027369504473, -0.08882974970081259]), (1399, 2.4285714285714284, 'Stranger in the House (1997)', [2.7540733522099186, -1.5668424804987076]), (825, 3.036144578313253, 'Arrival, The (1996)', [2.8375710077204936, -0.15575802385220183]), (69, 3.853582554517134, 'Forrest Gump (1994)', [2.9347185682957537, -0.5350662434443363]), (1488, 3.0, 'Germinal (1993)', [2.9602174323675294, -0.3416561818210093]), (582, 3.6011904761904763, 'Piano, The (1993)', [3.497933363491458, 0.7208132729211829])]\n"
          ],
          "name": "stdout"
        }
      ]
    }
  ]
}