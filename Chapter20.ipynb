{
  "nbformat": 4,
  "nbformat_minor": 0,
  "metadata": {
    "colab": {
      "name": "Chapter20.ipynb",
      "provenance": [],
      "authorship_tag": "ABX9TyPNsFtfjsUaHzcREaiI9lkm",
      "include_colab_link": true
    },
    "kernelspec": {
      "name": "python3",
      "display_name": "Python 3"
    }
  },
  "cells": [
    {
      "cell_type": "markdown",
      "metadata": {
        "id": "view-in-github",
        "colab_type": "text"
      },
      "source": [
        "<a href=\"https://colab.research.google.com/github/hank199599/data_science_from_scratch_reading_log/blob/main/Chapter20.ipynb\" target=\"_parent\"><img src=\"https://colab.research.google.com/assets/colab-badge.svg\" alt=\"Open In Colab\"/></a>"
      ]
    },
    {
      "cell_type": "markdown",
      "metadata": {
        "id": "Lgmuj2wgZLpv"
      },
      "source": [
        "# 集群 (Clusering) → 非監督式學習(unsupervised learning)\r\n",
        "沒有哪一種區分方式是一定正確的，  \r\n",
        "區分方式端看是否符合區分者的**需求**而定。"
      ]
    },
    {
      "cell_type": "markdown",
      "metadata": {
        "id": "3eGqf0yH-xGM"
      },
      "source": [
        "# 模型\r\n",
        "每個都是d維空間的一個向量，  \r\n",
        "世個資料點分配到人個集群中,方法非常 之多,這也就表示要找出最佳化的集 是一個非常国離的問題,我們經常會採用一種送代演算法,它通常可以得出相然不 群是 :\r\n",
        "\r\n",
        "1. 一開始先從維空即中選出k個資料點,做為集群的大平均值(k-means).\r\n",
        "2. 把其餘的部個資料點,分配給距離最近的平均值。\r\n",
        "3. 如果資科點的分配結集已裡不再變動,就停止下來,並以目前分配的集非故乡作奖 4.如果分配结果仍在變動,就重新計算平均值,然後回到步。2.\r\n",
        "\r\n",
        "只要運用「第4章:線性代數」的 Vector_mean 函式,建立一個物件類別來進行這項工作 整件事就變得提孤單了,"
      ]
    },
    {
      "cell_type": "code",
      "metadata": {
        "id": "mWyI25qhGPfT"
      },
      "source": [
        "from typing import List\r\n",
        "\r\n",
        "Vector = List[float]\r\n",
        "\r\n",
        "def num_differences(v1:Vector,v2:Vector)->int:\r\n",
        "  assert len(v1) == len(v2)\r\n",
        "  return len([x1 for x1,x2 in zip(v1,v2) if x1 != x2])\r\n",
        "\r\n",
        "def scalar_multiply(c:float,v:Vector) -> Vector:\r\n",
        "  return [c*v_i for v_i in v]\r\n",
        "\r\n",
        "def vector_sum(vectors:List[Vector]) -> Vector:\r\n",
        "  #先檢查vertors這個向量列表是否為空\r\n",
        "  assert vectors,\"列表中沒有向量!\"\r\n",
        "\r\n",
        "  #檢查vertors 向量列表內的所有向量都具有相同的維度\r\n",
        "  num_elements=len(vectors[0])\r\n",
        "  assert all(len(v)==num_elements for v in vectors),\"向量維度不一致\"\r\n",
        "\r\n",
        "  #所有vectors[i]相加起來，是結果的第i個元素值\r\n",
        "  return [sum(vector[i] for vector in vectors) for i in range(num_elements)]\r\n",
        "\r\n",
        "def subtrate( v:Vector, w:Vector) -> Vector:\r\n",
        "  assert len(v) == len(w) #兩個向量必須有相同的維度\r\n",
        "\r\n",
        "  return [ v_i-w_i for v_i,w_i in zip(v,w)]\r\n",
        "\r\n",
        "def sum_of_squares(v:Vector) -> float:\r\n",
        "  return dot(v,v)\r\n",
        "\r\n",
        "def dot(v:Vector,w:Vector)->float:\r\n",
        "  #計算v_1*w_1+... +v_n*w_n\r\n",
        "  assert len(v)==len(w),\"兩個向量必須有相同的維度\"\r\n",
        "\r\n",
        "  return sum(v_i*w_i for v_i,w_i in zip(v,w))"
      ],
      "execution_count": 11,
      "outputs": []
    },
    {
      "cell_type": "code",
      "metadata": {
        "id": "w4ADjVExBFOh"
      },
      "source": [
        "assert num_differences([1,2,3],[2,1,3]) == 2"
      ],
      "execution_count": 12,
      "outputs": []
    },
    {
      "cell_type": "code",
      "metadata": {
        "id": "pP9JxXlMCuSt"
      },
      "source": [
        "assert num_differences([1,2],[1,2]) == 0"
      ],
      "execution_count": 13,
      "outputs": []
    },
    {
      "cell_type": "markdown",
      "metadata": {
        "id": "E6P6EhRNhrWS"
      },
      "source": [
        "### 建立函式：  \r\n",
        "* 給定一堆向量以及各向量所對應的集群 → 計算各集群的平均值"
      ]
    },
    {
      "cell_type": "code",
      "metadata": {
        "id": "aL6slXvJhr7j"
      },
      "source": [
        "\r\n",
        "def vector_mean(vectors:List[Vector])->Vector:\r\n",
        "  n=len(vectors)\r\n",
        "  return scalar_multiply(1/n,vector_sum(vectors))\r\n",
        "\r\n",
        "def cluster_means(k:int,inputs:List[Vector],assignments:List[int]) ->List[Vector]:\r\n",
        "\r\n",
        "  # clusters[i] 包含的是分配給集群i的輸入資料點\r\n",
        "  clusters = [[] for i in range(k)]\r\n",
        "\r\n",
        "  for input,assignment in zip(inputs,assignments):\r\n",
        "    clusters[assignment].append(input)\r\n",
        "  \r\n",
        "  # 如果集群是空的，就用一個隨機點來做為其代表\r\n",
        "  return [vector_mean(cluster) if cluster else random.choice(inputs) for cluster in clusters]"
      ],
      "execution_count": 14,
      "outputs": []
    },
    {
      "cell_type": "markdown",
      "metadata": {
        "id": "O3UgGICSkckY"
      },
      "source": [
        "### 集群處理的程式碼"
      ]
    },
    {
      "cell_type": "code",
      "metadata": {
        "id": "U8f7-v3rkcz8"
      },
      "source": [
        "import itertools\r\n",
        "import random\r\n",
        "import tqdm\r\n",
        "\r\n",
        "def squared_distance(v:Vector,w:Vector) -> float:\r\n",
        "  return sum_of_squares(subtrate(v,w))"
      ],
      "execution_count": 15,
      "outputs": []
    },
    {
      "cell_type": "code",
      "metadata": {
        "id": "fpSzgFEGmV6Q"
      },
      "source": [
        "class KMeans:\r\n",
        "  def __init__(self,k:int)->None:\r\n",
        "    self.k = k\r\n",
        "    self.means = None\r\n",
        "  \r\n",
        "  def classify(self,input:Vector)->int:\r\n",
        "    \"\"\"送回最接近輸入的集群索引值\"\"\"\r\n",
        "    return min(range(self.k),key=lambda i:squared_distance(input,self.means[i]))\r\n",
        "  \r\n",
        "  def train(self,inputs:List[Vector])->None:\r\n",
        "    # 一開始先以隨機的方式，把輸入分配到各個集群中\r\n",
        "    assignments = [random.randrange(self.k) for _ in inputs]\r\n",
        "\r\n",
        "    with tqdm.tqdm(itertools.count()) as t:\r\n",
        "      for _ in t:\r\n",
        "        # 計算平均值並找出新的集群分配結果\r\n",
        "        self.means = cluster_means(self.k,inputs,assignments)\r\n",
        "        new_assigments = [self.classify(input) for input in inputs]\r\n",
        "\r\n",
        "        # 檢查有幾個分配結果出現變化，並判斷是否已經完成\r\n",
        "        num_changed = num_differences(assignments,new_assigments)\r\n",
        "        if num_changed == 0:\r\n",
        "          return\r\n",
        "        \r\n",
        "        # 如果尚未完成，就繼續重新分配集群，並計算新的平均值\r\n",
        "        assignments = new_assigments\r\n",
        "        self.means = cluster_means(self.k,inputs,assignments)\r\n",
        "        t.set_description(f\"change:{num_changed} / {len(inputs)}\")"
      ],
      "execution_count": 23,
      "outputs": []
    },
    {
      "cell_type": "markdown",
      "metadata": {
        "id": "E4COfYQTGthz"
      },
      "source": [
        "# 範例：聚會"
      ]
    },
    {
      "cell_type": "markdown",
      "metadata": {
        "id": "_Z6T7tbAFHeg"
      },
      "source": [
        "### 圖 20-1 你家鄉使用者的所在位置分布\r\n",
        "根據不同的觀察角度，可以看出有兩、三個集群。"
      ]
    },
    {
      "cell_type": "code",
      "metadata": {
        "colab": {
          "base_uri": "https://localhost:8080/",
          "height": 295
        },
        "id": "MQ0f9eMSFROI",
        "outputId": "c856c56d-1d8d-4ad8-8d7c-d739c9daf58f"
      },
      "source": [
        "from matplotlib import pyplot as plt\r\n",
        "\r\n",
        "inputs: List[List[float]] = [[-14,-5],[13,13],[20,23],[-19,-11],[-9,-16],[21,27],[-49,15],[26,13],[-46,5],[-34,-1],[11,15],[-49,0],[-22,-16],[19,28],[-12,-8],[-13,-19],[-41,8],[-11,-6],[-25,-9],[-18,-3]]\r\n",
        "\r\n",
        "xs = [row[0] for row in inputs]\r\n",
        "ys = [row[1] for row in inputs]\r\n",
        "\r\n",
        "plt.scatter(xs,ys)\r\n",
        "plt.title(\"User Locations\")\r\n",
        "plt.xlabel(\"blocks east of city center\")\r\n",
        "plt.ylabel(\"blocks north of city center\")\r\n",
        "plt.show()"
      ],
      "execution_count": 20,
      "outputs": [
        {
          "output_type": "display_data",
          "data": {
            "image/png": "[encoded data removed]",
            "text/plain": [
              "<Figure size 432x288 with 1 Axes>"
            ]
          },
          "metadata": {
            "tags": [],
            "needs_background": "light"
          }
        }
      ]
    },
    {
      "cell_type": "markdown",
      "metadata": {
        "id": "E6RJ_ppTNmKK"
      },
      "source": [
        "進行測試"
      ]
    },
    {
      "cell_type": "code",
      "metadata": {
        "colab": {
          "base_uri": "https://localhost:8080/"
        },
        "id": "OhGY5sRoNzV7",
        "outputId": "8df8fa5a-6845-4088-f54e-6591d140e1fe"
      },
      "source": [
        "random.seed(12)\r\n",
        "clusterer = KMeans(k=3)\r\n",
        "clusterer.train(inputs)\r\n",
        "means = sorted(clusterer.means)\r\n",
        "\r\n",
        "assert len(means) == 3"
      ],
      "execution_count": 25,
      "outputs": [
        {
          "output_type": "stream",
          "text": [
            "change:5 / 20: : 0it [00:00, ?it/s]\n"
          ],
          "name": "stderr"
        }
      ]
    },
    {
      "cell_type": "markdown",
      "metadata": {
        "id": "tJtRDNMFo0os"
      },
      "source": [
        "檢查平均值是否接近我們的預期"
      ]
    },
    {
      "cell_type": "code",
      "metadata": {
        "id": "mEBm-Mego0vt"
      },
      "source": [
        "assert squared_distance(means[0],[-44,5]) < 1\r\n",
        "assert squared_distance(means[1],[-16,-10]) < 1\r\n",
        "assert squared_distance(means[2],[18,20]) < 1"
      ],
      "execution_count": 26,
      "outputs": []
    },
    {
      "cell_type": "markdown",
      "metadata": {
        "id": "PA7ptoAppJ8V"
      },
      "source": [
        "### 圖 20-2 使用者所在的位置，被分成三個集群"
      ]
    },
    {
      "cell_type": "code",
      "metadata": {
        "colab": {
          "base_uri": "https://localhost:8080/",
          "height": 233
        },
        "id": "LRH1p428pV39",
        "outputId": "a5187506-23d6-40c0-e68f-aaf4af1abae1"
      },
      "source": [
        "from matplotlib import pyplot as plt\r\n",
        "\r\n",
        "inputs: List[List[float]] = [[-14,-5],[13,13],[20,23],[-19,-11],[-9,-16],[21,27],[-49,15],[26,13],[-46,5],[-34,-1],[11,15],[-49,0],[-22,-16],[19,28],[-12,-8],[-13,-19],[-41,8],[-11,-6],[-25,-9],[-18,-3]]\r\n",
        "\r\n",
        "xs = [row[0] for row in inputs]\r\n",
        "ys = [row[1] for row in inputs]\r\n",
        "\r\n",
        "for i, cluster, marker, color in zip([1, 2, 3],three_clusters,['D','o','*'],['r','g','b']):\r\n",
        "  xs, ys = zip(*cluster)  # magic unzipping trick\r\n",
        "  plt.scatter(xs, ys, color=color, marker=marker)\r\n",
        "  \r\n",
        "  # put a number at the mean of the cluster\r\n",
        "  x, y = vector_mean(cluster)\r\n",
        "  plt.plot(x, y, marker='$' + str(i) + '$', color='black')\r\n",
        "  \r\n",
        "\r\n",
        "# plt.show()\r\n",
        "    \r\n",
        "plt.title(\"User Locations -- 3 Bottom-Up Clusters, Min\")\r\n",
        "plt.xlabel(\"blocks east of city center\")\r\n",
        "plt.ylabel(\"blocks north of city center\")\r\n",
        "plt.show()"
      ],
      "execution_count": 28,
      "outputs": [
        {
          "output_type": "error",
          "ename": "NameError",
          "evalue": "ignored",
          "traceback": [
            "\u001b[0;31m---------------------------------------------------------------------------\u001b[0m",
            "\u001b[0;31mNameError\u001b[0m                                 Traceback (most recent call last)",
            "\u001b[0;32m<ipython-input-28-9f8e33f08478>\u001b[0m in \u001b[0;36m<module>\u001b[0;34m()\u001b[0m\n\u001b[1;32m      6\u001b[0m \u001b[0mys\u001b[0m \u001b[0;34m=\u001b[0m \u001b[0;34m[\u001b[0m\u001b[0mrow\u001b[0m\u001b[0;34m[\u001b[0m\u001b[0;36m1\u001b[0m\u001b[0;34m]\u001b[0m \u001b[0;32mfor\u001b[0m \u001b[0mrow\u001b[0m \u001b[0;32min\u001b[0m \u001b[0minputs\u001b[0m\u001b[0;34m]\u001b[0m\u001b[0;34m\u001b[0m\u001b[0;34m\u001b[0m\u001b[0m\n\u001b[1;32m      7\u001b[0m \u001b[0;34m\u001b[0m\u001b[0m\n\u001b[0;32m----> 8\u001b[0;31m \u001b[0;32mfor\u001b[0m \u001b[0mi\u001b[0m\u001b[0;34m,\u001b[0m \u001b[0mcluster\u001b[0m\u001b[0;34m,\u001b[0m \u001b[0mmarker\u001b[0m\u001b[0;34m,\u001b[0m \u001b[0mcolor\u001b[0m \u001b[0;32min\u001b[0m \u001b[0mzip\u001b[0m\u001b[0;34m(\u001b[0m\u001b[0;34m[\u001b[0m\u001b[0;36m1\u001b[0m\u001b[0;34m,\u001b[0m \u001b[0;36m2\u001b[0m\u001b[0;34m,\u001b[0m \u001b[0;36m3\u001b[0m\u001b[0;34m]\u001b[0m\u001b[0;34m,\u001b[0m\u001b[0mthree_clusters\u001b[0m\u001b[0;34m,\u001b[0m\u001b[0;34m[\u001b[0m\u001b[0;34m'D'\u001b[0m\u001b[0;34m,\u001b[0m\u001b[0;34m'o'\u001b[0m\u001b[0;34m,\u001b[0m\u001b[0;34m'*'\u001b[0m\u001b[0;34m]\u001b[0m\u001b[0;34m,\u001b[0m\u001b[0;34m[\u001b[0m\u001b[0;34m'r'\u001b[0m\u001b[0;34m,\u001b[0m\u001b[0;34m'g'\u001b[0m\u001b[0;34m,\u001b[0m\u001b[0;34m'b'\u001b[0m\u001b[0;34m]\u001b[0m\u001b[0;34m)\u001b[0m\u001b[0;34m:\u001b[0m\u001b[0;34m\u001b[0m\u001b[0;34m\u001b[0m\u001b[0m\n\u001b[0m\u001b[1;32m      9\u001b[0m   \u001b[0mxs\u001b[0m\u001b[0;34m,\u001b[0m \u001b[0mys\u001b[0m \u001b[0;34m=\u001b[0m \u001b[0mzip\u001b[0m\u001b[0;34m(\u001b[0m\u001b[0;34m*\u001b[0m\u001b[0mcluster\u001b[0m\u001b[0;34m)\u001b[0m  \u001b[0;31m# magic unzipping trick\u001b[0m\u001b[0;34m\u001b[0m\u001b[0;34m\u001b[0m\u001b[0m\n\u001b[1;32m     10\u001b[0m   \u001b[0mplt\u001b[0m\u001b[0;34m.\u001b[0m\u001b[0mscatter\u001b[0m\u001b[0;34m(\u001b[0m\u001b[0mxs\u001b[0m\u001b[0;34m,\u001b[0m \u001b[0mys\u001b[0m\u001b[0;34m,\u001b[0m \u001b[0mcolor\u001b[0m\u001b[0;34m=\u001b[0m\u001b[0mcolor\u001b[0m\u001b[0;34m,\u001b[0m \u001b[0mmarker\u001b[0m\u001b[0;34m=\u001b[0m\u001b[0mmarker\u001b[0m\u001b[0;34m)\u001b[0m\u001b[0;34m\u001b[0m\u001b[0;34m\u001b[0m\u001b[0m\n",
            "\u001b[0;31mNameError\u001b[0m: name 'three_clusters' is not defined"
          ]
        }
      ]
    },
    {
      "cell_type": "markdown",
      "metadata": {
        "id": "ELrYDnHupZGI"
      },
      "source": [
        "### 圖 20-3 使用者所在的位置，被分成兩個集群"
      ]
    },
    {
      "cell_type": "code",
      "metadata": {
        "id": "cAYe1cU0pZGg"
      },
      "source": [
        ""
      ],
      "execution_count": null,
      "outputs": []
    }
  ]
}