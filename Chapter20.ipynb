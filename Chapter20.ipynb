{
  "nbformat": 4,
  "nbformat_minor": 0,
  "metadata": {
    "colab": {
      "name": "Chapter20.ipynb",
      "provenance": [],
      "toc_visible": true,
      "authorship_tag": "ABX9TyPYCoBtpGJ9fbPSzrx2f4tk",
      "include_colab_link": true
    },
    "kernelspec": {
      "name": "python3",
      "display_name": "Python 3"
    }
  },
  "cells": [
    {
      "cell_type": "markdown",
      "metadata": {
        "id": "view-in-github",
        "colab_type": "text"
      },
      "source": [
        "<a href=\"https://colab.research.google.com/github/hank199599/data_science_from_scratch_reading_log/blob/main/Chapter20.ipynb\" target=\"_parent\"><img src=\"https://colab.research.google.com/assets/colab-badge.svg\" alt=\"Open In Colab\"/></a>"
      ]
    },
    {
      "cell_type": "markdown",
      "metadata": {
        "id": "Lgmuj2wgZLpv"
      },
      "source": [
        "# 集群 (Clusering) → 非監督式學習(unsupervised learning)\r\n",
        "沒有哪一種區分方式是一定正確的，  \r\n",
        "區分方式端看是否符合區分者的**需求**而定。"
      ]
    },
    {
      "cell_type": "markdown",
      "metadata": {
        "id": "3eGqf0yH-xGM"
      },
      "source": [
        "# 模型\r\n",
        "每個都是d維空間的一個向量，  \r\n",
        "世個資料點分配到人個集群中,方法非常 之多,這也就表示要找出最佳化的集 是一個非常国離的問題,我們經常會採用一種送代演算法,它通常可以得出相然不 群是 :\r\n",
        "\r\n",
        "1. 一開始先從維空即中選出k個資料點,做為集群的大平均值(k-means).\r\n",
        "2. 把其餘的部個資料點,分配給距離最近的平均值。\r\n",
        "3. 如果資科點的分配結集已裡不再變動,就停止下來,並以目前分配的集非故乡作奖 4.如果分配结果仍在變動,就重新計算平均值,然後回到步。2.\r\n",
        "\r\n",
        "只要運用「第4章:線性代數」的 Vector_mean 函式,建立一個物件類別來進行這項工作 整件事就變得提孤單了,"
      ]
    },
    {
      "cell_type": "code",
      "metadata": {
        "id": "mWyI25qhGPfT"
      },
      "source": [
        "from typing import List\r\n",
        "\r\n",
        "Vector = List[float]\r\n",
        "\r\n",
        "def num_differences(v1:Vector,v2:Vector)->int:\r\n",
        "  assert len(v1) == len(v2)\r\n",
        "  return len([x1 for x1,x2 in zip(v1,v2) if x1 != x2])\r\n",
        "\r\n",
        "def scalar_multiply(c:float,v:Vector) -> Vector:\r\n",
        "  return [c*v_i for v_i in v]\r\n",
        "\r\n",
        "def vector_sum(vectors:List[Vector]) -> Vector:\r\n",
        "  #先檢查vertors這個向量列表是否為空\r\n",
        "  assert vectors,\"列表中沒有向量!\"\r\n",
        "\r\n",
        "  #檢查vertors 向量列表內的所有向量都具有相同的維度\r\n",
        "  num_elements=len(vectors[0])\r\n",
        "  assert all(len(v)==num_elements for v in vectors),\"向量維度不一致\"\r\n",
        "\r\n",
        "  #所有vectors[i]相加起來，是結果的第i個元素值\r\n",
        "  return [sum(vector[i] for vector in vectors) for i in range(num_elements)]\r\n",
        "\r\n",
        "def subtrate( v:Vector, w:Vector) -> Vector:\r\n",
        "  assert len(v) == len(w) #兩個向量必須有相同的維度\r\n",
        "\r\n",
        "  return [ v_i-w_i for v_i,w_i in zip(v,w)]\r\n",
        "\r\n",
        "def sum_of_squares(v:Vector) -> float:\r\n",
        "  return dot(v,v)\r\n",
        "\r\n",
        "def dot(v:Vector,w:Vector)->float:\r\n",
        "  #計算v_1*w_1+... +v_n*w_n\r\n",
        "  assert len(v)==len(w),\"兩個向量必須有相同的維度\"\r\n",
        "\r\n",
        "  return sum(v_i*w_i for v_i,w_i in zip(v,w))"
      ],
      "execution_count": 1,
      "outputs": []
    },
    {
      "cell_type": "code",
      "metadata": {
        "id": "w4ADjVExBFOh"
      },
      "source": [
        "assert num_differences([1,2,3],[2,1,3]) == 2"
      ],
      "execution_count": 2,
      "outputs": []
    },
    {
      "cell_type": "code",
      "metadata": {
        "id": "pP9JxXlMCuSt"
      },
      "source": [
        "assert num_differences([1,2],[1,2]) == 0"
      ],
      "execution_count": 3,
      "outputs": []
    },
    {
      "cell_type": "markdown",
      "metadata": {
        "id": "E6P6EhRNhrWS"
      },
      "source": [
        "### 建立函式：  \r\n",
        "* 給定一堆向量以及各向量所對應的集群 → 計算各集群的平均值"
      ]
    },
    {
      "cell_type": "code",
      "metadata": {
        "id": "aL6slXvJhr7j"
      },
      "source": [
        "\r\n",
        "def vector_mean(vectors:List[Vector])->Vector:\r\n",
        "  n=len(vectors)\r\n",
        "  return scalar_multiply(1/n,vector_sum(vectors))\r\n",
        "\r\n",
        "def cluster_means(k:int,inputs:List[Vector],assignments:List[int]) ->List[Vector]:\r\n",
        "\r\n",
        "  # clusters[i] 包含的是分配給集群i的輸入資料點\r\n",
        "  clusters = [[] for i in range(k)]\r\n",
        "\r\n",
        "  for input,assignment in zip(inputs,assignments):\r\n",
        "    clusters[assignment].append(input)\r\n",
        "  \r\n",
        "  # 如果集群是空的，就用一個隨機點來做為其代表\r\n",
        "  return [vector_mean(cluster) if cluster else random.choice(inputs) for cluster in clusters]"
      ],
      "execution_count": 4,
      "outputs": []
    },
    {
      "cell_type": "markdown",
      "metadata": {
        "id": "O3UgGICSkckY"
      },
      "source": [
        "### 集群處理的程式碼"
      ]
    },
    {
      "cell_type": "code",
      "metadata": {
        "id": "U8f7-v3rkcz8"
      },
      "source": [
        "import itertools\r\n",
        "import random\r\n",
        "import tqdm\r\n",
        "\r\n",
        "def squared_distance(v:Vector,w:Vector) -> float:\r\n",
        "  return sum_of_squares(subtrate(v,w))"
      ],
      "execution_count": 5,
      "outputs": []
    },
    {
      "cell_type": "code",
      "metadata": {
        "id": "fpSzgFEGmV6Q"
      },
      "source": [
        "class KMeans:\r\n",
        "  def __init__(self,k:int)->None:\r\n",
        "    self.k = k\r\n",
        "    self.means = None\r\n",
        "  \r\n",
        "  def classify(self,input:Vector)->int:\r\n",
        "    \"\"\"送回最接近輸入的集群索引值\"\"\"\r\n",
        "    return min(range(self.k),key=lambda i:squared_distance(input,self.means[i]))\r\n",
        "  \r\n",
        "  def train(self,inputs:List[Vector])->None:\r\n",
        "    # 一開始先以隨機的方式，把輸入分配到各個集群中\r\n",
        "    assignments = [random.randrange(self.k) for _ in inputs]\r\n",
        "\r\n",
        "    with tqdm.tqdm(itertools.count()) as t:\r\n",
        "      for _ in t:\r\n",
        "        # 計算平均值並找出新的集群分配結果\r\n",
        "        self.means = cluster_means(self.k,inputs,assignments)\r\n",
        "        new_assigments = [self.classify(input) for input in inputs]\r\n",
        "\r\n",
        "        # 檢查有幾個分配結果出現變化，並判斷是否已經完成\r\n",
        "        num_changed = num_differences(assignments,new_assigments)\r\n",
        "        if num_changed == 0:\r\n",
        "          return\r\n",
        "        \r\n",
        "        # 如果尚未完成，就繼續重新分配集群，並計算新的平均值\r\n",
        "        assignments = new_assigments\r\n",
        "        self.means = cluster_means(self.k,inputs,assignments)\r\n",
        "        t.set_description(f\"change:{num_changed} / {len(inputs)}\")"
      ],
      "execution_count": 6,
      "outputs": []
    },
    {
      "cell_type": "markdown",
      "metadata": {
        "id": "E4COfYQTGthz"
      },
      "source": [
        "# 範例：聚會"
      ]
    },
    {
      "cell_type": "markdown",
      "metadata": {
        "id": "_Z6T7tbAFHeg"
      },
      "source": [
        "### 圖 20-1 你家鄉使用者的所在位置分布\r\n",
        "根據不同的觀察角度，可以看出有兩、三個集群。"
      ]
    },
    {
      "cell_type": "code",
      "metadata": {
        "colab": {
          "base_uri": "https://localhost:8080/",
          "height": 295
        },
        "id": "MQ0f9eMSFROI",
        "outputId": "c5802a14-0112-4ede-e00e-cda827e11c7a"
      },
      "source": [
        "from matplotlib import pyplot as plt\r\n",
        "\r\n",
        "inputs: List[List[float]] = [[-14,-5],[13,13],[20,23],[-19,-11],[-9,-16],[21,27],[-49,15],[26,13],[-46,5],[-34,-1],[11,15],[-49,0],[-22,-16],[19,28],[-12,-8],[-13,-19],[-41,8],[-11,-6],[-25,-9],[-18,-3]]\r\n",
        "\r\n",
        "xs = [row[0] for row in inputs]\r\n",
        "ys = [row[1] for row in inputs]\r\n",
        "\r\n",
        "plt.scatter(xs,ys)\r\n",
        "plt.axis([-60,40,-30,40])\r\n",
        "plt.title(\"User Locations\")\r\n",
        "plt.xlabel(\"blocks east of city center\")\r\n",
        "plt.ylabel(\"blocks north of city center\")\r\n",
        "plt.show()"
      ],
      "execution_count": 59,
      "outputs": [
        {
          "output_type": "display_data",
          "data": {
            "image/png": "[encoded data removed]",
            "text/plain": [
              "<Figure size 432x288 with 1 Axes>"
            ]
          },
          "metadata": {
            "tags": [],
            "needs_background": "light"
          }
        }
      ]
    },
    {
      "cell_type": "markdown",
      "metadata": {
        "id": "E6RJ_ppTNmKK"
      },
      "source": [
        "進行測試"
      ]
    },
    {
      "cell_type": "code",
      "metadata": {
        "colab": {
          "base_uri": "https://localhost:8080/"
        },
        "id": "OhGY5sRoNzV7",
        "outputId": "5d109d24-969a-406b-8cd3-b8c243053fbe"
      },
      "source": [
        "random.seed(12)\r\n",
        "clusterer = KMeans(k=3)\r\n",
        "clusterer.train(inputs)\r\n",
        "means = sorted(clusterer.means)\r\n",
        "\r\n",
        "assert len(means) == 3"
      ],
      "execution_count": 8,
      "outputs": [
        {
          "output_type": "stream",
          "text": [
            "change:5 / 20: : 0it [00:00, ?it/s]\n"
          ],
          "name": "stderr"
        }
      ]
    },
    {
      "cell_type": "markdown",
      "metadata": {
        "id": "tJtRDNMFo0os"
      },
      "source": [
        "檢查平均值是否接近我們的預期"
      ]
    },
    {
      "cell_type": "code",
      "metadata": {
        "id": "mEBm-Mego0vt"
      },
      "source": [
        "assert squared_distance(means[0],[-44,5]) < 1\r\n",
        "assert squared_distance(means[1],[-16,-10]) < 1\r\n",
        "assert squared_distance(means[2],[18,20]) < 1"
      ],
      "execution_count": 9,
      "outputs": []
    },
    {
      "cell_type": "markdown",
      "metadata": {
        "id": "PA7ptoAppJ8V"
      },
      "source": [
        "### 圖 20-2 使用者所在的位置，被分成三個集群\r\n",
        "![pic 20-2](https://lh3.googleusercontent.com/0MZcUSp-2iiiBPRFzfImHrmi5UPkGY1Squ1HiSG7To9Tp8iHLOC3yjwnPpPDQZ1RXc_x3zcY_apnF6GKWbbHUFfWnq-rDDZPxD6eLkQGVXSQlUMErNYfZKnIMiToSNjnXfL4PfDuKQu2n3tah7LLWagjpgxX3RKbxCzs7Eoak6x4zO1_pHUkuSo7X8XzYlf4_fkSWYtleYsL79_8C97esPu5WR-DBSsognKdgMzvzdB-buw29pPvxrYlqBsX6a90FHqY4MQ5w3yKbhxotzXoIxWVp1819jrbAO6bVcjUTkVUt7-_Jj2lGXO-KkbBJq910rnSW6XJrzDLjoVS2vg4md56tUsuXGSHSfotf9fTx_krRjmnGvjN9bOcT9fNLE8nrlPeLCuIFELHwKKClF_qrFlBBjSXY0tx_sPF7F_WZGjc4YI3H19w73nbzxRzil-Bsc6mV2D0ki-0Xsat5w9lemtmSR69Qf5KJtZugabConiQFEG4DegrOoRNFhz9ftOa9rYpK-qZaqjO6QSmHzTWCoZdiM6uosUozLccR-uYGYZ4mY3Wi3-q3R26kijtrPOZlYJwtSw4mjtvOKsmXkoaisDVcx-6FUJvIDUhytxbkUotgbfOCpQBxIrC5w1es_m6gEaB1Uhek4FtQhWbEW5zg6aGMpG550yE5LsdnBWKH32mTSaQzAxg29dQbIKB7A=w706-h562-no?authuser=0)"
      ]
    },
    {
      "cell_type": "markdown",
      "metadata": {
        "id": "6Vjp5b4i316T"
      },
      "source": [
        "改成只找出兩個集群的中心位置"
      ]
    },
    {
      "cell_type": "code",
      "metadata": {
        "colab": {
          "base_uri": "https://localhost:8080/"
        },
        "id": "irvOez_I316X",
        "outputId": "258467cc-546c-4bea-d8e9-e000f1edcf7b"
      },
      "source": [
        "random.seed(12)\r\n",
        "clusterer = KMeans(k=2)\r\n",
        "clusterer.train(inputs)\r\n",
        "means = sorted(clusterer.means)\r\n",
        "\r\n",
        "assert len(means) == 2"
      ],
      "execution_count": 10,
      "outputs": [
        {
          "output_type": "stream",
          "text": [
            "change:1 / 20: : 0it [00:00, ?it/s]\n"
          ],
          "name": "stderr"
        }
      ]
    },
    {
      "cell_type": "markdown",
      "metadata": {
        "id": "dTrHP4FP316Y"
      },
      "source": [
        "檢查平均值是否接近我們的預期"
      ]
    },
    {
      "cell_type": "code",
      "metadata": {
        "id": "J0ZV9VHT316Y"
      },
      "source": [
        "assert squared_distance(means[0],[-26,-5]) < 1\r\n",
        "assert squared_distance(means[1],[18,20]) < 1"
      ],
      "execution_count": 11,
      "outputs": []
    },
    {
      "cell_type": "markdown",
      "metadata": {
        "id": "ELrYDnHupZGI"
      },
      "source": [
        "### 圖 20-3 使用者所在的位置，被分成兩個集群\r\n",
        "![pic 20-3](https://lh3.googleusercontent.com/lvKKN51c73R5yfpc2R7wmR-e5F9r0Anb7fPKwW3XnH9YVQ-laGj0OOMmkC5r4LSIuol9EjvHTW18EwRct9Bd4KrHvd6wL7aurO8Fmllu0dPIw12IdERXRWFjmkCdkNUuH8P2-pAij8eacPLBIs9NLuD9FwAtMcOT9f2g-_v0yzkJPN_oBkTmavLoiCc8R7ynG89sYX7nU4Cjz7xNuhI_ds4Y2yzDQCByBZSs0SjxiLYnpK5qDLq43Y21wGR5I6H8-ACY0DV2BBAseauIFz08lLrFaJkgDyMBIeRRmN3v31xzhO7NORCNNTwhAP70XM8K5Y6qg5QqCcOu51e8yMpuLOPnOCrg1V9GxTs9aE4rIcatPVcoqAOBf9ATgtlwTQJRnqFnghomCGtTeCicYEGK51RuSl2ee_ZkMDRuMQKNFRyqWh8Mzf5sSGp7wrLh2rZ3eiQDxupcKSUoG1XSVJRuzHqn3g_jNGp1vycMdGEyAYNX30bJBZ00LZhvk9kH2d7HjGhfnAbMBVzDGbNig9Wbx2mJz0E5OvKYyw6kd0frYG2L3sgB54PorbaxE2mXet2Ib-C9x84R78wEtMFxcLwUL1MsVSsE7dDch8VS5jdvXkSp4WgpozNEV51tDo-BuQbNfht_LJkiGQQK-mMI3i46Ei8GqoHpadDok7ZRToHIkjhvawgwpPgIwyhgXm45Ug=w706-h562-no?authuser=0)"
      ]
    },
    {
      "cell_type": "markdown",
      "metadata": {
        "id": "yh-Rk7Dr4JKz"
      },
      "source": [
        "# k的選擇\r\n",
        "k的選擇易受到人為控制外的因素影響。  \r\n",
        "而較為合理的作法是將誤差平方和表示為k的函數並以圖形匯出。"
      ]
    },
    {
      "cell_type": "code",
      "metadata": {
        "id": "cAYe1cU0pZGg"
      },
      "source": [
        "from matplotlib import pyplot as plt \r\n",
        "\r\n",
        "def squared_clustring_errors(inputs:List[Vector],k:int) -> float:\r\n",
        "  \"\"\"計算每個輸入與相應集群k-平均值之間的誤差平方和\"\"\"\r\n",
        "  clusterer =KMeans(k)\r\n",
        "  clusterer.train(inputs)\r\n",
        "  means = clusterer.means\r\n",
        "  assignments = [clusterer.classify(input) for input in inputs]\r\n",
        "\r\n",
        "  return sum(squared_distance(input,means[cluster]) for input,cluster in zip(inputs,assignments))"
      ],
      "execution_count": 12,
      "outputs": []
    },
    {
      "cell_type": "markdown",
      "metadata": {
        "id": "vWF1EnWIGNlX"
      },
      "source": [
        "### 圖 20-4 k的選擇\r\n",
        "套用先前的例子"
      ]
    },
    {
      "cell_type": "code",
      "metadata": {
        "id": "nYXmFJ_EGPzl",
        "colab": {
          "base_uri": "https://localhost:8080/",
          "height": 631
        },
        "outputId": "6ab5f5df-f762-4810-d7ff-0b6abeb42400"
      },
      "source": [
        "# 從1往上到len(inputs)，劃出不同集群數量所對應的圖形\r\n",
        "ks = range(1,len(inputs)+1)\r\n",
        "errors = [squared_clustring_errors(inputs,k) for k in ks]\r\n",
        "\r\n",
        "plt.plot(ks,errors)\r\n",
        "plt.title(\"Total Error vs. # of Clusters\")\r\n",
        "plt.xlabel(\"k\")\r\n",
        "plt.ylabel(\"total squared error\")\r\n",
        "plt.xticks(ks)\r\n",
        "plt.show()"
      ],
      "execution_count": 13,
      "outputs": [
        {
          "output_type": "stream",
          "text": [
            "0it [00:00, ?it/s]\n",
            "change:3 / 20: : 0it [00:00, ?it/s]\n",
            "change:2 / 20: : 0it [00:00, ?it/s]\n",
            "change:3 / 20: : 0it [00:00, ?it/s]\n",
            "change:1 / 20: : 0it [00:00, ?it/s]\n",
            "change:7 / 20: : 0it [00:00, ?it/s]\n",
            "change:1 / 20: : 0it [00:00, ?it/s]\n",
            "change:1 / 20: : 0it [00:00, ?it/s]\n",
            "change:1 / 20: : 0it [00:00, ?it/s]\n",
            "change:7 / 20: : 0it [00:00, ?it/s]\n",
            "change:2 / 20: : 0it [00:00, ?it/s]\n",
            "change:2 / 20: : 0it [00:00, ?it/s]\n",
            "change:4 / 20: : 0it [00:00, ?it/s]\n",
            "change:8 / 20: : 0it [00:00, ?it/s]\n",
            "change:2 / 20: : 0it [00:00, ?it/s]\n",
            "change:1 / 20: : 0it [00:00, ?it/s]\n",
            "change:11 / 20: : 0it [00:00, ?it/s]\n",
            "change:1 / 20: : 0it [00:00, ?it/s]\n",
            "change:1 / 20: : 0it [00:00, ?it/s]\n",
            "change:1 / 20: : 0it [00:00, ?it/s]\n"
          ],
          "name": "stderr"
        },
        {
          "output_type": "display_data",
          "data": {
            "image/png": "[encoded data removed]",
            "text/plain": [
              "<Figure size 432x288 with 1 Axes>"
            ]
          },
          "metadata": {
            "tags": [],
            "needs_background": "light"
          }
        }
      ]
    },
    {
      "cell_type": "markdown",
      "metadata": {
        "id": "utW1eSDd4Lwu"
      },
      "source": [
        "### 範例：對顏色進行集群分析 \r\n",
        "建立一個五色版圖片：\r\n",
        "1. 選出五種顏色 → 利用 k-平均值 做集群分析\r\n",
        "2. 針對每個像素，從這五種顏色之中指定其中一種顏色\r\n"
      ]
    },
    {
      "cell_type": "markdown",
      "metadata": {
        "id": "7KIXm5XfaMmF"
      },
      "source": [
        "載入圖片的方法"
      ]
    },
    {
      "cell_type": "code",
      "metadata": {
        "id": "VSemV70naPG0",
        "colab": {
          "base_uri": "https://localhost:8080/"
        },
        "outputId": "50f0ffda-fc0f-4dde-c505-f51950f014e0"
      },
      "source": [
        "!pip install pillow"
      ],
      "execution_count": 14,
      "outputs": [
        {
          "output_type": "stream",
          "text": [
            "Requirement already satisfied: pillow in /usr/local/lib/python3.6/dist-packages (7.0.0)\n"
          ],
          "name": "stdout"
        }
      ]
    },
    {
      "cell_type": "markdown",
      "metadata": {
        "id": "SZaNhBMIaSH0"
      },
      "source": [
        "使用 matlibplot.image.imread"
      ]
    },
    {
      "cell_type": "code",
      "metadata": {
        "id": "3tZQwxJyaZHP"
      },
      "source": [
        "\r\n",
        "image_path = \"/content/d4945765.jpg\"\r\n",
        "\r\n",
        "import matplotlib.image as mping\r\n",
        "img = mping.imread(image_path)/256\r\n",
        "\r\n",
        "top_row = img[0]\r\n",
        "top_left_pixel = top_row[0]\r\n",
        "red,green,blue = top_left_pixel"
      ],
      "execution_count": 15,
      "outputs": []
    },
    {
      "cell_type": "markdown",
      "metadata": {
        "id": "spEWJ6iIhlw4"
      },
      "source": [
        "將所有像素轉變為被展平後的列表"
      ]
    },
    {
      "cell_type": "code",
      "metadata": {
        "id": "7BaoTTH3hrFe"
      },
      "source": [
        "pixels = [pixel.tolist() for row in img for pixel in row]"
      ],
      "execution_count": 16,
      "outputs": []
    },
    {
      "cell_type": "markdown",
      "metadata": {
        "id": "trsjGgtYjhcI"
      },
      "source": [
        "將資料送進clusterer之中"
      ]
    },
    {
      "cell_type": "code",
      "metadata": {
        "colab": {
          "base_uri": "https://localhost:8080/"
        },
        "id": "akP0gr9zjn6C",
        "outputId": "075f8d59-5234-4814-bcb4-d363bc42ed2a"
      },
      "source": [
        "clusterer = KMeans(5)\r\n",
        "clusterer.train(pixels)"
      ],
      "execution_count": 17,
      "outputs": [
        {
          "output_type": "stream",
          "text": [
            "change:5 / 268800: : 35it [01:54,  3.27s/it]\n"
          ],
          "name": "stderr"
        }
      ]
    },
    {
      "cell_type": "markdown",
      "metadata": {
        "id": "jIw_eoVQjxs0"
      },
      "source": [
        "完成後，依據相同的格式建立一張新的圖片"
      ]
    },
    {
      "cell_type": "code",
      "metadata": {
        "colab": {
          "base_uri": "https://localhost:8080/",
          "height": 164
        },
        "id": "Q8XOsNaOj3OI",
        "outputId": "bd2c71bf-e0ad-4501-b316-94a5e4b23441"
      },
      "source": [
        "def recolor(pixel:Vector) ->Vector:\r\n",
        "  cluster = clusterer.classify(pixel)\r\n",
        "  return clusterer.means[cluster]\r\n",
        "\r\n",
        "origin_img = [[pixel for pixel in row] for row in img]\r\n",
        "new_img = [[recolor(pixel) for pixel in row] for row in img]\r\n",
        "\r\n",
        "fig,(ax1,ax2) = plt.subplots(1,2)\r\n",
        "\r\n",
        "ax1.imshow(origin_img)\r\n",
        "ax1.set_title(\"Origin\")\r\n",
        "\r\n",
        "ax2.imshow(new_img)\r\n",
        "ax2.set_title(\"k-5 cluster\")\r\n",
        "\r\n",
        "ax1.xaxis.set_visible(False)\r\n",
        "ax1.yaxis.set_visible(False)\r\n",
        "plt.axis('off')\r\n",
        "plt.show()"
      ],
      "execution_count": 29,
      "outputs": [
        {
          "output_type": "display_data",
          "data": {
            "image/png": "[encoded data removed]",
            "text/plain": [
              "<Figure size 432x288 with 2 Axes>"
            ]
          },
          "metadata": {
            "tags": [],
            "needs_background": "light"
          }
        }
      ]
    },
    {
      "cell_type": "markdown",
      "metadata": {
        "id": "hP3Ttd7S4RjB"
      },
      "source": [
        "# 由下而上階層式分群法\r\n",
        "1. 讓每個輸入項自己形成一個集群\r\n",
        "2. 設法找出兩個最接近的集群，並予以合併"
      ]
    },
    {
      "cell_type": "markdown",
      "metadata": {
        "id": "E-mZSwxr-m4z"
      },
      "source": [
        "## 建立樹葉集群(leaf cluster)"
      ]
    },
    {
      "cell_type": "code",
      "metadata": {
        "id": "LMdKEIkG_H1F"
      },
      "source": [
        "from typing import NamedTuple,Union\r\n",
        "\r\n",
        "class Leaf(NamedTuple):\r\n",
        "  value:Vector\r\n",
        "\r\n",
        "leaf1 = Leaf([10,20])\r\n",
        "leaf2 = Leaf([30,-15])"
      ],
      "execution_count": 30,
      "outputs": []
    },
    {
      "cell_type": "markdown",
      "metadata": {
        "id": "uuLrbxGr_ciy"
      },
      "source": [
        "運用這些NamedTuple，整併出**合併後**的集群"
      ]
    },
    {
      "cell_type": "code",
      "metadata": {
        "id": "YzSRQl92_jBU"
      },
      "source": [
        "class Merged(NamedTuple):\r\n",
        "  children:tuple\r\n",
        "  order:int\r\n",
        "\r\n",
        "merged = Merged((leaf1,leaf2),order = 1)\r\n",
        "\r\n",
        "Cluster = Union[Leaf,Merged]"
      ],
      "execution_count": 31,
      "outputs": []
    },
    {
      "cell_type": "markdown",
      "metadata": {
        "id": "dGLlvnGm_4qJ"
      },
      "source": [
        "### 輔助函式：返還集群內的所有值\r\n",
        "以遞迴方式把某個集群內的所有值返還回來"
      ]
    },
    {
      "cell_type": "code",
      "metadata": {
        "id": "eKx2_zj6AFdk"
      },
      "source": [
        "def get_values(cluster:Cluster) ->List[Vector]:\r\n",
        "  if isinstance(cluster,Leaf):\r\n",
        "    return [cluster.value]\r\n",
        "  else:\r\n",
        "    return [value for child in cluster.children for value in get_values(child)]"
      ],
      "execution_count": 34,
      "outputs": []
    },
    {
      "cell_type": "code",
      "metadata": {
        "id": "ZjeGO2oTFc7V"
      },
      "source": [
        "assert get_values(merged) == [[10,20],[30,-15]]"
      ],
      "execution_count": 35,
      "outputs": []
    },
    {
      "cell_type": "markdown",
      "metadata": {
        "id": "YHoqHv1CJNDH"
      },
      "source": [
        "## 觀察不同集群間彼此的距離\r\n",
        "* 最小距離：若集群間距離很近，則將它們合併起來\r\n",
        "* 最大距離：把包在最小一團的範圍內的兩個集群合併起來→形成一團較為緊密的集群\r\n",
        "* 平均距離"
      ]
    },
    {
      "cell_type": "code",
      "metadata": {
        "id": "IYIWM9N0JVWG"
      },
      "source": [
        "from typing import Callable\r\n",
        "import math\r\n",
        "\r\n",
        "def squared_distance(v:Vector,w:Vector) -> float:\r\n",
        "  return sum_of_squares(subtrate(v,w))\r\n",
        "\r\n",
        "def distance(v:Vector,w:Vector) -> float:\r\n",
        "  return math.sqrt(squared_distance(v,w))"
      ],
      "execution_count": 47,
      "outputs": []
    },
    {
      "cell_type": "code",
      "metadata": {
        "id": "m_OtWk9DK69o"
      },
      "source": [
        "def cluster_distance(cluster1:Cluster,cluster2:Cluster,distance_agg:Callable=min)->float:\r\n",
        "  \"\"\"\r\n",
        "  計算出集群1和集群2中所有兩兩成對組合的距離\r\n",
        "  然後把結果列表套入distance_agg函式\r\n",
        "  \"\"\"\r\n",
        "  return distance_agg([distance(v1,v2) for v1 in get_values(cluster1) for v2 in get_values(cluster2)])"
      ],
      "execution_count": 38,
      "outputs": []
    },
    {
      "cell_type": "markdown",
      "metadata": {
        "id": "It-9mmXmMnV2"
      },
      "source": [
        "### 輔助函式：紀錄合併順序"
      ]
    },
    {
      "cell_type": "code",
      "metadata": {
        "id": "Uzn4szlWMx4Q"
      },
      "source": [
        "def get_merge_order(cluster:Cluster) ->float:\r\n",
        "  if isinstance(cluster,Leaf):\r\n",
        "    return float('inf') #非合併而來\r\n",
        "  else:\r\n",
        "    return cluster.order"
      ],
      "execution_count": 39,
      "outputs": []
    },
    {
      "cell_type": "markdown",
      "metadata": {
        "id": "16B0nklQNNSY"
      },
      "source": [
        "### 輔助函式：取得Leaf集群的子節點"
      ]
    },
    {
      "cell_type": "code",
      "metadata": {
        "id": "oWSl2DF1NUYT"
      },
      "source": [
        "from typing import Tuple\r\n",
        "\r\n",
        "def get_children(cluster:Cluster):\r\n",
        "  if isinstance(cluster,Leaf):\r\n",
        "    raise TypeError(\"Leaf has no children\")\r\n",
        "  else:\r\n",
        "    return cluster.children"
      ],
      "execution_count": 43,
      "outputs": []
    },
    {
      "cell_type": "markdown",
      "metadata": {
        "id": "dxIlbq2OPfpu"
      },
      "source": [
        "## 建立集群演算法"
      ]
    },
    {
      "cell_type": "code",
      "metadata": {
        "id": "18la40ZZPj8c"
      },
      "source": [
        "def bottom_up_cluster(inputs:List[Vector],distance_agg:Callable=min) ->Cluster:\r\n",
        "\r\n",
        "  # 一開始，所有集群都是樹葉\r\n",
        "  clusters:List[Cluster] = [Leaf(input) for input in inputs]\r\n",
        "\r\n",
        "  def pair_distance(pair:Tuple[Cluster,Cluster]) -> float:\r\n",
        "    return cluster_distance(pair[0],pair[1],distance_agg)\r\n",
        "\r\n",
        "  # 只要還有一個以上的集群，就不跳出迴圈持續進行合併\r\n",
        "  while len(clusters) > 1:\r\n",
        "    # 找出最接近的兩個集群\r\n",
        "    c1,c2 = min(((cluster1,cluster2) for i,cluster1 in enumerate(clusters) for cluster2 in clusters[:i]),key = pair_distance)\r\n",
        "\r\n",
        "    # 先將它們從集群列表中移除\r\n",
        "    clusters = [c for c in clusters if c != c1 and c != c2]\r\n",
        "\r\n",
        "    # 將它們合併起來\r\n",
        "    merged_cluster = Merged((c1,c2),order=len(clusters))\r\n",
        "\r\n",
        "    # 接著再添加合併結果回去\r\n",
        "    clusters.append(merged_cluster)\r\n",
        "  \r\n",
        "  # 若最後只剩下一個集群，則送回結果\r\n",
        "  return clusters[0]\r\n"
      ],
      "execution_count": 49,
      "outputs": []
    },
    {
      "cell_type": "markdown",
      "metadata": {
        "id": "M4Q9dkJQSqcF"
      },
      "source": [
        "使用定義的合併函式"
      ]
    },
    {
      "cell_type": "code",
      "metadata": {
        "id": "B8JIvEJ7Sujh"
      },
      "source": [
        "base_cluster = bottom_up_cluster(inputs)"
      ],
      "execution_count": 52,
      "outputs": []
    },
    {
      "cell_type": "markdown",
      "metadata": {
        "id": "RHfrR6VeUN1W"
      },
      "source": [
        "**已切好集群的結果如下**：  \r\n",
        "![table1.png](https://lh3.googleusercontent.com/Sx19vqgaET_xyvfjTdMuBbF6ziFQzR7_wlnIBIAFZLleKPFHU-vbnnWtCp04BEBiUP3JY1Z8LwqcJCwNize7DlsVaktGPUjQ-vqpCFNNqLvMvcC1_V-AS0m0YCKFjq7uQ8Uew9YwdEZZhQxCAQkFDqXRRhHRVNV5tuzgtO9O6qfGIVj_1eZ9-N0NkO08vLvAh4iPJoP2ZFirlUOpjYbP8YMQwTTxoBLfyZOjAf1C9Qd3VhgQo6SIa8icXZw4ecBTnmi2xM377guTpd9q_aHdHKfWhiqBgUBURcjEnFja7wtOlRXQwBoA0Vl5tunHoiYsU0JrV0kwJCExPm5XmaiQrPqKEBMdI1o3ORSc2cDBUNQBfZAxG5pFOjy4syS06A-F-A5-v-mHXN2I5sHGEdnTriYiZ6tRsVZchMytOgR1Aoqmp6PS9GEP0Dj_9CoV5yT_2iAgFwEEVGlb4AFW76yZajeCHIclKYUcHpYtpcb76eJCsqiZ91OGPZnwS5RrqL1kckqrzZ45_2dEGVjcPxpin6fxTbhCFonQWAgTg6BACSLQiyEmL2T1feGsrh5rR6Hk4Zm8U41-sgyEbxtaJvWo2Q6XROX7o60jl2VY-BbFYHtLJyXK_54iOiz8ID7ZVpV0SRTk0hcNilu5VXu5GUrW0Yb74f2t4qSlrpXEWcBCckjsCFMlo30Nv1FkDXgkxg=w579-h485-no?authuser=0)  \r\n",
        "\r\n"
      ]
    },
    {
      "cell_type": "markdown",
      "metadata": {
        "id": "fPnT4ddoaaPH"
      },
      "source": [
        "由於有20個輸入項，因此進行了19次合併。  \r\n",
        "* 第一次合併：[19,28]和[21,27]\r\n",
        "* 最後一次合併：建立集群0\r\n",
        "  \r\n",
        "得到所需子集群數；\r\n",
        "* 兩個集群：在第一個分岔處「0」進行切分\r\n",
        "* 三個集群：在第二個分岔數「1」進行切分"
      ]
    },
    {
      "cell_type": "markdown",
      "metadata": {
        "id": "hmMXlfHTa1cU"
      },
      "source": [
        "## 建立輔助函式：自動回朔獲得所需集群數"
      ]
    },
    {
      "cell_type": "code",
      "metadata": {
        "id": "BvrTh8elZwNH"
      },
      "source": [
        "def generate_clusters(base_cluster:Cluster,num_cluster:int)->List[Cluster]:\r\n",
        "  # 一開始只有僅包含基礎集群(base cluster) 的一個列表\r\n",
        "  clusters = [base_cluster]\r\n",
        "\r\n",
        "  # 若未取得足夠的集群數列，則待在迴圈中\r\n",
        "  while len(clusters) < num_cluster:\r\n",
        "    # 選出最後一次合併的集群\r\n",
        "    next_cluster = min(clusters,key=get_merge_order)\r\n",
        "    # 先將它自列表中移除\r\n",
        "    clusters = [c for c in clusters if c != next_cluster]\r\n",
        "\r\n",
        "    # 再將他的子集群重新加入到列表中(即往前回朔)\r\n",
        "    clusters.extend(get_children(next_cluster))\r\n",
        "  \r\n",
        "  # 取得指定的集群後返回結果\r\n",
        "  return clusters"
      ],
      "execution_count": 56,
      "outputs": []
    },
    {
      "cell_type": "markdown",
      "metadata": {
        "id": "K_QrnkyJcC8N"
      },
      "source": [
        "舉例：取得三個集群"
      ]
    },
    {
      "cell_type": "code",
      "metadata": {
        "id": "HsPfVaRNigTM"
      },
      "source": [
        "three_clusters = [get_values(cluster) for cluster in generate_clusters(base_cluster,3)]"
      ],
      "execution_count": 57,
      "outputs": []
    },
    {
      "cell_type": "markdown",
      "metadata": {
        "id": "iqsH8zXJivwD"
      },
      "source": [
        "### 圖 20-6 運用最小距離由下而上所取得的三個集群"
      ]
    },
    {
      "cell_type": "code",
      "metadata": {
        "id": "PY9h58cZi7R2",
        "outputId": "1a0f4a50-be29-488c-99ca-a3734f77ac52",
        "colab": {
          "base_uri": "https://localhost:8080/",
          "height": 295
        }
      },
      "source": [
        "for i , cluster , marker , color in zip([1,2,3],three_clusters,['D','o','*'],['r','g','b']):\r\n",
        "  xs,ys = zip(*cluster) # upzip 技巧\r\n",
        "  plt.scatter(xs,ys,color=color,marker=marker)\r\n",
        "\r\n",
        "  # 在集群平均值放個數字\r\n",
        "  x,y = vector_mean(cluster)\r\n",
        "  plt.plot(x,y,marker='$'+str(i)+'$',color = 'black')\r\n",
        "\r\n",
        "plt.axis([-60,40,-30,40])\r\n",
        "plt.title(\"User Locations -- 3 bottom-Up Clusters,Min\")\r\n",
        "plt.xlabel(\"blocks east of city center\")\r\n",
        "plt.ylabel(\"blocks notrh of city center\")\r\n",
        "plt.show()"
      ],
      "execution_count": 60,
      "outputs": [
        {
          "output_type": "display_data",
          "data": {
            "image/png": "[encoded data removed]",
            "text/plain": [
              "<Figure size 432x288 with 1 Axes>"
            ]
          },
          "metadata": {
            "tags": [],
            "needs_background": "light"
          }
        }
      ]
    }
  ]
}