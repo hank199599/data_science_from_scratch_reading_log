{
  "nbformat": 4,
  "nbformat_minor": 0,
  "metadata": {
    "colab": {
      "name": "Chapter20.ipynb",
      "provenance": [],
      "authorship_tag": "ABX9TyMjxPItbtftdoOKUpUQ+f1u",
      "include_colab_link": true
    },
    "kernelspec": {
      "name": "python3",
      "display_name": "Python 3"
    }
  },
  "cells": [
    {
      "cell_type": "markdown",
      "metadata": {
        "id": "view-in-github",
        "colab_type": "text"
      },
      "source": [
        "<a href=\"https://colab.research.google.com/github/hank199599/data_science_from_scratch_reading_log/blob/main/Chapter20.ipynb\" target=\"_parent\"><img src=\"https://colab.research.google.com/assets/colab-badge.svg\" alt=\"Open In Colab\"/></a>"
      ]
    },
    {
      "cell_type": "markdown",
      "metadata": {
        "id": "Lgmuj2wgZLpv"
      },
      "source": [
        "# 集群 (Clusering) → 非監督式學習(unsupervised learning)\r\n",
        "沒有哪一種區分方式是一定正確的，  \r\n",
        "區分方式端看是否符合區分者的**需求**而定。"
      ]
    },
    {
      "cell_type": "markdown",
      "metadata": {
        "id": "3eGqf0yH-xGM"
      },
      "source": [
        "# 模型\r\n",
        "每個都是d維空間的一個向量，  \r\n",
        "世個資料點分配到人個集群中,方法非常 之多,這也就表示要找出最佳化的集 是一個非常国離的問題,我們經常會採用一種送代演算法,它通常可以得出相然不 群是 :\r\n",
        "\r\n",
        "1. 一開始先從維空即中選出k個資料點,做為集群的大平均值(k-means).\r\n",
        "2. 把其餘的部個資料點,分配給距離最近的平均值。\r\n",
        "3. 如果資科點的分配結集已裡不再變動,就停止下來,並以目前分配的集非故乡作奖 4.如果分配结果仍在變動,就重新計算平均值,然後回到步。2.\r\n",
        "\r\n",
        "只要運用「第4章:線性代數」的 Vector_mean 函式,建立一個物件類別來進行這項工作 整件事就變得提孤單了,"
      ]
    },
    {
      "cell_type": "code",
      "metadata": {
        "id": "mWyI25qhGPfT"
      },
      "source": [
        "from typing import List\r\n",
        "\r\n",
        "Vector = List[float]\r\n",
        "\r\n",
        "def num_differences(v1:Vector,v2:Vector)->int:\r\n",
        "  assert len(v1) == len(v2)\r\n",
        "  return len([x1 for x1,x2 in zip(v1,v2) if x1 != x2])\r\n",
        "  "
      ],
      "execution_count": 1,
      "outputs": []
    },
    {
      "cell_type": "code",
      "metadata": {
        "id": "w4ADjVExBFOh"
      },
      "source": [
        "assert num_differences([1,2,3],[2,1,3]) == 2"
      ],
      "execution_count": 2,
      "outputs": []
    },
    {
      "cell_type": "code",
      "metadata": {
        "id": "pP9JxXlMCuSt"
      },
      "source": [
        "assert num_differences([1,2],[1,2]) == 0"
      ],
      "execution_count": 3,
      "outputs": []
    },
    {
      "cell_type": "markdown",
      "metadata": {
        "id": "E6P6EhRNhrWS"
      },
      "source": [
        "### 建立函式：  \r\n",
        "* 給定一堆向量以及各向量所對應的集群 → 計算各集群的平均值"
      ]
    },
    {
      "cell_type": "code",
      "metadata": {
        "id": "aL6slXvJhr7j"
      },
      "source": [
        "from typing import List\r\n",
        "\r\n",
        "def vector_mean(vectors:List[Vector])->Vector:\r\n",
        "  n=len(vectors)\r\n",
        "  return scalar_multiply(1/n,vector_sum(vectors))\r\n",
        "\r\n",
        "def cluster_means(k:int,inputs:List[Vector],assignment:List[int]) ->List[Vector]:\r\n",
        "\r\n",
        "  # clusters[i] 包含的是分配給集群i的輸入資料點\r\n",
        "  cluster = [[] for i in range(k)]\r\n",
        "\r\n",
        "  for input,assigment in zip(inputs,assigments):\r\n",
        "    clusters[assignment].append(input)\r\n",
        "  \r\n",
        "  # 如果集群是空的，就用一個隨機點來做為其代表\r\n",
        "  return [vector_mean(cluster) if cluster else random.choice(inputs) for cluster in clusters]"
      ],
      "execution_count": 5,
      "outputs": []
    },
    {
      "cell_type": "markdown",
      "metadata": {
        "id": "O3UgGICSkckY"
      },
      "source": [
        "### 集群處理的程式碼"
      ]
    },
    {
      "cell_type": "code",
      "metadata": {
        "id": "U8f7-v3rkcz8"
      },
      "source": [
        "import itertools\r\n",
        "import random\r\n",
        "import tqdm\r\n",
        "\r\n",
        "def squared_distance(v:Vector,w:Vector) -> float:\r\n",
        "  return sum_of_squares(subtrate(v,w))"
      ],
      "execution_count": 6,
      "outputs": []
    },
    {
      "cell_type": "code",
      "metadata": {
        "id": "fpSzgFEGmV6Q"
      },
      "source": [
        "class KMeans:\r\n",
        "  def __init__(self,k:int)->None:\r\n",
        "    self.k = k\r\n",
        "    self.means = None\r\n",
        "  \r\n",
        "  def classify(self,inputs:List[Vector])->None:\r\n",
        "    \"\"\"送回最接近輸入的集群索引值\"\"\"\r\n",
        "    return min(range(self.k),key=lambda i:squared_distance(input,self.means[i]))\r\n",
        "  \r\n",
        "  def train(self,inputs:List[Vector])->None:\r\n",
        "    for _ in t:\r\n",
        "      # 計算平均值並找出新的集群分配結果\r\n",
        "      self.means = cluster_means(self.k,inputs,assignment)\r\n",
        "      new_assigments = [self.classify(input) for input in inputs]\r\n",
        "\r\n",
        "      # 檢查有幾個分配結果出現變化，並判斷是否已經完成\r\n",
        "      num_changed = num_differences(assignment,new_assigments)\r\n",
        "      if num_changed == 0:\r\n",
        "        return\r\n",
        "      \r\n",
        "      # 如果尚未完成，就繼續重新分配集群，並計算新的平均值\r\n",
        "      assignment = new_"
      ],
      "execution_count": null,
      "outputs": []
    }
  ]
}