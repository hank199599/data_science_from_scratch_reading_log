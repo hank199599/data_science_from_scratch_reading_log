{
  "nbformat": 4,
  "nbformat_minor": 0,
  "metadata": {
    "colab": {
      "name": "Chapter21.ipynb",
      "provenance": [],
      "authorship_tag": "ABX9TyPINo036ZFZHJtP78w+gwdQ",
      "include_colab_link": true
    },
    "kernelspec": {
      "name": "python3",
      "display_name": "Python 3"
    }
  },
  "cells": [
    {
      "cell_type": "markdown",
      "metadata": {
        "id": "view-in-github",
        "colab_type": "text"
      },
      "source": [
        "<a href=\"https://colab.research.google.com/github/hank199599/data_science_from_scratch_reading_log/blob/main/Chapter21.ipynb\" target=\"_parent\"><img src=\"https://colab.research.google.com/assets/colab-badge.svg\" alt=\"Open In Colab\"/></a>"
      ]
    },
    {
      "cell_type": "markdown",
      "metadata": {
        "id": "tyMfkcTT2RGg"
      },
      "source": [
        "# 自然語言處理(NLP,Nature Language Process)\r\n",
        "指的是一些與自然語言相關的計算技術"
      ]
    },
    {
      "cell_type": "code",
      "metadata": {
        "id": "mWyI25qhGPfT"
      },
      "source": [
        ""
      ],
      "execution_count": null,
      "outputs": []
    },
    {
      "cell_type": "markdown",
      "metadata": {
        "id": "Pa9RrG8H2wci"
      },
      "source": [
        "# 單詞雲 (word clouds)\r\n",
        "根據單詞出現的次數，來決定字體的大小。"
      ]
    },
    {
      "cell_type": "markdown",
      "metadata": {
        "id": "qh3BSnzy3RTe"
      },
      "source": [
        "# N-gram 語言模型"
      ]
    },
    {
      "cell_type": "markdown",
      "metadata": {
        "id": "gd_Pgneh3VOO"
      },
      "source": [
        "## 2-gram (bigram)\r\n",
        "1. 針對某個起始單詞，查出原始文件中皆在這個單詞後面的所有單詞\r\n",
        "2. 自其中隨機選擇一個做為下一個單詞\r\n",
        "3. 重複這個動作(1. 2.)直到選中代表句子結束的句號。"
      ]
    }
  ]
}