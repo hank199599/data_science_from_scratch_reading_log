{
  "nbformat": 4,
  "nbformat_minor": 0,
  "metadata": {
    "colab": {
      "name": "Chapter8.ipynb",
      "provenance": [],
      "authorship_tag": "ABX9TyOZGjRc8r/R2T+IO/3QFpbg",
      "include_colab_link": true
    },
    "kernelspec": {
      "name": "python3",
      "display_name": "Python 3"
    }
  },
  "cells": [
    {
      "cell_type": "markdown",
      "metadata": {
        "id": "view-in-github",
        "colab_type": "text"
      },
      "source": [
        "<a href=\"https://colab.research.google.com/github/hank199599/data_science_from_scratch_reading_log/blob/main/Chapter8.ipynb\" target=\"_parent\"><img src=\"https://colab.research.google.com/assets/colab-badge.svg\" alt=\"Open In Colab\"/></a>"
      ]
    },
    {
      "cell_type": "markdown",
      "metadata": {
        "id": "yMtyZZeBlCfk"
      },
      "source": [
        "進行這專案前，需要引用第四章的向量定義來進行初始化"
      ]
    },
    {
      "cell_type": "code",
      "metadata": {
        "id": "mWyI25qhGPfT"
      },
      "source": [
        "from typing import List\n",
        "\n",
        "Vector = List[float]\n",
        "\n",
        "def dot(v:Vector,w:Vector)->float:\n",
        "  #計算v_1*w_1+... +v_n*w_n\n",
        "  assert len(v)==len(w),\"兩個向量必須有相同的維度\"\n",
        "\n",
        "  return sum(v_i*w_i for v_i,w_i in zip(v,w))"
      ],
      "execution_count": 1,
      "outputs": []
    },
    {
      "cell_type": "markdown",
      "metadata": {
        "id": "ejvodcbrkhK9"
      },
      "source": [
        "# 梯度遞減(gradient descent)\n",
        "用於找出某個輸入值v，使函數得出的最大值(或最小值)的可能值"
      ]
    },
    {
      "cell_type": "code",
      "metadata": {
        "id": "COYuPhDDlPlE"
      },
      "source": [
        "def sum_of_square(v:Vector)->float:\n",
        "  \"\"\"計算v之中的平方和\"\"\"\n",
        "  return dot(v,v)"
      ],
      "execution_count": null,
      "outputs": []
    },
    {
      "cell_type": "markdown",
      "metadata": {
        "id": "4Zs16UC6lnvk"
      },
      "source": [
        "## 梯度(*gradient*)：向量的偏導數\n",
        "  \n",
        "欲求出函數的**最大值**：\n",
        "1. 取個隨機的起始點\n",
        "2. 計算其梯度\n",
        "3. 沿著梯度方向(即函數增長最多的方向)移動一小步\n",
        "\n",
        "欲求出函數的**最小值**： \n",
        "1. 取個隨機的起始點\n",
        "2. 計算其梯度\n",
        "3. 沿著梯度**反方向**移動一小步"
      ]
    },
    {
      "cell_type": "markdown",
      "metadata": {
        "id": "G2f709NOnC3e"
      },
      "source": [
        "### 圖8-1  利用梯度遞減的概念，來找出最小值\n",
        "![pic 8-1](https://lh3.googleusercontent.com/25UnUOO0nEydtbTOO2oImdEs9gcZCRAV605Rcyj3sq7R1sJvhiAbrXCU4NOAmk7e2Fy13nqZr_sUtttgzGKjWukxsSyTtjXdPcERR-fQNODiKqjJJEzJkyDhweAINiXpE5DSI9u9pOIsctPLXFkum9tWDjil3td9ZuhrXAtQUzjXI6urrOARRVK0RTcve7QzKqKrkXUVESGc09MEX5aZ-WQzbClFJUInfZcyAF6p5AZd6RXw2f5-PfQ5d_LVAA97lukdnup3ZmvR5NaSBbBsoe40F8vPe3RdukmBAd-QfhluROmTQ38S5CKazKeINvzg91naEWsiKo_0AVuyS9PZVLg2kLEf7qGmyH5bo0vi__kwA3Jgu4MNw50PGJjOFWkVVVB9MVWbiUmMXoOebxLPkgFnIWRprkvMkj1dMc1HjB3A2TBT5fFS-3A3MzPOJ4DoVY8B939t5zkUAbBSpA83h8oFeepa2jwKahH-GavgLsmuq_U8OB0-n9TlfEMSgxFbJS01uyQ5_epjH12olp7prDN9vowxAHyW62GqdTK5HJDVQEa2ZdYK26pooJFUibhwf88ub7qsn-z3mrM1y4qro-087Drt97_AcctWW7uccCoEePXB3fpzKgIfkxztD4MGnsDaYfucJOTKD3I5UK3o7L8rMCIlMPuT_mxsi6Au618iDwYmEZMv7IszQ8LdUQ=w762-h559-no?authuser=0)\n",
        "  \n",
        "如果函數只有一個局域最小值，則我們能輕易找到這個值，但如果函數有好幾個極小值,就有可能找錯點。  \n",
        "如果函數根本沒有最小值，則會陷入無限迴圈。"
      ]
    },
    {
      "cell_type": "markdown",
      "metadata": {
        "id": "DP4yfRfTpEX8"
      },
      "source": [
        "# 梯度的估算\n",
        "\n",
        "如果f函數只有一個變數  \n",
        "在點X所謂的導數(derivative)就是衡量x出現微小變化時f(x)跟著變化的程度。"
      ]
    },
    {
      "cell_type": "markdown",
      "metadata": {
        "id": "OaBX9girqPNE"
      },
      "source": [
        "導數可以定義為商差(difference quotient)的極限：  \n",
        "其中h趨近於0"
      ]
    },
    {
      "cell_type": "code",
      "metadata": {
        "id": "kvVdcSJEox28"
      },
      "source": [
        "from typing import Callable\n",
        "\n",
        "def difference_quotient(f:Callable[[float],float],x:float,h:float)->float:\n",
        "  return (f(x+h)-f(x))/h"
      ],
      "execution_count": 8,
      "outputs": []
    },
    {
      "cell_type": "markdown",
      "metadata": {
        "id": "qhwRr0WRpjBD"
      },
      "source": [
        "### 圖8-2 利用商差的定義來趨近導數的定義\n",
        "導數就是(x,f(x))這個點的切線斜率，  \n",
        "而商差則是穿越(x,f(x))和(x+h,f(x+h))這兩點的割線斜率。  \n",
        "隨著h趨近於0，割線與切線會越來越近。\n",
        "  \n",
        "![pic 8-2](https://lh3.googleusercontent.com/rbCDonyegkqDkirKhNAsGChU0Gd4LjZKC8BkG1intRmjxE0SPr0OG_25WBOS7hfW5vWvgIVkFN7VoYZN4jifGkobb7ycEhyPzSrXWjv1eGEZroC8c5PM5tMB_YO-7z7t2VnIymYTKClJAzSsLfe7hpgmIXVNSNIWi7YARrr34BiMQYrOBQzE5xUM-ZaN-sm9D5zOsiSSAsXvXO6JMknT6jlPrvUK-9LmbTFH6b5zMSv9hwpFbF-fE18Hyr6-Y9XqTa09ZVkzbrwkd_31VQLhovJZAA5uOcGJHnSfG_66HWXPhWQBXKcbBb143uCANyzIscyR5eAYBtoORlnlWchL3p0FeQ2QWebutOMQ0_VaOh1xbIjbfV7Mx17EeFQRGNv0gYhRwMM7RZRlsfSJbq_MVhTiLr0uASpqOq7Kk2ponK0MBvBVPK93Gh3hUcgu-CQj8toy3Xo9qBfqedxLzPy_0Yl0ZfHkA7dLXqUJNvdJU0T2q1s1lmcSP66t-bTid3GZtnSVqNi7jO3N3TPgW74AA1zepO5SbIo-6uzz7lK1_nk9StqWg2j1z0ovIezAQVieVGjB9TBOMct-RiCN31oLp5I0dIvN6KUQA0IxwUan9s0xuKmcc7ZmioHJQqfw3PYNqsAc1fmUz7a-dJ-iDp67b4AZa-ADVWXQgVD6ic1ymwjo-mcl08f3iMNPLGcIWQ=w971-h708-no?authuser=0)"
      ]
    },
    {
      "cell_type": "markdown",
      "metadata": {
        "id": "uRe1RG0Vq_89"
      },
      "source": [
        "### 範例：平方函數"
      ]
    },
    {
      "cell_type": "code",
      "metadata": {
        "id": "07koYVJlrCRr"
      },
      "source": [
        "#平方函數\n",
        "def square(x:float)->float:\n",
        "  return x*x"
      ],
      "execution_count": 4,
      "outputs": []
    },
    {
      "cell_type": "code",
      "metadata": {
        "id": "zVgIbutqrJOj"
      },
      "source": [
        "#平方函數的導數\n",
        "def devivative(x:float)->float:\n",
        "  return 2*x"
      ],
      "execution_count": 3,
      "outputs": []
    },
    {
      "cell_type": "markdown",
      "metadata": {
        "id": "ksSzVY-2ralL"
      },
      "source": [
        "### 圖8-3 利用商差獲取導數的結果"
      ]
    },
    {
      "cell_type": "code",
      "metadata": {
        "id": "u2q3vuxQrg2z",
        "outputId": "9d226efa-d9b5-4090-a2f3-ef0aedb6e5a7",
        "colab": {
          "base_uri": "https://localhost:8080/",
          "height": 281
        }
      },
      "source": [
        "xs = range(-10,11)\n",
        "actuals =[devivative(x) for x in xs]\n",
        "estimates = [difference_quotient(square,x,h=0.001) for x in xs]\n",
        "\n",
        "#畫出圖形來比較兩者\n",
        "import matplotlib.pyplot as plt\n",
        "plt.title(\"Actual Derivatives vs. Estimates\")\n",
        "plt.plot(xs, actuals ,'rx',label='Actual')    #用紅色x表示\n",
        "plt.plot(xs, estimates ,'b+',label='Estimates') #用藍色+表示\n",
        "plt.legend(loc=9)\n",
        "plt.show()"
      ],
      "execution_count": 10,
      "outputs": [
        {
          "output_type": "display_data",
          "data": {
            "image/png": "[encoded data removed]",
            "text/plain": [
              "<Figure size 432x288 with 1 Axes>"
            ]
          },
          "metadata": {
            "tags": [],
            "needs_background": "light"
          }
        }
      ]
    },
    {
      "cell_type": "markdown",
      "metadata": {
        "id": "R7yRQ1Wrs9vM"
      },
      "source": [
        "## 偏導數\n",
        "如果f是個多變數函數，就會有多個偏導數"
      ]
    },
    {
      "cell_type": "code",
      "metadata": {
        "id": "W51prdTqtJMQ"
      },
      "source": [
        "def partitial_difference_quotient(f:Callable[[float],float],v:Vector,i:int,h:float) ->float:\n",
        "  \"\"\"送回f在v中第i個元素所對應的差商\"\"\"\n",
        "  w = [v_j + (h if i else 0) for i in range(len(v))]\n",
        "  return (f(w)-f(v))/h"
      ],
      "execution_count": null,
      "outputs": []
    }
  ]
}